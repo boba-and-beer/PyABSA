{
  "nbformat": 4,
  "nbformat_minor": 0,
  "metadata": {
    "colab": {
      "provenance": [],
      "collapsed_sections": []
    },
    "kernelspec": {
      "name": "python3",
      "display_name": "Python 3"
    },
    "language_info": {
      "name": "python"
    },
    "widgets": {
      "application/vnd.jupyter.widget-state+json": {
        "0ef3087a928d43bdb1ef694472251f3c": {
          "model_module": "@jupyter-widgets/controls",
          "model_name": "HBoxModel",
          "model_module_version": "1.5.0",
          "state": {
            "_dom_classes": [],
            "_model_module": "@jupyter-widgets/controls",
            "_model_module_version": "1.5.0",
            "_model_name": "HBoxModel",
            "_view_count": null,
            "_view_module": "@jupyter-widgets/controls",
            "_view_module_version": "1.5.0",
            "_view_name": "HBoxView",
            "box_style": "",
            "children": [
              "IPY_MODEL_f9913225fc4241f1afb2de1571bd6a7d",
              "IPY_MODEL_27e99b479c8745ada5d793808502f529",
              "IPY_MODEL_d9dd1a3e7f6547858ca958106a10405f"
            ],
            "layout": "IPY_MODEL_b68c7c88436645299add72007f023911"
          }
        },
        "f9913225fc4241f1afb2de1571bd6a7d": {
          "model_module": "@jupyter-widgets/controls",
          "model_name": "HTMLModel",
          "model_module_version": "1.5.0",
          "state": {
            "_dom_classes": [],
            "_model_module": "@jupyter-widgets/controls",
            "_model_module_version": "1.5.0",
            "_model_name": "HTMLModel",
            "_view_count": null,
            "_view_module": "@jupyter-widgets/controls",
            "_view_module_version": "1.5.0",
            "_view_name": "HTMLView",
            "description": "",
            "description_tooltip": null,
            "layout": "IPY_MODEL_f42640257b6146f7b192ab39ace60498",
            "placeholder": "​",
            "style": "IPY_MODEL_cf0ebbe4ccaa49be8cd9517fd85ceb16",
            "value": "Downloading config.json: 100%"
          }
        },
        "27e99b479c8745ada5d793808502f529": {
          "model_module": "@jupyter-widgets/controls",
          "model_name": "FloatProgressModel",
          "model_module_version": "1.5.0",
          "state": {
            "_dom_classes": [],
            "_model_module": "@jupyter-widgets/controls",
            "_model_module_version": "1.5.0",
            "_model_name": "FloatProgressModel",
            "_view_count": null,
            "_view_module": "@jupyter-widgets/controls",
            "_view_module_version": "1.5.0",
            "_view_name": "ProgressView",
            "bar_style": "success",
            "description": "",
            "description_tooltip": null,
            "layout": "IPY_MODEL_1840679f58f3418c8d1dfa3e83900748",
            "max": 579,
            "min": 0,
            "orientation": "horizontal",
            "style": "IPY_MODEL_ece86643e2af47349b98b63b664427d6",
            "value": 579
          }
        },
        "d9dd1a3e7f6547858ca958106a10405f": {
          "model_module": "@jupyter-widgets/controls",
          "model_name": "HTMLModel",
          "model_module_version": "1.5.0",
          "state": {
            "_dom_classes": [],
            "_model_module": "@jupyter-widgets/controls",
            "_model_module_version": "1.5.0",
            "_model_name": "HTMLModel",
            "_view_count": null,
            "_view_module": "@jupyter-widgets/controls",
            "_view_module_version": "1.5.0",
            "_view_name": "HTMLView",
            "description": "",
            "description_tooltip": null,
            "layout": "IPY_MODEL_2e302bb65f844238ac564527d66c9c3e",
            "placeholder": "​",
            "style": "IPY_MODEL_eeda166df96143e3a82451aafbfc08d6",
            "value": " 579/579 [00:00&lt;00:00, 16.9kB/s]"
          }
        },
        "b68c7c88436645299add72007f023911": {
          "model_module": "@jupyter-widgets/base",
          "model_name": "LayoutModel",
          "model_module_version": "1.2.0",
          "state": {
            "_model_module": "@jupyter-widgets/base",
            "_model_module_version": "1.2.0",
            "_model_name": "LayoutModel",
            "_view_count": null,
            "_view_module": "@jupyter-widgets/base",
            "_view_module_version": "1.2.0",
            "_view_name": "LayoutView",
            "align_content": null,
            "align_items": null,
            "align_self": null,
            "border": null,
            "bottom": null,
            "display": null,
            "flex": null,
            "flex_flow": null,
            "grid_area": null,
            "grid_auto_columns": null,
            "grid_auto_flow": null,
            "grid_auto_rows": null,
            "grid_column": null,
            "grid_gap": null,
            "grid_row": null,
            "grid_template_areas": null,
            "grid_template_columns": null,
            "grid_template_rows": null,
            "height": null,
            "justify_content": null,
            "justify_items": null,
            "left": null,
            "margin": null,
            "max_height": null,
            "max_width": null,
            "min_height": null,
            "min_width": null,
            "object_fit": null,
            "object_position": null,
            "order": null,
            "overflow": null,
            "overflow_x": null,
            "overflow_y": null,
            "padding": null,
            "right": null,
            "top": null,
            "visibility": null,
            "width": null
          }
        },
        "f42640257b6146f7b192ab39ace60498": {
          "model_module": "@jupyter-widgets/base",
          "model_name": "LayoutModel",
          "model_module_version": "1.2.0",
          "state": {
            "_model_module": "@jupyter-widgets/base",
            "_model_module_version": "1.2.0",
            "_model_name": "LayoutModel",
            "_view_count": null,
            "_view_module": "@jupyter-widgets/base",
            "_view_module_version": "1.2.0",
            "_view_name": "LayoutView",
            "align_content": null,
            "align_items": null,
            "align_self": null,
            "border": null,
            "bottom": null,
            "display": null,
            "flex": null,
            "flex_flow": null,
            "grid_area": null,
            "grid_auto_columns": null,
            "grid_auto_flow": null,
            "grid_auto_rows": null,
            "grid_column": null,
            "grid_gap": null,
            "grid_row": null,
            "grid_template_areas": null,
            "grid_template_columns": null,
            "grid_template_rows": null,
            "height": null,
            "justify_content": null,
            "justify_items": null,
            "left": null,
            "margin": null,
            "max_height": null,
            "max_width": null,
            "min_height": null,
            "min_width": null,
            "object_fit": null,
            "object_position": null,
            "order": null,
            "overflow": null,
            "overflow_x": null,
            "overflow_y": null,
            "padding": null,
            "right": null,
            "top": null,
            "visibility": null,
            "width": null
          }
        },
        "cf0ebbe4ccaa49be8cd9517fd85ceb16": {
          "model_module": "@jupyter-widgets/controls",
          "model_name": "DescriptionStyleModel",
          "model_module_version": "1.5.0",
          "state": {
            "_model_module": "@jupyter-widgets/controls",
            "_model_module_version": "1.5.0",
            "_model_name": "DescriptionStyleModel",
            "_view_count": null,
            "_view_module": "@jupyter-widgets/base",
            "_view_module_version": "1.2.0",
            "_view_name": "StyleView",
            "description_width": ""
          }
        },
        "1840679f58f3418c8d1dfa3e83900748": {
          "model_module": "@jupyter-widgets/base",
          "model_name": "LayoutModel",
          "model_module_version": "1.2.0",
          "state": {
            "_model_module": "@jupyter-widgets/base",
            "_model_module_version": "1.2.0",
            "_model_name": "LayoutModel",
            "_view_count": null,
            "_view_module": "@jupyter-widgets/base",
            "_view_module_version": "1.2.0",
            "_view_name": "LayoutView",
            "align_content": null,
            "align_items": null,
            "align_self": null,
            "border": null,
            "bottom": null,
            "display": null,
            "flex": null,
            "flex_flow": null,
            "grid_area": null,
            "grid_auto_columns": null,
            "grid_auto_flow": null,
            "grid_auto_rows": null,
            "grid_column": null,
            "grid_gap": null,
            "grid_row": null,
            "grid_template_areas": null,
            "grid_template_columns": null,
            "grid_template_rows": null,
            "height": null,
            "justify_content": null,
            "justify_items": null,
            "left": null,
            "margin": null,
            "max_height": null,
            "max_width": null,
            "min_height": null,
            "min_width": null,
            "object_fit": null,
            "object_position": null,
            "order": null,
            "overflow": null,
            "overflow_x": null,
            "overflow_y": null,
            "padding": null,
            "right": null,
            "top": null,
            "visibility": null,
            "width": null
          }
        },
        "ece86643e2af47349b98b63b664427d6": {
          "model_module": "@jupyter-widgets/controls",
          "model_name": "ProgressStyleModel",
          "model_module_version": "1.5.0",
          "state": {
            "_model_module": "@jupyter-widgets/controls",
            "_model_module_version": "1.5.0",
            "_model_name": "ProgressStyleModel",
            "_view_count": null,
            "_view_module": "@jupyter-widgets/base",
            "_view_module_version": "1.2.0",
            "_view_name": "StyleView",
            "bar_color": null,
            "description_width": ""
          }
        },
        "2e302bb65f844238ac564527d66c9c3e": {
          "model_module": "@jupyter-widgets/base",
          "model_name": "LayoutModel",
          "model_module_version": "1.2.0",
          "state": {
            "_model_module": "@jupyter-widgets/base",
            "_model_module_version": "1.2.0",
            "_model_name": "LayoutModel",
            "_view_count": null,
            "_view_module": "@jupyter-widgets/base",
            "_view_module_version": "1.2.0",
            "_view_name": "LayoutView",
            "align_content": null,
            "align_items": null,
            "align_self": null,
            "border": null,
            "bottom": null,
            "display": null,
            "flex": null,
            "flex_flow": null,
            "grid_area": null,
            "grid_auto_columns": null,
            "grid_auto_flow": null,
            "grid_auto_rows": null,
            "grid_column": null,
            "grid_gap": null,
            "grid_row": null,
            "grid_template_areas": null,
            "grid_template_columns": null,
            "grid_template_rows": null,
            "height": null,
            "justify_content": null,
            "justify_items": null,
            "left": null,
            "margin": null,
            "max_height": null,
            "max_width": null,
            "min_height": null,
            "min_width": null,
            "object_fit": null,
            "object_position": null,
            "order": null,
            "overflow": null,
            "overflow_x": null,
            "overflow_y": null,
            "padding": null,
            "right": null,
            "top": null,
            "visibility": null,
            "width": null
          }
        },
        "eeda166df96143e3a82451aafbfc08d6": {
          "model_module": "@jupyter-widgets/controls",
          "model_name": "DescriptionStyleModel",
          "model_module_version": "1.5.0",
          "state": {
            "_model_module": "@jupyter-widgets/controls",
            "_model_module_version": "1.5.0",
            "_model_name": "DescriptionStyleModel",
            "_view_count": null,
            "_view_module": "@jupyter-widgets/base",
            "_view_module_version": "1.2.0",
            "_view_name": "StyleView",
            "description_width": ""
          }
        },
        "6021361a5c8e4d3eb02cbdf882922549": {
          "model_module": "@jupyter-widgets/controls",
          "model_name": "HBoxModel",
          "model_module_version": "1.5.0",
          "state": {
            "_dom_classes": [],
            "_model_module": "@jupyter-widgets/controls",
            "_model_module_version": "1.5.0",
            "_model_name": "HBoxModel",
            "_view_count": null,
            "_view_module": "@jupyter-widgets/controls",
            "_view_module_version": "1.5.0",
            "_view_name": "HBoxView",
            "box_style": "",
            "children": [
              "IPY_MODEL_81b4f70e86584cf19fdf96580e29f400",
              "IPY_MODEL_cf44bd1957174a079540408b22267036",
              "IPY_MODEL_36a85b06b31e415bb563d5a487f510b9"
            ],
            "layout": "IPY_MODEL_5fed40f8546c40418669e76a4ec4589b"
          }
        },
        "81b4f70e86584cf19fdf96580e29f400": {
          "model_module": "@jupyter-widgets/controls",
          "model_name": "HTMLModel",
          "model_module_version": "1.5.0",
          "state": {
            "_dom_classes": [],
            "_model_module": "@jupyter-widgets/controls",
            "_model_module_version": "1.5.0",
            "_model_name": "HTMLModel",
            "_view_count": null,
            "_view_module": "@jupyter-widgets/controls",
            "_view_module_version": "1.5.0",
            "_view_name": "HTMLView",
            "description": "",
            "description_tooltip": null,
            "layout": "IPY_MODEL_3aa60576e76e42c9b96f58664e5f122a",
            "placeholder": "​",
            "style": "IPY_MODEL_7f8eec66938b42dc81eb7162ec940569",
            "value": "Downloading tokenizer_config.json: 100%"
          }
        },
        "cf44bd1957174a079540408b22267036": {
          "model_module": "@jupyter-widgets/controls",
          "model_name": "FloatProgressModel",
          "model_module_version": "1.5.0",
          "state": {
            "_dom_classes": [],
            "_model_module": "@jupyter-widgets/controls",
            "_model_module_version": "1.5.0",
            "_model_name": "FloatProgressModel",
            "_view_count": null,
            "_view_module": "@jupyter-widgets/controls",
            "_view_module_version": "1.5.0",
            "_view_name": "ProgressView",
            "bar_style": "success",
            "description": "",
            "description_tooltip": null,
            "layout": "IPY_MODEL_6aac6a4651034b67afa81f85517266f5",
            "max": 52,
            "min": 0,
            "orientation": "horizontal",
            "style": "IPY_MODEL_f3fbd6e7a83e4797b6093d49dcd67a35",
            "value": 52
          }
        },
        "36a85b06b31e415bb563d5a487f510b9": {
          "model_module": "@jupyter-widgets/controls",
          "model_name": "HTMLModel",
          "model_module_version": "1.5.0",
          "state": {
            "_dom_classes": [],
            "_model_module": "@jupyter-widgets/controls",
            "_model_module_version": "1.5.0",
            "_model_name": "HTMLModel",
            "_view_count": null,
            "_view_module": "@jupyter-widgets/controls",
            "_view_module_version": "1.5.0",
            "_view_name": "HTMLView",
            "description": "",
            "description_tooltip": null,
            "layout": "IPY_MODEL_49ce1ce8d04a473391986c88bef8351e",
            "placeholder": "​",
            "style": "IPY_MODEL_08f5498687b4432799224f0905fa06fe",
            "value": " 52.0/52.0 [00:00&lt;00:00, 1.50kB/s]"
          }
        },
        "5fed40f8546c40418669e76a4ec4589b": {
          "model_module": "@jupyter-widgets/base",
          "model_name": "LayoutModel",
          "model_module_version": "1.2.0",
          "state": {
            "_model_module": "@jupyter-widgets/base",
            "_model_module_version": "1.2.0",
            "_model_name": "LayoutModel",
            "_view_count": null,
            "_view_module": "@jupyter-widgets/base",
            "_view_module_version": "1.2.0",
            "_view_name": "LayoutView",
            "align_content": null,
            "align_items": null,
            "align_self": null,
            "border": null,
            "bottom": null,
            "display": null,
            "flex": null,
            "flex_flow": null,
            "grid_area": null,
            "grid_auto_columns": null,
            "grid_auto_flow": null,
            "grid_auto_rows": null,
            "grid_column": null,
            "grid_gap": null,
            "grid_row": null,
            "grid_template_areas": null,
            "grid_template_columns": null,
            "grid_template_rows": null,
            "height": null,
            "justify_content": null,
            "justify_items": null,
            "left": null,
            "margin": null,
            "max_height": null,
            "max_width": null,
            "min_height": null,
            "min_width": null,
            "object_fit": null,
            "object_position": null,
            "order": null,
            "overflow": null,
            "overflow_x": null,
            "overflow_y": null,
            "padding": null,
            "right": null,
            "top": null,
            "visibility": null,
            "width": null
          }
        },
        "3aa60576e76e42c9b96f58664e5f122a": {
          "model_module": "@jupyter-widgets/base",
          "model_name": "LayoutModel",
          "model_module_version": "1.2.0",
          "state": {
            "_model_module": "@jupyter-widgets/base",
            "_model_module_version": "1.2.0",
            "_model_name": "LayoutModel",
            "_view_count": null,
            "_view_module": "@jupyter-widgets/base",
            "_view_module_version": "1.2.0",
            "_view_name": "LayoutView",
            "align_content": null,
            "align_items": null,
            "align_self": null,
            "border": null,
            "bottom": null,
            "display": null,
            "flex": null,
            "flex_flow": null,
            "grid_area": null,
            "grid_auto_columns": null,
            "grid_auto_flow": null,
            "grid_auto_rows": null,
            "grid_column": null,
            "grid_gap": null,
            "grid_row": null,
            "grid_template_areas": null,
            "grid_template_columns": null,
            "grid_template_rows": null,
            "height": null,
            "justify_content": null,
            "justify_items": null,
            "left": null,
            "margin": null,
            "max_height": null,
            "max_width": null,
            "min_height": null,
            "min_width": null,
            "object_fit": null,
            "object_position": null,
            "order": null,
            "overflow": null,
            "overflow_x": null,
            "overflow_y": null,
            "padding": null,
            "right": null,
            "top": null,
            "visibility": null,
            "width": null
          }
        },
        "7f8eec66938b42dc81eb7162ec940569": {
          "model_module": "@jupyter-widgets/controls",
          "model_name": "DescriptionStyleModel",
          "model_module_version": "1.5.0",
          "state": {
            "_model_module": "@jupyter-widgets/controls",
            "_model_module_version": "1.5.0",
            "_model_name": "DescriptionStyleModel",
            "_view_count": null,
            "_view_module": "@jupyter-widgets/base",
            "_view_module_version": "1.2.0",
            "_view_name": "StyleView",
            "description_width": ""
          }
        },
        "6aac6a4651034b67afa81f85517266f5": {
          "model_module": "@jupyter-widgets/base",
          "model_name": "LayoutModel",
          "model_module_version": "1.2.0",
          "state": {
            "_model_module": "@jupyter-widgets/base",
            "_model_module_version": "1.2.0",
            "_model_name": "LayoutModel",
            "_view_count": null,
            "_view_module": "@jupyter-widgets/base",
            "_view_module_version": "1.2.0",
            "_view_name": "LayoutView",
            "align_content": null,
            "align_items": null,
            "align_self": null,
            "border": null,
            "bottom": null,
            "display": null,
            "flex": null,
            "flex_flow": null,
            "grid_area": null,
            "grid_auto_columns": null,
            "grid_auto_flow": null,
            "grid_auto_rows": null,
            "grid_column": null,
            "grid_gap": null,
            "grid_row": null,
            "grid_template_areas": null,
            "grid_template_columns": null,
            "grid_template_rows": null,
            "height": null,
            "justify_content": null,
            "justify_items": null,
            "left": null,
            "margin": null,
            "max_height": null,
            "max_width": null,
            "min_height": null,
            "min_width": null,
            "object_fit": null,
            "object_position": null,
            "order": null,
            "overflow": null,
            "overflow_x": null,
            "overflow_y": null,
            "padding": null,
            "right": null,
            "top": null,
            "visibility": null,
            "width": null
          }
        },
        "f3fbd6e7a83e4797b6093d49dcd67a35": {
          "model_module": "@jupyter-widgets/controls",
          "model_name": "ProgressStyleModel",
          "model_module_version": "1.5.0",
          "state": {
            "_model_module": "@jupyter-widgets/controls",
            "_model_module_version": "1.5.0",
            "_model_name": "ProgressStyleModel",
            "_view_count": null,
            "_view_module": "@jupyter-widgets/base",
            "_view_module_version": "1.2.0",
            "_view_name": "StyleView",
            "bar_color": null,
            "description_width": ""
          }
        },
        "49ce1ce8d04a473391986c88bef8351e": {
          "model_module": "@jupyter-widgets/base",
          "model_name": "LayoutModel",
          "model_module_version": "1.2.0",
          "state": {
            "_model_module": "@jupyter-widgets/base",
            "_model_module_version": "1.2.0",
            "_model_name": "LayoutModel",
            "_view_count": null,
            "_view_module": "@jupyter-widgets/base",
            "_view_module_version": "1.2.0",
            "_view_name": "LayoutView",
            "align_content": null,
            "align_items": null,
            "align_self": null,
            "border": null,
            "bottom": null,
            "display": null,
            "flex": null,
            "flex_flow": null,
            "grid_area": null,
            "grid_auto_columns": null,
            "grid_auto_flow": null,
            "grid_auto_rows": null,
            "grid_column": null,
            "grid_gap": null,
            "grid_row": null,
            "grid_template_areas": null,
            "grid_template_columns": null,
            "grid_template_rows": null,
            "height": null,
            "justify_content": null,
            "justify_items": null,
            "left": null,
            "margin": null,
            "max_height": null,
            "max_width": null,
            "min_height": null,
            "min_width": null,
            "object_fit": null,
            "object_position": null,
            "order": null,
            "overflow": null,
            "overflow_x": null,
            "overflow_y": null,
            "padding": null,
            "right": null,
            "top": null,
            "visibility": null,
            "width": null
          }
        },
        "08f5498687b4432799224f0905fa06fe": {
          "model_module": "@jupyter-widgets/controls",
          "model_name": "DescriptionStyleModel",
          "model_module_version": "1.5.0",
          "state": {
            "_model_module": "@jupyter-widgets/controls",
            "_model_module_version": "1.5.0",
            "_model_name": "DescriptionStyleModel",
            "_view_count": null,
            "_view_module": "@jupyter-widgets/base",
            "_view_module_version": "1.2.0",
            "_view_name": "StyleView",
            "description_width": ""
          }
        },
        "38c070027cc94165ae138ea82d7fe298": {
          "model_module": "@jupyter-widgets/controls",
          "model_name": "HBoxModel",
          "model_module_version": "1.5.0",
          "state": {
            "_dom_classes": [],
            "_model_module": "@jupyter-widgets/controls",
            "_model_module_version": "1.5.0",
            "_model_name": "HBoxModel",
            "_view_count": null,
            "_view_module": "@jupyter-widgets/controls",
            "_view_module_version": "1.5.0",
            "_view_name": "HBoxView",
            "box_style": "",
            "children": [
              "IPY_MODEL_693ab4dfbe3d4099a9f20c20461bf99e",
              "IPY_MODEL_96dfdeb7688c4653a0f04f3c005e6b5c",
              "IPY_MODEL_4f0c7ae4f8024c5a9249a45cd8e69fa9"
            ],
            "layout": "IPY_MODEL_dd3aa98786114a10b617bf4d04eafb58"
          }
        },
        "693ab4dfbe3d4099a9f20c20461bf99e": {
          "model_module": "@jupyter-widgets/controls",
          "model_name": "HTMLModel",
          "model_module_version": "1.5.0",
          "state": {
            "_dom_classes": [],
            "_model_module": "@jupyter-widgets/controls",
            "_model_module_version": "1.5.0",
            "_model_name": "HTMLModel",
            "_view_count": null,
            "_view_module": "@jupyter-widgets/controls",
            "_view_module_version": "1.5.0",
            "_view_name": "HTMLView",
            "description": "",
            "description_tooltip": null,
            "layout": "IPY_MODEL_b047aadb7b7640ad86fcedfb801b7908",
            "placeholder": "​",
            "style": "IPY_MODEL_4defbf4e2a304e89a15285a799d64c49",
            "value": "Downloading spm.model: 100%"
          }
        },
        "96dfdeb7688c4653a0f04f3c005e6b5c": {
          "model_module": "@jupyter-widgets/controls",
          "model_name": "FloatProgressModel",
          "model_module_version": "1.5.0",
          "state": {
            "_dom_classes": [],
            "_model_module": "@jupyter-widgets/controls",
            "_model_module_version": "1.5.0",
            "_model_name": "FloatProgressModel",
            "_view_count": null,
            "_view_module": "@jupyter-widgets/controls",
            "_view_module_version": "1.5.0",
            "_view_name": "ProgressView",
            "bar_style": "success",
            "description": "",
            "description_tooltip": null,
            "layout": "IPY_MODEL_1be5f1ac0db14510b27b4457c110fc5e",
            "max": 2464616,
            "min": 0,
            "orientation": "horizontal",
            "style": "IPY_MODEL_e8c96f8f06f4485587cd58a3d643a502",
            "value": 2464616
          }
        },
        "4f0c7ae4f8024c5a9249a45cd8e69fa9": {
          "model_module": "@jupyter-widgets/controls",
          "model_name": "HTMLModel",
          "model_module_version": "1.5.0",
          "state": {
            "_dom_classes": [],
            "_model_module": "@jupyter-widgets/controls",
            "_model_module_version": "1.5.0",
            "_model_name": "HTMLModel",
            "_view_count": null,
            "_view_module": "@jupyter-widgets/controls",
            "_view_module_version": "1.5.0",
            "_view_name": "HTMLView",
            "description": "",
            "description_tooltip": null,
            "layout": "IPY_MODEL_200d5f61c4794c9fa44fd9d78e208540",
            "placeholder": "​",
            "style": "IPY_MODEL_99ec6c69b82343889e01676ceb21fea7",
            "value": " 2.35M/2.35M [00:00&lt;00:00, 24.1MB/s]"
          }
        },
        "dd3aa98786114a10b617bf4d04eafb58": {
          "model_module": "@jupyter-widgets/base",
          "model_name": "LayoutModel",
          "model_module_version": "1.2.0",
          "state": {
            "_model_module": "@jupyter-widgets/base",
            "_model_module_version": "1.2.0",
            "_model_name": "LayoutModel",
            "_view_count": null,
            "_view_module": "@jupyter-widgets/base",
            "_view_module_version": "1.2.0",
            "_view_name": "LayoutView",
            "align_content": null,
            "align_items": null,
            "align_self": null,
            "border": null,
            "bottom": null,
            "display": null,
            "flex": null,
            "flex_flow": null,
            "grid_area": null,
            "grid_auto_columns": null,
            "grid_auto_flow": null,
            "grid_auto_rows": null,
            "grid_column": null,
            "grid_gap": null,
            "grid_row": null,
            "grid_template_areas": null,
            "grid_template_columns": null,
            "grid_template_rows": null,
            "height": null,
            "justify_content": null,
            "justify_items": null,
            "left": null,
            "margin": null,
            "max_height": null,
            "max_width": null,
            "min_height": null,
            "min_width": null,
            "object_fit": null,
            "object_position": null,
            "order": null,
            "overflow": null,
            "overflow_x": null,
            "overflow_y": null,
            "padding": null,
            "right": null,
            "top": null,
            "visibility": null,
            "width": null
          }
        },
        "b047aadb7b7640ad86fcedfb801b7908": {
          "model_module": "@jupyter-widgets/base",
          "model_name": "LayoutModel",
          "model_module_version": "1.2.0",
          "state": {
            "_model_module": "@jupyter-widgets/base",
            "_model_module_version": "1.2.0",
            "_model_name": "LayoutModel",
            "_view_count": null,
            "_view_module": "@jupyter-widgets/base",
            "_view_module_version": "1.2.0",
            "_view_name": "LayoutView",
            "align_content": null,
            "align_items": null,
            "align_self": null,
            "border": null,
            "bottom": null,
            "display": null,
            "flex": null,
            "flex_flow": null,
            "grid_area": null,
            "grid_auto_columns": null,
            "grid_auto_flow": null,
            "grid_auto_rows": null,
            "grid_column": null,
            "grid_gap": null,
            "grid_row": null,
            "grid_template_areas": null,
            "grid_template_columns": null,
            "grid_template_rows": null,
            "height": null,
            "justify_content": null,
            "justify_items": null,
            "left": null,
            "margin": null,
            "max_height": null,
            "max_width": null,
            "min_height": null,
            "min_width": null,
            "object_fit": null,
            "object_position": null,
            "order": null,
            "overflow": null,
            "overflow_x": null,
            "overflow_y": null,
            "padding": null,
            "right": null,
            "top": null,
            "visibility": null,
            "width": null
          }
        },
        "4defbf4e2a304e89a15285a799d64c49": {
          "model_module": "@jupyter-widgets/controls",
          "model_name": "DescriptionStyleModel",
          "model_module_version": "1.5.0",
          "state": {
            "_model_module": "@jupyter-widgets/controls",
            "_model_module_version": "1.5.0",
            "_model_name": "DescriptionStyleModel",
            "_view_count": null,
            "_view_module": "@jupyter-widgets/base",
            "_view_module_version": "1.2.0",
            "_view_name": "StyleView",
            "description_width": ""
          }
        },
        "1be5f1ac0db14510b27b4457c110fc5e": {
          "model_module": "@jupyter-widgets/base",
          "model_name": "LayoutModel",
          "model_module_version": "1.2.0",
          "state": {
            "_model_module": "@jupyter-widgets/base",
            "_model_module_version": "1.2.0",
            "_model_name": "LayoutModel",
            "_view_count": null,
            "_view_module": "@jupyter-widgets/base",
            "_view_module_version": "1.2.0",
            "_view_name": "LayoutView",
            "align_content": null,
            "align_items": null,
            "align_self": null,
            "border": null,
            "bottom": null,
            "display": null,
            "flex": null,
            "flex_flow": null,
            "grid_area": null,
            "grid_auto_columns": null,
            "grid_auto_flow": null,
            "grid_auto_rows": null,
            "grid_column": null,
            "grid_gap": null,
            "grid_row": null,
            "grid_template_areas": null,
            "grid_template_columns": null,
            "grid_template_rows": null,
            "height": null,
            "justify_content": null,
            "justify_items": null,
            "left": null,
            "margin": null,
            "max_height": null,
            "max_width": null,
            "min_height": null,
            "min_width": null,
            "object_fit": null,
            "object_position": null,
            "order": null,
            "overflow": null,
            "overflow_x": null,
            "overflow_y": null,
            "padding": null,
            "right": null,
            "top": null,
            "visibility": null,
            "width": null
          }
        },
        "e8c96f8f06f4485587cd58a3d643a502": {
          "model_module": "@jupyter-widgets/controls",
          "model_name": "ProgressStyleModel",
          "model_module_version": "1.5.0",
          "state": {
            "_model_module": "@jupyter-widgets/controls",
            "_model_module_version": "1.5.0",
            "_model_name": "ProgressStyleModel",
            "_view_count": null,
            "_view_module": "@jupyter-widgets/base",
            "_view_module_version": "1.2.0",
            "_view_name": "StyleView",
            "bar_color": null,
            "description_width": ""
          }
        },
        "200d5f61c4794c9fa44fd9d78e208540": {
          "model_module": "@jupyter-widgets/base",
          "model_name": "LayoutModel",
          "model_module_version": "1.2.0",
          "state": {
            "_model_module": "@jupyter-widgets/base",
            "_model_module_version": "1.2.0",
            "_model_name": "LayoutModel",
            "_view_count": null,
            "_view_module": "@jupyter-widgets/base",
            "_view_module_version": "1.2.0",
            "_view_name": "LayoutView",
            "align_content": null,
            "align_items": null,
            "align_self": null,
            "border": null,
            "bottom": null,
            "display": null,
            "flex": null,
            "flex_flow": null,
            "grid_area": null,
            "grid_auto_columns": null,
            "grid_auto_flow": null,
            "grid_auto_rows": null,
            "grid_column": null,
            "grid_gap": null,
            "grid_row": null,
            "grid_template_areas": null,
            "grid_template_columns": null,
            "grid_template_rows": null,
            "height": null,
            "justify_content": null,
            "justify_items": null,
            "left": null,
            "margin": null,
            "max_height": null,
            "max_width": null,
            "min_height": null,
            "min_width": null,
            "object_fit": null,
            "object_position": null,
            "order": null,
            "overflow": null,
            "overflow_x": null,
            "overflow_y": null,
            "padding": null,
            "right": null,
            "top": null,
            "visibility": null,
            "width": null
          }
        },
        "99ec6c69b82343889e01676ceb21fea7": {
          "model_module": "@jupyter-widgets/controls",
          "model_name": "DescriptionStyleModel",
          "model_module_version": "1.5.0",
          "state": {
            "_model_module": "@jupyter-widgets/controls",
            "_model_module_version": "1.5.0",
            "_model_name": "DescriptionStyleModel",
            "_view_count": null,
            "_view_module": "@jupyter-widgets/base",
            "_view_module_version": "1.2.0",
            "_view_name": "StyleView",
            "description_width": ""
          }
        },
        "6258877a7a46416f8e637127ab343b11": {
          "model_module": "@jupyter-widgets/controls",
          "model_name": "HBoxModel",
          "model_module_version": "1.5.0",
          "state": {
            "_dom_classes": [],
            "_model_module": "@jupyter-widgets/controls",
            "_model_module_version": "1.5.0",
            "_model_name": "HBoxModel",
            "_view_count": null,
            "_view_module": "@jupyter-widgets/controls",
            "_view_module_version": "1.5.0",
            "_view_name": "HBoxView",
            "box_style": "",
            "children": [
              "IPY_MODEL_01def9c7aff94cce92c87ee5bb9cb791",
              "IPY_MODEL_90eefa38ab9c439abfee7ddd2f2a2d43",
              "IPY_MODEL_54c4d9da5e454001a06ac2888a36756e"
            ],
            "layout": "IPY_MODEL_70984c53d40a4b128e6ad3d6dca21632"
          }
        },
        "01def9c7aff94cce92c87ee5bb9cb791": {
          "model_module": "@jupyter-widgets/controls",
          "model_name": "HTMLModel",
          "model_module_version": "1.5.0",
          "state": {
            "_dom_classes": [],
            "_model_module": "@jupyter-widgets/controls",
            "_model_module_version": "1.5.0",
            "_model_name": "HTMLModel",
            "_view_count": null,
            "_view_module": "@jupyter-widgets/controls",
            "_view_module_version": "1.5.0",
            "_view_name": "HTMLView",
            "description": "",
            "description_tooltip": null,
            "layout": "IPY_MODEL_e9d52e3c9e4f4526bc92057b96ee3396",
            "placeholder": "​",
            "style": "IPY_MODEL_100c8b051fb74a2cbe842af91adbaf85",
            "value": "Downloading pytorch_model.bin: 100%"
          }
        },
        "90eefa38ab9c439abfee7ddd2f2a2d43": {
          "model_module": "@jupyter-widgets/controls",
          "model_name": "FloatProgressModel",
          "model_module_version": "1.5.0",
          "state": {
            "_dom_classes": [],
            "_model_module": "@jupyter-widgets/controls",
            "_model_module_version": "1.5.0",
            "_model_name": "FloatProgressModel",
            "_view_count": null,
            "_view_module": "@jupyter-widgets/controls",
            "_view_module_version": "1.5.0",
            "_view_name": "ProgressView",
            "bar_style": "success",
            "description": "",
            "description_tooltip": null,
            "layout": "IPY_MODEL_1bf9236ecd9442ef87e797659432c94a",
            "max": 371146213,
            "min": 0,
            "orientation": "horizontal",
            "style": "IPY_MODEL_c1bc42da4f6b422a99e6e4bbf5d9357d",
            "value": 371146213
          }
        },
        "54c4d9da5e454001a06ac2888a36756e": {
          "model_module": "@jupyter-widgets/controls",
          "model_name": "HTMLModel",
          "model_module_version": "1.5.0",
          "state": {
            "_dom_classes": [],
            "_model_module": "@jupyter-widgets/controls",
            "_model_module_version": "1.5.0",
            "_model_name": "HTMLModel",
            "_view_count": null,
            "_view_module": "@jupyter-widgets/controls",
            "_view_module_version": "1.5.0",
            "_view_name": "HTMLView",
            "description": "",
            "description_tooltip": null,
            "layout": "IPY_MODEL_c3d83eec28d14ac8aabc46f6f717b920",
            "placeholder": "​",
            "style": "IPY_MODEL_13b1ee15c10a4d0ab7f76d630b7b63e0",
            "value": " 354M/354M [00:06&lt;00:00, 54.7MB/s]"
          }
        },
        "70984c53d40a4b128e6ad3d6dca21632": {
          "model_module": "@jupyter-widgets/base",
          "model_name": "LayoutModel",
          "model_module_version": "1.2.0",
          "state": {
            "_model_module": "@jupyter-widgets/base",
            "_model_module_version": "1.2.0",
            "_model_name": "LayoutModel",
            "_view_count": null,
            "_view_module": "@jupyter-widgets/base",
            "_view_module_version": "1.2.0",
            "_view_name": "LayoutView",
            "align_content": null,
            "align_items": null,
            "align_self": null,
            "border": null,
            "bottom": null,
            "display": null,
            "flex": null,
            "flex_flow": null,
            "grid_area": null,
            "grid_auto_columns": null,
            "grid_auto_flow": null,
            "grid_auto_rows": null,
            "grid_column": null,
            "grid_gap": null,
            "grid_row": null,
            "grid_template_areas": null,
            "grid_template_columns": null,
            "grid_template_rows": null,
            "height": null,
            "justify_content": null,
            "justify_items": null,
            "left": null,
            "margin": null,
            "max_height": null,
            "max_width": null,
            "min_height": null,
            "min_width": null,
            "object_fit": null,
            "object_position": null,
            "order": null,
            "overflow": null,
            "overflow_x": null,
            "overflow_y": null,
            "padding": null,
            "right": null,
            "top": null,
            "visibility": null,
            "width": null
          }
        },
        "e9d52e3c9e4f4526bc92057b96ee3396": {
          "model_module": "@jupyter-widgets/base",
          "model_name": "LayoutModel",
          "model_module_version": "1.2.0",
          "state": {
            "_model_module": "@jupyter-widgets/base",
            "_model_module_version": "1.2.0",
            "_model_name": "LayoutModel",
            "_view_count": null,
            "_view_module": "@jupyter-widgets/base",
            "_view_module_version": "1.2.0",
            "_view_name": "LayoutView",
            "align_content": null,
            "align_items": null,
            "align_self": null,
            "border": null,
            "bottom": null,
            "display": null,
            "flex": null,
            "flex_flow": null,
            "grid_area": null,
            "grid_auto_columns": null,
            "grid_auto_flow": null,
            "grid_auto_rows": null,
            "grid_column": null,
            "grid_gap": null,
            "grid_row": null,
            "grid_template_areas": null,
            "grid_template_columns": null,
            "grid_template_rows": null,
            "height": null,
            "justify_content": null,
            "justify_items": null,
            "left": null,
            "margin": null,
            "max_height": null,
            "max_width": null,
            "min_height": null,
            "min_width": null,
            "object_fit": null,
            "object_position": null,
            "order": null,
            "overflow": null,
            "overflow_x": null,
            "overflow_y": null,
            "padding": null,
            "right": null,
            "top": null,
            "visibility": null,
            "width": null
          }
        },
        "100c8b051fb74a2cbe842af91adbaf85": {
          "model_module": "@jupyter-widgets/controls",
          "model_name": "DescriptionStyleModel",
          "model_module_version": "1.5.0",
          "state": {
            "_model_module": "@jupyter-widgets/controls",
            "_model_module_version": "1.5.0",
            "_model_name": "DescriptionStyleModel",
            "_view_count": null,
            "_view_module": "@jupyter-widgets/base",
            "_view_module_version": "1.2.0",
            "_view_name": "StyleView",
            "description_width": ""
          }
        },
        "1bf9236ecd9442ef87e797659432c94a": {
          "model_module": "@jupyter-widgets/base",
          "model_name": "LayoutModel",
          "model_module_version": "1.2.0",
          "state": {
            "_model_module": "@jupyter-widgets/base",
            "_model_module_version": "1.2.0",
            "_model_name": "LayoutModel",
            "_view_count": null,
            "_view_module": "@jupyter-widgets/base",
            "_view_module_version": "1.2.0",
            "_view_name": "LayoutView",
            "align_content": null,
            "align_items": null,
            "align_self": null,
            "border": null,
            "bottom": null,
            "display": null,
            "flex": null,
            "flex_flow": null,
            "grid_area": null,
            "grid_auto_columns": null,
            "grid_auto_flow": null,
            "grid_auto_rows": null,
            "grid_column": null,
            "grid_gap": null,
            "grid_row": null,
            "grid_template_areas": null,
            "grid_template_columns": null,
            "grid_template_rows": null,
            "height": null,
            "justify_content": null,
            "justify_items": null,
            "left": null,
            "margin": null,
            "max_height": null,
            "max_width": null,
            "min_height": null,
            "min_width": null,
            "object_fit": null,
            "object_position": null,
            "order": null,
            "overflow": null,
            "overflow_x": null,
            "overflow_y": null,
            "padding": null,
            "right": null,
            "top": null,
            "visibility": null,
            "width": null
          }
        },
        "c1bc42da4f6b422a99e6e4bbf5d9357d": {
          "model_module": "@jupyter-widgets/controls",
          "model_name": "ProgressStyleModel",
          "model_module_version": "1.5.0",
          "state": {
            "_model_module": "@jupyter-widgets/controls",
            "_model_module_version": "1.5.0",
            "_model_name": "ProgressStyleModel",
            "_view_count": null,
            "_view_module": "@jupyter-widgets/base",
            "_view_module_version": "1.2.0",
            "_view_name": "StyleView",
            "bar_color": null,
            "description_width": ""
          }
        },
        "c3d83eec28d14ac8aabc46f6f717b920": {
          "model_module": "@jupyter-widgets/base",
          "model_name": "LayoutModel",
          "model_module_version": "1.2.0",
          "state": {
            "_model_module": "@jupyter-widgets/base",
            "_model_module_version": "1.2.0",
            "_model_name": "LayoutModel",
            "_view_count": null,
            "_view_module": "@jupyter-widgets/base",
            "_view_module_version": "1.2.0",
            "_view_name": "LayoutView",
            "align_content": null,
            "align_items": null,
            "align_self": null,
            "border": null,
            "bottom": null,
            "display": null,
            "flex": null,
            "flex_flow": null,
            "grid_area": null,
            "grid_auto_columns": null,
            "grid_auto_flow": null,
            "grid_auto_rows": null,
            "grid_column": null,
            "grid_gap": null,
            "grid_row": null,
            "grid_template_areas": null,
            "grid_template_columns": null,
            "grid_template_rows": null,
            "height": null,
            "justify_content": null,
            "justify_items": null,
            "left": null,
            "margin": null,
            "max_height": null,
            "max_width": null,
            "min_height": null,
            "min_width": null,
            "object_fit": null,
            "object_position": null,
            "order": null,
            "overflow": null,
            "overflow_x": null,
            "overflow_y": null,
            "padding": null,
            "right": null,
            "top": null,
            "visibility": null,
            "width": null
          }
        },
        "13b1ee15c10a4d0ab7f76d630b7b63e0": {
          "model_module": "@jupyter-widgets/controls",
          "model_name": "DescriptionStyleModel",
          "model_module_version": "1.5.0",
          "state": {
            "_model_module": "@jupyter-widgets/controls",
            "_model_module_version": "1.5.0",
            "_model_name": "DescriptionStyleModel",
            "_view_count": null,
            "_view_module": "@jupyter-widgets/base",
            "_view_module_version": "1.2.0",
            "_view_name": "StyleView",
            "description_width": ""
          }
        },
        "2fe856f72b1e4a30a90b382f7656bbf0": {
          "model_module": "@jupyter-widgets/controls",
          "model_name": "HBoxModel",
          "model_module_version": "1.5.0",
          "state": {
            "_dom_classes": [],
            "_model_module": "@jupyter-widgets/controls",
            "_model_module_version": "1.5.0",
            "_model_name": "HBoxModel",
            "_view_count": null,
            "_view_module": "@jupyter-widgets/controls",
            "_view_module_version": "1.5.0",
            "_view_name": "HBoxView",
            "box_style": "",
            "children": [
              "IPY_MODEL_64916d19a21f4836badb14f9b6e14c29",
              "IPY_MODEL_e6302a02c965470ca98f7b107c193be5",
              "IPY_MODEL_a47b73fc67b74d3eaeee37786734cf2f"
            ],
            "layout": "IPY_MODEL_d11c86d667174e608d870c5998cd91aa"
          }
        },
        "64916d19a21f4836badb14f9b6e14c29": {
          "model_module": "@jupyter-widgets/controls",
          "model_name": "HTMLModel",
          "model_module_version": "1.5.0",
          "state": {
            "_dom_classes": [],
            "_model_module": "@jupyter-widgets/controls",
            "_model_module_version": "1.5.0",
            "_model_name": "HTMLModel",
            "_view_count": null,
            "_view_module": "@jupyter-widgets/controls",
            "_view_module_version": "1.5.0",
            "_view_name": "HTMLView",
            "description": "",
            "description_tooltip": null,
            "layout": "IPY_MODEL_8a940132f3db4645be15fa32c7bda036",
            "placeholder": "​",
            "style": "IPY_MODEL_1795a0246ccb4f0285503e662e126f73",
            "value": "Downloading config.json: 100%"
          }
        },
        "e6302a02c965470ca98f7b107c193be5": {
          "model_module": "@jupyter-widgets/controls",
          "model_name": "FloatProgressModel",
          "model_module_version": "1.5.0",
          "state": {
            "_dom_classes": [],
            "_model_module": "@jupyter-widgets/controls",
            "_model_module_version": "1.5.0",
            "_model_name": "FloatProgressModel",
            "_view_count": null,
            "_view_module": "@jupyter-widgets/controls",
            "_view_module_version": "1.5.0",
            "_view_name": "ProgressView",
            "bar_style": "success",
            "description": "",
            "description_tooltip": null,
            "layout": "IPY_MODEL_980af72f369d4fbe92ca550c24495441",
            "max": 579,
            "min": 0,
            "orientation": "horizontal",
            "style": "IPY_MODEL_4f619cdee841416aa50e6ad4b302d5bb",
            "value": 579
          }
        },
        "a47b73fc67b74d3eaeee37786734cf2f": {
          "model_module": "@jupyter-widgets/controls",
          "model_name": "HTMLModel",
          "model_module_version": "1.5.0",
          "state": {
            "_dom_classes": [],
            "_model_module": "@jupyter-widgets/controls",
            "_model_module_version": "1.5.0",
            "_model_name": "HTMLModel",
            "_view_count": null,
            "_view_module": "@jupyter-widgets/controls",
            "_view_module_version": "1.5.0",
            "_view_name": "HTMLView",
            "description": "",
            "description_tooltip": null,
            "layout": "IPY_MODEL_28b3cea4a1c04555bbcc09a8748e1ab8",
            "placeholder": "​",
            "style": "IPY_MODEL_2c732e860f0440cdb6f5aa21cec05e90",
            "value": " 579/579 [00:00&lt;00:00, 12.2kB/s]"
          }
        },
        "d11c86d667174e608d870c5998cd91aa": {
          "model_module": "@jupyter-widgets/base",
          "model_name": "LayoutModel",
          "model_module_version": "1.2.0",
          "state": {
            "_model_module": "@jupyter-widgets/base",
            "_model_module_version": "1.2.0",
            "_model_name": "LayoutModel",
            "_view_count": null,
            "_view_module": "@jupyter-widgets/base",
            "_view_module_version": "1.2.0",
            "_view_name": "LayoutView",
            "align_content": null,
            "align_items": null,
            "align_self": null,
            "border": null,
            "bottom": null,
            "display": null,
            "flex": null,
            "flex_flow": null,
            "grid_area": null,
            "grid_auto_columns": null,
            "grid_auto_flow": null,
            "grid_auto_rows": null,
            "grid_column": null,
            "grid_gap": null,
            "grid_row": null,
            "grid_template_areas": null,
            "grid_template_columns": null,
            "grid_template_rows": null,
            "height": null,
            "justify_content": null,
            "justify_items": null,
            "left": null,
            "margin": null,
            "max_height": null,
            "max_width": null,
            "min_height": null,
            "min_width": null,
            "object_fit": null,
            "object_position": null,
            "order": null,
            "overflow": null,
            "overflow_x": null,
            "overflow_y": null,
            "padding": null,
            "right": null,
            "top": null,
            "visibility": null,
            "width": null
          }
        },
        "8a940132f3db4645be15fa32c7bda036": {
          "model_module": "@jupyter-widgets/base",
          "model_name": "LayoutModel",
          "model_module_version": "1.2.0",
          "state": {
            "_model_module": "@jupyter-widgets/base",
            "_model_module_version": "1.2.0",
            "_model_name": "LayoutModel",
            "_view_count": null,
            "_view_module": "@jupyter-widgets/base",
            "_view_module_version": "1.2.0",
            "_view_name": "LayoutView",
            "align_content": null,
            "align_items": null,
            "align_self": null,
            "border": null,
            "bottom": null,
            "display": null,
            "flex": null,
            "flex_flow": null,
            "grid_area": null,
            "grid_auto_columns": null,
            "grid_auto_flow": null,
            "grid_auto_rows": null,
            "grid_column": null,
            "grid_gap": null,
            "grid_row": null,
            "grid_template_areas": null,
            "grid_template_columns": null,
            "grid_template_rows": null,
            "height": null,
            "justify_content": null,
            "justify_items": null,
            "left": null,
            "margin": null,
            "max_height": null,
            "max_width": null,
            "min_height": null,
            "min_width": null,
            "object_fit": null,
            "object_position": null,
            "order": null,
            "overflow": null,
            "overflow_x": null,
            "overflow_y": null,
            "padding": null,
            "right": null,
            "top": null,
            "visibility": null,
            "width": null
          }
        },
        "1795a0246ccb4f0285503e662e126f73": {
          "model_module": "@jupyter-widgets/controls",
          "model_name": "DescriptionStyleModel",
          "model_module_version": "1.5.0",
          "state": {
            "_model_module": "@jupyter-widgets/controls",
            "_model_module_version": "1.5.0",
            "_model_name": "DescriptionStyleModel",
            "_view_count": null,
            "_view_module": "@jupyter-widgets/base",
            "_view_module_version": "1.2.0",
            "_view_name": "StyleView",
            "description_width": ""
          }
        },
        "980af72f369d4fbe92ca550c24495441": {
          "model_module": "@jupyter-widgets/base",
          "model_name": "LayoutModel",
          "model_module_version": "1.2.0",
          "state": {
            "_model_module": "@jupyter-widgets/base",
            "_model_module_version": "1.2.0",
            "_model_name": "LayoutModel",
            "_view_count": null,
            "_view_module": "@jupyter-widgets/base",
            "_view_module_version": "1.2.0",
            "_view_name": "LayoutView",
            "align_content": null,
            "align_items": null,
            "align_self": null,
            "border": null,
            "bottom": null,
            "display": null,
            "flex": null,
            "flex_flow": null,
            "grid_area": null,
            "grid_auto_columns": null,
            "grid_auto_flow": null,
            "grid_auto_rows": null,
            "grid_column": null,
            "grid_gap": null,
            "grid_row": null,
            "grid_template_areas": null,
            "grid_template_columns": null,
            "grid_template_rows": null,
            "height": null,
            "justify_content": null,
            "justify_items": null,
            "left": null,
            "margin": null,
            "max_height": null,
            "max_width": null,
            "min_height": null,
            "min_width": null,
            "object_fit": null,
            "object_position": null,
            "order": null,
            "overflow": null,
            "overflow_x": null,
            "overflow_y": null,
            "padding": null,
            "right": null,
            "top": null,
            "visibility": null,
            "width": null
          }
        },
        "4f619cdee841416aa50e6ad4b302d5bb": {
          "model_module": "@jupyter-widgets/controls",
          "model_name": "ProgressStyleModel",
          "model_module_version": "1.5.0",
          "state": {
            "_model_module": "@jupyter-widgets/controls",
            "_model_module_version": "1.5.0",
            "_model_name": "ProgressStyleModel",
            "_view_count": null,
            "_view_module": "@jupyter-widgets/base",
            "_view_module_version": "1.2.0",
            "_view_name": "StyleView",
            "bar_color": null,
            "description_width": ""
          }
        },
        "28b3cea4a1c04555bbcc09a8748e1ab8": {
          "model_module": "@jupyter-widgets/base",
          "model_name": "LayoutModel",
          "model_module_version": "1.2.0",
          "state": {
            "_model_module": "@jupyter-widgets/base",
            "_model_module_version": "1.2.0",
            "_model_name": "LayoutModel",
            "_view_count": null,
            "_view_module": "@jupyter-widgets/base",
            "_view_module_version": "1.2.0",
            "_view_name": "LayoutView",
            "align_content": null,
            "align_items": null,
            "align_self": null,
            "border": null,
            "bottom": null,
            "display": null,
            "flex": null,
            "flex_flow": null,
            "grid_area": null,
            "grid_auto_columns": null,
            "grid_auto_flow": null,
            "grid_auto_rows": null,
            "grid_column": null,
            "grid_gap": null,
            "grid_row": null,
            "grid_template_areas": null,
            "grid_template_columns": null,
            "grid_template_rows": null,
            "height": null,
            "justify_content": null,
            "justify_items": null,
            "left": null,
            "margin": null,
            "max_height": null,
            "max_width": null,
            "min_height": null,
            "min_width": null,
            "object_fit": null,
            "object_position": null,
            "order": null,
            "overflow": null,
            "overflow_x": null,
            "overflow_y": null,
            "padding": null,
            "right": null,
            "top": null,
            "visibility": null,
            "width": null
          }
        },
        "2c732e860f0440cdb6f5aa21cec05e90": {
          "model_module": "@jupyter-widgets/controls",
          "model_name": "DescriptionStyleModel",
          "model_module_version": "1.5.0",
          "state": {
            "_model_module": "@jupyter-widgets/controls",
            "_model_module_version": "1.5.0",
            "_model_name": "DescriptionStyleModel",
            "_view_count": null,
            "_view_module": "@jupyter-widgets/base",
            "_view_module_version": "1.2.0",
            "_view_name": "StyleView",
            "description_width": ""
          }
        },
        "7d3de48efdd94d2ca2680c602c36cdc1": {
          "model_module": "@jupyter-widgets/controls",
          "model_name": "HBoxModel",
          "model_module_version": "1.5.0",
          "state": {
            "_dom_classes": [],
            "_model_module": "@jupyter-widgets/controls",
            "_model_module_version": "1.5.0",
            "_model_name": "HBoxModel",
            "_view_count": null,
            "_view_module": "@jupyter-widgets/controls",
            "_view_module_version": "1.5.0",
            "_view_name": "HBoxView",
            "box_style": "",
            "children": [
              "IPY_MODEL_65ce7296e3b34ffd808d9e4ff6cc3e6d",
              "IPY_MODEL_cd5b489291a149e092247856c4bde970",
              "IPY_MODEL_65eeb096120544abbab3d839cbe6618c"
            ],
            "layout": "IPY_MODEL_1f79bf250a714932b71f21cade29a1cf"
          }
        },
        "65ce7296e3b34ffd808d9e4ff6cc3e6d": {
          "model_module": "@jupyter-widgets/controls",
          "model_name": "HTMLModel",
          "model_module_version": "1.5.0",
          "state": {
            "_dom_classes": [],
            "_model_module": "@jupyter-widgets/controls",
            "_model_module_version": "1.5.0",
            "_model_name": "HTMLModel",
            "_view_count": null,
            "_view_module": "@jupyter-widgets/controls",
            "_view_module_version": "1.5.0",
            "_view_name": "HTMLView",
            "description": "",
            "description_tooltip": null,
            "layout": "IPY_MODEL_f978e2bbc0104beaa6b369c7240d68d5",
            "placeholder": "​",
            "style": "IPY_MODEL_a06a03cb1ef6424383063faab5775b49",
            "value": "Downloading pytorch_model.bin: 100%"
          }
        },
        "cd5b489291a149e092247856c4bde970": {
          "model_module": "@jupyter-widgets/controls",
          "model_name": "FloatProgressModel",
          "model_module_version": "1.5.0",
          "state": {
            "_dom_classes": [],
            "_model_module": "@jupyter-widgets/controls",
            "_model_module_version": "1.5.0",
            "_model_name": "FloatProgressModel",
            "_view_count": null,
            "_view_module": "@jupyter-widgets/controls",
            "_view_module_version": "1.5.0",
            "_view_name": "ProgressView",
            "bar_style": "success",
            "description": "",
            "description_tooltip": null,
            "layout": "IPY_MODEL_5bdd0583c9e1403ca06ae0d2e9a88446",
            "max": 560166373,
            "min": 0,
            "orientation": "horizontal",
            "style": "IPY_MODEL_73eaa00a6db749ed94383716f92199af",
            "value": 560166373
          }
        },
        "65eeb096120544abbab3d839cbe6618c": {
          "model_module": "@jupyter-widgets/controls",
          "model_name": "HTMLModel",
          "model_module_version": "1.5.0",
          "state": {
            "_dom_classes": [],
            "_model_module": "@jupyter-widgets/controls",
            "_model_module_version": "1.5.0",
            "_model_name": "HTMLModel",
            "_view_count": null,
            "_view_module": "@jupyter-widgets/controls",
            "_view_module_version": "1.5.0",
            "_view_name": "HTMLView",
            "description": "",
            "description_tooltip": null,
            "layout": "IPY_MODEL_65880164080a4cc48860d6541076be04",
            "placeholder": "​",
            "style": "IPY_MODEL_3dc256829f174b80861984791f94e479",
            "value": " 534M/534M [00:10&lt;00:00, 56.4MB/s]"
          }
        },
        "1f79bf250a714932b71f21cade29a1cf": {
          "model_module": "@jupyter-widgets/base",
          "model_name": "LayoutModel",
          "model_module_version": "1.2.0",
          "state": {
            "_model_module": "@jupyter-widgets/base",
            "_model_module_version": "1.2.0",
            "_model_name": "LayoutModel",
            "_view_count": null,
            "_view_module": "@jupyter-widgets/base",
            "_view_module_version": "1.2.0",
            "_view_name": "LayoutView",
            "align_content": null,
            "align_items": null,
            "align_self": null,
            "border": null,
            "bottom": null,
            "display": null,
            "flex": null,
            "flex_flow": null,
            "grid_area": null,
            "grid_auto_columns": null,
            "grid_auto_flow": null,
            "grid_auto_rows": null,
            "grid_column": null,
            "grid_gap": null,
            "grid_row": null,
            "grid_template_areas": null,
            "grid_template_columns": null,
            "grid_template_rows": null,
            "height": null,
            "justify_content": null,
            "justify_items": null,
            "left": null,
            "margin": null,
            "max_height": null,
            "max_width": null,
            "min_height": null,
            "min_width": null,
            "object_fit": null,
            "object_position": null,
            "order": null,
            "overflow": null,
            "overflow_x": null,
            "overflow_y": null,
            "padding": null,
            "right": null,
            "top": null,
            "visibility": null,
            "width": null
          }
        },
        "f978e2bbc0104beaa6b369c7240d68d5": {
          "model_module": "@jupyter-widgets/base",
          "model_name": "LayoutModel",
          "model_module_version": "1.2.0",
          "state": {
            "_model_module": "@jupyter-widgets/base",
            "_model_module_version": "1.2.0",
            "_model_name": "LayoutModel",
            "_view_count": null,
            "_view_module": "@jupyter-widgets/base",
            "_view_module_version": "1.2.0",
            "_view_name": "LayoutView",
            "align_content": null,
            "align_items": null,
            "align_self": null,
            "border": null,
            "bottom": null,
            "display": null,
            "flex": null,
            "flex_flow": null,
            "grid_area": null,
            "grid_auto_columns": null,
            "grid_auto_flow": null,
            "grid_auto_rows": null,
            "grid_column": null,
            "grid_gap": null,
            "grid_row": null,
            "grid_template_areas": null,
            "grid_template_columns": null,
            "grid_template_rows": null,
            "height": null,
            "justify_content": null,
            "justify_items": null,
            "left": null,
            "margin": null,
            "max_height": null,
            "max_width": null,
            "min_height": null,
            "min_width": null,
            "object_fit": null,
            "object_position": null,
            "order": null,
            "overflow": null,
            "overflow_x": null,
            "overflow_y": null,
            "padding": null,
            "right": null,
            "top": null,
            "visibility": null,
            "width": null
          }
        },
        "a06a03cb1ef6424383063faab5775b49": {
          "model_module": "@jupyter-widgets/controls",
          "model_name": "DescriptionStyleModel",
          "model_module_version": "1.5.0",
          "state": {
            "_model_module": "@jupyter-widgets/controls",
            "_model_module_version": "1.5.0",
            "_model_name": "DescriptionStyleModel",
            "_view_count": null,
            "_view_module": "@jupyter-widgets/base",
            "_view_module_version": "1.2.0",
            "_view_name": "StyleView",
            "description_width": ""
          }
        },
        "5bdd0583c9e1403ca06ae0d2e9a88446": {
          "model_module": "@jupyter-widgets/base",
          "model_name": "LayoutModel",
          "model_module_version": "1.2.0",
          "state": {
            "_model_module": "@jupyter-widgets/base",
            "_model_module_version": "1.2.0",
            "_model_name": "LayoutModel",
            "_view_count": null,
            "_view_module": "@jupyter-widgets/base",
            "_view_module_version": "1.2.0",
            "_view_name": "LayoutView",
            "align_content": null,
            "align_items": null,
            "align_self": null,
            "border": null,
            "bottom": null,
            "display": null,
            "flex": null,
            "flex_flow": null,
            "grid_area": null,
            "grid_auto_columns": null,
            "grid_auto_flow": null,
            "grid_auto_rows": null,
            "grid_column": null,
            "grid_gap": null,
            "grid_row": null,
            "grid_template_areas": null,
            "grid_template_columns": null,
            "grid_template_rows": null,
            "height": null,
            "justify_content": null,
            "justify_items": null,
            "left": null,
            "margin": null,
            "max_height": null,
            "max_width": null,
            "min_height": null,
            "min_width": null,
            "object_fit": null,
            "object_position": null,
            "order": null,
            "overflow": null,
            "overflow_x": null,
            "overflow_y": null,
            "padding": null,
            "right": null,
            "top": null,
            "visibility": null,
            "width": null
          }
        },
        "73eaa00a6db749ed94383716f92199af": {
          "model_module": "@jupyter-widgets/controls",
          "model_name": "ProgressStyleModel",
          "model_module_version": "1.5.0",
          "state": {
            "_model_module": "@jupyter-widgets/controls",
            "_model_module_version": "1.5.0",
            "_model_name": "ProgressStyleModel",
            "_view_count": null,
            "_view_module": "@jupyter-widgets/base",
            "_view_module_version": "1.2.0",
            "_view_name": "StyleView",
            "bar_color": null,
            "description_width": ""
          }
        },
        "65880164080a4cc48860d6541076be04": {
          "model_module": "@jupyter-widgets/base",
          "model_name": "LayoutModel",
          "model_module_version": "1.2.0",
          "state": {
            "_model_module": "@jupyter-widgets/base",
            "_model_module_version": "1.2.0",
            "_model_name": "LayoutModel",
            "_view_count": null,
            "_view_module": "@jupyter-widgets/base",
            "_view_module_version": "1.2.0",
            "_view_name": "LayoutView",
            "align_content": null,
            "align_items": null,
            "align_self": null,
            "border": null,
            "bottom": null,
            "display": null,
            "flex": null,
            "flex_flow": null,
            "grid_area": null,
            "grid_auto_columns": null,
            "grid_auto_flow": null,
            "grid_auto_rows": null,
            "grid_column": null,
            "grid_gap": null,
            "grid_row": null,
            "grid_template_areas": null,
            "grid_template_columns": null,
            "grid_template_rows": null,
            "height": null,
            "justify_content": null,
            "justify_items": null,
            "left": null,
            "margin": null,
            "max_height": null,
            "max_width": null,
            "min_height": null,
            "min_width": null,
            "object_fit": null,
            "object_position": null,
            "order": null,
            "overflow": null,
            "overflow_x": null,
            "overflow_y": null,
            "padding": null,
            "right": null,
            "top": null,
            "visibility": null,
            "width": null
          }
        },
        "3dc256829f174b80861984791f94e479": {
          "model_module": "@jupyter-widgets/controls",
          "model_name": "DescriptionStyleModel",
          "model_module_version": "1.5.0",
          "state": {
            "_model_module": "@jupyter-widgets/controls",
            "_model_module_version": "1.5.0",
            "_model_name": "DescriptionStyleModel",
            "_view_count": null,
            "_view_module": "@jupyter-widgets/base",
            "_view_module_version": "1.2.0",
            "_view_name": "StyleView",
            "description_width": ""
          }
        },
        "863d2151d77f43f4bc68d93c920c9999": {
          "model_module": "@jupyter-widgets/controls",
          "model_name": "HBoxModel",
          "model_module_version": "1.5.0",
          "state": {
            "_dom_classes": [],
            "_model_module": "@jupyter-widgets/controls",
            "_model_module_version": "1.5.0",
            "_model_name": "HBoxModel",
            "_view_count": null,
            "_view_module": "@jupyter-widgets/controls",
            "_view_module_version": "1.5.0",
            "_view_name": "HBoxView",
            "box_style": "",
            "children": [
              "IPY_MODEL_1fcb0dbf79474cff9aa1beb320024d6e",
              "IPY_MODEL_4157a04309474e5fa06e317dcbe16fd9",
              "IPY_MODEL_e282526d7fb742c685e156b846fb2a5f"
            ],
            "layout": "IPY_MODEL_d7495fcf33f8494cbc66208196c34b1e"
          }
        },
        "1fcb0dbf79474cff9aa1beb320024d6e": {
          "model_module": "@jupyter-widgets/controls",
          "model_name": "HTMLModel",
          "model_module_version": "1.5.0",
          "state": {
            "_dom_classes": [],
            "_model_module": "@jupyter-widgets/controls",
            "_model_module_version": "1.5.0",
            "_model_name": "HTMLModel",
            "_view_count": null,
            "_view_module": "@jupyter-widgets/controls",
            "_view_module_version": "1.5.0",
            "_view_name": "HTMLView",
            "description": "",
            "description_tooltip": null,
            "layout": "IPY_MODEL_7afd05d081924deeb7629384c931e7e8",
            "placeholder": "​",
            "style": "IPY_MODEL_2932ecf740624913afbc91ea2a022a88",
            "value": "Downloading tokenizer_config.json: 100%"
          }
        },
        "4157a04309474e5fa06e317dcbe16fd9": {
          "model_module": "@jupyter-widgets/controls",
          "model_name": "FloatProgressModel",
          "model_module_version": "1.5.0",
          "state": {
            "_dom_classes": [],
            "_model_module": "@jupyter-widgets/controls",
            "_model_module_version": "1.5.0",
            "_model_name": "FloatProgressModel",
            "_view_count": null,
            "_view_module": "@jupyter-widgets/controls",
            "_view_module_version": "1.5.0",
            "_view_name": "ProgressView",
            "bar_style": "success",
            "description": "",
            "description_tooltip": null,
            "layout": "IPY_MODEL_cbc70fec5c7c4b89ad3c85ba53e3b7dc",
            "max": 52,
            "min": 0,
            "orientation": "horizontal",
            "style": "IPY_MODEL_db25fef0acce404399bacb745de5e9ff",
            "value": 52
          }
        },
        "e282526d7fb742c685e156b846fb2a5f": {
          "model_module": "@jupyter-widgets/controls",
          "model_name": "HTMLModel",
          "model_module_version": "1.5.0",
          "state": {
            "_dom_classes": [],
            "_model_module": "@jupyter-widgets/controls",
            "_model_module_version": "1.5.0",
            "_model_name": "HTMLModel",
            "_view_count": null,
            "_view_module": "@jupyter-widgets/controls",
            "_view_module_version": "1.5.0",
            "_view_name": "HTMLView",
            "description": "",
            "description_tooltip": null,
            "layout": "IPY_MODEL_9327797684c447dab1884b750d80f93c",
            "placeholder": "​",
            "style": "IPY_MODEL_bb30b7586f26440eb496c5fd40afaeb5",
            "value": " 52.0/52.0 [00:00&lt;00:00, 1.36kB/s]"
          }
        },
        "d7495fcf33f8494cbc66208196c34b1e": {
          "model_module": "@jupyter-widgets/base",
          "model_name": "LayoutModel",
          "model_module_version": "1.2.0",
          "state": {
            "_model_module": "@jupyter-widgets/base",
            "_model_module_version": "1.2.0",
            "_model_name": "LayoutModel",
            "_view_count": null,
            "_view_module": "@jupyter-widgets/base",
            "_view_module_version": "1.2.0",
            "_view_name": "LayoutView",
            "align_content": null,
            "align_items": null,
            "align_self": null,
            "border": null,
            "bottom": null,
            "display": null,
            "flex": null,
            "flex_flow": null,
            "grid_area": null,
            "grid_auto_columns": null,
            "grid_auto_flow": null,
            "grid_auto_rows": null,
            "grid_column": null,
            "grid_gap": null,
            "grid_row": null,
            "grid_template_areas": null,
            "grid_template_columns": null,
            "grid_template_rows": null,
            "height": null,
            "justify_content": null,
            "justify_items": null,
            "left": null,
            "margin": null,
            "max_height": null,
            "max_width": null,
            "min_height": null,
            "min_width": null,
            "object_fit": null,
            "object_position": null,
            "order": null,
            "overflow": null,
            "overflow_x": null,
            "overflow_y": null,
            "padding": null,
            "right": null,
            "top": null,
            "visibility": null,
            "width": null
          }
        },
        "7afd05d081924deeb7629384c931e7e8": {
          "model_module": "@jupyter-widgets/base",
          "model_name": "LayoutModel",
          "model_module_version": "1.2.0",
          "state": {
            "_model_module": "@jupyter-widgets/base",
            "_model_module_version": "1.2.0",
            "_model_name": "LayoutModel",
            "_view_count": null,
            "_view_module": "@jupyter-widgets/base",
            "_view_module_version": "1.2.0",
            "_view_name": "LayoutView",
            "align_content": null,
            "align_items": null,
            "align_self": null,
            "border": null,
            "bottom": null,
            "display": null,
            "flex": null,
            "flex_flow": null,
            "grid_area": null,
            "grid_auto_columns": null,
            "grid_auto_flow": null,
            "grid_auto_rows": null,
            "grid_column": null,
            "grid_gap": null,
            "grid_row": null,
            "grid_template_areas": null,
            "grid_template_columns": null,
            "grid_template_rows": null,
            "height": null,
            "justify_content": null,
            "justify_items": null,
            "left": null,
            "margin": null,
            "max_height": null,
            "max_width": null,
            "min_height": null,
            "min_width": null,
            "object_fit": null,
            "object_position": null,
            "order": null,
            "overflow": null,
            "overflow_x": null,
            "overflow_y": null,
            "padding": null,
            "right": null,
            "top": null,
            "visibility": null,
            "width": null
          }
        },
        "2932ecf740624913afbc91ea2a022a88": {
          "model_module": "@jupyter-widgets/controls",
          "model_name": "DescriptionStyleModel",
          "model_module_version": "1.5.0",
          "state": {
            "_model_module": "@jupyter-widgets/controls",
            "_model_module_version": "1.5.0",
            "_model_name": "DescriptionStyleModel",
            "_view_count": null,
            "_view_module": "@jupyter-widgets/base",
            "_view_module_version": "1.2.0",
            "_view_name": "StyleView",
            "description_width": ""
          }
        },
        "cbc70fec5c7c4b89ad3c85ba53e3b7dc": {
          "model_module": "@jupyter-widgets/base",
          "model_name": "LayoutModel",
          "model_module_version": "1.2.0",
          "state": {
            "_model_module": "@jupyter-widgets/base",
            "_model_module_version": "1.2.0",
            "_model_name": "LayoutModel",
            "_view_count": null,
            "_view_module": "@jupyter-widgets/base",
            "_view_module_version": "1.2.0",
            "_view_name": "LayoutView",
            "align_content": null,
            "align_items": null,
            "align_self": null,
            "border": null,
            "bottom": null,
            "display": null,
            "flex": null,
            "flex_flow": null,
            "grid_area": null,
            "grid_auto_columns": null,
            "grid_auto_flow": null,
            "grid_auto_rows": null,
            "grid_column": null,
            "grid_gap": null,
            "grid_row": null,
            "grid_template_areas": null,
            "grid_template_columns": null,
            "grid_template_rows": null,
            "height": null,
            "justify_content": null,
            "justify_items": null,
            "left": null,
            "margin": null,
            "max_height": null,
            "max_width": null,
            "min_height": null,
            "min_width": null,
            "object_fit": null,
            "object_position": null,
            "order": null,
            "overflow": null,
            "overflow_x": null,
            "overflow_y": null,
            "padding": null,
            "right": null,
            "top": null,
            "visibility": null,
            "width": null
          }
        },
        "db25fef0acce404399bacb745de5e9ff": {
          "model_module": "@jupyter-widgets/controls",
          "model_name": "ProgressStyleModel",
          "model_module_version": "1.5.0",
          "state": {
            "_model_module": "@jupyter-widgets/controls",
            "_model_module_version": "1.5.0",
            "_model_name": "ProgressStyleModel",
            "_view_count": null,
            "_view_module": "@jupyter-widgets/base",
            "_view_module_version": "1.2.0",
            "_view_name": "StyleView",
            "bar_color": null,
            "description_width": ""
          }
        },
        "9327797684c447dab1884b750d80f93c": {
          "model_module": "@jupyter-widgets/base",
          "model_name": "LayoutModel",
          "model_module_version": "1.2.0",
          "state": {
            "_model_module": "@jupyter-widgets/base",
            "_model_module_version": "1.2.0",
            "_model_name": "LayoutModel",
            "_view_count": null,
            "_view_module": "@jupyter-widgets/base",
            "_view_module_version": "1.2.0",
            "_view_name": "LayoutView",
            "align_content": null,
            "align_items": null,
            "align_self": null,
            "border": null,
            "bottom": null,
            "display": null,
            "flex": null,
            "flex_flow": null,
            "grid_area": null,
            "grid_auto_columns": null,
            "grid_auto_flow": null,
            "grid_auto_rows": null,
            "grid_column": null,
            "grid_gap": null,
            "grid_row": null,
            "grid_template_areas": null,
            "grid_template_columns": null,
            "grid_template_rows": null,
            "height": null,
            "justify_content": null,
            "justify_items": null,
            "left": null,
            "margin": null,
            "max_height": null,
            "max_width": null,
            "min_height": null,
            "min_width": null,
            "object_fit": null,
            "object_position": null,
            "order": null,
            "overflow": null,
            "overflow_x": null,
            "overflow_y": null,
            "padding": null,
            "right": null,
            "top": null,
            "visibility": null,
            "width": null
          }
        },
        "bb30b7586f26440eb496c5fd40afaeb5": {
          "model_module": "@jupyter-widgets/controls",
          "model_name": "DescriptionStyleModel",
          "model_module_version": "1.5.0",
          "state": {
            "_model_module": "@jupyter-widgets/controls",
            "_model_module_version": "1.5.0",
            "_model_name": "DescriptionStyleModel",
            "_view_count": null,
            "_view_module": "@jupyter-widgets/base",
            "_view_module_version": "1.2.0",
            "_view_name": "StyleView",
            "description_width": ""
          }
        },
        "e9bafe52e0f5458ba19ea4807dd287ab": {
          "model_module": "@jupyter-widgets/controls",
          "model_name": "HBoxModel",
          "model_module_version": "1.5.0",
          "state": {
            "_dom_classes": [],
            "_model_module": "@jupyter-widgets/controls",
            "_model_module_version": "1.5.0",
            "_model_name": "HBoxModel",
            "_view_count": null,
            "_view_module": "@jupyter-widgets/controls",
            "_view_module_version": "1.5.0",
            "_view_name": "HBoxView",
            "box_style": "",
            "children": [
              "IPY_MODEL_114a408e3e154bcbb47379d198b226e2",
              "IPY_MODEL_a159c352d32a45e38819922aff1ba498",
              "IPY_MODEL_5397ae3991244598b010d14121c5b3dc"
            ],
            "layout": "IPY_MODEL_b4baabf1b3ff418cbd4550e27f0a4d66"
          }
        },
        "114a408e3e154bcbb47379d198b226e2": {
          "model_module": "@jupyter-widgets/controls",
          "model_name": "HTMLModel",
          "model_module_version": "1.5.0",
          "state": {
            "_dom_classes": [],
            "_model_module": "@jupyter-widgets/controls",
            "_model_module_version": "1.5.0",
            "_model_name": "HTMLModel",
            "_view_count": null,
            "_view_module": "@jupyter-widgets/controls",
            "_view_module_version": "1.5.0",
            "_view_name": "HTMLView",
            "description": "",
            "description_tooltip": null,
            "layout": "IPY_MODEL_938d14a22c9847ec9020dbde89d5f37a",
            "placeholder": "​",
            "style": "IPY_MODEL_d1a46fd5f7244f2fabdc72284a96c025",
            "value": "Downloading spm.model: 100%"
          }
        },
        "a159c352d32a45e38819922aff1ba498": {
          "model_module": "@jupyter-widgets/controls",
          "model_name": "FloatProgressModel",
          "model_module_version": "1.5.0",
          "state": {
            "_dom_classes": [],
            "_model_module": "@jupyter-widgets/controls",
            "_model_module_version": "1.5.0",
            "_model_name": "FloatProgressModel",
            "_view_count": null,
            "_view_module": "@jupyter-widgets/controls",
            "_view_module_version": "1.5.0",
            "_view_name": "ProgressView",
            "bar_style": "success",
            "description": "",
            "description_tooltip": null,
            "layout": "IPY_MODEL_b8f6e5c1db9f4c0b8b224fa0daa73dc0",
            "max": 4305025,
            "min": 0,
            "orientation": "horizontal",
            "style": "IPY_MODEL_2eaaf290952b43d08808d51ad98f2e6e",
            "value": 4305025
          }
        },
        "5397ae3991244598b010d14121c5b3dc": {
          "model_module": "@jupyter-widgets/controls",
          "model_name": "HTMLModel",
          "model_module_version": "1.5.0",
          "state": {
            "_dom_classes": [],
            "_model_module": "@jupyter-widgets/controls",
            "_model_module_version": "1.5.0",
            "_model_name": "HTMLModel",
            "_view_count": null,
            "_view_module": "@jupyter-widgets/controls",
            "_view_module_version": "1.5.0",
            "_view_name": "HTMLView",
            "description": "",
            "description_tooltip": null,
            "layout": "IPY_MODEL_cdee7e75e3fa4d9baaf7ec1ad3125d2c",
            "placeholder": "​",
            "style": "IPY_MODEL_23bc1e0781de43899ea20e3b77017f2b",
            "value": " 4.11M/4.11M [00:00&lt;00:00, 2.19MB/s]"
          }
        },
        "b4baabf1b3ff418cbd4550e27f0a4d66": {
          "model_module": "@jupyter-widgets/base",
          "model_name": "LayoutModel",
          "model_module_version": "1.2.0",
          "state": {
            "_model_module": "@jupyter-widgets/base",
            "_model_module_version": "1.2.0",
            "_model_name": "LayoutModel",
            "_view_count": null,
            "_view_module": "@jupyter-widgets/base",
            "_view_module_version": "1.2.0",
            "_view_name": "LayoutView",
            "align_content": null,
            "align_items": null,
            "align_self": null,
            "border": null,
            "bottom": null,
            "display": null,
            "flex": null,
            "flex_flow": null,
            "grid_area": null,
            "grid_auto_columns": null,
            "grid_auto_flow": null,
            "grid_auto_rows": null,
            "grid_column": null,
            "grid_gap": null,
            "grid_row": null,
            "grid_template_areas": null,
            "grid_template_columns": null,
            "grid_template_rows": null,
            "height": null,
            "justify_content": null,
            "justify_items": null,
            "left": null,
            "margin": null,
            "max_height": null,
            "max_width": null,
            "min_height": null,
            "min_width": null,
            "object_fit": null,
            "object_position": null,
            "order": null,
            "overflow": null,
            "overflow_x": null,
            "overflow_y": null,
            "padding": null,
            "right": null,
            "top": null,
            "visibility": null,
            "width": null
          }
        },
        "938d14a22c9847ec9020dbde89d5f37a": {
          "model_module": "@jupyter-widgets/base",
          "model_name": "LayoutModel",
          "model_module_version": "1.2.0",
          "state": {
            "_model_module": "@jupyter-widgets/base",
            "_model_module_version": "1.2.0",
            "_model_name": "LayoutModel",
            "_view_count": null,
            "_view_module": "@jupyter-widgets/base",
            "_view_module_version": "1.2.0",
            "_view_name": "LayoutView",
            "align_content": null,
            "align_items": null,
            "align_self": null,
            "border": null,
            "bottom": null,
            "display": null,
            "flex": null,
            "flex_flow": null,
            "grid_area": null,
            "grid_auto_columns": null,
            "grid_auto_flow": null,
            "grid_auto_rows": null,
            "grid_column": null,
            "grid_gap": null,
            "grid_row": null,
            "grid_template_areas": null,
            "grid_template_columns": null,
            "grid_template_rows": null,
            "height": null,
            "justify_content": null,
            "justify_items": null,
            "left": null,
            "margin": null,
            "max_height": null,
            "max_width": null,
            "min_height": null,
            "min_width": null,
            "object_fit": null,
            "object_position": null,
            "order": null,
            "overflow": null,
            "overflow_x": null,
            "overflow_y": null,
            "padding": null,
            "right": null,
            "top": null,
            "visibility": null,
            "width": null
          }
        },
        "d1a46fd5f7244f2fabdc72284a96c025": {
          "model_module": "@jupyter-widgets/controls",
          "model_name": "DescriptionStyleModel",
          "model_module_version": "1.5.0",
          "state": {
            "_model_module": "@jupyter-widgets/controls",
            "_model_module_version": "1.5.0",
            "_model_name": "DescriptionStyleModel",
            "_view_count": null,
            "_view_module": "@jupyter-widgets/base",
            "_view_module_version": "1.2.0",
            "_view_name": "StyleView",
            "description_width": ""
          }
        },
        "b8f6e5c1db9f4c0b8b224fa0daa73dc0": {
          "model_module": "@jupyter-widgets/base",
          "model_name": "LayoutModel",
          "model_module_version": "1.2.0",
          "state": {
            "_model_module": "@jupyter-widgets/base",
            "_model_module_version": "1.2.0",
            "_model_name": "LayoutModel",
            "_view_count": null,
            "_view_module": "@jupyter-widgets/base",
            "_view_module_version": "1.2.0",
            "_view_name": "LayoutView",
            "align_content": null,
            "align_items": null,
            "align_self": null,
            "border": null,
            "bottom": null,
            "display": null,
            "flex": null,
            "flex_flow": null,
            "grid_area": null,
            "grid_auto_columns": null,
            "grid_auto_flow": null,
            "grid_auto_rows": null,
            "grid_column": null,
            "grid_gap": null,
            "grid_row": null,
            "grid_template_areas": null,
            "grid_template_columns": null,
            "grid_template_rows": null,
            "height": null,
            "justify_content": null,
            "justify_items": null,
            "left": null,
            "margin": null,
            "max_height": null,
            "max_width": null,
            "min_height": null,
            "min_width": null,
            "object_fit": null,
            "object_position": null,
            "order": null,
            "overflow": null,
            "overflow_x": null,
            "overflow_y": null,
            "padding": null,
            "right": null,
            "top": null,
            "visibility": null,
            "width": null
          }
        },
        "2eaaf290952b43d08808d51ad98f2e6e": {
          "model_module": "@jupyter-widgets/controls",
          "model_name": "ProgressStyleModel",
          "model_module_version": "1.5.0",
          "state": {
            "_model_module": "@jupyter-widgets/controls",
            "_model_module_version": "1.5.0",
            "_model_name": "ProgressStyleModel",
            "_view_count": null,
            "_view_module": "@jupyter-widgets/base",
            "_view_module_version": "1.2.0",
            "_view_name": "StyleView",
            "bar_color": null,
            "description_width": ""
          }
        },
        "cdee7e75e3fa4d9baaf7ec1ad3125d2c": {
          "model_module": "@jupyter-widgets/base",
          "model_name": "LayoutModel",
          "model_module_version": "1.2.0",
          "state": {
            "_model_module": "@jupyter-widgets/base",
            "_model_module_version": "1.2.0",
            "_model_name": "LayoutModel",
            "_view_count": null,
            "_view_module": "@jupyter-widgets/base",
            "_view_module_version": "1.2.0",
            "_view_name": "LayoutView",
            "align_content": null,
            "align_items": null,
            "align_self": null,
            "border": null,
            "bottom": null,
            "display": null,
            "flex": null,
            "flex_flow": null,
            "grid_area": null,
            "grid_auto_columns": null,
            "grid_auto_flow": null,
            "grid_auto_rows": null,
            "grid_column": null,
            "grid_gap": null,
            "grid_row": null,
            "grid_template_areas": null,
            "grid_template_columns": null,
            "grid_template_rows": null,
            "height": null,
            "justify_content": null,
            "justify_items": null,
            "left": null,
            "margin": null,
            "max_height": null,
            "max_width": null,
            "min_height": null,
            "min_width": null,
            "object_fit": null,
            "object_position": null,
            "order": null,
            "overflow": null,
            "overflow_x": null,
            "overflow_y": null,
            "padding": null,
            "right": null,
            "top": null,
            "visibility": null,
            "width": null
          }
        },
        "23bc1e0781de43899ea20e3b77017f2b": {
          "model_module": "@jupyter-widgets/controls",
          "model_name": "DescriptionStyleModel",
          "model_module_version": "1.5.0",
          "state": {
            "_model_module": "@jupyter-widgets/controls",
            "_model_module_version": "1.5.0",
            "_model_name": "DescriptionStyleModel",
            "_view_count": null,
            "_view_module": "@jupyter-widgets/base",
            "_view_module_version": "1.2.0",
            "_view_name": "StyleView",
            "description_width": ""
          }
        },
        "cb35ef12ee4f4a009096962ab3699a04": {
          "model_module": "@jupyter-widgets/controls",
          "model_name": "HBoxModel",
          "model_module_version": "1.5.0",
          "state": {
            "_dom_classes": [],
            "_model_module": "@jupyter-widgets/controls",
            "_model_module_version": "1.5.0",
            "_model_name": "HBoxModel",
            "_view_count": null,
            "_view_module": "@jupyter-widgets/controls",
            "_view_module_version": "1.5.0",
            "_view_name": "HBoxView",
            "box_style": "",
            "children": [
              "IPY_MODEL_8b0f4e31c7124b7681f46026e8383437",
              "IPY_MODEL_1266480a62424c7c8066b1a4afba231f",
              "IPY_MODEL_7e805e382da7417cb8eab85bf396aba3"
            ],
            "layout": "IPY_MODEL_21e6af562fd648618e7bfd59dc6e2a9c"
          }
        },
        "8b0f4e31c7124b7681f46026e8383437": {
          "model_module": "@jupyter-widgets/controls",
          "model_name": "HTMLModel",
          "model_module_version": "1.5.0",
          "state": {
            "_dom_classes": [],
            "_model_module": "@jupyter-widgets/controls",
            "_model_module_version": "1.5.0",
            "_model_name": "HTMLModel",
            "_view_count": null,
            "_view_module": "@jupyter-widgets/controls",
            "_view_module_version": "1.5.0",
            "_view_name": "HTMLView",
            "description": "",
            "description_tooltip": null,
            "layout": "IPY_MODEL_c078fb05458f46ceb98f5470c271ddd0",
            "placeholder": "​",
            "style": "IPY_MODEL_2fcb58d1946a400988761ec6fd17b07c",
            "value": "Downloading config.json: 100%"
          }
        },
        "1266480a62424c7c8066b1a4afba231f": {
          "model_module": "@jupyter-widgets/controls",
          "model_name": "FloatProgressModel",
          "model_module_version": "1.5.0",
          "state": {
            "_dom_classes": [],
            "_model_module": "@jupyter-widgets/controls",
            "_model_module_version": "1.5.0",
            "_model_name": "FloatProgressModel",
            "_view_count": null,
            "_view_module": "@jupyter-widgets/controls",
            "_view_module_version": "1.5.0",
            "_view_name": "ProgressView",
            "bar_style": "success",
            "description": "",
            "description_tooltip": null,
            "layout": "IPY_MODEL_867b343a1ca948f195223b0f2e528e94",
            "max": 579,
            "min": 0,
            "orientation": "horizontal",
            "style": "IPY_MODEL_a89827c2336240bcae359fd47feeef34",
            "value": 579
          }
        },
        "7e805e382da7417cb8eab85bf396aba3": {
          "model_module": "@jupyter-widgets/controls",
          "model_name": "HTMLModel",
          "model_module_version": "1.5.0",
          "state": {
            "_dom_classes": [],
            "_model_module": "@jupyter-widgets/controls",
            "_model_module_version": "1.5.0",
            "_model_name": "HTMLModel",
            "_view_count": null,
            "_view_module": "@jupyter-widgets/controls",
            "_view_module_version": "1.5.0",
            "_view_name": "HTMLView",
            "description": "",
            "description_tooltip": null,
            "layout": "IPY_MODEL_f49dde86aad34a5db975ce6c15b3a3a3",
            "placeholder": "​",
            "style": "IPY_MODEL_d18866be4d034a21b560d9128f867d2e",
            "value": " 579/579 [00:00&lt;00:00, 13.0kB/s]"
          }
        },
        "21e6af562fd648618e7bfd59dc6e2a9c": {
          "model_module": "@jupyter-widgets/base",
          "model_name": "LayoutModel",
          "model_module_version": "1.2.0",
          "state": {
            "_model_module": "@jupyter-widgets/base",
            "_model_module_version": "1.2.0",
            "_model_name": "LayoutModel",
            "_view_count": null,
            "_view_module": "@jupyter-widgets/base",
            "_view_module_version": "1.2.0",
            "_view_name": "LayoutView",
            "align_content": null,
            "align_items": null,
            "align_self": null,
            "border": null,
            "bottom": null,
            "display": null,
            "flex": null,
            "flex_flow": null,
            "grid_area": null,
            "grid_auto_columns": null,
            "grid_auto_flow": null,
            "grid_auto_rows": null,
            "grid_column": null,
            "grid_gap": null,
            "grid_row": null,
            "grid_template_areas": null,
            "grid_template_columns": null,
            "grid_template_rows": null,
            "height": null,
            "justify_content": null,
            "justify_items": null,
            "left": null,
            "margin": null,
            "max_height": null,
            "max_width": null,
            "min_height": null,
            "min_width": null,
            "object_fit": null,
            "object_position": null,
            "order": null,
            "overflow": null,
            "overflow_x": null,
            "overflow_y": null,
            "padding": null,
            "right": null,
            "top": null,
            "visibility": null,
            "width": null
          }
        },
        "c078fb05458f46ceb98f5470c271ddd0": {
          "model_module": "@jupyter-widgets/base",
          "model_name": "LayoutModel",
          "model_module_version": "1.2.0",
          "state": {
            "_model_module": "@jupyter-widgets/base",
            "_model_module_version": "1.2.0",
            "_model_name": "LayoutModel",
            "_view_count": null,
            "_view_module": "@jupyter-widgets/base",
            "_view_module_version": "1.2.0",
            "_view_name": "LayoutView",
            "align_content": null,
            "align_items": null,
            "align_self": null,
            "border": null,
            "bottom": null,
            "display": null,
            "flex": null,
            "flex_flow": null,
            "grid_area": null,
            "grid_auto_columns": null,
            "grid_auto_flow": null,
            "grid_auto_rows": null,
            "grid_column": null,
            "grid_gap": null,
            "grid_row": null,
            "grid_template_areas": null,
            "grid_template_columns": null,
            "grid_template_rows": null,
            "height": null,
            "justify_content": null,
            "justify_items": null,
            "left": null,
            "margin": null,
            "max_height": null,
            "max_width": null,
            "min_height": null,
            "min_width": null,
            "object_fit": null,
            "object_position": null,
            "order": null,
            "overflow": null,
            "overflow_x": null,
            "overflow_y": null,
            "padding": null,
            "right": null,
            "top": null,
            "visibility": null,
            "width": null
          }
        },
        "2fcb58d1946a400988761ec6fd17b07c": {
          "model_module": "@jupyter-widgets/controls",
          "model_name": "DescriptionStyleModel",
          "model_module_version": "1.5.0",
          "state": {
            "_model_module": "@jupyter-widgets/controls",
            "_model_module_version": "1.5.0",
            "_model_name": "DescriptionStyleModel",
            "_view_count": null,
            "_view_module": "@jupyter-widgets/base",
            "_view_module_version": "1.2.0",
            "_view_name": "StyleView",
            "description_width": ""
          }
        },
        "867b343a1ca948f195223b0f2e528e94": {
          "model_module": "@jupyter-widgets/base",
          "model_name": "LayoutModel",
          "model_module_version": "1.2.0",
          "state": {
            "_model_module": "@jupyter-widgets/base",
            "_model_module_version": "1.2.0",
            "_model_name": "LayoutModel",
            "_view_count": null,
            "_view_module": "@jupyter-widgets/base",
            "_view_module_version": "1.2.0",
            "_view_name": "LayoutView",
            "align_content": null,
            "align_items": null,
            "align_self": null,
            "border": null,
            "bottom": null,
            "display": null,
            "flex": null,
            "flex_flow": null,
            "grid_area": null,
            "grid_auto_columns": null,
            "grid_auto_flow": null,
            "grid_auto_rows": null,
            "grid_column": null,
            "grid_gap": null,
            "grid_row": null,
            "grid_template_areas": null,
            "grid_template_columns": null,
            "grid_template_rows": null,
            "height": null,
            "justify_content": null,
            "justify_items": null,
            "left": null,
            "margin": null,
            "max_height": null,
            "max_width": null,
            "min_height": null,
            "min_width": null,
            "object_fit": null,
            "object_position": null,
            "order": null,
            "overflow": null,
            "overflow_x": null,
            "overflow_y": null,
            "padding": null,
            "right": null,
            "top": null,
            "visibility": null,
            "width": null
          }
        },
        "a89827c2336240bcae359fd47feeef34": {
          "model_module": "@jupyter-widgets/controls",
          "model_name": "ProgressStyleModel",
          "model_module_version": "1.5.0",
          "state": {
            "_model_module": "@jupyter-widgets/controls",
            "_model_module_version": "1.5.0",
            "_model_name": "ProgressStyleModel",
            "_view_count": null,
            "_view_module": "@jupyter-widgets/base",
            "_view_module_version": "1.2.0",
            "_view_name": "StyleView",
            "bar_color": null,
            "description_width": ""
          }
        },
        "f49dde86aad34a5db975ce6c15b3a3a3": {
          "model_module": "@jupyter-widgets/base",
          "model_name": "LayoutModel",
          "model_module_version": "1.2.0",
          "state": {
            "_model_module": "@jupyter-widgets/base",
            "_model_module_version": "1.2.0",
            "_model_name": "LayoutModel",
            "_view_count": null,
            "_view_module": "@jupyter-widgets/base",
            "_view_module_version": "1.2.0",
            "_view_name": "LayoutView",
            "align_content": null,
            "align_items": null,
            "align_self": null,
            "border": null,
            "bottom": null,
            "display": null,
            "flex": null,
            "flex_flow": null,
            "grid_area": null,
            "grid_auto_columns": null,
            "grid_auto_flow": null,
            "grid_auto_rows": null,
            "grid_column": null,
            "grid_gap": null,
            "grid_row": null,
            "grid_template_areas": null,
            "grid_template_columns": null,
            "grid_template_rows": null,
            "height": null,
            "justify_content": null,
            "justify_items": null,
            "left": null,
            "margin": null,
            "max_height": null,
            "max_width": null,
            "min_height": null,
            "min_width": null,
            "object_fit": null,
            "object_position": null,
            "order": null,
            "overflow": null,
            "overflow_x": null,
            "overflow_y": null,
            "padding": null,
            "right": null,
            "top": null,
            "visibility": null,
            "width": null
          }
        },
        "d18866be4d034a21b560d9128f867d2e": {
          "model_module": "@jupyter-widgets/controls",
          "model_name": "DescriptionStyleModel",
          "model_module_version": "1.5.0",
          "state": {
            "_model_module": "@jupyter-widgets/controls",
            "_model_module_version": "1.5.0",
            "_model_name": "DescriptionStyleModel",
            "_view_count": null,
            "_view_module": "@jupyter-widgets/base",
            "_view_module_version": "1.2.0",
            "_view_name": "StyleView",
            "description_width": ""
          }
        },
        "b6cd4da4affe42318a72c308a04d8d52": {
          "model_module": "@jupyter-widgets/controls",
          "model_name": "HBoxModel",
          "model_module_version": "1.5.0",
          "state": {
            "_dom_classes": [],
            "_model_module": "@jupyter-widgets/controls",
            "_model_module_version": "1.5.0",
            "_model_name": "HBoxModel",
            "_view_count": null,
            "_view_module": "@jupyter-widgets/controls",
            "_view_module_version": "1.5.0",
            "_view_name": "HBoxView",
            "box_style": "",
            "children": [
              "IPY_MODEL_68ad4190e03a4399877b7e3819c7a9df",
              "IPY_MODEL_9ca613ac1a3b4b7dafa4606dd49006da",
              "IPY_MODEL_fd43911599024027ad7ffc20154cc1b3"
            ],
            "layout": "IPY_MODEL_7364c90bb5ed4f6484d8f82be7b7c931"
          }
        },
        "68ad4190e03a4399877b7e3819c7a9df": {
          "model_module": "@jupyter-widgets/controls",
          "model_name": "HTMLModel",
          "model_module_version": "1.5.0",
          "state": {
            "_dom_classes": [],
            "_model_module": "@jupyter-widgets/controls",
            "_model_module_version": "1.5.0",
            "_model_name": "HTMLModel",
            "_view_count": null,
            "_view_module": "@jupyter-widgets/controls",
            "_view_module_version": "1.5.0",
            "_view_name": "HTMLView",
            "description": "",
            "description_tooltip": null,
            "layout": "IPY_MODEL_1fc7b06e29534c1a80e6ebb7554981e6",
            "placeholder": "​",
            "style": "IPY_MODEL_8d2f763c75304a6a8b09373cd1409b9f",
            "value": "Downloading tokenizer_config.json: 100%"
          }
        },
        "9ca613ac1a3b4b7dafa4606dd49006da": {
          "model_module": "@jupyter-widgets/controls",
          "model_name": "FloatProgressModel",
          "model_module_version": "1.5.0",
          "state": {
            "_dom_classes": [],
            "_model_module": "@jupyter-widgets/controls",
            "_model_module_version": "1.5.0",
            "_model_name": "FloatProgressModel",
            "_view_count": null,
            "_view_module": "@jupyter-widgets/controls",
            "_view_module_version": "1.5.0",
            "_view_name": "ProgressView",
            "bar_style": "success",
            "description": "",
            "description_tooltip": null,
            "layout": "IPY_MODEL_9d0745d6d62a466bb9849f55c7e93114",
            "max": 52,
            "min": 0,
            "orientation": "horizontal",
            "style": "IPY_MODEL_6ec5fd5a22894d9a98e20d0f1624882d",
            "value": 52
          }
        },
        "fd43911599024027ad7ffc20154cc1b3": {
          "model_module": "@jupyter-widgets/controls",
          "model_name": "HTMLModel",
          "model_module_version": "1.5.0",
          "state": {
            "_dom_classes": [],
            "_model_module": "@jupyter-widgets/controls",
            "_model_module_version": "1.5.0",
            "_model_name": "HTMLModel",
            "_view_count": null,
            "_view_module": "@jupyter-widgets/controls",
            "_view_module_version": "1.5.0",
            "_view_name": "HTMLView",
            "description": "",
            "description_tooltip": null,
            "layout": "IPY_MODEL_dbf9083b1f044bfbb4fb6e5f4ee08e0a",
            "placeholder": "​",
            "style": "IPY_MODEL_93c392238914456db8465db56c0d58e0",
            "value": " 52.0/52.0 [00:00&lt;00:00, 1.55kB/s]"
          }
        },
        "7364c90bb5ed4f6484d8f82be7b7c931": {
          "model_module": "@jupyter-widgets/base",
          "model_name": "LayoutModel",
          "model_module_version": "1.2.0",
          "state": {
            "_model_module": "@jupyter-widgets/base",
            "_model_module_version": "1.2.0",
            "_model_name": "LayoutModel",
            "_view_count": null,
            "_view_module": "@jupyter-widgets/base",
            "_view_module_version": "1.2.0",
            "_view_name": "LayoutView",
            "align_content": null,
            "align_items": null,
            "align_self": null,
            "border": null,
            "bottom": null,
            "display": null,
            "flex": null,
            "flex_flow": null,
            "grid_area": null,
            "grid_auto_columns": null,
            "grid_auto_flow": null,
            "grid_auto_rows": null,
            "grid_column": null,
            "grid_gap": null,
            "grid_row": null,
            "grid_template_areas": null,
            "grid_template_columns": null,
            "grid_template_rows": null,
            "height": null,
            "justify_content": null,
            "justify_items": null,
            "left": null,
            "margin": null,
            "max_height": null,
            "max_width": null,
            "min_height": null,
            "min_width": null,
            "object_fit": null,
            "object_position": null,
            "order": null,
            "overflow": null,
            "overflow_x": null,
            "overflow_y": null,
            "padding": null,
            "right": null,
            "top": null,
            "visibility": null,
            "width": null
          }
        },
        "1fc7b06e29534c1a80e6ebb7554981e6": {
          "model_module": "@jupyter-widgets/base",
          "model_name": "LayoutModel",
          "model_module_version": "1.2.0",
          "state": {
            "_model_module": "@jupyter-widgets/base",
            "_model_module_version": "1.2.0",
            "_model_name": "LayoutModel",
            "_view_count": null,
            "_view_module": "@jupyter-widgets/base",
            "_view_module_version": "1.2.0",
            "_view_name": "LayoutView",
            "align_content": null,
            "align_items": null,
            "align_self": null,
            "border": null,
            "bottom": null,
            "display": null,
            "flex": null,
            "flex_flow": null,
            "grid_area": null,
            "grid_auto_columns": null,
            "grid_auto_flow": null,
            "grid_auto_rows": null,
            "grid_column": null,
            "grid_gap": null,
            "grid_row": null,
            "grid_template_areas": null,
            "grid_template_columns": null,
            "grid_template_rows": null,
            "height": null,
            "justify_content": null,
            "justify_items": null,
            "left": null,
            "margin": null,
            "max_height": null,
            "max_width": null,
            "min_height": null,
            "min_width": null,
            "object_fit": null,
            "object_position": null,
            "order": null,
            "overflow": null,
            "overflow_x": null,
            "overflow_y": null,
            "padding": null,
            "right": null,
            "top": null,
            "visibility": null,
            "width": null
          }
        },
        "8d2f763c75304a6a8b09373cd1409b9f": {
          "model_module": "@jupyter-widgets/controls",
          "model_name": "DescriptionStyleModel",
          "model_module_version": "1.5.0",
          "state": {
            "_model_module": "@jupyter-widgets/controls",
            "_model_module_version": "1.5.0",
            "_model_name": "DescriptionStyleModel",
            "_view_count": null,
            "_view_module": "@jupyter-widgets/base",
            "_view_module_version": "1.2.0",
            "_view_name": "StyleView",
            "description_width": ""
          }
        },
        "9d0745d6d62a466bb9849f55c7e93114": {
          "model_module": "@jupyter-widgets/base",
          "model_name": "LayoutModel",
          "model_module_version": "1.2.0",
          "state": {
            "_model_module": "@jupyter-widgets/base",
            "_model_module_version": "1.2.0",
            "_model_name": "LayoutModel",
            "_view_count": null,
            "_view_module": "@jupyter-widgets/base",
            "_view_module_version": "1.2.0",
            "_view_name": "LayoutView",
            "align_content": null,
            "align_items": null,
            "align_self": null,
            "border": null,
            "bottom": null,
            "display": null,
            "flex": null,
            "flex_flow": null,
            "grid_area": null,
            "grid_auto_columns": null,
            "grid_auto_flow": null,
            "grid_auto_rows": null,
            "grid_column": null,
            "grid_gap": null,
            "grid_row": null,
            "grid_template_areas": null,
            "grid_template_columns": null,
            "grid_template_rows": null,
            "height": null,
            "justify_content": null,
            "justify_items": null,
            "left": null,
            "margin": null,
            "max_height": null,
            "max_width": null,
            "min_height": null,
            "min_width": null,
            "object_fit": null,
            "object_position": null,
            "order": null,
            "overflow": null,
            "overflow_x": null,
            "overflow_y": null,
            "padding": null,
            "right": null,
            "top": null,
            "visibility": null,
            "width": null
          }
        },
        "6ec5fd5a22894d9a98e20d0f1624882d": {
          "model_module": "@jupyter-widgets/controls",
          "model_name": "ProgressStyleModel",
          "model_module_version": "1.5.0",
          "state": {
            "_model_module": "@jupyter-widgets/controls",
            "_model_module_version": "1.5.0",
            "_model_name": "ProgressStyleModel",
            "_view_count": null,
            "_view_module": "@jupyter-widgets/base",
            "_view_module_version": "1.2.0",
            "_view_name": "StyleView",
            "bar_color": null,
            "description_width": ""
          }
        },
        "dbf9083b1f044bfbb4fb6e5f4ee08e0a": {
          "model_module": "@jupyter-widgets/base",
          "model_name": "LayoutModel",
          "model_module_version": "1.2.0",
          "state": {
            "_model_module": "@jupyter-widgets/base",
            "_model_module_version": "1.2.0",
            "_model_name": "LayoutModel",
            "_view_count": null,
            "_view_module": "@jupyter-widgets/base",
            "_view_module_version": "1.2.0",
            "_view_name": "LayoutView",
            "align_content": null,
            "align_items": null,
            "align_self": null,
            "border": null,
            "bottom": null,
            "display": null,
            "flex": null,
            "flex_flow": null,
            "grid_area": null,
            "grid_auto_columns": null,
            "grid_auto_flow": null,
            "grid_auto_rows": null,
            "grid_column": null,
            "grid_gap": null,
            "grid_row": null,
            "grid_template_areas": null,
            "grid_template_columns": null,
            "grid_template_rows": null,
            "height": null,
            "justify_content": null,
            "justify_items": null,
            "left": null,
            "margin": null,
            "max_height": null,
            "max_width": null,
            "min_height": null,
            "min_width": null,
            "object_fit": null,
            "object_position": null,
            "order": null,
            "overflow": null,
            "overflow_x": null,
            "overflow_y": null,
            "padding": null,
            "right": null,
            "top": null,
            "visibility": null,
            "width": null
          }
        },
        "93c392238914456db8465db56c0d58e0": {
          "model_module": "@jupyter-widgets/controls",
          "model_name": "DescriptionStyleModel",
          "model_module_version": "1.5.0",
          "state": {
            "_model_module": "@jupyter-widgets/controls",
            "_model_module_version": "1.5.0",
            "_model_name": "DescriptionStyleModel",
            "_view_count": null,
            "_view_module": "@jupyter-widgets/base",
            "_view_module_version": "1.2.0",
            "_view_name": "StyleView",
            "description_width": ""
          }
        },
        "3f877f84801c409ba1289d8546c273a7": {
          "model_module": "@jupyter-widgets/controls",
          "model_name": "HBoxModel",
          "model_module_version": "1.5.0",
          "state": {
            "_dom_classes": [],
            "_model_module": "@jupyter-widgets/controls",
            "_model_module_version": "1.5.0",
            "_model_name": "HBoxModel",
            "_view_count": null,
            "_view_module": "@jupyter-widgets/controls",
            "_view_module_version": "1.5.0",
            "_view_name": "HBoxView",
            "box_style": "",
            "children": [
              "IPY_MODEL_b07dc8b541ae4f4d87b5e03803e78d25",
              "IPY_MODEL_a0ef4f6136484f61af2c8bce710e62fd",
              "IPY_MODEL_5f37d23e2ae94b608abd7f30788b16ed"
            ],
            "layout": "IPY_MODEL_29699a40061d459e835dd4a0475ae272"
          }
        },
        "b07dc8b541ae4f4d87b5e03803e78d25": {
          "model_module": "@jupyter-widgets/controls",
          "model_name": "HTMLModel",
          "model_module_version": "1.5.0",
          "state": {
            "_dom_classes": [],
            "_model_module": "@jupyter-widgets/controls",
            "_model_module_version": "1.5.0",
            "_model_name": "HTMLModel",
            "_view_count": null,
            "_view_module": "@jupyter-widgets/controls",
            "_view_module_version": "1.5.0",
            "_view_name": "HTMLView",
            "description": "",
            "description_tooltip": null,
            "layout": "IPY_MODEL_506b93e213bb46fd88090f885349db64",
            "placeholder": "​",
            "style": "IPY_MODEL_d5d25f78de544ac2920f92d62f78ae27",
            "value": "Downloading spm.model: 100%"
          }
        },
        "a0ef4f6136484f61af2c8bce710e62fd": {
          "model_module": "@jupyter-widgets/controls",
          "model_name": "FloatProgressModel",
          "model_module_version": "1.5.0",
          "state": {
            "_dom_classes": [],
            "_model_module": "@jupyter-widgets/controls",
            "_model_module_version": "1.5.0",
            "_model_name": "FloatProgressModel",
            "_view_count": null,
            "_view_module": "@jupyter-widgets/controls",
            "_view_module_version": "1.5.0",
            "_view_name": "ProgressView",
            "bar_style": "success",
            "description": "",
            "description_tooltip": null,
            "layout": "IPY_MODEL_ba456f7010714a3fb8ccef5cf737a1c4",
            "max": 2464616,
            "min": 0,
            "orientation": "horizontal",
            "style": "IPY_MODEL_85b1dec5fa1548ababaf852ebfea50b3",
            "value": 2464616
          }
        },
        "5f37d23e2ae94b608abd7f30788b16ed": {
          "model_module": "@jupyter-widgets/controls",
          "model_name": "HTMLModel",
          "model_module_version": "1.5.0",
          "state": {
            "_dom_classes": [],
            "_model_module": "@jupyter-widgets/controls",
            "_model_module_version": "1.5.0",
            "_model_name": "HTMLModel",
            "_view_count": null,
            "_view_module": "@jupyter-widgets/controls",
            "_view_module_version": "1.5.0",
            "_view_name": "HTMLView",
            "description": "",
            "description_tooltip": null,
            "layout": "IPY_MODEL_798961b62a5f4ebe80504a08b124ce2c",
            "placeholder": "​",
            "style": "IPY_MODEL_55d4b0d9bb1741509d1959aebea41bf2",
            "value": " 2.35M/2.35M [00:00&lt;00:00, 14.8MB/s]"
          }
        },
        "29699a40061d459e835dd4a0475ae272": {
          "model_module": "@jupyter-widgets/base",
          "model_name": "LayoutModel",
          "model_module_version": "1.2.0",
          "state": {
            "_model_module": "@jupyter-widgets/base",
            "_model_module_version": "1.2.0",
            "_model_name": "LayoutModel",
            "_view_count": null,
            "_view_module": "@jupyter-widgets/base",
            "_view_module_version": "1.2.0",
            "_view_name": "LayoutView",
            "align_content": null,
            "align_items": null,
            "align_self": null,
            "border": null,
            "bottom": null,
            "display": null,
            "flex": null,
            "flex_flow": null,
            "grid_area": null,
            "grid_auto_columns": null,
            "grid_auto_flow": null,
            "grid_auto_rows": null,
            "grid_column": null,
            "grid_gap": null,
            "grid_row": null,
            "grid_template_areas": null,
            "grid_template_columns": null,
            "grid_template_rows": null,
            "height": null,
            "justify_content": null,
            "justify_items": null,
            "left": null,
            "margin": null,
            "max_height": null,
            "max_width": null,
            "min_height": null,
            "min_width": null,
            "object_fit": null,
            "object_position": null,
            "order": null,
            "overflow": null,
            "overflow_x": null,
            "overflow_y": null,
            "padding": null,
            "right": null,
            "top": null,
            "visibility": null,
            "width": null
          }
        },
        "506b93e213bb46fd88090f885349db64": {
          "model_module": "@jupyter-widgets/base",
          "model_name": "LayoutModel",
          "model_module_version": "1.2.0",
          "state": {
            "_model_module": "@jupyter-widgets/base",
            "_model_module_version": "1.2.0",
            "_model_name": "LayoutModel",
            "_view_count": null,
            "_view_module": "@jupyter-widgets/base",
            "_view_module_version": "1.2.0",
            "_view_name": "LayoutView",
            "align_content": null,
            "align_items": null,
            "align_self": null,
            "border": null,
            "bottom": null,
            "display": null,
            "flex": null,
            "flex_flow": null,
            "grid_area": null,
            "grid_auto_columns": null,
            "grid_auto_flow": null,
            "grid_auto_rows": null,
            "grid_column": null,
            "grid_gap": null,
            "grid_row": null,
            "grid_template_areas": null,
            "grid_template_columns": null,
            "grid_template_rows": null,
            "height": null,
            "justify_content": null,
            "justify_items": null,
            "left": null,
            "margin": null,
            "max_height": null,
            "max_width": null,
            "min_height": null,
            "min_width": null,
            "object_fit": null,
            "object_position": null,
            "order": null,
            "overflow": null,
            "overflow_x": null,
            "overflow_y": null,
            "padding": null,
            "right": null,
            "top": null,
            "visibility": null,
            "width": null
          }
        },
        "d5d25f78de544ac2920f92d62f78ae27": {
          "model_module": "@jupyter-widgets/controls",
          "model_name": "DescriptionStyleModel",
          "model_module_version": "1.5.0",
          "state": {
            "_model_module": "@jupyter-widgets/controls",
            "_model_module_version": "1.5.0",
            "_model_name": "DescriptionStyleModel",
            "_view_count": null,
            "_view_module": "@jupyter-widgets/base",
            "_view_module_version": "1.2.0",
            "_view_name": "StyleView",
            "description_width": ""
          }
        },
        "ba456f7010714a3fb8ccef5cf737a1c4": {
          "model_module": "@jupyter-widgets/base",
          "model_name": "LayoutModel",
          "model_module_version": "1.2.0",
          "state": {
            "_model_module": "@jupyter-widgets/base",
            "_model_module_version": "1.2.0",
            "_model_name": "LayoutModel",
            "_view_count": null,
            "_view_module": "@jupyter-widgets/base",
            "_view_module_version": "1.2.0",
            "_view_name": "LayoutView",
            "align_content": null,
            "align_items": null,
            "align_self": null,
            "border": null,
            "bottom": null,
            "display": null,
            "flex": null,
            "flex_flow": null,
            "grid_area": null,
            "grid_auto_columns": null,
            "grid_auto_flow": null,
            "grid_auto_rows": null,
            "grid_column": null,
            "grid_gap": null,
            "grid_row": null,
            "grid_template_areas": null,
            "grid_template_columns": null,
            "grid_template_rows": null,
            "height": null,
            "justify_content": null,
            "justify_items": null,
            "left": null,
            "margin": null,
            "max_height": null,
            "max_width": null,
            "min_height": null,
            "min_width": null,
            "object_fit": null,
            "object_position": null,
            "order": null,
            "overflow": null,
            "overflow_x": null,
            "overflow_y": null,
            "padding": null,
            "right": null,
            "top": null,
            "visibility": null,
            "width": null
          }
        },
        "85b1dec5fa1548ababaf852ebfea50b3": {
          "model_module": "@jupyter-widgets/controls",
          "model_name": "ProgressStyleModel",
          "model_module_version": "1.5.0",
          "state": {
            "_model_module": "@jupyter-widgets/controls",
            "_model_module_version": "1.5.0",
            "_model_name": "ProgressStyleModel",
            "_view_count": null,
            "_view_module": "@jupyter-widgets/base",
            "_view_module_version": "1.2.0",
            "_view_name": "StyleView",
            "bar_color": null,
            "description_width": ""
          }
        },
        "798961b62a5f4ebe80504a08b124ce2c": {
          "model_module": "@jupyter-widgets/base",
          "model_name": "LayoutModel",
          "model_module_version": "1.2.0",
          "state": {
            "_model_module": "@jupyter-widgets/base",
            "_model_module_version": "1.2.0",
            "_model_name": "LayoutModel",
            "_view_count": null,
            "_view_module": "@jupyter-widgets/base",
            "_view_module_version": "1.2.0",
            "_view_name": "LayoutView",
            "align_content": null,
            "align_items": null,
            "align_self": null,
            "border": null,
            "bottom": null,
            "display": null,
            "flex": null,
            "flex_flow": null,
            "grid_area": null,
            "grid_auto_columns": null,
            "grid_auto_flow": null,
            "grid_auto_rows": null,
            "grid_column": null,
            "grid_gap": null,
            "grid_row": null,
            "grid_template_areas": null,
            "grid_template_columns": null,
            "grid_template_rows": null,
            "height": null,
            "justify_content": null,
            "justify_items": null,
            "left": null,
            "margin": null,
            "max_height": null,
            "max_width": null,
            "min_height": null,
            "min_width": null,
            "object_fit": null,
            "object_position": null,
            "order": null,
            "overflow": null,
            "overflow_x": null,
            "overflow_y": null,
            "padding": null,
            "right": null,
            "top": null,
            "visibility": null,
            "width": null
          }
        },
        "55d4b0d9bb1741509d1959aebea41bf2": {
          "model_module": "@jupyter-widgets/controls",
          "model_name": "DescriptionStyleModel",
          "model_module_version": "1.5.0",
          "state": {
            "_model_module": "@jupyter-widgets/controls",
            "_model_module_version": "1.5.0",
            "_model_name": "DescriptionStyleModel",
            "_view_count": null,
            "_view_module": "@jupyter-widgets/base",
            "_view_module_version": "1.2.0",
            "_view_name": "StyleView",
            "description_width": ""
          }
        },
        "a96bf5d5372b45ddbafa70cb7e974e00": {
          "model_module": "@jupyter-widgets/controls",
          "model_name": "HBoxModel",
          "model_module_version": "1.5.0",
          "state": {
            "_dom_classes": [],
            "_model_module": "@jupyter-widgets/controls",
            "_model_module_version": "1.5.0",
            "_model_name": "HBoxModel",
            "_view_count": null,
            "_view_module": "@jupyter-widgets/controls",
            "_view_module_version": "1.5.0",
            "_view_name": "HBoxView",
            "box_style": "",
            "children": [
              "IPY_MODEL_3891ed1d2ecc447e8082968be91be5f9",
              "IPY_MODEL_7bf092cbc94043f987098ccd8400364c",
              "IPY_MODEL_439bfef2c09143078a8aff62d5ae361f"
            ],
            "layout": "IPY_MODEL_6c7e633c597a437dab739c673309a290"
          }
        },
        "3891ed1d2ecc447e8082968be91be5f9": {
          "model_module": "@jupyter-widgets/controls",
          "model_name": "HTMLModel",
          "model_module_version": "1.5.0",
          "state": {
            "_dom_classes": [],
            "_model_module": "@jupyter-widgets/controls",
            "_model_module_version": "1.5.0",
            "_model_name": "HTMLModel",
            "_view_count": null,
            "_view_module": "@jupyter-widgets/controls",
            "_view_module_version": "1.5.0",
            "_view_name": "HTMLView",
            "description": "",
            "description_tooltip": null,
            "layout": "IPY_MODEL_e5b7fafc86744eed9b80df0aa6bb6a91",
            "placeholder": "​",
            "style": "IPY_MODEL_fccb6f1362314391a4eb63a12fc20c2c",
            "value": "Downloading pytorch_model.bin: 100%"
          }
        },
        "7bf092cbc94043f987098ccd8400364c": {
          "model_module": "@jupyter-widgets/controls",
          "model_name": "FloatProgressModel",
          "model_module_version": "1.5.0",
          "state": {
            "_dom_classes": [],
            "_model_module": "@jupyter-widgets/controls",
            "_model_module_version": "1.5.0",
            "_model_name": "FloatProgressModel",
            "_view_count": null,
            "_view_module": "@jupyter-widgets/controls",
            "_view_module_version": "1.5.0",
            "_view_name": "ProgressView",
            "bar_style": "success",
            "description": "",
            "description_tooltip": null,
            "layout": "IPY_MODEL_92a208f0ee0a44a582b5a7fde223441e",
            "max": 371146213,
            "min": 0,
            "orientation": "horizontal",
            "style": "IPY_MODEL_7ab095af688e4c15872525080d9d662a",
            "value": 371146213
          }
        },
        "439bfef2c09143078a8aff62d5ae361f": {
          "model_module": "@jupyter-widgets/controls",
          "model_name": "HTMLModel",
          "model_module_version": "1.5.0",
          "state": {
            "_dom_classes": [],
            "_model_module": "@jupyter-widgets/controls",
            "_model_module_version": "1.5.0",
            "_model_name": "HTMLModel",
            "_view_count": null,
            "_view_module": "@jupyter-widgets/controls",
            "_view_module_version": "1.5.0",
            "_view_name": "HTMLView",
            "description": "",
            "description_tooltip": null,
            "layout": "IPY_MODEL_cd79625ace494478aa44a09f3c75e607",
            "placeholder": "​",
            "style": "IPY_MODEL_9441f2eaf6ff44d886cb71519213b9cc",
            "value": " 354M/354M [00:07&lt;00:00, 49.5MB/s]"
          }
        },
        "6c7e633c597a437dab739c673309a290": {
          "model_module": "@jupyter-widgets/base",
          "model_name": "LayoutModel",
          "model_module_version": "1.2.0",
          "state": {
            "_model_module": "@jupyter-widgets/base",
            "_model_module_version": "1.2.0",
            "_model_name": "LayoutModel",
            "_view_count": null,
            "_view_module": "@jupyter-widgets/base",
            "_view_module_version": "1.2.0",
            "_view_name": "LayoutView",
            "align_content": null,
            "align_items": null,
            "align_self": null,
            "border": null,
            "bottom": null,
            "display": null,
            "flex": null,
            "flex_flow": null,
            "grid_area": null,
            "grid_auto_columns": null,
            "grid_auto_flow": null,
            "grid_auto_rows": null,
            "grid_column": null,
            "grid_gap": null,
            "grid_row": null,
            "grid_template_areas": null,
            "grid_template_columns": null,
            "grid_template_rows": null,
            "height": null,
            "justify_content": null,
            "justify_items": null,
            "left": null,
            "margin": null,
            "max_height": null,
            "max_width": null,
            "min_height": null,
            "min_width": null,
            "object_fit": null,
            "object_position": null,
            "order": null,
            "overflow": null,
            "overflow_x": null,
            "overflow_y": null,
            "padding": null,
            "right": null,
            "top": null,
            "visibility": null,
            "width": null
          }
        },
        "e5b7fafc86744eed9b80df0aa6bb6a91": {
          "model_module": "@jupyter-widgets/base",
          "model_name": "LayoutModel",
          "model_module_version": "1.2.0",
          "state": {
            "_model_module": "@jupyter-widgets/base",
            "_model_module_version": "1.2.0",
            "_model_name": "LayoutModel",
            "_view_count": null,
            "_view_module": "@jupyter-widgets/base",
            "_view_module_version": "1.2.0",
            "_view_name": "LayoutView",
            "align_content": null,
            "align_items": null,
            "align_self": null,
            "border": null,
            "bottom": null,
            "display": null,
            "flex": null,
            "flex_flow": null,
            "grid_area": null,
            "grid_auto_columns": null,
            "grid_auto_flow": null,
            "grid_auto_rows": null,
            "grid_column": null,
            "grid_gap": null,
            "grid_row": null,
            "grid_template_areas": null,
            "grid_template_columns": null,
            "grid_template_rows": null,
            "height": null,
            "justify_content": null,
            "justify_items": null,
            "left": null,
            "margin": null,
            "max_height": null,
            "max_width": null,
            "min_height": null,
            "min_width": null,
            "object_fit": null,
            "object_position": null,
            "order": null,
            "overflow": null,
            "overflow_x": null,
            "overflow_y": null,
            "padding": null,
            "right": null,
            "top": null,
            "visibility": null,
            "width": null
          }
        },
        "fccb6f1362314391a4eb63a12fc20c2c": {
          "model_module": "@jupyter-widgets/controls",
          "model_name": "DescriptionStyleModel",
          "model_module_version": "1.5.0",
          "state": {
            "_model_module": "@jupyter-widgets/controls",
            "_model_module_version": "1.5.0",
            "_model_name": "DescriptionStyleModel",
            "_view_count": null,
            "_view_module": "@jupyter-widgets/base",
            "_view_module_version": "1.2.0",
            "_view_name": "StyleView",
            "description_width": ""
          }
        },
        "92a208f0ee0a44a582b5a7fde223441e": {
          "model_module": "@jupyter-widgets/base",
          "model_name": "LayoutModel",
          "model_module_version": "1.2.0",
          "state": {
            "_model_module": "@jupyter-widgets/base",
            "_model_module_version": "1.2.0",
            "_model_name": "LayoutModel",
            "_view_count": null,
            "_view_module": "@jupyter-widgets/base",
            "_view_module_version": "1.2.0",
            "_view_name": "LayoutView",
            "align_content": null,
            "align_items": null,
            "align_self": null,
            "border": null,
            "bottom": null,
            "display": null,
            "flex": null,
            "flex_flow": null,
            "grid_area": null,
            "grid_auto_columns": null,
            "grid_auto_flow": null,
            "grid_auto_rows": null,
            "grid_column": null,
            "grid_gap": null,
            "grid_row": null,
            "grid_template_areas": null,
            "grid_template_columns": null,
            "grid_template_rows": null,
            "height": null,
            "justify_content": null,
            "justify_items": null,
            "left": null,
            "margin": null,
            "max_height": null,
            "max_width": null,
            "min_height": null,
            "min_width": null,
            "object_fit": null,
            "object_position": null,
            "order": null,
            "overflow": null,
            "overflow_x": null,
            "overflow_y": null,
            "padding": null,
            "right": null,
            "top": null,
            "visibility": null,
            "width": null
          }
        },
        "7ab095af688e4c15872525080d9d662a": {
          "model_module": "@jupyter-widgets/controls",
          "model_name": "ProgressStyleModel",
          "model_module_version": "1.5.0",
          "state": {
            "_model_module": "@jupyter-widgets/controls",
            "_model_module_version": "1.5.0",
            "_model_name": "ProgressStyleModel",
            "_view_count": null,
            "_view_module": "@jupyter-widgets/base",
            "_view_module_version": "1.2.0",
            "_view_name": "StyleView",
            "bar_color": null,
            "description_width": ""
          }
        },
        "cd79625ace494478aa44a09f3c75e607": {
          "model_module": "@jupyter-widgets/base",
          "model_name": "LayoutModel",
          "model_module_version": "1.2.0",
          "state": {
            "_model_module": "@jupyter-widgets/base",
            "_model_module_version": "1.2.0",
            "_model_name": "LayoutModel",
            "_view_count": null,
            "_view_module": "@jupyter-widgets/base",
            "_view_module_version": "1.2.0",
            "_view_name": "LayoutView",
            "align_content": null,
            "align_items": null,
            "align_self": null,
            "border": null,
            "bottom": null,
            "display": null,
            "flex": null,
            "flex_flow": null,
            "grid_area": null,
            "grid_auto_columns": null,
            "grid_auto_flow": null,
            "grid_auto_rows": null,
            "grid_column": null,
            "grid_gap": null,
            "grid_row": null,
            "grid_template_areas": null,
            "grid_template_columns": null,
            "grid_template_rows": null,
            "height": null,
            "justify_content": null,
            "justify_items": null,
            "left": null,
            "margin": null,
            "max_height": null,
            "max_width": null,
            "min_height": null,
            "min_width": null,
            "object_fit": null,
            "object_position": null,
            "order": null,
            "overflow": null,
            "overflow_x": null,
            "overflow_y": null,
            "padding": null,
            "right": null,
            "top": null,
            "visibility": null,
            "width": null
          }
        },
        "9441f2eaf6ff44d886cb71519213b9cc": {
          "model_module": "@jupyter-widgets/controls",
          "model_name": "DescriptionStyleModel",
          "model_module_version": "1.5.0",
          "state": {
            "_model_module": "@jupyter-widgets/controls",
            "_model_module_version": "1.5.0",
            "_model_name": "DescriptionStyleModel",
            "_view_count": null,
            "_view_module": "@jupyter-widgets/base",
            "_view_module_version": "1.2.0",
            "_view_name": "StyleView",
            "description_width": ""
          }
        }
      }
    },
    "accelerator": "GPU",
    "gpuClass": "standard"
  },
  "cells": [
    {
      "cell_type": "markdown",
      "source": [
        "# Aspect term extraction and sentiment classification via [PyABSA](https://github.com/yangheng95/PyABSA)\n",
        "Author: Heng Yang\n",
        "\n",
        "Github: https://github.com/yangheng95/PyABSA\n",
        "\n",
        "More usages see [here](https://github.com/yangheng95/PyABSA/tree/release/demos/aspect_term_extraction)"
      ],
      "metadata": {
        "id": "GIi_Lm8fP4lZ"
      }
    },
    {
      "cell_type": "code",
      "execution_count": null,
      "metadata": {
        "colab": {
          "base_uri": "https://localhost:8080/"
        },
        "id": "u9qtNy3ePgzd",
        "outputId": "51e81576-9a5a-4c39-87dd-547f5efa99ba"
      },
      "outputs": [
        {
          "output_type": "stream",
          "name": "stdout",
          "text": [
            "Looking in indexes: https://pypi.org/simple, https://us-python.pkg.dev/colab-wheels/public/simple/\n",
            "Collecting pyabsa\n",
            "  Downloading pyabsa-1.16.16-py3-none-any.whl (250 kB)\n",
            "\u001b[K     |████████████████████████████████| 250 kB 5.3 MB/s \n",
            "\u001b[?25hCollecting autocuda>=0.11\n",
            "  Downloading autocuda-0.11-py3-none-any.whl (4.8 kB)\n",
            "Requirement already satisfied: torch>1.0.0 in /usr/local/lib/python3.7/dist-packages (from pyabsa) (1.12.1+cu113)\n",
            "Collecting metric-visualizer>=0.5.5\n",
            "  Downloading metric_visualizer-0.5.7-py3-none-any.whl (18 kB)\n",
            "Requirement already satisfied: networkx in /usr/local/lib/python3.7/dist-packages (from pyabsa) (2.6.3)\n",
            "Collecting seqeval\n",
            "  Downloading seqeval-1.2.2.tar.gz (43 kB)\n",
            "\u001b[K     |████████████████████████████████| 43 kB 2.5 MB/s \n",
            "\u001b[?25hCollecting gitpython\n",
            "  Downloading GitPython-3.1.27-py3-none-any.whl (181 kB)\n",
            "\u001b[K     |████████████████████████████████| 181 kB 55.2 MB/s \n",
            "\u001b[?25hCollecting findfile>=1.7.9.8\n",
            "  Downloading findfile-1.7.9.8-py3-none-any.whl (5.3 kB)\n",
            "Requirement already satisfied: tqdm in /usr/local/lib/python3.7/dist-packages (from pyabsa) (4.64.0)\n",
            "Requirement already satisfied: termcolor in /usr/local/lib/python3.7/dist-packages (from pyabsa) (1.1.0)\n",
            "Requirement already satisfied: gdown>=4.4.0 in /usr/local/lib/python3.7/dist-packages (from pyabsa) (4.4.0)\n",
            "Collecting pytorch-warmup\n",
            "  Downloading pytorch-warmup-0.1.0.tar.gz (314 kB)\n",
            "\u001b[K     |████████████████████████████████| 314 kB 61.6 MB/s \n",
            "\u001b[?25hCollecting transformers>4.20.0\n",
            "  Downloading transformers-4.21.3-py3-none-any.whl (4.7 MB)\n",
            "\u001b[K     |████████████████████████████████| 4.7 MB 47.0 MB/s \n",
            "\u001b[?25hCollecting update-checker\n",
            "  Downloading update_checker-0.18.0-py3-none-any.whl (7.0 kB)\n",
            "Requirement already satisfied: typing-extensions in /usr/local/lib/python3.7/dist-packages (from pyabsa) (4.1.1)\n",
            "Collecting boostaug>=2.2.3\n",
            "  Downloading boostaug-2.2.4-py3-none-any.whl (10 kB)\n",
            "Collecting sentencepiece\n",
            "  Downloading sentencepiece-0.1.97-cp37-cp37m-manylinux_2_17_x86_64.manylinux2014_x86_64.whl (1.3 MB)\n",
            "\u001b[K     |████████████████████████████████| 1.3 MB 58.9 MB/s \n",
            "\u001b[?25hRequirement already satisfied: spacy in /usr/local/lib/python3.7/dist-packages (from pyabsa) (3.4.1)\n",
            "Requirement already satisfied: beautifulsoup4 in /usr/local/lib/python3.7/dist-packages (from gdown>=4.4.0->pyabsa) (4.6.3)\n",
            "Requirement already satisfied: filelock in /usr/local/lib/python3.7/dist-packages (from gdown>=4.4.0->pyabsa) (3.8.0)\n",
            "Requirement already satisfied: six in /usr/local/lib/python3.7/dist-packages (from gdown>=4.4.0->pyabsa) (1.15.0)\n",
            "Requirement already satisfied: requests[socks] in /usr/local/lib/python3.7/dist-packages (from gdown>=4.4.0->pyabsa) (2.23.0)\n",
            "Requirement already satisfied: scipy in /usr/local/lib/python3.7/dist-packages (from metric-visualizer>=0.5.5->pyabsa) (1.7.3)\n",
            "Requirement already satisfied: natsort in /usr/local/lib/python3.7/dist-packages (from metric-visualizer>=0.5.5->pyabsa) (5.5.0)\n",
            "Requirement already satisfied: matplotlib in /usr/local/lib/python3.7/dist-packages (from metric-visualizer>=0.5.5->pyabsa) (3.2.2)\n",
            "Collecting tikzplotlib\n",
            "  Downloading tikzplotlib-0.10.1-py3-none-any.whl (54 kB)\n",
            "\u001b[K     |████████████████████████████████| 54 kB 3.3 MB/s \n",
            "\u001b[?25hRequirement already satisfied: numpy in /usr/local/lib/python3.7/dist-packages (from metric-visualizer>=0.5.5->pyabsa) (1.21.6)\n",
            "Requirement already satisfied: tabulate in /usr/local/lib/python3.7/dist-packages (from metric-visualizer>=0.5.5->pyabsa) (0.8.10)\n",
            "Requirement already satisfied: importlib-metadata in /usr/local/lib/python3.7/dist-packages (from transformers>4.20.0->pyabsa) (4.12.0)\n",
            "Requirement already satisfied: pyyaml>=5.1 in /usr/local/lib/python3.7/dist-packages (from transformers>4.20.0->pyabsa) (6.0)\n",
            "Collecting tokenizers!=0.11.3,<0.13,>=0.11.1\n",
            "  Downloading tokenizers-0.12.1-cp37-cp37m-manylinux_2_12_x86_64.manylinux2010_x86_64.whl (6.6 MB)\n",
            "\u001b[K     |████████████████████████████████| 6.6 MB 60.8 MB/s \n",
            "\u001b[?25hRequirement already satisfied: packaging>=20.0 in /usr/local/lib/python3.7/dist-packages (from transformers>4.20.0->pyabsa) (21.3)\n",
            "Collecting huggingface-hub<1.0,>=0.1.0\n",
            "  Downloading huggingface_hub-0.9.1-py3-none-any.whl (120 kB)\n",
            "\u001b[K     |████████████████████████████████| 120 kB 70.5 MB/s \n",
            "\u001b[?25hRequirement already satisfied: regex!=2019.12.17 in /usr/local/lib/python3.7/dist-packages (from transformers>4.20.0->pyabsa) (2022.6.2)\n",
            "Requirement already satisfied: pyparsing!=3.0.5,>=2.0.2 in /usr/local/lib/python3.7/dist-packages (from packaging>=20.0->transformers>4.20.0->pyabsa) (3.0.9)\n",
            "Collecting gitdb<5,>=4.0.1\n",
            "  Downloading gitdb-4.0.9-py3-none-any.whl (63 kB)\n",
            "\u001b[K     |████████████████████████████████| 63 kB 1.8 MB/s \n",
            "\u001b[?25hCollecting smmap<6,>=3.0.1\n",
            "  Downloading smmap-5.0.0-py3-none-any.whl (24 kB)\n",
            "Requirement already satisfied: zipp>=0.5 in /usr/local/lib/python3.7/dist-packages (from importlib-metadata->transformers>4.20.0->pyabsa) (3.8.1)\n",
            "Requirement already satisfied: kiwisolver>=1.0.1 in /usr/local/lib/python3.7/dist-packages (from matplotlib->metric-visualizer>=0.5.5->pyabsa) (1.4.4)\n",
            "Requirement already satisfied: python-dateutil>=2.1 in /usr/local/lib/python3.7/dist-packages (from matplotlib->metric-visualizer>=0.5.5->pyabsa) (2.8.2)\n",
            "Requirement already satisfied: cycler>=0.10 in /usr/local/lib/python3.7/dist-packages (from matplotlib->metric-visualizer>=0.5.5->pyabsa) (0.11.0)\n",
            "Requirement already satisfied: urllib3!=1.25.0,!=1.25.1,<1.26,>=1.21.1 in /usr/local/lib/python3.7/dist-packages (from requests[socks]->gdown>=4.4.0->pyabsa) (1.24.3)\n",
            "Requirement already satisfied: idna<3,>=2.5 in /usr/local/lib/python3.7/dist-packages (from requests[socks]->gdown>=4.4.0->pyabsa) (2.10)\n",
            "Requirement already satisfied: chardet<4,>=3.0.2 in /usr/local/lib/python3.7/dist-packages (from requests[socks]->gdown>=4.4.0->pyabsa) (3.0.4)\n",
            "Requirement already satisfied: certifi>=2017.4.17 in /usr/local/lib/python3.7/dist-packages (from requests[socks]->gdown>=4.4.0->pyabsa) (2022.6.15)\n",
            "Requirement already satisfied: PySocks!=1.5.7,>=1.5.6 in /usr/local/lib/python3.7/dist-packages (from requests[socks]->gdown>=4.4.0->pyabsa) (1.7.1)\n",
            "Requirement already satisfied: scikit-learn>=0.21.3 in /usr/local/lib/python3.7/dist-packages (from seqeval->pyabsa) (1.0.2)\n",
            "Requirement already satisfied: threadpoolctl>=2.0.0 in /usr/local/lib/python3.7/dist-packages (from scikit-learn>=0.21.3->seqeval->pyabsa) (3.1.0)\n",
            "Requirement already satisfied: joblib>=0.11 in /usr/local/lib/python3.7/dist-packages (from scikit-learn>=0.21.3->seqeval->pyabsa) (1.1.0)\n",
            "Requirement already satisfied: srsly<3.0.0,>=2.4.3 in /usr/local/lib/python3.7/dist-packages (from spacy->pyabsa) (2.4.4)\n",
            "Requirement already satisfied: preshed<3.1.0,>=3.0.2 in /usr/local/lib/python3.7/dist-packages (from spacy->pyabsa) (3.0.7)\n",
            "Requirement already satisfied: pathy>=0.3.5 in /usr/local/lib/python3.7/dist-packages (from spacy->pyabsa) (0.6.2)\n",
            "Requirement already satisfied: setuptools in /usr/local/lib/python3.7/dist-packages (from spacy->pyabsa) (57.4.0)\n",
            "Requirement already satisfied: spacy-legacy<3.1.0,>=3.0.9 in /usr/local/lib/python3.7/dist-packages (from spacy->pyabsa) (3.0.10)\n",
            "Requirement already satisfied: typer<0.5.0,>=0.3.0 in /usr/local/lib/python3.7/dist-packages (from spacy->pyabsa) (0.4.2)\n",
            "Requirement already satisfied: langcodes<4.0.0,>=3.2.0 in /usr/local/lib/python3.7/dist-packages (from spacy->pyabsa) (3.3.0)\n",
            "Requirement already satisfied: cymem<2.1.0,>=2.0.2 in /usr/local/lib/python3.7/dist-packages (from spacy->pyabsa) (2.0.6)\n",
            "Requirement already satisfied: thinc<8.2.0,>=8.1.0 in /usr/local/lib/python3.7/dist-packages (from spacy->pyabsa) (8.1.0)\n",
            "Requirement already satisfied: jinja2 in /usr/local/lib/python3.7/dist-packages (from spacy->pyabsa) (2.11.3)\n",
            "Requirement already satisfied: pydantic!=1.8,!=1.8.1,<1.10.0,>=1.7.4 in /usr/local/lib/python3.7/dist-packages (from spacy->pyabsa) (1.9.2)\n",
            "Requirement already satisfied: catalogue<2.1.0,>=2.0.6 in /usr/local/lib/python3.7/dist-packages (from spacy->pyabsa) (2.0.8)\n",
            "Requirement already satisfied: murmurhash<1.1.0,>=0.28.0 in /usr/local/lib/python3.7/dist-packages (from spacy->pyabsa) (1.0.8)\n",
            "Requirement already satisfied: wasabi<1.1.0,>=0.9.1 in /usr/local/lib/python3.7/dist-packages (from spacy->pyabsa) (0.10.1)\n",
            "Requirement already satisfied: spacy-loggers<2.0.0,>=1.0.0 in /usr/local/lib/python3.7/dist-packages (from spacy->pyabsa) (1.0.3)\n",
            "Requirement already satisfied: smart-open<6.0.0,>=5.2.1 in /usr/local/lib/python3.7/dist-packages (from pathy>=0.3.5->spacy->pyabsa) (5.2.1)\n",
            "Requirement already satisfied: blis<0.8.0,>=0.7.8 in /usr/local/lib/python3.7/dist-packages (from thinc<8.2.0,>=8.1.0->spacy->pyabsa) (0.7.8)\n",
            "Requirement already satisfied: click<9.0.0,>=7.1.1 in /usr/local/lib/python3.7/dist-packages (from typer<0.5.0,>=0.3.0->spacy->pyabsa) (7.1.2)\n",
            "Requirement already satisfied: MarkupSafe>=0.23 in /usr/local/lib/python3.7/dist-packages (from jinja2->spacy->pyabsa) (2.0.1)\n",
            "Collecting webcolors\n",
            "  Downloading webcolors-1.12-py3-none-any.whl (9.9 kB)\n",
            "Requirement already satisfied: Pillow in /usr/local/lib/python3.7/dist-packages (from tikzplotlib->metric-visualizer>=0.5.5->pyabsa) (7.1.2)\n",
            "Building wheels for collected packages: pytorch-warmup, seqeval\n",
            "  Building wheel for pytorch-warmup (setup.py) ... \u001b[?25l\u001b[?25hdone\n",
            "  Created wheel for pytorch-warmup: filename=pytorch_warmup-0.1.0-py3-none-any.whl size=5802 sha256=b89218e0d6000cffd9eaa9900cef64d4976de9d09816a8d5372264e464c5aa0c\n",
            "  Stored in directory: /root/.cache/pip/wheels/c7/5d/24/9475e442daa1e9332c122c79fb5131b9e4e91946009365902e\n",
            "  Building wheel for seqeval (setup.py) ... \u001b[?25l\u001b[?25hdone\n",
            "  Created wheel for seqeval: filename=seqeval-1.2.2-py3-none-any.whl size=16180 sha256=57703e9bb977112279c99bf2e515d23d72502174cf439c868dd4b3ccb9a744aa\n",
            "  Stored in directory: /root/.cache/pip/wheels/05/96/ee/7cac4e74f3b19e3158dce26a20a1c86b3533c43ec72a549fd7\n",
            "Successfully built pytorch-warmup seqeval\n",
            "Installing collected packages: webcolors, smmap, update-checker, tokenizers, tikzplotlib, huggingface-hub, gitdb, findfile, transformers, seqeval, sentencepiece, pytorch-warmup, metric-visualizer, gitpython, boostaug, autocuda, pyabsa\n",
            "Successfully installed autocuda-0.11 boostaug-2.2.4 findfile-1.7.9.8 gitdb-4.0.9 gitpython-3.1.27 huggingface-hub-0.9.1 metric-visualizer-0.5.7 pyabsa-1.16.16 pytorch-warmup-0.1.0 sentencepiece-0.1.97 seqeval-1.2.2 smmap-5.0.0 tikzplotlib-0.10.1 tokenizers-0.12.1 transformers-4.21.3 update-checker-0.18.0 webcolors-1.12\n"
          ]
        }
      ],
      "source": [
        "!pip install pyabsa"
      ]
    },
    {
      "cell_type": "markdown",
      "source": [
        "## Find Available Checkpoints For **Current Version**"
      ],
      "metadata": {
        "id": "gQ6c9MQlP1xo"
      }
    },
    {
      "cell_type": "code",
      "source": [
        "from pyabsa import available_checkpoints\n",
        "checkpoint_map = available_checkpoints('atepc')"
      ],
      "metadata": {
        "colab": {
          "base_uri": "https://localhost:8080/"
        },
        "id": "iTyTYSOGQd-h",
        "outputId": "4a68202e-dc9b-480d-915e-6497014df436"
      },
      "execution_count": null,
      "outputs": [
        {
          "output_type": "stream",
          "name": "stdout",
          "text": [
            "********** \u001b[32mAvailable atepc model checkpoints for Version:1.16.16 (this version)\u001b[0m **********\n",
            "----------------------------------------------------------------------------------------------------\n",
            "Checkpoint Name: english\n",
            "id: \n",
            "Training Model: FAST-LCFS-ATEPC\n",
            "Training Dataset: English\n",
            "Language: English\n",
            "Description: Trained on RTX3090, this checkpoint use bert-spc in ATEPC training\n",
            "Available Version: 1.16.0+\n",
            "Checkpoint File: fast_lcf_atepc_English_cdw_apcacc_85.4_apcf1_82.53_atef1_80.19.zip\n",
            "Author: H, Yang (yangheng@m.scnu.edu.cn)\n",
            "----------------------------------------------------------------------------------------------------\n",
            "----------------------------------------------------------------------------------------------------\n",
            "Checkpoint Name: chinese\n",
            "id: \n",
            "Training Model: FAST-LCF-ATEPC\n",
            "Training Dataset: Chinese\n",
            "Language: Chinese\n",
            "Description: Trained on RTX3090 BERT-BASE-CHINESE\n",
            "Available Version: 1.16.0+\n",
            "Checkpoint File: fast_lcf_atepc_Chinese_cdw_apcacc_96.09_apcf1_95.14_atef1_83.69.zip\n",
            "Author: H, Yang (yangheng@m.scnu.edu.cn)\n",
            "----------------------------------------------------------------------------------------------------\n",
            "----------------------------------------------------------------------------------------------------\n",
            "Checkpoint Name: multilingual\n",
            "id: \n",
            "Training Model: FAST-LCF-ATEPC\n",
            "Training Dataset: ABSADatasets.Multilingual\n",
            "Language: Multilingual\n",
            "Description: Trained on RTX3090\n",
            "Available Version: 1.16.0+\n",
            "Checkpoint File: fast_lcf_atepc_Multilingual_cdw_apcacc_86.76_apcf1_79.78_atef1_78.03.zip\n",
            "Author: H, Yang (yangheng@m.scnu.edu.cn)\n",
            "----------------------------------------------------------------------------------------------------\n",
            "----------------------------------------------------------------------------------------------------\n",
            "Checkpoint Name: multilingual-256\n",
            "id: \n",
            "Training Model: FAST-LCF-ATEPC\n",
            "Training Dataset: ABSADatasets.Multilingual\n",
            "Language: Multilingual\n",
            "Description: Trained on RTX3090\n",
            "Available Version: 1.16.0+\n",
            "Checkpoint File: fast_lcf_atepc_Multilingual_cdw_apcacc_87.09_apcf1_79.95_atef1_75.55.zip\n",
            "Author: H, Yang (yangheng@m.scnu.edu.cn)\n",
            "----------------------------------------------------------------------------------------------------\n",
            "----------------------------------------------------------------------------------------------------\n",
            "Checkpoint Name: multilingual-256-2\n",
            "id: \n",
            "Training Model: FAST-LCF-ATEPC\n",
            "Training Dataset: ABSADatasets.Multilingual\n",
            "Language: Multilingual\n",
            "Description: Trained on RTX3090\n",
            "Available Version: 1.16.0+\n",
            "Checkpoint File: fast_lcf_atepc_Multilingual_cdw_apcacc_86.68_apcf1_80.63_atef1_75.15.zip\n",
            "Author: H, Yang (yangheng@m.scnu.edu.cn)\n",
            "----------------------------------------------------------------------------------------------------\n",
            "----------------------------------------------------------------------------------------------------\n",
            "Checkpoint Name: HELP-WANTED\n",
            "id: \n",
            "Description: You can help us by sharing checkpoints (e.g. models trained on you own datasets) with community.\n",
            "Checkpoint File: PLEASE NOTE THAT THIS IS NOT A REAL CHECKPOINT!\n",
            "Available Version: \n",
            "----------------------------------------------------------------------------------------------------\n",
            "\u001b[33mThere may be some checkpoints available for early versions of PyABSA, see atepc\u001b[0m\n"
          ]
        }
      ]
    },
    {
      "cell_type": "markdown",
      "source": [
        "# Init a aspect extractor from online checkpoint or local checkpoint"
      ],
      "metadata": {
        "id": "mbIUc1IdQ-rr"
      }
    },
    {
      "cell_type": "code",
      "source": [
        "from pyabsa import ABSADatasetList, available_checkpoints\n",
        "from pyabsa import ATEPCCheckpointManager\n",
        "\n",
        "aspect_extractor = ATEPCCheckpointManager.get_aspect_extractor(checkpoint='multilingual',\n",
        "                                   auto_device=True  # False means load model on CPU\n",
        "                                   )\n"
      ],
      "metadata": {
        "colab": {
          "base_uri": "https://localhost:8080/",
          "height": 1000,
          "referenced_widgets": [
            "2fe856f72b1e4a30a90b382f7656bbf0",
            "64916d19a21f4836badb14f9b6e14c29",
            "e6302a02c965470ca98f7b107c193be5",
            "a47b73fc67b74d3eaeee37786734cf2f",
            "d11c86d667174e608d870c5998cd91aa",
            "8a940132f3db4645be15fa32c7bda036",
            "1795a0246ccb4f0285503e662e126f73",
            "980af72f369d4fbe92ca550c24495441",
            "4f619cdee841416aa50e6ad4b302d5bb",
            "28b3cea4a1c04555bbcc09a8748e1ab8",
            "2c732e860f0440cdb6f5aa21cec05e90",
            "7d3de48efdd94d2ca2680c602c36cdc1",
            "65ce7296e3b34ffd808d9e4ff6cc3e6d",
            "cd5b489291a149e092247856c4bde970",
            "65eeb096120544abbab3d839cbe6618c",
            "1f79bf250a714932b71f21cade29a1cf",
            "f978e2bbc0104beaa6b369c7240d68d5",
            "a06a03cb1ef6424383063faab5775b49",
            "5bdd0583c9e1403ca06ae0d2e9a88446",
            "73eaa00a6db749ed94383716f92199af",
            "65880164080a4cc48860d6541076be04",
            "3dc256829f174b80861984791f94e479",
            "863d2151d77f43f4bc68d93c920c9999",
            "1fcb0dbf79474cff9aa1beb320024d6e",
            "4157a04309474e5fa06e317dcbe16fd9",
            "e282526d7fb742c685e156b846fb2a5f",
            "d7495fcf33f8494cbc66208196c34b1e",
            "7afd05d081924deeb7629384c931e7e8",
            "2932ecf740624913afbc91ea2a022a88",
            "cbc70fec5c7c4b89ad3c85ba53e3b7dc",
            "db25fef0acce404399bacb745de5e9ff",
            "9327797684c447dab1884b750d80f93c",
            "bb30b7586f26440eb496c5fd40afaeb5",
            "e9bafe52e0f5458ba19ea4807dd287ab",
            "114a408e3e154bcbb47379d198b226e2",
            "a159c352d32a45e38819922aff1ba498",
            "5397ae3991244598b010d14121c5b3dc",
            "b4baabf1b3ff418cbd4550e27f0a4d66",
            "938d14a22c9847ec9020dbde89d5f37a",
            "d1a46fd5f7244f2fabdc72284a96c025",
            "b8f6e5c1db9f4c0b8b224fa0daa73dc0",
            "2eaaf290952b43d08808d51ad98f2e6e",
            "cdee7e75e3fa4d9baaf7ec1ad3125d2c",
            "23bc1e0781de43899ea20e3b77017f2b"
          ]
        },
        "id": "F3P3j_q-SYV-",
        "outputId": "fd600a91-e99b-4b10-83b3-532a4d3e2446"
      },
      "execution_count": null,
      "outputs": [
        {
          "output_type": "stream",
          "name": "stdout",
          "text": [
            "********** \u001b[32mAvailable ATEPC model checkpoints for Version:1.16.16 (this version)\u001b[0m **********\n",
            "----------------------------------------------------------------------------------------------------\n",
            "Checkpoint Name: english\n",
            "id: \n",
            "Training Model: FAST-LCFS-ATEPC\n",
            "Training Dataset: English\n",
            "Language: English\n",
            "Description: Trained on RTX3090, this checkpoint use bert-spc in ATEPC training\n",
            "Available Version: 1.16.0+\n",
            "Checkpoint File: fast_lcf_atepc_English_cdw_apcacc_85.4_apcf1_82.53_atef1_80.19.zip\n",
            "Author: H, Yang (yangheng@m.scnu.edu.cn)\n",
            "----------------------------------------------------------------------------------------------------\n",
            "----------------------------------------------------------------------------------------------------\n",
            "Checkpoint Name: chinese\n",
            "id: \n",
            "Training Model: FAST-LCF-ATEPC\n",
            "Training Dataset: Chinese\n",
            "Language: Chinese\n",
            "Description: Trained on RTX3090 BERT-BASE-CHINESE\n",
            "Available Version: 1.16.0+\n",
            "Checkpoint File: fast_lcf_atepc_Chinese_cdw_apcacc_96.09_apcf1_95.14_atef1_83.69.zip\n",
            "Author: H, Yang (yangheng@m.scnu.edu.cn)\n",
            "----------------------------------------------------------------------------------------------------\n",
            "----------------------------------------------------------------------------------------------------\n",
            "Checkpoint Name: multilingual\n",
            "id: \n",
            "Training Model: FAST-LCF-ATEPC\n",
            "Training Dataset: ABSADatasets.Multilingual\n",
            "Language: Multilingual\n",
            "Description: Trained on RTX3090\n",
            "Available Version: 1.16.0+\n",
            "Checkpoint File: fast_lcf_atepc_Multilingual_cdw_apcacc_86.76_apcf1_79.78_atef1_78.03.zip\n",
            "Author: H, Yang (yangheng@m.scnu.edu.cn)\n",
            "----------------------------------------------------------------------------------------------------\n",
            "----------------------------------------------------------------------------------------------------\n",
            "Checkpoint Name: multilingual-256\n",
            "id: \n",
            "Training Model: FAST-LCF-ATEPC\n",
            "Training Dataset: ABSADatasets.Multilingual\n",
            "Language: Multilingual\n",
            "Description: Trained on RTX3090\n",
            "Available Version: 1.16.0+\n",
            "Checkpoint File: fast_lcf_atepc_Multilingual_cdw_apcacc_87.09_apcf1_79.95_atef1_75.55.zip\n",
            "Author: H, Yang (yangheng@m.scnu.edu.cn)\n",
            "----------------------------------------------------------------------------------------------------\n",
            "----------------------------------------------------------------------------------------------------\n",
            "Checkpoint Name: multilingual-256-2\n",
            "id: \n",
            "Training Model: FAST-LCF-ATEPC\n",
            "Training Dataset: ABSADatasets.Multilingual\n",
            "Language: Multilingual\n",
            "Description: Trained on RTX3090\n",
            "Available Version: 1.16.0+\n",
            "Checkpoint File: fast_lcf_atepc_Multilingual_cdw_apcacc_86.68_apcf1_80.63_atef1_75.15.zip\n",
            "Author: H, Yang (yangheng@m.scnu.edu.cn)\n",
            "----------------------------------------------------------------------------------------------------\n",
            "----------------------------------------------------------------------------------------------------\n",
            "Checkpoint Name: HELP-WANTED\n",
            "id: \n",
            "Description: You can help us by sharing checkpoints (e.g. models trained on you own datasets) with community.\n",
            "Checkpoint File: PLEASE NOTE THAT THIS IS NOT A REAL CHECKPOINT!\n",
            "Available Version: \n",
            "----------------------------------------------------------------------------------------------------\n",
            "\u001b[33mThere may be some checkpoints available for early versions of PyABSA, see ATEPC\u001b[0m\n",
            "\u001b[32mDownloading checkpoint:multilingual ...\u001b[0m\n",
            "\u001b[31mNotice: The pretrained model are used for testing, it is recommended to train the model on your own custom datasets\u001b[0m\n"
          ]
        },
        {
          "output_type": "stream",
          "name": "stderr",
          "text": [
            "813MB [00:08, 91.33MB/s, Downloading checkpoint...]                          "
          ]
        },
        {
          "output_type": "stream",
          "name": "stdout",
          "text": [
            "Find zipped checkpoint: ./checkpoints/ATEPC_MULTILINGUAL_CHECKPOINT/fast_lcf_atepc_Multilingual_cdw_apcacc_86.76_apcf1_79.78_atef1_78.03.zip, unzipping...\n"
          ]
        },
        {
          "output_type": "stream",
          "name": "stderr",
          "text": [
            "\n"
          ]
        },
        {
          "output_type": "stream",
          "name": "stdout",
          "text": [
            "Done.\n",
            "\u001b[33mIf the auto-downloading failed, please download it via browser: https://huggingface.co/spaces/yangheng/PyABSA-ATEPC/resolve/main/checkpoint/Multilingual/ATEPC/fast_lcf_atepc_Multilingual_cdw_apcacc_86.76_apcf1_79.78_atef1_78.03.zip \u001b[0m\n",
            "Load aspect extractor from ./checkpoints/ATEPC_MULTILINGUAL_CHECKPOINT\n",
            "config: ./checkpoints/ATEPC_MULTILINGUAL_CHECKPOINT/fast_lcf_atepc.config\n",
            "state_dict: ./checkpoints/ATEPC_MULTILINGUAL_CHECKPOINT/fast_lcf_atepc.state_dict\n",
            "model: None\n",
            "tokenizer: ./checkpoints/ATEPC_MULTILINGUAL_CHECKPOINT/fast_lcf_atepc.tokenizer\n"
          ]
        },
        {
          "output_type": "display_data",
          "data": {
            "text/plain": [
              "Downloading config.json:   0%|          | 0.00/579 [00:00<?, ?B/s]"
            ],
            "application/vnd.jupyter.widget-view+json": {
              "version_major": 2,
              "version_minor": 0,
              "model_id": "2fe856f72b1e4a30a90b382f7656bbf0"
            }
          },
          "metadata": {}
        },
        {
          "output_type": "display_data",
          "data": {
            "text/plain": [
              "Downloading pytorch_model.bin:   0%|          | 0.00/534M [00:00<?, ?B/s]"
            ],
            "application/vnd.jupyter.widget-view+json": {
              "version_major": 2,
              "version_minor": 0,
              "model_id": "7d3de48efdd94d2ca2680c602c36cdc1"
            }
          },
          "metadata": {}
        },
        {
          "output_type": "stream",
          "name": "stderr",
          "text": [
            "Some weights of the model checkpoint at microsoft/mdeberta-v3-base were not used when initializing DebertaV2Model: ['lm_predictions.lm_head.bias', 'lm_predictions.lm_head.LayerNorm.bias', 'mask_predictions.dense.bias', 'mask_predictions.dense.weight', 'lm_predictions.lm_head.dense.weight', 'lm_predictions.lm_head.dense.bias', 'mask_predictions.classifier.bias', 'mask_predictions.LayerNorm.weight', 'mask_predictions.LayerNorm.bias', 'lm_predictions.lm_head.LayerNorm.weight', 'mask_predictions.classifier.weight']\n",
            "- This IS expected if you are initializing DebertaV2Model from the checkpoint of a model trained on another task or with another architecture (e.g. initializing a BertForSequenceClassification model from a BertForPreTraining model).\n",
            "- This IS NOT expected if you are initializing DebertaV2Model from the checkpoint of a model that you expect to be exactly identical (initializing a BertForSequenceClassification model from a BertForSequenceClassification model).\n"
          ]
        },
        {
          "output_type": "display_data",
          "data": {
            "text/plain": [
              "Downloading tokenizer_config.json:   0%|          | 0.00/52.0 [00:00<?, ?B/s]"
            ],
            "application/vnd.jupyter.widget-view+json": {
              "version_major": 2,
              "version_minor": 0,
              "model_id": "863d2151d77f43f4bc68d93c920c9999"
            }
          },
          "metadata": {}
        },
        {
          "output_type": "display_data",
          "data": {
            "text/plain": [
              "Downloading spm.model:   0%|          | 0.00/4.11M [00:00<?, ?B/s]"
            ],
            "application/vnd.jupyter.widget-view+json": {
              "version_major": 2,
              "version_minor": 0,
              "model_id": "e9bafe52e0f5458ba19ea4807dd287ab"
            }
          },
          "metadata": {}
        },
        {
          "output_type": "stream",
          "name": "stderr",
          "text": [
            "Special tokens have been added in the vocabulary, make sure the associated word embeddings are fine-tuned or trained.\n",
            "/usr/local/lib/python3.7/dist-packages/transformers/convert_slow_tokenizer.py:435: UserWarning: The sentencepiece tokenizer that you are converting to a fast tokenizer uses the byte fallback option which is not implemented in the fast tokenizers. In practice this means that the fast version of the tokenizer can produce unknown tokens whereas the sentencepiece version would have converted these unknown tokens into a sequence of byte tokens matching the original piece of text.\n",
            "  \"The sentencepiece tokenizer that you are converting to a fast tokenizer uses the byte fallback option\"\n",
            "Special tokens have been added in the vocabulary, make sure the associated word embeddings are fine-tuned or trained.\n"
          ]
        },
        {
          "output_type": "stream",
          "name": "stdout",
          "text": [
            "Config used in Training:\n",
            "ABSADatasetsVersion:2022.07.05\t-->\tCalling Count:0\n",
            "IOB_label_to_index:{'B-ASP': 1, 'I-ASP': 2, 'O': 3, '[CLS]': 4, '[SEP]': 5}\t-->\tCalling Count:1\n",
            "MV:<metric_visualizer.metric_visualizer.MetricVisualizer object at 0x7fe0f345f1d0>\t-->\tCalling Count:0\n",
            "PyABSAVersion:1.16.2\t-->\tCalling Count:0\n",
            "SRD:3\t-->\tCalling Count:490152\n",
            "TorchVersion:1.11.0+cuda11.3\t-->\tCalling Count:0\n",
            "TransformersVersion:4.20.1\t-->\tCalling Count:0\n",
            "auto_device:True\t-->\tCalling Count:294967\n",
            "batch_size:16\t-->\tCalling Count:5\n",
            "cache_dataset:False\t-->\tCalling Count:1\n",
            "dataset_file:{'train': ['integrated_datasets/atepc_datasets/110.SemEval/113.laptop14/Laptops_Train.xml.seg.atepc', 'integrated_datasets/atepc_datasets/110.SemEval/113.laptop14/2.cross_boost.fast_lcf_bert_Laptop14_deberta-v3-base.train.augment.ignore.atepc', 'integrated_datasets/atepc_datasets/110.SemEval/113.laptop14/1.cross_boost.fast_lcf_bert_Laptop14_deberta-v3-base.train.augment.ignore.atepc', 'integrated_datasets/atepc_datasets/110.SemEval/113.laptop14/0.cross_boost.fast_lcf_bert_Laptop14_deberta-v3-base.train.augment.ignore.atepc', 'integrated_datasets/atepc_datasets/110.SemEval/113.laptop14/3.cross_boost.fast_lcf_bert_Laptop14_deberta-v3-base.train.augment.ignore.atepc', 'integrated_datasets/atepc_datasets/110.SemEval/114.restaurant14/Restaurants_Train.xml.seg.atepc', 'integrated_datasets/atepc_datasets/110.SemEval/114.restaurant14/0.cross_boost.fast_lcf_bert_Restaurant14_deberta-v3-base.train.augment.ignore.atepc', 'integrated_datasets/atepc_datasets/110.SemEval/114.restaurant14/3.cross_boost.fast_lcf_bert_Restaurant14_deberta-v3-base.train.augment.ignore.atepc', 'integrated_datasets/atepc_datasets/110.SemEval/114.restaurant14/2.cross_boost.fast_lcf_bert_Restaurant14_deberta-v3-base.train.augment.ignore.atepc', 'integrated_datasets/atepc_datasets/110.SemEval/114.restaurant14/1.cross_boost.fast_lcf_bert_Restaurant14_deberta-v3-base.train.augment.ignore.atepc', 'integrated_datasets/atepc_datasets/110.SemEval/116.restaurant16/restaurant_train.raw.atepc', 'integrated_datasets/atepc_datasets/110.SemEval/116.restaurant16/3.cross_boost.fast_lcf_bert_Restaurant16_deberta-v3-base.train.augment.ignore.atepc', 'integrated_datasets/atepc_datasets/110.SemEval/116.restaurant16/1.cross_boost.fast_lcf_bert_Restaurant16_deberta-v3-base.train.augment.ignore.atepc', 'integrated_datasets/atepc_datasets/110.SemEval/116.restaurant16/0.cross_boost.fast_lcf_bert_Restaurant16_deberta-v3-base.train.augment.ignore.atepc', 'integrated_datasets/atepc_datasets/110.SemEval/116.restaurant16/2.cross_boost.fast_lcf_bert_Restaurant16_deberta-v3-base.train.augment.ignore.atepc', 'integrated_datasets/atepc_datasets/101.ACL_Twitter/acl-14-short-data/train.raw.atepc', 'integrated_datasets/atepc_datasets/101.ACL_Twitter/acl-14-short-data/0.cross_boost.fast_lcf_bert_Twitter_deberta-v3-base.train.augment.ignore.atepc', 'integrated_datasets/atepc_datasets/101.ACL_Twitter/acl-14-short-data/3.cross_boost.fast_lcf_bert_Twitter_deberta-v3-base.train.augment.ignore.atepc', 'integrated_datasets/atepc_datasets/101.ACL_Twitter/acl-14-short-data/1.cross_boost.fast_lcf_bert_Twitter_deberta-v3-base.train.augment.ignore.atepc', 'integrated_datasets/atepc_datasets/101.ACL_Twitter/acl-14-short-data/2.cross_boost.fast_lcf_bert_Twitter_deberta-v3-base.train.augment.ignore.atepc', 'integrated_datasets/atepc_datasets/109.MAMS/train.xml.dat.atepc', 'integrated_datasets/atepc_datasets/109.MAMS/0.cross_boost.fast_lcf_bert_MAMS_deberta-v3-base.train.augment.ignore.atepc', 'integrated_datasets/atepc_datasets/109.MAMS/1.cross_boost.fast_lcf_bert_MAMS_deberta-v3-base.train.augment.ignore.atepc', 'integrated_datasets/atepc_datasets/109.MAMS/2.cross_boost.fast_lcf_bert_MAMS_deberta-v3-base.train.augment.ignore.atepc', 'integrated_datasets/atepc_datasets/109.MAMS/3.cross_boost.fast_lcf_bert_MAMS_deberta-v3-base.train.augment.ignore.atepc', 'integrated_datasets/atepc_datasets/117.Television/Television_Train.xml.seg.atepc', 'integrated_datasets/atepc_datasets/117.Television/1.cross_boost.fast_lcf_bert_Television_deberta-v3-base.train.augment.ignore.atepc', 'integrated_datasets/atepc_datasets/117.Television/3.cross_boost.fast_lcf_bert_Television_deberta-v3-base.train.augment.ignore.atepc', 'integrated_datasets/atepc_datasets/117.Television/0.cross_boost.fast_lcf_bert_Television_deberta-v3-base.train.augment.ignore.atepc', 'integrated_datasets/atepc_datasets/117.Television/2.cross_boost.fast_lcf_bert_Television_deberta-v3-base.train.augment.ignore.atepc', 'integrated_datasets/atepc_datasets/118.TShirt/Menstshirt_Train.xml.seg.atepc', 'integrated_datasets/atepc_datasets/118.TShirt/3.cross_boost.fast_lcf_bert_TShirt_deberta-v3-base.train.augment.ignore.atepc', 'integrated_datasets/atepc_datasets/118.TShirt/1.cross_boost.fast_lcf_bert_TShirt_deberta-v3-base.train.augment.ignore.atepc', 'integrated_datasets/atepc_datasets/118.TShirt/0.cross_boost.fast_lcf_bert_TShirt_deberta-v3-base.train.augment.ignore.atepc', 'integrated_datasets/atepc_datasets/118.TShirt/2.cross_boost.fast_lcf_bert_TShirt_deberta-v3-base.train.augment.ignore.atepc', 'integrated_datasets/atepc_datasets/119.Yelp/yelp.train.txt.atepc', 'integrated_datasets/atepc_datasets/119.Yelp/1.cross_boost.fast_lcf_bert_Yelp_deberta-v3-base.train.augment.ignore.atepc', 'integrated_datasets/atepc_datasets/119.Yelp/3.cross_boost.fast_lcf_bert_Yelp_deberta-v3-base.train.augment.ignore.atepc', 'integrated_datasets/atepc_datasets/119.Yelp/0.cross_boost.fast_lcf_bert_Yelp_deberta-v3-base.train.augment.ignore.atepc', 'integrated_datasets/atepc_datasets/119.Yelp/2.cross_boost.fast_lcf_bert_Yelp_deberta-v3-base.train.augment.ignore.atepc', 'integrated_datasets/atepc_datasets/102.Chinese/107.phone/phone.train.txt.atepc', 'integrated_datasets/atepc_datasets/102.Chinese/103.camera/camera.train.txt.atepc', 'integrated_datasets/atepc_datasets/102.Chinese/106.notebook/notebook.train.txt.atepc', 'integrated_datasets/atepc_datasets/102.Chinese/104.car/car.train.txt.atepc', 'integrated_datasets/atepc_datasets/102.Chinese/105.mooc/mooc.train.txt.atepc', 'integrated_datasets/atepc_datasets/120.SemEval2016Task5/train/hotels_train_arabic.xml.dat.atepc', 'integrated_datasets/atepc_datasets/120.SemEval2016Task5/train/restaurants_train_dutch.xml.dat.atepc', 'integrated_datasets/atepc_datasets/120.SemEval2016Task5/train/restaurants_train_english.xml.dat.atepc', 'integrated_datasets/atepc_datasets/120.SemEval2016Task5/train/restaurants_train_french.xml.dat.atepc', 'integrated_datasets/atepc_datasets/120.SemEval2016Task5/train/restaurants_train_russian.xml.dat.atepc', 'integrated_datasets/atepc_datasets/120.SemEval2016Task5/train/restaurants_train_spanish.xml.dat.atepc', 'integrated_datasets/atepc_datasets/120.SemEval2016Task5/train/restaurants_train_turkish.xml.dat.atepc', 'integrated_datasets/atepc_datasets/120.SemEval2016Task5/122.arabic/hotels_train_arabic.xml.dat.atepc', 'integrated_datasets/atepc_datasets/120.SemEval2016Task5/123.dutch/restaurants_train_dutch.xml.dat.atepc', 'integrated_datasets/atepc_datasets/120.SemEval2016Task5/124.english/restaurants_train_english.xml.dat.atepc', 'integrated_datasets/atepc_datasets/120.SemEval2016Task5/125.french/restaurants_train_french.xml.dat.atepc', 'integrated_datasets/atepc_datasets/120.SemEval2016Task5/126.russian/restaurants_train_russian.xml.dat.atepc', 'integrated_datasets/atepc_datasets/120.SemEval2016Task5/127.spanish/restaurants_train_spanish.xml.dat.atepc', 'integrated_datasets/atepc_datasets/120.SemEval2016Task5/128.turkish/restaurants_train_turkish.xml.dat.atepc', 'integrated_datasets/atepc_datasets/121.MOOC_En/1.cross_boost.fast_lcf_bert_MOOC_En_deberta-v3-base.train.atepc', 'integrated_datasets/atepc_datasets/121.MOOC_En/2.cross_boost.fast_lcf_bert_MOOC_En_deberta-v3-base.train.atepc', 'integrated_datasets/atepc_datasets/121.MOOC_En/0.cross_boost.fast_lcf_bert_MOOC_En_deberta-v3-base.train.atepc', 'integrated_datasets/atepc_datasets/121.MOOC_En/3.cross_boost.fast_lcf_bert_MOOC_En_deberta-v3-base.train.atepc', 'integrated_datasets/atepc_datasets/121.MOOC_En/4.cross_boost.fast_lcf_bert_MOOC_En_deberta-v3-base.train.atepc', 'integrated_datasets/atepc_datasets/121.MOOC_En/mooc-en.train.txt.atepc'], 'test': ['integrated_datasets/atepc_datasets/110.SemEval/113.laptop14/Laptops_Test_Gold.xml.seg.atepc', 'integrated_datasets/atepc_datasets/110.SemEval/114.restaurant14/Restaurants_Test_Gold.xml.seg.atepc', 'integrated_datasets/atepc_datasets/110.SemEval/116.restaurant16/restaurant_test.raw.atepc', 'integrated_datasets/atepc_datasets/101.ACL_Twitter/acl-14-short-data/test.raw.atepc', 'integrated_datasets/atepc_datasets/109.MAMS/test.xml.dat.atepc', 'integrated_datasets/atepc_datasets/117.Television/Television_Test_Gold.xml.seg.atepc', 'integrated_datasets/atepc_datasets/118.TShirt/Menstshirt_Test_Gold.xml.seg.atepc', 'integrated_datasets/atepc_datasets/119.Yelp/yelp.test.txt.atepc', 'integrated_datasets/atepc_datasets/102.Chinese/107.phone/phone.test.txt.atepc', 'integrated_datasets/atepc_datasets/102.Chinese/103.camera/camera.test.txt.atepc', 'integrated_datasets/atepc_datasets/102.Chinese/106.notebook/notebook.test.txt.atepc', 'integrated_datasets/atepc_datasets/102.Chinese/104.car/car.test.txt.atepc', 'integrated_datasets/atepc_datasets/102.Chinese/105.mooc/mooc.test.txt.atepc', 'integrated_datasets/atepc_datasets/120.SemEval2016Task5/test/hotels_test_arabic.xml.dat.atepc', 'integrated_datasets/atepc_datasets/120.SemEval2016Task5/test/restaurants_test_dutch.xml.dat.atepc', 'integrated_datasets/atepc_datasets/120.SemEval2016Task5/test/restaurants_test_english.xml.dat.atepc', 'integrated_datasets/atepc_datasets/120.SemEval2016Task5/test/restaurants_test_french.xml.dat.atepc', 'integrated_datasets/atepc_datasets/120.SemEval2016Task5/test/restaurants_test_russian.xml.dat.atepc', 'integrated_datasets/atepc_datasets/120.SemEval2016Task5/test/restaurants_test_spanish.xml.dat.atepc', 'integrated_datasets/atepc_datasets/120.SemEval2016Task5/test/restaurants_test_turkish.xml.dat.atepc', 'integrated_datasets/atepc_datasets/120.SemEval2016Task5/122.arabic/hotels_test_arabic.xml.dat.atepc', 'integrated_datasets/atepc_datasets/120.SemEval2016Task5/123.dutch/restaurants_test_dutch.xml.dat.atepc', 'integrated_datasets/atepc_datasets/120.SemEval2016Task5/124.english/restaurants_test_english.xml.dat.atepc', 'integrated_datasets/atepc_datasets/120.SemEval2016Task5/125.french/restaurants_test_french.xml.dat.atepc', 'integrated_datasets/atepc_datasets/120.SemEval2016Task5/126.russian/restaurants_test_russian.xml.dat.atepc', 'integrated_datasets/atepc_datasets/120.SemEval2016Task5/127.spanish/restaurants_test_spanish.xml.dat.atepc', 'integrated_datasets/atepc_datasets/120.SemEval2016Task5/128.turkish/restaurants_test_turkish.xml.dat.atepc', 'integrated_datasets/atepc_datasets/121.MOOC_En/mooc-en.test.txt.atepc'], 'valid': ['integrated_datasets/atepc_datasets/109.MAMS/valid.xml.dat.atepc']}\t-->\tCalling Count:46\n",
            "dataset_name:Multilingual\t-->\tCalling Count:23\n",
            "device:cuda:0\t-->\tCalling Count:3135911\n",
            "device_name:NVIDIA GeForce RTX 3090\t-->\tCalling Count:0\n",
            "dropout:0.5\t-->\tCalling Count:2\n",
            "dynamic_truncate:True\t-->\tCalling Count:490152\n",
            "embed_dim:768\t-->\tCalling Count:0\n",
            "evaluate_begin:0\t-->\tCalling Count:43\n",
            "gradient_accumulation_steps:1\t-->\tCalling Count:3\n",
            "hidden_dim:768\t-->\tCalling Count:12\n",
            "index_to_IOB_label:{1: 'B-ASP', 2: 'I-ASP', 3: 'O', 4: '[CLS]', 5: '[SEP]'}\t-->\tCalling Count:0\n",
            "index_to_label:{0: 'Negative', 1: 'Neutral', 2: 'Positive'}\t-->\tCalling Count:2\n",
            "initializer:xavier_uniform_\t-->\tCalling Count:0\n",
            "l2reg:1e-05\t-->\tCalling Count:2\n",
            "label_list:['B-ASP', 'I-ASP', 'O', '[CLS]', '[SEP]']\t-->\tCalling Count:45\n",
            "label_to_index:{'Negative': 0, 'Neutral': 1, 'Positive': 2}\t-->\tCalling Count:0\n",
            "lcf:cdw\t-->\tCalling Count:696883\n",
            "learning_rate:1e-05\t-->\tCalling Count:1\n",
            "log_step:14046\t-->\tCalling Count:294968\n",
            "max_seq_len:128\t-->\tCalling Count:2412398\n",
            "max_test_metrics:{'max_apc_test_acc': 87.71, 'max_apc_test_f1': 79.93, 'max_ate_test_f1': 78.03}\t-->\tCalling Count:324\n",
            "metrics_of_this_checkpoint:{'apc_acc': 86.76, 'apc_f1': 79.78, 'ate_f1': 78.03}\t-->\tCalling Count:126\n",
            "model:<class 'pyabsa.core.atepc.models.fast_lcf_atepc.FAST_LCF_ATEPC'>\t-->\tCalling Count:6\n",
            "model_name:fast_lcf_atepc\t-->\tCalling Count:245172\n",
            "model_path_to_save:checkpoints\t-->\tCalling Count:41\n",
            "num_epoch:30\t-->\tCalling Count:2\n",
            "num_labels:6\t-->\tCalling Count:6\n",
            "optimizer:adamw\t-->\tCalling Count:2\n",
            "patience:99999\t-->\tCalling Count:20\n",
            "output_dim:3\t-->\tCalling Count:44\n",
            "pretrained_bert:microsoft/mdeberta-v3-base\t-->\tCalling Count:7\n",
            "save_mode:1\t-->\tCalling Count:37\n",
            "seed:52\t-->\tCalling Count:7\n",
            "sep_indices:2\t-->\tCalling Count:6428835\n",
            "show_metric:False\t-->\tCalling Count:0\n",
            "spacy_model:en_core_web_sm\t-->\tCalling Count:3\n",
            "srd_alignment:True\t-->\tCalling Count:0\n",
            "use_bert_spc:True\t-->\tCalling Count:401898\n",
            "use_syntax_based_SRD:False\t-->\tCalling Count:245076\n",
            "warmup_step:-1\t-->\tCalling Count:294967\n",
            "window:lr\t-->\tCalling Count:0\n"
          ]
        }
      ]
    },
    {
      "cell_type": "markdown",
      "source": [
        "# Aspect Term Extract & Sentiment Inference"
      ],
      "metadata": {
        "id": "8i24adlqTqC4"
      }
    },
    {
      "cell_type": "code",
      "source": [
        "\n",
        "# You can inference from a list of setences or a DatasetItem from PyABSA \n",
        "examples = ['But the staff was so perfect to us, but the service was bad .',\n",
        "            ]\n",
        "inference_source = examples\n",
        "atepc_result = aspect_extractor.extract_aspect(inference_source=inference_source,  #\n",
        "                          save_result=True,\n",
        "                          print_result=True,  # print the result\n",
        "                          pred_sentiment=True,  # Predict the sentiment of extracted aspect terms\n",
        "                          )\n",
        "\n"
      ],
      "metadata": {
        "colab": {
          "base_uri": "https://localhost:8080/"
        },
        "id": "zcCbXGKPTvBS",
        "outputId": "e980b173-ac00-4606-98ce-56b38c51095d"
      },
      "execution_count": null,
      "outputs": [
        {
          "output_type": "stream",
          "name": "stderr",
          "text": [
            "/usr/local/lib/python3.7/dist-packages/transformers/models/deberta_v2/modeling_deberta_v2.py:542: DeprecationWarning: `np.int` is a deprecated alias for the builtin `int`. To silence this warning, use `int` by itself. Doing this will not modify any behavior and is safe. When replacing `np.int`, you may wish to use e.g. `np.int64` or `np.int32` to specify the precision. If you wish to review your current use, check the release note link for additional information.\n",
            "Deprecated in NumPy 1.20; for more details and guidance: https://numpy.org/devdocs/release/1.20.0-notes.html#deprecations\n",
            "  bucket_pos = np.where(abs_pos <= mid, relative_pos, log_pos * sign).astype(np.int)\n"
          ]
        },
        {
          "output_type": "stream",
          "name": "stdout",
          "text": [
            "The results of aspect term extraction have been saved in /content/atepc_inference.result.json\n",
            "Example 0: But the \u001b[32m<staff:Positive Confidence:0.9998643398284912>\u001b[0m was so perfect to us , but the \u001b[31m<service:Negative Confidence:0.9998557567596436>\u001b[0m was bad .\n"
          ]
        },
        {
          "output_type": "stream",
          "name": "stderr",
          "text": [
            "/usr/local/lib/python3.7/dist-packages/pyabsa/core/atepc/prediction/aspect_extractor.py:360: UserWarning: Creating a tensor from a list of numpy.ndarrays is extremely slow. Please consider converting the list to a single numpy.ndarray with numpy.array() before converting to a tensor. (Triggered internally at  ../torch/csrc/utils/tensor_new.cpp:201.)\n",
            "  lcf_cdm_vec = torch.tensor([f.lcf_cdm_vec for f in infer_features], dtype=torch.float32)\n",
            "/usr/local/lib/python3.7/dist-packages/pyabsa/core/atepc/prediction/aspect_extractor.py:408: UserWarning: Implicit dimension choice for softmax has been deprecated. Change the call to include dim=X as an argument.\n",
            "  probs = [float(x) for x in F.softmax(i_apc_logits).cpu().numpy().tolist()]\n"
          ]
        }
      ]
    },
    {
      "cell_type": "markdown",
      "source": [
        "# Batch Inference"
      ],
      "metadata": {
        "id": "k5V9_phbT-Fl"
      }
    },
    {
      "cell_type": "code",
      "source": [
        "inference_source = ABSADatasetList.SemEval\n",
        "atepc_result = aspect_extractor.extract_aspect(inference_source=inference_source,  #\n",
        "                          save_result=True,\n",
        "                          print_result=True,  # print the result\n",
        "                          pred_sentiment=True,  # Predict the sentiment of extracted aspect terms\n",
        "                          )"
      ],
      "metadata": {
        "colab": {
          "base_uri": "https://localhost:8080/"
        },
        "id": "al_th6FWUEkY",
        "outputId": "6054a556-ff4f-4ba8-ac23-bad89de868f3"
      },
      "execution_count": null,
      "outputs": [
        {
          "output_type": "stream",
          "name": "stdout",
          "text": [
            "Loading 113.Laptop14 dataset from:  https://github.com/yangheng95/ABSADatasets\n",
            "Clone ABSADatasets from https://github.com/yangheng95/ABSADatasets.git\n",
            "loading: integrated_datasets/apc_datasets/110.SemEval/113.laptop14/Laptops_Test_Gold.xml.seg.inference\n",
            "Loading 114.Restaurant14 dataset from:  https://github.com/yangheng95/ABSADatasets\n",
            "loading: integrated_datasets/apc_datasets/110.SemEval/114.restaurant14/Restaurants_Test_Gold.xml.seg.inference\n",
            "Loading 116.Restaurant16 dataset from:  https://github.com/yangheng95/ABSADatasets\n",
            "loading: integrated_datasets/apc_datasets/110.SemEval/116.restaurant16/restaurant_test.raw.inference\n"
          ]
        },
        {
          "output_type": "stream",
          "name": "stderr",
          "text": [
            "100%|██████████| 422/422 [00:00<00:00, 528.05it/s, preparing apc inference dataloader...]\n",
            "  0%|          | 0/2 [00:00<?, ?it/s, extracting aspect terms...]/usr/local/lib/python3.7/dist-packages/transformers/models/deberta_v2/modeling_deberta_v2.py:542: DeprecationWarning: `np.int` is a deprecated alias for the builtin `int`. To silence this warning, use `int` by itself. Doing this will not modify any behavior and is safe. When replacing `np.int`, you may wish to use e.g. `np.int64` or `np.int32` to specify the precision. If you wish to review your current use, check the release note link for additional information.\n",
            "Deprecated in NumPy 1.20; for more details and guidance: https://numpy.org/devdocs/release/1.20.0-notes.html#deprecations\n",
            "  bucket_pos = np.where(abs_pos <= mid, relative_pos, log_pos * sign).astype(np.int)\n",
            "100%|██████████| 2/2 [00:04<00:00,  2.40s/it, extracting aspect terms...]\n",
            "100%|██████████| 594/594 [00:01<00:00, 352.54it/s, preparing apc inference dataloader...]\n",
            "  0%|          | 0/5 [00:00<?, ?it/s, classifying aspect sentiments...]/usr/local/lib/python3.7/dist-packages/pyabsa/core/atepc/prediction/aspect_extractor.py:408: UserWarning: Implicit dimension choice for softmax has been deprecated. Change the call to include dim=X as an argument.\n",
            "  probs = [float(x) for x in F.softmax(i_apc_logits).cpu().numpy().tolist()]\n",
            "100%|██████████| 5/5 [00:07<00:00,  1.44s/it, classifying aspect sentiments...]"
          ]
        },
        {
          "output_type": "stream",
          "name": "stdout",
          "text": [
            "The results of aspect term extraction have been saved in /content/atepc_inference.result.json\n",
            "Example 0: serves really good \u001b[32m<sushi:Positive Confidence:0.9999066591262817>\u001b[0m .\n",
            "Example 1: not the biggest \u001b[31m<portions:Negative Confidence:0.9916355609893799>\u001b[0m but adequate .\n",
            "Example 2: green tea creme brulee is a must !\n",
            "Example 3:   – i ca n ' t say enough about \u001b[31m<this:Negative Confidence:0.882319986820221>\u001b[0m place .\n",
            "Example 4: it has great \u001b[32m<sushi:Positive Confidence:0.9998794794082642>\u001b[0m and even better \u001b[32m<service:Positive Confidence:0.9998880624771118>\u001b[0m .\n",
            "Example 5: the entire \u001b[32m<staff:Positive Confidence:0.999930739402771>\u001b[0m was extremely accomodating and tended to my every need .\n",
            "Example 6: i ' ve been to this \u001b[32m<restaurant:Positive Confidence:0.9997392296791077>\u001b[0m over a dozen times with no complaints to date .\n",
            "Example 7: the \u001b[31m<owner:Negative Confidence:0.9998823404312134>\u001b[0m is belligerent to guests that have a complaint .\n",
            "Example 8: good \u001b[32m<food:Positive Confidence:0.99989914894104>\u001b[0m !\n",
            "Example 9: this is a great place to get a delicious \u001b[32m<meal:Positive Confidence:0.9999096393585205>\u001b[0m .\n",
            "Example 10: the \u001b[32m<staff:Positive Confidence:0.999921441078186>\u001b[0m is pretty friendly .\n",
            "Example 11: the onion rings are great !\n",
            "Example 12:   – i was highly disappointed in \u001b[31m<the:Negative Confidence:0.9999115467071533>\u001b[0m food at pagoda .\n",
            "Example 13: the lemon chicken tasted like sticky sweet donuts and the honey walnut prawns , the few they actually give you . . . . . were not good .\n",
            "Example 14: nice \u001b[32m<ambience:Positive Confidence:0.9998569488525391>\u001b[0m , but highly overrated \u001b[31m<place:Negative Confidence:0.9997825026512146>\u001b[0m .\n",
            "Example 15: worst \u001b[31m<service:Negative Confidence:0.9998968839645386>\u001b[0m i ever had\n",
            "Example 16: everyone that sat in the back outside agreed that it was the worst \u001b[31m<service:Negative Confidence:0.999885082244873>\u001b[0m we had ever received .\n",
            "Example 17: our \u001b[31m<waiter:Negative Confidence:0.9998960494995117>\u001b[0m was non - existent and after our \u001b[36m<food:Neutral Confidence:0.999795138835907>\u001b[0m finally arrived over an hour after we ordered , we were not given any water or \u001b[36m<utensils:Neutral Confidence:0.9994797110557556>\u001b[0m .\n",
            "Example 18: i complained to the \u001b[31m<manager:Negative Confidence:0.9998089671134949>\u001b[0m , but he was not even apologetic .\n",
            "Example 19: fabulous \u001b[32m<italian food:Positive Confidence:0.9999068975448608>\u001b[0m !\n",
            "Example 20:   – i highly \u001b[32m<recommend:Positive Confidence:0.9999276399612427>\u001b[0m mioposto .\n",
            "Example 21: i am so happy to have a wonderful italian \u001b[32m<restaurant:Positive Confidence:0.999901533126831>\u001b[0m in my neighborhood .\n",
            "Example 22: the \u001b[32m<wine list:Positive Confidence:0.9998795986175537>\u001b[0m is wonderful and the \u001b[32m<food:Positive Confidence:0.9998511075973511>\u001b[0m reminds me of my recent trip to italy .\n",
            "Example 23: i love this restaurant\n",
            "Example 24:   – i will never forget the \u001b[32m<amazing:Positive Confidence:0.9998937845230103>\u001b[0m meal \u001b[32m<,:Positive Confidence:0.9998979568481445>\u001b[0m service , \u001b[32m<and:Positive Confidence:0.9999094009399414>\u001b[0m ambiance i experience at this restaurant .\n",
            "Example 25: the \u001b[32m<wine list:Positive Confidence:0.9998987913131714>\u001b[0m is incredible and extensive and diverse , the \u001b[32m<food:Positive Confidence:0.9999035596847534>\u001b[0m is all incredible and the \u001b[32m<staff:Positive Confidence:0.999887228012085>\u001b[0m was all very nice , good at their jobs and cultured .\n",
            "Example 26: i have not a bad thing to say about this \u001b[32m<place:Positive Confidence:0.9995249509811401>\u001b[0m .\n",
            "Example 27: the \u001b[32m<food:Positive Confidence:0.9999144077301025>\u001b[0m was great !\n",
            "Example 28: it ' s * very * reasonably priced , esp for the quality of the \u001b[32m<food:Positive Confidence:0.7263506054878235>\u001b[0m .\n",
            "Example 29: i had the kafta \u001b[32m<plate:Positive Confidence:0.9999412298202515>\u001b[0m and it was perfect .\n",
            "Example 30: finally a \u001b[36m<meal:Neutral Confidence:0.9278507828712463>\u001b[0m that you will remember for a long time !\n",
            "Example 31:   – in a age of incremental cost cutting in restaurants , its nice to see a place that bucks that trend , and just plain delivers high \u001b[32m<quality:Positive Confidence:0.9998886585235596>\u001b[0m food and \u001b[32m<good:Positive Confidence:0.9999005794525146>\u001b[0m service , period .\n",
            "Example 32: this is the place to relax and enjoy the finest quality \u001b[32m<food:Positive Confidence:0.9998422861099243>\u001b[0m the industry can offer .\n",
            "Example 33: caution - its real \u001b[32m<food:Positive Confidence:0.71526038646698>\u001b[0m for people who love the best .\n",
            "Example 34: i liked the \u001b[32m<atmosphere:Positive Confidence:0.9998680353164673>\u001b[0m very much but the \u001b[31m<food:Negative Confidence:0.9062280654907227>\u001b[0m was not worth the price .\n",
            "Example 35: i may not be a \u001b[36m<sushi:Neutral Confidence:0.9996421337127686>\u001b[0m guru but i can tell you that the \u001b[36m<food:Neutral Confidence:0.9993649125099182>\u001b[0m here is just okay and that there is not much else to it .\n",
            "Example 36: rice is too dry , \u001b[31m<tuna:Negative Confidence:0.9995115995407104>\u001b[0m was n ' t so fresh either .\n",
            "Example 37: i have eaten here three times and have found the \u001b[32m<quality:Positive Confidence:0.9995079040527344>\u001b[0m and \u001b[32m<variety:Positive Confidence:0.9975341558456421>\u001b[0m of the \u001b[32m<fish:Positive Confidence:0.964552640914917>\u001b[0m to be excellent .\n",
            "Example 38: however , the \u001b[31m<value:Negative Confidence:0.999883770942688>\u001b[0m and \u001b[31m<service:Negative Confidence:0.9998965263366699>\u001b[0m are both severely lacking .\n",
            "Example 39: furthermore , while the \u001b[32m<fish:Positive Confidence:0.9997712969779968>\u001b[0m is unquestionably fresh , \u001b[31m<rolls:Negative Confidence:0.9998983144760132>\u001b[0m tend to be inexplicably bland .\n",
            "Example 40: the \u001b[31m<service:Negative Confidence:0.9998641014099121>\u001b[0m ranges from mediocre to offensive .\n",
            "Example 41: on a recent trip , our waiter was extremely dismissive , while no less than three \u001b[31m<staff:Negative Confidence:0.9819911122322083>\u001b[0m members waited hand - and - foot on a pair of japanese girls seated nearby .\n",
            "Example 42: freshest \u001b[32m<sushi:Positive Confidence:0.9999147653579712>\u001b[0m – i love this restaurant .\n",
            "Example 43: freshest \u001b[32m<sushi:Positive Confidence:0.9999147653579712>\u001b[0m – i love this restaurant .\n",
            "Example 44: they pay such detail to everything from \u001b[32m<miso soup:Positive Confidence:0.9909337759017944>\u001b[0m to complex \u001b[32m<rolls:Positive Confidence:0.9962299466133118>\u001b[0m .\n",
            "Example 45: the \u001b[32m<sashimi:Positive Confidence:0.9999278783798218>\u001b[0m was the freshest and most tender i have ever tasted .\n",
            "Example 46: their \u001b[32m<apps:Positive Confidence:0.9999078512191772>\u001b[0m are all delicious .\n",
            "Example 47: the only drawback is that this \u001b[31m<place:Negative Confidence:0.9998966455459595>\u001b[0m is really expensive and the \u001b[31m<portions:Negative Confidence:0.9999001026153564>\u001b[0m are on the small side .\n",
            "Example 48: but the \u001b[31m<space:Negative Confidence:0.5273593068122864>\u001b[0m is small and lovely , and the \u001b[32m<service:Positive Confidence:0.9998844861984253>\u001b[0m is helpful .\n",
            "Example 49:   – \u001b[31m<the:Negative Confidence:0.9998558759689331>\u001b[0m food was not great & the waiters were rude .\n",
            "Example 50: great service\n",
            "Example 51: my \u001b[32m<service:Positive Confidence:0.9999066591262817>\u001b[0m was stellar !\n",
            "Example 52: the bus boy even spotted that my \u001b[36m<table:Neutral Confidence:0.9998445510864258>\u001b[0m was shaking a stabilized it for me .\n",
            "Example 53: food was fine , with a some little - tastier - than - normal salsa .\n",
            "Example 54: the \u001b[32m<food:Positive Confidence:0.9998942613601685>\u001b[0m was great , the margaritas too but the waitress was too busy being nice to her other larger party than to take better care of my friend and me .\n",
            "Example 55: mama mia – i live in the neighborhood and feel lucky to live by such a great \u001b[32m<pizza:Positive Confidence:0.9998574256896973>\u001b[0m place .\n",
            "Example 56: the only problem is you really have to warm up the \u001b[31m<pizza:Negative Confidence:0.9998948574066162>\u001b[0m before it ' s edible , even when you order ahead .\n",
            "Example 57: best \u001b[32m<sushi:Positive Confidence:0.9998910427093506>\u001b[0m in town .\n",
            "Example 58: the best \u001b[32m<calamari:Positive Confidence:0.9998949766159058>\u001b[0m in seattle !\n",
            "Example 59:   – . . . and the best summertime deck experience - - they will even bring you a blanket if you get cold in the seattle evening weather .\n",
            "Example 60: a perfect \u001b[32m<place:Positive Confidence:0.999893069267273>\u001b[0m to take out of town guests any time of the year .\n",
            "Example 61: endless fun , awesome \u001b[32m<music:Positive Confidence:0.9999136924743652>\u001b[0m , great \u001b[32m<staff:Positive Confidence:0.9999178647994995>\u001b[0m ! ! !\n",
            "Example 62:   – by far the \u001b[32m<best:Positive Confidence:0.9998728036880493>\u001b[0m bar in the east village . . .\n",
            "Example 63: every time \" 0 - sixtynine \" is called the \u001b[31m<bartender:Negative Confidence:0.9997578263282776>\u001b[0m buys everyone drinks !\n",
            "Example 64: great draft and bottle selection and \u001b[32m<the pizza:Positive Confidence:0.999908447265625>\u001b[0m rocks .\n",
            "Example 65: definitely has one of the best \u001b[32m<jukebox:Positive Confidence:0.9998990297317505>\u001b[0m ' s i ' ve seen in a long long \u001b[36m<time:Neutral Confidence:0.9997895359992981>\u001b[0m .\n",
            "Example 66: the \u001b[32m<food:Positive Confidence:0.9998929500579834>\u001b[0m is great , the \u001b[32m<bartenders:Positive Confidence:0.9998444318771362>\u001b[0m go that extra mile .\n",
            "Example 67: the \u001b[32m<owners:Positive Confidence:0.9998902082443237>\u001b[0m are great fun and the \u001b[32m<beer selection:Positive Confidence:0.9998700618743896>\u001b[0m is worth staying for .\n",
            "Example 68: and the \u001b[32m<upstairs:Positive Confidence:0.9999148845672607>\u001b[0m is a great \u001b[32m<place:Positive Confidence:0.9999103546142578>\u001b[0m to hang out .\n",
            "Example 69: not alot of smoking \u001b[31m<places:Negative Confidence:0.998335063457489>\u001b[0m left in new york , but i have found my favorite smoking balconey in the city .\n",
            "Example 70: the \u001b[32m<sushi:Positive Confidence:0.9999114274978638>\u001b[0m here is delicious !\n",
            "Example 71: they have a wide \u001b[32m<variety of fish:Positive Confidence:0.9998306035995483>\u001b[0m and they even list which \u001b[36m<oceans:Neutral Confidence:0.9882476925849915>\u001b[0m they come from ; atlantic or pacific .\n",
            "Example 72: i ' ve had the \u001b[32m<jellyfish:Positive Confidence:0.9995961785316467>\u001b[0m , \u001b[32m<horse mackerel:Positive Confidence:0.9984664916992188>\u001b[0m , \u001b[32m<blue fin tuna:Positive Confidence:0.9841907620429993>\u001b[0m and the \u001b[32m<sake ikura roll:Positive Confidence:0.9988744854927063>\u001b[0m among others , and they were all good .\n",
            "Example 73: my only negative comment is that i wish the \u001b[31m<pieces:Negative Confidence:0.9998904466629028>\u001b[0m were a little bigger .\n",
            "Example 74: the \u001b[36m<decor:Neutral Confidence:0.9988406300544739>\u001b[0m is rustic , traditional \u001b[32m<japanese:Positive Confidence:0.9998170733451843>\u001b[0m .\n",
            "Example 75: the \u001b[31m<crowd:Negative Confidence:0.9935007691383362>\u001b[0m is mixed yuppies , young and old .\n",
            "Example 76: the \u001b[32m<service:Positive Confidence:0.9999337196350098>\u001b[0m was courteous and attentive .\n",
            "Example 77: mediocre food\n",
            "Example 78: the \u001b[36m<outside patio area:Neutral Confidence:0.9996323585510254>\u001b[0m has an abbreviated \u001b[31m<menu:Negative Confidence:0.9998583793640137>\u001b[0m .\n",
            "Example 79: my g / f and i both agreed the \u001b[31m<food:Negative Confidence:0.9997995495796204>\u001b[0m was very mediocre especially considering the price .\n",
            "Example 80: we are locals , and get the feeling the only way this place survives with such average \u001b[31m<food:Negative Confidence:0.9933633804321289>\u001b[0m is because most customers are probably one - time customer tourists .\n",
            "Example 81: service was decent .\n",
            "Example 82: drinks were good .\n",
            "Example 83: unless you are just stopping in for a few \u001b[36m<drinks:Neutral Confidence:0.9230962991714478>\u001b[0m i would n ' t recommend going here .\n",
            "Example 84: excellent \u001b[32m<food:Positive Confidence:0.9997943043708801>\u001b[0m , nice \u001b[32m<ambience:Positive Confidence:0.9997735619544983>\u001b[0m , fairly expensive\n",
            "Example 85:   – i loved \u001b[32m<the pumpkin:Positive Confidence:0.9998142123222351>\u001b[0m ravioli and \u001b[32m<the goat cheese:Positive Confidence:0.9997629523277283>\u001b[0m gnocchi ( 5 big ones to a plate instead \u001b[36m<of:Neutral Confidence:0.999749481678009>\u001b[0m 20 or so little gnocchis ) and my sister loved \u001b[36m<her filet:Neutral Confidence:0.996702253818512>\u001b[0m mignon on top of spinach and \u001b[36m<mashed:Neutral Confidence:0.9995408058166504>\u001b[0m potatoes .\n",
            "Example 86: the ambiance was a peaceful and relaxing \u001b[32m<break:Positive Confidence:0.9995731711387634>\u001b[0m amongst all the kids running around in downtown disney .\n",
            "Example 87: it was romantic - and even nice even with my sister , reminded me of italy , and had \u001b[32m<artwork:Positive Confidence:0.9998855590820312>\u001b[0m and \u001b[32m<music:Positive Confidence:0.9998985528945923>\u001b[0m that kept up the feeling of being in a mediterrean villa .\n",
            "Example 88: best \u001b[32m<indian food:Positive Confidence:0.9998997449874878>\u001b[0m in l . a .\n",
            "Example 89: the \u001b[32m<chicken curry:Positive Confidence:0.9745354056358337>\u001b[0m and \u001b[32m<chicken tikka masala:Positive Confidence:0.996884286403656>\u001b[0m are my favorite \u001b[32m<meat dishes:Positive Confidence:0.9998201727867126>\u001b[0m .\n",
            "Example 90: the \u001b[32m<chana masala (:Positive Confidence:0.9998499155044556>\u001b[0m garbanzo beans ) are also excellent .\n",
            "Example 91: it ' s located in a strip mall near the beverly center , not the greatest location , but the \u001b[32m<food:Positive Confidence:0.9998267292976379>\u001b[0m keeps me coming back for more .\n",
            "Example 92: never too crowded and always great \u001b[32m<service:Positive Confidence:0.9999183416366577>\u001b[0m .\n",
            "Example 93: i think i have probably tried each item on their \u001b[36m<menu:Neutral Confidence:0.999234676361084>\u001b[0m at least once it is all excellent .\n",
            "Example 94: i can highly recommend their various \u001b[32m<saag:Positive Confidence:0.9999293088912964>\u001b[0m and \u001b[32m<paneer:Positive Confidence:0.9999336004257202>\u001b[0m and \u001b[32m<korma:Positive Confidence:0.9999352693557739>\u001b[0m .\n",
            "Example 95: i appreciate their \u001b[32m<delivery:Positive Confidence:0.9998849630355835>\u001b[0m too .\n",
            "Example 96: nice \u001b[32m<food:Positive Confidence:0.999848484992981>\u001b[0m but no \u001b[31m<spice:Negative Confidence:0.9998489618301392>\u001b[0m !\n",
            "Example 97:   – i really enjoyed \u001b[32m<my:Positive Confidence:0.9998892545700073>\u001b[0m meal here .\n",
            "Example 98: i had yummy \u001b[32m<lamb korma:Positive Confidence:0.9969193935394287>\u001b[0m , \u001b[32m<saag paneer:Positive Confidence:0.6792433857917786>\u001b[0m , samosas , \u001b[36m<naan:Neutral Confidence:0.9281646013259888>\u001b[0m , etc .\n",
            "Example 99: the \u001b[32m<food:Positive Confidence:0.981431245803833>\u001b[0m was all good but it was way too mild .\n",
            "Example 100: i should have thought to bring it up but never expected the \u001b[31m<food:Negative Confidence:0.9998276233673096>\u001b[0m to be that mild .\n",
            "Example 101: the \u001b[32m<naan:Positive Confidence:0.9998674392700195>\u001b[0m was some of the best i ' ve had and i really enjoyed the \u001b[32m<bhartha:Positive Confidence:0.9998358488082886>\u001b[0m , not too tomatoey .\n",
            "Example 102: even the \u001b[32m<chickpeas:Positive Confidence:0.9996428489685059>\u001b[0m , which i normally find too dry , were good .\n",
            "Example 103:   – i do n ' t understand how i was a stranger to this place for so long . . . \u001b[32m<the fajita:Positive Confidence:0.9994757771492004>\u001b[0m salad , \u001b[32m<the:Positive Confidence:0.9997883439064026>\u001b[0m colorado , \u001b[32m<the:Positive Confidence:0.9997883439064026>\u001b[0m fajitas - everything is delicious .\n",
            "Example 104: i love the warm & cosy \u001b[32m<environment:Positive Confidence:0.9999107122421265>\u001b[0m .\n",
            "Example 105: i just found out that you can have the \u001b[32m<place:Positive Confidence:0.9839867353439331>\u001b[0m to yourself on nights and weekends for a private party - ca n ' t wait to celebrate my next birthday there .\n",
            "Example 106: best restaurant in the world , great \u001b[32m<decor:Positive Confidence:0.9999110698699951>\u001b[0m , great customer \u001b[32m<service:Positive Confidence:0.9999136924743652>\u001b[0m , friendly manager\n",
            "Example 107: i am never disappointed with there \u001b[32m<food:Positive Confidence:0.9999098777770996>\u001b[0m .\n",
            "Example 108: the \u001b[32m<atmosphere:Positive Confidence:0.9999240636825562>\u001b[0m is great .\n",
            "Example 109: great lunch spot\n",
            "Example 110:   – great financial district \u001b[32m<mexican:Positive Confidence:0.9999197721481323>\u001b[0m spot .\n",
            "Example 111: always busy , but they are good at \u001b[32m<seating:Positive Confidence:0.9986475110054016>\u001b[0m you promptly and have quick \u001b[32m<service:Positive Confidence:0.9999257326126099>\u001b[0m .\n",
            "Example 112: everything i ' ve had here is good , \u001b[32m<taco salads:Positive Confidence:0.9769854545593262>\u001b[0m , \u001b[32m<burritos:Positive Confidence:0.9683893918991089>\u001b[0m , \u001b[32m<enchiladas:Positive Confidence:0.9156910181045532>\u001b[0m i love this place .\n",
            "Example 113: also have great \u001b[32m<margaritas:Positive Confidence:0.9999021291732788>\u001b[0m !\n",
            "Example 114: lebanese \u001b[32m<food:Positive Confidence:0.9998396635055542>\u001b[0m ! yum !\n",
            "Example 115:   – i ' ve been to open sesame only once , but i ' m still reeling from \u001b[31m<the:Negative Confidence:0.9689105749130249>\u001b[0m experience ! !\n",
            "Example 116: the \u001b[32m<food:Positive Confidence:0.9999158382415771>\u001b[0m is simply unforgettable !\n",
            "Example 117: the \u001b[32m<presentation:Positive Confidence:0.9880474805831909>\u001b[0m of the \u001b[32m<food:Positive Confidence:0.5322002172470093>\u001b[0m was an added bonus , it looked just as great as it tasted !\n",
            "Example 118: my best friend had the \u001b[32m<chicken shawarma:Positive Confidence:0.9994851350784302>\u001b[0m and she still raves about it being the best anywhere !\n",
            "Example 119: the \u001b[32m<staff:Positive Confidence:0.9999352693557739>\u001b[0m are friendly and \u001b[32m<the decor was:Positive Confidence:0.9999294281005859>\u001b[0m ethic and colorful .\n",
            "Example 120: go to open sesame ! ! !\n",
            "Example 121: holy \u001b[32m<hummus:Positive Confidence:0.999915361404419>\u001b[0m !\n",
            "Example 122:   – the food is here is incredible , though the quality is inconsistent during lunch .\n",
            "Example 123: dinners have always been excellent , in terms of \u001b[32m<food quality:Positive Confidence:0.7297572493553162>\u001b[0m .\n",
            "Example 124: the open sesame combo plate is a bargain for the heap of \u001b[32m<food:Positive Confidence:0.8465325832366943>\u001b[0m given .\n",
            "Example 125: the \u001b[32m<side:Positive Confidence:0.9997987151145935>\u001b[0m of potatoes is to die for , as is the \u001b[32m<labne ( yogurt dip:Positive Confidence:0.9998574256896973>\u001b[0m ) .\n",
            "Example 126: also , they serve the best \u001b[32m<hummus:Positive Confidence:0.9998167157173157>\u001b[0m in america , with a drizzle of \u001b[36m<fragrant olive oil:Neutral Confidence:0.9998229146003723>\u001b[0m ( which , i believe is the traditional way ) !\n",
            "Example 127: the only drawback is the \u001b[31m<crowded seating:Negative Confidence:0.9995664954185486>\u001b[0m and the slow \u001b[31m<service:Negative Confidence:0.9998832941055298>\u001b[0m .\n",
            "Example 128: however , this \u001b[32m<place:Positive Confidence:0.9999128580093384>\u001b[0m is a gem , and i wo n ' t stop going back .\n",
            "Example 129: great beer\n",
            "Example 130:   – my first time \u001b[31m<to:Negative Confidence:0.9998964071273804>\u001b[0m dine at \u001b[31m<this:Negative Confidence:0.9998985528945923>\u001b[0m restaurant was with my son and it was absolutely horrible !\n",
            "Example 131: i swore never to return for a warm \u001b[32m<beer:Positive Confidence:0.9993799924850464>\u001b[0m and mediocre \u001b[31m<meal:Negative Confidence:0.9922434687614441>\u001b[0m .\n",
            "Example 132: the \u001b[32m<band:Positive Confidence:0.999931812286377>\u001b[0m was very good and the \u001b[32m<service:Positive Confidence:0.9999175071716309>\u001b[0m was attentive .\n",
            "Example 133: we ordered a selection of the small \u001b[36m<plates:Neutral Confidence:0.988490104675293>\u001b[0m , and the shoe string \u001b[36m<onions:Neutral Confidence:0.9983081817626953>\u001b[0m , \u001b[36m<goat cheese pizza:Neutral Confidence:0.9936712980270386>\u001b[0m , \u001b[32m<grilled asparagus:Positive Confidence:0.7190648913383484>\u001b[0m and \u001b[32m<fried brie with fruit:Positive Confidence:0.9970576763153076>\u001b[0m were all very good .\n",
            "Example 134: we have since returned and also had a great experience , sampling more small plates and a variety of the \u001b[32m<beer:Positive Confidence:0.9998925924301147>\u001b[0m ( cold and good ) .\n",
            "Example 135: we did have the same waiter the second time , so maybe the \u001b[31m<service:Negative Confidence:0.9997232556343079>\u001b[0m is spotty and our luck is good .\n",
            "Example 136: sunday afternoons there is a \u001b[36m<band:Neutral Confidence:0.8070892691612244>\u001b[0m playing and it is lots of fun .\n",
            "Example 137: seattle ' s best winelist\n",
            "Example 138:   – ray ' s ( suprisingly ) has the city ' s best & most \u001b[32m<diverse wine:Positive Confidence:0.9999334812164307>\u001b[0m list .\n",
            "Example 139: the \u001b[32m<sommelier:Positive Confidence:0.9999412298202515>\u001b[0m is fantastic , down - to - earth , & extremely knowlegable .\n",
            "Example 140: i would go back for the \u001b[32m<wine:Positive Confidence:0.9999264478683472>\u001b[0m experience alone .\n",
            "Example 141: not the \u001b[31m<place:Negative Confidence:0.9998242259025574>\u001b[0m it once was\n",
            "Example 142:   – it is sad to see \u001b[31m<a:Negative Confidence:0.9997702240943909>\u001b[0m place that was once \" the \" place to meet and eat \u001b[36m<for:Neutral Confidence:0.5846845507621765>\u001b[0m bfast \u001b[36m<or:Neutral Confidence:0.8845809102058411>\u001b[0m lunch , now be the place that is a big \" dont bother . \"\n",
            "Example 143: the \u001b[31m<food:Negative Confidence:0.9998452663421631>\u001b[0m is not what it once was ( \u001b[31m<potions:Negative Confidence:0.9998363256454468>\u001b[0m have seriously seen downsizing ) \u001b[31m<prices:Negative Confidence:0.9997310042381287>\u001b[0m have gone up , and the \u001b[31m<service:Negative Confidence:0.9998737573623657>\u001b[0m is the worst i have experienced anywhere ( including mainland europe ) .\n",
            "Example 144: what may be interesting to most is the worst sevice / attitude comes from the \u001b[31m<owners:Negative Confidence:0.9999024868011475>\u001b[0m of this establishment .\n",
            "Example 145: this establishment really made a marked decline after ( and this is recurring story ) the airing of food televisions \" diners , drive - ins , and dives \" hosted by \u001b[36m<guy:Neutral Confidence:0.9994957447052002>\u001b[0m fieri , in which schooner or later was subject of .\n",
            "Example 146: perhaps now , scooner or later falls into the \" dive \" \u001b[36m<category:Neutral Confidence:0.9995507597923279>\u001b[0m .\n",
            "Example 147: i hope one day \u001b[32m<scooner:Positive Confidence:0.9960238933563232>\u001b[0m or later returns to what it once was .\n",
            "Example 148: open & cool \u001b[32m<place:Positive Confidence:0.9998899698257446>\u001b[0m with the best pizza and coffee\n",
            "Example 149:   – mioposto has a very creative & delicious pizza menu .\n",
            "Example 150: the \u001b[32m<coffe:Positive Confidence:0.999937891960144>\u001b[0m is very good , too .\n",
            "Example 151: great \u001b[32m<open:Positive Confidence:0.999923825263977>\u001b[0m and friendly ambience .\n",
            "Example 152: this \u001b[32m<place:Positive Confidence:0.9999340772628784>\u001b[0m is charming and relaxing .\n",
            "Example 153: the \u001b[32m<servers:Positive Confidence:0.9998682737350464>\u001b[0m behind the \u001b[36m<counter:Neutral Confidence:0.9996814727783203>\u001b[0m are always friendly and helpful .\n",
            "Example 154: it ' s a great place to enjoy \u001b[32m<food:Positive Confidence:0.9998383522033691>\u001b[0m and meet friends .\n",
            "Example 155:   – after 12 years in seattle ray ' s rates as \u001b[32m<the:Positive Confidence:0.9998605251312256>\u001b[0m place we always go back to .\n",
            "Example 156: great \u001b[32m<food:Positive Confidence:0.9999088048934937>\u001b[0m , spectacular \u001b[32m<location:Positive Confidence:0.9999092817306519>\u001b[0m , and friendly \u001b[32m<service:Positive Confidence:0.9999066591262817>\u001b[0m keep us coming back year after year .\n",
            "Example 157: enjoyed the food\n",
            "Example 158: food was good and cheap .\n",
            "Example 159: i had the \u001b[32m<kafta plate:Positive Confidence:0.9998412132263184>\u001b[0m and i enjoyed it .\n",
            "Example 160: atmosphere was nice .\n",
            "Example 161: service was kind of slow , our \u001b[31m<waitress:Negative Confidence:0.9997233748435974>\u001b[0m took forever to give us our \u001b[36m<check:Neutral Confidence:0.9998464584350586>\u001b[0m even though it was n ' t that busy .\n",
            "Example 162: still i would recommend this \u001b[32m<place:Positive Confidence:0.9999306201934814>\u001b[0m .\n",
            "Example 163: what else can you say nice \u001b[32m<people:Positive Confidence:0.9998619556427002>\u001b[0m amazing \u001b[32m<food:Positive Confidence:0.9998524188995361>\u001b[0m wow\n",
            "Example 164: great \u001b[32m<food:Positive Confidence:0.9999014139175415>\u001b[0m with an awesome \u001b[32m<atmosphere:Positive Confidence:0.9999128580093384>\u001b[0m !\n",
            "Example 165:   – eggs , pancakes , potatoes , \u001b[32m<fresh:Positive Confidence:0.9995619654655457>\u001b[0m fruit and yogurt - - everything they serve is delicious .\n",
            "Example 166: the best \u001b[32m<place:Positive Confidence:0.9998152852058411>\u001b[0m for a leisure sunday breakfast amidst yachts , then take a stroll through the nearby farmer ' s market .\n",
            "Example 167: great \u001b[32m<meal:Positive Confidence:0.9998992681503296>\u001b[0m – the fish on the omikase platter was absolutely decadent - - there was none of the stringiness that sometimes accompanies fair sushi - - this fish was perfect ! ! ! !\n",
            "Example 168: plus , i am allergic to \u001b[32m<rice:Positive Confidence:0.9820958375930786>\u001b[0m , and the \u001b[32m<waitstaff:Positive Confidence:0.9997429251670837>\u001b[0m was unbelievably accomodating - - did n ' t even bat an eye !\n",
            "Example 169: and the \u001b[32m<waiter:Positive Confidence:0.6708528399467468>\u001b[0m suggested a perfect \u001b[32m<sake:Positive Confidence:0.9998908042907715>\u001b[0m ! !\n",
            "Example 170: unbeatable \u001b[32m<sushi:Positive Confidence:0.9999105930328369>\u001b[0m !\n",
            "Example 171: melt in your mouth \u001b[32m<nigiri:Positive Confidence:0.9999128580093384>\u001b[0m and \u001b[32m<sashmi:Positive Confidence:0.9999229907989502>\u001b[0m , and very tasty \u001b[32m<rolls:Positive Confidence:0.9999274015426636>\u001b[0m too .\n",
            "Example 172: be sure to try the \u001b[32m<oyster roll:Positive Confidence:0.9999169111251831>\u001b[0m .\n",
            "Example 173:   – how to describe the \u001b[32m<best:Positive Confidence:0.9998828172683716>\u001b[0m sushi in nyc : hmmmm , delicious , amazing , fantastic , suculent , perfect , nah , all of the above .\n",
            "Example 174: i ca n ' t saybenough good things about \u001b[32m<this restaurant:Positive Confidence:0.9999191761016846>\u001b[0m , and i ca n ' t wait for my next several visits .\n",
            "Example 175: the best \u001b[32m<chuwam mushi:Positive Confidence:0.999931812286377>\u001b[0m i have ever had .\n",
            "Example 176: good \u001b[32m<sushi:Positive Confidence:0.9970458149909973>\u001b[0m , high price\n",
            "Example 177: one of the best \u001b[32m<sushi:Positive Confidence:0.9998775720596313>\u001b[0m place in town .\n",
            "Example 178: the house special roll is really good .\n",
            "Example 179: a cozy \u001b[32m<spot:Positive Confidence:0.999935507774353>\u001b[0m for Positive\n",
            "Example 180:   – i ca n ' t \u001b[32m<believe:Positive Confidence:0.9997598528862>\u001b[0m murphy ' s has been around for over 25 years , amazing .\n",
            "Example 181: brunch at murphy ' s is to die for , my specialty . . . \u001b[32m<egg white omelet:Positive Confidence:0.9940621256828308>\u001b[0m , the \u001b[32m<food:Positive Confidence:0.9996769428253174>\u001b[0m is always freshly prepared .\n",
            "Example 182: it ' s the perfect \u001b[32m<spot:Positive Confidence:0.9998856782913208>\u001b[0m for a romantic date for 2 or a secret rendezvous !\n",
            "Example 183: save room for scrumptious \u001b[32m<desserts:Positive Confidence:0.999890923500061>\u001b[0m .\n",
            "Example 184: the restaurant offers an extensive \u001b[32m<wine list:Positive Confidence:0.9998875856399536>\u001b[0m and an \u001b[32m<ambiance:Positive Confidence:0.9998948574066162>\u001b[0m you wo n ' t forget !\n",
            "Example 185:   – best mexican place \u001b[32m<for:Positive Confidence:0.9882315993309021>\u001b[0m lunch in the financial district .\n",
            "Example 186: love the enchiladas and \u001b[32m<chicken soup:Positive Confidence:0.9998893737792969>\u001b[0m - and be sure to check out their \u001b[32m<specials:Positive Confidence:0.997246265411377>\u001b[0m .\n",
            "Example 187: the \u001b[32m<cooks:Positive Confidence:0.9999010562896729>\u001b[0m have been at the \u001b[36m<restaurant:Neutral Confidence:0.99918133020401>\u001b[0m for years and cook family recipes .\n",
            "Example 188: can get busy on fridays for a \u001b[36m<table:Neutral Confidence:0.9998154044151306>\u001b[0m but once seated , the \u001b[32m<service:Positive Confidence:0.9998088479042053>\u001b[0m is so efficient you can be in and out of there quickly .\n",
            "Example 189: the \u001b[32m<sushi:Positive Confidence:0.9999001026153564>\u001b[0m was excellent and the \u001b[32m<wait staff:Positive Confidence:0.9995848536491394>\u001b[0m was quick .\n",
            "Example 190: the \u001b[36m<atmosphere:Neutral Confidence:0.9997931122779846>\u001b[0m was just okay .\n",
            "Example 191: space was limited , but the \u001b[32m<food:Positive Confidence:0.9997938275337219>\u001b[0m made up for it .\n",
            "Example 192: well i guess it ' s hard to be seated when one is invisible to the \u001b[31m<staff:Negative Confidence:0.9840510487556458>\u001b[0m .\n",
            "Example 193: we stood there for 10 minutes while \u001b[31m<employees:Negative Confidence:0.9998549222946167>\u001b[0m walked back and forth ignoring us .\n",
            "Example 194: finally , my wife stood face to face in front of one of the \u001b[31m<staff:Negative Confidence:0.9998216032981873>\u001b[0m and she asked , \" are you \u001b[36m<waiting:Neutral Confidence:0.9998766183853149>\u001b[0m for a \u001b[36m<table:Neutral Confidence:0.9998612403869629>\u001b[0m ? \"\n",
            "Example 195: the \u001b[31m<caesar salad:Negative Confidence:0.9801196455955505>\u001b[0m i ordered had so much \u001b[31m<lemon:Negative Confidence:0.8771326541900635>\u001b[0m i could n ' t eat it .\n",
            "Example 196: great \u001b[32m<food:Positive Confidence:0.9999066591262817>\u001b[0m , better \u001b[32m<margaritas:Positive Confidence:0.9999185800552368>\u001b[0m !\n",
            "Example 197:   – this is one of my top lunch spots , huge portions , \u001b[32m<fast:Positive Confidence:0.999890923500061>\u001b[0m service and amazing margaritas ! !\n",
            "Example 198: it gets really busy , so get there on the early side so you can grab a \u001b[36m<seat:Neutral Confidence:0.9997009038925171>\u001b[0m , if you do have to wait , its not bad because the \u001b[32m<service:Positive Confidence:0.9998550415039062>\u001b[0m is quick !\n",
            "Example 199: check out the \u001b[32m<art:Positive Confidence:0.9997480511665344>\u001b[0m on the walls , very colorful !\n",
            "Example 200: i love this \u001b[32m<place:Positive Confidence:0.9999219179153442>\u001b[0m !\n",
            "Example 201:   – i have been eating at \u001b[36m<this:Neutral Confidence:0.9993091821670532>\u001b[0m place for over 8 years now and i have never had one \u001b[32m<bad:Positive Confidence:0.9999082088470459>\u001b[0m meal .\n",
            "Example 202: i highly recommend this place to all that want to \u001b[32m<try indain food:Positive Confidence:0.9999381303787231>\u001b[0m for the first time .\n",
            "Example 203: the \u001b[32m<lunch menu:Positive Confidence:0.999861478805542>\u001b[0m is an awesome deal !\n",
            "Example 204: plenty of \u001b[32m<food:Positive Confidence:0.9998904466629028>\u001b[0m , trust me .\n",
            "Example 205: fresh \u001b[32m<ingrediants:Positive Confidence:0.9999219179153442>\u001b[0m and super tasty .\n",
            "Example 206: best \u001b[32m<food:Positive Confidence:0.9998993873596191>\u001b[0m , phenominal service\n",
            "Example 207: for the finicky \u001b[32m<sushi:Positive Confidence:0.9990733861923218>\u001b[0m eater and those who have sampled the best nyc has to offer , the \u001b[32m<fish:Positive Confidence:0.9999175071716309>\u001b[0m is the freshest and the \u001b[32m<service:Positive Confidence:0.9999195337295532>\u001b[0m is superb .\n",
            "Example 208: not only can the \u001b[32m<selection:Positive Confidence:0.9998890161514282>\u001b[0m be innovative , but there ' s a nice balance of traditional \u001b[32m<sushi:Positive Confidence:0.9992645382881165>\u001b[0m as well .\n",
            "Example 209: the nicest \u001b[32m<waiters:Positive Confidence:0.999904990196228>\u001b[0m in town .\n",
            "Example 210:   – \u001b[31m<this:Negative Confidence:0.9999096393585205>\u001b[0m place is unbelievably over - rated .\n",
            "Example 211: if i want to stand in \u001b[31m<line:Negative Confidence:0.9945235252380371>\u001b[0m on sunday for an hour to get average \u001b[36m<brunch food:Neutral Confidence:0.9995449185371399>\u001b[0m , then i would put murphy ' s at the top of the list .\n",
            "Example 212: the regular \u001b[36m<menu:Neutral Confidence:0.9997898936271667>\u001b[0m here is slightly above average that is not worth the snotty \u001b[31m<attitude:Negative Confidence:0.999889612197876>\u001b[0m that you receive .\n",
            "Example 213: your a sushi fan , you love expertly cut fish , great sake , a killer soho location , and of course : salmon , tuna , fluke , yellow tail , cod , mackeral , jellyfish , sea urchin , shrimp , lobster , sea bream , trout , milk fish , blue fin tuna , eel , crab , sardine , monk fish , roe , scallop , oysters , and a varity of toro .\n",
            "Example 214: your a sushi fan , you love expertly cut fish , great sake , a killer soho location , and of course : salmon , tuna , fluke , yellow tail , cod , mackeral , jelly $ t $ , sea urchin , shrimp , lobster , sea bream , trout , milk fish , blue fin tuna , eel , crab , sardine , monk fish , roe , scallop , oysters , and a varity of toro .\n",
            "Example 215: there is only one place on the east coast that has it all , plus a lot more .\n",
            "Example 216: bring your cell phone cause you may have to wait to get into the best \u001b[32m<sushi:Positive Confidence:0.9429788589477539>\u001b[0m restaurant in the world : blue ribbon sushi .\n",
            "Example 217: hands down , the best \u001b[32m<tuna:Positive Confidence:0.9999065399169922>\u001b[0m i have ever had .\n",
            "Example 218: blue ribbon lives up to it ' s fantastic reputation .\n",
            "Example 219: great value \u001b[32m<sushi:Positive Confidence:0.9999096393585205>\u001b[0m with high quality & nice \u001b[32m<setting:Positive Confidence:0.9999246597290039>\u001b[0m .\n",
            "Example 220: try the \u001b[36m<chef:Neutral Confidence:0.9995777010917664>\u001b[0m ' s choice for sushi as the smoked yellowtail was incredible and the rolls were also tasty .\n",
            "Example 221: poor customer service / poor \u001b[31m<pizza:Negative Confidence:0.9999010562896729>\u001b[0m .\n",
            "Example 222: poor customer service / poor \u001b[31m<pizza:Negative Confidence:0.9999010562896729>\u001b[0m .\n",
            "Example 223:   – as with most restaurants in seattle , mioposto ' \u001b[31m<s:Negative Confidence:0.999365508556366>\u001b[0m service was bad and \u001b[31m<the:Negative Confidence:0.9998763799667358>\u001b[0m food was overpriced .\n",
            "Example 224: i know many people have their favorite types of \u001b[32m<pizza:Positive Confidence:0.9988070726394653>\u001b[0m and \u001b[32m<pizza places:Positive Confidence:0.9989412426948547>\u001b[0m , but mioposto ' s pizza lacks \u001b[31m<quality:Negative Confidence:0.9994170665740967>\u001b[0m and good \u001b[31m<taste:Negative Confidence:0.999220609664917>\u001b[0m .\n",
            "Example 225: to be honest , i ' ve had better frozen \u001b[32m<pizza:Positive Confidence:0.9997323155403137>\u001b[0m .\n",
            "Example 226: the only positive thing about mioposto is the nice \u001b[32m<location:Positive Confidence:0.9999148845672607>\u001b[0m .\n",
            "Example 227: i was frankly shocked when i read the bad reviews - this \u001b[32m<place:Positive Confidence:0.999891996383667>\u001b[0m is fantastic ; it has not let us down in any way , and we ' ve eaten here more than 10 times .\n",
            "Example 228: the \u001b[32m<food:Positive Confidence:0.9999113082885742>\u001b[0m is fantastic , and the \u001b[32m<waiting staff:Positive Confidence:0.9998620748519897>\u001b[0m has been perfect every single time we ' ve been there .\n",
            "Example 229: the only problem would be the wait , but we usually just have a \u001b[36m<drink:Neutral Confidence:0.9998515844345093>\u001b[0m in the front while waiting .\n",
            "Example 230: seafood plus\n",
            "Example 231: the appetizer of oysters , lobster , crab ( small size ) made a perfect \u001b[32m<entre:Positive Confidence:0.9997676014900208>\u001b[0m for my wife .\n",
            "Example 232: seabass on lobster risotto was the best .\n",
            "Example 233: caesar salad was superb .\n",
            "Example 234: great \u001b[32m<bottle of wine:Positive Confidence:0.9999141693115234>\u001b[0m .\n",
            "Example 235: leave room for \u001b[36m<dessert:Neutral Confidence:0.9687535166740417>\u001b[0m .\n",
            "Example 236: the food was ok , but the \u001b[31m<service:Negative Confidence:0.9998546838760376>\u001b[0m was so poor that the food was cold buy the time everyone in my party was served .\n",
            "Example 237: we had a very hard time getting the \u001b[31m<waitress:Negative Confidence:0.9998216032981873>\u001b[0m ' attention and finally had to get up and go inside to speak to a \u001b[36m<manager:Neutral Confidence:0.9994561076164246>\u001b[0m .\n",
            "Example 238: as it turns out the \u001b[31m<owner:Negative Confidence:0.9992092847824097>\u001b[0m was seated right next to us and when he came over to check on our problems was very dismissive and offered a token 20 % discount on our \u001b[36m<bill:Neutral Confidence:0.9996964931488037>\u001b[0m .\n",
            "Example 239: avoid the place\n",
            "Example 240: when i got there i sat up stairs where the \u001b[32m<atmosphere:Positive Confidence:0.9987855553627014>\u001b[0m was cozy & the \u001b[31m<service:Negative Confidence:0.9999042749404907>\u001b[0m was horrible !\n",
            "Example 241: i waited for 10 - 15 minutes for \u001b[31m<service:Negative Confidence:0.9996911287307739>\u001b[0m ordered a \u001b[36m<beer:Neutral Confidence:0.999833345413208>\u001b[0m & was never served again .\n",
            "Example 242: i went home & looked them up online again where i discovered there is a link for a give away that does n ' t work so emailed the restaurant about the non existent \u001b[31m<service:Negative Confidence:0.9998551607131958>\u001b[0m & deceptive link .\n",
            "Example 243: after sitting at the \u001b[36m<bar:Neutral Confidence:0.9989060163497925>\u001b[0m for over 20 minutes the bar keep had made only 2 \u001b[36m<drinks:Neutral Confidence:0.9826585054397583>\u001b[0m & kept telling us she ' d be right with us .\n",
            "Example 244: we left without ever getting \u001b[31m<service:Negative Confidence:0.9998332262039185>\u001b[0m .\n",
            "Example 245: best \u001b[32m<crab cakes:Positive Confidence:0.9999104738235474>\u001b[0m in town\n",
            "Example 246:   – that s a big statement considering i ' ve been pulling crab traps and making \u001b[36m<the:Neutral Confidence:0.9998136162757874>\u001b[0m cakes myself since i was about seven - but something about these little devils gets better every time .\n",
            "Example 247: if you can , come to this \u001b[32m<place:Positive Confidence:0.9952583909034729>\u001b[0m by boat and make it a whole evening .\n",
            "Example 248: great seasonal \u001b[32m<fish:Positive Confidence:0.9998952150344849>\u001b[0m and \u001b[32m<seafood:Positive Confidence:0.9998929500579834>\u001b[0m , with a classy waterfront \u001b[32m<setting:Positive Confidence:0.9998865127563477>\u001b[0m .\n",
            "Example 249: great \u001b[32m<pizza:Positive Confidence:0.99978107213974>\u001b[0m , poor service\n",
            "Example 250:   – love \u001b[32m<their:Positive Confidence:0.99989914894104>\u001b[0m pizza , especially the \u001b[32m<mushroom:Positive Confidence:0.9998910427093506>\u001b[0m pizza .\n",
            "Example 251:   – love \u001b[32m<their:Positive Confidence:0.99989914894104>\u001b[0m pizza , especially the \u001b[32m<mushroom:Positive Confidence:0.9998910427093506>\u001b[0m pizza .\n",
            "Example 252: also love their caeser \u001b[32m<salad:Positive Confidence:0.9999349117279053>\u001b[0m .\n",
            "Example 253: prefer to order it and pick it up though because i do n ' t like the \u001b[31m<servers:Negative Confidence:0.9998819828033447>\u001b[0m , one young woman in particular .\n",
            "Example 254: management should really take notice and train their waitstaff and teach them some proper manners .\n",
            "Example 255: many people talk about the great \u001b[32m<pizza:Positive Confidence:0.9988197684288025>\u001b[0m and poor \u001b[32m<service:Positive Confidence:0.9955614805221558>\u001b[0m , so it ca n ' t just be the rantings of a few dissatisfied customers .\n",
            "Example 256: it ' s a great little \u001b[32m<place:Positive Confidence:0.998685896396637>\u001b[0m with tons of potential to be a neighborhood joint if the \u001b[31m<service:Negative Confidence:0.9993352293968201>\u001b[0m were n ' t so impersonal and corporate - like .\n",
            "Example 257: great breakfast\n",
            "Example 258:   – this place is famous for \u001b[32m<their:Positive Confidence:0.6835793256759644>\u001b[0m breakfast .\n",
            "Example 259: the \u001b[32m<food:Positive Confidence:0.9998769760131836>\u001b[0m is great and they make a mean bloody mary .\n",
            "Example 260: i love \u001b[32m<breakfast:Positive Confidence:0.9998403787612915>\u001b[0m here .\n",
            "Example 261: their \u001b[32m<crab:Positive Confidence:0.9998908042907715>\u001b[0m eggs benedict is addicting .\n",
            "Example 262: all their \u001b[32m<menu items:Positive Confidence:0.9998599290847778>\u001b[0m are a hit , and they serve \u001b[36m<mimosas:Neutral Confidence:0.9998656511306763>\u001b[0m .\n",
            "Example 263: best \u001b[32m<chinese food:Positive Confidence:0.999862551689148>\u001b[0m i have tasted in a long time\n",
            "Example 264: the ambiance of the restaurant was nice and good for \u001b[32m<fine dinning:Positive Confidence:0.9999239444732666>\u001b[0m .\n",
            "Example 265: the \u001b[32m<staff:Positive Confidence:0.9999110698699951>\u001b[0m was very nice and courteous and obviously chinese .\n",
            "Example 266: so about the prawns , they were fresh and had a slight crispiness about the \u001b[36m<batter:Neutral Confidence:0.9995362758636475>\u001b[0m . . . soooo good . . . the \u001b[32m<walnuts:Positive Confidence:0.9998635053634644>\u001b[0m were cut in smaller pieces and very crunchy and tasty .\n",
            "Example 267: best honey walnyt \u001b[32m<prawns:Positive Confidence:0.9999372959136963>\u001b[0m that we have every tasted .\n",
            "Example 268: the \u001b[32m<brocollis:Positive Confidence:0.9999356269836426>\u001b[0m were so fresh and tasty .\n",
            "Example 269: i would normally not finish the brocolli when i order these kinds of \u001b[32m<food:Positive Confidence:0.9795522093772888>\u001b[0m but for the first time , every piece was as eventful as the first one . . . the \u001b[32m<scallops:Positive Confidence:0.9999197721481323>\u001b[0m and \u001b[32m<prawns:Positive Confidence:0.9999183416366577>\u001b[0m was so fresh and nicely cooked .\n",
            "Example 270: for \u001b[36m<desert:Neutral Confidence:0.9995673298835754>\u001b[0m we had the \u001b[32m<mango ginger creme brulee:Positive Confidence:0.9998842477798462>\u001b[0m . . . oh la la yummy ! ! !\n",
            "Example 271: we are for sure coming back to this \u001b[32m<restaurant:Positive Confidence:0.9999234676361084>\u001b[0m .\n",
            "Example 272: chintzy portions\n",
            "Example 273:   – \u001b[32m<the:Positive Confidence:0.9998723268508911>\u001b[0m sushi here is perfectly good , but for $ 5 a piece , either the slices of fish should be larger , or there should be no pretense that this is a moderately priced restaurant ( even for nyc ) .\n",
            "Example 274: i ' m astonished that this \u001b[31m<restaurant:Negative Confidence:0.9999039173126221>\u001b[0m is categorized as $ $ $ rather than $ $ $ $ .\n",
            "Example 275: terrible \u001b[31m<service:Negative Confidence:0.9998296499252319>\u001b[0m , food ok , pricey\n",
            "Example 276: in other words , if they are n ' t making $ $ off of you then you do n ' t rate high on their ' \u001b[31m<service:Negative Confidence:0.9998511075973511>\u001b[0m scale ' .\n",
            "Example 277: food wise , its ok but a bit pricey for what you get considering the restaurant is n ' t a fancy place .\n",
            "Example 278: if i needed to name some they would include the location to the beach or golden gate park .\n",
            "Example 279: another plus is the open \u001b[32m<feel:Positive Confidence:0.9998705387115479>\u001b[0m of the restaurant with \u001b[32m<glass walls:Positive Confidence:0.7922452688217163>\u001b[0m on all sides .\n",
            "Example 280: amazing spanish mackeral special appetizer and perfect \u001b[32m<box sushi:Positive Confidence:0.9998935461044312>\u001b[0m ( that eel with avodcao - - um um um ) .\n",
            "Example 281: as usual the \u001b[32m<omikase:Positive Confidence:0.9959569573402405>\u001b[0m did n ' t disappoint in freshness , although it scored low on creativity and \u001b[31m<selection:Negative Confidence:0.9995797276496887>\u001b[0m .\n",
            "Example 282: their \u001b[32m<specialty rolls:Positive Confidence:0.9998613595962524>\u001b[0m are impressive , though i ca n ' t remember what we had .\n",
            "Example 283: great selection of \u001b[32m<sakes:Positive Confidence:0.9998977184295654>\u001b[0m .\n",
            "Example 284: green tea creme brulee gets better each time i have it .\n",
            "Example 285: it is n ' t the cheapest \u001b[36m<sushi:Neutral Confidence:0.4765174388885498>\u001b[0m but has been worth it every time .\n",
            "Example 286: very poor customer \u001b[31m<service:Negative Confidence:0.9998655319213867>\u001b[0m .\n",
            "Example 287:   – schooner or later ' s \u001b[32m<charming:Positive Confidence:0.9995868802070618>\u001b[0m location along the marina in long beach and average food does not , unfortunately , compensate for its very poor customer service .\n",
            "Example 288: while this diner had reasonably good food , the restaurant \u001b[31m<staff:Negative Confidence:0.9995468258857727>\u001b[0m seemed completely indifferent to our presence , and this attitude was reflected in the lack of \u001b[31m<service:Negative Confidence:0.9998273253440857>\u001b[0m .\n",
            "Example 289: after one member of our party had been bumped repeatedly by a \u001b[31m<waitress:Negative Confidence:0.99978107213974>\u001b[0m , a polite request that he not be bumped sent the waitress into an abusive rant .\n",
            "Example 290: a brief conversation with the \u001b[31m<manager:Negative Confidence:0.9998224377632141>\u001b[0m at the end of the \u001b[36m<meal:Neutral Confidence:0.999824583530426>\u001b[0m was the greatest disappointment - - to say we had been \" blown off \" would be an understatement .\n",
            "Example 291: the \u001b[31m<manager:Negative Confidence:0.9998724460601807>\u001b[0m continually interrupted with \" is there anything else i can do for you ? \" , a strange comment because she had hardly listened , let alone responded to our expression of disappointment at our experience .\n",
            "Example 292: you are with a hot date and he / she has an \u001b[36m<urge:Neutral Confidence:0.9480354189872742>\u001b[0m for \u001b[36m<sushi:Neutral Confidence:0.8990247249603271>\u001b[0m . . . then this might be the place .\n",
            "Example 293: the \u001b[32m<fish:Positive Confidence:0.6722221970558167>\u001b[0m was fresh , though it was cut very thin .\n",
            "Example 294: great \u001b[32m<service:Positive Confidence:0.9999158382415771>\u001b[0m .\n",
            "Example 295: good \u001b[32m<sake selection:Positive Confidence:0.9999140501022339>\u001b[0m .\n",
            "Example 296: dungeness crabs here !\n",
            "Example 297:   – ray ' s is the place to go \u001b[32m<for high quality seafood:Positive Confidence:0.9999264478683472>\u001b[0m dinners .\n",
            "Example 298: we were only in seattle for one night and i ' m so glad we picked rays for \u001b[36m<dinner:Neutral Confidence:0.8064879775047302>\u001b[0m !\n",
            "Example 299: i love dungeness crabs and at ray ' s you can get \u001b[32m<them served:Positive Confidence:0.9998107552528381>\u001b[0m in about 6 different ways !\n",
            "Example 300: we shared the family platter and i especially enjoyed the \u001b[32m<black cod:Positive Confidence:0.9996466636657715>\u001b[0m in sake kasu .\n",
            "Example 301: i ended the meal with the unusual \u001b[32m<dessert:Positive Confidence:0.9998730421066284>\u001b[0m of a port and chocolate tasting . . . . yummy !\n",
            "Example 302: and the \u001b[32m<service:Positive Confidence:0.9999352693557739>\u001b[0m was simply spendid - quite a delight .\n",
            "Example 303:   – great drinks \u001b[32m<,:Positive Confidence:0.9998564720153809>\u001b[0m corn beef hash , coffee , b fast burritos , gluten free menu .\n",
            "Example 304: the \u001b[32m<service:Positive Confidence:0.9999165534973145>\u001b[0m is fantastic at this fun \u001b[32m<place:Positive Confidence:0.99991774559021>\u001b[0m .\n",
            "Example 305: if there is a line very day of the week for the entire time a \u001b[32m<place:Positive Confidence:0.9990355968475342>\u001b[0m is open , you know it is great .\n",
            "Example 306: best neighborhood \u001b[32m<standby:Positive Confidence:0.9999271631240845>\u001b[0m .\n",
            "Example 307: in grammercy / union square / east village this is my neighbors and my favorite \u001b[32m<spot:Positive Confidence:0.99992835521698>\u001b[0m .\n",
            "Example 308: the \u001b[32m<music:Positive Confidence:0.9998859167098999>\u001b[0m is great , no night better or worse , the bar \u001b[36m<tenders:Neutral Confidence:0.9594184160232544>\u001b[0m are generous with the pouring , and the lighthearted \u001b[32m<atmosphere:Positive Confidence:0.9997672438621521>\u001b[0m will lifts you spirits .\n",
            "Example 309: oh , and the \u001b[32m<cheese fries:Positive Confidence:0.9998868703842163>\u001b[0m are awesome !\n",
            "Example 310: good \u001b[32m<food:Positive Confidence:0.9998703002929688>\u001b[0m , great \u001b[32m<service:Positive Confidence:0.999864935874939>\u001b[0m , average \u001b[36m<prices:Neutral Confidence:0.9708356261253357>\u001b[0m ( for the strip )\n",
            "Example 311:   – i decided to eat at stack because of \u001b[36m<their:Neutral Confidence:0.711646556854248>\u001b[0m price fixed pre - show dinner .\n",
            "Example 312: when i walked in , i was taken aback by their incredible \u001b[32m<wood decor:Positive Confidence:0.9998781681060791>\u001b[0m .\n",
            "Example 313: the \u001b[32m<music:Positive Confidence:0.9994893074035645>\u001b[0m playing was very hip , 20 - 30 something pop music , but the subwoofer to the sound system was located under my seat , which became annoying midway through dinner .\n",
            "Example 314: i got the \u001b[32m<shellfish:Positive Confidence:0.7211264967918396>\u001b[0m and \u001b[36m<shrimp appetizer:Neutral Confidence:0.8421723246574402>\u001b[0m and it was alright .\n",
            "Example 315: it was n ' t the freshest \u001b[31m<seafood:Negative Confidence:0.9527655243873596>\u001b[0m ever , but the \u001b[36m<taste:Neutral Confidence:0.9888764023780823>\u001b[0m and \u001b[36m<presentation:Neutral Confidence:0.9891239404678345>\u001b[0m was ok .\n",
            "Example 316: i picked the \u001b[32m<asparagus:Positive Confidence:0.9998993873596191>\u001b[0m , which turned out to be incredible and perfectly prepared .\n",
            "Example 317: the \u001b[32m<9:Positive Confidence:0.8954646587371826>\u001b[0m oz steak came next and it tasted great , at least initially .\n",
            "Example 318: the \u001b[32m<steak:Positive Confidence:0.9998998641967773>\u001b[0m was done to my exact liking ( medium rare ) and was nice and juicy .\n",
            "Example 319: it ? s served with either a peppercorn \u001b[36m<sauce:Neutral Confidence:0.6830891966819763>\u001b[0m or red \u001b[36m<wine reduction:Neutral Confidence:0.9958056211471558>\u001b[0m , though both were indistinguishable in \u001b[31m<taste:Negative Confidence:0.9711777567863464>\u001b[0m .\n",
            "Example 320: though , one thing i realized later on was that the restaurant either used msg or a \u001b[36m<meat:Neutral Confidence:0.9996040463447571>\u001b[0m tenderizer on the steak .\n",
            "Example 321: the \u001b[32m<desert:Positive Confidence:0.9997946619987488>\u001b[0m was the perfect ending to an almost perfect dinner .\n",
            "Example 322: but the \u001b[32m<servers:Positive Confidence:0.9999233484268188>\u001b[0m were extremely attentive and very friendly .\n",
            "Example 323: overall , i would go back and eat at the \u001b[32m<restaurant:Positive Confidence:0.9999274015426636>\u001b[0m again .\n",
            "Example 324: good \u001b[32m<sake:Positive Confidence:0.9994556307792664>\u001b[0m , good \u001b[32m<food:Positive Confidence:0.9991028308868408>\u001b[0m – i honestly do n ' t know much about japanese food at all .\n",
            "Example 325: server made several \u001b[32m<sake:Positive Confidence:0.9999134540557861>\u001b[0m suggestions which were very good .\n",
            "Example 326: had many dishes but the best was the \u001b[32m<lobster:Positive Confidence:0.9995790123939514>\u001b[0m 3 ways .\n",
            "Example 327: the \u001b[31m<waiter:Negative Confidence:0.9998975992202759>\u001b[0m was a bit unfriendly and the \u001b[31m<feel:Negative Confidence:0.9998737573623657>\u001b[0m of the restaurant was crowded .\n",
            "Example 328: also , there was only one \u001b[36m<bathroom:Neutral Confidence:0.9998078942298889>\u001b[0m stall - probably need more for such big \u001b[31m<crowds:Negative Confidence:0.9998998641967773>\u001b[0m .\n",
            "Example 329: most importantly , we were so excited about the \u001b[32m<food:Positive Confidence:0.9998559951782227>\u001b[0m after seeing the very creative \u001b[32m<menu:Positive Confidence:0.9998342990875244>\u001b[0m .\n",
            "Example 330: at best , the \u001b[31m<food:Negative Confidence:0.6120126247406006>\u001b[0m was good and definately overpriced .\n",
            "Example 331: for the amount of \u001b[36m<food:Neutral Confidence:0.9990719556808472>\u001b[0m we got the \u001b[31m<prices:Negative Confidence:0.9644583463668823>\u001b[0m should have been lower .\n",
            "Example 332: my favortie \u001b[32m<pizza:Positive Confidence:0.9999198913574219>\u001b[0m joint in seattle\n",
            "Example 333:   – this is my \" must bring out of town guests to \" restaurant and they always enjoy and rave about it .\n",
            "Example 334: the \u001b[32m<pizza:Positive Confidence:0.9999053478240967>\u001b[0m is delicious and the \u001b[32m<salads:Positive Confidence:0.9999058246612549>\u001b[0m are fantastic .\n",
            "Example 335: i ' ve always found the \u001b[36m<wait staff:Neutral Confidence:0.9993442893028259>\u001b[0m and , if you sit at the \u001b[36m<bar:Neutral Confidence:0.9979592561721802>\u001b[0m , the cooks very friendly .\n",
            "Example 336: i also really enjoy the simplicity of the \u001b[32m<decor:Positive Confidence:0.9998193383216858>\u001b[0m and intimate feeling of a small restaurant .\n",
            "Example 337:   – my husband and i love eating at \u001b[32m<mioposto caf:Positive Confidence:0.9999305009841919>\u001b[0m é .\n",
            "Example 338: we ’ re ca n ’ t say enough about their delicious \u001b[32m<gourmet pizza ’:Positive Confidence:0.9998968839645386>\u001b[0m s !\n",
            "Example 339: you wo n ’ t be disappointed by their \u001b[32m<menu:Positive Confidence:0.998663067817688>\u001b[0m .\n",
            "Example 340: the \u001b[32m<pizza ’ s:Positive Confidence:0.9658986926078796>\u001b[0m are thin crust and the \u001b[32m<menu:Positive Confidence:0.7857499122619629>\u001b[0m offers very creative combinations and \u001b[32m<toppings:Positive Confidence:0.9999086856842041>\u001b[0m .\n",
            "Example 341: the \u001b[32m<pizza:Positive Confidence:0.9999186992645264>\u001b[0m ’ s are light and scrumptious .\n",
            "Example 342: try the \u001b[32m<pizza:Positive Confidence:0.9998949766159058>\u001b[0m ensalata !\n",
            "Example 343: the \u001b[31m<pizza:Negative Confidence:0.6877033114433289>\u001b[0m ’ s are not huge and the crust is thin … keep that in mind when you ’ re ordering .\n",
            "Example 344: the \u001b[31m<food:Negative Confidence:0.9994968175888062>\u001b[0m is sinful .\n",
            "Example 345: the \u001b[32m<staff:Positive Confidence:0.9999195337295532>\u001b[0m was really friendly .\n",
            "Example 346: the \u001b[32m<atmosphere:Positive Confidence:0.9999229907989502>\u001b[0m was great .\n",
            "Example 347: the specialty here is decadent \u001b[32m<pancakes:Positive Confidence:0.9993953704833984>\u001b[0m , but i ' ve been back now four times , and i ' ve been wowed every time .\n",
            "Example 348: nothing on the \u001b[36m<menu:Neutral Confidence:0.9622998237609863>\u001b[0m is less than amazing .\n",
            "Example 349: go with some friends , wait the half hour or so with a \u001b[36m<cup:Neutral Confidence:0.9998140931129456>\u001b[0m of joe , and enjoy more than your average breakfast .\n",
            "Example 350: good \u001b[32m<eats:Positive Confidence:0.9999121427536011>\u001b[0m .\n",
            "Example 351: i do n ' t know why anyone would want to write a great review about this \u001b[32m<place:Positive Confidence:0.9982481002807617>\u001b[0m .\n",
            "Example 352: i have been to this \u001b[31m<place:Negative Confidence:0.9999041557312012>\u001b[0m , folks and it is bad .\n",
            "Example 353: maybe it is good for that one night once in a blue moon when the chefs decide to use \u001b[32m<fish:Positive Confidence:0.9902951717376709>\u001b[0m that ' s half - way decent .\n",
            "Example 354: i have been here , spent tons of money on a \u001b[36m<chef:Neutral Confidence:0.6372731328010559>\u001b[0m special \u001b[36m<dinner:Neutral Confidence:0.7812231779098511>\u001b[0m and it was a major dissappointment .\n",
            "Example 355: fancy pieces of exotic \u001b[36m<fish:Neutral Confidence:0.9985542893409729>\u001b[0m on a $ 100 dollar \u001b[36m<plate:Neutral Confidence:0.9998817443847656>\u001b[0m and not one was eatable .\n",
            "Example 356:   – the atmosphere is great for any special occasion you might want to celebrate .\n",
            "Example 357: the best \u001b[32m<dish:Positive Confidence:0.9998935461044312>\u001b[0m are the honwy \u001b[32m<walnut prawns:Positive Confidence:0.9999192953109741>\u001b[0m - just outstanding .\n",
            "Example 358: the \u001b[32m<service:Positive Confidence:0.9999350309371948>\u001b[0m is really attentive and charming .\n",
            "Example 359: the \u001b[32m<service:Positive Confidence:0.9999186992645264>\u001b[0m was excellent , the \u001b[32m<coffee:Positive Confidence:0.999910831451416>\u001b[0m was good even by starbucks standards and the \u001b[32m<food:Positive Confidence:0.9999195337295532>\u001b[0m was outstanding .\n",
            "Example 360:   – i recently had the pleasure of dining as this \u001b[32m<delightful:Positive Confidence:0.9998013377189636>\u001b[0m restaurant on 2nd street and wow what a great evening we had .\n",
            "Example 361: the \u001b[32m<food:Positive Confidence:0.9999243021011353>\u001b[0m is fantastic , authentic , delicious and very , very affordable .\n",
            "Example 362: the \u001b[32m<decor:Positive Confidence:0.9999243021011353>\u001b[0m was beautiful and unique .\n",
            "Example 363: there was a really nice vibe about the \u001b[32m<place:Positive Confidence:0.9998927116394043>\u001b[0m . . . good \u001b[32m<music:Positive Confidence:0.999923586845398>\u001b[0m , \u001b[32m<atmosphere:Positive Confidence:0.999930739402771>\u001b[0m and happy \u001b[32m<looking people:Positive Confidence:0.9999366998672485>\u001b[0m .\n",
            "Example 364: our \u001b[32m<server:Positive Confidence:0.9999258518218994>\u001b[0m was very professional and friendly .\n",
            "Example 365: to the \u001b[32m<owners:Positive Confidence:0.9998979568481445>\u001b[0m of \u001b[32m<open sesame:Positive Confidence:0.9998917579650879>\u001b[0m . . . bravo . . . i ca n ' t wait to come back to dine at your restaurant !\n",
            "Example 366: it ' s a tiny \u001b[31m<place:Negative Confidence:0.9979046583175659>\u001b[0m so if you get there before 8 pm on a weekend ( thurs ? sun ) you will find it easier to get a \u001b[36m<table:Neutral Confidence:0.987418532371521>\u001b[0m or a \u001b[36m<seat:Neutral Confidence:0.9946742057800293>\u001b[0m at the \u001b[36m<sushi bar:Neutral Confidence:0.9989032745361328>\u001b[0m .\n",
            "Example 367: everything , and i mean everything on the \u001b[36m<menu:Neutral Confidence:0.9911296367645264>\u001b[0m is delectable .\n",
            "Example 368: the waiters are very experienced and helpful with pairing your \u001b[36m<drink:Neutral Confidence:0.9994545578956604>\u001b[0m choice to your food tastes or vice versa .\n",
            "Example 369: the \u001b[32m<sushi:Positive Confidence:0.999893307685852>\u001b[0m is as fresh as it comes ? you ' d think ocean was in their backyard , no joke !\n",
            "Example 370: if you ' re interested in good tasting ( without the \u001b[31m<fish:Negative Confidence:0.8090602159500122>\u001b[0m taste or smell ) , large portions and creative \u001b[32m<sushi dishes:Positive Confidence:0.9997666478157043>\u001b[0m this is your place . . .\n",
            "Example 371: big thick pepperoni\n",
            "Example 372:   – \u001b[32m<the:Positive Confidence:0.9987301230430603>\u001b[0m pepperoni ' s cut real thick - - yum .\n",
            "Example 373: the \u001b[32m<pizza:Positive Confidence:0.5899572372436523>\u001b[0m itself is not exactly the best i ' ve had ever , but still pretty good .\n",
            "Example 374: sit in the balcony\n",
            "Example 375: food was good and appetizing .\n",
            "Example 376: portions was just enough for me , but may not be for a big \u001b[36m<eater:Neutral Confidence:0.9998325109481812>\u001b[0m .\n",
            "Example 377: fair \u001b[36m<menu selection:Neutral Confidence:0.7895711660385132>\u001b[0m .\n",
            "Example 378: the \u001b[32m<appetizer:Positive Confidence:0.7338801026344299>\u001b[0m was interesting , but the \u001b[32m<creme brulee:Positive Confidence:0.9999068975448608>\u001b[0m was very savory and delicious .\n",
            "Example 379: indoor ambience was \u001b[32m<modern:Positive Confidence:0.9668298363685608>\u001b[0m .\n",
            "Example 380: if it ' s nice \u001b[32m<outside:Positive Confidence:0.9990425705909729>\u001b[0m , request for a \u001b[32m<table:Positive Confidence:0.588903546333313>\u001b[0m in the balcony .\n",
            "Example 381: it ' s a great \u001b[32m<place:Positive Confidence:0.9997937083244324>\u001b[0m to people watch .\n",
            "Example 382: although the \u001b[31m<service:Negative Confidence:0.9996614456176758>\u001b[0m could be improved considering the \u001b[36m<money:Neutral Confidence:0.9115462303161621>\u001b[0m you put in .\n",
            "Example 383: our drinks kept coming but our \u001b[31m<server:Negative Confidence:0.9998842477798462>\u001b[0m came by a couple times .\n",
            "Example 384: late night dinning with exeptional \u001b[32m<food:Positive Confidence:0.9998934268951416>\u001b[0m .\n",
            "Example 385: we were seated right away , the \u001b[32m<table:Positive Confidence:0.9999024868011475>\u001b[0m was private and nice .\n",
            "Example 386: the \u001b[32m<service:Positive Confidence:0.9998881816864014>\u001b[0m was exceptional - sometime there was a feeling that we were served by the army of friendly \u001b[32m<waiters:Positive Confidence:0.9998751878738403>\u001b[0m .\n",
            "Example 387: the \u001b[32m<food:Positive Confidence:0.9998966455459595>\u001b[0m was very good , \u001b[32m<filet mignon:Positive Confidence:0.9998754262924194>\u001b[0m was probably the best i ' ve ever try .\n",
            "Example 388: the \u001b[32m<portions:Positive Confidence:0.9996731281280518>\u001b[0m are big though , so do not order too much .\n",
            "Example 389: groovy \u001b[32m<music:Positive Confidence:0.999846339225769>\u001b[0m made the dinner casual .\n",
            "Example 390: i have a but here - there was a \u001b[31m<bathroom:Negative Confidence:0.9971933960914612>\u001b[0m attendant in the restroom which was odd .\n",
            "Example 391: the \u001b[31m<bathroom:Negative Confidence:0.9998384714126587>\u001b[0m itself is very small with two toilets and only one sink , the \u001b[31m<girl:Negative Confidence:0.9998286962509155>\u001b[0m was staying totally on the way hanging out paper towels from the dispenser .\n",
            "Example 392: this \u001b[32m<place:Positive Confidence:0.9999157190322876>\u001b[0m rocks ! !\n",
            "Example 393:   – mercedes restaurant is so tasty \u001b[32m<, the:Positive Confidence:0.9999250173568726>\u001b[0m service is undeniably awesome !\n",
            "Example 394: the \u001b[32m<chips and salsa:Positive Confidence:0.9998914003372192>\u001b[0m are so yummy , and the \u001b[32m<prices:Positive Confidence:0.9999042749404907>\u001b[0m are fabulous .\n",
            "Example 395: the \u001b[32m<atmosphere:Positive Confidence:0.9999381303787231>\u001b[0m is aspiring , and \u001b[32m<the decor:Positive Confidence:0.9999295473098755>\u001b[0m is festive and amazing . .\n",
            "Example 396: the \u001b[32m<catering:Positive Confidence:0.9999192953109741>\u001b[0m is out of this world , and \u001b[32m<raouls chicken vegetable soup:Positive Confidence:0.9998892545700073>\u001b[0m rocks my world ! ! !\n",
            "Example 397: drinks are suberb , and i feel like i am in a third world country when i walk in the door .\n",
            "Example 398: - mediocre \u001b[31m<service:Negative Confidence:0.9995028972625732>\u001b[0m / quality\n",
            "Example 399: the presentation of snooze is excellent and it is one of those places that you feel more sophisticated just for being there ; but peel back the layers and you have an overpriced ihop with a high brow \u001b[31m<menu:Negative Confidence:0.9996019005775452>\u001b[0m .\n",
            "Example 400: to start off , approximately 8 - 10 oz of \u001b[36m<orange juice:Neutral Confidence:0.9894021153450012>\u001b[0m will cost you $ 3 .\n",
            "Example 401: they serve it in a tall , skinny hour - glass shaped glass to disguise the fact that you a getting a small \u001b[31m<juice:Negative Confidence:0.9997914433479309>\u001b[0m at the \u001b[31m<price:Negative Confidence:0.856719970703125>\u001b[0m of a half gallon in a supermarket .\n",
            "Example 402: i should have just asked for the \u001b[36m<check:Neutral Confidence:0.9998682737350464>\u001b[0m when i saw that ; but their \u001b[32m<menu:Positive Confidence:0.999826967716217>\u001b[0m was so unique that i continued .\n",
            "Example 403: the pancakes were certainly inventive but $ 8 . 50 for 3 - 6 \" pancakes ( one of them was more like 5 \" ) in the pancake flight ( sample of 3 different pancakes ) is well \u001b[31m<over:Negative Confidence:0.9948864579200745>\u001b[0m - priced .\n",
            "Example 404: the pancakes should be larger ( at least 8 \" ) to justify the expense even with the unique offerings .\n",
            "Example 405: on my \u001b[36m<meal:Neutral Confidence:0.9996770620346069>\u001b[0m i had to send back my \u001b[36m<eggs:Neutral Confidence:0.9997126460075378>\u001b[0m for a simple request of breaking the yokes before cooking , and would have had to send them back again if i had n ' t rejected the meal all together .\n",
            "Example 406: i rejected it because in the process of attempting to fix the \u001b[36m<eggs:Neutral Confidence:0.9600666165351868>\u001b[0m they broke something else in the \u001b[36m<dish:Neutral Confidence:0.9998087286949158>\u001b[0m and i was too frustrated to continue .\n",
            "Example 407: to their credit they removed the \u001b[36m<dish:Neutral Confidence:0.999805748462677>\u001b[0m from the check ; but no \u001b[31m<manager:Negative Confidence:0.9998328685760498>\u001b[0m stopped by to ask what the problem was .\n",
            "Example 408: in the end our check came to $ 27 for 4 small \u001b[31m<pancakes:Negative Confidence:0.9997941851615906>\u001b[0m , a \u001b[36m<breakfast burrito:Neutral Confidence:0.9994320273399353>\u001b[0m , an \u001b[36m<orange juice:Neutral Confidence:0.9997512698173523>\u001b[0m and an \u001b[36m<iced tea:Neutral Confidence:0.9998109936714172>\u001b[0m ( i had \u001b[36m<water:Neutral Confidence:0.9998486042022705>\u001b[0m ) .\n",
            "Example 409: much more than just a great \u001b[32m<view:Positive Confidence:0.9999176263809204>\u001b[0m !\n",
            "Example 410:   – i am exceedingly pleased to report that my dinner \u001b[32m<at:Positive Confidence:0.9993833303451538>\u001b[0m ray ' s boathouse last friday completely exceeded my expectations .\n",
            "Example 411: ray ' s is something of a seattle institution , but given its gorgeous \u001b[32m<sound views:Positive Confidence:0.9989991784095764>\u001b[0m , i had suspected that the accolades were more due to the scenery than to the \u001b[31m<food:Negative Confidence:0.9991464614868164>\u001b[0m and \u001b[31m<service:Negative Confidence:0.9989994168281555>\u001b[0m .\n",
            "Example 412: imagine my happy surprise upon finding that the \u001b[32m<views:Positive Confidence:0.9998570680618286>\u001b[0m are only the third - best thing about ray ' s !\n",
            "Example 413: to start things off , our lovely \u001b[32m<server:Positive Confidence:0.9998737573623657>\u001b[0m brooke was quickly on hand to take my drink order .\n",
            "Example 414: my party of two was feeling particularly ambitious , and we splurged on the shilshole sampler . . . a beautiful assortment of enormous white gulf \u001b[32m<prawns ,:Positive Confidence:0.9974251985549927>\u001b[0m smoked albacore tuna , ray ' s fantastic manila clams \u001b[32m<seasoned with:Positive Confidence:0.9616233706474304>\u001b[0m dill , scallops in a tasty soy dressing , and a tiny pile of dungeness crab atop a sublime butter sauce .\n",
            "Example 415: for my entr & eacute ; e , i completely enjoyed the \u001b[32m<seared alaskan sea scallops:Positive Confidence:0.9961734414100647>\u001b[0m complemented by \u001b[36m<chard:Neutral Confidence:0.9689822196960449>\u001b[0m , \u001b[36m<artichoke hearts:Neutral Confidence:0.9922425746917725>\u001b[0m , fennel , and pecorino toscano .\n",
            "Example 416: the scallops are apparently cooked in a black olive butter which really makes them unique ( not to mention tasty ) .\n",
            "Example 417: my friend enjoyed the grilled alaskan king salmon with delectable creamed washington russet potatoes and crisp green beans .\n",
            "Example 418: i had a taste of all three items on her plate , and they were superb .\n",
            "Example 419: our \u001b[32m<server:Positive Confidence:0.9998528957366943>\u001b[0m continued to be attentive throughout the night , but i did remain puzzled by one issue : who thinks that ray ' s is an appropriate place to take young children for dinner ?\n",
            "Example 420: all considered , i have to say that \u001b[32m<ray:Positive Confidence:0.9980034232139587>\u001b[0m ' s boathouse is deserving of its title as a seattle institution .\n",
            "Example 421: while i could have done without the youth who shared the evening with us , our wonderful \u001b[32m<server:Positive Confidence:0.9998645782470703>\u001b[0m and \u001b[32m<food:Positive Confidence:0.9998887777328491>\u001b[0m made the experience a very positive one .\n"
          ]
        },
        {
          "output_type": "stream",
          "name": "stderr",
          "text": [
            "\n"
          ]
        }
      ]
    },
    {
      "cell_type": "markdown",
      "source": [
        "# Train a model (FAST_LCF_ATEPC) for Aspect-based sentiment classification \n",
        "## We dont run a training on Colab as it is too slow"
      ],
      "metadata": {
        "id": "92HnK48gVAUA"
      }
    },
    {
      "cell_type": "code",
      "source": [
        "import os\n",
        "\n",
        "import findfile\n",
        "\n",
        "from pyabsa.framework import ATEPCModelList\n",
        "from pyabsa.framework import Trainer, ATEPCTrainer\n",
        "from pyabsa.framework import ABSADatasetList\n",
        "from pyabsa.framework import ATEPCConfigManager\n",
        "from pyabsa.framework.dataset import DatasetItem\n",
        "\n",
        "atepc_config = ATEPCConfigManager.get_atepc_config_english()\n",
        "\n",
        "atepc_config.pretrained_bert = 'yangheng/deberta-v3-base-absa-v1.1'\n",
        "atepc_config.model = ATEPCModelList.FAST_LCF_ATEPC\n",
        "dataset_path = ABSADatasetList.Restaurant14\n",
        "# or your local dataset: dataset_path = 'your local dataset path'\n",
        "\n",
        "aspect_extractor = ATEPCTrainer(config=atepc_config,\n",
        "                  dataset=dataset_path,\n",
        "                  from_checkpoint='',  # set checkpoint to train on the checkpoint.\n",
        "                  checkpoint_save_mode=1,\n",
        "                  auto_device=True\n",
        "                  ).load_trained_model()\n"
      ],
      "metadata": {
        "id": "ARQlooDZVrtV",
        "colab": {
          "base_uri": "https://localhost:8080/",
          "height": 1000,
          "referenced_widgets": [
            "0ef3087a928d43bdb1ef694472251f3c",
            "f9913225fc4241f1afb2de1571bd6a7d",
            "27e99b479c8745ada5d793808502f529",
            "d9dd1a3e7f6547858ca958106a10405f",
            "b68c7c88436645299add72007f023911",
            "f42640257b6146f7b192ab39ace60498",
            "cf0ebbe4ccaa49be8cd9517fd85ceb16",
            "1840679f58f3418c8d1dfa3e83900748",
            "ece86643e2af47349b98b63b664427d6",
            "2e302bb65f844238ac564527d66c9c3e",
            "eeda166df96143e3a82451aafbfc08d6",
            "6021361a5c8e4d3eb02cbdf882922549",
            "81b4f70e86584cf19fdf96580e29f400",
            "cf44bd1957174a079540408b22267036",
            "36a85b06b31e415bb563d5a487f510b9",
            "5fed40f8546c40418669e76a4ec4589b",
            "3aa60576e76e42c9b96f58664e5f122a",
            "7f8eec66938b42dc81eb7162ec940569",
            "6aac6a4651034b67afa81f85517266f5",
            "f3fbd6e7a83e4797b6093d49dcd67a35",
            "49ce1ce8d04a473391986c88bef8351e",
            "08f5498687b4432799224f0905fa06fe",
            "38c070027cc94165ae138ea82d7fe298",
            "693ab4dfbe3d4099a9f20c20461bf99e",
            "96dfdeb7688c4653a0f04f3c005e6b5c",
            "4f0c7ae4f8024c5a9249a45cd8e69fa9",
            "dd3aa98786114a10b617bf4d04eafb58",
            "b047aadb7b7640ad86fcedfb801b7908",
            "4defbf4e2a304e89a15285a799d64c49",
            "1be5f1ac0db14510b27b4457c110fc5e",
            "e8c96f8f06f4485587cd58a3d643a502",
            "200d5f61c4794c9fa44fd9d78e208540",
            "99ec6c69b82343889e01676ceb21fea7",
            "6258877a7a46416f8e637127ab343b11",
            "01def9c7aff94cce92c87ee5bb9cb791",
            "90eefa38ab9c439abfee7ddd2f2a2d43",
            "54c4d9da5e454001a06ac2888a36756e",
            "70984c53d40a4b128e6ad3d6dca21632",
            "e9d52e3c9e4f4526bc92057b96ee3396",
            "100c8b051fb74a2cbe842af91adbaf85",
            "1bf9236ecd9442ef87e797659432c94a",
            "c1bc42da4f6b422a99e6e4bbf5d9357d",
            "c3d83eec28d14ac8aabc46f6f717b920",
            "13b1ee15c10a4d0ab7f76d630b7b63e0"
          ]
        },
        "outputId": "c9a960e8-431e-4494-b201-e273eee0645c"
      },
      "execution_count": null,
      "outputs": [
        {
          "output_type": "display_data",
          "data": {
            "text/plain": [
              "Downloading config.json:   0%|          | 0.00/579 [00:00<?, ?B/s]"
            ],
            "application/vnd.jupyter.widget-view+json": {
              "version_major": 2,
              "version_minor": 0,
              "model_id": "0ef3087a928d43bdb1ef694472251f3c"
            }
          },
          "metadata": {}
        },
        {
          "output_type": "stream",
          "name": "stdout",
          "text": [
            "Remote ABSADataset version: 2022.07.22 Local ABSADatasets version: 2022.07.22\n",
            "Dataset is not a path, treat dataset as keywords to Load 114.Restaurant14 from: 114.Restaurant14 or Search https://github.com/yangheng95/ABSADatasets locally using findfile\n",
            "\u001b[32mYou can set load_aug=True in a trainer to augment your dataset (English only yet) and improve performance.\u001b[0m\n",
            "\u001b[32mPlease use a new folder to perform new text augmentation if the former augmentation exited unexpectedly\u001b[0m\n"
          ]
        },
        {
          "output_type": "display_data",
          "data": {
            "text/plain": [
              "Downloading tokenizer_config.json:   0%|          | 0.00/52.0 [00:00<?, ?B/s]"
            ],
            "application/vnd.jupyter.widget-view+json": {
              "version_major": 2,
              "version_minor": 0,
              "model_id": "6021361a5c8e4d3eb02cbdf882922549"
            }
          },
          "metadata": {}
        },
        {
          "output_type": "display_data",
          "data": {
            "text/plain": [
              "Downloading spm.model:   0%|          | 0.00/2.35M [00:00<?, ?B/s]"
            ],
            "application/vnd.jupyter.widget-view+json": {
              "version_major": 2,
              "version_minor": 0,
              "model_id": "38c070027cc94165ae138ea82d7fe298"
            }
          },
          "metadata": {}
        },
        {
          "output_type": "stream",
          "name": "stderr",
          "text": [
            "Special tokens have been added in the vocabulary, make sure the associated word embeddings are fine-tuned or trained.\n",
            "Special tokens have been added in the vocabulary, make sure the associated word embeddings are fine-tuned or trained.\n"
          ]
        },
        {
          "output_type": "display_data",
          "data": {
            "text/plain": [
              "Downloading pytorch_model.bin:   0%|          | 0.00/354M [00:00<?, ?B/s]"
            ],
            "application/vnd.jupyter.widget-view+json": {
              "version_major": 2,
              "version_minor": 0,
              "model_id": "6258877a7a46416f8e637127ab343b11"
            }
          },
          "metadata": {}
        },
        {
          "output_type": "stream",
          "name": "stderr",
          "text": [
            "Some weights of the model checkpoint at yangheng/deberta-v3-base-absa-v1.1 were not used when initializing DebertaV2Model: ['mask_predictions.classifier.weight', 'mask_predictions.LayerNorm.bias', 'mask_predictions.classifier.bias', 'lm_predictions.lm_head.LayerNorm.weight', 'lm_predictions.lm_head.dense.weight', 'lm_predictions.lm_head.bias', 'lm_predictions.lm_head.LayerNorm.bias', 'mask_predictions.dense.bias', 'lm_predictions.lm_head.dense.bias', 'mask_predictions.dense.weight', 'mask_predictions.LayerNorm.weight']\n",
            "- This IS expected if you are initializing DebertaV2Model from the checkpoint of a model trained on another task or with another architecture (e.g. initializing a BertForSequenceClassification model from a BertForPreTraining model).\n",
            "- This IS NOT expected if you are initializing DebertaV2Model from the checkpoint of a model that you expect to be exactly identical (initializing a BertForSequenceClassification model from a BertForSequenceClassification model).\n",
            " 18%|█▊        | 653/3608 [00:02<00:08, 353.69it/s, convert examples to features]"
          ]
        },
        {
          "output_type": "stream",
          "name": "stdout",
          "text": [
            "\u001b[33mAspectTooLongWarning -> <aspect: fried mini buns with the condensed milk and the assorted fruits on beancurd> is too long, <text: The waitress remembers me and is very friendly , she knows what my regular is and that ' s the fried mini buns with the condensed milk and the assorted fruits on beancurd .>, <polarity: Positive>\u001b[0m\n"
          ]
        },
        {
          "output_type": "stream",
          "name": "stderr",
          "text": [
            " 49%|████▊     | 1758/3608 [00:05<00:05, 347.88it/s, convert examples to features]"
          ]
        },
        {
          "output_type": "stream",
          "name": "stdout",
          "text": [
            "\u001b[33mAspectTooLongWarning -> <aspect: salad with perfectly marinated cucumbers and tomatoes with lots of shrimp and basil> is too long, <text: I ate clams oreganta and spectacular salad with perfectly marinated cucumbers and tomatoes with lots of shrimp and basil .>, <polarity: Positive>\u001b[0m\n"
          ]
        },
        {
          "output_type": "stream",
          "name": "stderr",
          "text": [
            " 58%|█████▊    | 2103/3608 [00:06<00:04, 351.36it/s, convert examples to features]"
          ]
        },
        {
          "output_type": "stream",
          "name": "stdout",
          "text": [
            "\u001b[33mAspectTooLongWarning -> <aspect: Godmother pizza ( a sort of traditional flat pizza with an olive oil - brushed crust and less tomato sauce than usual )> is too long, <text: But they ' ve done a really nice job of offering all the typical pizzeria faves plus some terrific specials like the Godmother pizza ( a sort of traditional flat pizza with an olive oil - brushed crust and less tomato sauce than usual ) .>, <polarity: Positive>\u001b[0m\n"
          ]
        },
        {
          "output_type": "stream",
          "name": "stderr",
          "text": [
            " 93%|█████████▎| 3346/3608 [00:10<00:00, 332.57it/s, convert examples to features]"
          ]
        },
        {
          "output_type": "stream",
          "name": "stdout",
          "text": [
            "\u001b[33mAspectTooLongWarning -> <aspect: egg noodles in the beef broth with shrimp dumplings and slices of BBQ roast pork> is too long, <text: I fell in love with the egg noodles in the beef broth with shrimp dumplings and slices of BBQ roast pork .>, <polarity: Positive>\u001b[0m\n"
          ]
        },
        {
          "output_type": "stream",
          "name": "stderr",
          "text": [
            "100%|██████████| 3608/3608 [00:11<00:00, 305.86it/s, convert examples to features]\n"
          ]
        },
        {
          "output_type": "stream",
          "name": "stdout",
          "text": [
            "Dataset Label Details: {'Negative': 807, 'Neutral': 637, 'Positive': 2160, 'Sum': 3604}\n"
          ]
        },
        {
          "output_type": "stream",
          "name": "stderr",
          "text": [
            " 59%|█████▊    | 657/1120 [00:01<00:01, 338.21it/s, convert examples to features]"
          ]
        },
        {
          "output_type": "stream",
          "name": "stdout",
          "text": [
            "\u001b[33mAspectTooLongWarning -> <aspect: Mediterranean salads - - layered with beets , goat cheese and walnuts> is too long, <text: Generously garnished , organic grilled burgers are the most popular dish , but the Jerusalem market - style falafel wraps and Mediterranean salads - - layered with beets , goat cheese and walnuts - - are equally scrumptious .>, <polarity: Positive>\u001b[0m\n"
          ]
        },
        {
          "output_type": "stream",
          "name": "stderr",
          "text": [
            "100%|██████████| 1120/1120 [00:03<00:00, 331.51it/s, convert examples to features]\n"
          ]
        },
        {
          "output_type": "stream",
          "name": "stdout",
          "text": [
            "\u001b[33mAspectTooLongWarning -> <aspect: Greek yogurt ( with cuccumber , dill , and garlic )> is too long, <text: Creamy appetizers - - taramasalata , eggplant salad , and Greek yogurt ( with cuccumber , dill , and garlic ) taste excellent when on warm pitas .>, <polarity: Positive>\u001b[0m\n",
            "Dataset Label Details: {'Negative': 196, 'Neutral': 196, 'Positive': 726, 'Sum': 1118}\n",
            "\u001b[31mCaching dataset... please remove cached dataset if any problem happens.\u001b[0m\n",
            "2022-09-10 15:51:12,426 INFO: cuda memory allocated:1906149376\n"
          ]
        },
        {
          "output_type": "stream",
          "name": "stderr",
          "text": [
            "INFO:fast_lcf_atepc:cuda memory allocated:1906149376\n"
          ]
        },
        {
          "output_type": "stream",
          "name": "stdout",
          "text": [
            "2022-09-10 15:51:12,431 INFO: ABSADatasetsVersion:2022.07.22\t-->\tCalling Count:0\n"
          ]
        },
        {
          "output_type": "stream",
          "name": "stderr",
          "text": [
            "INFO:fast_lcf_atepc:ABSADatasetsVersion:2022.07.22\t-->\tCalling Count:0\n"
          ]
        },
        {
          "output_type": "stream",
          "name": "stdout",
          "text": [
            "2022-09-10 15:51:12,438 INFO: IOB_label_to_index:{'B-ASP': 1, 'I-ASP': 2, 'O': 3, '[CLS]': 4, '[SEP]': 5}\t-->\tCalling Count:1\n"
          ]
        },
        {
          "output_type": "stream",
          "name": "stderr",
          "text": [
            "INFO:fast_lcf_atepc:IOB_label_to_index:{'B-ASP': 1, 'I-ASP': 2, 'O': 3, '[CLS]': 4, '[SEP]': 5}\t-->\tCalling Count:1\n"
          ]
        },
        {
          "output_type": "stream",
          "name": "stdout",
          "text": [
            "2022-09-10 15:51:12,443 INFO: MV:<metric_visualizer.metric_visualizer.MetricVisualizer object at 0x7f1729fc88d0>\t-->\tCalling Count:0\n"
          ]
        },
        {
          "output_type": "stream",
          "name": "stderr",
          "text": [
            "INFO:fast_lcf_atepc:MV:<metric_visualizer.metric_visualizer.MetricVisualizer object at 0x7f1729fc88d0>\t-->\tCalling Count:0\n"
          ]
        },
        {
          "output_type": "stream",
          "name": "stdout",
          "text": [
            "2022-09-10 15:51:12,445 INFO: PyABSAVersion:1.16.16\t-->\tCalling Count:0\n"
          ]
        },
        {
          "output_type": "stream",
          "name": "stderr",
          "text": [
            "INFO:fast_lcf_atepc:PyABSAVersion:1.16.16\t-->\tCalling Count:0\n"
          ]
        },
        {
          "output_type": "stream",
          "name": "stdout",
          "text": [
            "2022-09-10 15:51:12,448 INFO: SRD:3\t-->\tCalling Count:9444\n"
          ]
        },
        {
          "output_type": "stream",
          "name": "stderr",
          "text": [
            "INFO:fast_lcf_atepc:SRD:3\t-->\tCalling Count:9444\n"
          ]
        },
        {
          "output_type": "stream",
          "name": "stdout",
          "text": [
            "2022-09-10 15:51:12,450 INFO: TorchVersion:1.12.1+cu113+cuda11.3\t-->\tCalling Count:0\n"
          ]
        },
        {
          "output_type": "stream",
          "name": "stderr",
          "text": [
            "INFO:fast_lcf_atepc:TorchVersion:1.12.1+cu113+cuda11.3\t-->\tCalling Count:0\n"
          ]
        },
        {
          "output_type": "stream",
          "name": "stdout",
          "text": [
            "2022-09-10 15:51:12,452 INFO: TransformersVersion:4.21.3\t-->\tCalling Count:0\n"
          ]
        },
        {
          "output_type": "stream",
          "name": "stderr",
          "text": [
            "INFO:fast_lcf_atepc:TransformersVersion:4.21.3\t-->\tCalling Count:0\n"
          ]
        },
        {
          "output_type": "stream",
          "name": "stdout",
          "text": [
            "2022-09-10 15:51:12,455 INFO: auto_device:True\t-->\tCalling Count:1\n"
          ]
        },
        {
          "output_type": "stream",
          "name": "stderr",
          "text": [
            "INFO:fast_lcf_atepc:auto_device:True\t-->\tCalling Count:1\n"
          ]
        },
        {
          "output_type": "stream",
          "name": "stdout",
          "text": [
            "2022-09-10 15:51:12,457 INFO: batch_size:16\t-->\tCalling Count:4\n"
          ]
        },
        {
          "output_type": "stream",
          "name": "stderr",
          "text": [
            "INFO:fast_lcf_atepc:batch_size:16\t-->\tCalling Count:4\n"
          ]
        },
        {
          "output_type": "stream",
          "name": "stdout",
          "text": [
            "2022-09-10 15:51:12,460 INFO: cache_dataset:True\t-->\tCalling Count:1\n"
          ]
        },
        {
          "output_type": "stream",
          "name": "stderr",
          "text": [
            "INFO:fast_lcf_atepc:cache_dataset:True\t-->\tCalling Count:1\n"
          ]
        },
        {
          "output_type": "stream",
          "name": "stdout",
          "text": [
            "2022-09-10 15:51:12,463 INFO: dataset_file:{'train': ['integrated_datasets/atepc_datasets/110.SemEval/114.restaurant14/Restaurants_Train.xml.seg.atepc'], 'test': ['integrated_datasets/atepc_datasets/110.SemEval/114.restaurant14/Restaurants_Test_Gold.xml.seg.atepc'], 'valid': []}\t-->\tCalling Count:6\n"
          ]
        },
        {
          "output_type": "stream",
          "name": "stderr",
          "text": [
            "INFO:fast_lcf_atepc:dataset_file:{'train': ['integrated_datasets/atepc_datasets/110.SemEval/114.restaurant14/Restaurants_Train.xml.seg.atepc'], 'test': ['integrated_datasets/atepc_datasets/110.SemEval/114.restaurant14/Restaurants_Test_Gold.xml.seg.atepc'], 'valid': []}\t-->\tCalling Count:6\n"
          ]
        },
        {
          "output_type": "stream",
          "name": "stdout",
          "text": [
            "2022-09-10 15:51:12,466 INFO: dataset_name:Restaurant14\t-->\tCalling Count:3\n"
          ]
        },
        {
          "output_type": "stream",
          "name": "stderr",
          "text": [
            "INFO:fast_lcf_atepc:dataset_name:Restaurant14\t-->\tCalling Count:3\n"
          ]
        },
        {
          "output_type": "stream",
          "name": "stdout",
          "text": [
            "2022-09-10 15:51:12,469 INFO: device:cuda:0\t-->\tCalling Count:5\n"
          ]
        },
        {
          "output_type": "stream",
          "name": "stderr",
          "text": [
            "INFO:fast_lcf_atepc:device:cuda:0\t-->\tCalling Count:5\n"
          ]
        },
        {
          "output_type": "stream",
          "name": "stdout",
          "text": [
            "2022-09-10 15:51:12,471 INFO: device_name:Tesla T4\t-->\tCalling Count:0\n"
          ]
        },
        {
          "output_type": "stream",
          "name": "stderr",
          "text": [
            "INFO:fast_lcf_atepc:device_name:Tesla T4\t-->\tCalling Count:0\n"
          ]
        },
        {
          "output_type": "stream",
          "name": "stdout",
          "text": [
            "2022-09-10 15:51:12,474 INFO: dropout:0.5\t-->\tCalling Count:1\n"
          ]
        },
        {
          "output_type": "stream",
          "name": "stderr",
          "text": [
            "INFO:fast_lcf_atepc:dropout:0.5\t-->\tCalling Count:1\n"
          ]
        },
        {
          "output_type": "stream",
          "name": "stdout",
          "text": [
            "2022-09-10 15:51:12,477 INFO: dynamic_truncate:True\t-->\tCalling Count:9444\n"
          ]
        },
        {
          "output_type": "stream",
          "name": "stderr",
          "text": [
            "INFO:fast_lcf_atepc:dynamic_truncate:True\t-->\tCalling Count:9444\n"
          ]
        },
        {
          "output_type": "stream",
          "name": "stdout",
          "text": [
            "2022-09-10 15:51:12,480 INFO: embed_dim:768\t-->\tCalling Count:0\n"
          ]
        },
        {
          "output_type": "stream",
          "name": "stderr",
          "text": [
            "INFO:fast_lcf_atepc:embed_dim:768\t-->\tCalling Count:0\n"
          ]
        },
        {
          "output_type": "stream",
          "name": "stdout",
          "text": [
            "2022-09-10 15:51:12,485 INFO: evaluate_begin:0\t-->\tCalling Count:0\n"
          ]
        },
        {
          "output_type": "stream",
          "name": "stderr",
          "text": [
            "INFO:fast_lcf_atepc:evaluate_begin:0\t-->\tCalling Count:0\n"
          ]
        },
        {
          "output_type": "stream",
          "name": "stdout",
          "text": [
            "2022-09-10 15:51:12,488 INFO: gradient_accumulation_steps:1\t-->\tCalling Count:3\n"
          ]
        },
        {
          "output_type": "stream",
          "name": "stderr",
          "text": [
            "INFO:fast_lcf_atepc:gradient_accumulation_steps:1\t-->\tCalling Count:3\n"
          ]
        },
        {
          "output_type": "stream",
          "name": "stdout",
          "text": [
            "2022-09-10 15:51:12,491 INFO: hidden_dim:768\t-->\tCalling Count:6\n"
          ]
        },
        {
          "output_type": "stream",
          "name": "stderr",
          "text": [
            "INFO:fast_lcf_atepc:hidden_dim:768\t-->\tCalling Count:6\n"
          ]
        },
        {
          "output_type": "stream",
          "name": "stdout",
          "text": [
            "2022-09-10 15:51:12,493 INFO: index_to_IOB_label:{1: 'B-ASP', 2: 'I-ASP', 3: 'O', 4: '[CLS]', 5: '[SEP]'}\t-->\tCalling Count:0\n"
          ]
        },
        {
          "output_type": "stream",
          "name": "stderr",
          "text": [
            "INFO:fast_lcf_atepc:index_to_IOB_label:{1: 'B-ASP', 2: 'I-ASP', 3: 'O', 4: '[CLS]', 5: '[SEP]'}\t-->\tCalling Count:0\n"
          ]
        },
        {
          "output_type": "stream",
          "name": "stdout",
          "text": [
            "2022-09-10 15:51:12,496 INFO: index_to_label:{0: 'Negative', 1: 'Neutral', 2: 'Positive'}\t-->\tCalling Count:2\n"
          ]
        },
        {
          "output_type": "stream",
          "name": "stderr",
          "text": [
            "INFO:fast_lcf_atepc:index_to_label:{0: 'Negative', 1: 'Neutral', 2: 'Positive'}\t-->\tCalling Count:2\n"
          ]
        },
        {
          "output_type": "stream",
          "name": "stdout",
          "text": [
            "2022-09-10 15:51:12,499 INFO: initializer:xavier_uniform_\t-->\tCalling Count:0\n"
          ]
        },
        {
          "output_type": "stream",
          "name": "stderr",
          "text": [
            "INFO:fast_lcf_atepc:initializer:xavier_uniform_\t-->\tCalling Count:0\n"
          ]
        },
        {
          "output_type": "stream",
          "name": "stdout",
          "text": [
            "2022-09-10 15:51:12,502 INFO: l2reg:1e-05\t-->\tCalling Count:2\n"
          ]
        },
        {
          "output_type": "stream",
          "name": "stderr",
          "text": [
            "INFO:fast_lcf_atepc:l2reg:1e-05\t-->\tCalling Count:2\n"
          ]
        },
        {
          "output_type": "stream",
          "name": "stdout",
          "text": [
            "2022-09-10 15:51:12,505 INFO: label_list:['B-ASP', 'I-ASP', 'O', '[CLS]', '[SEP]']\t-->\tCalling Count:2\n"
          ]
        },
        {
          "output_type": "stream",
          "name": "stderr",
          "text": [
            "INFO:fast_lcf_atepc:label_list:['B-ASP', 'I-ASP', 'O', '[CLS]', '[SEP]']\t-->\tCalling Count:2\n"
          ]
        },
        {
          "output_type": "stream",
          "name": "stdout",
          "text": [
            "2022-09-10 15:51:12,508 INFO: label_to_index:{'Negative': 0, 'Neutral': 1, 'Positive': 2}\t-->\tCalling Count:0\n"
          ]
        },
        {
          "output_type": "stream",
          "name": "stderr",
          "text": [
            "INFO:fast_lcf_atepc:label_to_index:{'Negative': 0, 'Neutral': 1, 'Positive': 2}\t-->\tCalling Count:0\n"
          ]
        },
        {
          "output_type": "stream",
          "name": "stdout",
          "text": [
            "2022-09-10 15:51:12,511 INFO: lcf:cdw\t-->\tCalling Count:0\n"
          ]
        },
        {
          "output_type": "stream",
          "name": "stderr",
          "text": [
            "INFO:fast_lcf_atepc:lcf:cdw\t-->\tCalling Count:0\n"
          ]
        },
        {
          "output_type": "stream",
          "name": "stdout",
          "text": [
            "2022-09-10 15:51:12,513 INFO: learning_rate:2e-05\t-->\tCalling Count:1\n"
          ]
        },
        {
          "output_type": "stream",
          "name": "stderr",
          "text": [
            "INFO:fast_lcf_atepc:learning_rate:2e-05\t-->\tCalling Count:1\n"
          ]
        },
        {
          "output_type": "stream",
          "name": "stdout",
          "text": [
            "2022-09-10 15:51:12,516 INFO: log_step:50\t-->\tCalling Count:0\n"
          ]
        },
        {
          "output_type": "stream",
          "name": "stderr",
          "text": [
            "INFO:fast_lcf_atepc:log_step:50\t-->\tCalling Count:0\n"
          ]
        },
        {
          "output_type": "stream",
          "name": "stdout",
          "text": [
            "2022-09-10 15:51:12,519 INFO: max_seq_len:80\t-->\tCalling Count:33056\n"
          ]
        },
        {
          "output_type": "stream",
          "name": "stderr",
          "text": [
            "INFO:fast_lcf_atepc:max_seq_len:80\t-->\tCalling Count:33056\n"
          ]
        },
        {
          "output_type": "stream",
          "name": "stdout",
          "text": [
            "2022-09-10 15:51:12,522 INFO: model:<class 'pyabsa.core.atepc.models.fast_lcf_atepc.FAST_LCF_ATEPC'>\t-->\tCalling Count:5\n"
          ]
        },
        {
          "output_type": "stream",
          "name": "stderr",
          "text": [
            "INFO:fast_lcf_atepc:model:<class 'pyabsa.core.atepc.models.fast_lcf_atepc.FAST_LCF_ATEPC'>\t-->\tCalling Count:5\n"
          ]
        },
        {
          "output_type": "stream",
          "name": "stdout",
          "text": [
            "2022-09-10 15:51:12,524 INFO: model_name:fast_lcf_atepc\t-->\tCalling Count:4724\n"
          ]
        },
        {
          "output_type": "stream",
          "name": "stderr",
          "text": [
            "INFO:fast_lcf_atepc:model_name:fast_lcf_atepc\t-->\tCalling Count:4724\n"
          ]
        },
        {
          "output_type": "stream",
          "name": "stdout",
          "text": [
            "2022-09-10 15:51:12,527 INFO: model_path_to_save:checkpoints\t-->\tCalling Count:2\n"
          ]
        },
        {
          "output_type": "stream",
          "name": "stderr",
          "text": [
            "INFO:fast_lcf_atepc:model_path_to_save:checkpoints\t-->\tCalling Count:2\n"
          ]
        },
        {
          "output_type": "stream",
          "name": "stdout",
          "text": [
            "2022-09-10 15:51:12,530 INFO: num_epoch:10\t-->\tCalling Count:1\n"
          ]
        },
        {
          "output_type": "stream",
          "name": "stderr",
          "text": [
            "INFO:fast_lcf_atepc:num_epoch:10\t-->\tCalling Count:1\n"
          ]
        },
        {
          "output_type": "stream",
          "name": "stdout",
          "text": [
            "2022-09-10 15:51:12,533 INFO: num_labels:6\t-->\tCalling Count:3\n"
          ]
        },
        {
          "output_type": "stream",
          "name": "stderr",
          "text": [
            "INFO:fast_lcf_atepc:num_labels:6\t-->\tCalling Count:3\n"
          ]
        },
        {
          "output_type": "stream",
          "name": "stdout",
          "text": [
            "2022-09-10 15:51:12,536 INFO: optimizer:adamw\t-->\tCalling Count:2\n"
          ]
        },
        {
          "output_type": "stream",
          "name": "stderr",
          "text": [
            "INFO:fast_lcf_atepc:optimizer:adamw\t-->\tCalling Count:2\n"
          ]
        },
        {
          "output_type": "stream",
          "name": "stdout",
          "text": [
            "2022-09-10 15:51:12,539 INFO: patience:99999\t-->\tCalling Count:0\n"
          ]
        },
        {
          "output_type": "stream",
          "name": "stderr",
          "text": [
            "INFO:fast_lcf_atepc:patience:99999\t-->\tCalling Count:0\n"
          ]
        },
        {
          "output_type": "stream",
          "name": "stdout",
          "text": [
            "2022-09-10 15:51:12,542 INFO: output_dim:3\t-->\tCalling Count:1\n"
          ]
        },
        {
          "output_type": "stream",
          "name": "stderr",
          "text": [
            "INFO:fast_lcf_atepc:output_dim:3\t-->\tCalling Count:1\n"
          ]
        },
        {
          "output_type": "stream",
          "name": "stdout",
          "text": [
            "2022-09-10 15:51:12,545 INFO: pretrained_bert:yangheng/deberta-v3-base-absa-v1.1\t-->\tCalling Count:4\n"
          ]
        },
        {
          "output_type": "stream",
          "name": "stderr",
          "text": [
            "INFO:fast_lcf_atepc:pretrained_bert:yangheng/deberta-v3-base-absa-v1.1\t-->\tCalling Count:4\n"
          ]
        },
        {
          "output_type": "stream",
          "name": "stdout",
          "text": [
            "2022-09-10 15:51:12,548 INFO: save_mode:1\t-->\tCalling Count:0\n"
          ]
        },
        {
          "output_type": "stream",
          "name": "stderr",
          "text": [
            "INFO:fast_lcf_atepc:save_mode:1\t-->\tCalling Count:0\n"
          ]
        },
        {
          "output_type": "stream",
          "name": "stdout",
          "text": [
            "2022-09-10 15:51:12,551 INFO: seed:52\t-->\tCalling Count:7\n"
          ]
        },
        {
          "output_type": "stream",
          "name": "stderr",
          "text": [
            "INFO:fast_lcf_atepc:seed:52\t-->\tCalling Count:7\n"
          ]
        },
        {
          "output_type": "stream",
          "name": "stdout",
          "text": [
            "2022-09-10 15:51:12,553 INFO: sep_indices:2\t-->\tCalling Count:0\n"
          ]
        },
        {
          "output_type": "stream",
          "name": "stderr",
          "text": [
            "INFO:fast_lcf_atepc:sep_indices:2\t-->\tCalling Count:0\n"
          ]
        },
        {
          "output_type": "stream",
          "name": "stdout",
          "text": [
            "2022-09-10 15:51:12,556 INFO: show_metric:False\t-->\tCalling Count:0\n"
          ]
        },
        {
          "output_type": "stream",
          "name": "stderr",
          "text": [
            "INFO:fast_lcf_atepc:show_metric:False\t-->\tCalling Count:0\n"
          ]
        },
        {
          "output_type": "stream",
          "name": "stdout",
          "text": [
            "2022-09-10 15:51:12,559 INFO: spacy_model:en_core_web_sm\t-->\tCalling Count:3\n"
          ]
        },
        {
          "output_type": "stream",
          "name": "stderr",
          "text": [
            "INFO:fast_lcf_atepc:spacy_model:en_core_web_sm\t-->\tCalling Count:3\n"
          ]
        },
        {
          "output_type": "stream",
          "name": "stdout",
          "text": [
            "2022-09-10 15:51:12,562 INFO: srd_alignment:True\t-->\tCalling Count:0\n"
          ]
        },
        {
          "output_type": "stream",
          "name": "stderr",
          "text": [
            "INFO:fast_lcf_atepc:srd_alignment:True\t-->\tCalling Count:0\n"
          ]
        },
        {
          "output_type": "stream",
          "name": "stdout",
          "text": [
            "2022-09-10 15:51:12,565 INFO: use_amp:False\t-->\tCalling Count:1\n"
          ]
        },
        {
          "output_type": "stream",
          "name": "stderr",
          "text": [
            "INFO:fast_lcf_atepc:use_amp:False\t-->\tCalling Count:1\n"
          ]
        },
        {
          "output_type": "stream",
          "name": "stdout",
          "text": [
            "2022-09-10 15:51:12,568 INFO: use_bert_spc:True\t-->\tCalling Count:0\n"
          ]
        },
        {
          "output_type": "stream",
          "name": "stderr",
          "text": [
            "INFO:fast_lcf_atepc:use_bert_spc:True\t-->\tCalling Count:0\n"
          ]
        },
        {
          "output_type": "stream",
          "name": "stdout",
          "text": [
            "2022-09-10 15:51:12,570 INFO: use_syntax_based_SRD:False\t-->\tCalling Count:4722\n"
          ]
        },
        {
          "output_type": "stream",
          "name": "stderr",
          "text": [
            "INFO:fast_lcf_atepc:use_syntax_based_SRD:False\t-->\tCalling Count:4722\n"
          ]
        },
        {
          "output_type": "stream",
          "name": "stdout",
          "text": [
            "2022-09-10 15:51:12,573 INFO: warmup_step:-1\t-->\tCalling Count:0\n"
          ]
        },
        {
          "output_type": "stream",
          "name": "stderr",
          "text": [
            "INFO:fast_lcf_atepc:warmup_step:-1\t-->\tCalling Count:0\n"
          ]
        },
        {
          "output_type": "stream",
          "name": "stdout",
          "text": [
            "2022-09-10 15:51:12,576 INFO: window:lr\t-->\tCalling Count:0\n"
          ]
        },
        {
          "output_type": "stream",
          "name": "stderr",
          "text": [
            "INFO:fast_lcf_atepc:window:lr\t-->\tCalling Count:0\n"
          ]
        },
        {
          "output_type": "stream",
          "name": "stdout",
          "text": [
            "2022-09-10 15:51:12,618 INFO: ***** Running training for Aspect Term Extraction *****\n"
          ]
        },
        {
          "output_type": "stream",
          "name": "stderr",
          "text": [
            "INFO:fast_lcf_atepc:***** Running training for Aspect Term Extraction *****\n"
          ]
        },
        {
          "output_type": "stream",
          "name": "stdout",
          "text": [
            "2022-09-10 15:51:12,623 INFO:   Num examples = 3604\n"
          ]
        },
        {
          "output_type": "stream",
          "name": "stderr",
          "text": [
            "INFO:fast_lcf_atepc:  Num examples = 3604\n"
          ]
        },
        {
          "output_type": "stream",
          "name": "stdout",
          "text": [
            "2022-09-10 15:51:12,627 INFO:   Batch size = 16\n"
          ]
        },
        {
          "output_type": "stream",
          "name": "stderr",
          "text": [
            "INFO:fast_lcf_atepc:  Batch size = 16\n"
          ]
        },
        {
          "output_type": "stream",
          "name": "stdout",
          "text": [
            "2022-09-10 15:51:12,630 INFO:   Num steps = 2250\n"
          ]
        },
        {
          "output_type": "stream",
          "name": "stderr",
          "text": [
            "INFO:fast_lcf_atepc:  Num steps = 2250\n",
            "100%|██████████| 226/226 [03:34<00:00,  1.05it/s, Epoch:0 | loss_apc:0.7511 | loss_ate:0.0797 | APC_ACC: 78.53(max:78.53) | APC_F1: 56.31(max:56.31) | ATE_F1: 86.41(max:86.41)]\n",
            "100%|██████████| 226/226 [03:21<00:00,  1.12it/s, Epoch:1 | loss_apc:0.4073 | loss_ate:0.0881 | APC_ACC: 80.68(max:83.54) | APC_F1: 68.37(max:72.53) | ATE_F1: 86.64(max:87.3)]\n",
            "100%|██████████| 226/226 [03:20<00:00,  1.12it/s, Epoch:2 | loss_apc:0.6193 | loss_ate:0.0337 | APC_ACC: 83.72(max:85.87) | APC_F1: 72.27(max:77.75) | ATE_F1: 87.51(max:88.56)]\n",
            "100%|██████████| 226/226 [03:08<00:00,  1.20it/s, Epoch:3 | loss_apc:0.3426 | loss_ate:0.0573 | APC_ACC: 83.72(max:85.87) | APC_F1: 72.92(max:78.18) | ATE_F1: 87.58(max:88.56)]\n",
            "100%|██████████| 226/226 [03:08<00:00,  1.20it/s, Epoch:4 | loss_apc:0.9294 | loss_ate:0.1754 | APC_ACC: 85.42(max:86.23) | APC_F1: 78.98(max:79.54) | ATE_F1: 88.23(max:88.56)]\n",
            "100%|██████████| 226/226 [03:05<00:00,  1.22it/s, Epoch:5 | loss_apc:0.6869 | loss_ate:0.0342 | APC_ACC: 85.15(max:86.23) | APC_F1: 76.39(max:79.54) | ATE_F1: 88.12(max:88.56)]\n",
            "100%|██████████| 226/226 [03:05<00:00,  1.22it/s, Epoch:6 | loss_apc:0.0391 | loss_ate:0.0436 | APC_ACC: 85.15(max:86.23) | APC_F1: 77.76(max:79.54) | ATE_F1: 87.54(max:88.56)]\n",
            "100%|██████████| 226/226 [03:14<00:00,  1.16it/s, Epoch:7 | loss_apc:0.3035 | loss_ate:0.0380 | APC_ACC: 85.96(max:87.66) | APC_F1: 78.93(max:81.46) | ATE_F1: 86.45(max:88.56)]\n",
            "100%|██████████| 226/226 [03:08<00:00,  1.20it/s, Epoch:8 | loss_apc:0.1007 | loss_ate:0.0099 | APC_ACC: 82.92(max:87.66) | APC_F1: 73.71(max:81.46) | ATE_F1: 87.07(max:89.03)]\n",
            "100%|██████████| 226/226 [03:08<00:00,  1.20it/s, Epoch:9 | loss_apc:0.0209 | loss_ate:0.0117 | APC_ACC: 84.7(max:87.66) | APC_F1: 75.76(max:81.46) | ATE_F1: 86.94(max:90.25)]\n"
          ]
        },
        {
          "output_type": "stream",
          "name": "stdout",
          "text": [
            "2022-09-10 16:23:40,184 INFO:  ------------------------------------- Metric Visualizer ------------------------------------- \n",
            "╒════════════════════════════════╤═════════════════════════════╤════════════════════════════╤═════════════════════════════════════════════════════════════════════════╕\n",
            "│ Metric                         │ Model & Dataset             │ Values (First 10 values)   │ Summary                                                                 │\n",
            "╞════════════════════════════════╪═════════════════════════════╪════════════════════════════╪═════════════════════════════════════════════════════════════════════════╡\n",
            "│ Max-APC-Test-Acc w/o Valid Set │ FAST_LCF_ATEPC-Restaurant14 │ [87.66]                    │ ['Avg:87.66, Median: 87.66, IQR: 0.0, STD:0.0, Max: 87.66, Min: 87.66'] │\n",
            "├────────────────────────────────┼─────────────────────────────┼────────────────────────────┼─────────────────────────────────────────────────────────────────────────┤\n",
            "│ Max-APC-Test-F1 w/o Valid Set  │ FAST_LCF_ATEPC-Restaurant14 │ [81.46]                    │ ['Avg:81.46, Median: 81.46, IQR: 0.0, STD:0.0, Max: 81.46, Min: 81.46'] │\n",
            "├────────────────────────────────┼─────────────────────────────┼────────────────────────────┼─────────────────────────────────────────────────────────────────────────┤\n",
            "│ Max-ATE-Test-F1 w/o Valid Set  │ FAST_LCF_ATEPC-Restaurant14 │ [90.25]                    │ ['Avg:90.25, Median: 90.25, IQR: 0.0, STD:0.0, Max: 90.25, Min: 90.25'] │\n",
            "╘════════════════════════════════╧═════════════════════════════╧════════════════════════════╧═════════════════════════════════════════════════════════════════════════╛\n",
            " -------------------- https://github.com/yangheng95/metric_visualizer --------------------\n",
            "\n"
          ]
        },
        {
          "output_type": "stream",
          "name": "stderr",
          "text": [
            "INFO:fast_lcf_atepc: ------------------------------------- Metric Visualizer ------------------------------------- \n",
            "╒════════════════════════════════╤═════════════════════════════╤════════════════════════════╤═════════════════════════════════════════════════════════════════════════╕\n",
            "│ Metric                         │ Model & Dataset             │ Values (First 10 values)   │ Summary                                                                 │\n",
            "╞════════════════════════════════╪═════════════════════════════╪════════════════════════════╪═════════════════════════════════════════════════════════════════════════╡\n",
            "│ Max-APC-Test-Acc w/o Valid Set │ FAST_LCF_ATEPC-Restaurant14 │ [87.66]                    │ ['Avg:87.66, Median: 87.66, IQR: 0.0, STD:0.0, Max: 87.66, Min: 87.66'] │\n",
            "├────────────────────────────────┼─────────────────────────────┼────────────────────────────┼─────────────────────────────────────────────────────────────────────────┤\n",
            "│ Max-APC-Test-F1 w/o Valid Set  │ FAST_LCF_ATEPC-Restaurant14 │ [81.46]                    │ ['Avg:81.46, Median: 81.46, IQR: 0.0, STD:0.0, Max: 81.46, Min: 81.46'] │\n",
            "├────────────────────────────────┼─────────────────────────────┼────────────────────────────┼─────────────────────────────────────────────────────────────────────────┤\n",
            "│ Max-ATE-Test-F1 w/o Valid Set  │ FAST_LCF_ATEPC-Restaurant14 │ [90.25]                    │ ['Avg:90.25, Median: 90.25, IQR: 0.0, STD:0.0, Max: 90.25, Min: 90.25'] │\n",
            "╘════════════════════════════════╧═════════════════════════════╧════════════════════════════╧═════════════════════════════════════════════════════════════════════════╛\n",
            " -------------------- https://github.com/yangheng95/metric_visualizer --------------------\n",
            "\n"
          ]
        },
        {
          "output_type": "stream",
          "name": "stdout",
          "text": [
            "Training finished, we hope you can share your checkpoint with community, please see: https://github.com/yangheng95/PyABSA/blob/release/demos/documents/share-checkpoint.md\n",
            "2022-09-10 16:23:40,222 INFO: ABSADatasetsVersion:2022.07.22\t-->\tCalling Count:0\n"
          ]
        },
        {
          "output_type": "stream",
          "name": "stderr",
          "text": [
            "INFO:fast_lcf_atepc:ABSADatasetsVersion:2022.07.22\t-->\tCalling Count:0\n"
          ]
        },
        {
          "output_type": "stream",
          "name": "stdout",
          "text": [
            "2022-09-10 16:23:40,225 INFO: IOB_label_to_index:{'B-ASP': 1, 'I-ASP': 2, 'O': 3, '[CLS]': 4, '[SEP]': 5}\t-->\tCalling Count:1\n"
          ]
        },
        {
          "output_type": "stream",
          "name": "stderr",
          "text": [
            "INFO:fast_lcf_atepc:IOB_label_to_index:{'B-ASP': 1, 'I-ASP': 2, 'O': 3, '[CLS]': 4, '[SEP]': 5}\t-->\tCalling Count:1\n"
          ]
        },
        {
          "output_type": "stream",
          "name": "stdout",
          "text": [
            "2022-09-10 16:23:40,232 INFO: MV:<metric_visualizer.metric_visualizer.MetricVisualizer object at 0x7f1729fc88d0>\t-->\tCalling Count:5\n"
          ]
        },
        {
          "output_type": "stream",
          "name": "stderr",
          "text": [
            "INFO:fast_lcf_atepc:MV:<metric_visualizer.metric_visualizer.MetricVisualizer object at 0x7f1729fc88d0>\t-->\tCalling Count:5\n"
          ]
        },
        {
          "output_type": "stream",
          "name": "stdout",
          "text": [
            "2022-09-10 16:23:40,234 INFO: PyABSAVersion:1.16.16\t-->\tCalling Count:0\n"
          ]
        },
        {
          "output_type": "stream",
          "name": "stderr",
          "text": [
            "INFO:fast_lcf_atepc:PyABSAVersion:1.16.16\t-->\tCalling Count:0\n"
          ]
        },
        {
          "output_type": "stream",
          "name": "stdout",
          "text": [
            "2022-09-10 16:23:40,236 INFO: SRD:3\t-->\tCalling Count:9444\n"
          ]
        },
        {
          "output_type": "stream",
          "name": "stderr",
          "text": [
            "INFO:fast_lcf_atepc:SRD:3\t-->\tCalling Count:9444\n"
          ]
        },
        {
          "output_type": "stream",
          "name": "stdout",
          "text": [
            "2022-09-10 16:23:40,238 INFO: TorchVersion:1.12.1+cu113+cuda11.3\t-->\tCalling Count:0\n"
          ]
        },
        {
          "output_type": "stream",
          "name": "stderr",
          "text": [
            "INFO:fast_lcf_atepc:TorchVersion:1.12.1+cu113+cuda11.3\t-->\tCalling Count:0\n"
          ]
        },
        {
          "output_type": "stream",
          "name": "stdout",
          "text": [
            "2022-09-10 16:23:40,241 INFO: TransformersVersion:4.21.3\t-->\tCalling Count:0\n"
          ]
        },
        {
          "output_type": "stream",
          "name": "stderr",
          "text": [
            "INFO:fast_lcf_atepc:TransformersVersion:4.21.3\t-->\tCalling Count:0\n"
          ]
        },
        {
          "output_type": "stream",
          "name": "stdout",
          "text": [
            "2022-09-10 16:23:40,243 INFO: auto_device:True\t-->\tCalling Count:2261\n"
          ]
        },
        {
          "output_type": "stream",
          "name": "stderr",
          "text": [
            "INFO:fast_lcf_atepc:auto_device:True\t-->\tCalling Count:2261\n"
          ]
        },
        {
          "output_type": "stream",
          "name": "stdout",
          "text": [
            "2022-09-10 16:23:40,246 INFO: batch_size:16\t-->\tCalling Count:5\n"
          ]
        },
        {
          "output_type": "stream",
          "name": "stderr",
          "text": [
            "INFO:fast_lcf_atepc:batch_size:16\t-->\tCalling Count:5\n"
          ]
        },
        {
          "output_type": "stream",
          "name": "stdout",
          "text": [
            "2022-09-10 16:23:40,248 INFO: cache_dataset:True\t-->\tCalling Count:1\n"
          ]
        },
        {
          "output_type": "stream",
          "name": "stderr",
          "text": [
            "INFO:fast_lcf_atepc:cache_dataset:True\t-->\tCalling Count:1\n"
          ]
        },
        {
          "output_type": "stream",
          "name": "stdout",
          "text": [
            "2022-09-10 16:23:40,250 INFO: dataset_file:{'train': ['integrated_datasets/atepc_datasets/110.SemEval/114.restaurant14/Restaurants_Train.xml.seg.atepc'], 'test': ['integrated_datasets/atepc_datasets/110.SemEval/114.restaurant14/Restaurants_Test_Gold.xml.seg.atepc'], 'valid': []}\t-->\tCalling Count:96\n"
          ]
        },
        {
          "output_type": "stream",
          "name": "stderr",
          "text": [
            "INFO:fast_lcf_atepc:dataset_file:{'train': ['integrated_datasets/atepc_datasets/110.SemEval/114.restaurant14/Restaurants_Train.xml.seg.atepc'], 'test': ['integrated_datasets/atepc_datasets/110.SemEval/114.restaurant14/Restaurants_Test_Gold.xml.seg.atepc'], 'valid': []}\t-->\tCalling Count:96\n"
          ]
        },
        {
          "output_type": "stream",
          "name": "stdout",
          "text": [
            "2022-09-10 16:23:40,253 INFO: dataset_name:Restaurant14\t-->\tCalling Count:30\n"
          ]
        },
        {
          "output_type": "stream",
          "name": "stderr",
          "text": [
            "INFO:fast_lcf_atepc:dataset_name:Restaurant14\t-->\tCalling Count:30\n"
          ]
        },
        {
          "output_type": "stream",
          "name": "stdout",
          "text": [
            "2022-09-10 16:23:40,260 INFO: device:cuda:0\t-->\tCalling Count:77701\n"
          ]
        },
        {
          "output_type": "stream",
          "name": "stderr",
          "text": [
            "INFO:fast_lcf_atepc:device:cuda:0\t-->\tCalling Count:77701\n"
          ]
        },
        {
          "output_type": "stream",
          "name": "stdout",
          "text": [
            "2022-09-10 16:23:40,263 INFO: device_name:Tesla T4\t-->\tCalling Count:0\n"
          ]
        },
        {
          "output_type": "stream",
          "name": "stderr",
          "text": [
            "INFO:fast_lcf_atepc:device_name:Tesla T4\t-->\tCalling Count:0\n"
          ]
        },
        {
          "output_type": "stream",
          "name": "stdout",
          "text": [
            "2022-09-10 16:23:40,265 INFO: dropout:0.5\t-->\tCalling Count:1\n"
          ]
        },
        {
          "output_type": "stream",
          "name": "stderr",
          "text": [
            "INFO:fast_lcf_atepc:dropout:0.5\t-->\tCalling Count:1\n"
          ]
        },
        {
          "output_type": "stream",
          "name": "stdout",
          "text": [
            "2022-09-10 16:23:40,267 INFO: dynamic_truncate:True\t-->\tCalling Count:9444\n"
          ]
        },
        {
          "output_type": "stream",
          "name": "stderr",
          "text": [
            "INFO:fast_lcf_atepc:dynamic_truncate:True\t-->\tCalling Count:9444\n"
          ]
        },
        {
          "output_type": "stream",
          "name": "stdout",
          "text": [
            "2022-09-10 16:23:40,270 INFO: embed_dim:768\t-->\tCalling Count:0\n"
          ]
        },
        {
          "output_type": "stream",
          "name": "stderr",
          "text": [
            "INFO:fast_lcf_atepc:embed_dim:768\t-->\tCalling Count:0\n"
          ]
        },
        {
          "output_type": "stream",
          "name": "stdout",
          "text": [
            "2022-09-10 16:23:40,272 INFO: evaluate_begin:0\t-->\tCalling Count:91\n"
          ]
        },
        {
          "output_type": "stream",
          "name": "stderr",
          "text": [
            "INFO:fast_lcf_atepc:evaluate_begin:0\t-->\tCalling Count:91\n"
          ]
        },
        {
          "output_type": "stream",
          "name": "stdout",
          "text": [
            "2022-09-10 16:23:40,274 INFO: gradient_accumulation_steps:1\t-->\tCalling Count:3\n"
          ]
        },
        {
          "output_type": "stream",
          "name": "stderr",
          "text": [
            "INFO:fast_lcf_atepc:gradient_accumulation_steps:1\t-->\tCalling Count:3\n"
          ]
        },
        {
          "output_type": "stream",
          "name": "stdout",
          "text": [
            "2022-09-10 16:23:40,281 INFO: hidden_dim:768\t-->\tCalling Count:6\n"
          ]
        },
        {
          "output_type": "stream",
          "name": "stderr",
          "text": [
            "INFO:fast_lcf_atepc:hidden_dim:768\t-->\tCalling Count:6\n"
          ]
        },
        {
          "output_type": "stream",
          "name": "stdout",
          "text": [
            "2022-09-10 16:23:40,285 INFO: index_to_IOB_label:{1: 'B-ASP', 2: 'I-ASP', 3: 'O', 4: '[CLS]', 5: '[SEP]'}\t-->\tCalling Count:0\n"
          ]
        },
        {
          "output_type": "stream",
          "name": "stderr",
          "text": [
            "INFO:fast_lcf_atepc:index_to_IOB_label:{1: 'B-ASP', 2: 'I-ASP', 3: 'O', 4: '[CLS]', 5: '[SEP]'}\t-->\tCalling Count:0\n"
          ]
        },
        {
          "output_type": "stream",
          "name": "stdout",
          "text": [
            "2022-09-10 16:23:40,287 INFO: index_to_label:{0: 'Negative', 1: 'Neutral', 2: 'Positive'}\t-->\tCalling Count:2\n"
          ]
        },
        {
          "output_type": "stream",
          "name": "stderr",
          "text": [
            "INFO:fast_lcf_atepc:index_to_label:{0: 'Negative', 1: 'Neutral', 2: 'Positive'}\t-->\tCalling Count:2\n"
          ]
        },
        {
          "output_type": "stream",
          "name": "stdout",
          "text": [
            "2022-09-10 16:23:40,290 INFO: initializer:xavier_uniform_\t-->\tCalling Count:0\n"
          ]
        },
        {
          "output_type": "stream",
          "name": "stderr",
          "text": [
            "INFO:fast_lcf_atepc:initializer:xavier_uniform_\t-->\tCalling Count:0\n"
          ]
        },
        {
          "output_type": "stream",
          "name": "stdout",
          "text": [
            "2022-09-10 16:23:40,292 INFO: l2reg:1e-05\t-->\tCalling Count:2\n"
          ]
        },
        {
          "output_type": "stream",
          "name": "stderr",
          "text": [
            "INFO:fast_lcf_atepc:l2reg:1e-05\t-->\tCalling Count:2\n"
          ]
        },
        {
          "output_type": "stream",
          "name": "stdout",
          "text": [
            "2022-09-10 16:23:40,296 INFO: label_list:['B-ASP', 'I-ASP', 'O', '[CLS]', '[SEP]']\t-->\tCalling Count:93\n"
          ]
        },
        {
          "output_type": "stream",
          "name": "stderr",
          "text": [
            "INFO:fast_lcf_atepc:label_list:['B-ASP', 'I-ASP', 'O', '[CLS]', '[SEP]']\t-->\tCalling Count:93\n"
          ]
        },
        {
          "output_type": "stream",
          "name": "stdout",
          "text": [
            "2022-09-10 16:23:40,302 INFO: label_to_index:{'Negative': 0, 'Neutral': 1, 'Positive': 2}\t-->\tCalling Count:0\n"
          ]
        },
        {
          "output_type": "stream",
          "name": "stderr",
          "text": [
            "INFO:fast_lcf_atepc:label_to_index:{'Negative': 0, 'Neutral': 1, 'Positive': 2}\t-->\tCalling Count:0\n"
          ]
        },
        {
          "output_type": "stream",
          "name": "stdout",
          "text": [
            "2022-09-10 16:23:40,308 INFO: lcf:cdw\t-->\tCalling Count:17286\n"
          ]
        },
        {
          "output_type": "stream",
          "name": "stderr",
          "text": [
            "INFO:fast_lcf_atepc:lcf:cdw\t-->\tCalling Count:17286\n"
          ]
        },
        {
          "output_type": "stream",
          "name": "stdout",
          "text": [
            "2022-09-10 16:23:40,312 INFO: learning_rate:2e-05\t-->\tCalling Count:1\n"
          ]
        },
        {
          "output_type": "stream",
          "name": "stderr",
          "text": [
            "INFO:fast_lcf_atepc:learning_rate:2e-05\t-->\tCalling Count:1\n"
          ]
        },
        {
          "output_type": "stream",
          "name": "stdout",
          "text": [
            "2022-09-10 16:23:40,316 INFO: log_step:50\t-->\tCalling Count:2261\n"
          ]
        },
        {
          "output_type": "stream",
          "name": "stderr",
          "text": [
            "INFO:fast_lcf_atepc:log_step:50\t-->\tCalling Count:2261\n"
          ]
        },
        {
          "output_type": "stream",
          "name": "stdout",
          "text": [
            "2022-09-10 16:23:40,320 INFO: loss:0.07611561045050622\t-->\tCalling Count:0\n"
          ]
        },
        {
          "output_type": "stream",
          "name": "stderr",
          "text": [
            "INFO:fast_lcf_atepc:loss:0.07611561045050622\t-->\tCalling Count:0\n"
          ]
        },
        {
          "output_type": "stream",
          "name": "stdout",
          "text": [
            "2022-09-10 16:23:40,323 INFO: max_seq_len:80\t-->\tCalling Count:50316\n"
          ]
        },
        {
          "output_type": "stream",
          "name": "stderr",
          "text": [
            "INFO:fast_lcf_atepc:max_seq_len:80\t-->\tCalling Count:50316\n"
          ]
        },
        {
          "output_type": "stream",
          "name": "stdout",
          "text": [
            "2022-09-10 16:23:40,328 INFO: max_test_metrics:{'max_apc_test_acc': 87.66, 'max_apc_test_f1': 81.46, 'max_ate_test_f1': 90.25}\t-->\tCalling Count:633\n"
          ]
        },
        {
          "output_type": "stream",
          "name": "stderr",
          "text": [
            "INFO:fast_lcf_atepc:max_test_metrics:{'max_apc_test_acc': 87.66, 'max_apc_test_f1': 81.46, 'max_ate_test_f1': 90.25}\t-->\tCalling Count:633\n"
          ]
        },
        {
          "output_type": "stream",
          "name": "stdout",
          "text": [
            "2022-09-10 16:23:40,332 INFO: metrics_of_this_checkpoint:{'apc_acc': 84.7, 'apc_f1': 75.76, 'ate_f1': 86.94}\t-->\tCalling Count:270\n"
          ]
        },
        {
          "output_type": "stream",
          "name": "stderr",
          "text": [
            "INFO:fast_lcf_atepc:metrics_of_this_checkpoint:{'apc_acc': 84.7, 'apc_f1': 75.76, 'ate_f1': 86.94}\t-->\tCalling Count:270\n"
          ]
        },
        {
          "output_type": "stream",
          "name": "stdout",
          "text": [
            "2022-09-10 16:23:40,336 INFO: model:<class 'pyabsa.core.atepc.models.fast_lcf_atepc.FAST_LCF_ATEPC'>\t-->\tCalling Count:5\n"
          ]
        },
        {
          "output_type": "stream",
          "name": "stderr",
          "text": [
            "INFO:fast_lcf_atepc:model:<class 'pyabsa.core.atepc.models.fast_lcf_atepc.FAST_LCF_ATEPC'>\t-->\tCalling Count:5\n"
          ]
        },
        {
          "output_type": "stream",
          "name": "stdout",
          "text": [
            "2022-09-10 16:23:40,340 INFO: model_name:fast_lcf_atepc\t-->\tCalling Count:4855\n"
          ]
        },
        {
          "output_type": "stream",
          "name": "stderr",
          "text": [
            "INFO:fast_lcf_atepc:model_name:fast_lcf_atepc\t-->\tCalling Count:4855\n"
          ]
        },
        {
          "output_type": "stream",
          "name": "stdout",
          "text": [
            "2022-09-10 16:23:40,342 INFO: model_path_to_save:checkpoints\t-->\tCalling Count:55\n"
          ]
        },
        {
          "output_type": "stream",
          "name": "stderr",
          "text": [
            "INFO:fast_lcf_atepc:model_path_to_save:checkpoints\t-->\tCalling Count:55\n"
          ]
        },
        {
          "output_type": "stream",
          "name": "stdout",
          "text": [
            "2022-09-10 16:23:40,346 INFO: num_epoch:10\t-->\tCalling Count:2\n"
          ]
        },
        {
          "output_type": "stream",
          "name": "stderr",
          "text": [
            "INFO:fast_lcf_atepc:num_epoch:10\t-->\tCalling Count:2\n"
          ]
        },
        {
          "output_type": "stream",
          "name": "stdout",
          "text": [
            "2022-09-10 16:23:40,348 INFO: num_labels:6\t-->\tCalling Count:3\n"
          ]
        },
        {
          "output_type": "stream",
          "name": "stderr",
          "text": [
            "INFO:fast_lcf_atepc:num_labels:6\t-->\tCalling Count:3\n"
          ]
        },
        {
          "output_type": "stream",
          "name": "stdout",
          "text": [
            "2022-09-10 16:23:40,351 INFO: optimizer:adamw\t-->\tCalling Count:2\n"
          ]
        },
        {
          "output_type": "stream",
          "name": "stderr",
          "text": [
            "INFO:fast_lcf_atepc:optimizer:adamw\t-->\tCalling Count:2\n"
          ]
        },
        {
          "output_type": "stream",
          "name": "stdout",
          "text": [
            "2022-09-10 16:23:40,354 INFO: patience:99999\t-->\tCalling Count:27\n"
          ]
        },
        {
          "output_type": "stream",
          "name": "stderr",
          "text": [
            "INFO:fast_lcf_atepc:patience:99999\t-->\tCalling Count:27\n"
          ]
        },
        {
          "output_type": "stream",
          "name": "stdout",
          "text": [
            "2022-09-10 16:23:40,356 INFO: output_dim:3\t-->\tCalling Count:92\n"
          ]
        },
        {
          "output_type": "stream",
          "name": "stderr",
          "text": [
            "INFO:fast_lcf_atepc:output_dim:3\t-->\tCalling Count:92\n"
          ]
        },
        {
          "output_type": "stream",
          "name": "stdout",
          "text": [
            "2022-09-10 16:23:40,359 INFO: pretrained_bert:yangheng/deberta-v3-base-absa-v1.1\t-->\tCalling Count:4\n"
          ]
        },
        {
          "output_type": "stream",
          "name": "stderr",
          "text": [
            "INFO:fast_lcf_atepc:pretrained_bert:yangheng/deberta-v3-base-absa-v1.1\t-->\tCalling Count:4\n"
          ]
        },
        {
          "output_type": "stream",
          "name": "stdout",
          "text": [
            "2022-09-10 16:23:40,362 INFO: save_mode:1\t-->\tCalling Count:52\n"
          ]
        },
        {
          "output_type": "stream",
          "name": "stderr",
          "text": [
            "INFO:fast_lcf_atepc:save_mode:1\t-->\tCalling Count:52\n"
          ]
        },
        {
          "output_type": "stream",
          "name": "stdout",
          "text": [
            "2022-09-10 16:23:40,365 INFO: seed:52\t-->\tCalling Count:7\n"
          ]
        },
        {
          "output_type": "stream",
          "name": "stderr",
          "text": [
            "INFO:fast_lcf_atepc:seed:52\t-->\tCalling Count:7\n"
          ]
        },
        {
          "output_type": "stream",
          "name": "stdout",
          "text": [
            "2022-09-10 16:23:40,367 INFO: sep_indices:2\t-->\tCalling Count:239516\n"
          ]
        },
        {
          "output_type": "stream",
          "name": "stderr",
          "text": [
            "INFO:fast_lcf_atepc:sep_indices:2\t-->\tCalling Count:239516\n"
          ]
        },
        {
          "output_type": "stream",
          "name": "stdout",
          "text": [
            "2022-09-10 16:23:40,370 INFO: show_metric:False\t-->\tCalling Count:0\n"
          ]
        },
        {
          "output_type": "stream",
          "name": "stderr",
          "text": [
            "INFO:fast_lcf_atepc:show_metric:False\t-->\tCalling Count:0\n"
          ]
        },
        {
          "output_type": "stream",
          "name": "stdout",
          "text": [
            "2022-09-10 16:23:40,373 INFO: spacy_model:en_core_web_sm\t-->\tCalling Count:3\n"
          ]
        },
        {
          "output_type": "stream",
          "name": "stderr",
          "text": [
            "INFO:fast_lcf_atepc:spacy_model:en_core_web_sm\t-->\tCalling Count:3\n"
          ]
        },
        {
          "output_type": "stream",
          "name": "stdout",
          "text": [
            "2022-09-10 16:23:40,376 INFO: srd_alignment:True\t-->\tCalling Count:0\n"
          ]
        },
        {
          "output_type": "stream",
          "name": "stderr",
          "text": [
            "INFO:fast_lcf_atepc:srd_alignment:True\t-->\tCalling Count:0\n"
          ]
        },
        {
          "output_type": "stream",
          "name": "stdout",
          "text": [
            "2022-09-10 16:23:40,378 INFO: use_amp:False\t-->\tCalling Count:1\n"
          ]
        },
        {
          "output_type": "stream",
          "name": "stderr",
          "text": [
            "INFO:fast_lcf_atepc:use_amp:False\t-->\tCalling Count:1\n"
          ]
        },
        {
          "output_type": "stream",
          "name": "stdout",
          "text": [
            "2022-09-10 16:23:40,381 INFO: use_bert_spc:True\t-->\tCalling Count:15000\n"
          ]
        },
        {
          "output_type": "stream",
          "name": "stderr",
          "text": [
            "INFO:fast_lcf_atepc:use_bert_spc:True\t-->\tCalling Count:15000\n"
          ]
        },
        {
          "output_type": "stream",
          "name": "stdout",
          "text": [
            "2022-09-10 16:23:40,384 INFO: use_syntax_based_SRD:False\t-->\tCalling Count:4722\n"
          ]
        },
        {
          "output_type": "stream",
          "name": "stderr",
          "text": [
            "INFO:fast_lcf_atepc:use_syntax_based_SRD:False\t-->\tCalling Count:4722\n"
          ]
        },
        {
          "output_type": "stream",
          "name": "stdout",
          "text": [
            "2022-09-10 16:23:40,387 INFO: warmup_step:-1\t-->\tCalling Count:2261\n"
          ]
        },
        {
          "output_type": "stream",
          "name": "stderr",
          "text": [
            "INFO:fast_lcf_atepc:warmup_step:-1\t-->\tCalling Count:2261\n"
          ]
        },
        {
          "output_type": "stream",
          "name": "stdout",
          "text": [
            "2022-09-10 16:23:40,390 INFO: window:lr\t-->\tCalling Count:0\n"
          ]
        },
        {
          "output_type": "stream",
          "name": "stderr",
          "text": [
            "INFO:fast_lcf_atepc:window:lr\t-->\tCalling Count:0\n"
          ]
        },
        {
          "output_type": "stream",
          "name": "stdout",
          "text": [
            "Load aspect extractor from checkpoints/fast_lcf_atepc_Restaurant14_cdw_apcacc_85.51_apcf1_78.18_atef1_90.25/\n",
            "config: checkpoints/fast_lcf_atepc_Restaurant14_cdw_apcacc_85.51_apcf1_78.18_atef1_90.25/fast_lcf_atepc.config\n",
            "state_dict: checkpoints/fast_lcf_atepc_Restaurant14_cdw_apcacc_85.51_apcf1_78.18_atef1_90.25/fast_lcf_atepc.state_dict\n",
            "model: None\n",
            "tokenizer: checkpoints/fast_lcf_atepc_Restaurant14_cdw_apcacc_85.51_apcf1_78.18_atef1_90.25/fast_lcf_atepc.tokenizer\n"
          ]
        },
        {
          "output_type": "stream",
          "name": "stderr",
          "text": [
            "Some weights of the model checkpoint at yangheng/deberta-v3-base-absa-v1.1 were not used when initializing DebertaV2Model: ['mask_predictions.classifier.weight', 'mask_predictions.LayerNorm.bias', 'mask_predictions.classifier.bias', 'lm_predictions.lm_head.LayerNorm.weight', 'lm_predictions.lm_head.dense.weight', 'lm_predictions.lm_head.bias', 'lm_predictions.lm_head.LayerNorm.bias', 'mask_predictions.dense.bias', 'lm_predictions.lm_head.dense.bias', 'mask_predictions.dense.weight', 'mask_predictions.LayerNorm.weight']\n",
            "- This IS expected if you are initializing DebertaV2Model from the checkpoint of a model trained on another task or with another architecture (e.g. initializing a BertForSequenceClassification model from a BertForPreTraining model).\n",
            "- This IS NOT expected if you are initializing DebertaV2Model from the checkpoint of a model that you expect to be exactly identical (initializing a BertForSequenceClassification model from a BertForSequenceClassification model).\n",
            "Special tokens have been added in the vocabulary, make sure the associated word embeddings are fine-tuned or trained.\n",
            "Special tokens have been added in the vocabulary, make sure the associated word embeddings are fine-tuned or trained.\n"
          ]
        },
        {
          "output_type": "stream",
          "name": "stdout",
          "text": [
            "Config used in Training:\n",
            "ABSADatasetsVersion:2022.07.22\t-->\tCalling Count:0\n",
            "IOB_label_to_index:{'B-ASP': 1, 'I-ASP': 2, 'O': 3, '[CLS]': 4, '[SEP]': 5}\t-->\tCalling Count:1\n",
            "MV:<metric_visualizer.metric_visualizer.MetricVisualizer object at 0x7f1725264310>\t-->\tCalling Count:0\n",
            "PyABSAVersion:1.16.16\t-->\tCalling Count:0\n",
            "SRD:3\t-->\tCalling Count:9444\n",
            "TorchVersion:1.12.1+cu113+cuda11.3\t-->\tCalling Count:0\n",
            "TransformersVersion:4.21.3\t-->\tCalling Count:0\n",
            "auto_device:True\t-->\tCalling Count:2051\n",
            "batch_size:16\t-->\tCalling Count:5\n",
            "cache_dataset:True\t-->\tCalling Count:1\n",
            "dataset_file:{'train': ['integrated_datasets/atepc_datasets/110.SemEval/114.restaurant14/Restaurants_Train.xml.seg.atepc'], 'test': ['integrated_datasets/atepc_datasets/110.SemEval/114.restaurant14/Restaurants_Test_Gold.xml.seg.atepc'], 'valid': []}\t-->\tCalling Count:88\n",
            "dataset_name:Restaurant14\t-->\tCalling Count:30\n",
            "device:cuda:0\t-->\tCalling Count:70140\n",
            "device_name:Tesla T4\t-->\tCalling Count:0\n",
            "dropout:0.5\t-->\tCalling Count:2\n",
            "dynamic_truncate:True\t-->\tCalling Count:9444\n",
            "embed_dim:768\t-->\tCalling Count:0\n",
            "evaluate_begin:0\t-->\tCalling Count:83\n",
            "gradient_accumulation_steps:1\t-->\tCalling Count:3\n",
            "hidden_dim:768\t-->\tCalling Count:12\n",
            "index_to_IOB_label:{1: 'B-ASP', 2: 'I-ASP', 3: 'O', 4: '[CLS]', 5: '[SEP]'}\t-->\tCalling Count:0\n",
            "index_to_label:{0: 'Negative', 1: 'Neutral', 2: 'Positive'}\t-->\tCalling Count:2\n",
            "initializer:xavier_uniform_\t-->\tCalling Count:0\n",
            "l2reg:1e-05\t-->\tCalling Count:2\n",
            "label_list:['B-ASP', 'I-ASP', 'O', '[CLS]', '[SEP]']\t-->\tCalling Count:85\n",
            "label_to_index:{'Negative': 0, 'Neutral': 1, 'Positive': 2}\t-->\tCalling Count:0\n",
            "lcf:cdw\t-->\tCalling Count:15606\n",
            "learning_rate:2e-05\t-->\tCalling Count:1\n",
            "log_step:50\t-->\tCalling Count:2051\n",
            "max_seq_len:80\t-->\tCalling Count:48636\n",
            "max_test_metrics:{'max_apc_test_acc': 87.66, 'max_apc_test_f1': 81.46, 'max_ate_test_f1': 90.25}\t-->\tCalling Count:579\n",
            "metrics_of_this_checkpoint:{'apc_acc': 85.51, 'apc_f1': 78.18, 'ate_f1': 90.25}\t-->\tCalling Count:246\n",
            "model:<class 'pyabsa.core.atepc.models.fast_lcf_atepc.FAST_LCF_ATEPC'>\t-->\tCalling Count:6\n",
            "model_name:fast_lcf_atepc\t-->\tCalling Count:4853\n",
            "model_path_to_save:checkpoints\t-->\tCalling Count:55\n",
            "num_epoch:10\t-->\tCalling Count:2\n",
            "num_labels:6\t-->\tCalling Count:6\n",
            "optimizer:adamw\t-->\tCalling Count:2\n",
            "patience:99999\t-->\tCalling Count:27\n",
            "output_dim:3\t-->\tCalling Count:84\n",
            "pretrained_bert:yangheng/deberta-v3-base-absa-v1.1\t-->\tCalling Count:7\n",
            "save_mode:1\t-->\tCalling Count:51\n",
            "seed:52\t-->\tCalling Count:7\n",
            "sep_indices:2\t-->\tCalling Count:216044\n",
            "show_metric:False\t-->\tCalling Count:0\n",
            "spacy_model:en_core_web_sm\t-->\tCalling Count:3\n",
            "srd_alignment:True\t-->\tCalling Count:0\n",
            "use_amp:False\t-->\tCalling Count:1\n",
            "use_bert_spc:True\t-->\tCalling Count:13530\n",
            "use_syntax_based_SRD:False\t-->\tCalling Count:4722\n",
            "warmup_step:-1\t-->\tCalling Count:2051\n",
            "window:lr\t-->\tCalling Count:0\n"
          ]
        }
      ]
    },
    {
      "cell_type": "markdown",
      "source": [
        "# Train on your own dataset from a checkpoint"
      ],
      "metadata": {
        "id": "d075em2TWHHW"
      }
    },
    {
      "cell_type": "code",
      "source": [
        "import os\n",
        "\n",
        "import findfile\n",
        "\n",
        "from pyabsa.framework import ATEPCModelList\n",
        "from pyabsa.framework import Trainer, ATEPCTrainer\n",
        "from pyabsa.framework import ABSADatasetList\n",
        "from pyabsa.framework import ATEPCConfigManager\n",
        "from pyabsa.framework.dataset import DatasetItem\n",
        "\n",
        "config = ATEPCConfigManager.get_atepc_config_english()\n",
        "\n",
        "checkpoint_path = ATEPCCheckpointManager.get_checkpoint(checkpoint='multilingual')  # or\n",
        "# checkpoint_path = 'lcfs_atepc_cdw_apcacc_86.17_apcf1_58.3_atef1_70.86'\n",
        "\n",
        "config.model = ATEPCModelList.FAST_LCF_ATEPC\n",
        "config.evaluate_begin = 4\n",
        "config.num_epoch = 5\n",
        "\n",
        "Restaurant14 = ABSADatasetList.Restaurant14\n",
        "aspect_extractor = Trainer(config=config,\n",
        "              dataset=Restaurant14,\n",
        "              from_checkpoint=checkpoint_path,\n",
        "              checkpoint_save_mode=1,\n",
        "              auto_device=True\n",
        "              ).load_trained_model()\n",
        "\n"
      ],
      "metadata": {
        "id": "JIZYKTxBWPBy",
        "colab": {
          "base_uri": "https://localhost:8080/",
          "height": 1000,
          "referenced_widgets": [
            "cb35ef12ee4f4a009096962ab3699a04",
            "8b0f4e31c7124b7681f46026e8383437",
            "1266480a62424c7c8066b1a4afba231f",
            "7e805e382da7417cb8eab85bf396aba3",
            "21e6af562fd648618e7bfd59dc6e2a9c",
            "c078fb05458f46ceb98f5470c271ddd0",
            "2fcb58d1946a400988761ec6fd17b07c",
            "867b343a1ca948f195223b0f2e528e94",
            "a89827c2336240bcae359fd47feeef34",
            "f49dde86aad34a5db975ce6c15b3a3a3",
            "d18866be4d034a21b560d9128f867d2e",
            "b6cd4da4affe42318a72c308a04d8d52",
            "68ad4190e03a4399877b7e3819c7a9df",
            "9ca613ac1a3b4b7dafa4606dd49006da",
            "fd43911599024027ad7ffc20154cc1b3",
            "7364c90bb5ed4f6484d8f82be7b7c931",
            "1fc7b06e29534c1a80e6ebb7554981e6",
            "8d2f763c75304a6a8b09373cd1409b9f",
            "9d0745d6d62a466bb9849f55c7e93114",
            "6ec5fd5a22894d9a98e20d0f1624882d",
            "dbf9083b1f044bfbb4fb6e5f4ee08e0a",
            "93c392238914456db8465db56c0d58e0",
            "3f877f84801c409ba1289d8546c273a7",
            "b07dc8b541ae4f4d87b5e03803e78d25",
            "a0ef4f6136484f61af2c8bce710e62fd",
            "5f37d23e2ae94b608abd7f30788b16ed",
            "29699a40061d459e835dd4a0475ae272",
            "506b93e213bb46fd88090f885349db64",
            "d5d25f78de544ac2920f92d62f78ae27",
            "ba456f7010714a3fb8ccef5cf737a1c4",
            "85b1dec5fa1548ababaf852ebfea50b3",
            "798961b62a5f4ebe80504a08b124ce2c",
            "55d4b0d9bb1741509d1959aebea41bf2",
            "a96bf5d5372b45ddbafa70cb7e974e00",
            "3891ed1d2ecc447e8082968be91be5f9",
            "7bf092cbc94043f987098ccd8400364c",
            "439bfef2c09143078a8aff62d5ae361f",
            "6c7e633c597a437dab739c673309a290",
            "e5b7fafc86744eed9b80df0aa6bb6a91",
            "fccb6f1362314391a4eb63a12fc20c2c",
            "92a208f0ee0a44a582b5a7fde223441e",
            "7ab095af688e4c15872525080d9d662a",
            "cd79625ace494478aa44a09f3c75e607",
            "9441f2eaf6ff44d886cb71519213b9cc"
          ]
        },
        "outputId": "5acd7398-3ab3-4717-9fc7-a9ee0079918b"
      },
      "execution_count": null,
      "outputs": [
        {
          "output_type": "stream",
          "name": "stdout",
          "text": [
            "********** \u001b[32mAvailable ATEPC model checkpoints for Version:1.16.16 (this version)\u001b[0m **********\n",
            "----------------------------------------------------------------------------------------------------\n",
            "Checkpoint Name: english\n",
            "id: \n",
            "Training Model: FAST-LCFS-ATEPC\n",
            "Training Dataset: English\n",
            "Language: English\n",
            "Description: Trained on RTX3090, this checkpoint use bert-spc in ATEPC training\n",
            "Available Version: 1.16.0+\n",
            "Checkpoint File: fast_lcf_atepc_English_cdw_apcacc_85.4_apcf1_82.53_atef1_80.19.zip\n",
            "Author: H, Yang (yangheng@m.scnu.edu.cn)\n",
            "----------------------------------------------------------------------------------------------------\n",
            "----------------------------------------------------------------------------------------------------\n",
            "Checkpoint Name: chinese\n",
            "id: \n",
            "Training Model: FAST-LCF-ATEPC\n",
            "Training Dataset: Chinese\n",
            "Language: Chinese\n",
            "Description: Trained on RTX3090 BERT-BASE-CHINESE\n",
            "Available Version: 1.16.0+\n",
            "Checkpoint File: fast_lcf_atepc_Chinese_cdw_apcacc_96.09_apcf1_95.14_atef1_83.69.zip\n",
            "Author: H, Yang (yangheng@m.scnu.edu.cn)\n",
            "----------------------------------------------------------------------------------------------------\n",
            "----------------------------------------------------------------------------------------------------\n",
            "Checkpoint Name: multilingual\n",
            "id: \n",
            "Training Model: FAST-LCF-ATEPC\n",
            "Training Dataset: ABSADatasets.Multilingual\n",
            "Language: Multilingual\n",
            "Description: Trained on RTX3090\n",
            "Available Version: 1.16.0+\n",
            "Checkpoint File: fast_lcf_atepc_Multilingual_cdw_apcacc_86.76_apcf1_79.78_atef1_78.03.zip\n",
            "Author: H, Yang (yangheng@m.scnu.edu.cn)\n",
            "----------------------------------------------------------------------------------------------------\n",
            "----------------------------------------------------------------------------------------------------\n",
            "Checkpoint Name: multilingual-256\n",
            "id: \n",
            "Training Model: FAST-LCF-ATEPC\n",
            "Training Dataset: ABSADatasets.Multilingual\n",
            "Language: Multilingual\n",
            "Description: Trained on RTX3090\n",
            "Available Version: 1.16.0+\n",
            "Checkpoint File: fast_lcf_atepc_Multilingual_cdw_apcacc_87.09_apcf1_79.95_atef1_75.55.zip\n",
            "Author: H, Yang (yangheng@m.scnu.edu.cn)\n",
            "----------------------------------------------------------------------------------------------------\n",
            "----------------------------------------------------------------------------------------------------\n",
            "Checkpoint Name: multilingual-256-2\n",
            "id: \n",
            "Training Model: FAST-LCF-ATEPC\n",
            "Training Dataset: ABSADatasets.Multilingual\n",
            "Language: Multilingual\n",
            "Description: Trained on RTX3090\n",
            "Available Version: 1.16.0+\n",
            "Checkpoint File: fast_lcf_atepc_Multilingual_cdw_apcacc_86.68_apcf1_80.63_atef1_75.15.zip\n",
            "Author: H, Yang (yangheng@m.scnu.edu.cn)\n",
            "----------------------------------------------------------------------------------------------------\n",
            "----------------------------------------------------------------------------------------------------\n",
            "Checkpoint Name: HELP-WANTED\n",
            "id: \n",
            "Description: You can help us by sharing checkpoints (e.g. models trained on you own datasets) with community.\n",
            "Checkpoint File: PLEASE NOTE THAT THIS IS NOT A REAL CHECKPOINT!\n",
            "Available Version: \n",
            "----------------------------------------------------------------------------------------------------\n",
            "\u001b[33mThere may be some checkpoints available for early versions of PyABSA, see ATEPC\u001b[0m\n",
            "\u001b[32mDownloading checkpoint:multilingual ...\u001b[0m\n",
            "\u001b[31mNotice: The pretrained model are used for testing, it is recommended to train the model on your own custom datasets\u001b[0m\n",
            "Checkpoint already downloaded, skip...\n"
          ]
        },
        {
          "output_type": "display_data",
          "data": {
            "text/plain": [
              "Downloading config.json:   0%|          | 0.00/579 [00:00<?, ?B/s]"
            ],
            "application/vnd.jupyter.widget-view+json": {
              "version_major": 2,
              "version_minor": 0,
              "model_id": "cb35ef12ee4f4a009096962ab3699a04"
            }
          },
          "metadata": {}
        },
        {
          "output_type": "stream",
          "name": "stdout",
          "text": [
            "Remote ABSADataset version: 2022.07.22 Local ABSADatasets version: 2022.07.22\n",
            "Dataset is not a path, treat dataset as keywords to Load 114.Restaurant14 from: 114.Restaurant14 or Search https://github.com/yangheng95/ABSADatasets locally using findfile\n",
            "\u001b[32mYou can set load_aug=True in a trainer to augment your dataset (English only yet) and improve performance.\u001b[0m\n",
            "\u001b[32mPlease use a new folder to perform new text augmentation if the former augmentation exited unexpectedly\u001b[0m\n"
          ]
        },
        {
          "output_type": "display_data",
          "data": {
            "text/plain": [
              "Downloading tokenizer_config.json:   0%|          | 0.00/52.0 [00:00<?, ?B/s]"
            ],
            "application/vnd.jupyter.widget-view+json": {
              "version_major": 2,
              "version_minor": 0,
              "model_id": "b6cd4da4affe42318a72c308a04d8d52"
            }
          },
          "metadata": {}
        },
        {
          "output_type": "display_data",
          "data": {
            "text/plain": [
              "Downloading spm.model:   0%|          | 0.00/2.35M [00:00<?, ?B/s]"
            ],
            "application/vnd.jupyter.widget-view+json": {
              "version_major": 2,
              "version_minor": 0,
              "model_id": "3f877f84801c409ba1289d8546c273a7"
            }
          },
          "metadata": {}
        },
        {
          "output_type": "stream",
          "name": "stderr",
          "text": [
            "Special tokens have been added in the vocabulary, make sure the associated word embeddings are fine-tuned or trained.\n",
            "Special tokens have been added in the vocabulary, make sure the associated word embeddings are fine-tuned or trained.\n"
          ]
        },
        {
          "output_type": "display_data",
          "data": {
            "text/plain": [
              "Downloading pytorch_model.bin:   0%|          | 0.00/354M [00:00<?, ?B/s]"
            ],
            "application/vnd.jupyter.widget-view+json": {
              "version_major": 2,
              "version_minor": 0,
              "model_id": "a96bf5d5372b45ddbafa70cb7e974e00"
            }
          },
          "metadata": {}
        },
        {
          "output_type": "stream",
          "name": "stderr",
          "text": [
            "Some weights of the model checkpoint at yangheng/deberta-v3-base-absa-v1.1 were not used when initializing DebertaV2Model: ['lm_predictions.lm_head.bias', 'lm_predictions.lm_head.LayerNorm.bias', 'mask_predictions.dense.bias', 'mask_predictions.dense.weight', 'lm_predictions.lm_head.dense.weight', 'lm_predictions.lm_head.dense.bias', 'mask_predictions.classifier.bias', 'mask_predictions.LayerNorm.weight', 'mask_predictions.LayerNorm.bias', 'lm_predictions.lm_head.LayerNorm.weight', 'mask_predictions.classifier.weight']\n",
            "- This IS expected if you are initializing DebertaV2Model from the checkpoint of a model trained on another task or with another architecture (e.g. initializing a BertForSequenceClassification model from a BertForPreTraining model).\n",
            "- This IS NOT expected if you are initializing DebertaV2Model from the checkpoint of a model that you expect to be exactly identical (initializing a BertForSequenceClassification model from a BertForSequenceClassification model).\n",
            " 19%|█▉        | 696/3608 [00:02<00:08, 360.40it/s, convert examples to features]"
          ]
        },
        {
          "output_type": "stream",
          "name": "stdout",
          "text": [
            "\u001b[33mAspectTooLongWarning -> <aspect: fried mini buns with the condensed milk and the assorted fruits on beancurd> is too long, <text: The waitress remembers me and is very friendly , she knows what my regular is and that ' s the fried mini buns with the condensed milk and the assorted fruits on beancurd .>, <polarity: Positive>\u001b[0m\n"
          ]
        },
        {
          "output_type": "stream",
          "name": "stderr",
          "text": [
            " 49%|████▊     | 1758/3608 [00:05<00:05, 342.01it/s, convert examples to features]"
          ]
        },
        {
          "output_type": "stream",
          "name": "stdout",
          "text": [
            "\u001b[33mAspectTooLongWarning -> <aspect: salad with perfectly marinated cucumbers and tomatoes with lots of shrimp and basil> is too long, <text: I ate clams oreganta and spectacular salad with perfectly marinated cucumbers and tomatoes with lots of shrimp and basil .>, <polarity: Positive>\u001b[0m\n"
          ]
        },
        {
          "output_type": "stream",
          "name": "stderr",
          "text": [
            " 57%|█████▋    | 2065/3608 [00:06<00:04, 332.97it/s, convert examples to features]"
          ]
        },
        {
          "output_type": "stream",
          "name": "stdout",
          "text": [
            "\u001b[33mAspectTooLongWarning -> <aspect: Godmother pizza ( a sort of traditional flat pizza with an olive oil - brushed crust and less tomato sauce than usual )> is too long, <text: But they ' ve done a really nice job of offering all the typical pizzeria faves plus some terrific specials like the Godmother pizza ( a sort of traditional flat pizza with an olive oil - brushed crust and less tomato sauce than usual ) .>, <polarity: Positive>\u001b[0m\n"
          ]
        },
        {
          "output_type": "stream",
          "name": "stderr",
          "text": [
            " 92%|█████████▏| 3322/3608 [00:10<00:00, 306.34it/s, convert examples to features]"
          ]
        },
        {
          "output_type": "stream",
          "name": "stdout",
          "text": [
            "\u001b[33mAspectTooLongWarning -> <aspect: egg noodles in the beef broth with shrimp dumplings and slices of BBQ roast pork> is too long, <text: I fell in love with the egg noodles in the beef broth with shrimp dumplings and slices of BBQ roast pork .>, <polarity: Positive>\u001b[0m\n"
          ]
        },
        {
          "output_type": "stream",
          "name": "stderr",
          "text": [
            "100%|██████████| 3608/3608 [00:11<00:00, 318.22it/s, convert examples to features]\n"
          ]
        },
        {
          "output_type": "stream",
          "name": "stdout",
          "text": [
            "Dataset Label Details: {'Negative': 807, 'Positive': 2160, 'Neutral': 637, 'Sum': 3604}\n"
          ]
        },
        {
          "output_type": "stream",
          "name": "stderr",
          "text": [
            " 59%|█████▉    | 659/1120 [00:01<00:01, 330.46it/s, convert examples to features]"
          ]
        },
        {
          "output_type": "stream",
          "name": "stdout",
          "text": [
            "\u001b[33mAspectTooLongWarning -> <aspect: Mediterranean salads - - layered with beets , goat cheese and walnuts> is too long, <text: Generously garnished , organic grilled burgers are the most popular dish , but the Jerusalem market - style falafel wraps and Mediterranean salads - - layered with beets , goat cheese and walnuts - - are equally scrumptious .>, <polarity: Positive>\u001b[0m\n"
          ]
        },
        {
          "output_type": "stream",
          "name": "stderr",
          "text": [
            "100%|██████████| 1120/1120 [00:03<00:00, 327.72it/s, convert examples to features]\n"
          ]
        },
        {
          "output_type": "stream",
          "name": "stdout",
          "text": [
            "\u001b[33mAspectTooLongWarning -> <aspect: Greek yogurt ( with cuccumber , dill , and garlic )> is too long, <text: Creamy appetizers - - taramasalata , eggplant salad , and Greek yogurt ( with cuccumber , dill , and garlic ) taste excellent when on warm pitas .>, <polarity: Positive>\u001b[0m\n",
            "Dataset Label Details: {'Negative': 196, 'Positive': 726, 'Neutral': 196, 'Sum': 1118}\n",
            "\u001b[31mCaching dataset... please remove cached dataset if any problem happens.\u001b[0m\n",
            "2022-09-11 13:02:47,946 INFO: cuda memory allocated:1906149376\n"
          ]
        },
        {
          "output_type": "stream",
          "name": "stderr",
          "text": [
            "INFO:fast_lcf_atepc:cuda memory allocated:1906149376\n"
          ]
        },
        {
          "output_type": "stream",
          "name": "stdout",
          "text": [
            "2022-09-11 13:02:47,951 INFO: ABSADatasetsVersion:2022.07.22\t-->\tCalling Count:0\n"
          ]
        },
        {
          "output_type": "stream",
          "name": "stderr",
          "text": [
            "INFO:fast_lcf_atepc:ABSADatasetsVersion:2022.07.22\t-->\tCalling Count:0\n"
          ]
        },
        {
          "output_type": "stream",
          "name": "stdout",
          "text": [
            "2022-09-11 13:02:47,957 INFO: IOB_label_to_index:{'B-ASP': 1, 'I-ASP': 2, 'O': 3, '[CLS]': 4, '[SEP]': 5}\t-->\tCalling Count:1\n"
          ]
        },
        {
          "output_type": "stream",
          "name": "stderr",
          "text": [
            "INFO:fast_lcf_atepc:IOB_label_to_index:{'B-ASP': 1, 'I-ASP': 2, 'O': 3, '[CLS]': 4, '[SEP]': 5}\t-->\tCalling Count:1\n"
          ]
        },
        {
          "output_type": "stream",
          "name": "stdout",
          "text": [
            "2022-09-11 13:02:47,963 INFO: MV:<metric_visualizer.metric_visualizer.MetricVisualizer object at 0x7fe0ef3fc590>\t-->\tCalling Count:0\n"
          ]
        },
        {
          "output_type": "stream",
          "name": "stderr",
          "text": [
            "INFO:fast_lcf_atepc:MV:<metric_visualizer.metric_visualizer.MetricVisualizer object at 0x7fe0ef3fc590>\t-->\tCalling Count:0\n"
          ]
        },
        {
          "output_type": "stream",
          "name": "stdout",
          "text": [
            "2022-09-11 13:02:47,969 INFO: PyABSAVersion:1.16.16\t-->\tCalling Count:0\n"
          ]
        },
        {
          "output_type": "stream",
          "name": "stderr",
          "text": [
            "INFO:fast_lcf_atepc:PyABSAVersion:1.16.16\t-->\tCalling Count:0\n"
          ]
        },
        {
          "output_type": "stream",
          "name": "stdout",
          "text": [
            "2022-09-11 13:02:47,975 INFO: SRD:3\t-->\tCalling Count:9444\n"
          ]
        },
        {
          "output_type": "stream",
          "name": "stderr",
          "text": [
            "INFO:fast_lcf_atepc:SRD:3\t-->\tCalling Count:9444\n"
          ]
        },
        {
          "output_type": "stream",
          "name": "stdout",
          "text": [
            "2022-09-11 13:02:47,982 INFO: TorchVersion:1.12.1+cu113+cuda11.3\t-->\tCalling Count:0\n"
          ]
        },
        {
          "output_type": "stream",
          "name": "stderr",
          "text": [
            "INFO:fast_lcf_atepc:TorchVersion:1.12.1+cu113+cuda11.3\t-->\tCalling Count:0\n"
          ]
        },
        {
          "output_type": "stream",
          "name": "stdout",
          "text": [
            "2022-09-11 13:02:47,984 INFO: TransformersVersion:4.21.3\t-->\tCalling Count:0\n"
          ]
        },
        {
          "output_type": "stream",
          "name": "stderr",
          "text": [
            "INFO:fast_lcf_atepc:TransformersVersion:4.21.3\t-->\tCalling Count:0\n"
          ]
        },
        {
          "output_type": "stream",
          "name": "stdout",
          "text": [
            "2022-09-11 13:02:47,986 INFO: auto_device:True\t-->\tCalling Count:1\n"
          ]
        },
        {
          "output_type": "stream",
          "name": "stderr",
          "text": [
            "INFO:fast_lcf_atepc:auto_device:True\t-->\tCalling Count:1\n"
          ]
        },
        {
          "output_type": "stream",
          "name": "stdout",
          "text": [
            "2022-09-11 13:02:47,989 INFO: batch_size:16\t-->\tCalling Count:4\n"
          ]
        },
        {
          "output_type": "stream",
          "name": "stderr",
          "text": [
            "INFO:fast_lcf_atepc:batch_size:16\t-->\tCalling Count:4\n"
          ]
        },
        {
          "output_type": "stream",
          "name": "stdout",
          "text": [
            "2022-09-11 13:02:47,991 INFO: cache_dataset:True\t-->\tCalling Count:1\n"
          ]
        },
        {
          "output_type": "stream",
          "name": "stderr",
          "text": [
            "INFO:fast_lcf_atepc:cache_dataset:True\t-->\tCalling Count:1\n"
          ]
        },
        {
          "output_type": "stream",
          "name": "stdout",
          "text": [
            "2022-09-11 13:02:47,993 INFO: dataset_file:{'train': ['integrated_datasets/atepc_datasets/110.SemEval/114.restaurant14/Restaurants_Train.xml.seg.atepc'], 'test': ['integrated_datasets/atepc_datasets/110.SemEval/114.restaurant14/Restaurants_Test_Gold.xml.seg.atepc'], 'valid': []}\t-->\tCalling Count:6\n"
          ]
        },
        {
          "output_type": "stream",
          "name": "stderr",
          "text": [
            "INFO:fast_lcf_atepc:dataset_file:{'train': ['integrated_datasets/atepc_datasets/110.SemEval/114.restaurant14/Restaurants_Train.xml.seg.atepc'], 'test': ['integrated_datasets/atepc_datasets/110.SemEval/114.restaurant14/Restaurants_Test_Gold.xml.seg.atepc'], 'valid': []}\t-->\tCalling Count:6\n"
          ]
        },
        {
          "output_type": "stream",
          "name": "stdout",
          "text": [
            "2022-09-11 13:02:47,996 INFO: dataset_name:Restaurant14\t-->\tCalling Count:3\n"
          ]
        },
        {
          "output_type": "stream",
          "name": "stderr",
          "text": [
            "INFO:fast_lcf_atepc:dataset_name:Restaurant14\t-->\tCalling Count:3\n"
          ]
        },
        {
          "output_type": "stream",
          "name": "stdout",
          "text": [
            "2022-09-11 13:02:47,998 INFO: device:cuda:0\t-->\tCalling Count:5\n"
          ]
        },
        {
          "output_type": "stream",
          "name": "stderr",
          "text": [
            "INFO:fast_lcf_atepc:device:cuda:0\t-->\tCalling Count:5\n"
          ]
        },
        {
          "output_type": "stream",
          "name": "stdout",
          "text": [
            "2022-09-11 13:02:48,001 INFO: device_name:Tesla T4\t-->\tCalling Count:0\n"
          ]
        },
        {
          "output_type": "stream",
          "name": "stderr",
          "text": [
            "INFO:fast_lcf_atepc:device_name:Tesla T4\t-->\tCalling Count:0\n"
          ]
        },
        {
          "output_type": "stream",
          "name": "stdout",
          "text": [
            "2022-09-11 13:02:48,003 INFO: dropout:0.5\t-->\tCalling Count:1\n"
          ]
        },
        {
          "output_type": "stream",
          "name": "stderr",
          "text": [
            "INFO:fast_lcf_atepc:dropout:0.5\t-->\tCalling Count:1\n"
          ]
        },
        {
          "output_type": "stream",
          "name": "stdout",
          "text": [
            "2022-09-11 13:02:48,006 INFO: dynamic_truncate:True\t-->\tCalling Count:9444\n"
          ]
        },
        {
          "output_type": "stream",
          "name": "stderr",
          "text": [
            "INFO:fast_lcf_atepc:dynamic_truncate:True\t-->\tCalling Count:9444\n"
          ]
        },
        {
          "output_type": "stream",
          "name": "stdout",
          "text": [
            "2022-09-11 13:02:48,008 INFO: embed_dim:768\t-->\tCalling Count:0\n"
          ]
        },
        {
          "output_type": "stream",
          "name": "stderr",
          "text": [
            "INFO:fast_lcf_atepc:embed_dim:768\t-->\tCalling Count:0\n"
          ]
        },
        {
          "output_type": "stream",
          "name": "stdout",
          "text": [
            "2022-09-11 13:02:48,011 INFO: evaluate_begin:4\t-->\tCalling Count:0\n"
          ]
        },
        {
          "output_type": "stream",
          "name": "stderr",
          "text": [
            "INFO:fast_lcf_atepc:evaluate_begin:4\t-->\tCalling Count:0\n"
          ]
        },
        {
          "output_type": "stream",
          "name": "stdout",
          "text": [
            "2022-09-11 13:02:48,014 INFO: gradient_accumulation_steps:1\t-->\tCalling Count:3\n"
          ]
        },
        {
          "output_type": "stream",
          "name": "stderr",
          "text": [
            "INFO:fast_lcf_atepc:gradient_accumulation_steps:1\t-->\tCalling Count:3\n"
          ]
        },
        {
          "output_type": "stream",
          "name": "stdout",
          "text": [
            "2022-09-11 13:02:48,017 INFO: hidden_dim:768\t-->\tCalling Count:6\n"
          ]
        },
        {
          "output_type": "stream",
          "name": "stderr",
          "text": [
            "INFO:fast_lcf_atepc:hidden_dim:768\t-->\tCalling Count:6\n"
          ]
        },
        {
          "output_type": "stream",
          "name": "stdout",
          "text": [
            "2022-09-11 13:02:48,019 INFO: index_to_IOB_label:{1: 'B-ASP', 2: 'I-ASP', 3: 'O', 4: '[CLS]', 5: '[SEP]'}\t-->\tCalling Count:0\n"
          ]
        },
        {
          "output_type": "stream",
          "name": "stderr",
          "text": [
            "INFO:fast_lcf_atepc:index_to_IOB_label:{1: 'B-ASP', 2: 'I-ASP', 3: 'O', 4: '[CLS]', 5: '[SEP]'}\t-->\tCalling Count:0\n"
          ]
        },
        {
          "output_type": "stream",
          "name": "stdout",
          "text": [
            "2022-09-11 13:02:48,022 INFO: index_to_label:{0: 'Negative', 1: 'Neutral', 2: 'Positive'}\t-->\tCalling Count:2\n"
          ]
        },
        {
          "output_type": "stream",
          "name": "stderr",
          "text": [
            "INFO:fast_lcf_atepc:index_to_label:{0: 'Negative', 1: 'Neutral', 2: 'Positive'}\t-->\tCalling Count:2\n"
          ]
        },
        {
          "output_type": "stream",
          "name": "stdout",
          "text": [
            "2022-09-11 13:02:48,024 INFO: initializer:xavier_uniform_\t-->\tCalling Count:0\n"
          ]
        },
        {
          "output_type": "stream",
          "name": "stderr",
          "text": [
            "INFO:fast_lcf_atepc:initializer:xavier_uniform_\t-->\tCalling Count:0\n"
          ]
        },
        {
          "output_type": "stream",
          "name": "stdout",
          "text": [
            "2022-09-11 13:02:48,027 INFO: l2reg:1e-05\t-->\tCalling Count:2\n"
          ]
        },
        {
          "output_type": "stream",
          "name": "stderr",
          "text": [
            "INFO:fast_lcf_atepc:l2reg:1e-05\t-->\tCalling Count:2\n"
          ]
        },
        {
          "output_type": "stream",
          "name": "stdout",
          "text": [
            "2022-09-11 13:02:48,030 INFO: label_list:['B-ASP', 'I-ASP', 'O', '[CLS]', '[SEP]']\t-->\tCalling Count:2\n"
          ]
        },
        {
          "output_type": "stream",
          "name": "stderr",
          "text": [
            "INFO:fast_lcf_atepc:label_list:['B-ASP', 'I-ASP', 'O', '[CLS]', '[SEP]']\t-->\tCalling Count:2\n"
          ]
        },
        {
          "output_type": "stream",
          "name": "stdout",
          "text": [
            "2022-09-11 13:02:48,032 INFO: label_to_index:{'Negative': 0, 'Neutral': 1, 'Positive': 2}\t-->\tCalling Count:0\n"
          ]
        },
        {
          "output_type": "stream",
          "name": "stderr",
          "text": [
            "INFO:fast_lcf_atepc:label_to_index:{'Negative': 0, 'Neutral': 1, 'Positive': 2}\t-->\tCalling Count:0\n"
          ]
        },
        {
          "output_type": "stream",
          "name": "stdout",
          "text": [
            "2022-09-11 13:02:48,034 INFO: lcf:cdw\t-->\tCalling Count:0\n"
          ]
        },
        {
          "output_type": "stream",
          "name": "stderr",
          "text": [
            "INFO:fast_lcf_atepc:lcf:cdw\t-->\tCalling Count:0\n"
          ]
        },
        {
          "output_type": "stream",
          "name": "stdout",
          "text": [
            "2022-09-11 13:02:48,037 INFO: learning_rate:2e-05\t-->\tCalling Count:1\n"
          ]
        },
        {
          "output_type": "stream",
          "name": "stderr",
          "text": [
            "INFO:fast_lcf_atepc:learning_rate:2e-05\t-->\tCalling Count:1\n"
          ]
        },
        {
          "output_type": "stream",
          "name": "stdout",
          "text": [
            "2022-09-11 13:02:48,039 INFO: log_step:50\t-->\tCalling Count:0\n"
          ]
        },
        {
          "output_type": "stream",
          "name": "stderr",
          "text": [
            "INFO:fast_lcf_atepc:log_step:50\t-->\tCalling Count:0\n"
          ]
        },
        {
          "output_type": "stream",
          "name": "stdout",
          "text": [
            "2022-09-11 13:02:48,041 INFO: max_seq_len:80\t-->\tCalling Count:33056\n"
          ]
        },
        {
          "output_type": "stream",
          "name": "stderr",
          "text": [
            "INFO:fast_lcf_atepc:max_seq_len:80\t-->\tCalling Count:33056\n"
          ]
        },
        {
          "output_type": "stream",
          "name": "stdout",
          "text": [
            "2022-09-11 13:02:48,044 INFO: model:<class 'pyabsa.core.atepc.models.fast_lcf_atepc.FAST_LCF_ATEPC'>\t-->\tCalling Count:5\n"
          ]
        },
        {
          "output_type": "stream",
          "name": "stderr",
          "text": [
            "INFO:fast_lcf_atepc:model:<class 'pyabsa.core.atepc.models.fast_lcf_atepc.FAST_LCF_ATEPC'>\t-->\tCalling Count:5\n"
          ]
        },
        {
          "output_type": "stream",
          "name": "stdout",
          "text": [
            "2022-09-11 13:02:48,046 INFO: model_name:fast_lcf_atepc\t-->\tCalling Count:4724\n"
          ]
        },
        {
          "output_type": "stream",
          "name": "stderr",
          "text": [
            "INFO:fast_lcf_atepc:model_name:fast_lcf_atepc\t-->\tCalling Count:4724\n"
          ]
        },
        {
          "output_type": "stream",
          "name": "stdout",
          "text": [
            "2022-09-11 13:02:48,049 INFO: model_path_to_save:checkpoints\t-->\tCalling Count:2\n"
          ]
        },
        {
          "output_type": "stream",
          "name": "stderr",
          "text": [
            "INFO:fast_lcf_atepc:model_path_to_save:checkpoints\t-->\tCalling Count:2\n"
          ]
        },
        {
          "output_type": "stream",
          "name": "stdout",
          "text": [
            "2022-09-11 13:02:48,052 INFO: num_epoch:5\t-->\tCalling Count:1\n"
          ]
        },
        {
          "output_type": "stream",
          "name": "stderr",
          "text": [
            "INFO:fast_lcf_atepc:num_epoch:5\t-->\tCalling Count:1\n"
          ]
        },
        {
          "output_type": "stream",
          "name": "stdout",
          "text": [
            "2022-09-11 13:02:48,054 INFO: num_labels:6\t-->\tCalling Count:3\n"
          ]
        },
        {
          "output_type": "stream",
          "name": "stderr",
          "text": [
            "INFO:fast_lcf_atepc:num_labels:6\t-->\tCalling Count:3\n"
          ]
        },
        {
          "output_type": "stream",
          "name": "stdout",
          "text": [
            "2022-09-11 13:02:48,057 INFO: optimizer:adamw\t-->\tCalling Count:2\n"
          ]
        },
        {
          "output_type": "stream",
          "name": "stderr",
          "text": [
            "INFO:fast_lcf_atepc:optimizer:adamw\t-->\tCalling Count:2\n"
          ]
        },
        {
          "output_type": "stream",
          "name": "stdout",
          "text": [
            "2022-09-11 13:02:48,059 INFO: patience:99999\t-->\tCalling Count:0\n"
          ]
        },
        {
          "output_type": "stream",
          "name": "stderr",
          "text": [
            "INFO:fast_lcf_atepc:patience:99999\t-->\tCalling Count:0\n"
          ]
        },
        {
          "output_type": "stream",
          "name": "stdout",
          "text": [
            "2022-09-11 13:02:48,061 INFO: output_dim:3\t-->\tCalling Count:1\n"
          ]
        },
        {
          "output_type": "stream",
          "name": "stderr",
          "text": [
            "INFO:fast_lcf_atepc:output_dim:3\t-->\tCalling Count:1\n"
          ]
        },
        {
          "output_type": "stream",
          "name": "stdout",
          "text": [
            "2022-09-11 13:02:48,064 INFO: pretrained_bert:yangheng/deberta-v3-base-absa-v1.1\t-->\tCalling Count:4\n"
          ]
        },
        {
          "output_type": "stream",
          "name": "stderr",
          "text": [
            "INFO:fast_lcf_atepc:pretrained_bert:yangheng/deberta-v3-base-absa-v1.1\t-->\tCalling Count:4\n"
          ]
        },
        {
          "output_type": "stream",
          "name": "stdout",
          "text": [
            "2022-09-11 13:02:48,066 INFO: save_mode:1\t-->\tCalling Count:0\n"
          ]
        },
        {
          "output_type": "stream",
          "name": "stderr",
          "text": [
            "INFO:fast_lcf_atepc:save_mode:1\t-->\tCalling Count:0\n"
          ]
        },
        {
          "output_type": "stream",
          "name": "stdout",
          "text": [
            "2022-09-11 13:02:48,069 INFO: seed:52\t-->\tCalling Count:7\n"
          ]
        },
        {
          "output_type": "stream",
          "name": "stderr",
          "text": [
            "INFO:fast_lcf_atepc:seed:52\t-->\tCalling Count:7\n"
          ]
        },
        {
          "output_type": "stream",
          "name": "stdout",
          "text": [
            "2022-09-11 13:02:48,071 INFO: sep_indices:2\t-->\tCalling Count:0\n"
          ]
        },
        {
          "output_type": "stream",
          "name": "stderr",
          "text": [
            "INFO:fast_lcf_atepc:sep_indices:2\t-->\tCalling Count:0\n"
          ]
        },
        {
          "output_type": "stream",
          "name": "stdout",
          "text": [
            "2022-09-11 13:02:48,074 INFO: show_metric:False\t-->\tCalling Count:0\n"
          ]
        },
        {
          "output_type": "stream",
          "name": "stderr",
          "text": [
            "INFO:fast_lcf_atepc:show_metric:False\t-->\tCalling Count:0\n"
          ]
        },
        {
          "output_type": "stream",
          "name": "stdout",
          "text": [
            "2022-09-11 13:02:48,076 INFO: spacy_model:en_core_web_sm\t-->\tCalling Count:3\n"
          ]
        },
        {
          "output_type": "stream",
          "name": "stderr",
          "text": [
            "INFO:fast_lcf_atepc:spacy_model:en_core_web_sm\t-->\tCalling Count:3\n"
          ]
        },
        {
          "output_type": "stream",
          "name": "stdout",
          "text": [
            "2022-09-11 13:02:48,078 INFO: srd_alignment:True\t-->\tCalling Count:0\n"
          ]
        },
        {
          "output_type": "stream",
          "name": "stderr",
          "text": [
            "INFO:fast_lcf_atepc:srd_alignment:True\t-->\tCalling Count:0\n"
          ]
        },
        {
          "output_type": "stream",
          "name": "stdout",
          "text": [
            "2022-09-11 13:02:48,081 INFO: use_amp:False\t-->\tCalling Count:1\n"
          ]
        },
        {
          "output_type": "stream",
          "name": "stderr",
          "text": [
            "INFO:fast_lcf_atepc:use_amp:False\t-->\tCalling Count:1\n"
          ]
        },
        {
          "output_type": "stream",
          "name": "stdout",
          "text": [
            "2022-09-11 13:02:48,083 INFO: use_bert_spc:True\t-->\tCalling Count:0\n"
          ]
        },
        {
          "output_type": "stream",
          "name": "stderr",
          "text": [
            "INFO:fast_lcf_atepc:use_bert_spc:True\t-->\tCalling Count:0\n"
          ]
        },
        {
          "output_type": "stream",
          "name": "stdout",
          "text": [
            "2022-09-11 13:02:48,085 INFO: use_syntax_based_SRD:False\t-->\tCalling Count:4722\n"
          ]
        },
        {
          "output_type": "stream",
          "name": "stderr",
          "text": [
            "INFO:fast_lcf_atepc:use_syntax_based_SRD:False\t-->\tCalling Count:4722\n"
          ]
        },
        {
          "output_type": "stream",
          "name": "stdout",
          "text": [
            "2022-09-11 13:02:48,088 INFO: warmup_step:-1\t-->\tCalling Count:0\n"
          ]
        },
        {
          "output_type": "stream",
          "name": "stderr",
          "text": [
            "INFO:fast_lcf_atepc:warmup_step:-1\t-->\tCalling Count:0\n"
          ]
        },
        {
          "output_type": "stream",
          "name": "stdout",
          "text": [
            "2022-09-11 13:02:48,090 INFO: window:lr\t-->\tCalling Count:0\n"
          ]
        },
        {
          "output_type": "stream",
          "name": "stderr",
          "text": [
            "INFO:fast_lcf_atepc:window:lr\t-->\tCalling Count:0\n"
          ]
        },
        {
          "output_type": "stream",
          "name": "stdout",
          "text": [
            "2022-09-11 13:02:48,127 INFO: ***** Running training for Aspect Term Extraction *****\n"
          ]
        },
        {
          "output_type": "stream",
          "name": "stderr",
          "text": [
            "INFO:fast_lcf_atepc:***** Running training for Aspect Term Extraction *****\n"
          ]
        },
        {
          "output_type": "stream",
          "name": "stdout",
          "text": [
            "2022-09-11 13:02:48,129 INFO:   Num examples = 3604\n"
          ]
        },
        {
          "output_type": "stream",
          "name": "stderr",
          "text": [
            "INFO:fast_lcf_atepc:  Num examples = 3604\n"
          ]
        },
        {
          "output_type": "stream",
          "name": "stdout",
          "text": [
            "2022-09-11 13:02:48,132 INFO:   Batch size = 16\n"
          ]
        },
        {
          "output_type": "stream",
          "name": "stderr",
          "text": [
            "INFO:fast_lcf_atepc:  Batch size = 16\n"
          ]
        },
        {
          "output_type": "stream",
          "name": "stdout",
          "text": [
            "2022-09-11 13:02:48,135 INFO:   Num steps = 1125\n"
          ]
        },
        {
          "output_type": "stream",
          "name": "stderr",
          "text": [
            "INFO:fast_lcf_atepc:  Num steps = 1125\n",
            "100%|██████████| 226/226 [01:27<00:00,  2.58it/s, Epoch:0 | Loss: 0.83087057 | No evaluation until epoch:4]\n",
            "100%|██████████| 226/226 [01:27<00:00,  2.59it/s, Epoch:1 | Loss: 0.64830315 | No evaluation until epoch:4]\n",
            "100%|██████████| 226/226 [01:27<00:00,  2.58it/s, Epoch:2 | Loss: 0.76607758 | No evaluation until epoch:4]\n",
            "100%|██████████| 226/226 [01:27<00:00,  2.57it/s, Epoch:3 | Loss: 0.19499341 | No evaluation until epoch:4]\n",
            "100%|██████████| 226/226 [03:27<00:00,  1.09it/s, Epoch:4 | loss_apc:0.2363 | loss_ate:0.0321 | APC_ACC: 84.79(max:85.78) | APC_F1: 76.31(max:78.74) | ATE_F1: 88.17(max:88.87)]\n"
          ]
        },
        {
          "output_type": "stream",
          "name": "stdout",
          "text": [
            "2022-09-11 13:12:17,052 INFO:  ------------------------------------- Metric Visualizer ------------------------------------- \n",
            "╒════════════════════════════════╤═════════════════════════════╤════════════════════════════╤═════════════════════════════════════════════════════════════════════════╕\n",
            "│ Metric                         │ Model & Dataset             │ Values (First 10 values)   │ Summary                                                                 │\n",
            "╞════════════════════════════════╪═════════════════════════════╪════════════════════════════╪═════════════════════════════════════════════════════════════════════════╡\n",
            "│ Max-APC-Test-Acc w/o Valid Set │ FAST_LCF_ATEPC-Restaurant14 │ [85.78]                    │ ['Avg:85.78, Median: 85.78, IQR: 0.0, STD:0.0, Max: 85.78, Min: 85.78'] │\n",
            "├────────────────────────────────┼─────────────────────────────┼────────────────────────────┼─────────────────────────────────────────────────────────────────────────┤\n",
            "│ Max-APC-Test-F1 w/o Valid Set  │ FAST_LCF_ATEPC-Restaurant14 │ [78.74]                    │ ['Avg:78.74, Median: 78.74, IQR: 0.0, STD:0.0, Max: 78.74, Min: 78.74'] │\n",
            "├────────────────────────────────┼─────────────────────────────┼────────────────────────────┼─────────────────────────────────────────────────────────────────────────┤\n",
            "│ Max-ATE-Test-F1 w/o Valid Set  │ FAST_LCF_ATEPC-Restaurant14 │ [88.87]                    │ ['Avg:88.87, Median: 88.87, IQR: 0.0, STD:0.0, Max: 88.87, Min: 88.87'] │\n",
            "╘════════════════════════════════╧═════════════════════════════╧════════════════════════════╧═════════════════════════════════════════════════════════════════════════╛\n",
            " -------------------- https://github.com/yangheng95/metric_visualizer --------------------\n",
            "\n"
          ]
        },
        {
          "output_type": "stream",
          "name": "stderr",
          "text": [
            "INFO:fast_lcf_atepc: ------------------------------------- Metric Visualizer ------------------------------------- \n",
            "╒════════════════════════════════╤═════════════════════════════╤════════════════════════════╤═════════════════════════════════════════════════════════════════════════╕\n",
            "│ Metric                         │ Model & Dataset             │ Values (First 10 values)   │ Summary                                                                 │\n",
            "╞════════════════════════════════╪═════════════════════════════╪════════════════════════════╪═════════════════════════════════════════════════════════════════════════╡\n",
            "│ Max-APC-Test-Acc w/o Valid Set │ FAST_LCF_ATEPC-Restaurant14 │ [85.78]                    │ ['Avg:85.78, Median: 85.78, IQR: 0.0, STD:0.0, Max: 85.78, Min: 85.78'] │\n",
            "├────────────────────────────────┼─────────────────────────────┼────────────────────────────┼─────────────────────────────────────────────────────────────────────────┤\n",
            "│ Max-APC-Test-F1 w/o Valid Set  │ FAST_LCF_ATEPC-Restaurant14 │ [78.74]                    │ ['Avg:78.74, Median: 78.74, IQR: 0.0, STD:0.0, Max: 78.74, Min: 78.74'] │\n",
            "├────────────────────────────────┼─────────────────────────────┼────────────────────────────┼─────────────────────────────────────────────────────────────────────────┤\n",
            "│ Max-ATE-Test-F1 w/o Valid Set  │ FAST_LCF_ATEPC-Restaurant14 │ [88.87]                    │ ['Avg:88.87, Median: 88.87, IQR: 0.0, STD:0.0, Max: 88.87, Min: 88.87'] │\n",
            "╘════════════════════════════════╧═════════════════════════════╧════════════════════════════╧═════════════════════════════════════════════════════════════════════════╛\n",
            " -------------------- https://github.com/yangheng95/metric_visualizer --------------------\n",
            "\n"
          ]
        },
        {
          "output_type": "stream",
          "name": "stdout",
          "text": [
            "Training finished, we hope you can share your checkpoint with community, please see: https://github.com/yangheng95/PyABSA/blob/release/demos/documents/share-checkpoint.md\n",
            "2022-09-11 13:12:17,084 INFO: ABSADatasetsVersion:2022.07.22\t-->\tCalling Count:0\n"
          ]
        },
        {
          "output_type": "stream",
          "name": "stderr",
          "text": [
            "INFO:fast_lcf_atepc:ABSADatasetsVersion:2022.07.22\t-->\tCalling Count:0\n"
          ]
        },
        {
          "output_type": "stream",
          "name": "stdout",
          "text": [
            "2022-09-11 13:12:17,087 INFO: IOB_label_to_index:{'B-ASP': 1, 'I-ASP': 2, 'O': 3, '[CLS]': 4, '[SEP]': 5}\t-->\tCalling Count:1\n"
          ]
        },
        {
          "output_type": "stream",
          "name": "stderr",
          "text": [
            "INFO:fast_lcf_atepc:IOB_label_to_index:{'B-ASP': 1, 'I-ASP': 2, 'O': 3, '[CLS]': 4, '[SEP]': 5}\t-->\tCalling Count:1\n"
          ]
        },
        {
          "output_type": "stream",
          "name": "stdout",
          "text": [
            "2022-09-11 13:12:17,089 INFO: MV:<metric_visualizer.metric_visualizer.MetricVisualizer object at 0x7fe0ef3fc590>\t-->\tCalling Count:5\n"
          ]
        },
        {
          "output_type": "stream",
          "name": "stderr",
          "text": [
            "INFO:fast_lcf_atepc:MV:<metric_visualizer.metric_visualizer.MetricVisualizer object at 0x7fe0ef3fc590>\t-->\tCalling Count:5\n"
          ]
        },
        {
          "output_type": "stream",
          "name": "stdout",
          "text": [
            "2022-09-11 13:12:17,092 INFO: PyABSAVersion:1.16.16\t-->\tCalling Count:0\n"
          ]
        },
        {
          "output_type": "stream",
          "name": "stderr",
          "text": [
            "INFO:fast_lcf_atepc:PyABSAVersion:1.16.16\t-->\tCalling Count:0\n"
          ]
        },
        {
          "output_type": "stream",
          "name": "stdout",
          "text": [
            "2022-09-11 13:12:17,098 INFO: SRD:3\t-->\tCalling Count:9444\n"
          ]
        },
        {
          "output_type": "stream",
          "name": "stderr",
          "text": [
            "INFO:fast_lcf_atepc:SRD:3\t-->\tCalling Count:9444\n"
          ]
        },
        {
          "output_type": "stream",
          "name": "stdout",
          "text": [
            "2022-09-11 13:12:17,103 INFO: TorchVersion:1.12.1+cu113+cuda11.3\t-->\tCalling Count:0\n"
          ]
        },
        {
          "output_type": "stream",
          "name": "stderr",
          "text": [
            "INFO:fast_lcf_atepc:TorchVersion:1.12.1+cu113+cuda11.3\t-->\tCalling Count:0\n"
          ]
        },
        {
          "output_type": "stream",
          "name": "stdout",
          "text": [
            "2022-09-11 13:12:17,107 INFO: TransformersVersion:4.21.3\t-->\tCalling Count:0\n"
          ]
        },
        {
          "output_type": "stream",
          "name": "stderr",
          "text": [
            "INFO:fast_lcf_atepc:TransformersVersion:4.21.3\t-->\tCalling Count:0\n"
          ]
        },
        {
          "output_type": "stream",
          "name": "stdout",
          "text": [
            "2022-09-11 13:12:17,112 INFO: auto_device:True\t-->\tCalling Count:1131\n"
          ]
        },
        {
          "output_type": "stream",
          "name": "stderr",
          "text": [
            "INFO:fast_lcf_atepc:auto_device:True\t-->\tCalling Count:1131\n"
          ]
        },
        {
          "output_type": "stream",
          "name": "stdout",
          "text": [
            "2022-09-11 13:12:17,116 INFO: batch_size:16\t-->\tCalling Count:5\n"
          ]
        },
        {
          "output_type": "stream",
          "name": "stderr",
          "text": [
            "INFO:fast_lcf_atepc:batch_size:16\t-->\tCalling Count:5\n"
          ]
        },
        {
          "output_type": "stream",
          "name": "stdout",
          "text": [
            "2022-09-11 13:12:17,119 INFO: cache_dataset:True\t-->\tCalling Count:1\n"
          ]
        },
        {
          "output_type": "stream",
          "name": "stderr",
          "text": [
            "INFO:fast_lcf_atepc:cache_dataset:True\t-->\tCalling Count:1\n"
          ]
        },
        {
          "output_type": "stream",
          "name": "stdout",
          "text": [
            "2022-09-11 13:12:17,123 INFO: dataset_file:{'train': ['integrated_datasets/atepc_datasets/110.SemEval/114.restaurant14/Restaurants_Train.xml.seg.atepc'], 'test': ['integrated_datasets/atepc_datasets/110.SemEval/114.restaurant14/Restaurants_Test_Gold.xml.seg.atepc'], 'valid': []}\t-->\tCalling Count:51\n"
          ]
        },
        {
          "output_type": "stream",
          "name": "stderr",
          "text": [
            "INFO:fast_lcf_atepc:dataset_file:{'train': ['integrated_datasets/atepc_datasets/110.SemEval/114.restaurant14/Restaurants_Train.xml.seg.atepc'], 'test': ['integrated_datasets/atepc_datasets/110.SemEval/114.restaurant14/Restaurants_Test_Gold.xml.seg.atepc'], 'valid': []}\t-->\tCalling Count:51\n"
          ]
        },
        {
          "output_type": "stream",
          "name": "stdout",
          "text": [
            "2022-09-11 13:12:17,127 INFO: dataset_name:Restaurant14\t-->\tCalling Count:11\n"
          ]
        },
        {
          "output_type": "stream",
          "name": "stderr",
          "text": [
            "INFO:fast_lcf_atepc:dataset_name:Restaurant14\t-->\tCalling Count:11\n"
          ]
        },
        {
          "output_type": "stream",
          "name": "stdout",
          "text": [
            "2022-09-11 13:12:17,131 INFO: device:cuda:0\t-->\tCalling Count:16482\n"
          ]
        },
        {
          "output_type": "stream",
          "name": "stderr",
          "text": [
            "INFO:fast_lcf_atepc:device:cuda:0\t-->\tCalling Count:16482\n"
          ]
        },
        {
          "output_type": "stream",
          "name": "stdout",
          "text": [
            "2022-09-11 13:12:17,135 INFO: device_name:Tesla T4\t-->\tCalling Count:0\n"
          ]
        },
        {
          "output_type": "stream",
          "name": "stderr",
          "text": [
            "INFO:fast_lcf_atepc:device_name:Tesla T4\t-->\tCalling Count:0\n"
          ]
        },
        {
          "output_type": "stream",
          "name": "stdout",
          "text": [
            "2022-09-11 13:12:17,139 INFO: dropout:0.5\t-->\tCalling Count:1\n"
          ]
        },
        {
          "output_type": "stream",
          "name": "stderr",
          "text": [
            "INFO:fast_lcf_atepc:dropout:0.5\t-->\tCalling Count:1\n"
          ]
        },
        {
          "output_type": "stream",
          "name": "stdout",
          "text": [
            "2022-09-11 13:12:17,143 INFO: dynamic_truncate:True\t-->\tCalling Count:9444\n"
          ]
        },
        {
          "output_type": "stream",
          "name": "stderr",
          "text": [
            "INFO:fast_lcf_atepc:dynamic_truncate:True\t-->\tCalling Count:9444\n"
          ]
        },
        {
          "output_type": "stream",
          "name": "stdout",
          "text": [
            "2022-09-11 13:12:17,146 INFO: embed_dim:768\t-->\tCalling Count:0\n"
          ]
        },
        {
          "output_type": "stream",
          "name": "stderr",
          "text": [
            "INFO:fast_lcf_atepc:embed_dim:768\t-->\tCalling Count:0\n"
          ]
        },
        {
          "output_type": "stream",
          "name": "stdout",
          "text": [
            "2022-09-11 13:12:17,150 INFO: evaluate_begin:4\t-->\tCalling Count:118\n"
          ]
        },
        {
          "output_type": "stream",
          "name": "stderr",
          "text": [
            "INFO:fast_lcf_atepc:evaluate_begin:4\t-->\tCalling Count:118\n"
          ]
        },
        {
          "output_type": "stream",
          "name": "stdout",
          "text": [
            "2022-09-11 13:12:17,154 INFO: gradient_accumulation_steps:1\t-->\tCalling Count:3\n"
          ]
        },
        {
          "output_type": "stream",
          "name": "stderr",
          "text": [
            "INFO:fast_lcf_atepc:gradient_accumulation_steps:1\t-->\tCalling Count:3\n"
          ]
        },
        {
          "output_type": "stream",
          "name": "stdout",
          "text": [
            "2022-09-11 13:12:17,157 INFO: hidden_dim:768\t-->\tCalling Count:6\n"
          ]
        },
        {
          "output_type": "stream",
          "name": "stderr",
          "text": [
            "INFO:fast_lcf_atepc:hidden_dim:768\t-->\tCalling Count:6\n"
          ]
        },
        {
          "output_type": "stream",
          "name": "stdout",
          "text": [
            "2022-09-11 13:12:17,161 INFO: index_to_IOB_label:{1: 'B-ASP', 2: 'I-ASP', 3: 'O', 4: '[CLS]', 5: '[SEP]'}\t-->\tCalling Count:0\n"
          ]
        },
        {
          "output_type": "stream",
          "name": "stderr",
          "text": [
            "INFO:fast_lcf_atepc:index_to_IOB_label:{1: 'B-ASP', 2: 'I-ASP', 3: 'O', 4: '[CLS]', 5: '[SEP]'}\t-->\tCalling Count:0\n"
          ]
        },
        {
          "output_type": "stream",
          "name": "stdout",
          "text": [
            "2022-09-11 13:12:17,163 INFO: index_to_label:{0: 'Negative', 1: 'Neutral', 2: 'Positive'}\t-->\tCalling Count:2\n"
          ]
        },
        {
          "output_type": "stream",
          "name": "stderr",
          "text": [
            "INFO:fast_lcf_atepc:index_to_label:{0: 'Negative', 1: 'Neutral', 2: 'Positive'}\t-->\tCalling Count:2\n"
          ]
        },
        {
          "output_type": "stream",
          "name": "stdout",
          "text": [
            "2022-09-11 13:12:17,165 INFO: initializer:xavier_uniform_\t-->\tCalling Count:0\n"
          ]
        },
        {
          "output_type": "stream",
          "name": "stderr",
          "text": [
            "INFO:fast_lcf_atepc:initializer:xavier_uniform_\t-->\tCalling Count:0\n"
          ]
        },
        {
          "output_type": "stream",
          "name": "stdout",
          "text": [
            "2022-09-11 13:12:17,169 INFO: l2reg:1e-05\t-->\tCalling Count:2\n"
          ]
        },
        {
          "output_type": "stream",
          "name": "stderr",
          "text": [
            "INFO:fast_lcf_atepc:l2reg:1e-05\t-->\tCalling Count:2\n"
          ]
        },
        {
          "output_type": "stream",
          "name": "stdout",
          "text": [
            "2022-09-11 13:12:17,173 INFO: label_list:['B-ASP', 'I-ASP', 'O', '[CLS]', '[SEP]']\t-->\tCalling Count:12\n"
          ]
        },
        {
          "output_type": "stream",
          "name": "stderr",
          "text": [
            "INFO:fast_lcf_atepc:label_list:['B-ASP', 'I-ASP', 'O', '[CLS]', '[SEP]']\t-->\tCalling Count:12\n"
          ]
        },
        {
          "output_type": "stream",
          "name": "stdout",
          "text": [
            "2022-09-11 13:12:17,176 INFO: label_to_index:{'Negative': 0, 'Neutral': 1, 'Positive': 2}\t-->\tCalling Count:0\n"
          ]
        },
        {
          "output_type": "stream",
          "name": "stderr",
          "text": [
            "INFO:fast_lcf_atepc:label_to_index:{'Negative': 0, 'Neutral': 1, 'Positive': 2}\t-->\tCalling Count:0\n"
          ]
        },
        {
          "output_type": "stream",
          "name": "stdout",
          "text": [
            "2022-09-11 13:12:17,180 INFO: lcf:cdw\t-->\tCalling Count:3667\n"
          ]
        },
        {
          "output_type": "stream",
          "name": "stderr",
          "text": [
            "INFO:fast_lcf_atepc:lcf:cdw\t-->\tCalling Count:3667\n"
          ]
        },
        {
          "output_type": "stream",
          "name": "stdout",
          "text": [
            "2022-09-11 13:12:17,183 INFO: learning_rate:2e-05\t-->\tCalling Count:1\n"
          ]
        },
        {
          "output_type": "stream",
          "name": "stderr",
          "text": [
            "INFO:fast_lcf_atepc:learning_rate:2e-05\t-->\tCalling Count:1\n"
          ]
        },
        {
          "output_type": "stream",
          "name": "stdout",
          "text": [
            "2022-09-11 13:12:17,186 INFO: log_step:50\t-->\tCalling Count:1131\n"
          ]
        },
        {
          "output_type": "stream",
          "name": "stderr",
          "text": [
            "INFO:fast_lcf_atepc:log_step:50\t-->\tCalling Count:1131\n"
          ]
        },
        {
          "output_type": "stream",
          "name": "stdout",
          "text": [
            "2022-09-11 13:12:17,189 INFO: loss:0.566093024611473\t-->\tCalling Count:0\n"
          ]
        },
        {
          "output_type": "stream",
          "name": "stderr",
          "text": [
            "INFO:fast_lcf_atepc:loss:0.566093024611473\t-->\tCalling Count:0\n"
          ]
        },
        {
          "output_type": "stream",
          "name": "stdout",
          "text": [
            "2022-09-11 13:12:17,192 INFO: max_seq_len:80\t-->\tCalling Count:36716\n"
          ]
        },
        {
          "output_type": "stream",
          "name": "stderr",
          "text": [
            "INFO:fast_lcf_atepc:max_seq_len:80\t-->\tCalling Count:36716\n"
          ]
        },
        {
          "output_type": "stream",
          "name": "stdout",
          "text": [
            "2022-09-11 13:12:17,194 INFO: max_test_metrics:{'max_apc_test_acc': 85.78, 'max_apc_test_f1': 78.74, 'max_ate_test_f1': 88.87}\t-->\tCalling Count:83\n"
          ]
        },
        {
          "output_type": "stream",
          "name": "stderr",
          "text": [
            "INFO:fast_lcf_atepc:max_test_metrics:{'max_apc_test_acc': 85.78, 'max_apc_test_f1': 78.74, 'max_ate_test_f1': 88.87}\t-->\tCalling Count:83\n"
          ]
        },
        {
          "output_type": "stream",
          "name": "stdout",
          "text": [
            "2022-09-11 13:12:17,196 INFO: metrics_of_this_checkpoint:{'apc_acc': 84.79, 'apc_f1': 76.31, 'ate_f1': 88.17}\t-->\tCalling Count:27\n"
          ]
        },
        {
          "output_type": "stream",
          "name": "stderr",
          "text": [
            "INFO:fast_lcf_atepc:metrics_of_this_checkpoint:{'apc_acc': 84.79, 'apc_f1': 76.31, 'ate_f1': 88.17}\t-->\tCalling Count:27\n"
          ]
        },
        {
          "output_type": "stream",
          "name": "stdout",
          "text": [
            "2022-09-11 13:12:17,199 INFO: model:<class 'pyabsa.core.atepc.models.fast_lcf_atepc.FAST_LCF_ATEPC'>\t-->\tCalling Count:5\n"
          ]
        },
        {
          "output_type": "stream",
          "name": "stderr",
          "text": [
            "INFO:fast_lcf_atepc:model:<class 'pyabsa.core.atepc.models.fast_lcf_atepc.FAST_LCF_ATEPC'>\t-->\tCalling Count:5\n"
          ]
        },
        {
          "output_type": "stream",
          "name": "stdout",
          "text": [
            "2022-09-11 13:12:17,202 INFO: model_name:fast_lcf_atepc\t-->\tCalling Count:4760\n"
          ]
        },
        {
          "output_type": "stream",
          "name": "stderr",
          "text": [
            "INFO:fast_lcf_atepc:model_name:fast_lcf_atepc\t-->\tCalling Count:4760\n"
          ]
        },
        {
          "output_type": "stream",
          "name": "stdout",
          "text": [
            "2022-09-11 13:12:17,204 INFO: model_path_to_save:checkpoints\t-->\tCalling Count:17\n"
          ]
        },
        {
          "output_type": "stream",
          "name": "stderr",
          "text": [
            "INFO:fast_lcf_atepc:model_path_to_save:checkpoints\t-->\tCalling Count:17\n"
          ]
        },
        {
          "output_type": "stream",
          "name": "stdout",
          "text": [
            "2022-09-11 13:12:17,208 INFO: num_epoch:5\t-->\tCalling Count:2\n"
          ]
        },
        {
          "output_type": "stream",
          "name": "stderr",
          "text": [
            "INFO:fast_lcf_atepc:num_epoch:5\t-->\tCalling Count:2\n"
          ]
        },
        {
          "output_type": "stream",
          "name": "stdout",
          "text": [
            "2022-09-11 13:12:17,212 INFO: num_labels:6\t-->\tCalling Count:3\n"
          ]
        },
        {
          "output_type": "stream",
          "name": "stderr",
          "text": [
            "INFO:fast_lcf_atepc:num_labels:6\t-->\tCalling Count:3\n"
          ]
        },
        {
          "output_type": "stream",
          "name": "stdout",
          "text": [
            "2022-09-11 13:12:17,214 INFO: optimizer:adamw\t-->\tCalling Count:2\n"
          ]
        },
        {
          "output_type": "stream",
          "name": "stderr",
          "text": [
            "INFO:fast_lcf_atepc:optimizer:adamw\t-->\tCalling Count:2\n"
          ]
        },
        {
          "output_type": "stream",
          "name": "stdout",
          "text": [
            "2022-09-11 13:12:17,217 INFO: patience:99999\t-->\tCalling Count:8\n"
          ]
        },
        {
          "output_type": "stream",
          "name": "stderr",
          "text": [
            "INFO:fast_lcf_atepc:patience:99999\t-->\tCalling Count:8\n"
          ]
        },
        {
          "output_type": "stream",
          "name": "stdout",
          "text": [
            "2022-09-11 13:12:17,220 INFO: output_dim:3\t-->\tCalling Count:11\n"
          ]
        },
        {
          "output_type": "stream",
          "name": "stderr",
          "text": [
            "INFO:fast_lcf_atepc:output_dim:3\t-->\tCalling Count:11\n"
          ]
        },
        {
          "output_type": "stream",
          "name": "stdout",
          "text": [
            "2022-09-11 13:12:17,223 INFO: pretrained_bert:yangheng/deberta-v3-base-absa-v1.1\t-->\tCalling Count:4\n"
          ]
        },
        {
          "output_type": "stream",
          "name": "stderr",
          "text": [
            "INFO:fast_lcf_atepc:pretrained_bert:yangheng/deberta-v3-base-absa-v1.1\t-->\tCalling Count:4\n"
          ]
        },
        {
          "output_type": "stream",
          "name": "stdout",
          "text": [
            "2022-09-11 13:12:17,225 INFO: save_mode:1\t-->\tCalling Count:50\n"
          ]
        },
        {
          "output_type": "stream",
          "name": "stderr",
          "text": [
            "INFO:fast_lcf_atepc:save_mode:1\t-->\tCalling Count:50\n"
          ]
        },
        {
          "output_type": "stream",
          "name": "stdout",
          "text": [
            "2022-09-11 13:12:17,228 INFO: seed:52\t-->\tCalling Count:7\n"
          ]
        },
        {
          "output_type": "stream",
          "name": "stderr",
          "text": [
            "INFO:fast_lcf_atepc:seed:52\t-->\tCalling Count:7\n"
          ]
        },
        {
          "output_type": "stream",
          "name": "stdout",
          "text": [
            "2022-09-11 13:12:17,231 INFO: sep_indices:2\t-->\tCalling Count:40380\n"
          ]
        },
        {
          "output_type": "stream",
          "name": "stderr",
          "text": [
            "INFO:fast_lcf_atepc:sep_indices:2\t-->\tCalling Count:40380\n"
          ]
        },
        {
          "output_type": "stream",
          "name": "stdout",
          "text": [
            "2022-09-11 13:12:17,234 INFO: show_metric:False\t-->\tCalling Count:0\n"
          ]
        },
        {
          "output_type": "stream",
          "name": "stderr",
          "text": [
            "INFO:fast_lcf_atepc:show_metric:False\t-->\tCalling Count:0\n"
          ]
        },
        {
          "output_type": "stream",
          "name": "stdout",
          "text": [
            "2022-09-11 13:12:17,237 INFO: spacy_model:en_core_web_sm\t-->\tCalling Count:3\n"
          ]
        },
        {
          "output_type": "stream",
          "name": "stderr",
          "text": [
            "INFO:fast_lcf_atepc:spacy_model:en_core_web_sm\t-->\tCalling Count:3\n"
          ]
        },
        {
          "output_type": "stream",
          "name": "stdout",
          "text": [
            "2022-09-11 13:12:17,240 INFO: srd_alignment:True\t-->\tCalling Count:0\n"
          ]
        },
        {
          "output_type": "stream",
          "name": "stderr",
          "text": [
            "INFO:fast_lcf_atepc:srd_alignment:True\t-->\tCalling Count:0\n"
          ]
        },
        {
          "output_type": "stream",
          "name": "stdout",
          "text": [
            "2022-09-11 13:12:17,243 INFO: use_amp:False\t-->\tCalling Count:1\n"
          ]
        },
        {
          "output_type": "stream",
          "name": "stderr",
          "text": [
            "INFO:fast_lcf_atepc:use_amp:False\t-->\tCalling Count:1\n"
          ]
        },
        {
          "output_type": "stream",
          "name": "stdout",
          "text": [
            "2022-09-11 13:12:17,246 INFO: use_bert_spc:True\t-->\tCalling Count:2530\n"
          ]
        },
        {
          "output_type": "stream",
          "name": "stderr",
          "text": [
            "INFO:fast_lcf_atepc:use_bert_spc:True\t-->\tCalling Count:2530\n"
          ]
        },
        {
          "output_type": "stream",
          "name": "stdout",
          "text": [
            "2022-09-11 13:12:17,249 INFO: use_syntax_based_SRD:False\t-->\tCalling Count:4722\n"
          ]
        },
        {
          "output_type": "stream",
          "name": "stderr",
          "text": [
            "INFO:fast_lcf_atepc:use_syntax_based_SRD:False\t-->\tCalling Count:4722\n"
          ]
        },
        {
          "output_type": "stream",
          "name": "stdout",
          "text": [
            "2022-09-11 13:12:17,252 INFO: warmup_step:-1\t-->\tCalling Count:1131\n"
          ]
        },
        {
          "output_type": "stream",
          "name": "stderr",
          "text": [
            "INFO:fast_lcf_atepc:warmup_step:-1\t-->\tCalling Count:1131\n"
          ]
        },
        {
          "output_type": "stream",
          "name": "stdout",
          "text": [
            "2022-09-11 13:12:17,255 INFO: window:lr\t-->\tCalling Count:0\n"
          ]
        },
        {
          "output_type": "stream",
          "name": "stderr",
          "text": [
            "INFO:fast_lcf_atepc:window:lr\t-->\tCalling Count:0\n"
          ]
        },
        {
          "output_type": "stream",
          "name": "stdout",
          "text": [
            "Load aspect extractor from checkpoints/fast_lcf_atepc_Restaurant14_cdw_apcacc_84.35_apcf1_74.27_atef1_88.87/\n",
            "config: checkpoints/fast_lcf_atepc_Restaurant14_cdw_apcacc_84.35_apcf1_74.27_atef1_88.87/fast_lcf_atepc.config\n",
            "state_dict: checkpoints/fast_lcf_atepc_Restaurant14_cdw_apcacc_84.35_apcf1_74.27_atef1_88.87/fast_lcf_atepc.state_dict\n",
            "model: None\n",
            "tokenizer: checkpoints/fast_lcf_atepc_Restaurant14_cdw_apcacc_84.35_apcf1_74.27_atef1_88.87/fast_lcf_atepc.tokenizer\n"
          ]
        },
        {
          "output_type": "stream",
          "name": "stderr",
          "text": [
            "Some weights of the model checkpoint at yangheng/deberta-v3-base-absa-v1.1 were not used when initializing DebertaV2Model: ['lm_predictions.lm_head.bias', 'lm_predictions.lm_head.LayerNorm.bias', 'mask_predictions.dense.bias', 'mask_predictions.dense.weight', 'lm_predictions.lm_head.dense.weight', 'lm_predictions.lm_head.dense.bias', 'mask_predictions.classifier.bias', 'mask_predictions.LayerNorm.weight', 'mask_predictions.LayerNorm.bias', 'lm_predictions.lm_head.LayerNorm.weight', 'mask_predictions.classifier.weight']\n",
            "- This IS expected if you are initializing DebertaV2Model from the checkpoint of a model trained on another task or with another architecture (e.g. initializing a BertForSequenceClassification model from a BertForPreTraining model).\n",
            "- This IS NOT expected if you are initializing DebertaV2Model from the checkpoint of a model that you expect to be exactly identical (initializing a BertForSequenceClassification model from a BertForSequenceClassification model).\n",
            "Special tokens have been added in the vocabulary, make sure the associated word embeddings are fine-tuned or trained.\n",
            "Special tokens have been added in the vocabulary, make sure the associated word embeddings are fine-tuned or trained.\n"
          ]
        },
        {
          "output_type": "stream",
          "name": "stdout",
          "text": [
            "Config used in Training:\n",
            "ABSADatasetsVersion:2022.07.22\t-->\tCalling Count:0\n",
            "IOB_label_to_index:{'B-ASP': 1, 'I-ASP': 2, 'O': 3, '[CLS]': 4, '[SEP]': 5}\t-->\tCalling Count:1\n",
            "MV:<metric_visualizer.metric_visualizer.MetricVisualizer object at 0x7fe0f28a9ed0>\t-->\tCalling Count:0\n",
            "PyABSAVersion:1.16.16\t-->\tCalling Count:0\n",
            "SRD:3\t-->\tCalling Count:9444\n",
            "TorchVersion:1.12.1+cu113+cuda11.3\t-->\tCalling Count:0\n",
            "TransformersVersion:4.21.3\t-->\tCalling Count:0\n",
            "auto_device:True\t-->\tCalling Count:1101\n",
            "batch_size:16\t-->\tCalling Count:5\n",
            "cache_dataset:True\t-->\tCalling Count:1\n",
            "dataset_file:{'train': ['integrated_datasets/atepc_datasets/110.SemEval/114.restaurant14/Restaurants_Train.xml.seg.atepc'], 'test': ['integrated_datasets/atepc_datasets/110.SemEval/114.restaurant14/Restaurants_Test_Gold.xml.seg.atepc'], 'valid': []}\t-->\tCalling Count:50\n",
            "dataset_name:Restaurant14\t-->\tCalling Count:11\n",
            "device:cuda:0\t-->\tCalling Count:14951\n",
            "device_name:Tesla T4\t-->\tCalling Count:0\n",
            "dropout:0.5\t-->\tCalling Count:2\n",
            "dynamic_truncate:True\t-->\tCalling Count:9444\n",
            "embed_dim:768\t-->\tCalling Count:0\n",
            "evaluate_begin:4\t-->\tCalling Count:117\n",
            "gradient_accumulation_steps:1\t-->\tCalling Count:3\n",
            "hidden_dim:768\t-->\tCalling Count:12\n",
            "index_to_IOB_label:{1: 'B-ASP', 2: 'I-ASP', 3: 'O', 4: '[CLS]', 5: '[SEP]'}\t-->\tCalling Count:0\n",
            "index_to_label:{0: 'Negative', 1: 'Neutral', 2: 'Positive'}\t-->\tCalling Count:2\n",
            "initializer:xavier_uniform_\t-->\tCalling Count:0\n",
            "l2reg:1e-05\t-->\tCalling Count:2\n",
            "label_list:['B-ASP', 'I-ASP', 'O', '[CLS]', '[SEP]']\t-->\tCalling Count:11\n",
            "label_to_index:{'Negative': 0, 'Neutral': 1, 'Positive': 2}\t-->\tCalling Count:0\n",
            "lcf:cdw\t-->\tCalling Count:3327\n",
            "learning_rate:2e-05\t-->\tCalling Count:1\n",
            "log_step:50\t-->\tCalling Count:1101\n",
            "max_seq_len:80\t-->\tCalling Count:36376\n",
            "max_test_metrics:{'max_apc_test_acc': 85.78, 'max_apc_test_f1': 78.74, 'max_ate_test_f1': 88.87}\t-->\tCalling Count:71\n",
            "metrics_of_this_checkpoint:{'apc_acc': 84.35, 'apc_f1': 74.27, 'ate_f1': 88.87}\t-->\tCalling Count:24\n",
            "model:<class 'pyabsa.core.atepc.models.fast_lcf_atepc.FAST_LCF_ATEPC'>\t-->\tCalling Count:6\n",
            "model_name:fast_lcf_atepc\t-->\tCalling Count:4758\n",
            "model_path_to_save:checkpoints\t-->\tCalling Count:17\n",
            "num_epoch:5\t-->\tCalling Count:2\n",
            "num_labels:6\t-->\tCalling Count:6\n",
            "optimizer:adamw\t-->\tCalling Count:2\n",
            "patience:99999\t-->\tCalling Count:8\n",
            "output_dim:3\t-->\tCalling Count:10\n",
            "pretrained_bert:yangheng/deberta-v3-base-absa-v1.1\t-->\tCalling Count:7\n",
            "save_mode:1\t-->\tCalling Count:49\n",
            "seed:52\t-->\tCalling Count:7\n",
            "sep_indices:2\t-->\tCalling Count:35440\n",
            "show_metric:False\t-->\tCalling Count:0\n",
            "spacy_model:en_core_web_sm\t-->\tCalling Count:3\n",
            "srd_alignment:True\t-->\tCalling Count:0\n",
            "use_amp:False\t-->\tCalling Count:1\n",
            "use_bert_spc:True\t-->\tCalling Count:2220\n",
            "use_syntax_based_SRD:False\t-->\tCalling Count:4722\n",
            "warmup_step:-1\t-->\tCalling Count:1101\n",
            "window:lr\t-->\tCalling Count:0\n"
          ]
        }
      ]
    },
    {
      "cell_type": "markdown",
      "source": [
        "# Deployment Example"
      ],
      "metadata": {
        "id": "xMsT_50ubEWS"
      }
    },
    {
      "cell_type": "code",
      "source": [
        "# -*- coding: utf-8 -*-\n",
        "# file: deploy_demo.py\n",
        "# time: 2021/10/10\n",
        "# author: yangheng <yangheng@m.scnu.edu.cn>\n",
        "# github: https://github.com/yangheng95\n",
        "# Copyright (C) 2021. All Rights Reserved.\n",
        "!pip install gradio\n",
        "import gradio as gr\n",
        "import pandas as pd\n",
        "\n",
        "from pyabsa import ATEPCCheckpointManager\n",
        "\n",
        "aspect_extractor = ATEPCCheckpointManager.get_aspect_extractor(checkpoint='multilingual',\n",
        "                                                               auto_device=True  # False means load model on CPU\n",
        "                                                               )\n",
        "\n",
        "\n",
        "def inference(text):\n",
        "    result = aspect_extractor.extract_aspect(inference_source=[text],\n",
        "                                             pred_sentiment=True)\n",
        "\n",
        "    result = pd.DataFrame({\n",
        "        'aspect': result[0]['aspect'],\n",
        "        'sentiment': result[0]['sentiment']\n",
        "    })\n",
        "\n",
        "    return result\n",
        "\n",
        "\n",
        "if __name__ == '__main__':\n",
        "    iface = gr.Interface(\n",
        "        fn=inference,\n",
        "        inputs=[\"text\"],\n",
        "        examples=[['The wine list is incredible and extensive and diverse , the food is all incredible and the staff was all very nice ,'\n",
        "                   ' good at their jobs and cultured .'],\n",
        "                  ['Though the menu includes some unorthodox offerings (a peanut butter roll, for instance), the classics are pure and '\n",
        "                   'great--we have never had better sushi anywhere, including Japan.'],\n",
        "                  ['Everything, from the soft bread, soggy salad, and 50 minute wait time, with an incredibly rude service to deliver'\n",
        "                   ' below average food .'],\n",
        "                  ['Even though it is running Snow Leopard, 2.4 GHz C2D is a bit of an antiquated CPU and thus the occasional spinning '\n",
        "                   'wheel would appear when running Office Mac applications such as Word or Excel .'],\n",
        "                  ['This demo is trained on the laptop and restaurant and other review datasets from ABSADatasets (https://github.com/yangheng95/ABSADatasets)'],\n",
        "                  ['To fit on your data, please train the model on your own data, see the PyABSA (https://github.com/yangheng95/PyABSA)'],\n",
        "                  ],\n",
        "        outputs=\"dataframe\",\n",
        "        title='Aspect Term Extraction for Short Texts (powered by PyABSA)'\n",
        "    )\n",
        "\n",
        "    iface.launch()\n"
      ],
      "metadata": {
        "id": "lwZvFdQLbGoM",
        "colab": {
          "base_uri": "https://localhost:8080/",
          "height": 1000
        },
        "outputId": "8b400253-55e6-40e3-aa11-6f0696bd3b92"
      },
      "execution_count": null,
      "outputs": [
        {
          "output_type": "stream",
          "name": "stdout",
          "text": [
            "Looking in indexes: https://pypi.org/simple, https://us-python.pkg.dev/colab-wheels/public/simple/\n",
            "Requirement already satisfied: gradio in /usr/local/lib/python3.7/dist-packages (3.3)\n",
            "Requirement already satisfied: numpy in /usr/local/lib/python3.7/dist-packages (from gradio) (1.21.6)\n",
            "Requirement already satisfied: Jinja2 in /usr/local/lib/python3.7/dist-packages (from gradio) (2.11.3)\n",
            "Requirement already satisfied: pyyaml in /usr/local/lib/python3.7/dist-packages (from gradio) (6.0)\n",
            "Requirement already satisfied: aiohttp in /usr/local/lib/python3.7/dist-packages (from gradio) (3.8.1)\n",
            "Requirement already satisfied: orjson in /usr/local/lib/python3.7/dist-packages (from gradio) (3.8.0)\n",
            "Requirement already satisfied: requests in /usr/local/lib/python3.7/dist-packages (from gradio) (2.23.0)\n",
            "Requirement already satisfied: python-multipart in /usr/local/lib/python3.7/dist-packages (from gradio) (0.0.5)\n",
            "Requirement already satisfied: pandas in /usr/local/lib/python3.7/dist-packages (from gradio) (1.3.5)\n",
            "Requirement already satisfied: ffmpy in /usr/local/lib/python3.7/dist-packages (from gradio) (0.3.0)\n",
            "Requirement already satisfied: h11<0.13,>=0.11 in /usr/local/lib/python3.7/dist-packages (from gradio) (0.12.0)\n",
            "Requirement already satisfied: websockets in /usr/local/lib/python3.7/dist-packages (from gradio) (10.3)\n",
            "Requirement already satisfied: pillow in /usr/local/lib/python3.7/dist-packages (from gradio) (7.1.2)\n",
            "Requirement already satisfied: matplotlib in /usr/local/lib/python3.7/dist-packages (from gradio) (3.2.2)\n",
            "Requirement already satisfied: markdown-it-py[linkify,plugins] in /usr/local/lib/python3.7/dist-packages (from gradio) (2.1.0)\n",
            "Requirement already satisfied: analytics-python in /usr/local/lib/python3.7/dist-packages (from gradio) (1.4.0)\n",
            "Requirement already satisfied: paramiko in /usr/local/lib/python3.7/dist-packages (from gradio) (2.11.0)\n",
            "Requirement already satisfied: pydub in /usr/local/lib/python3.7/dist-packages (from gradio) (0.25.1)\n",
            "Requirement already satisfied: uvicorn in /usr/local/lib/python3.7/dist-packages (from gradio) (0.18.3)\n",
            "Requirement already satisfied: fastapi in /usr/local/lib/python3.7/dist-packages (from gradio) (0.82.0)\n",
            "Requirement already satisfied: httpx in /usr/local/lib/python3.7/dist-packages (from gradio) (0.23.0)\n",
            "Requirement already satisfied: pydantic in /usr/local/lib/python3.7/dist-packages (from gradio) (1.9.2)\n",
            "Requirement already satisfied: fsspec in /usr/local/lib/python3.7/dist-packages (from gradio) (2022.8.1)\n",
            "Requirement already satisfied: pycryptodome in /usr/local/lib/python3.7/dist-packages (from gradio) (3.15.0)\n",
            "Requirement already satisfied: attrs>=17.3.0 in /usr/local/lib/python3.7/dist-packages (from aiohttp->gradio) (22.1.0)\n",
            "Requirement already satisfied: multidict<7.0,>=4.5 in /usr/local/lib/python3.7/dist-packages (from aiohttp->gradio) (6.0.2)\n",
            "Requirement already satisfied: typing-extensions>=3.7.4 in /usr/local/lib/python3.7/dist-packages (from aiohttp->gradio) (4.1.1)\n",
            "Requirement already satisfied: aiosignal>=1.1.2 in /usr/local/lib/python3.7/dist-packages (from aiohttp->gradio) (1.2.0)\n",
            "Requirement already satisfied: yarl<2.0,>=1.0 in /usr/local/lib/python3.7/dist-packages (from aiohttp->gradio) (1.8.1)\n",
            "Requirement already satisfied: asynctest==0.13.0 in /usr/local/lib/python3.7/dist-packages (from aiohttp->gradio) (0.13.0)\n",
            "Requirement already satisfied: async-timeout<5.0,>=4.0.0a3 in /usr/local/lib/python3.7/dist-packages (from aiohttp->gradio) (4.0.2)\n",
            "Requirement already satisfied: frozenlist>=1.1.1 in /usr/local/lib/python3.7/dist-packages (from aiohttp->gradio) (1.3.1)\n",
            "Requirement already satisfied: charset-normalizer<3.0,>=2.0 in /usr/local/lib/python3.7/dist-packages (from aiohttp->gradio) (2.1.1)\n",
            "Requirement already satisfied: idna>=2.0 in /usr/local/lib/python3.7/dist-packages (from yarl<2.0,>=1.0->aiohttp->gradio) (2.10)\n",
            "Requirement already satisfied: monotonic>=1.5 in /usr/local/lib/python3.7/dist-packages (from analytics-python->gradio) (1.6)\n",
            "Requirement already satisfied: backoff==1.10.0 in /usr/local/lib/python3.7/dist-packages (from analytics-python->gradio) (1.10.0)\n",
            "Requirement already satisfied: six>=1.5 in /usr/local/lib/python3.7/dist-packages (from analytics-python->gradio) (1.15.0)\n",
            "Requirement already satisfied: python-dateutil>2.1 in /usr/local/lib/python3.7/dist-packages (from analytics-python->gradio) (2.8.2)\n",
            "Requirement already satisfied: urllib3!=1.25.0,!=1.25.1,<1.26,>=1.21.1 in /usr/local/lib/python3.7/dist-packages (from requests->gradio) (1.24.3)\n",
            "Requirement already satisfied: chardet<4,>=3.0.2 in /usr/local/lib/python3.7/dist-packages (from requests->gradio) (3.0.4)\n",
            "Requirement already satisfied: certifi>=2017.4.17 in /usr/local/lib/python3.7/dist-packages (from requests->gradio) (2022.6.15)\n",
            "Requirement already satisfied: starlette==0.19.1 in /usr/local/lib/python3.7/dist-packages (from fastapi->gradio) (0.19.1)\n",
            "Requirement already satisfied: anyio<5,>=3.4.0 in /usr/local/lib/python3.7/dist-packages (from starlette==0.19.1->fastapi->gradio) (3.6.1)\n",
            "Requirement already satisfied: sniffio>=1.1 in /usr/local/lib/python3.7/dist-packages (from anyio<5,>=3.4.0->starlette==0.19.1->fastapi->gradio) (1.3.0)\n",
            "Requirement already satisfied: rfc3986[idna2008]<2,>=1.3 in /usr/local/lib/python3.7/dist-packages (from httpx->gradio) (1.5.0)\n",
            "Requirement already satisfied: httpcore<0.16.0,>=0.15.0 in /usr/local/lib/python3.7/dist-packages (from httpx->gradio) (0.15.0)\n",
            "Requirement already satisfied: MarkupSafe>=0.23 in /usr/local/lib/python3.7/dist-packages (from Jinja2->gradio) (2.0.1)\n",
            "Requirement already satisfied: mdurl~=0.1 in /usr/local/lib/python3.7/dist-packages (from markdown-it-py[linkify,plugins]->gradio) (0.1.2)\n",
            "Requirement already satisfied: mdit-py-plugins in /usr/local/lib/python3.7/dist-packages (from markdown-it-py[linkify,plugins]->gradio) (0.3.0)\n",
            "Requirement already satisfied: linkify-it-py~=1.0 in /usr/local/lib/python3.7/dist-packages (from markdown-it-py[linkify,plugins]->gradio) (1.0.3)\n",
            "Requirement already satisfied: uc-micro-py in /usr/local/lib/python3.7/dist-packages (from linkify-it-py~=1.0->markdown-it-py[linkify,plugins]->gradio) (1.0.1)\n",
            "Requirement already satisfied: kiwisolver>=1.0.1 in /usr/local/lib/python3.7/dist-packages (from matplotlib->gradio) (1.4.4)\n",
            "Requirement already satisfied: cycler>=0.10 in /usr/local/lib/python3.7/dist-packages (from matplotlib->gradio) (0.11.0)\n",
            "Requirement already satisfied: pyparsing!=2.0.4,!=2.1.2,!=2.1.6,>=2.0.1 in /usr/local/lib/python3.7/dist-packages (from matplotlib->gradio) (3.0.9)\n",
            "Requirement already satisfied: pytz>=2017.3 in /usr/local/lib/python3.7/dist-packages (from pandas->gradio) (2022.2.1)\n",
            "Requirement already satisfied: cryptography>=2.5 in /usr/local/lib/python3.7/dist-packages (from paramiko->gradio) (38.0.1)\n",
            "Requirement already satisfied: pynacl>=1.0.1 in /usr/local/lib/python3.7/dist-packages (from paramiko->gradio) (1.5.0)\n",
            "Requirement already satisfied: bcrypt>=3.1.3 in /usr/local/lib/python3.7/dist-packages (from paramiko->gradio) (4.0.0)\n",
            "Requirement already satisfied: cffi>=1.12 in /usr/local/lib/python3.7/dist-packages (from cryptography>=2.5->paramiko->gradio) (1.15.1)\n",
            "Requirement already satisfied: pycparser in /usr/local/lib/python3.7/dist-packages (from cffi>=1.12->cryptography>=2.5->paramiko->gradio) (2.21)\n",
            "Requirement already satisfied: click>=7.0 in /usr/local/lib/python3.7/dist-packages (from uvicorn->gradio) (7.1.2)\n",
            "Load aspect extractor from checkpoints/ATEPC_MULTILINGUAL_CHECKPOINT\n",
            "config: checkpoints/ATEPC_MULTILINGUAL_CHECKPOINT/fast_lcf_atepc.config\n",
            "state_dict: checkpoints/ATEPC_MULTILINGUAL_CHECKPOINT/fast_lcf_atepc.state_dict\n",
            "model: None\n",
            "tokenizer: checkpoints/ATEPC_MULTILINGUAL_CHECKPOINT/fast_lcf_atepc.tokenizer\n"
          ]
        },
        {
          "output_type": "stream",
          "name": "stderr",
          "text": [
            "Some weights of the model checkpoint at microsoft/mdeberta-v3-base were not used when initializing DebertaV2Model: ['mask_predictions.classifier.weight', 'mask_predictions.LayerNorm.bias', 'mask_predictions.classifier.bias', 'lm_predictions.lm_head.LayerNorm.weight', 'lm_predictions.lm_head.dense.weight', 'lm_predictions.lm_head.bias', 'lm_predictions.lm_head.LayerNorm.bias', 'mask_predictions.dense.bias', 'lm_predictions.lm_head.dense.bias', 'mask_predictions.dense.weight', 'mask_predictions.LayerNorm.weight']\n",
            "- This IS expected if you are initializing DebertaV2Model from the checkpoint of a model trained on another task or with another architecture (e.g. initializing a BertForSequenceClassification model from a BertForPreTraining model).\n",
            "- This IS NOT expected if you are initializing DebertaV2Model from the checkpoint of a model that you expect to be exactly identical (initializing a BertForSequenceClassification model from a BertForSequenceClassification model).\n",
            "Special tokens have been added in the vocabulary, make sure the associated word embeddings are fine-tuned or trained.\n",
            "Special tokens have been added in the vocabulary, make sure the associated word embeddings are fine-tuned or trained.\n"
          ]
        },
        {
          "output_type": "stream",
          "name": "stdout",
          "text": [
            "Config used in Training:\n",
            "ABSADatasetsVersion:2022.07.05\t-->\tCalling Count:0\n",
            "IOB_label_to_index:{'B-ASP': 1, 'I-ASP': 2, 'O': 3, '[CLS]': 4, '[SEP]': 5}\t-->\tCalling Count:1\n",
            "MV:<metric_visualizer.metric_visualizer.MetricVisualizer object at 0x7f1726810990>\t-->\tCalling Count:0\n",
            "PyABSAVersion:1.16.2\t-->\tCalling Count:0\n",
            "SRD:3\t-->\tCalling Count:490152\n",
            "TorchVersion:1.11.0+cuda11.3\t-->\tCalling Count:0\n",
            "TransformersVersion:4.20.1\t-->\tCalling Count:0\n",
            "auto_device:True\t-->\tCalling Count:294967\n",
            "batch_size:16\t-->\tCalling Count:5\n",
            "cache_dataset:False\t-->\tCalling Count:1\n",
            "dataset_file:{'train': ['integrated_datasets/atepc_datasets/110.SemEval/113.laptop14/Laptops_Train.xml.seg.atepc', 'integrated_datasets/atepc_datasets/110.SemEval/113.laptop14/2.cross_boost.fast_lcf_bert_Laptop14_deberta-v3-base.train.augment.ignore.atepc', 'integrated_datasets/atepc_datasets/110.SemEval/113.laptop14/1.cross_boost.fast_lcf_bert_Laptop14_deberta-v3-base.train.augment.ignore.atepc', 'integrated_datasets/atepc_datasets/110.SemEval/113.laptop14/0.cross_boost.fast_lcf_bert_Laptop14_deberta-v3-base.train.augment.ignore.atepc', 'integrated_datasets/atepc_datasets/110.SemEval/113.laptop14/3.cross_boost.fast_lcf_bert_Laptop14_deberta-v3-base.train.augment.ignore.atepc', 'integrated_datasets/atepc_datasets/110.SemEval/114.restaurant14/Restaurants_Train.xml.seg.atepc', 'integrated_datasets/atepc_datasets/110.SemEval/114.restaurant14/0.cross_boost.fast_lcf_bert_Restaurant14_deberta-v3-base.train.augment.ignore.atepc', 'integrated_datasets/atepc_datasets/110.SemEval/114.restaurant14/3.cross_boost.fast_lcf_bert_Restaurant14_deberta-v3-base.train.augment.ignore.atepc', 'integrated_datasets/atepc_datasets/110.SemEval/114.restaurant14/2.cross_boost.fast_lcf_bert_Restaurant14_deberta-v3-base.train.augment.ignore.atepc', 'integrated_datasets/atepc_datasets/110.SemEval/114.restaurant14/1.cross_boost.fast_lcf_bert_Restaurant14_deberta-v3-base.train.augment.ignore.atepc', 'integrated_datasets/atepc_datasets/110.SemEval/116.restaurant16/restaurant_train.raw.atepc', 'integrated_datasets/atepc_datasets/110.SemEval/116.restaurant16/3.cross_boost.fast_lcf_bert_Restaurant16_deberta-v3-base.train.augment.ignore.atepc', 'integrated_datasets/atepc_datasets/110.SemEval/116.restaurant16/1.cross_boost.fast_lcf_bert_Restaurant16_deberta-v3-base.train.augment.ignore.atepc', 'integrated_datasets/atepc_datasets/110.SemEval/116.restaurant16/0.cross_boost.fast_lcf_bert_Restaurant16_deberta-v3-base.train.augment.ignore.atepc', 'integrated_datasets/atepc_datasets/110.SemEval/116.restaurant16/2.cross_boost.fast_lcf_bert_Restaurant16_deberta-v3-base.train.augment.ignore.atepc', 'integrated_datasets/atepc_datasets/101.ACL_Twitter/acl-14-short-data/train.raw.atepc', 'integrated_datasets/atepc_datasets/101.ACL_Twitter/acl-14-short-data/0.cross_boost.fast_lcf_bert_Twitter_deberta-v3-base.train.augment.ignore.atepc', 'integrated_datasets/atepc_datasets/101.ACL_Twitter/acl-14-short-data/3.cross_boost.fast_lcf_bert_Twitter_deberta-v3-base.train.augment.ignore.atepc', 'integrated_datasets/atepc_datasets/101.ACL_Twitter/acl-14-short-data/1.cross_boost.fast_lcf_bert_Twitter_deberta-v3-base.train.augment.ignore.atepc', 'integrated_datasets/atepc_datasets/101.ACL_Twitter/acl-14-short-data/2.cross_boost.fast_lcf_bert_Twitter_deberta-v3-base.train.augment.ignore.atepc', 'integrated_datasets/atepc_datasets/109.MAMS/train.xml.dat.atepc', 'integrated_datasets/atepc_datasets/109.MAMS/0.cross_boost.fast_lcf_bert_MAMS_deberta-v3-base.train.augment.ignore.atepc', 'integrated_datasets/atepc_datasets/109.MAMS/1.cross_boost.fast_lcf_bert_MAMS_deberta-v3-base.train.augment.ignore.atepc', 'integrated_datasets/atepc_datasets/109.MAMS/2.cross_boost.fast_lcf_bert_MAMS_deberta-v3-base.train.augment.ignore.atepc', 'integrated_datasets/atepc_datasets/109.MAMS/3.cross_boost.fast_lcf_bert_MAMS_deberta-v3-base.train.augment.ignore.atepc', 'integrated_datasets/atepc_datasets/117.Television/Television_Train.xml.seg.atepc', 'integrated_datasets/atepc_datasets/117.Television/1.cross_boost.fast_lcf_bert_Television_deberta-v3-base.train.augment.ignore.atepc', 'integrated_datasets/atepc_datasets/117.Television/3.cross_boost.fast_lcf_bert_Television_deberta-v3-base.train.augment.ignore.atepc', 'integrated_datasets/atepc_datasets/117.Television/0.cross_boost.fast_lcf_bert_Television_deberta-v3-base.train.augment.ignore.atepc', 'integrated_datasets/atepc_datasets/117.Television/2.cross_boost.fast_lcf_bert_Television_deberta-v3-base.train.augment.ignore.atepc', 'integrated_datasets/atepc_datasets/118.TShirt/Menstshirt_Train.xml.seg.atepc', 'integrated_datasets/atepc_datasets/118.TShirt/3.cross_boost.fast_lcf_bert_TShirt_deberta-v3-base.train.augment.ignore.atepc', 'integrated_datasets/atepc_datasets/118.TShirt/1.cross_boost.fast_lcf_bert_TShirt_deberta-v3-base.train.augment.ignore.atepc', 'integrated_datasets/atepc_datasets/118.TShirt/0.cross_boost.fast_lcf_bert_TShirt_deberta-v3-base.train.augment.ignore.atepc', 'integrated_datasets/atepc_datasets/118.TShirt/2.cross_boost.fast_lcf_bert_TShirt_deberta-v3-base.train.augment.ignore.atepc', 'integrated_datasets/atepc_datasets/119.Yelp/yelp.train.txt.atepc', 'integrated_datasets/atepc_datasets/119.Yelp/1.cross_boost.fast_lcf_bert_Yelp_deberta-v3-base.train.augment.ignore.atepc', 'integrated_datasets/atepc_datasets/119.Yelp/3.cross_boost.fast_lcf_bert_Yelp_deberta-v3-base.train.augment.ignore.atepc', 'integrated_datasets/atepc_datasets/119.Yelp/0.cross_boost.fast_lcf_bert_Yelp_deberta-v3-base.train.augment.ignore.atepc', 'integrated_datasets/atepc_datasets/119.Yelp/2.cross_boost.fast_lcf_bert_Yelp_deberta-v3-base.train.augment.ignore.atepc', 'integrated_datasets/atepc_datasets/102.Chinese/107.phone/phone.train.txt.atepc', 'integrated_datasets/atepc_datasets/102.Chinese/103.camera/camera.train.txt.atepc', 'integrated_datasets/atepc_datasets/102.Chinese/106.notebook/notebook.train.txt.atepc', 'integrated_datasets/atepc_datasets/102.Chinese/104.car/car.train.txt.atepc', 'integrated_datasets/atepc_datasets/102.Chinese/105.mooc/mooc.train.txt.atepc', 'integrated_datasets/atepc_datasets/120.SemEval2016Task5/train/hotels_train_arabic.xml.dat.atepc', 'integrated_datasets/atepc_datasets/120.SemEval2016Task5/train/restaurants_train_dutch.xml.dat.atepc', 'integrated_datasets/atepc_datasets/120.SemEval2016Task5/train/restaurants_train_english.xml.dat.atepc', 'integrated_datasets/atepc_datasets/120.SemEval2016Task5/train/restaurants_train_french.xml.dat.atepc', 'integrated_datasets/atepc_datasets/120.SemEval2016Task5/train/restaurants_train_russian.xml.dat.atepc', 'integrated_datasets/atepc_datasets/120.SemEval2016Task5/train/restaurants_train_spanish.xml.dat.atepc', 'integrated_datasets/atepc_datasets/120.SemEval2016Task5/train/restaurants_train_turkish.xml.dat.atepc', 'integrated_datasets/atepc_datasets/120.SemEval2016Task5/122.arabic/hotels_train_arabic.xml.dat.atepc', 'integrated_datasets/atepc_datasets/120.SemEval2016Task5/123.dutch/restaurants_train_dutch.xml.dat.atepc', 'integrated_datasets/atepc_datasets/120.SemEval2016Task5/124.english/restaurants_train_english.xml.dat.atepc', 'integrated_datasets/atepc_datasets/120.SemEval2016Task5/125.french/restaurants_train_french.xml.dat.atepc', 'integrated_datasets/atepc_datasets/120.SemEval2016Task5/126.russian/restaurants_train_russian.xml.dat.atepc', 'integrated_datasets/atepc_datasets/120.SemEval2016Task5/127.spanish/restaurants_train_spanish.xml.dat.atepc', 'integrated_datasets/atepc_datasets/120.SemEval2016Task5/128.turkish/restaurants_train_turkish.xml.dat.atepc', 'integrated_datasets/atepc_datasets/121.MOOC_En/1.cross_boost.fast_lcf_bert_MOOC_En_deberta-v3-base.train.atepc', 'integrated_datasets/atepc_datasets/121.MOOC_En/2.cross_boost.fast_lcf_bert_MOOC_En_deberta-v3-base.train.atepc', 'integrated_datasets/atepc_datasets/121.MOOC_En/0.cross_boost.fast_lcf_bert_MOOC_En_deberta-v3-base.train.atepc', 'integrated_datasets/atepc_datasets/121.MOOC_En/3.cross_boost.fast_lcf_bert_MOOC_En_deberta-v3-base.train.atepc', 'integrated_datasets/atepc_datasets/121.MOOC_En/4.cross_boost.fast_lcf_bert_MOOC_En_deberta-v3-base.train.atepc', 'integrated_datasets/atepc_datasets/121.MOOC_En/mooc-en.train.txt.atepc'], 'test': ['integrated_datasets/atepc_datasets/110.SemEval/113.laptop14/Laptops_Test_Gold.xml.seg.atepc', 'integrated_datasets/atepc_datasets/110.SemEval/114.restaurant14/Restaurants_Test_Gold.xml.seg.atepc', 'integrated_datasets/atepc_datasets/110.SemEval/116.restaurant16/restaurant_test.raw.atepc', 'integrated_datasets/atepc_datasets/101.ACL_Twitter/acl-14-short-data/test.raw.atepc', 'integrated_datasets/atepc_datasets/109.MAMS/test.xml.dat.atepc', 'integrated_datasets/atepc_datasets/117.Television/Television_Test_Gold.xml.seg.atepc', 'integrated_datasets/atepc_datasets/118.TShirt/Menstshirt_Test_Gold.xml.seg.atepc', 'integrated_datasets/atepc_datasets/119.Yelp/yelp.test.txt.atepc', 'integrated_datasets/atepc_datasets/102.Chinese/107.phone/phone.test.txt.atepc', 'integrated_datasets/atepc_datasets/102.Chinese/103.camera/camera.test.txt.atepc', 'integrated_datasets/atepc_datasets/102.Chinese/106.notebook/notebook.test.txt.atepc', 'integrated_datasets/atepc_datasets/102.Chinese/104.car/car.test.txt.atepc', 'integrated_datasets/atepc_datasets/102.Chinese/105.mooc/mooc.test.txt.atepc', 'integrated_datasets/atepc_datasets/120.SemEval2016Task5/test/hotels_test_arabic.xml.dat.atepc', 'integrated_datasets/atepc_datasets/120.SemEval2016Task5/test/restaurants_test_dutch.xml.dat.atepc', 'integrated_datasets/atepc_datasets/120.SemEval2016Task5/test/restaurants_test_english.xml.dat.atepc', 'integrated_datasets/atepc_datasets/120.SemEval2016Task5/test/restaurants_test_french.xml.dat.atepc', 'integrated_datasets/atepc_datasets/120.SemEval2016Task5/test/restaurants_test_russian.xml.dat.atepc', 'integrated_datasets/atepc_datasets/120.SemEval2016Task5/test/restaurants_test_spanish.xml.dat.atepc', 'integrated_datasets/atepc_datasets/120.SemEval2016Task5/test/restaurants_test_turkish.xml.dat.atepc', 'integrated_datasets/atepc_datasets/120.SemEval2016Task5/122.arabic/hotels_test_arabic.xml.dat.atepc', 'integrated_datasets/atepc_datasets/120.SemEval2016Task5/123.dutch/restaurants_test_dutch.xml.dat.atepc', 'integrated_datasets/atepc_datasets/120.SemEval2016Task5/124.english/restaurants_test_english.xml.dat.atepc', 'integrated_datasets/atepc_datasets/120.SemEval2016Task5/125.french/restaurants_test_french.xml.dat.atepc', 'integrated_datasets/atepc_datasets/120.SemEval2016Task5/126.russian/restaurants_test_russian.xml.dat.atepc', 'integrated_datasets/atepc_datasets/120.SemEval2016Task5/127.spanish/restaurants_test_spanish.xml.dat.atepc', 'integrated_datasets/atepc_datasets/120.SemEval2016Task5/128.turkish/restaurants_test_turkish.xml.dat.atepc', 'integrated_datasets/atepc_datasets/121.MOOC_En/mooc-en.test.txt.atepc'], 'valid': ['integrated_datasets/atepc_datasets/109.MAMS/valid.xml.dat.atepc']}\t-->\tCalling Count:46\n",
            "dataset_name:Multilingual\t-->\tCalling Count:23\n",
            "device:cuda:0\t-->\tCalling Count:3135911\n",
            "device_name:NVIDIA GeForce RTX 3090\t-->\tCalling Count:0\n",
            "dropout:0.5\t-->\tCalling Count:2\n",
            "dynamic_truncate:True\t-->\tCalling Count:490152\n",
            "embed_dim:768\t-->\tCalling Count:0\n",
            "evaluate_begin:0\t-->\tCalling Count:43\n",
            "gradient_accumulation_steps:1\t-->\tCalling Count:3\n",
            "hidden_dim:768\t-->\tCalling Count:12\n",
            "index_to_IOB_label:{1: 'B-ASP', 2: 'I-ASP', 3: 'O', 4: '[CLS]', 5: '[SEP]'}\t-->\tCalling Count:0\n",
            "index_to_label:{0: 'Negative', 1: 'Neutral', 2: 'Positive'}\t-->\tCalling Count:2\n",
            "initializer:xavier_uniform_\t-->\tCalling Count:0\n",
            "l2reg:1e-05\t-->\tCalling Count:2\n",
            "label_list:['B-ASP', 'I-ASP', 'O', '[CLS]', '[SEP]']\t-->\tCalling Count:45\n",
            "label_to_index:{'Negative': 0, 'Neutral': 1, 'Positive': 2}\t-->\tCalling Count:0\n",
            "lcf:cdw\t-->\tCalling Count:696883\n",
            "learning_rate:1e-05\t-->\tCalling Count:1\n",
            "log_step:14046\t-->\tCalling Count:294968\n",
            "max_seq_len:128\t-->\tCalling Count:2412398\n",
            "max_test_metrics:{'max_apc_test_acc': 87.71, 'max_apc_test_f1': 79.93, 'max_ate_test_f1': 78.03}\t-->\tCalling Count:324\n",
            "metrics_of_this_checkpoint:{'apc_acc': 86.76, 'apc_f1': 79.78, 'ate_f1': 78.03}\t-->\tCalling Count:126\n",
            "model:<class 'pyabsa.core.atepc.models.fast_lcf_atepc.FAST_LCF_ATEPC'>\t-->\tCalling Count:6\n",
            "model_name:fast_lcf_atepc\t-->\tCalling Count:245172\n",
            "model_path_to_save:checkpoints\t-->\tCalling Count:41\n",
            "num_epoch:30\t-->\tCalling Count:2\n",
            "num_labels:6\t-->\tCalling Count:6\n",
            "optimizer:adamw\t-->\tCalling Count:2\n",
            "patience:99999\t-->\tCalling Count:20\n",
            "output_dim:3\t-->\tCalling Count:44\n",
            "pretrained_bert:microsoft/mdeberta-v3-base\t-->\tCalling Count:7\n",
            "save_mode:1\t-->\tCalling Count:37\n",
            "seed:52\t-->\tCalling Count:7\n",
            "sep_indices:2\t-->\tCalling Count:6428835\n",
            "show_metric:False\t-->\tCalling Count:0\n",
            "spacy_model:en_core_web_sm\t-->\tCalling Count:3\n",
            "srd_alignment:True\t-->\tCalling Count:0\n",
            "use_bert_spc:True\t-->\tCalling Count:401898\n",
            "use_syntax_based_SRD:False\t-->\tCalling Count:245076\n",
            "warmup_step:-1\t-->\tCalling Count:294967\n",
            "window:lr\t-->\tCalling Count:0\n",
            "Colab notebook detected. To show errors in colab notebook, set `debug=True` in `launch()`\n",
            "Running on public URL: https://19680.gradio.app\n",
            "\n",
            "This share link expires in 72 hours. For free permanent hosting, check out Spaces: https://huggingface.co/spaces\n"
          ]
        },
        {
          "output_type": "display_data",
          "data": {
            "text/plain": [
              "<IPython.core.display.HTML object>"
            ],
            "text/html": [
              "<div><iframe src=\"https://19680.gradio.app\" width=\"900\" height=\"500\" allow=\"autoplay; camera; microphone;\" frameborder=\"0\" allowfullscreen></iframe></div>"
            ]
          },
          "metadata": {}
        }
      ]
    }
  ]
}