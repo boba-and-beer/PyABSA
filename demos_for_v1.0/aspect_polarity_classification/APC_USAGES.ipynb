{
  "nbformat": 4,
  "nbformat_minor": 0,
  "metadata": {
    "colab": {
      "provenance": [],
      "collapsed_sections": []
    },
    "kernelspec": {
      "name": "python3",
      "display_name": "Python 3"
    },
    "language_info": {
      "name": "python"
    },
    "widgets": {
      "application/vnd.jupyter.widget-state+json": {
        "047421f3fa49430f8ec682064082f715": {
          "model_module": "@jupyter-widgets/controls",
          "model_name": "HBoxModel",
          "model_module_version": "1.5.0",
          "state": {
            "_dom_classes": [],
            "_model_module": "@jupyter-widgets/controls",
            "_model_module_version": "1.5.0",
            "_model_name": "HBoxModel",
            "_view_count": null,
            "_view_module": "@jupyter-widgets/controls",
            "_view_module_version": "1.5.0",
            "_view_name": "HBoxView",
            "box_style": "",
            "children": [
              "IPY_MODEL_d41c5920fa1944d8ba277f44e76d9212",
              "IPY_MODEL_c13d45e655c54190b95e7885a18d4211",
              "IPY_MODEL_acc7f865e9684ecf95635e4735834d25"
            ],
            "layout": "IPY_MODEL_962f4efe5c3a43439e93b8f61af7eeb1"
          }
        },
        "d41c5920fa1944d8ba277f44e76d9212": {
          "model_module": "@jupyter-widgets/controls",
          "model_name": "HTMLModel",
          "model_module_version": "1.5.0",
          "state": {
            "_dom_classes": [],
            "_model_module": "@jupyter-widgets/controls",
            "_model_module_version": "1.5.0",
            "_model_name": "HTMLModel",
            "_view_count": null,
            "_view_module": "@jupyter-widgets/controls",
            "_view_module_version": "1.5.0",
            "_view_name": "HTMLView",
            "description": "",
            "description_tooltip": null,
            "layout": "IPY_MODEL_6d2b5932d2884d7ab4369ef0bdd9598c",
            "placeholder": "​",
            "style": "IPY_MODEL_2d53096ee4764df5aaaf357d81991904",
            "value": "Downloading tokenizer_config.json: 100%"
          }
        },
        "c13d45e655c54190b95e7885a18d4211": {
          "model_module": "@jupyter-widgets/controls",
          "model_name": "FloatProgressModel",
          "model_module_version": "1.5.0",
          "state": {
            "_dom_classes": [],
            "_model_module": "@jupyter-widgets/controls",
            "_model_module_version": "1.5.0",
            "_model_name": "FloatProgressModel",
            "_view_count": null,
            "_view_module": "@jupyter-widgets/controls",
            "_view_module_version": "1.5.0",
            "_view_name": "ProgressView",
            "bar_style": "success",
            "description": "",
            "description_tooltip": null,
            "layout": "IPY_MODEL_5e2e357db4904334ba2ed8917ce788be",
            "max": 52,
            "min": 0,
            "orientation": "horizontal",
            "style": "IPY_MODEL_de62d7d818664366a6a20bb99117e111",
            "value": 52
          }
        },
        "acc7f865e9684ecf95635e4735834d25": {
          "model_module": "@jupyter-widgets/controls",
          "model_name": "HTMLModel",
          "model_module_version": "1.5.0",
          "state": {
            "_dom_classes": [],
            "_model_module": "@jupyter-widgets/controls",
            "_model_module_version": "1.5.0",
            "_model_name": "HTMLModel",
            "_view_count": null,
            "_view_module": "@jupyter-widgets/controls",
            "_view_module_version": "1.5.0",
            "_view_name": "HTMLView",
            "description": "",
            "description_tooltip": null,
            "layout": "IPY_MODEL_0a29f766bd6c4c65baec4303dc94f33a",
            "placeholder": "​",
            "style": "IPY_MODEL_c2632c14c3874352b160c360b06f6870",
            "value": " 52.0/52.0 [00:00&lt;00:00, 1.49kB/s]"
          }
        },
        "962f4efe5c3a43439e93b8f61af7eeb1": {
          "model_module": "@jupyter-widgets/base",
          "model_name": "LayoutModel",
          "model_module_version": "1.2.0",
          "state": {
            "_model_module": "@jupyter-widgets/base",
            "_model_module_version": "1.2.0",
            "_model_name": "LayoutModel",
            "_view_count": null,
            "_view_module": "@jupyter-widgets/base",
            "_view_module_version": "1.2.0",
            "_view_name": "LayoutView",
            "align_content": null,
            "align_items": null,
            "align_self": null,
            "border": null,
            "bottom": null,
            "display": null,
            "flex": null,
            "flex_flow": null,
            "grid_area": null,
            "grid_auto_columns": null,
            "grid_auto_flow": null,
            "grid_auto_rows": null,
            "grid_column": null,
            "grid_gap": null,
            "grid_row": null,
            "grid_template_areas": null,
            "grid_template_columns": null,
            "grid_template_rows": null,
            "height": null,
            "justify_content": null,
            "justify_items": null,
            "left": null,
            "margin": null,
            "max_height": null,
            "max_width": null,
            "min_height": null,
            "min_width": null,
            "object_fit": null,
            "object_position": null,
            "order": null,
            "overflow": null,
            "overflow_x": null,
            "overflow_y": null,
            "padding": null,
            "right": null,
            "top": null,
            "visibility": null,
            "width": null
          }
        },
        "6d2b5932d2884d7ab4369ef0bdd9598c": {
          "model_module": "@jupyter-widgets/base",
          "model_name": "LayoutModel",
          "model_module_version": "1.2.0",
          "state": {
            "_model_module": "@jupyter-widgets/base",
            "_model_module_version": "1.2.0",
            "_model_name": "LayoutModel",
            "_view_count": null,
            "_view_module": "@jupyter-widgets/base",
            "_view_module_version": "1.2.0",
            "_view_name": "LayoutView",
            "align_content": null,
            "align_items": null,
            "align_self": null,
            "border": null,
            "bottom": null,
            "display": null,
            "flex": null,
            "flex_flow": null,
            "grid_area": null,
            "grid_auto_columns": null,
            "grid_auto_flow": null,
            "grid_auto_rows": null,
            "grid_column": null,
            "grid_gap": null,
            "grid_row": null,
            "grid_template_areas": null,
            "grid_template_columns": null,
            "grid_template_rows": null,
            "height": null,
            "justify_content": null,
            "justify_items": null,
            "left": null,
            "margin": null,
            "max_height": null,
            "max_width": null,
            "min_height": null,
            "min_width": null,
            "object_fit": null,
            "object_position": null,
            "order": null,
            "overflow": null,
            "overflow_x": null,
            "overflow_y": null,
            "padding": null,
            "right": null,
            "top": null,
            "visibility": null,
            "width": null
          }
        },
        "2d53096ee4764df5aaaf357d81991904": {
          "model_module": "@jupyter-widgets/controls",
          "model_name": "DescriptionStyleModel",
          "model_module_version": "1.5.0",
          "state": {
            "_model_module": "@jupyter-widgets/controls",
            "_model_module_version": "1.5.0",
            "_model_name": "DescriptionStyleModel",
            "_view_count": null,
            "_view_module": "@jupyter-widgets/base",
            "_view_module_version": "1.2.0",
            "_view_name": "StyleView",
            "description_width": ""
          }
        },
        "5e2e357db4904334ba2ed8917ce788be": {
          "model_module": "@jupyter-widgets/base",
          "model_name": "LayoutModel",
          "model_module_version": "1.2.0",
          "state": {
            "_model_module": "@jupyter-widgets/base",
            "_model_module_version": "1.2.0",
            "_model_name": "LayoutModel",
            "_view_count": null,
            "_view_module": "@jupyter-widgets/base",
            "_view_module_version": "1.2.0",
            "_view_name": "LayoutView",
            "align_content": null,
            "align_items": null,
            "align_self": null,
            "border": null,
            "bottom": null,
            "display": null,
            "flex": null,
            "flex_flow": null,
            "grid_area": null,
            "grid_auto_columns": null,
            "grid_auto_flow": null,
            "grid_auto_rows": null,
            "grid_column": null,
            "grid_gap": null,
            "grid_row": null,
            "grid_template_areas": null,
            "grid_template_columns": null,
            "grid_template_rows": null,
            "height": null,
            "justify_content": null,
            "justify_items": null,
            "left": null,
            "margin": null,
            "max_height": null,
            "max_width": null,
            "min_height": null,
            "min_width": null,
            "object_fit": null,
            "object_position": null,
            "order": null,
            "overflow": null,
            "overflow_x": null,
            "overflow_y": null,
            "padding": null,
            "right": null,
            "top": null,
            "visibility": null,
            "width": null
          }
        },
        "de62d7d818664366a6a20bb99117e111": {
          "model_module": "@jupyter-widgets/controls",
          "model_name": "ProgressStyleModel",
          "model_module_version": "1.5.0",
          "state": {
            "_model_module": "@jupyter-widgets/controls",
            "_model_module_version": "1.5.0",
            "_model_name": "ProgressStyleModel",
            "_view_count": null,
            "_view_module": "@jupyter-widgets/base",
            "_view_module_version": "1.2.0",
            "_view_name": "StyleView",
            "bar_color": null,
            "description_width": ""
          }
        },
        "0a29f766bd6c4c65baec4303dc94f33a": {
          "model_module": "@jupyter-widgets/base",
          "model_name": "LayoutModel",
          "model_module_version": "1.2.0",
          "state": {
            "_model_module": "@jupyter-widgets/base",
            "_model_module_version": "1.2.0",
            "_model_name": "LayoutModel",
            "_view_count": null,
            "_view_module": "@jupyter-widgets/base",
            "_view_module_version": "1.2.0",
            "_view_name": "LayoutView",
            "align_content": null,
            "align_items": null,
            "align_self": null,
            "border": null,
            "bottom": null,
            "display": null,
            "flex": null,
            "flex_flow": null,
            "grid_area": null,
            "grid_auto_columns": null,
            "grid_auto_flow": null,
            "grid_auto_rows": null,
            "grid_column": null,
            "grid_gap": null,
            "grid_row": null,
            "grid_template_areas": null,
            "grid_template_columns": null,
            "grid_template_rows": null,
            "height": null,
            "justify_content": null,
            "justify_items": null,
            "left": null,
            "margin": null,
            "max_height": null,
            "max_width": null,
            "min_height": null,
            "min_width": null,
            "object_fit": null,
            "object_position": null,
            "order": null,
            "overflow": null,
            "overflow_x": null,
            "overflow_y": null,
            "padding": null,
            "right": null,
            "top": null,
            "visibility": null,
            "width": null
          }
        },
        "c2632c14c3874352b160c360b06f6870": {
          "model_module": "@jupyter-widgets/controls",
          "model_name": "DescriptionStyleModel",
          "model_module_version": "1.5.0",
          "state": {
            "_model_module": "@jupyter-widgets/controls",
            "_model_module_version": "1.5.0",
            "_model_name": "DescriptionStyleModel",
            "_view_count": null,
            "_view_module": "@jupyter-widgets/base",
            "_view_module_version": "1.2.0",
            "_view_name": "StyleView",
            "description_width": ""
          }
        },
        "8085f33d2d16497c87deb8c8d952a288": {
          "model_module": "@jupyter-widgets/controls",
          "model_name": "HBoxModel",
          "model_module_version": "1.5.0",
          "state": {
            "_dom_classes": [],
            "_model_module": "@jupyter-widgets/controls",
            "_model_module_version": "1.5.0",
            "_model_name": "HBoxModel",
            "_view_count": null,
            "_view_module": "@jupyter-widgets/controls",
            "_view_module_version": "1.5.0",
            "_view_name": "HBoxView",
            "box_style": "",
            "children": [
              "IPY_MODEL_3fafef678afd41e2ba2dec518ab4c93f",
              "IPY_MODEL_91054aa505c94889ac3b90fe5079b521",
              "IPY_MODEL_c0bf8709970a4d0aa97a2393b9fc8cea"
            ],
            "layout": "IPY_MODEL_dbce001fbf564e87b3f4bb6c873a2e0f"
          }
        },
        "3fafef678afd41e2ba2dec518ab4c93f": {
          "model_module": "@jupyter-widgets/controls",
          "model_name": "HTMLModel",
          "model_module_version": "1.5.0",
          "state": {
            "_dom_classes": [],
            "_model_module": "@jupyter-widgets/controls",
            "_model_module_version": "1.5.0",
            "_model_name": "HTMLModel",
            "_view_count": null,
            "_view_module": "@jupyter-widgets/controls",
            "_view_module_version": "1.5.0",
            "_view_name": "HTMLView",
            "description": "",
            "description_tooltip": null,
            "layout": "IPY_MODEL_b8ba9866d9324ed5a0d79843b3093b6b",
            "placeholder": "​",
            "style": "IPY_MODEL_3bdc32c467b64d9d9d6d8f2ef84edda1",
            "value": "Downloading config.json: 100%"
          }
        },
        "91054aa505c94889ac3b90fe5079b521": {
          "model_module": "@jupyter-widgets/controls",
          "model_name": "FloatProgressModel",
          "model_module_version": "1.5.0",
          "state": {
            "_dom_classes": [],
            "_model_module": "@jupyter-widgets/controls",
            "_model_module_version": "1.5.0",
            "_model_name": "FloatProgressModel",
            "_view_count": null,
            "_view_module": "@jupyter-widgets/controls",
            "_view_module_version": "1.5.0",
            "_view_name": "ProgressView",
            "bar_style": "success",
            "description": "",
            "description_tooltip": null,
            "layout": "IPY_MODEL_7d10f93d387146959b68af9bd46d5f1b",
            "max": 579,
            "min": 0,
            "orientation": "horizontal",
            "style": "IPY_MODEL_f309cdcc4453461aaab6fd943554c45f",
            "value": 579
          }
        },
        "c0bf8709970a4d0aa97a2393b9fc8cea": {
          "model_module": "@jupyter-widgets/controls",
          "model_name": "HTMLModel",
          "model_module_version": "1.5.0",
          "state": {
            "_dom_classes": [],
            "_model_module": "@jupyter-widgets/controls",
            "_model_module_version": "1.5.0",
            "_model_name": "HTMLModel",
            "_view_count": null,
            "_view_module": "@jupyter-widgets/controls",
            "_view_module_version": "1.5.0",
            "_view_name": "HTMLView",
            "description": "",
            "description_tooltip": null,
            "layout": "IPY_MODEL_07f386443969498bb08275801e0c4e67",
            "placeholder": "​",
            "style": "IPY_MODEL_1f95ad2c3fd74cbd810dae70afd4f770",
            "value": " 579/579 [00:00&lt;00:00, 18.3kB/s]"
          }
        },
        "dbce001fbf564e87b3f4bb6c873a2e0f": {
          "model_module": "@jupyter-widgets/base",
          "model_name": "LayoutModel",
          "model_module_version": "1.2.0",
          "state": {
            "_model_module": "@jupyter-widgets/base",
            "_model_module_version": "1.2.0",
            "_model_name": "LayoutModel",
            "_view_count": null,
            "_view_module": "@jupyter-widgets/base",
            "_view_module_version": "1.2.0",
            "_view_name": "LayoutView",
            "align_content": null,
            "align_items": null,
            "align_self": null,
            "border": null,
            "bottom": null,
            "display": null,
            "flex": null,
            "flex_flow": null,
            "grid_area": null,
            "grid_auto_columns": null,
            "grid_auto_flow": null,
            "grid_auto_rows": null,
            "grid_column": null,
            "grid_gap": null,
            "grid_row": null,
            "grid_template_areas": null,
            "grid_template_columns": null,
            "grid_template_rows": null,
            "height": null,
            "justify_content": null,
            "justify_items": null,
            "left": null,
            "margin": null,
            "max_height": null,
            "max_width": null,
            "min_height": null,
            "min_width": null,
            "object_fit": null,
            "object_position": null,
            "order": null,
            "overflow": null,
            "overflow_x": null,
            "overflow_y": null,
            "padding": null,
            "right": null,
            "top": null,
            "visibility": null,
            "width": null
          }
        },
        "b8ba9866d9324ed5a0d79843b3093b6b": {
          "model_module": "@jupyter-widgets/base",
          "model_name": "LayoutModel",
          "model_module_version": "1.2.0",
          "state": {
            "_model_module": "@jupyter-widgets/base",
            "_model_module_version": "1.2.0",
            "_model_name": "LayoutModel",
            "_view_count": null,
            "_view_module": "@jupyter-widgets/base",
            "_view_module_version": "1.2.0",
            "_view_name": "LayoutView",
            "align_content": null,
            "align_items": null,
            "align_self": null,
            "border": null,
            "bottom": null,
            "display": null,
            "flex": null,
            "flex_flow": null,
            "grid_area": null,
            "grid_auto_columns": null,
            "grid_auto_flow": null,
            "grid_auto_rows": null,
            "grid_column": null,
            "grid_gap": null,
            "grid_row": null,
            "grid_template_areas": null,
            "grid_template_columns": null,
            "grid_template_rows": null,
            "height": null,
            "justify_content": null,
            "justify_items": null,
            "left": null,
            "margin": null,
            "max_height": null,
            "max_width": null,
            "min_height": null,
            "min_width": null,
            "object_fit": null,
            "object_position": null,
            "order": null,
            "overflow": null,
            "overflow_x": null,
            "overflow_y": null,
            "padding": null,
            "right": null,
            "top": null,
            "visibility": null,
            "width": null
          }
        },
        "3bdc32c467b64d9d9d6d8f2ef84edda1": {
          "model_module": "@jupyter-widgets/controls",
          "model_name": "DescriptionStyleModel",
          "model_module_version": "1.5.0",
          "state": {
            "_model_module": "@jupyter-widgets/controls",
            "_model_module_version": "1.5.0",
            "_model_name": "DescriptionStyleModel",
            "_view_count": null,
            "_view_module": "@jupyter-widgets/base",
            "_view_module_version": "1.2.0",
            "_view_name": "StyleView",
            "description_width": ""
          }
        },
        "7d10f93d387146959b68af9bd46d5f1b": {
          "model_module": "@jupyter-widgets/base",
          "model_name": "LayoutModel",
          "model_module_version": "1.2.0",
          "state": {
            "_model_module": "@jupyter-widgets/base",
            "_model_module_version": "1.2.0",
            "_model_name": "LayoutModel",
            "_view_count": null,
            "_view_module": "@jupyter-widgets/base",
            "_view_module_version": "1.2.0",
            "_view_name": "LayoutView",
            "align_content": null,
            "align_items": null,
            "align_self": null,
            "border": null,
            "bottom": null,
            "display": null,
            "flex": null,
            "flex_flow": null,
            "grid_area": null,
            "grid_auto_columns": null,
            "grid_auto_flow": null,
            "grid_auto_rows": null,
            "grid_column": null,
            "grid_gap": null,
            "grid_row": null,
            "grid_template_areas": null,
            "grid_template_columns": null,
            "grid_template_rows": null,
            "height": null,
            "justify_content": null,
            "justify_items": null,
            "left": null,
            "margin": null,
            "max_height": null,
            "max_width": null,
            "min_height": null,
            "min_width": null,
            "object_fit": null,
            "object_position": null,
            "order": null,
            "overflow": null,
            "overflow_x": null,
            "overflow_y": null,
            "padding": null,
            "right": null,
            "top": null,
            "visibility": null,
            "width": null
          }
        },
        "f309cdcc4453461aaab6fd943554c45f": {
          "model_module": "@jupyter-widgets/controls",
          "model_name": "ProgressStyleModel",
          "model_module_version": "1.5.0",
          "state": {
            "_model_module": "@jupyter-widgets/controls",
            "_model_module_version": "1.5.0",
            "_model_name": "ProgressStyleModel",
            "_view_count": null,
            "_view_module": "@jupyter-widgets/base",
            "_view_module_version": "1.2.0",
            "_view_name": "StyleView",
            "bar_color": null,
            "description_width": ""
          }
        },
        "07f386443969498bb08275801e0c4e67": {
          "model_module": "@jupyter-widgets/base",
          "model_name": "LayoutModel",
          "model_module_version": "1.2.0",
          "state": {
            "_model_module": "@jupyter-widgets/base",
            "_model_module_version": "1.2.0",
            "_model_name": "LayoutModel",
            "_view_count": null,
            "_view_module": "@jupyter-widgets/base",
            "_view_module_version": "1.2.0",
            "_view_name": "LayoutView",
            "align_content": null,
            "align_items": null,
            "align_self": null,
            "border": null,
            "bottom": null,
            "display": null,
            "flex": null,
            "flex_flow": null,
            "grid_area": null,
            "grid_auto_columns": null,
            "grid_auto_flow": null,
            "grid_auto_rows": null,
            "grid_column": null,
            "grid_gap": null,
            "grid_row": null,
            "grid_template_areas": null,
            "grid_template_columns": null,
            "grid_template_rows": null,
            "height": null,
            "justify_content": null,
            "justify_items": null,
            "left": null,
            "margin": null,
            "max_height": null,
            "max_width": null,
            "min_height": null,
            "min_width": null,
            "object_fit": null,
            "object_position": null,
            "order": null,
            "overflow": null,
            "overflow_x": null,
            "overflow_y": null,
            "padding": null,
            "right": null,
            "top": null,
            "visibility": null,
            "width": null
          }
        },
        "1f95ad2c3fd74cbd810dae70afd4f770": {
          "model_module": "@jupyter-widgets/controls",
          "model_name": "DescriptionStyleModel",
          "model_module_version": "1.5.0",
          "state": {
            "_model_module": "@jupyter-widgets/controls",
            "_model_module_version": "1.5.0",
            "_model_name": "DescriptionStyleModel",
            "_view_count": null,
            "_view_module": "@jupyter-widgets/base",
            "_view_module_version": "1.2.0",
            "_view_name": "StyleView",
            "description_width": ""
          }
        },
        "b363bd1501dc4887b1742d16b8c9ec87": {
          "model_module": "@jupyter-widgets/controls",
          "model_name": "HBoxModel",
          "model_module_version": "1.5.0",
          "state": {
            "_dom_classes": [],
            "_model_module": "@jupyter-widgets/controls",
            "_model_module_version": "1.5.0",
            "_model_name": "HBoxModel",
            "_view_count": null,
            "_view_module": "@jupyter-widgets/controls",
            "_view_module_version": "1.5.0",
            "_view_name": "HBoxView",
            "box_style": "",
            "children": [
              "IPY_MODEL_f92794231a154fce806e013bc5791794",
              "IPY_MODEL_ff62ed18f509448caf1d1634a6aaf9a1",
              "IPY_MODEL_f0416bbef55645cd97cd4211ccaab293"
            ],
            "layout": "IPY_MODEL_0047ec263c1848c2abb91fe78a7cc622"
          }
        },
        "f92794231a154fce806e013bc5791794": {
          "model_module": "@jupyter-widgets/controls",
          "model_name": "HTMLModel",
          "model_module_version": "1.5.0",
          "state": {
            "_dom_classes": [],
            "_model_module": "@jupyter-widgets/controls",
            "_model_module_version": "1.5.0",
            "_model_name": "HTMLModel",
            "_view_count": null,
            "_view_module": "@jupyter-widgets/controls",
            "_view_module_version": "1.5.0",
            "_view_name": "HTMLView",
            "description": "",
            "description_tooltip": null,
            "layout": "IPY_MODEL_f77f971d4c3a48d4bc1cf7dd654135dd",
            "placeholder": "​",
            "style": "IPY_MODEL_3a145fc7000f4c238af6fce19a1504bb",
            "value": "Downloading spm.model: 100%"
          }
        },
        "ff62ed18f509448caf1d1634a6aaf9a1": {
          "model_module": "@jupyter-widgets/controls",
          "model_name": "FloatProgressModel",
          "model_module_version": "1.5.0",
          "state": {
            "_dom_classes": [],
            "_model_module": "@jupyter-widgets/controls",
            "_model_module_version": "1.5.0",
            "_model_name": "FloatProgressModel",
            "_view_count": null,
            "_view_module": "@jupyter-widgets/controls",
            "_view_module_version": "1.5.0",
            "_view_name": "ProgressView",
            "bar_style": "success",
            "description": "",
            "description_tooltip": null,
            "layout": "IPY_MODEL_a573eeed395c47329f18749621aa47e1",
            "max": 4305025,
            "min": 0,
            "orientation": "horizontal",
            "style": "IPY_MODEL_7bc9ca6f0bdf4795a5c382be867185e7",
            "value": 4305025
          }
        },
        "f0416bbef55645cd97cd4211ccaab293": {
          "model_module": "@jupyter-widgets/controls",
          "model_name": "HTMLModel",
          "model_module_version": "1.5.0",
          "state": {
            "_dom_classes": [],
            "_model_module": "@jupyter-widgets/controls",
            "_model_module_version": "1.5.0",
            "_model_name": "HTMLModel",
            "_view_count": null,
            "_view_module": "@jupyter-widgets/controls",
            "_view_module_version": "1.5.0",
            "_view_name": "HTMLView",
            "description": "",
            "description_tooltip": null,
            "layout": "IPY_MODEL_d2ab43a57f41440498b6d2ad04e13da1",
            "placeholder": "​",
            "style": "IPY_MODEL_505e7c5ff062433d98f5126c6b6ee649",
            "value": " 4.11M/4.11M [00:00&lt;00:00, 8.60MB/s]"
          }
        },
        "0047ec263c1848c2abb91fe78a7cc622": {
          "model_module": "@jupyter-widgets/base",
          "model_name": "LayoutModel",
          "model_module_version": "1.2.0",
          "state": {
            "_model_module": "@jupyter-widgets/base",
            "_model_module_version": "1.2.0",
            "_model_name": "LayoutModel",
            "_view_count": null,
            "_view_module": "@jupyter-widgets/base",
            "_view_module_version": "1.2.0",
            "_view_name": "LayoutView",
            "align_content": null,
            "align_items": null,
            "align_self": null,
            "border": null,
            "bottom": null,
            "display": null,
            "flex": null,
            "flex_flow": null,
            "grid_area": null,
            "grid_auto_columns": null,
            "grid_auto_flow": null,
            "grid_auto_rows": null,
            "grid_column": null,
            "grid_gap": null,
            "grid_row": null,
            "grid_template_areas": null,
            "grid_template_columns": null,
            "grid_template_rows": null,
            "height": null,
            "justify_content": null,
            "justify_items": null,
            "left": null,
            "margin": null,
            "max_height": null,
            "max_width": null,
            "min_height": null,
            "min_width": null,
            "object_fit": null,
            "object_position": null,
            "order": null,
            "overflow": null,
            "overflow_x": null,
            "overflow_y": null,
            "padding": null,
            "right": null,
            "top": null,
            "visibility": null,
            "width": null
          }
        },
        "f77f971d4c3a48d4bc1cf7dd654135dd": {
          "model_module": "@jupyter-widgets/base",
          "model_name": "LayoutModel",
          "model_module_version": "1.2.0",
          "state": {
            "_model_module": "@jupyter-widgets/base",
            "_model_module_version": "1.2.0",
            "_model_name": "LayoutModel",
            "_view_count": null,
            "_view_module": "@jupyter-widgets/base",
            "_view_module_version": "1.2.0",
            "_view_name": "LayoutView",
            "align_content": null,
            "align_items": null,
            "align_self": null,
            "border": null,
            "bottom": null,
            "display": null,
            "flex": null,
            "flex_flow": null,
            "grid_area": null,
            "grid_auto_columns": null,
            "grid_auto_flow": null,
            "grid_auto_rows": null,
            "grid_column": null,
            "grid_gap": null,
            "grid_row": null,
            "grid_template_areas": null,
            "grid_template_columns": null,
            "grid_template_rows": null,
            "height": null,
            "justify_content": null,
            "justify_items": null,
            "left": null,
            "margin": null,
            "max_height": null,
            "max_width": null,
            "min_height": null,
            "min_width": null,
            "object_fit": null,
            "object_position": null,
            "order": null,
            "overflow": null,
            "overflow_x": null,
            "overflow_y": null,
            "padding": null,
            "right": null,
            "top": null,
            "visibility": null,
            "width": null
          }
        },
        "3a145fc7000f4c238af6fce19a1504bb": {
          "model_module": "@jupyter-widgets/controls",
          "model_name": "DescriptionStyleModel",
          "model_module_version": "1.5.0",
          "state": {
            "_model_module": "@jupyter-widgets/controls",
            "_model_module_version": "1.5.0",
            "_model_name": "DescriptionStyleModel",
            "_view_count": null,
            "_view_module": "@jupyter-widgets/base",
            "_view_module_version": "1.2.0",
            "_view_name": "StyleView",
            "description_width": ""
          }
        },
        "a573eeed395c47329f18749621aa47e1": {
          "model_module": "@jupyter-widgets/base",
          "model_name": "LayoutModel",
          "model_module_version": "1.2.0",
          "state": {
            "_model_module": "@jupyter-widgets/base",
            "_model_module_version": "1.2.0",
            "_model_name": "LayoutModel",
            "_view_count": null,
            "_view_module": "@jupyter-widgets/base",
            "_view_module_version": "1.2.0",
            "_view_name": "LayoutView",
            "align_content": null,
            "align_items": null,
            "align_self": null,
            "border": null,
            "bottom": null,
            "display": null,
            "flex": null,
            "flex_flow": null,
            "grid_area": null,
            "grid_auto_columns": null,
            "grid_auto_flow": null,
            "grid_auto_rows": null,
            "grid_column": null,
            "grid_gap": null,
            "grid_row": null,
            "grid_template_areas": null,
            "grid_template_columns": null,
            "grid_template_rows": null,
            "height": null,
            "justify_content": null,
            "justify_items": null,
            "left": null,
            "margin": null,
            "max_height": null,
            "max_width": null,
            "min_height": null,
            "min_width": null,
            "object_fit": null,
            "object_position": null,
            "order": null,
            "overflow": null,
            "overflow_x": null,
            "overflow_y": null,
            "padding": null,
            "right": null,
            "top": null,
            "visibility": null,
            "width": null
          }
        },
        "7bc9ca6f0bdf4795a5c382be867185e7": {
          "model_module": "@jupyter-widgets/controls",
          "model_name": "ProgressStyleModel",
          "model_module_version": "1.5.0",
          "state": {
            "_model_module": "@jupyter-widgets/controls",
            "_model_module_version": "1.5.0",
            "_model_name": "ProgressStyleModel",
            "_view_count": null,
            "_view_module": "@jupyter-widgets/base",
            "_view_module_version": "1.2.0",
            "_view_name": "StyleView",
            "bar_color": null,
            "description_width": ""
          }
        },
        "d2ab43a57f41440498b6d2ad04e13da1": {
          "model_module": "@jupyter-widgets/base",
          "model_name": "LayoutModel",
          "model_module_version": "1.2.0",
          "state": {
            "_model_module": "@jupyter-widgets/base",
            "_model_module_version": "1.2.0",
            "_model_name": "LayoutModel",
            "_view_count": null,
            "_view_module": "@jupyter-widgets/base",
            "_view_module_version": "1.2.0",
            "_view_name": "LayoutView",
            "align_content": null,
            "align_items": null,
            "align_self": null,
            "border": null,
            "bottom": null,
            "display": null,
            "flex": null,
            "flex_flow": null,
            "grid_area": null,
            "grid_auto_columns": null,
            "grid_auto_flow": null,
            "grid_auto_rows": null,
            "grid_column": null,
            "grid_gap": null,
            "grid_row": null,
            "grid_template_areas": null,
            "grid_template_columns": null,
            "grid_template_rows": null,
            "height": null,
            "justify_content": null,
            "justify_items": null,
            "left": null,
            "margin": null,
            "max_height": null,
            "max_width": null,
            "min_height": null,
            "min_width": null,
            "object_fit": null,
            "object_position": null,
            "order": null,
            "overflow": null,
            "overflow_x": null,
            "overflow_y": null,
            "padding": null,
            "right": null,
            "top": null,
            "visibility": null,
            "width": null
          }
        },
        "505e7c5ff062433d98f5126c6b6ee649": {
          "model_module": "@jupyter-widgets/controls",
          "model_name": "DescriptionStyleModel",
          "model_module_version": "1.5.0",
          "state": {
            "_model_module": "@jupyter-widgets/controls",
            "_model_module_version": "1.5.0",
            "_model_name": "DescriptionStyleModel",
            "_view_count": null,
            "_view_module": "@jupyter-widgets/base",
            "_view_module_version": "1.2.0",
            "_view_name": "StyleView",
            "description_width": ""
          }
        },
        "ed694fd0f49f45b0a112b9515ae2df61": {
          "model_module": "@jupyter-widgets/controls",
          "model_name": "HBoxModel",
          "model_module_version": "1.5.0",
          "state": {
            "_dom_classes": [],
            "_model_module": "@jupyter-widgets/controls",
            "_model_module_version": "1.5.0",
            "_model_name": "HBoxModel",
            "_view_count": null,
            "_view_module": "@jupyter-widgets/controls",
            "_view_module_version": "1.5.0",
            "_view_name": "HBoxView",
            "box_style": "",
            "children": [
              "IPY_MODEL_6d886c66364245a4a84595c1a9db6048",
              "IPY_MODEL_264a3deae1714eb0912277e0294572d8",
              "IPY_MODEL_31194e55ad854ab28793c1c8ff6c50ec"
            ],
            "layout": "IPY_MODEL_929c452017ae4c009a7cdb62672b4646"
          }
        },
        "6d886c66364245a4a84595c1a9db6048": {
          "model_module": "@jupyter-widgets/controls",
          "model_name": "HTMLModel",
          "model_module_version": "1.5.0",
          "state": {
            "_dom_classes": [],
            "_model_module": "@jupyter-widgets/controls",
            "_model_module_version": "1.5.0",
            "_model_name": "HTMLModel",
            "_view_count": null,
            "_view_module": "@jupyter-widgets/controls",
            "_view_module_version": "1.5.0",
            "_view_name": "HTMLView",
            "description": "",
            "description_tooltip": null,
            "layout": "IPY_MODEL_dafe0e391b0641ee9a10759bf61f8ec0",
            "placeholder": "​",
            "style": "IPY_MODEL_79fda69df5674c66a8000baca29d661f",
            "value": "Downloading pytorch_model.bin: 100%"
          }
        },
        "264a3deae1714eb0912277e0294572d8": {
          "model_module": "@jupyter-widgets/controls",
          "model_name": "FloatProgressModel",
          "model_module_version": "1.5.0",
          "state": {
            "_dom_classes": [],
            "_model_module": "@jupyter-widgets/controls",
            "_model_module_version": "1.5.0",
            "_model_name": "FloatProgressModel",
            "_view_count": null,
            "_view_module": "@jupyter-widgets/controls",
            "_view_module_version": "1.5.0",
            "_view_name": "ProgressView",
            "bar_style": "success",
            "description": "",
            "description_tooltip": null,
            "layout": "IPY_MODEL_c434c8d262f240a9bb36a03265439ec9",
            "max": 560166373,
            "min": 0,
            "orientation": "horizontal",
            "style": "IPY_MODEL_862e0c57fbd44443b2210a6853100776",
            "value": 560166373
          }
        },
        "31194e55ad854ab28793c1c8ff6c50ec": {
          "model_module": "@jupyter-widgets/controls",
          "model_name": "HTMLModel",
          "model_module_version": "1.5.0",
          "state": {
            "_dom_classes": [],
            "_model_module": "@jupyter-widgets/controls",
            "_model_module_version": "1.5.0",
            "_model_name": "HTMLModel",
            "_view_count": null,
            "_view_module": "@jupyter-widgets/controls",
            "_view_module_version": "1.5.0",
            "_view_name": "HTMLView",
            "description": "",
            "description_tooltip": null,
            "layout": "IPY_MODEL_a19d4b46be8b4189ab52c13dd6ae3d22",
            "placeholder": "​",
            "style": "IPY_MODEL_495abb8d39064a80a585d9c3415bc3e2",
            "value": " 534M/534M [00:10&lt;00:00, 56.2MB/s]"
          }
        },
        "929c452017ae4c009a7cdb62672b4646": {
          "model_module": "@jupyter-widgets/base",
          "model_name": "LayoutModel",
          "model_module_version": "1.2.0",
          "state": {
            "_model_module": "@jupyter-widgets/base",
            "_model_module_version": "1.2.0",
            "_model_name": "LayoutModel",
            "_view_count": null,
            "_view_module": "@jupyter-widgets/base",
            "_view_module_version": "1.2.0",
            "_view_name": "LayoutView",
            "align_content": null,
            "align_items": null,
            "align_self": null,
            "border": null,
            "bottom": null,
            "display": null,
            "flex": null,
            "flex_flow": null,
            "grid_area": null,
            "grid_auto_columns": null,
            "grid_auto_flow": null,
            "grid_auto_rows": null,
            "grid_column": null,
            "grid_gap": null,
            "grid_row": null,
            "grid_template_areas": null,
            "grid_template_columns": null,
            "grid_template_rows": null,
            "height": null,
            "justify_content": null,
            "justify_items": null,
            "left": null,
            "margin": null,
            "max_height": null,
            "max_width": null,
            "min_height": null,
            "min_width": null,
            "object_fit": null,
            "object_position": null,
            "order": null,
            "overflow": null,
            "overflow_x": null,
            "overflow_y": null,
            "padding": null,
            "right": null,
            "top": null,
            "visibility": null,
            "width": null
          }
        },
        "dafe0e391b0641ee9a10759bf61f8ec0": {
          "model_module": "@jupyter-widgets/base",
          "model_name": "LayoutModel",
          "model_module_version": "1.2.0",
          "state": {
            "_model_module": "@jupyter-widgets/base",
            "_model_module_version": "1.2.0",
            "_model_name": "LayoutModel",
            "_view_count": null,
            "_view_module": "@jupyter-widgets/base",
            "_view_module_version": "1.2.0",
            "_view_name": "LayoutView",
            "align_content": null,
            "align_items": null,
            "align_self": null,
            "border": null,
            "bottom": null,
            "display": null,
            "flex": null,
            "flex_flow": null,
            "grid_area": null,
            "grid_auto_columns": null,
            "grid_auto_flow": null,
            "grid_auto_rows": null,
            "grid_column": null,
            "grid_gap": null,
            "grid_row": null,
            "grid_template_areas": null,
            "grid_template_columns": null,
            "grid_template_rows": null,
            "height": null,
            "justify_content": null,
            "justify_items": null,
            "left": null,
            "margin": null,
            "max_height": null,
            "max_width": null,
            "min_height": null,
            "min_width": null,
            "object_fit": null,
            "object_position": null,
            "order": null,
            "overflow": null,
            "overflow_x": null,
            "overflow_y": null,
            "padding": null,
            "right": null,
            "top": null,
            "visibility": null,
            "width": null
          }
        },
        "79fda69df5674c66a8000baca29d661f": {
          "model_module": "@jupyter-widgets/controls",
          "model_name": "DescriptionStyleModel",
          "model_module_version": "1.5.0",
          "state": {
            "_model_module": "@jupyter-widgets/controls",
            "_model_module_version": "1.5.0",
            "_model_name": "DescriptionStyleModel",
            "_view_count": null,
            "_view_module": "@jupyter-widgets/base",
            "_view_module_version": "1.2.0",
            "_view_name": "StyleView",
            "description_width": ""
          }
        },
        "c434c8d262f240a9bb36a03265439ec9": {
          "model_module": "@jupyter-widgets/base",
          "model_name": "LayoutModel",
          "model_module_version": "1.2.0",
          "state": {
            "_model_module": "@jupyter-widgets/base",
            "_model_module_version": "1.2.0",
            "_model_name": "LayoutModel",
            "_view_count": null,
            "_view_module": "@jupyter-widgets/base",
            "_view_module_version": "1.2.0",
            "_view_name": "LayoutView",
            "align_content": null,
            "align_items": null,
            "align_self": null,
            "border": null,
            "bottom": null,
            "display": null,
            "flex": null,
            "flex_flow": null,
            "grid_area": null,
            "grid_auto_columns": null,
            "grid_auto_flow": null,
            "grid_auto_rows": null,
            "grid_column": null,
            "grid_gap": null,
            "grid_row": null,
            "grid_template_areas": null,
            "grid_template_columns": null,
            "grid_template_rows": null,
            "height": null,
            "justify_content": null,
            "justify_items": null,
            "left": null,
            "margin": null,
            "max_height": null,
            "max_width": null,
            "min_height": null,
            "min_width": null,
            "object_fit": null,
            "object_position": null,
            "order": null,
            "overflow": null,
            "overflow_x": null,
            "overflow_y": null,
            "padding": null,
            "right": null,
            "top": null,
            "visibility": null,
            "width": null
          }
        },
        "862e0c57fbd44443b2210a6853100776": {
          "model_module": "@jupyter-widgets/controls",
          "model_name": "ProgressStyleModel",
          "model_module_version": "1.5.0",
          "state": {
            "_model_module": "@jupyter-widgets/controls",
            "_model_module_version": "1.5.0",
            "_model_name": "ProgressStyleModel",
            "_view_count": null,
            "_view_module": "@jupyter-widgets/base",
            "_view_module_version": "1.2.0",
            "_view_name": "StyleView",
            "bar_color": null,
            "description_width": ""
          }
        },
        "a19d4b46be8b4189ab52c13dd6ae3d22": {
          "model_module": "@jupyter-widgets/base",
          "model_name": "LayoutModel",
          "model_module_version": "1.2.0",
          "state": {
            "_model_module": "@jupyter-widgets/base",
            "_model_module_version": "1.2.0",
            "_model_name": "LayoutModel",
            "_view_count": null,
            "_view_module": "@jupyter-widgets/base",
            "_view_module_version": "1.2.0",
            "_view_name": "LayoutView",
            "align_content": null,
            "align_items": null,
            "align_self": null,
            "border": null,
            "bottom": null,
            "display": null,
            "flex": null,
            "flex_flow": null,
            "grid_area": null,
            "grid_auto_columns": null,
            "grid_auto_flow": null,
            "grid_auto_rows": null,
            "grid_column": null,
            "grid_gap": null,
            "grid_row": null,
            "grid_template_areas": null,
            "grid_template_columns": null,
            "grid_template_rows": null,
            "height": null,
            "justify_content": null,
            "justify_items": null,
            "left": null,
            "margin": null,
            "max_height": null,
            "max_width": null,
            "min_height": null,
            "min_width": null,
            "object_fit": null,
            "object_position": null,
            "order": null,
            "overflow": null,
            "overflow_x": null,
            "overflow_y": null,
            "padding": null,
            "right": null,
            "top": null,
            "visibility": null,
            "width": null
          }
        },
        "495abb8d39064a80a585d9c3415bc3e2": {
          "model_module": "@jupyter-widgets/controls",
          "model_name": "DescriptionStyleModel",
          "model_module_version": "1.5.0",
          "state": {
            "_model_module": "@jupyter-widgets/controls",
            "_model_module_version": "1.5.0",
            "_model_name": "DescriptionStyleModel",
            "_view_count": null,
            "_view_module": "@jupyter-widgets/base",
            "_view_module_version": "1.2.0",
            "_view_name": "StyleView",
            "description_width": ""
          }
        },
        "f1f25e7276254bd7ab5316e09ae962f4": {
          "model_module": "@jupyter-widgets/controls",
          "model_name": "HBoxModel",
          "model_module_version": "1.5.0",
          "state": {
            "_dom_classes": [],
            "_model_module": "@jupyter-widgets/controls",
            "_model_module_version": "1.5.0",
            "_model_name": "HBoxModel",
            "_view_count": null,
            "_view_module": "@jupyter-widgets/controls",
            "_view_module_version": "1.5.0",
            "_view_name": "HBoxView",
            "box_style": "",
            "children": [
              "IPY_MODEL_a224d2aa531b4ce38c54ba3cba02ba3a",
              "IPY_MODEL_6617cf4c5965443a8cb5be9b17e8933f",
              "IPY_MODEL_63e37448eac54135ab81350fa3eab83a"
            ],
            "layout": "IPY_MODEL_efcd5fce0e554ce0baf20cd0360b1a43"
          }
        },
        "a224d2aa531b4ce38c54ba3cba02ba3a": {
          "model_module": "@jupyter-widgets/controls",
          "model_name": "HTMLModel",
          "model_module_version": "1.5.0",
          "state": {
            "_dom_classes": [],
            "_model_module": "@jupyter-widgets/controls",
            "_model_module_version": "1.5.0",
            "_model_name": "HTMLModel",
            "_view_count": null,
            "_view_module": "@jupyter-widgets/controls",
            "_view_module_version": "1.5.0",
            "_view_name": "HTMLView",
            "description": "",
            "description_tooltip": null,
            "layout": "IPY_MODEL_e09ea85a04904d85821c3db7487555cc",
            "placeholder": "​",
            "style": "IPY_MODEL_7c30e05e244c495e9c143c5f0310f226",
            "value": "Downloading config.json: 100%"
          }
        },
        "6617cf4c5965443a8cb5be9b17e8933f": {
          "model_module": "@jupyter-widgets/controls",
          "model_name": "FloatProgressModel",
          "model_module_version": "1.5.0",
          "state": {
            "_dom_classes": [],
            "_model_module": "@jupyter-widgets/controls",
            "_model_module_version": "1.5.0",
            "_model_name": "FloatProgressModel",
            "_view_count": null,
            "_view_module": "@jupyter-widgets/controls",
            "_view_module_version": "1.5.0",
            "_view_name": "ProgressView",
            "bar_style": "success",
            "description": "",
            "description_tooltip": null,
            "layout": "IPY_MODEL_0b511f5e0097420e8d5abc689fb68cb3",
            "max": 579,
            "min": 0,
            "orientation": "horizontal",
            "style": "IPY_MODEL_3f5b64f87a824b1fba8e7b69a8481e94",
            "value": 579
          }
        },
        "63e37448eac54135ab81350fa3eab83a": {
          "model_module": "@jupyter-widgets/controls",
          "model_name": "HTMLModel",
          "model_module_version": "1.5.0",
          "state": {
            "_dom_classes": [],
            "_model_module": "@jupyter-widgets/controls",
            "_model_module_version": "1.5.0",
            "_model_name": "HTMLModel",
            "_view_count": null,
            "_view_module": "@jupyter-widgets/controls",
            "_view_module_version": "1.5.0",
            "_view_name": "HTMLView",
            "description": "",
            "description_tooltip": null,
            "layout": "IPY_MODEL_0e18a0b9d58d4bf39af03bd85ef73c53",
            "placeholder": "​",
            "style": "IPY_MODEL_5fd6af88c29d47b9afc39b96ea7a9b62",
            "value": " 579/579 [00:00&lt;00:00, 17.8kB/s]"
          }
        },
        "efcd5fce0e554ce0baf20cd0360b1a43": {
          "model_module": "@jupyter-widgets/base",
          "model_name": "LayoutModel",
          "model_module_version": "1.2.0",
          "state": {
            "_model_module": "@jupyter-widgets/base",
            "_model_module_version": "1.2.0",
            "_model_name": "LayoutModel",
            "_view_count": null,
            "_view_module": "@jupyter-widgets/base",
            "_view_module_version": "1.2.0",
            "_view_name": "LayoutView",
            "align_content": null,
            "align_items": null,
            "align_self": null,
            "border": null,
            "bottom": null,
            "display": null,
            "flex": null,
            "flex_flow": null,
            "grid_area": null,
            "grid_auto_columns": null,
            "grid_auto_flow": null,
            "grid_auto_rows": null,
            "grid_column": null,
            "grid_gap": null,
            "grid_row": null,
            "grid_template_areas": null,
            "grid_template_columns": null,
            "grid_template_rows": null,
            "height": null,
            "justify_content": null,
            "justify_items": null,
            "left": null,
            "margin": null,
            "max_height": null,
            "max_width": null,
            "min_height": null,
            "min_width": null,
            "object_fit": null,
            "object_position": null,
            "order": null,
            "overflow": null,
            "overflow_x": null,
            "overflow_y": null,
            "padding": null,
            "right": null,
            "top": null,
            "visibility": null,
            "width": null
          }
        },
        "e09ea85a04904d85821c3db7487555cc": {
          "model_module": "@jupyter-widgets/base",
          "model_name": "LayoutModel",
          "model_module_version": "1.2.0",
          "state": {
            "_model_module": "@jupyter-widgets/base",
            "_model_module_version": "1.2.0",
            "_model_name": "LayoutModel",
            "_view_count": null,
            "_view_module": "@jupyter-widgets/base",
            "_view_module_version": "1.2.0",
            "_view_name": "LayoutView",
            "align_content": null,
            "align_items": null,
            "align_self": null,
            "border": null,
            "bottom": null,
            "display": null,
            "flex": null,
            "flex_flow": null,
            "grid_area": null,
            "grid_auto_columns": null,
            "grid_auto_flow": null,
            "grid_auto_rows": null,
            "grid_column": null,
            "grid_gap": null,
            "grid_row": null,
            "grid_template_areas": null,
            "grid_template_columns": null,
            "grid_template_rows": null,
            "height": null,
            "justify_content": null,
            "justify_items": null,
            "left": null,
            "margin": null,
            "max_height": null,
            "max_width": null,
            "min_height": null,
            "min_width": null,
            "object_fit": null,
            "object_position": null,
            "order": null,
            "overflow": null,
            "overflow_x": null,
            "overflow_y": null,
            "padding": null,
            "right": null,
            "top": null,
            "visibility": null,
            "width": null
          }
        },
        "7c30e05e244c495e9c143c5f0310f226": {
          "model_module": "@jupyter-widgets/controls",
          "model_name": "DescriptionStyleModel",
          "model_module_version": "1.5.0",
          "state": {
            "_model_module": "@jupyter-widgets/controls",
            "_model_module_version": "1.5.0",
            "_model_name": "DescriptionStyleModel",
            "_view_count": null,
            "_view_module": "@jupyter-widgets/base",
            "_view_module_version": "1.2.0",
            "_view_name": "StyleView",
            "description_width": ""
          }
        },
        "0b511f5e0097420e8d5abc689fb68cb3": {
          "model_module": "@jupyter-widgets/base",
          "model_name": "LayoutModel",
          "model_module_version": "1.2.0",
          "state": {
            "_model_module": "@jupyter-widgets/base",
            "_model_module_version": "1.2.0",
            "_model_name": "LayoutModel",
            "_view_count": null,
            "_view_module": "@jupyter-widgets/base",
            "_view_module_version": "1.2.0",
            "_view_name": "LayoutView",
            "align_content": null,
            "align_items": null,
            "align_self": null,
            "border": null,
            "bottom": null,
            "display": null,
            "flex": null,
            "flex_flow": null,
            "grid_area": null,
            "grid_auto_columns": null,
            "grid_auto_flow": null,
            "grid_auto_rows": null,
            "grid_column": null,
            "grid_gap": null,
            "grid_row": null,
            "grid_template_areas": null,
            "grid_template_columns": null,
            "grid_template_rows": null,
            "height": null,
            "justify_content": null,
            "justify_items": null,
            "left": null,
            "margin": null,
            "max_height": null,
            "max_width": null,
            "min_height": null,
            "min_width": null,
            "object_fit": null,
            "object_position": null,
            "order": null,
            "overflow": null,
            "overflow_x": null,
            "overflow_y": null,
            "padding": null,
            "right": null,
            "top": null,
            "visibility": null,
            "width": null
          }
        },
        "3f5b64f87a824b1fba8e7b69a8481e94": {
          "model_module": "@jupyter-widgets/controls",
          "model_name": "ProgressStyleModel",
          "model_module_version": "1.5.0",
          "state": {
            "_model_module": "@jupyter-widgets/controls",
            "_model_module_version": "1.5.0",
            "_model_name": "ProgressStyleModel",
            "_view_count": null,
            "_view_module": "@jupyter-widgets/base",
            "_view_module_version": "1.2.0",
            "_view_name": "StyleView",
            "bar_color": null,
            "description_width": ""
          }
        },
        "0e18a0b9d58d4bf39af03bd85ef73c53": {
          "model_module": "@jupyter-widgets/base",
          "model_name": "LayoutModel",
          "model_module_version": "1.2.0",
          "state": {
            "_model_module": "@jupyter-widgets/base",
            "_model_module_version": "1.2.0",
            "_model_name": "LayoutModel",
            "_view_count": null,
            "_view_module": "@jupyter-widgets/base",
            "_view_module_version": "1.2.0",
            "_view_name": "LayoutView",
            "align_content": null,
            "align_items": null,
            "align_self": null,
            "border": null,
            "bottom": null,
            "display": null,
            "flex": null,
            "flex_flow": null,
            "grid_area": null,
            "grid_auto_columns": null,
            "grid_auto_flow": null,
            "grid_auto_rows": null,
            "grid_column": null,
            "grid_gap": null,
            "grid_row": null,
            "grid_template_areas": null,
            "grid_template_columns": null,
            "grid_template_rows": null,
            "height": null,
            "justify_content": null,
            "justify_items": null,
            "left": null,
            "margin": null,
            "max_height": null,
            "max_width": null,
            "min_height": null,
            "min_width": null,
            "object_fit": null,
            "object_position": null,
            "order": null,
            "overflow": null,
            "overflow_x": null,
            "overflow_y": null,
            "padding": null,
            "right": null,
            "top": null,
            "visibility": null,
            "width": null
          }
        },
        "5fd6af88c29d47b9afc39b96ea7a9b62": {
          "model_module": "@jupyter-widgets/controls",
          "model_name": "DescriptionStyleModel",
          "model_module_version": "1.5.0",
          "state": {
            "_model_module": "@jupyter-widgets/controls",
            "_model_module_version": "1.5.0",
            "_model_name": "DescriptionStyleModel",
            "_view_count": null,
            "_view_module": "@jupyter-widgets/base",
            "_view_module_version": "1.2.0",
            "_view_name": "StyleView",
            "description_width": ""
          }
        },
        "36cf1006fd204677bfcb03c55f5c93af": {
          "model_module": "@jupyter-widgets/controls",
          "model_name": "HBoxModel",
          "model_module_version": "1.5.0",
          "state": {
            "_dom_classes": [],
            "_model_module": "@jupyter-widgets/controls",
            "_model_module_version": "1.5.0",
            "_model_name": "HBoxModel",
            "_view_count": null,
            "_view_module": "@jupyter-widgets/controls",
            "_view_module_version": "1.5.0",
            "_view_name": "HBoxView",
            "box_style": "",
            "children": [
              "IPY_MODEL_86b7d0a6969249f994ec09af8aabb237",
              "IPY_MODEL_78aac717779e4a018a75b0ef0b816c7a",
              "IPY_MODEL_f7ba5bd193c74b0db1b8f330fd010eab"
            ],
            "layout": "IPY_MODEL_3f13f8e2b2b34ee291c03ff8baeda5a6"
          }
        },
        "86b7d0a6969249f994ec09af8aabb237": {
          "model_module": "@jupyter-widgets/controls",
          "model_name": "HTMLModel",
          "model_module_version": "1.5.0",
          "state": {
            "_dom_classes": [],
            "_model_module": "@jupyter-widgets/controls",
            "_model_module_version": "1.5.0",
            "_model_name": "HTMLModel",
            "_view_count": null,
            "_view_module": "@jupyter-widgets/controls",
            "_view_module_version": "1.5.0",
            "_view_name": "HTMLView",
            "description": "",
            "description_tooltip": null,
            "layout": "IPY_MODEL_ba7532c6a9f24a5eb08c0dd11a88e8e8",
            "placeholder": "​",
            "style": "IPY_MODEL_be6ae2fa3a0d43e8b64bb4929e813b1f",
            "value": "Downloading tokenizer_config.json: 100%"
          }
        },
        "78aac717779e4a018a75b0ef0b816c7a": {
          "model_module": "@jupyter-widgets/controls",
          "model_name": "FloatProgressModel",
          "model_module_version": "1.5.0",
          "state": {
            "_dom_classes": [],
            "_model_module": "@jupyter-widgets/controls",
            "_model_module_version": "1.5.0",
            "_model_name": "FloatProgressModel",
            "_view_count": null,
            "_view_module": "@jupyter-widgets/controls",
            "_view_module_version": "1.5.0",
            "_view_name": "ProgressView",
            "bar_style": "success",
            "description": "",
            "description_tooltip": null,
            "layout": "IPY_MODEL_7d4591c6199b48cb8747475362483f64",
            "max": 52,
            "min": 0,
            "orientation": "horizontal",
            "style": "IPY_MODEL_128cca771bd94fc28f340bb3663d9bc5",
            "value": 52
          }
        },
        "f7ba5bd193c74b0db1b8f330fd010eab": {
          "model_module": "@jupyter-widgets/controls",
          "model_name": "HTMLModel",
          "model_module_version": "1.5.0",
          "state": {
            "_dom_classes": [],
            "_model_module": "@jupyter-widgets/controls",
            "_model_module_version": "1.5.0",
            "_model_name": "HTMLModel",
            "_view_count": null,
            "_view_module": "@jupyter-widgets/controls",
            "_view_module_version": "1.5.0",
            "_view_name": "HTMLView",
            "description": "",
            "description_tooltip": null,
            "layout": "IPY_MODEL_92b86dca09474d618f03498a2584cf6f",
            "placeholder": "​",
            "style": "IPY_MODEL_49d6e097a574481c8f76bd578b30a20c",
            "value": " 52.0/52.0 [00:00&lt;00:00, 1.55kB/s]"
          }
        },
        "3f13f8e2b2b34ee291c03ff8baeda5a6": {
          "model_module": "@jupyter-widgets/base",
          "model_name": "LayoutModel",
          "model_module_version": "1.2.0",
          "state": {
            "_model_module": "@jupyter-widgets/base",
            "_model_module_version": "1.2.0",
            "_model_name": "LayoutModel",
            "_view_count": null,
            "_view_module": "@jupyter-widgets/base",
            "_view_module_version": "1.2.0",
            "_view_name": "LayoutView",
            "align_content": null,
            "align_items": null,
            "align_self": null,
            "border": null,
            "bottom": null,
            "display": null,
            "flex": null,
            "flex_flow": null,
            "grid_area": null,
            "grid_auto_columns": null,
            "grid_auto_flow": null,
            "grid_auto_rows": null,
            "grid_column": null,
            "grid_gap": null,
            "grid_row": null,
            "grid_template_areas": null,
            "grid_template_columns": null,
            "grid_template_rows": null,
            "height": null,
            "justify_content": null,
            "justify_items": null,
            "left": null,
            "margin": null,
            "max_height": null,
            "max_width": null,
            "min_height": null,
            "min_width": null,
            "object_fit": null,
            "object_position": null,
            "order": null,
            "overflow": null,
            "overflow_x": null,
            "overflow_y": null,
            "padding": null,
            "right": null,
            "top": null,
            "visibility": null,
            "width": null
          }
        },
        "ba7532c6a9f24a5eb08c0dd11a88e8e8": {
          "model_module": "@jupyter-widgets/base",
          "model_name": "LayoutModel",
          "model_module_version": "1.2.0",
          "state": {
            "_model_module": "@jupyter-widgets/base",
            "_model_module_version": "1.2.0",
            "_model_name": "LayoutModel",
            "_view_count": null,
            "_view_module": "@jupyter-widgets/base",
            "_view_module_version": "1.2.0",
            "_view_name": "LayoutView",
            "align_content": null,
            "align_items": null,
            "align_self": null,
            "border": null,
            "bottom": null,
            "display": null,
            "flex": null,
            "flex_flow": null,
            "grid_area": null,
            "grid_auto_columns": null,
            "grid_auto_flow": null,
            "grid_auto_rows": null,
            "grid_column": null,
            "grid_gap": null,
            "grid_row": null,
            "grid_template_areas": null,
            "grid_template_columns": null,
            "grid_template_rows": null,
            "height": null,
            "justify_content": null,
            "justify_items": null,
            "left": null,
            "margin": null,
            "max_height": null,
            "max_width": null,
            "min_height": null,
            "min_width": null,
            "object_fit": null,
            "object_position": null,
            "order": null,
            "overflow": null,
            "overflow_x": null,
            "overflow_y": null,
            "padding": null,
            "right": null,
            "top": null,
            "visibility": null,
            "width": null
          }
        },
        "be6ae2fa3a0d43e8b64bb4929e813b1f": {
          "model_module": "@jupyter-widgets/controls",
          "model_name": "DescriptionStyleModel",
          "model_module_version": "1.5.0",
          "state": {
            "_model_module": "@jupyter-widgets/controls",
            "_model_module_version": "1.5.0",
            "_model_name": "DescriptionStyleModel",
            "_view_count": null,
            "_view_module": "@jupyter-widgets/base",
            "_view_module_version": "1.2.0",
            "_view_name": "StyleView",
            "description_width": ""
          }
        },
        "7d4591c6199b48cb8747475362483f64": {
          "model_module": "@jupyter-widgets/base",
          "model_name": "LayoutModel",
          "model_module_version": "1.2.0",
          "state": {
            "_model_module": "@jupyter-widgets/base",
            "_model_module_version": "1.2.0",
            "_model_name": "LayoutModel",
            "_view_count": null,
            "_view_module": "@jupyter-widgets/base",
            "_view_module_version": "1.2.0",
            "_view_name": "LayoutView",
            "align_content": null,
            "align_items": null,
            "align_self": null,
            "border": null,
            "bottom": null,
            "display": null,
            "flex": null,
            "flex_flow": null,
            "grid_area": null,
            "grid_auto_columns": null,
            "grid_auto_flow": null,
            "grid_auto_rows": null,
            "grid_column": null,
            "grid_gap": null,
            "grid_row": null,
            "grid_template_areas": null,
            "grid_template_columns": null,
            "grid_template_rows": null,
            "height": null,
            "justify_content": null,
            "justify_items": null,
            "left": null,
            "margin": null,
            "max_height": null,
            "max_width": null,
            "min_height": null,
            "min_width": null,
            "object_fit": null,
            "object_position": null,
            "order": null,
            "overflow": null,
            "overflow_x": null,
            "overflow_y": null,
            "padding": null,
            "right": null,
            "top": null,
            "visibility": null,
            "width": null
          }
        },
        "128cca771bd94fc28f340bb3663d9bc5": {
          "model_module": "@jupyter-widgets/controls",
          "model_name": "ProgressStyleModel",
          "model_module_version": "1.5.0",
          "state": {
            "_model_module": "@jupyter-widgets/controls",
            "_model_module_version": "1.5.0",
            "_model_name": "ProgressStyleModel",
            "_view_count": null,
            "_view_module": "@jupyter-widgets/base",
            "_view_module_version": "1.2.0",
            "_view_name": "StyleView",
            "bar_color": null,
            "description_width": ""
          }
        },
        "92b86dca09474d618f03498a2584cf6f": {
          "model_module": "@jupyter-widgets/base",
          "model_name": "LayoutModel",
          "model_module_version": "1.2.0",
          "state": {
            "_model_module": "@jupyter-widgets/base",
            "_model_module_version": "1.2.0",
            "_model_name": "LayoutModel",
            "_view_count": null,
            "_view_module": "@jupyter-widgets/base",
            "_view_module_version": "1.2.0",
            "_view_name": "LayoutView",
            "align_content": null,
            "align_items": null,
            "align_self": null,
            "border": null,
            "bottom": null,
            "display": null,
            "flex": null,
            "flex_flow": null,
            "grid_area": null,
            "grid_auto_columns": null,
            "grid_auto_flow": null,
            "grid_auto_rows": null,
            "grid_column": null,
            "grid_gap": null,
            "grid_row": null,
            "grid_template_areas": null,
            "grid_template_columns": null,
            "grid_template_rows": null,
            "height": null,
            "justify_content": null,
            "justify_items": null,
            "left": null,
            "margin": null,
            "max_height": null,
            "max_width": null,
            "min_height": null,
            "min_width": null,
            "object_fit": null,
            "object_position": null,
            "order": null,
            "overflow": null,
            "overflow_x": null,
            "overflow_y": null,
            "padding": null,
            "right": null,
            "top": null,
            "visibility": null,
            "width": null
          }
        },
        "49d6e097a574481c8f76bd578b30a20c": {
          "model_module": "@jupyter-widgets/controls",
          "model_name": "DescriptionStyleModel",
          "model_module_version": "1.5.0",
          "state": {
            "_model_module": "@jupyter-widgets/controls",
            "_model_module_version": "1.5.0",
            "_model_name": "DescriptionStyleModel",
            "_view_count": null,
            "_view_module": "@jupyter-widgets/base",
            "_view_module_version": "1.2.0",
            "_view_name": "StyleView",
            "description_width": ""
          }
        },
        "b1cc39224f2f4d62acf29f352d39e077": {
          "model_module": "@jupyter-widgets/controls",
          "model_name": "HBoxModel",
          "model_module_version": "1.5.0",
          "state": {
            "_dom_classes": [],
            "_model_module": "@jupyter-widgets/controls",
            "_model_module_version": "1.5.0",
            "_model_name": "HBoxModel",
            "_view_count": null,
            "_view_module": "@jupyter-widgets/controls",
            "_view_module_version": "1.5.0",
            "_view_name": "HBoxView",
            "box_style": "",
            "children": [
              "IPY_MODEL_526dca849b2748b58488a410863984cd",
              "IPY_MODEL_7312be4804d646098f33382d1d529e3b",
              "IPY_MODEL_6f427782fbf54956a62a3d53b2226c2d"
            ],
            "layout": "IPY_MODEL_c986ebd6e3c4487c8cfd126768beb648"
          }
        },
        "526dca849b2748b58488a410863984cd": {
          "model_module": "@jupyter-widgets/controls",
          "model_name": "HTMLModel",
          "model_module_version": "1.5.0",
          "state": {
            "_dom_classes": [],
            "_model_module": "@jupyter-widgets/controls",
            "_model_module_version": "1.5.0",
            "_model_name": "HTMLModel",
            "_view_count": null,
            "_view_module": "@jupyter-widgets/controls",
            "_view_module_version": "1.5.0",
            "_view_name": "HTMLView",
            "description": "",
            "description_tooltip": null,
            "layout": "IPY_MODEL_13cbb0c6005442acab93099f8f40259d",
            "placeholder": "​",
            "style": "IPY_MODEL_4de77fd7402443758ed71244b65f69e8",
            "value": "Downloading spm.model: 100%"
          }
        },
        "7312be4804d646098f33382d1d529e3b": {
          "model_module": "@jupyter-widgets/controls",
          "model_name": "FloatProgressModel",
          "model_module_version": "1.5.0",
          "state": {
            "_dom_classes": [],
            "_model_module": "@jupyter-widgets/controls",
            "_model_module_version": "1.5.0",
            "_model_name": "FloatProgressModel",
            "_view_count": null,
            "_view_module": "@jupyter-widgets/controls",
            "_view_module_version": "1.5.0",
            "_view_name": "ProgressView",
            "bar_style": "success",
            "description": "",
            "description_tooltip": null,
            "layout": "IPY_MODEL_37fb616d1eea4ca9b79656c90f2ed6ee",
            "max": 2464616,
            "min": 0,
            "orientation": "horizontal",
            "style": "IPY_MODEL_2565991b822f4e01b2815ee1d2345c12",
            "value": 2464616
          }
        },
        "6f427782fbf54956a62a3d53b2226c2d": {
          "model_module": "@jupyter-widgets/controls",
          "model_name": "HTMLModel",
          "model_module_version": "1.5.0",
          "state": {
            "_dom_classes": [],
            "_model_module": "@jupyter-widgets/controls",
            "_model_module_version": "1.5.0",
            "_model_name": "HTMLModel",
            "_view_count": null,
            "_view_module": "@jupyter-widgets/controls",
            "_view_module_version": "1.5.0",
            "_view_name": "HTMLView",
            "description": "",
            "description_tooltip": null,
            "layout": "IPY_MODEL_9ff7a629c7b442429609c0ff541f400f",
            "placeholder": "​",
            "style": "IPY_MODEL_4548f96425814d00bc6d02fe144e45ed",
            "value": " 2.35M/2.35M [00:00&lt;00:00, 6.87MB/s]"
          }
        },
        "c986ebd6e3c4487c8cfd126768beb648": {
          "model_module": "@jupyter-widgets/base",
          "model_name": "LayoutModel",
          "model_module_version": "1.2.0",
          "state": {
            "_model_module": "@jupyter-widgets/base",
            "_model_module_version": "1.2.0",
            "_model_name": "LayoutModel",
            "_view_count": null,
            "_view_module": "@jupyter-widgets/base",
            "_view_module_version": "1.2.0",
            "_view_name": "LayoutView",
            "align_content": null,
            "align_items": null,
            "align_self": null,
            "border": null,
            "bottom": null,
            "display": null,
            "flex": null,
            "flex_flow": null,
            "grid_area": null,
            "grid_auto_columns": null,
            "grid_auto_flow": null,
            "grid_auto_rows": null,
            "grid_column": null,
            "grid_gap": null,
            "grid_row": null,
            "grid_template_areas": null,
            "grid_template_columns": null,
            "grid_template_rows": null,
            "height": null,
            "justify_content": null,
            "justify_items": null,
            "left": null,
            "margin": null,
            "max_height": null,
            "max_width": null,
            "min_height": null,
            "min_width": null,
            "object_fit": null,
            "object_position": null,
            "order": null,
            "overflow": null,
            "overflow_x": null,
            "overflow_y": null,
            "padding": null,
            "right": null,
            "top": null,
            "visibility": null,
            "width": null
          }
        },
        "13cbb0c6005442acab93099f8f40259d": {
          "model_module": "@jupyter-widgets/base",
          "model_name": "LayoutModel",
          "model_module_version": "1.2.0",
          "state": {
            "_model_module": "@jupyter-widgets/base",
            "_model_module_version": "1.2.0",
            "_model_name": "LayoutModel",
            "_view_count": null,
            "_view_module": "@jupyter-widgets/base",
            "_view_module_version": "1.2.0",
            "_view_name": "LayoutView",
            "align_content": null,
            "align_items": null,
            "align_self": null,
            "border": null,
            "bottom": null,
            "display": null,
            "flex": null,
            "flex_flow": null,
            "grid_area": null,
            "grid_auto_columns": null,
            "grid_auto_flow": null,
            "grid_auto_rows": null,
            "grid_column": null,
            "grid_gap": null,
            "grid_row": null,
            "grid_template_areas": null,
            "grid_template_columns": null,
            "grid_template_rows": null,
            "height": null,
            "justify_content": null,
            "justify_items": null,
            "left": null,
            "margin": null,
            "max_height": null,
            "max_width": null,
            "min_height": null,
            "min_width": null,
            "object_fit": null,
            "object_position": null,
            "order": null,
            "overflow": null,
            "overflow_x": null,
            "overflow_y": null,
            "padding": null,
            "right": null,
            "top": null,
            "visibility": null,
            "width": null
          }
        },
        "4de77fd7402443758ed71244b65f69e8": {
          "model_module": "@jupyter-widgets/controls",
          "model_name": "DescriptionStyleModel",
          "model_module_version": "1.5.0",
          "state": {
            "_model_module": "@jupyter-widgets/controls",
            "_model_module_version": "1.5.0",
            "_model_name": "DescriptionStyleModel",
            "_view_count": null,
            "_view_module": "@jupyter-widgets/base",
            "_view_module_version": "1.2.0",
            "_view_name": "StyleView",
            "description_width": ""
          }
        },
        "37fb616d1eea4ca9b79656c90f2ed6ee": {
          "model_module": "@jupyter-widgets/base",
          "model_name": "LayoutModel",
          "model_module_version": "1.2.0",
          "state": {
            "_model_module": "@jupyter-widgets/base",
            "_model_module_version": "1.2.0",
            "_model_name": "LayoutModel",
            "_view_count": null,
            "_view_module": "@jupyter-widgets/base",
            "_view_module_version": "1.2.0",
            "_view_name": "LayoutView",
            "align_content": null,
            "align_items": null,
            "align_self": null,
            "border": null,
            "bottom": null,
            "display": null,
            "flex": null,
            "flex_flow": null,
            "grid_area": null,
            "grid_auto_columns": null,
            "grid_auto_flow": null,
            "grid_auto_rows": null,
            "grid_column": null,
            "grid_gap": null,
            "grid_row": null,
            "grid_template_areas": null,
            "grid_template_columns": null,
            "grid_template_rows": null,
            "height": null,
            "justify_content": null,
            "justify_items": null,
            "left": null,
            "margin": null,
            "max_height": null,
            "max_width": null,
            "min_height": null,
            "min_width": null,
            "object_fit": null,
            "object_position": null,
            "order": null,
            "overflow": null,
            "overflow_x": null,
            "overflow_y": null,
            "padding": null,
            "right": null,
            "top": null,
            "visibility": null,
            "width": null
          }
        },
        "2565991b822f4e01b2815ee1d2345c12": {
          "model_module": "@jupyter-widgets/controls",
          "model_name": "ProgressStyleModel",
          "model_module_version": "1.5.0",
          "state": {
            "_model_module": "@jupyter-widgets/controls",
            "_model_module_version": "1.5.0",
            "_model_name": "ProgressStyleModel",
            "_view_count": null,
            "_view_module": "@jupyter-widgets/base",
            "_view_module_version": "1.2.0",
            "_view_name": "StyleView",
            "bar_color": null,
            "description_width": ""
          }
        },
        "9ff7a629c7b442429609c0ff541f400f": {
          "model_module": "@jupyter-widgets/base",
          "model_name": "LayoutModel",
          "model_module_version": "1.2.0",
          "state": {
            "_model_module": "@jupyter-widgets/base",
            "_model_module_version": "1.2.0",
            "_model_name": "LayoutModel",
            "_view_count": null,
            "_view_module": "@jupyter-widgets/base",
            "_view_module_version": "1.2.0",
            "_view_name": "LayoutView",
            "align_content": null,
            "align_items": null,
            "align_self": null,
            "border": null,
            "bottom": null,
            "display": null,
            "flex": null,
            "flex_flow": null,
            "grid_area": null,
            "grid_auto_columns": null,
            "grid_auto_flow": null,
            "grid_auto_rows": null,
            "grid_column": null,
            "grid_gap": null,
            "grid_row": null,
            "grid_template_areas": null,
            "grid_template_columns": null,
            "grid_template_rows": null,
            "height": null,
            "justify_content": null,
            "justify_items": null,
            "left": null,
            "margin": null,
            "max_height": null,
            "max_width": null,
            "min_height": null,
            "min_width": null,
            "object_fit": null,
            "object_position": null,
            "order": null,
            "overflow": null,
            "overflow_x": null,
            "overflow_y": null,
            "padding": null,
            "right": null,
            "top": null,
            "visibility": null,
            "width": null
          }
        },
        "4548f96425814d00bc6d02fe144e45ed": {
          "model_module": "@jupyter-widgets/controls",
          "model_name": "DescriptionStyleModel",
          "model_module_version": "1.5.0",
          "state": {
            "_model_module": "@jupyter-widgets/controls",
            "_model_module_version": "1.5.0",
            "_model_name": "DescriptionStyleModel",
            "_view_count": null,
            "_view_module": "@jupyter-widgets/base",
            "_view_module_version": "1.2.0",
            "_view_name": "StyleView",
            "description_width": ""
          }
        },
        "dd25a898a03740129f65a271d835e722": {
          "model_module": "@jupyter-widgets/controls",
          "model_name": "HBoxModel",
          "model_module_version": "1.5.0",
          "state": {
            "_dom_classes": [],
            "_model_module": "@jupyter-widgets/controls",
            "_model_module_version": "1.5.0",
            "_model_name": "HBoxModel",
            "_view_count": null,
            "_view_module": "@jupyter-widgets/controls",
            "_view_module_version": "1.5.0",
            "_view_name": "HBoxView",
            "box_style": "",
            "children": [
              "IPY_MODEL_51e41e10164d48e3aead292129198e38",
              "IPY_MODEL_34d41855cfe245e49f77f818af47d242",
              "IPY_MODEL_82806d73eff8430a9a8b027819d1ef9a"
            ],
            "layout": "IPY_MODEL_d5be2d6d2ad5465cafa54a8f594a3f3e"
          }
        },
        "51e41e10164d48e3aead292129198e38": {
          "model_module": "@jupyter-widgets/controls",
          "model_name": "HTMLModel",
          "model_module_version": "1.5.0",
          "state": {
            "_dom_classes": [],
            "_model_module": "@jupyter-widgets/controls",
            "_model_module_version": "1.5.0",
            "_model_name": "HTMLModel",
            "_view_count": null,
            "_view_module": "@jupyter-widgets/controls",
            "_view_module_version": "1.5.0",
            "_view_name": "HTMLView",
            "description": "",
            "description_tooltip": null,
            "layout": "IPY_MODEL_97d65d3dc0894e25af8dd8820f3498ea",
            "placeholder": "​",
            "style": "IPY_MODEL_384246ba720a4bb5af83fe4447557b94",
            "value": "Downloading pytorch_model.bin: 100%"
          }
        },
        "34d41855cfe245e49f77f818af47d242": {
          "model_module": "@jupyter-widgets/controls",
          "model_name": "FloatProgressModel",
          "model_module_version": "1.5.0",
          "state": {
            "_dom_classes": [],
            "_model_module": "@jupyter-widgets/controls",
            "_model_module_version": "1.5.0",
            "_model_name": "FloatProgressModel",
            "_view_count": null,
            "_view_module": "@jupyter-widgets/controls",
            "_view_module_version": "1.5.0",
            "_view_name": "ProgressView",
            "bar_style": "success",
            "description": "",
            "description_tooltip": null,
            "layout": "IPY_MODEL_da6a002dad454a9a97948fa42c10a3cb",
            "max": 371146213,
            "min": 0,
            "orientation": "horizontal",
            "style": "IPY_MODEL_29b24c74c0ab4bb5973cccb88177dc5e",
            "value": 371146213
          }
        },
        "82806d73eff8430a9a8b027819d1ef9a": {
          "model_module": "@jupyter-widgets/controls",
          "model_name": "HTMLModel",
          "model_module_version": "1.5.0",
          "state": {
            "_dom_classes": [],
            "_model_module": "@jupyter-widgets/controls",
            "_model_module_version": "1.5.0",
            "_model_name": "HTMLModel",
            "_view_count": null,
            "_view_module": "@jupyter-widgets/controls",
            "_view_module_version": "1.5.0",
            "_view_name": "HTMLView",
            "description": "",
            "description_tooltip": null,
            "layout": "IPY_MODEL_b9ff9afe95cc46ada29d7c6261f7e69b",
            "placeholder": "​",
            "style": "IPY_MODEL_afaecdc8b82c46b5b93a13c783eecc0b",
            "value": " 354M/354M [00:09&lt;00:00, 58.0MB/s]"
          }
        },
        "d5be2d6d2ad5465cafa54a8f594a3f3e": {
          "model_module": "@jupyter-widgets/base",
          "model_name": "LayoutModel",
          "model_module_version": "1.2.0",
          "state": {
            "_model_module": "@jupyter-widgets/base",
            "_model_module_version": "1.2.0",
            "_model_name": "LayoutModel",
            "_view_count": null,
            "_view_module": "@jupyter-widgets/base",
            "_view_module_version": "1.2.0",
            "_view_name": "LayoutView",
            "align_content": null,
            "align_items": null,
            "align_self": null,
            "border": null,
            "bottom": null,
            "display": null,
            "flex": null,
            "flex_flow": null,
            "grid_area": null,
            "grid_auto_columns": null,
            "grid_auto_flow": null,
            "grid_auto_rows": null,
            "grid_column": null,
            "grid_gap": null,
            "grid_row": null,
            "grid_template_areas": null,
            "grid_template_columns": null,
            "grid_template_rows": null,
            "height": null,
            "justify_content": null,
            "justify_items": null,
            "left": null,
            "margin": null,
            "max_height": null,
            "max_width": null,
            "min_height": null,
            "min_width": null,
            "object_fit": null,
            "object_position": null,
            "order": null,
            "overflow": null,
            "overflow_x": null,
            "overflow_y": null,
            "padding": null,
            "right": null,
            "top": null,
            "visibility": null,
            "width": null
          }
        },
        "97d65d3dc0894e25af8dd8820f3498ea": {
          "model_module": "@jupyter-widgets/base",
          "model_name": "LayoutModel",
          "model_module_version": "1.2.0",
          "state": {
            "_model_module": "@jupyter-widgets/base",
            "_model_module_version": "1.2.0",
            "_model_name": "LayoutModel",
            "_view_count": null,
            "_view_module": "@jupyter-widgets/base",
            "_view_module_version": "1.2.0",
            "_view_name": "LayoutView",
            "align_content": null,
            "align_items": null,
            "align_self": null,
            "border": null,
            "bottom": null,
            "display": null,
            "flex": null,
            "flex_flow": null,
            "grid_area": null,
            "grid_auto_columns": null,
            "grid_auto_flow": null,
            "grid_auto_rows": null,
            "grid_column": null,
            "grid_gap": null,
            "grid_row": null,
            "grid_template_areas": null,
            "grid_template_columns": null,
            "grid_template_rows": null,
            "height": null,
            "justify_content": null,
            "justify_items": null,
            "left": null,
            "margin": null,
            "max_height": null,
            "max_width": null,
            "min_height": null,
            "min_width": null,
            "object_fit": null,
            "object_position": null,
            "order": null,
            "overflow": null,
            "overflow_x": null,
            "overflow_y": null,
            "padding": null,
            "right": null,
            "top": null,
            "visibility": null,
            "width": null
          }
        },
        "384246ba720a4bb5af83fe4447557b94": {
          "model_module": "@jupyter-widgets/controls",
          "model_name": "DescriptionStyleModel",
          "model_module_version": "1.5.0",
          "state": {
            "_model_module": "@jupyter-widgets/controls",
            "_model_module_version": "1.5.0",
            "_model_name": "DescriptionStyleModel",
            "_view_count": null,
            "_view_module": "@jupyter-widgets/base",
            "_view_module_version": "1.2.0",
            "_view_name": "StyleView",
            "description_width": ""
          }
        },
        "da6a002dad454a9a97948fa42c10a3cb": {
          "model_module": "@jupyter-widgets/base",
          "model_name": "LayoutModel",
          "model_module_version": "1.2.0",
          "state": {
            "_model_module": "@jupyter-widgets/base",
            "_model_module_version": "1.2.0",
            "_model_name": "LayoutModel",
            "_view_count": null,
            "_view_module": "@jupyter-widgets/base",
            "_view_module_version": "1.2.0",
            "_view_name": "LayoutView",
            "align_content": null,
            "align_items": null,
            "align_self": null,
            "border": null,
            "bottom": null,
            "display": null,
            "flex": null,
            "flex_flow": null,
            "grid_area": null,
            "grid_auto_columns": null,
            "grid_auto_flow": null,
            "grid_auto_rows": null,
            "grid_column": null,
            "grid_gap": null,
            "grid_row": null,
            "grid_template_areas": null,
            "grid_template_columns": null,
            "grid_template_rows": null,
            "height": null,
            "justify_content": null,
            "justify_items": null,
            "left": null,
            "margin": null,
            "max_height": null,
            "max_width": null,
            "min_height": null,
            "min_width": null,
            "object_fit": null,
            "object_position": null,
            "order": null,
            "overflow": null,
            "overflow_x": null,
            "overflow_y": null,
            "padding": null,
            "right": null,
            "top": null,
            "visibility": null,
            "width": null
          }
        },
        "29b24c74c0ab4bb5973cccb88177dc5e": {
          "model_module": "@jupyter-widgets/controls",
          "model_name": "ProgressStyleModel",
          "model_module_version": "1.5.0",
          "state": {
            "_model_module": "@jupyter-widgets/controls",
            "_model_module_version": "1.5.0",
            "_model_name": "ProgressStyleModel",
            "_view_count": null,
            "_view_module": "@jupyter-widgets/base",
            "_view_module_version": "1.2.0",
            "_view_name": "StyleView",
            "bar_color": null,
            "description_width": ""
          }
        },
        "b9ff9afe95cc46ada29d7c6261f7e69b": {
          "model_module": "@jupyter-widgets/base",
          "model_name": "LayoutModel",
          "model_module_version": "1.2.0",
          "state": {
            "_model_module": "@jupyter-widgets/base",
            "_model_module_version": "1.2.0",
            "_model_name": "LayoutModel",
            "_view_count": null,
            "_view_module": "@jupyter-widgets/base",
            "_view_module_version": "1.2.0",
            "_view_name": "LayoutView",
            "align_content": null,
            "align_items": null,
            "align_self": null,
            "border": null,
            "bottom": null,
            "display": null,
            "flex": null,
            "flex_flow": null,
            "grid_area": null,
            "grid_auto_columns": null,
            "grid_auto_flow": null,
            "grid_auto_rows": null,
            "grid_column": null,
            "grid_gap": null,
            "grid_row": null,
            "grid_template_areas": null,
            "grid_template_columns": null,
            "grid_template_rows": null,
            "height": null,
            "justify_content": null,
            "justify_items": null,
            "left": null,
            "margin": null,
            "max_height": null,
            "max_width": null,
            "min_height": null,
            "min_width": null,
            "object_fit": null,
            "object_position": null,
            "order": null,
            "overflow": null,
            "overflow_x": null,
            "overflow_y": null,
            "padding": null,
            "right": null,
            "top": null,
            "visibility": null,
            "width": null
          }
        },
        "afaecdc8b82c46b5b93a13c783eecc0b": {
          "model_module": "@jupyter-widgets/controls",
          "model_name": "DescriptionStyleModel",
          "model_module_version": "1.5.0",
          "state": {
            "_model_module": "@jupyter-widgets/controls",
            "_model_module_version": "1.5.0",
            "_model_name": "DescriptionStyleModel",
            "_view_count": null,
            "_view_module": "@jupyter-widgets/base",
            "_view_module_version": "1.2.0",
            "_view_name": "StyleView",
            "description_width": ""
          }
        }
      }
    },
    "accelerator": "GPU",
    "gpuClass": "standard"
  },
  "cells": [
    {
      "cell_type": "markdown",
      "source": [
        "# Aspect-based sentiment classification via [PyABSA](https://github.com/yangheng95/PyABSA)\n",
        "Author: Heng Yang\n",
        "\n",
        "Github: https://github.com/yangheng95/PyABSA\n",
        "\n",
        "See more usages [here](https://github.com/yangheng95/PyABSA/tree/release/demos/aspect_polarity_classification)"
      ],
      "metadata": {
        "id": "GIi_Lm8fP4lZ"
      }
    },
    {
      "cell_type": "code",
      "execution_count": null,
      "metadata": {
        "colab": {
          "base_uri": "https://localhost:8080/"
        },
        "id": "u9qtNy3ePgzd",
        "outputId": "91a65a75-a116-4256-e9b6-2edfcdc137cd"
      },
      "outputs": [
        {
          "output_type": "stream",
          "name": "stdout",
          "text": [
            "Looking in indexes: https://pypi.org/simple, https://us-python.pkg.dev/colab-wheels/public/simple/\n",
            "Collecting pyabsa\n",
            "  Downloading pyabsa-1.16.16-py3-none-any.whl (250 kB)\n",
            "\u001b[K     |████████████████████████████████| 250 kB 4.7 MB/s \n",
            "\u001b[?25hCollecting gitpython\n",
            "  Downloading GitPython-3.1.27-py3-none-any.whl (181 kB)\n",
            "\u001b[K     |████████████████████████████████| 181 kB 63.6 MB/s \n",
            "\u001b[?25hCollecting pytorch-warmup\n",
            "  Downloading pytorch-warmup-0.1.0.tar.gz (314 kB)\n",
            "\u001b[K     |████████████████████████████████| 314 kB 55.3 MB/s \n",
            "\u001b[?25hCollecting findfile>=1.7.9.8\n",
            "  Downloading findfile-1.7.9.8-py3-none-any.whl (5.3 kB)\n",
            "Collecting boostaug>=2.2.3\n",
            "  Downloading boostaug-2.2.4-py3-none-any.whl (10 kB)\n",
            "Requirement already satisfied: gdown>=4.4.0 in /usr/local/lib/python3.7/dist-packages (from pyabsa) (4.4.0)\n",
            "Requirement already satisfied: tqdm in /usr/local/lib/python3.7/dist-packages (from pyabsa) (4.64.0)\n",
            "Collecting metric-visualizer>=0.5.5\n",
            "  Downloading metric_visualizer-0.5.7-py3-none-any.whl (18 kB)\n",
            "Requirement already satisfied: networkx in /usr/local/lib/python3.7/dist-packages (from pyabsa) (2.6.3)\n",
            "Requirement already satisfied: torch>1.0.0 in /usr/local/lib/python3.7/dist-packages (from pyabsa) (1.12.1+cu113)\n",
            "Collecting update-checker\n",
            "  Downloading update_checker-0.18.0-py3-none-any.whl (7.0 kB)\n",
            "Requirement already satisfied: spacy in /usr/local/lib/python3.7/dist-packages (from pyabsa) (3.4.1)\n",
            "Collecting sentencepiece\n",
            "  Downloading sentencepiece-0.1.97-cp37-cp37m-manylinux_2_17_x86_64.manylinux2014_x86_64.whl (1.3 MB)\n",
            "\u001b[K     |████████████████████████████████| 1.3 MB 60.2 MB/s \n",
            "\u001b[?25hCollecting transformers>4.20.0\n",
            "  Downloading transformers-4.21.3-py3-none-any.whl (4.7 MB)\n",
            "\u001b[K     |████████████████████████████████| 4.7 MB 53.9 MB/s \n",
            "\u001b[?25hCollecting autocuda>=0.11\n",
            "  Downloading autocuda-0.11-py3-none-any.whl (4.8 kB)\n",
            "Collecting seqeval\n",
            "  Downloading seqeval-1.2.2.tar.gz (43 kB)\n",
            "\u001b[K     |████████████████████████████████| 43 kB 2.7 MB/s \n",
            "\u001b[?25hRequirement already satisfied: termcolor in /usr/local/lib/python3.7/dist-packages (from pyabsa) (1.1.0)\n",
            "Requirement already satisfied: typing-extensions in /usr/local/lib/python3.7/dist-packages (from pyabsa) (4.1.1)\n",
            "Requirement already satisfied: six in /usr/local/lib/python3.7/dist-packages (from gdown>=4.4.0->pyabsa) (1.15.0)\n",
            "Requirement already satisfied: filelock in /usr/local/lib/python3.7/dist-packages (from gdown>=4.4.0->pyabsa) (3.8.0)\n",
            "Requirement already satisfied: requests[socks] in /usr/local/lib/python3.7/dist-packages (from gdown>=4.4.0->pyabsa) (2.23.0)\n",
            "Requirement already satisfied: beautifulsoup4 in /usr/local/lib/python3.7/dist-packages (from gdown>=4.4.0->pyabsa) (4.6.3)\n",
            "Requirement already satisfied: matplotlib in /usr/local/lib/python3.7/dist-packages (from metric-visualizer>=0.5.5->pyabsa) (3.2.2)\n",
            "Requirement already satisfied: tabulate in /usr/local/lib/python3.7/dist-packages (from metric-visualizer>=0.5.5->pyabsa) (0.8.10)\n",
            "Requirement already satisfied: natsort in /usr/local/lib/python3.7/dist-packages (from metric-visualizer>=0.5.5->pyabsa) (5.5.0)\n",
            "Collecting tikzplotlib\n",
            "  Downloading tikzplotlib-0.10.1-py3-none-any.whl (54 kB)\n",
            "\u001b[K     |████████████████████████████████| 54 kB 3.3 MB/s \n",
            "\u001b[?25hRequirement already satisfied: numpy in /usr/local/lib/python3.7/dist-packages (from metric-visualizer>=0.5.5->pyabsa) (1.21.6)\n",
            "Requirement already satisfied: scipy in /usr/local/lib/python3.7/dist-packages (from metric-visualizer>=0.5.5->pyabsa) (1.7.3)\n",
            "Collecting tokenizers!=0.11.3,<0.13,>=0.11.1\n",
            "  Downloading tokenizers-0.12.1-cp37-cp37m-manylinux_2_12_x86_64.manylinux2010_x86_64.whl (6.6 MB)\n",
            "\u001b[K     |████████████████████████████████| 6.6 MB 56.4 MB/s \n",
            "\u001b[?25hRequirement already satisfied: importlib-metadata in /usr/local/lib/python3.7/dist-packages (from transformers>4.20.0->pyabsa) (4.12.0)\n",
            "Requirement already satisfied: pyyaml>=5.1 in /usr/local/lib/python3.7/dist-packages (from transformers>4.20.0->pyabsa) (6.0)\n",
            "Requirement already satisfied: packaging>=20.0 in /usr/local/lib/python3.7/dist-packages (from transformers>4.20.0->pyabsa) (21.3)\n",
            "Collecting huggingface-hub<1.0,>=0.1.0\n",
            "  Downloading huggingface_hub-0.9.1-py3-none-any.whl (120 kB)\n",
            "\u001b[K     |████████████████████████████████| 120 kB 74.2 MB/s \n",
            "\u001b[?25hRequirement already satisfied: regex!=2019.12.17 in /usr/local/lib/python3.7/dist-packages (from transformers>4.20.0->pyabsa) (2022.6.2)\n",
            "Requirement already satisfied: pyparsing!=3.0.5,>=2.0.2 in /usr/local/lib/python3.7/dist-packages (from packaging>=20.0->transformers>4.20.0->pyabsa) (3.0.9)\n",
            "Collecting gitdb<5,>=4.0.1\n",
            "  Downloading gitdb-4.0.9-py3-none-any.whl (63 kB)\n",
            "\u001b[K     |████████████████████████████████| 63 kB 1.8 MB/s \n",
            "\u001b[?25hCollecting smmap<6,>=3.0.1\n",
            "  Downloading smmap-5.0.0-py3-none-any.whl (24 kB)\n",
            "Requirement already satisfied: zipp>=0.5 in /usr/local/lib/python3.7/dist-packages (from importlib-metadata->transformers>4.20.0->pyabsa) (3.8.1)\n",
            "Requirement already satisfied: python-dateutil>=2.1 in /usr/local/lib/python3.7/dist-packages (from matplotlib->metric-visualizer>=0.5.5->pyabsa) (2.8.2)\n",
            "Requirement already satisfied: cycler>=0.10 in /usr/local/lib/python3.7/dist-packages (from matplotlib->metric-visualizer>=0.5.5->pyabsa) (0.11.0)\n",
            "Requirement already satisfied: kiwisolver>=1.0.1 in /usr/local/lib/python3.7/dist-packages (from matplotlib->metric-visualizer>=0.5.5->pyabsa) (1.4.4)\n",
            "Requirement already satisfied: certifi>=2017.4.17 in /usr/local/lib/python3.7/dist-packages (from requests[socks]->gdown>=4.4.0->pyabsa) (2022.6.15)\n",
            "Requirement already satisfied: idna<3,>=2.5 in /usr/local/lib/python3.7/dist-packages (from requests[socks]->gdown>=4.4.0->pyabsa) (2.10)\n",
            "Requirement already satisfied: chardet<4,>=3.0.2 in /usr/local/lib/python3.7/dist-packages (from requests[socks]->gdown>=4.4.0->pyabsa) (3.0.4)\n",
            "Requirement already satisfied: urllib3!=1.25.0,!=1.25.1,<1.26,>=1.21.1 in /usr/local/lib/python3.7/dist-packages (from requests[socks]->gdown>=4.4.0->pyabsa) (1.24.3)\n",
            "Requirement already satisfied: PySocks!=1.5.7,>=1.5.6 in /usr/local/lib/python3.7/dist-packages (from requests[socks]->gdown>=4.4.0->pyabsa) (1.7.1)\n",
            "Requirement already satisfied: scikit-learn>=0.21.3 in /usr/local/lib/python3.7/dist-packages (from seqeval->pyabsa) (1.0.2)\n",
            "Requirement already satisfied: joblib>=0.11 in /usr/local/lib/python3.7/dist-packages (from scikit-learn>=0.21.3->seqeval->pyabsa) (1.1.0)\n",
            "Requirement already satisfied: threadpoolctl>=2.0.0 in /usr/local/lib/python3.7/dist-packages (from scikit-learn>=0.21.3->seqeval->pyabsa) (3.1.0)\n",
            "Requirement already satisfied: catalogue<2.1.0,>=2.0.6 in /usr/local/lib/python3.7/dist-packages (from spacy->pyabsa) (2.0.8)\n",
            "Requirement already satisfied: langcodes<4.0.0,>=3.2.0 in /usr/local/lib/python3.7/dist-packages (from spacy->pyabsa) (3.3.0)\n",
            "Requirement already satisfied: spacy-loggers<2.0.0,>=1.0.0 in /usr/local/lib/python3.7/dist-packages (from spacy->pyabsa) (1.0.3)\n",
            "Requirement already satisfied: wasabi<1.1.0,>=0.9.1 in /usr/local/lib/python3.7/dist-packages (from spacy->pyabsa) (0.10.1)\n",
            "Requirement already satisfied: pydantic!=1.8,!=1.8.1,<1.10.0,>=1.7.4 in /usr/local/lib/python3.7/dist-packages (from spacy->pyabsa) (1.9.2)\n",
            "Requirement already satisfied: murmurhash<1.1.0,>=0.28.0 in /usr/local/lib/python3.7/dist-packages (from spacy->pyabsa) (1.0.8)\n",
            "Requirement already satisfied: cymem<2.1.0,>=2.0.2 in /usr/local/lib/python3.7/dist-packages (from spacy->pyabsa) (2.0.6)\n",
            "Requirement already satisfied: pathy>=0.3.5 in /usr/local/lib/python3.7/dist-packages (from spacy->pyabsa) (0.6.2)\n",
            "Requirement already satisfied: srsly<3.0.0,>=2.4.3 in /usr/local/lib/python3.7/dist-packages (from spacy->pyabsa) (2.4.4)\n",
            "Requirement already satisfied: thinc<8.2.0,>=8.1.0 in /usr/local/lib/python3.7/dist-packages (from spacy->pyabsa) (8.1.0)\n",
            "Requirement already satisfied: preshed<3.1.0,>=3.0.2 in /usr/local/lib/python3.7/dist-packages (from spacy->pyabsa) (3.0.7)\n",
            "Requirement already satisfied: typer<0.5.0,>=0.3.0 in /usr/local/lib/python3.7/dist-packages (from spacy->pyabsa) (0.4.2)\n",
            "Requirement already satisfied: setuptools in /usr/local/lib/python3.7/dist-packages (from spacy->pyabsa) (57.4.0)\n",
            "Requirement already satisfied: spacy-legacy<3.1.0,>=3.0.9 in /usr/local/lib/python3.7/dist-packages (from spacy->pyabsa) (3.0.10)\n",
            "Requirement already satisfied: jinja2 in /usr/local/lib/python3.7/dist-packages (from spacy->pyabsa) (2.11.3)\n",
            "Requirement already satisfied: smart-open<6.0.0,>=5.2.1 in /usr/local/lib/python3.7/dist-packages (from pathy>=0.3.5->spacy->pyabsa) (5.2.1)\n",
            "Requirement already satisfied: blis<0.8.0,>=0.7.8 in /usr/local/lib/python3.7/dist-packages (from thinc<8.2.0,>=8.1.0->spacy->pyabsa) (0.7.8)\n",
            "Requirement already satisfied: click<9.0.0,>=7.1.1 in /usr/local/lib/python3.7/dist-packages (from typer<0.5.0,>=0.3.0->spacy->pyabsa) (7.1.2)\n",
            "Requirement already satisfied: MarkupSafe>=0.23 in /usr/local/lib/python3.7/dist-packages (from jinja2->spacy->pyabsa) (2.0.1)\n",
            "Requirement already satisfied: Pillow in /usr/local/lib/python3.7/dist-packages (from tikzplotlib->metric-visualizer>=0.5.5->pyabsa) (7.1.2)\n",
            "Collecting webcolors\n",
            "  Downloading webcolors-1.12-py3-none-any.whl (9.9 kB)\n",
            "Building wheels for collected packages: pytorch-warmup, seqeval\n",
            "  Building wheel for pytorch-warmup (setup.py) ... \u001b[?25l\u001b[?25hdone\n",
            "  Created wheel for pytorch-warmup: filename=pytorch_warmup-0.1.0-py3-none-any.whl size=5802 sha256=30099f4ddf718967143ad9e64fd3e265db706a96c400e0d2de86f81f486fce86\n",
            "  Stored in directory: /root/.cache/pip/wheels/c7/5d/24/9475e442daa1e9332c122c79fb5131b9e4e91946009365902e\n",
            "  Building wheel for seqeval (setup.py) ... \u001b[?25l\u001b[?25hdone\n",
            "  Created wheel for seqeval: filename=seqeval-1.2.2-py3-none-any.whl size=16180 sha256=204ab848c9763a611f102ec56209b274fec461105a82170c5644e568fb057b60\n",
            "  Stored in directory: /root/.cache/pip/wheels/05/96/ee/7cac4e74f3b19e3158dce26a20a1c86b3533c43ec72a549fd7\n",
            "Successfully built pytorch-warmup seqeval\n",
            "Installing collected packages: webcolors, smmap, update-checker, tokenizers, tikzplotlib, huggingface-hub, gitdb, findfile, transformers, seqeval, sentencepiece, pytorch-warmup, metric-visualizer, gitpython, boostaug, autocuda, pyabsa\n",
            "Successfully installed autocuda-0.11 boostaug-2.2.4 findfile-1.7.9.8 gitdb-4.0.9 gitpython-3.1.27 huggingface-hub-0.9.1 metric-visualizer-0.5.7 pyabsa-1.16.16 pytorch-warmup-0.1.0 sentencepiece-0.1.97 seqeval-1.2.2 smmap-5.0.0 tikzplotlib-0.10.1 tokenizers-0.12.1 transformers-4.21.3 update-checker-0.18.0 webcolors-1.12\n"
          ]
        }
      ],
      "source": [
        "!pip install pyabsa"
      ]
    },
    {
      "cell_type": "markdown",
      "source": [
        "## Find Available Checkpoints For **Current Version**"
      ],
      "metadata": {
        "id": "gQ6c9MQlP1xo"
      }
    },
    {
      "cell_type": "code",
      "source": [
        "from pyabsa import available_checkpoints\n",
        "checkpoint_map = available_checkpoints('apc')"
      ],
      "metadata": {
        "colab": {
          "base_uri": "https://localhost:8080/"
        },
        "id": "iTyTYSOGQd-h",
        "outputId": "d2a91a2b-c05a-4b8d-a820-0a7391e03d7c"
      },
      "execution_count": null,
      "outputs": [
        {
          "output_type": "stream",
          "name": "stderr",
          "text": [
            "/usr/local/lib/python3.7/dist-packages/html5lib/_trie/_base.py:3: DeprecationWarning: Using or importing the ABCs from 'collections' instead of from 'collections.abc' is deprecated since Python 3.3,and in 3.9 it will stop working\n",
            "  from collections import Mapping\n",
            "/usr/lib/python3.7/importlib/_bootstrap.py:219: RuntimeWarning: numpy.ufunc size changed, may indicate binary incompatibility. Expected 192 from C header, got 216 from PyObject\n",
            "  return f(*args, **kwds)\n"
          ]
        },
        {
          "output_type": "stream",
          "name": "stdout",
          "text": [
            "********** \u001b[32mAvailable apc model checkpoints for Version:1.16.16 (this version)\u001b[0m **********\n",
            "----------------------------------------------------------------------------------------------------\n",
            "Checkpoint Name: english\n",
            "id: https://drive.google.com/file/d/1JIFhaAdoCeZI5CQqfOix3pnrYa6_Mf9S/view?usp=sharing\n",
            "Training Model: FAST-LSA-S\n",
            "Training Dataset: English\n",
            "Language: English\n",
            "Description: Trained on RTX3090\n",
            "Available Version: 1.6.3+\n",
            "Checkpoint File: fast_lsa_s_acc_84.9_f1_82.11.zip\n",
            "Author: H, Yang (yangheng@m.scnu.edu.cn)\n",
            "----------------------------------------------------------------------------------------------------\n",
            "----------------------------------------------------------------------------------------------------\n",
            "Checkpoint Name: chinese\n",
            "id: https://drive.google.com/file/d/1B0RHazOCm2eOWLWExQkeapHr9d3OiZl7/view?usp=sharing\n",
            "Training Model: FAST-LCF-MDeBERTa\n",
            "Training Dataset: Chinese\n",
            "Language: Chinese\n",
            "Description: Trained on RTX3090\n",
            "Available Version: 1.8.2+\n",
            "Checkpoint File: fast_lcf_bert_Chinese_acc_97.11_f1_96.54.zip\n",
            "Author: H, Yang (yangheng@m.scnu.edu.cn)\n",
            "----------------------------------------------------------------------------------------------------\n",
            "----------------------------------------------------------------------------------------------------\n",
            "Checkpoint Name: multilingual\n",
            "id: https://drive.google.com/file/d/15ls1hcGvk27UnfMsXZtk780h7tTBbNws/view?usp=sharing\n",
            "Training Model: FAST-LCF-Deberta\n",
            "Training Dataset: Multilingual\n",
            "Language: Multilingual\n",
            "Description: Trained on RTX3090\n",
            "Available Version: 1.8.2+\n",
            "Checkpoint File: fast_lcf_bert_Multilingual_acc_94.72_f1_90.07.zip\n",
            "Author: H, Yang (yangheng@m.scnu.edu.cn)\n",
            "----------------------------------------------------------------------------------------------------\n",
            "----------------------------------------------------------------------------------------------------\n",
            "Checkpoint Name: multilingual2\n",
            "id: https://drive.google.com/file/d/1YCYKpEnff-DBUHd-8vWmgsnng5ZT_2cs/view?usp=sharing\n",
            "Training Model: FAST-LCF-Deberta\n",
            "Training Dataset: Multilingual\n",
            "Language: Multilingual\n",
            "Description: Trained on RTX3090\n",
            "Available Version: 1.10.5+\n",
            "Checkpoint File: fast_lsa_t_v2_Multilingual_acc_88.44_f1_82.66.zip\n",
            "Author: H, Yang (yangheng@m.scnu.edu.cn)\n",
            "----------------------------------------------------------------------------------------------------\n",
            "----------------------------------------------------------------------------------------------------\n",
            "Checkpoint Name: HELP-WANTED\n",
            "id: \n",
            "Description: You can help us by sharing checkpoints (e.g. models trained on you own datasets) with community.\n",
            "Checkpoint File: PLEASE NOTE THAT THIS IS NOT A REAL CHECKPOINT!\n",
            "Available Version: \n",
            "----------------------------------------------------------------------------------------------------\n",
            "\u001b[33mThere may be some checkpoints available for early versions of PyABSA, see apc\u001b[0m\n"
          ]
        }
      ]
    },
    {
      "cell_type": "markdown",
      "source": [
        "# Init a sentiment classifier from online checkpoint or local checkpoint"
      ],
      "metadata": {
        "id": "mbIUc1IdQ-rr"
      }
    },
    {
      "cell_type": "code",
      "source": [
        "from pyabsa import APCCheckpointManager, ABSADatasetList\n",
        "sent_classifier = APCCheckpointManager.get_sentiment_classifier(checkpoint='multilingual',\n",
        "                                   auto_device=True,  # Use CUDA if available\n",
        "                                   )"
      ],
      "metadata": {
        "colab": {
          "base_uri": "https://localhost:8080/",
          "height": 1000,
          "referenced_widgets": [
            "047421f3fa49430f8ec682064082f715",
            "d41c5920fa1944d8ba277f44e76d9212",
            "c13d45e655c54190b95e7885a18d4211",
            "acc7f865e9684ecf95635e4735834d25",
            "962f4efe5c3a43439e93b8f61af7eeb1",
            "6d2b5932d2884d7ab4369ef0bdd9598c",
            "2d53096ee4764df5aaaf357d81991904",
            "5e2e357db4904334ba2ed8917ce788be",
            "de62d7d818664366a6a20bb99117e111",
            "0a29f766bd6c4c65baec4303dc94f33a",
            "c2632c14c3874352b160c360b06f6870",
            "8085f33d2d16497c87deb8c8d952a288",
            "3fafef678afd41e2ba2dec518ab4c93f",
            "91054aa505c94889ac3b90fe5079b521",
            "c0bf8709970a4d0aa97a2393b9fc8cea",
            "dbce001fbf564e87b3f4bb6c873a2e0f",
            "b8ba9866d9324ed5a0d79843b3093b6b",
            "3bdc32c467b64d9d9d6d8f2ef84edda1",
            "7d10f93d387146959b68af9bd46d5f1b",
            "f309cdcc4453461aaab6fd943554c45f",
            "07f386443969498bb08275801e0c4e67",
            "1f95ad2c3fd74cbd810dae70afd4f770",
            "b363bd1501dc4887b1742d16b8c9ec87",
            "f92794231a154fce806e013bc5791794",
            "ff62ed18f509448caf1d1634a6aaf9a1",
            "f0416bbef55645cd97cd4211ccaab293",
            "0047ec263c1848c2abb91fe78a7cc622",
            "f77f971d4c3a48d4bc1cf7dd654135dd",
            "3a145fc7000f4c238af6fce19a1504bb",
            "a573eeed395c47329f18749621aa47e1",
            "7bc9ca6f0bdf4795a5c382be867185e7",
            "d2ab43a57f41440498b6d2ad04e13da1",
            "505e7c5ff062433d98f5126c6b6ee649",
            "ed694fd0f49f45b0a112b9515ae2df61",
            "6d886c66364245a4a84595c1a9db6048",
            "264a3deae1714eb0912277e0294572d8",
            "31194e55ad854ab28793c1c8ff6c50ec",
            "929c452017ae4c009a7cdb62672b4646",
            "dafe0e391b0641ee9a10759bf61f8ec0",
            "79fda69df5674c66a8000baca29d661f",
            "c434c8d262f240a9bb36a03265439ec9",
            "862e0c57fbd44443b2210a6853100776",
            "a19d4b46be8b4189ab52c13dd6ae3d22",
            "495abb8d39064a80a585d9c3415bc3e2"
          ]
        },
        "id": "F3P3j_q-SYV-",
        "outputId": "7e496a86-7307-4c09-b441-de84a40e19c5"
      },
      "execution_count": null,
      "outputs": [
        {
          "output_type": "stream",
          "name": "stdout",
          "text": [
            "********** \u001b[32mAvailable APC model checkpoints for Version:1.16.16 (this version)\u001b[0m **********\n",
            "----------------------------------------------------------------------------------------------------\n",
            "Checkpoint Name: english\n",
            "id: https://drive.google.com/file/d/1JIFhaAdoCeZI5CQqfOix3pnrYa6_Mf9S/view?usp=sharing\n",
            "Training Model: FAST-LSA-S\n",
            "Training Dataset: English\n",
            "Language: English\n",
            "Description: Trained on RTX3090\n",
            "Available Version: 1.6.3+\n",
            "Checkpoint File: fast_lsa_s_acc_84.9_f1_82.11.zip\n",
            "Author: H, Yang (yangheng@m.scnu.edu.cn)\n",
            "----------------------------------------------------------------------------------------------------\n",
            "----------------------------------------------------------------------------------------------------\n",
            "Checkpoint Name: chinese\n",
            "id: https://drive.google.com/file/d/1B0RHazOCm2eOWLWExQkeapHr9d3OiZl7/view?usp=sharing\n",
            "Training Model: FAST-LCF-MDeBERTa\n",
            "Training Dataset: Chinese\n",
            "Language: Chinese\n",
            "Description: Trained on RTX3090\n",
            "Available Version: 1.8.2+\n",
            "Checkpoint File: fast_lcf_bert_Chinese_acc_97.11_f1_96.54.zip\n",
            "Author: H, Yang (yangheng@m.scnu.edu.cn)\n",
            "----------------------------------------------------------------------------------------------------\n",
            "----------------------------------------------------------------------------------------------------\n",
            "Checkpoint Name: multilingual\n",
            "id: https://drive.google.com/file/d/15ls1hcGvk27UnfMsXZtk780h7tTBbNws/view?usp=sharing\n",
            "Training Model: FAST-LCF-Deberta\n",
            "Training Dataset: Multilingual\n",
            "Language: Multilingual\n",
            "Description: Trained on RTX3090\n",
            "Available Version: 1.8.2+\n",
            "Checkpoint File: fast_lcf_bert_Multilingual_acc_94.72_f1_90.07.zip\n",
            "Author: H, Yang (yangheng@m.scnu.edu.cn)\n",
            "----------------------------------------------------------------------------------------------------\n",
            "----------------------------------------------------------------------------------------------------\n",
            "Checkpoint Name: multilingual2\n",
            "id: https://drive.google.com/file/d/1YCYKpEnff-DBUHd-8vWmgsnng5ZT_2cs/view?usp=sharing\n",
            "Training Model: FAST-LCF-Deberta\n",
            "Training Dataset: Multilingual\n",
            "Language: Multilingual\n",
            "Description: Trained on RTX3090\n",
            "Available Version: 1.10.5+\n",
            "Checkpoint File: fast_lsa_t_v2_Multilingual_acc_88.44_f1_82.66.zip\n",
            "Author: H, Yang (yangheng@m.scnu.edu.cn)\n",
            "----------------------------------------------------------------------------------------------------\n",
            "----------------------------------------------------------------------------------------------------\n",
            "Checkpoint Name: HELP-WANTED\n",
            "id: \n",
            "Description: You can help us by sharing checkpoints (e.g. models trained on you own datasets) with community.\n",
            "Checkpoint File: PLEASE NOTE THAT THIS IS NOT A REAL CHECKPOINT!\n",
            "Available Version: \n",
            "----------------------------------------------------------------------------------------------------\n",
            "\u001b[33mThere may be some checkpoints available for early versions of PyABSA, see APC\u001b[0m\n",
            "\u001b[32mDownloading checkpoint:multilingual ...\u001b[0m\n",
            "\u001b[31mNotice: The pretrained model are used for testing, it is recommended to train the model on your own custom datasets\u001b[0m\n"
          ]
        },
        {
          "output_type": "stream",
          "name": "stderr",
          "text": [
            "858MB [00:08, 96.56MB/s, Downloading checkpoint...]                          "
          ]
        },
        {
          "output_type": "stream",
          "name": "stdout",
          "text": [
            "Find zipped checkpoint: ./checkpoints/APC_MULTILINGUAL_CHECKPOINT/fast_lcf_bert_Multilingual_acc_94.72_f1_90.07.zip, unzipping...\n"
          ]
        },
        {
          "output_type": "stream",
          "name": "stderr",
          "text": [
            "\n"
          ]
        },
        {
          "output_type": "stream",
          "name": "stdout",
          "text": [
            "Done.\n",
            "\u001b[33mIf the auto-downloading failed, please download it via browser: https://huggingface.co/spaces/yangheng/PyABSA-ATEPC/resolve/main/checkpoint/Multilingual/APC/fast_lcf_bert_Multilingual_acc_94.72_f1_90.07.zip \u001b[0m\n",
            "Load sentiment classifier from ./checkpoints/APC_MULTILINGUAL_CHECKPOINT\n",
            "config: ./checkpoints/APC_MULTILINGUAL_CHECKPOINT/fast_lcf_bert.config\n",
            "state_dict: ./checkpoints/APC_MULTILINGUAL_CHECKPOINT/fast_lcf_bert.state_dict\n",
            "model: None\n",
            "tokenizer: ./checkpoints/APC_MULTILINGUAL_CHECKPOINT/fast_lcf_bert.tokenizer\n"
          ]
        },
        {
          "output_type": "display_data",
          "data": {
            "text/plain": [
              "Downloading tokenizer_config.json:   0%|          | 0.00/52.0 [00:00<?, ?B/s]"
            ],
            "application/vnd.jupyter.widget-view+json": {
              "version_major": 2,
              "version_minor": 0,
              "model_id": "047421f3fa49430f8ec682064082f715"
            }
          },
          "metadata": {}
        },
        {
          "output_type": "display_data",
          "data": {
            "text/plain": [
              "Downloading config.json:   0%|          | 0.00/579 [00:00<?, ?B/s]"
            ],
            "application/vnd.jupyter.widget-view+json": {
              "version_major": 2,
              "version_minor": 0,
              "model_id": "8085f33d2d16497c87deb8c8d952a288"
            }
          },
          "metadata": {}
        },
        {
          "output_type": "display_data",
          "data": {
            "text/plain": [
              "Downloading spm.model:   0%|          | 0.00/4.11M [00:00<?, ?B/s]"
            ],
            "application/vnd.jupyter.widget-view+json": {
              "version_major": 2,
              "version_minor": 0,
              "model_id": "b363bd1501dc4887b1742d16b8c9ec87"
            }
          },
          "metadata": {}
        },
        {
          "output_type": "stream",
          "name": "stderr",
          "text": [
            "Special tokens have been added in the vocabulary, make sure the associated word embeddings are fine-tuned or trained.\n",
            "/usr/local/lib/python3.7/dist-packages/transformers/convert_slow_tokenizer.py:435: UserWarning: The sentencepiece tokenizer that you are converting to a fast tokenizer uses the byte fallback option which is not implemented in the fast tokenizers. In practice this means that the fast version of the tokenizer can produce unknown tokens whereas the sentencepiece version would have converted these unknown tokens into a sequence of byte tokens matching the original piece of text.\n",
            "  \"The sentencepiece tokenizer that you are converting to a fast tokenizer uses the byte fallback option\"\n",
            "Special tokens have been added in the vocabulary, make sure the associated word embeddings are fine-tuned or trained.\n"
          ]
        },
        {
          "output_type": "display_data",
          "data": {
            "text/plain": [
              "Downloading pytorch_model.bin:   0%|          | 0.00/534M [00:00<?, ?B/s]"
            ],
            "application/vnd.jupyter.widget-view+json": {
              "version_major": 2,
              "version_minor": 0,
              "model_id": "ed694fd0f49f45b0a112b9515ae2df61"
            }
          },
          "metadata": {}
        },
        {
          "output_type": "stream",
          "name": "stderr",
          "text": [
            "Some weights of the model checkpoint at microsoft/mdeberta-v3-base were not used when initializing DebertaV2Model: ['mask_predictions.LayerNorm.bias', 'lm_predictions.lm_head.LayerNorm.bias', 'mask_predictions.dense.weight', 'lm_predictions.lm_head.bias', 'lm_predictions.lm_head.dense.bias', 'mask_predictions.dense.bias', 'mask_predictions.classifier.bias', 'mask_predictions.LayerNorm.weight', 'lm_predictions.lm_head.LayerNorm.weight', 'mask_predictions.classifier.weight', 'lm_predictions.lm_head.dense.weight']\n",
            "- This IS expected if you are initializing DebertaV2Model from the checkpoint of a model trained on another task or with another architecture (e.g. initializing a BertForSequenceClassification model from a BertForPreTraining model).\n",
            "- This IS NOT expected if you are initializing DebertaV2Model from the checkpoint of a model that you expect to be exactly identical (initializing a BertForSequenceClassification model from a BertForSequenceClassification model).\n"
          ]
        },
        {
          "output_type": "stream",
          "name": "stdout",
          "text": [
            "\u001b[31mCaching dataset... please remove cached dataset if any problem happens.\u001b[0m\n"
          ]
        },
        {
          "output_type": "stream",
          "name": "stderr",
          "text": [
            "Special tokens have been added in the vocabulary, make sure the associated word embeddings are fine-tuned or trained.\n",
            "Special tokens have been added in the vocabulary, make sure the associated word embeddings are fine-tuned or trained.\n"
          ]
        },
        {
          "output_type": "stream",
          "name": "stdout",
          "text": [
            "Config used in Training:\n",
            "ABSADatasetsVersion:2021.12.06\t-->\tCalling Count:0\n",
            "PyABSAVersion:1.8.2\t-->\tCalling Count:0\n",
            "SRD:3\t-->\tCalling Count:0\n",
            "auto_device:True\t-->\tCalling Count:4116\n",
            "batch_size:16\t-->\tCalling Count:6\n",
            "cache_dataset:True\t-->\tCalling Count:2\n",
            "cross_validate_fold:-1\t-->\tCalling Count:2\n",
            "dataset_file:{'train': ['integrated_datasets/apc_datasets/SemEval/laptop14/Laptops_Train.xml.seg', 'integrated_datasets/apc_datasets/SemEval/restaurant16/restaurant_train.raw', 'integrated_datasets/apc_datasets/SemEval/restaurant16/restaurant_train.raw.augment', 'integrated_datasets/apc_datasets/ACL_Twitter/acl-14-short-data/train.raw', 'integrated_datasets/apc_datasets/MAMS/train.xml.dat', 'integrated_datasets/apc_datasets/Television/Television_Train.xml.seg', 'integrated_datasets/apc_datasets/TShirt/Menstshirt_Train.xml.seg', 'integrated_datasets/apc_datasets/Yelp/yelp.train.txt', 'integrated_datasets/apc_datasets/Chinese/phone/phone.train.txt', 'integrated_datasets/apc_datasets/Chinese/camera/camera.train.txt', 'integrated_datasets/apc_datasets/Chinese/notebook/notebook.train.txt', 'integrated_datasets/apc_datasets/Chinese/car/car.train.txt'], 'test': ['integrated_datasets/apc_datasets/SemEval/laptop14/Laptops_Test_Gold.xml.seg', 'integrated_datasets/apc_datasets/SemEval/restaurant16/restaurant_test.raw', 'integrated_datasets/apc_datasets/ACL_Twitter/acl-14-short-data/test.raw', 'integrated_datasets/apc_datasets/MAMS/test.xml.dat', 'integrated_datasets/apc_datasets/Television/Television_Test_Gold.xml.seg', 'integrated_datasets/apc_datasets/TShirt/Menstshirt_Test_Gold.xml.seg', 'integrated_datasets/apc_datasets/Yelp/yelp.test.txt', 'integrated_datasets/apc_datasets/Chinese/phone/phone.test.txt', 'integrated_datasets/apc_datasets/Chinese/camera/camera.test.txt', 'integrated_datasets/apc_datasets/Chinese/notebook/notebook.test.txt', 'integrated_datasets/apc_datasets/Chinese/car/car.test.txt'], 'valid': ['integrated_datasets/apc_datasets/SemEval/laptop14/Laptops_Valid_Gold.xml.seg', 'integrated_datasets/apc_datasets/SemEval/restaurant16/restaurant_valid.raw', 'integrated_datasets/apc_datasets/MAMS/valid.xml.dat']}\t-->\tCalling Count:4115\n",
            "dataset_item:['Laptop14', 'Restaurant16', 'ACL_Twitter', 'MAMS', 'Television', 'TShirt', 'Yelp', 'Phone', 'Camera', 'Notebook', 'Car']\t-->\tCalling Count:0\n",
            "dataset_name:Multilingual\t-->\tCalling Count:4\n",
            "dca_layer:3\t-->\tCalling Count:0\n",
            "dca_p:1\t-->\tCalling Count:0\n",
            "deep_ensemble:False\t-->\tCalling Count:0\n",
            "device:cuda:0\t-->\tCalling Count:17955\n",
            "device_name:NVIDIA GeForce RTX 3090\t-->\tCalling Count:0\n",
            "dlcf_a:2\t-->\tCalling Count:0\n",
            "dropout:0.5\t-->\tCalling Count:2\n",
            "dynamic_truncate:True\t-->\tCalling Count:0\n",
            "embed_dim:768\t-->\tCalling Count:6\n",
            "ensemble_mode:cat\t-->\tCalling Count:0\n",
            "eta:-1\t-->\tCalling Count:0\n",
            "evaluate_begin:5\t-->\tCalling Count:1644\n",
            "hidden_dim:768\t-->\tCalling Count:0\n",
            "index_to_label:{0: 'Negative', 1: 'Neutral', 2: 'Positive'}\t-->\tCalling Count:0\n",
            "initializer:xavier_uniform_\t-->\tCalling Count:1\n",
            "inputs_cols:['lcf_vec', 'text_bert_indices', 'text_raw_bert_indices']\t-->\tCalling Count:4492\n",
            "l2reg:1e-06\t-->\tCalling Count:1\n",
            "label_to_index:{'Negative': 0, 'Neutral': 1, 'Positive': 2}\t-->\tCalling Count:0\n",
            "lcf:cdw\t-->\tCalling Count:0\n",
            "learning_rate:2e-05\t-->\tCalling Count:1\n",
            "log_step:5\t-->\tCalling Count:4117\n",
            "max_seq_len:80\t-->\tCalling Count:8974\n",
            "max_test_metrics:{'max_apc_test_acc': 0.9471913891691893, 'max_apc_test_f1': 0.9006938075375056, 'max_ate_test_f1': 0}\t-->\tCalling Count:8\n",
            "metrics_of_this_checkpoint:{'acc': 0.9471913891691893, 'f1': 0.9006938075375056}\t-->\tCalling Count:4\n",
            "model:<class 'pyabsa.core.apc.models.fast_lcf_bert.FAST_LCF_BERT'>\t-->\tCalling Count:7\n",
            "model_name:fast_lcf_bert\t-->\tCalling Count:11\n",
            "model_path_to_save:checkpoints\t-->\tCalling Count:6\n",
            "num_epoch:10\t-->\tCalling Count:2\n",
            "optimizer:adam\t-->\tCalling Count:1\n",
            "patience:16407335.924999999\t-->\tCalling Count:4\n",
            "output_dim:3\t-->\tCalling Count:6\n",
            "pretrained_bert:microsoft/mdeberta-v3-base\t-->\tCalling Count:8\n",
            "save_mode:1\t-->\tCalling Count:3\n",
            "seed:52\t-->\tCalling Count:7\n",
            "sigma:0.3\t-->\tCalling Count:0\n",
            "similarity_threshold:1\t-->\tCalling Count:0\n",
            "srd_alignment:True\t-->\tCalling Count:0\n",
            "use_bert_spc:True\t-->\tCalling Count:4487\n",
            "use_syntax_based_SRD:False\t-->\tCalling Count:0\n",
            "window:lr\t-->\tCalling Count:0\n"
          ]
        }
      ]
    },
    {
      "cell_type": "markdown",
      "source": [
        "# Aspect Sentiment Inference"
      ],
      "metadata": {
        "id": "8i24adlqTqC4"
      }
    },
    {
      "cell_type": "code",
      "source": [
        "examples = [\n",
        "    'The [ASP]battery-life[ASP], and this [ASP]battery[ASP] is ok',\n",
        "    'The [ASP] battery-life [ASP] is bad',\n",
        "    'The [ASP] battery-life [ASP] is good',\n",
        "    'The [ASP] battery-life [ASP] ',\n",
        "    'Strong build though which really adds to its [ASP]durability[ASP] .',  # !sent! Positive\n",
        "    'Strong [ASP]build[ASP] though which really adds to its durability . !sent! Positive',\n",
        "    'The [ASP]battery life[ASP] is excellent - 6-7 hours without charging . !sent! Positive',\n",
        "    'I have had my computer for 2 weeks already and it [ASP]works[ASP] perfectly . !sent! Positive',\n",
        "    'And I may be the only one but I am really liking [ASP]Windows 8[ASP] . !sent! Positive',\n",
        "]\n",
        "\n",
        "for ex in examples:\n",
        "    result = sent_classifier.infer(ex, print_result=True)\n"
      ],
      "metadata": {
        "colab": {
          "base_uri": "https://localhost:8080/"
        },
        "id": "zcCbXGKPTvBS",
        "outputId": "b2faae1d-f845-446d-a356-29bce062ef7f"
      },
      "execution_count": null,
      "outputs": [
        {
          "output_type": "stream",
          "name": "stderr",
          "text": [
            "/usr/local/lib/python3.7/dist-packages/transformers/models/deberta_v2/modeling_deberta_v2.py:542: DeprecationWarning: `np.int` is a deprecated alias for the builtin `int`. To silence this warning, use `int` by itself. Doing this will not modify any behavior and is safe. When replacing `np.int`, you may wish to use e.g. `np.int64` or `np.int32` to specify the precision. If you wish to review your current use, check the release note link for additional information.\n",
            "Deprecated in NumPy 1.20; for more details and guidance: https://numpy.org/devdocs/release/1.20.0-notes.html#deprecations\n",
            "  bucket_pos = np.where(abs_pos <= mid, relative_pos, log_pos * sign).astype(np.int)\n"
          ]
        },
        {
          "output_type": "stream",
          "name": "stdout",
          "text": [
            "Example 0: The <<battery:Positive(confidence:0.982)>-life:Positive(confidence:0.981)> , and this <battery:Positive(confidence:0.982)> is ok\n",
            "Example 0: The < battery-life :Negative(confidence:0.921)> is bad\n",
            "Example 0: The < battery-life :Positive(confidence:0.998)> is good\n",
            "Example 0: The < battery-life :Positive(confidence:0.868)> \n",
            "Example 0: Strong build though which really adds to its <durability:Positive(confidence:0.997)> .\n",
            "Example 0:  Strong \u001b[32m<build:Positive(confidence:0.997, ref:Positive)>\u001b[0m though which really adds to its durability . \n",
            "Example 0:  The \u001b[32m<battery life:Positive(confidence:0.998, ref:Positive)>\u001b[0m is excellent - 6-7 hours without charging . \n",
            "Example 0:  I have had my computer for 2 weeks already and it \u001b[32m<works:Positive(confidence:0.998, ref:Positive)>\u001b[0m perfectly . \n",
            "Example 0:  And I may be the only one but I am really liking \u001b[32m<Windows 8:Positive(confidence:0.998, ref:Positive)>\u001b[0m . \n"
          ]
        }
      ]
    },
    {
      "cell_type": "markdown",
      "source": [
        "# Batch Sentiment Inference"
      ],
      "metadata": {
        "id": "k5V9_phbT-Fl"
      }
    },
    {
      "cell_type": "code",
      "source": [
        "inference_sets = ABSADatasetList.Phone\n",
        "results = sent_classifier.batch_infer(target_file=inference_sets,\n",
        "                     print_result=True,\n",
        "                     save_result=True,\n",
        "                     ignore_error=False,\n",
        "                     )"
      ],
      "metadata": {
        "colab": {
          "base_uri": "https://localhost:8080/"
        },
        "id": "al_th6FWUEkY",
        "outputId": "486bff23-d5f7-465a-c0b9-c5e11e156e2b"
      },
      "execution_count": null,
      "outputs": [
        {
          "output_type": "stream",
          "name": "stdout",
          "text": [
            "Loading 107.Phone dataset from:  https://github.com/yangheng95/ABSADatasets\n",
            "Clone ABSADatasets from https://github.com/yangheng95/ABSADatasets.git\n",
            "loading: integrated_datasets/apc_datasets/102.Chinese/107.phone/phone.test.txt.inference\n",
            "高 [ASP]分 辨 率[ASP] 决 定 了 其 拥 有 比 以 往 采 用 [ASP]分 辨 率[ASP] 的 娱 乐 机 型 更 精 细 逼 真 的 画 面 效 果 !sent! Positive  -> Unequal length of reference sentiment and aspects, ignore the reference sentiment.\n",
            "和 弦 [ASP]铃 声[ASP] 且 [ASP]铃 声[ASP] 雄 厚 有 力 !sent! Positive  -> Unequal length of reference sentiment and aspects, ignore the reference sentiment.\n",
            "具 体 表 现 在 接 电 话 一 方 听 到 说 话 方 周 围 [ASP]噪 音[ASP] 过 大 且 [ASP]噪 音[ASP] 和 通 话 声 音 在 一 个 层 面 上 !sent! Negative  -> Unequal length of reference sentiment and aspects, ignore the reference sentiment.\n",
            "随 机 配 的 [ASP]播 放 器[ASP] 感 觉 比 里 的 [ASP]播 放 器[ASP] 好 一 些 !sent! Positive  -> Unequal length of reference sentiment and aspects, ignore the reference sentiment.\n"
          ]
        },
        {
          "output_type": "stream",
          "name": "stderr",
          "text": [
            "100%|██████████| 657/657 [00:01<00:00, 568.92it/s, preparing apc inference dataloader...]\n",
            "  0%|          | 0/6 [00:00<?, ?it/s, run inference...]/usr/local/lib/python3.7/dist-packages/transformers/models/deberta_v2/modeling_deberta_v2.py:542: DeprecationWarning: `np.int` is a deprecated alias for the builtin `int`. To silence this warning, use `int` by itself. Doing this will not modify any behavior and is safe. When replacing `np.int`, you may wish to use e.g. `np.int64` or `np.int32` to specify the precision. If you wish to review your current use, check the release note link for additional information.\n",
            "Deprecated in NumPy 1.20; for more details and guidance: https://numpy.org/devdocs/release/1.20.0-notes.html#deprecations\n",
            "  bucket_pos = np.where(abs_pos <= mid, relative_pos, log_pos * sign).astype(np.int)\n",
            "100%|██████████| 6/6 [03:43<00:00, 37.23s/it, run inference...]"
          ]
        },
        {
          "output_type": "stream",
          "name": "stdout",
          "text": [
            "Example 0:  精 妙 独 特 的 \u001b[32m<外 形 设 计:Positive(confidence:0.999, ref:Positive)>\u001b[0m  \n",
            "Example 1:  可 旋 转 的 \u001b[32m<双 面 设 计:Positive(confidence:0.999, ref:Positive)>\u001b[0m 很 有 味 道 \n",
            "Example 2:  完 美 的 \u001b[32m<音 乐 表 现:Positive(confidence:0.998, ref:Positive)>\u001b[0m  \n",
            "Example 3:  达 到 最 佳 \u001b[32m<音 乐 播 放 效 果:Positive(confidence:0.999, ref:Positive)>\u001b[0m  \n",
            "Example 4:  丰 富 的 \u001b[32m<按 键 设 计:Positive(confidence:0.998, ref:Positive)>\u001b[0m  \n",
            "Example 5:  强 大 的 \u001b[32m<功 能 扩 展 性:Positive(confidence:0.999, ref:Positive)>\u001b[0m  \n",
            "Example 6:  差 强 人 意 的 \u001b[32m<屏 幕 显 示 效 果:Negative(confidence:0.98, ref:Negative)>\u001b[0m  \n",
            "Example 7:  导 致 屏 幕 \u001b[32m<视 觉 效 果:Negative(confidence:0.995, ref:Negative)>\u001b[0m 不 佳 \n",
            "Example 8:  较 长 的 \u001b[31m<充 电 完 成 时 间:Positive(confidence:0.966, ref:Negative)>\u001b[0m  \n",
            "Example 9:  光 线 好 时 \u001b[32m<照 相 效 果:Positive(confidence:0.998, ref:Positive)>\u001b[0m 还 可 以 \n",
            "Example 10:  诺 的 \u001b[32m<按 键 间 缝 隙:Negative(confidence:0.556, ref:Negative)>\u001b[0m 大 \n",
            "Example 11:  被 她 迷 人 漂 亮 \u001b[32m<外 观:Positive(confidence:0.999, ref:Positive)>\u001b[0m 和 蓝 牙 功 能 所 吸 引 \n",
            "Example 12:  \u001b[32m<外 形:Positive(confidence:0.998, ref:Positive)>\u001b[0m 佳 \n",
            "Example 13:  \u001b[32m<手 感:Positive(confidence:0.998, ref:Positive)>\u001b[0m 好 \n",
            "Example 14:  一 个 最 突 出 我 不 太 能 接 受 的 就 是 \u001b[32m<屏 幕 反 应:Negative(confidence:0.996, ref:Negative)>\u001b[0m 比 较 慢 \n",
            "Example 15:  \u001b[32m<通 讯 录:Negative(confidence:0.993, ref:Negative)>\u001b[0m 查 找 没 有 我 以 前 的 诺 基 亚 的 好 用 \n",
            "Example 16:  并 且 \u001b[31m<外 壳:Positive(confidence:0.571, ref:Negative)>\u001b[0m 好 像 很 容 易 磨 损 \n",
            "Example 17:  整 个 \u001b[32m<造 型:Positive(confidence:0.999, ref:Positive)>\u001b[0m 简 洁 而 又 不 失 华 美 \n",
            "Example 18:  \u001b[32m<效 果:Positive(confidence:0.998, ref:Positive)>\u001b[0m 非 常 好 \n",
            "Example 19:  但 在 \u001b[32m<低 音 方 面:Negative(confidence:0.996, ref:Negative)>\u001b[0m 表 现 得 差 强 人 意 \n",
            "Example 20:  的 \u001b[32m<照 相 功 能:Positive(confidence:0.999, ref:Positive)>\u001b[0m 比 较 全 面 \n",
            "Example 21:  还 可 以 使 用 \u001b[32m<导 航 键:Positive(confidence:0.999, ref:Positive)>\u001b[0m 很 方 便 的 调 节 取 景 亮 度 \n",
            "Example 22:  \u001b[32m<待 机 时 间:Positive(confidence:0.996, ref:Positive)>\u001b[0m 长 \n",
            "Example 23:  \u001b[32m<软 件 设 计:Positive(confidence:0.997, ref:Positive)>\u001b[0m 较 为 人 性 化 \n",
            "Example 24:  \u001b[32m<软 件 反 映 速 度:Positive(confidence:0.998, ref:Positive)>\u001b[0m 较 快 \n",
            "Example 25:  同 时 在 数 据 传 输 上 使 用 了 简 易 方 便 的 \u001b[32m<红 外 接 口:Positive(confidence:0.999, ref:Positive)>\u001b[0m  \n",
            "Example 26:  \u001b[32m<屏 幕 分 辨 率:Negative(confidence:0.996, ref:Negative)>\u001b[0m 较 低 \n",
            "Example 27:  所 以 在 \u001b[32m<显 示 效 果:Negative(confidence:0.996, ref:Negative)>\u001b[0m 上 略 显 惨 淡 \n",
            "Example 28:  随 机 所 送 \u001b[32m<配 件:Negative(confidence:0.996, ref:Negative)>\u001b[0m 太 少 \n",
            "Example 29:  \u001b[32m<电 话 本:Negative(confidence:0.986, ref:Negative)>\u001b[0m 查 询 麻 烦 \n",
            "Example 30:  但 在 实 际 使 用 中 \u001b[32m<按 键 的 使 用:Negative(confidence:0.997, ref:Negative)>\u001b[0m 有 些 生 硬 \n",
            "Example 31:  \u001b[32m<屏 幕:Positive(confidence:0.998, ref:Positive)>\u001b[0m 是 多 普 达 的 一 大 亮 点 \n",
            "Example 32:  它 在 \u001b[31m<屏 幕 尺 寸:Positive(confidence:0.991, ref:Negative)>\u001b[0m 上 并 不 占 什 么 优 势 \n",
            "Example 33:  但 \u001b[32m<显 示 效 果:Positive(confidence:0.999, ref:Positive)>\u001b[0m 却 绝 对 不 逊 色 于 它 们 \n",
            "Example 34:  整 个 屏 幕 的 \u001b[32m<背 光:Positive(confidence:0.999, ref:Positive)>\u001b[0m 非 常 均 匀 \n",
            "Example 35:  而 且 由 于 \u001b[32m<屏 幕 的 尺 寸:Negative(confidence:0.975, ref:Negative)>\u001b[0m 小 \n",
            "Example 36:  不 过 由 于 屏 幕 的 \u001b[32m<分 辨 率:Positive(confidence:0.998, ref:Positive)>\u001b[0m 很 高 \n",
            "Example 37:  屏 幕 能 够 \u001b[32m<显 示 的 行 数:Positive(confidence:0.998, ref:Positive)>\u001b[0m 也 很 多 \n",
            "Example 38:  \u001b[32m<信 息 量:Positive(confidence:0.998, ref:Positive)>\u001b[0m 很 大 \n",
            "Example 39:  \u001b[32m<外 观:Positive(confidence:0.998, ref:Positive)>\u001b[0m 很 亮 丽 \n",
            "Example 40:  \u001b[32m<机 身:Positive(confidence:0.855, ref:Positive)>\u001b[0m 虽 说 不 是 最 薄 的 \n",
            "Example 41:  \u001b[32m<按 键 的 设 计:Positive(confidence:0.998, ref:Positive)>\u001b[0m 很 合 理 \n",
            "Example 42:  但 每 个 \u001b[32m<键 的 尺 寸:Positive(confidence:0.66, ref:Positive)>\u001b[0m 都 很 大 \n",
            "Example 43:  它 的 \u001b[32m<键 盘 背 景 灯:Positive(confidence:0.999, ref:Positive)>\u001b[0m 也 很 有 特 色 \n",
            "Example 44:  \u001b[32m<音 频 播 放:Positive(confidence:0.998, ref:Positive)>\u001b[0m 我 认 为 应 该 可 以 算 是 它 的 最 大 优 点 了 \n",
            "Example 45:  \u001b[32m<音 响 效 果:Positive(confidence:0.998, ref:Positive)>\u001b[0m 也 很 好 \n",
            "Example 46:  \u001b[32m<立 体 感:Positive(confidence:0.998, ref:Positive)>\u001b[0m 特 别 强 \n",
            "Example 47:  \u001b[32m<界 面:Positive(confidence:0.998, ref:Positive)>\u001b[0m 简 单 \n",
            "Example 48:  \u001b[32m<效 果:Positive(confidence:0.998, ref:Positive)>\u001b[0m 都 很 好 \n",
            "Example 49:  \u001b[32m<待 机 时 间:Positive(confidence:0.996, ref:Positive)>\u001b[0m 长 \n",
            "Example 50:  \u001b[32m<摄 像 头 的 效 果:Negative(confidence:0.992, ref:Negative)>\u001b[0m 不 好 \n",
            "Example 51:  不 仅 \u001b[31m<噪 点:Positive(confidence:0.805, ref:Negative)>\u001b[0m 把 握 的 不 好 \n",
            "Example 52:  \u001b[32m<反 应 延 迟 现 象:Negative(confidence:0.99, ref:Negative)>\u001b[0m 就 显 得 比 较 突 出 了 \n",
            "Example 53:  \u001b[32m<开 机 速 度:Negative(confidence:0.993, ref:Negative)>\u001b[0m 慢 \n",
            "Example 54:  但 \u001b[32m<耐 磨 性:Negative(confidence:0.985, ref:Negative)>\u001b[0m 就 差 多 了 \n",
            "Example 55:  \u001b[32m<声 音:Negative(confidence:0.994, ref:Negative)>\u001b[0m 太 小 \n",
            "Example 56:  \u001b[32m<震 动:Negative(confidence:0.994, ref:Negative)>\u001b[0m 也 太 软 \n",
            "Example 57:  估 计 可 能 是 手 机 顶 端 的 \u001b[32m<发 声 孔:Negative(confidence:0.995, ref:Negative)>\u001b[0m 太 小 所 致 \n",
            "Example 58:  铃 声 的 \u001b[32m<音 量:Negative(confidence:0.995, ref:Negative)>\u001b[0m 很 小 \n",
            "Example 59:  另 外 \u001b[32m<听 筒 的 音 量:Negative(confidence:0.992, ref:Negative)>\u001b[0m 也 不 大 \n",
            "Example 60:  诺 基 亚 是 一 款 综 合 素 质 比 较 出 众 的 \u001b[32m<音 乐 机 型:Positive(confidence:0.999, ref:Positive)>\u001b[0m  \n",
            "Example 61:  尤 其 是 强 大 的 \u001b[32m<多 媒 体 娱 乐 功 能:Positive(confidence:0.998, ref:Positive)>\u001b[0m 给 我 留 下 了 深 刻 的 印 象 \n",
            "Example 62:  由 于 巧 妙 的 \u001b[32m<外 形 造 型:Positive(confidence:0.999, ref:Positive)>\u001b[0m 使 得 给 人 的 整 体 印 象 依 然 十 分 小 巧 \n",
            "Example 63:  \u001b[32m<屏 幕 效 果 方 面:Positive(confidence:0.999, ref:Positive)>\u001b[0m 都 比 较 令 人 满 意 \n",
            "Example 64:  给 用 户 带 来 了 很 好 的 \u001b[32m<操 作 方 式:Positive(confidence:0.999, ref:Positive)>\u001b[0m  \n",
            "Example 65:  仅 运 行 \u001b[32m<内 存 性 能:Negative(confidence:0.992, ref:Negative)>\u001b[0m 表 现 不 会 太 强 虽 然 采 用 了 全 新 的 架 构 \n",
            "Example 66:  不 过 的 \u001b[32m<速 度 表 现:Negative(confidence:0.996, ref:Negative)>\u001b[0m 也 不 好 \n",
            "Example 67:  \u001b[32m<屏 幕 表 现 力:Negative(confidence:0.996, ref:Negative)>\u001b[0m 依 旧 不 足 采 用 的 依 旧 是 传 统 的 的 屏 幕 分 辨 率 \n",
            "Example 68:  手 持 使 用 的 \u001b[32m<手 感:Positive(confidence:0.998, ref:Positive)>\u001b[0m 较 好 \n",
            "Example 69:  用 手 写 时 \u001b[32m<速 度:Positive(confidence:0.998, ref:Positive)>\u001b[0m 时 比 较 快 \n",
            "Example 70:  而 且 \u001b[32m<中 文 识 别 率:Positive(confidence:0.998, ref:Positive)>\u001b[0m 很 高 \n",
            "Example 71:  \u001b[32m<质 量:Positive(confidence:0.998, ref:Positive)>\u001b[0m 很 好 \n",
            "Example 72:  使 用 期 间 机 器 \u001b[32m<反 映 速 度:Positive(confidence:0.998, ref:Positive)>\u001b[0m 较 快 \n",
            "Example 73:  而 且 手 机 的 \u001b[32m<功 能:Positive(confidence:0.999, ref:Positive)>\u001b[0m 菜 单 等 各 方 面 的 设 计 比 较 人 性 化 \n",
            "Example 74:  \u001b[32m<手 写 识 别 率:Positive(confidence:0.998, ref:Positive)>\u001b[0m 高 \n",
            "Example 75:  \u001b[32m<备 忘 录 功 能:Positive(confidence:0.999, ref:Positive)>\u001b[0m 还 不 错 \n",
            "Example 76:  \u001b[32m<音 色:Positive(confidence:0.998, ref:Positive)>\u001b[0m 还 算 不 错 \n",
            "Example 77:  \u001b[32m<正 面 设 计 图 案:Negative(confidence:0.996, ref:Negative)>\u001b[0m 不 是 很 协 调 \n",
            "Example 78:  \u001b[32m<体 积:Negative(confidence:0.993, ref:Negative)>\u001b[0m 有 点 大 重 \n",
            "Example 79:  \u001b[32m<按 键:Negative(confidence:0.994, ref:Negative)>\u001b[0m 有 些 硬 \n",
            "Example 80:  但 上 市 的 \u001b[32m<价 格:Negative(confidence:0.99, ref:Negative)>\u001b[0m 却 高 高 在 上 \n",
            "Example 81:  秉 承 了 时 尚 高 贵 的 \u001b[32m<外 形 设 计:Positive(confidence:0.993, ref:Positive)>\u001b[0m  \n",
            "Example 82:  简 单 明 了 的 \u001b[32m<设 计 风 格:Positive(confidence:0.999, ref:Positive)>\u001b[0m 一 直 是 诺 基 亚 直 板 机 的 主 流 \n",
            "Example 83:  \u001b[32m<尺 寸:Positive(confidence:0.939, ref:Positive)>\u001b[0m 还 是 比 较 娇 小 玲 珑 \n",
            "Example 84:  方 便 于 携 带 的 同 时 还 带 来 良 好 的 \u001b[32m<手 感:Positive(confidence:0.999, ref:Positive)>\u001b[0m  \n",
            "Example 85:  \u001b[31m<屏 幕 细 腻 程 度:Negative(confidence:0.986, ref:Positive)>\u001b[0m 不 是 一 般 的 机 型 可 以 比 拟 的 \n",
            "Example 86:  的 \u001b[32m<铃 声 表 现:Positive(confidence:0.999, ref:Positive)>\u001b[0m 也 相 当 不 错 \n",
            "Example 87:  \u001b[32m<穿 透 力:Positive(confidence:0.999, ref:Positive)>\u001b[0m 和 音 量 都 令 人 满 意 \n",
            "Example 88:  \u001b[32m<效 果:Positive(confidence:0.998, ref:Positive)>\u001b[0m 令 人 满 意 \n",
            "Example 89:  \u001b[32m<成 像 效 果 方 面:Positive(confidence:0.999, ref:Positive)>\u001b[0m 表 现 相 当 不 错 \n",
            "Example 90:  此 \u001b[32m<功 能:Negative(confidence:0.654, ref:Negative)>\u001b[0m 形 同 虚 设 \n",
            "Example 91:  的 \u001b[32m<拍 摄 的 功 能:Positive(confidence:0.999, ref:Positive)>\u001b[0m 比 起 有 了 长 足 的 进 步 \n",
            "Example 92:  \u001b[32m<机 身:Positive(confidence:0.998, ref:Positive)>\u001b[0m 小 巧 精 致 \n",
            "Example 93:  \u001b[32m<按 键 设 计:Positive(confidence:0.998, ref:Positive)>\u001b[0m 非 常 经 典 \n",
            "Example 94:  \u001b[32m<整 体 感:Positive(confidence:0.998, ref:Positive)>\u001b[0m 很 强 \n",
            "Example 95:  \u001b[32m<触 感:Positive(confidence:0.998, ref:Positive)>\u001b[0m 很 好 \n",
            "Example 96:  弧 线 圆 滑 \u001b[32m<外 型:Positive(confidence:0.998, ref:Positive)>\u001b[0m 简 约 又 不 失 张 扬 \n",
            "Example 97:  还 有 就 是 \u001b[32m<摄 象 头 的 位 置:Negative(confidence:0.997, ref:Negative)>\u001b[0m 不 太 合 理 \n",
            "Example 98:  \u001b[32m<直 板:Positive(confidence:0.999, ref:Positive)>\u001b[0m 的 简 单 易 用 和 扭 腰 个 性 展 示 的 完 美 \n",
            "Example 99:  \u001b[32m<转 轴 部 分 的 设 计:Positive(confidence:0.999, ref:Positive)>\u001b[0m 也 非 常 考 究 \n",
            "Example 100:  各 部 分 \u001b[32m<设 计:Positive(confidence:0.998, ref:Positive)>\u001b[0m 合 理 \n",
            "Example 101:  \u001b[32m<结 构:Positive(confidence:0.998, ref:Positive)>\u001b[0m 紧 凑 严 密 \n",
            "Example 102:  达 到 了 \u001b[32m<外 型 设 计:Positive(confidence:0.999, ref:Positive)>\u001b[0m 和 功 能 的 完 美 结 合 \n",
            "Example 103:  但 \u001b[32m<外 放 效 果 声 音:Positive(confidence:0.998, ref:Positive)>\u001b[0m 洪 亮 \n",
            "Example 104:  \u001b[32m<耳 机 效 果:Positive(confidence:0.998, ref:Positive)>\u001b[0m 更 是 不 错 \n",
            "Example 105:  \u001b[32m<摄 象:Positive(confidence:0.998, ref:Positive)>\u001b[0m 还 算 可 以 \n",
            "Example 106:  \u001b[32m<按 键:Negative(confidence:0.994, ref:Negative)>\u001b[0m 和 部 件 缝 隙 偏 大 \n",
            "Example 107:  \u001b[32m<做 工:Positive(confidence:0.995, ref:Positive)>\u001b[0m 考 究 \n",
            "Example 108:  以 及 简 洁 明 快 的 \u001b[32m<按 键 设 计:Positive(confidence:0.999, ref:Positive)>\u001b[0m  \n",
            "Example 109:  \u001b[32m<屏 幕:Positive(confidence:0.998, ref:Positive)>\u001b[0m 靓 丽 \n",
            "Example 110: 高 <<分 辨 率:Positive(confidence:0.999)>:Positive(confidence:0.999)> 决 定 了 其 拥 有 比 以 往 采 用 <<分 辨 率:Positive(confidence:0.999)>:Positive(confidence:0.999)> 的 娱 乐 机 型 更 精 细 逼 真 的 画 面 效 果 \n",
            "Example 111:  加 上 内 置 华 丽 的 \u001b[32m<菜 单:Positive(confidence:0.999, ref:Positive)>\u001b[0m 及 风 格 主 题 \n",
            "Example 112:  \u001b[32m<音 色:Positive(confidence:0.998, ref:Positive)>\u001b[0m 出 众 \n",
            "Example 113:  打 造 极 强 \u001b[32m<立 体 声 效:Positive(confidence:0.999, ref:Positive)>\u001b[0m 的 同 时 \n",
            "Example 114:  因 为 \u001b[32m<画 面:Positive(confidence:0.998, ref:Positive)>\u001b[0m 立 体 感 已 十 足 \n",
            "Example 115:  原 装 \u001b[32m<电 池 续 航 能 力:Negative(confidence:0.958, ref:Negative)>\u001b[0m 不 敢 恭 维 \n",
            "Example 116:  系 统 \u001b[32m<扩 展 性 能:Negative(confidence:0.995, ref:Negative)>\u001b[0m 差 \n",
            "Example 117:  \u001b[32m<电 池 待 机 时 间:Negative(confidence:0.994, ref:Negative)>\u001b[0m 不 长 \n",
            "Example 118:  \u001b[32m<通 话 声 音:Negative(confidence:0.996, ref:Negative)>\u001b[0m 不 够 大 \n",
            "Example 119:  的 \u001b[32m<数 据 线:Negative(confidence:0.996, ref:Negative)>\u001b[0m 真 是 太 落 伍 了 \n",
            "Example 120:  \u001b[32m<摄 像 效 果:Negative(confidence:0.994, ref:Negative)>\u001b[0m 只 能 说 一 般 \n",
            "Example 121:  \u001b[32m<整 体 做 工:Positive(confidence:0.998, ref:Positive)>\u001b[0m 颇 为 精 细 \n",
            "Example 122:  黑 色 的 \u001b[32m<外 观:Positive(confidence:0.999, ref:Positive)>\u001b[0m 给 人 大 气 的 感 觉 \n",
            "Example 123:  金 色 的 标 记 与 黑 色 的 \u001b[32m<整 体 搭 配:Positive(confidence:0.998, ref:Positive)>\u001b[0m 非 常 时 尚 \n",
            "Example 124:  随 机 赠 送 的 蓝 牙 耳 机 \u001b[32m<通 话 质 量:Positive(confidence:0.999, ref:Positive)>\u001b[0m 和 收 听 效 果 都 不 错 \n",
            "Example 125:  \u001b[32m<广 播 音 质:Positive(confidence:0.998, ref:Positive)>\u001b[0m 都 特 别 好 \n",
            "Example 126:  \u001b[32m<效 果:Positive(confidence:0.998, ref:Positive)>\u001b[0m 非 常 不 错 \n",
            "Example 127:  但 是 这 款 手 机 的 \u001b[32m<耳 机 输 出 功 率:Negative(confidence:0.997, ref:Negative)>\u001b[0m 比 较 小 \n",
            "Example 128:  \u001b[32m<拍 摄 效 果:Positive(confidence:0.998, ref:Positive)>\u001b[0m 不 错 \n",
            "Example 129:  正 面 的 金 色 和 银 色 的 快 捷 操 作 键 \u001b[32m<做 工:Negative(confidence:0.987, ref:Negative)>\u001b[0m 稍 微 粗 糙 了 些 \n",
            "Example 130:  感 觉 \u001b[32m<按 键 表 面:Negative(confidence:0.993, ref:Negative)>\u001b[0m 并 不 是 很 平 \n",
            "Example 131:  \u001b[31m<外 置 扬 声 器:Negative(confidence:0.965, ref:Positive)>\u001b[0m 差 的 没 话 说 了 \n",
            "Example 132:  \u001b[32m<声 音:Negative(confidence:0.987, ref:Negative)>\u001b[0m 嘈 杂 \n",
            "Example 133:  \u001b[32m<爆 音:Negative(confidence:0.992, ref:Negative)>\u001b[0m 严 重 \n",
            "Example 134:  \u001b[32m<信 号:Positive(confidence:0.998, ref:Positive)>\u001b[0m 不 错 \n",
            "Example 135:  而 且 通 话 的 \u001b[32m<声 音:Positive(confidence:0.993, ref:Positive)>\u001b[0m 很 大 \n",
            "Example 136:  \u001b[32m<屏 幕:Positive(confidence:0.998, ref:Positive)>\u001b[0m 不 赖 \n",
            "Example 137:  \u001b[32m<亮 度:Positive(confidence:0.998, ref:Positive)>\u001b[0m 高 \n",
            "Example 138:  \u001b[32m<色 彩:Positive(confidence:0.998, ref:Positive)>\u001b[0m 也 很 好 \n",
            "Example 139:  只 不 过 美 中 不 足 的 就 是 \u001b[32m<画 面:Negative(confidence:0.996, ref:Negative)>\u001b[0m 有 点 糙 \n",
            "Example 140:  \u001b[32m<录 音 的 效 果:Positive(confidence:0.998, ref:Positive)>\u001b[0m 我 很 满 意 \n",
            "Example 141:  只 不 过 就 是 \u001b[32m<录 音 的 时 间:Negative(confidence:0.997, ref:Negative)>\u001b[0m 有 点 短 \n",
            "Example 142:  \u001b[32m<音 量:Positive(confidence:0.998, ref:Positive)>\u001b[0m 很 大 \n",
            "Example 143:  \u001b[32m<穿 透 力:Positive(confidence:0.998, ref:Positive)>\u001b[0m 也 不 错 \n",
            "Example 144:  而 且 和 弦 的 \u001b[32m<音 色:Positive(confidence:0.999, ref:Positive)>\u001b[0m 清 脆 饱 满 \n",
            "Example 145:  \u001b[32m<键 盘:Negative(confidence:0.993, ref:Negative)>\u001b[0m 太 小 \n",
            "Example 146:  \u001b[32m<电 池 待 机 时 间:Negative(confidence:0.994, ref:Negative)>\u001b[0m 短 \n",
            "Example 147:  \u001b[32m<收 音 机 的 效 果:Positive(confidence:0.998, ref:Positive)>\u001b[0m 不 错 \n",
            "Example 148:  \u001b[32m<杂 音:Positive(confidence:0.991, ref:Positive)>\u001b[0m 很 少 \n",
            "Example 149:  \u001b[32m<音 量:Positive(confidence:0.998, ref:Positive)>\u001b[0m 也 很 大 \n",
            "Example 150:  简 约 而 不 失 时 尚 的 \u001b[32m<外 型:Positive(confidence:0.999, ref:Positive)>\u001b[0m 靓 丽 的 屏 幕 和 舒 适 的 手 感 \n",
            "Example 151:  大 \u001b[32m<屏 幕:Positive(confidence:0.998, ref:Positive)>\u001b[0m 用 起 来 就 是 一 个 字 爽 \n",
            "Example 152:  小 还 配 备 了 独 立 的 \u001b[32m<扬 声 器:Positive(confidence:0.998, ref:Positive)>\u001b[0m  \n",
            "Example 153:  \u001b[32m<通 话 记 录:Positive(confidence:0.998, ref:Positive)>\u001b[0m 更 为 详 细 \n",
            "Example 154:  \u001b[32m<后 盖:Negative(confidence:0.989, ref:Negative)>\u001b[0m 不 严 \n",
            "Example 155:  \u001b[32m<整 机 设 计 线 条:Positive(confidence:0.999, ref:Positive)>\u001b[0m 简 洁 不 失 流 畅 \n",
            "Example 156:  \u001b[32m<手 感:Positive(confidence:0.998, ref:Positive)>\u001b[0m 不 俗 \n",
            "Example 157:  且 \u001b[32m<整 体 外 观:Positive(confidence:0.999, ref:Positive)>\u001b[0m 透 着 一 种 无 与 伦 比 的 尊 贵 \n",
            "Example 158:  \u001b[32m<屏 幕:Positive(confidence:0.998, ref:Positive)>\u001b[0m 超 靓 \n",
            "Example 159:  \u001b[32m<色 彩 显 示:Positive(confidence:0.998, ref:Positive)>\u001b[0m 不 错 \n",
            "Example 160:  \u001b[32m<文 字:Positive(confidence:0.998, ref:Positive)>\u001b[0m 细 腻 \n",
            "Example 161:  支 持 的 \u001b[32m<五 倍 数 码 变 焦:Positive(confidence:0.999, ref:Positive)>\u001b[0m 同 样 实 用 \n",
            "Example 162:  支 持 \u001b[32m<蓝 牙 功 能:Positive(confidence:0.999, ref:Positive)>\u001b[0m 最 为 实 用 \n",
            "Example 163:  \u001b[32m<价 格:Positive(confidence:0.998, ref:Positive)>\u001b[0m 便 宜 \n",
            "Example 164:  \u001b[32m<短 信 输 入:Negative(confidence:0.995, ref:Negative)>\u001b[0m 慢 \n",
            "Example 165:  \u001b[32m<运 行 速 度:Negative(confidence:0.995, ref:Negative)>\u001b[0m 稍 微 慢 于 存 储 在 内 存 中 游 戏 的 速 度 \n",
            "Example 166:  手 机 采 用 了 简 约 的 直 板 式 \u001b[32m<机 身 设 计:Positive(confidence:0.998, ref:Positive)>\u001b[0m  \n",
            "Example 167:  并 且 以 其 独 特 的 双 面 式 \u001b[32m<设 计:Positive(confidence:0.998, ref:Positive)>\u001b[0m  \n",
            "Example 168:  加 入 了 更 多 的 时 尚 元 素 金 属 质 感 极 强 的 \u001b[32m<机 身:Positive(confidence:0.999, ref:Positive)>\u001b[0m 更 加 优 秀 的 显 示 屏 幕 \n",
            "Example 169:  部 分 部 件 采 用 了 \u001b[32m<做 工:Positive(confidence:0.999, ref:Positive)>\u001b[0m 精 良 的 拉 丝 金 属 材 料 \n",
            "Example 170:  用 户 在 使 用 时 也 会 感 受 到 \u001b[32m<机 身:Positive(confidence:0.999, ref:Positive)>\u001b[0m 的 细 腻 \n",
            "Example 171:  索 爱 手 机 采 用 了 色 的 彩 色 的 大 \u001b[32m<显 示 屏:Positive(confidence:0.998, ref:Positive)>\u001b[0m  \n",
            "Example 172:  实 际 应 用 的 \u001b[32m<色 彩 层 次 感:Positive(confidence:0.974, ref:Positive)>\u001b[0m 较 强 \n",
            "Example 173:  同 时 \u001b[31m<颜 色:Negative(confidence:0.948, ref:Positive)>\u001b[0m 过 度 自 然 真 实 \n",
            "Example 174:  在 \u001b[32m<亮 度:Positive(confidence:0.999, ref:Positive)>\u001b[0m 对 比 度 等 方 面 的 指 数 都 很 出 色 \n",
            "Example 175:  \u001b[32m<设 计:Positive(confidence:0.998, ref:Positive)>\u001b[0m 新 颖 \n",
            "Example 176:  三 款 游 戏 的 \u001b[32m<娱 乐 性:Positive(confidence:0.999, ref:Positive)>\u001b[0m 不 错 \n",
            "Example 177:  该 款 手 机 \u001b[32m<电 池 性 能:Negative(confidence:0.995, ref:Negative)>\u001b[0m 一 般 \n",
            "Example 178:  \u001b[32m<待 机 时 间:Negative(confidence:0.995, ref:Negative)>\u001b[0m 稍 短 \n",
            "Example 179:  \u001b[32m<待 机 时 间:Negative(confidence:0.993, ref:Negative)>\u001b[0m 短 \n",
            "Example 180:  同 时 三 星 \u001b[32m<发 信 息 的 速 度:Positive(confidence:0.998, ref:Positive)>\u001b[0m 比 较 诺 基 亚 速 度 快 了 很 多 \n",
            "Example 181:  其 实 它 的 \u001b[32m<外 观:Positive(confidence:0.998, ref:Positive)>\u001b[0m 很 简 约 \n",
            "Example 182:  \u001b[32m<机 身 设 计:Positive(confidence:0.998, ref:Positive)>\u001b[0m 独 特 \n",
            "Example 183:  \u001b[32m<拍 照 操 作:Positive(confidence:0.998, ref:Positive)>\u001b[0m 简 易 实 用 \n",
            "Example 184:  合 并 全 景 照 片 各 种 有 趣 的 画 框 较 高 \u001b[32m<内 存 容 量:Positive(confidence:0.982, ref:Positive)>\u001b[0m 让 不 是 专 业 的 数 码 拍 照 手 机 用 户 使 用 起 来 得 心 应 手 \n",
            "Example 185:  \u001b[32m<图 像 发 送 步 骤:Positive(confidence:0.998, ref:Positive)>\u001b[0m 简 单 \n",
            "Example 186:  \u001b[32m<娱 乐 性 能:Positive(confidence:0.998, ref:Positive)>\u001b[0m 强 大 \n",
            "Example 187:  \u001b[32m<音 质:Positive(confidence:0.998, ref:Positive)>\u001b[0m 也 不 错 \n",
            "Example 188:  \u001b[32m<色 彩 的 光 亮:Positive(confidence:0.999, ref:Positive)>\u001b[0m 柔 和 细 腻 度 都 不 错 \n",
            "Example 189:  \u001b[32m<按 键:Positive(confidence:0.979, ref:Positive)>\u001b[0m 比 较 大 \n",
            "Example 190:  \u001b[32m<兼 容 性:Positive(confidence:0.996, ref:Positive)>\u001b[0m 较 强 \n",
            "Example 191:  这 种 \u001b[32m<功 能:Positive(confidence:0.998, ref:Positive)>\u001b[0m 比 较 新 鲜 \n",
            "Example 192:  \u001b[32m<影 像 质 量:Negative(confidence:0.995, ref:Negative)>\u001b[0m 还 存 在 缺 陷 \n",
            "Example 193:  虽 然 在 户 外 环 境 下 \u001b[32m<色 彩 还 原:Positive(confidence:0.998, ref:Positive)>\u001b[0m 图 像 层 次 感 较 好 \n",
            "Example 194:  \u001b[32m<图 像 细 节:Negative(confidence:0.995, ref:Negative)>\u001b[0m 有 失 真 \n",
            "Example 195:  拥 有 良 好 的 \u001b[32m<手 感:Positive(confidence:0.998, ref:Positive)>\u001b[0m  \n",
            "Example 196:  使 \u001b[32m<机 身 线 条:Positive(confidence:0.999, ref:Positive)>\u001b[0m 非 常 圆 滑 \n",
            "Example 197:  的 三 围 尺 寸 以 及 的 适 中 \u001b[32m<重 量:Positive(confidence:0.998, ref:Positive)>\u001b[0m  \n",
            "Example 198:  采 用 了 出 众 的 \u001b[32m<双 彩 屏 幕 设 计:Positive(confidence:0.999, ref:Positive)>\u001b[0m  \n",
            "Example 199:  \u001b[32m<画 质:Positive(confidence:0.999, ref:Positive)>\u001b[0m 细 腻 并 可 冲 印 成 照 片 而 毫 不 逊 色 \n",
            "Example 200:  还 提 供 外 屏 快 速 \u001b[32m<自 拍 功 能:Positive(confidence:0.999, ref:Positive)>\u001b[0m  \n",
            "Example 201:  保 持 了 机 身 \u001b[32m<整 体 外 观:Positive(confidence:0.999, ref:Positive)>\u001b[0m 浑 然 一 体 \n",
            "Example 202:  \u001b[32m<显 示 效 果:Positive(confidence:0.999, ref:Positive)>\u001b[0m 出 色 了 不 少 \n",
            "Example 203:  \u001b[32m<造 型:Positive(confidence:0.983, ref:Positive)>\u001b[0m 明 显 成 熟 \n",
            "Example 204:  \u001b[32m<中 间 的 缝 隙:Negative(confidence:0.995, ref:Negative)>\u001b[0m 就 太 大 了 点 \n",
            "Example 205:  \u001b[32m<键 盘 设 计:Positive(confidence:0.999, ref:Positive)>\u001b[0m 也 十 分 简 洁 漂 亮 \n",
            "Example 206:  \u001b[32m<做 工:Positive(confidence:0.995, ref:Positive)>\u001b[0m 应 该 不 会 差 \n",
            "Example 207:  但 \u001b[32m<速 度:Positive(confidence:0.997, ref:Positive)>\u001b[0m 绝 对 比 红 外 要 快 \n",
            "Example 208:  \u001b[32m<外 型:Positive(confidence:0.998, ref:Positive)>\u001b[0m 好 看 了 \n",
            "Example 209:  但 \u001b[32m<实 用 性:Negative(confidence:0.993, ref:Negative)>\u001b[0m 下 降 了 \n",
            "Example 210:  另 外 \u001b[32m<拍 摄 模 式:Negative(confidence:0.977, ref:Negative)>\u001b[0m 也 很 少 \n",
            "Example 211:  \u001b[31m<小 的 美 丽 外 形:Negative(confidence:0.861, ref:Positive)>\u001b[0m  \n",
            "Example 212:  专 业 \u001b[32m<音 乐 播 放:Positive(confidence:0.998, ref:Positive)>\u001b[0m  \n",
            "Example 213:  以 及 个 性 化 的 \u001b[32m<主 题:Positive(confidence:0.998, ref:Positive)>\u001b[0m  \n",
            "Example 214:  没 有 个 性 化 \u001b[32m<短 信 提 示 音:Negative(confidence:0.996, ref:Negative)>\u001b[0m  \n",
            "Example 215:  缺 少 给 专 用 文 件 夹 与 短 信 \u001b[32m<加 密 功 能:Negative(confidence:0.989, ref:Negative)>\u001b[0m  \n",
            "Example 216:  寸 的 \u001b[32m<屏 幕:Negative(confidence:0.556, ref:Negative)>\u001b[0m 可 以 说 是 小 最 让 人 遗 憾 的 硬 件 缺 憾 了 \n",
            "Example 217:  播 放 的 \u001b[32m<视 频 格 式:Negative(confidence:0.997, ref:Negative)>\u001b[0m 与 音 乐 格 式 太 少 \n",
            "Example 218:  \u001b[32m<显 示 效 果:Positive(confidence:0.999, ref:Positive)>\u001b[0m 十 分 的 令 人 满 意 \n",
            "Example 219:  \u001b[32m<光 度:Positive(confidence:0.997, ref:Positive)>\u001b[0m 适 中 \n",
            "Example 220:  \u001b[32m<光 线:Positive(confidence:0.998, ref:Positive)>\u001b[0m 柔 和 \n",
            "Example 221:  同 时 具 有 丰 富 的 \u001b[32m<短 信 息 输 入 联 想 功 能:Positive(confidence:0.999, ref:Positive)>\u001b[0m  \n",
            "Example 222:  其 \u001b[32m<可 玩 性:Positive(confidence:0.999, ref:Positive)>\u001b[0m 还 是 比 较 令 人 满 意 的 \n",
            "Example 223:  \u001b[32m<游 戏 音 乐:Positive(confidence:0.987, ref:Positive)>\u001b[0m 轻 快 \n",
            "Example 224:  \u001b[32m<动 作 画 面:Positive(confidence:0.975, ref:Positive)>\u001b[0m 动 感 刺 激 \n",
            "Example 225:  \u001b[32m<铃 声 效 果:Positive(confidence:0.999, ref:Positive)>\u001b[0m 悠 扬 动 听 悦 耳 清 脆 \n",
            "Example 226:  而 且 \u001b[32m<功 能 按 键:Negative(confidence:0.995, ref:Negative)>\u001b[0m 排 列 的 过 于 拥 挤 \n",
            "Example 227:  \u001b[32m<屏 幕 的 显 示 面 积:Negative(confidence:0.993, ref:Negative)>\u001b[0m 不 是 很 大 \n",
            "Example 228:  而 且 这 款 摩 托 罗 拉 手 机 的 内 部 屏 幕 \u001b[32m<显 示 效 果:Negative(confidence:0.995, ref:Negative)>\u001b[0m 也 不 是 十 分 的 令 人 满 意 \n",
            "Example 229:  \u001b[32m<声 音 录 制:Positive(confidence:0.999, ref:Positive)>\u001b[0m 实 在 是 一 个 极 为 实 用 的 功 能 \n",
            "Example 230:  \u001b[32m<反 映 速 度:Negative(confidence:0.995, ref:Negative)>\u001b[0m 超 慢 \n",
            "Example 231:  \u001b[32m<做 工:Negative(confidence:0.992, ref:Negative)>\u001b[0m 不 如 其 他 国 际 品 牌 精 致 \n",
            "Example 232:  并 且 屏 幕 与 方 向 键 之 间 的 \u001b[32m<空 隙:Negative(confidence:0.996, ref:Negative)>\u001b[0m 太 大 \n",
            "Example 233:  \u001b[32m<传 输 方 式:Negative(confidence:0.993, ref:Negative)>\u001b[0m 欠 缺 \n",
            "Example 234:  况 且 机 子 本 身 内 置 \u001b[32m<图 片 铃 声:Negative(confidence:0.995, ref:Negative)>\u001b[0m 又 极 其 单 调 \n",
            "Example 235:  \u001b[32m<外 观:Positive(confidence:0.998, ref:Positive)>\u001b[0m 炫 酷 \n",
            "Example 236:  三 菱 拥 有 炫 酷 的 \u001b[32m<外 形:Positive(confidence:0.998, ref:Positive)>\u001b[0m  \n",
            "Example 237:  内 置 天 线 的 设 计 使 得 \u001b[32m<外 观:Positive(confidence:0.999, ref:Positive)>\u001b[0m 更 显 清 新 简 洁 \n",
            "Example 238:  三 菱 专 利 的 \u001b[32m<整 体 镜 面 外 屏:Positive(confidence:0.996, ref:Positive)>\u001b[0m 流 露 出 的 时 尚 感 觉 让 人 一 见 倾 心 \n",
            "Example 239:  \u001b[32m<音 效:Positive(confidence:0.998, ref:Positive)>\u001b[0m 出 色 \n",
            "Example 240:  铃 声 的 \u001b[32m<音 量:Positive(confidence:0.999, ref:Positive)>\u001b[0m 得 益 于 良 好 的 独 立 扬 声 器 设 计 而 大 大 增 强 \n",
            "Example 241:  铃 声 \u001b[32m<音 效:Positive(confidence:0.998, ref:Positive)>\u001b[0m 悠 扬 洪 亮 \n",
            "Example 242:  即 使 冲 印 成 寸 照 片 也 是 \u001b[32m<效 果:Positive(confidence:0.999, ref:Positive)>\u001b[0m 出 众 \n",
            "Example 243:  三 菱 还 具 有 一 个 很 有 创 意 的 功 能 [UNK] [UNK] 内 置 了 精 美 的 \u001b[32m<像 框:Positive(confidence:0.999, ref:Positive)>\u001b[0m  \n",
            "Example 244:  \u001b[32m<拍 摄 功 能:Positive(confidence:0.999, ref:Positive)>\u001b[0m 的 强 大 使 足 以 媲 美 一 台 高 端 数 码 相 机 \n",
            "Example 245:  \u001b[32m<功 能:Positive(confidence:0.998, ref:Positive)>\u001b[0m 强 大 \n",
            "Example 246:  \u001b[32m<待 机:Positive(confidence:0.998, ref:Positive)>\u001b[0m 强 悍 \n",
            "Example 247:  这 也 从 另 一 个 侧 面 体 现 出 \u001b[32m<电 源 管 理 系 统:Positive(confidence:0.999, ref:Positive)>\u001b[0m 的 出 色 \n",
            "Example 248:  铃 声 \u001b[32m<音 量:Negative(confidence:0.995, ref:Negative)>\u001b[0m 不 够 大 \n",
            "Example 249:  \u001b[32m<屏 幕:Positive(confidence:0.998, ref:Positive)>\u001b[0m 艳 丽 且 细 腻 \n",
            "Example 250:  万 像 素 \u001b[32m<摄 像 头 功 能:Positive(confidence:0.999, ref:Positive)>\u001b[0m 还 可 以 \n",
            "Example 251:  \u001b[32m<效 果:Negative(confidence:0.993, ref:Negative)>\u001b[0m 一 般 \n",
            "Example 252:  但 是 我 觉 得 手 机 能 拍 出 这 种 \u001b[32m<效 果:Positive(confidence:0.997, ref:Positive)>\u001b[0m 我 挺 满 意 \n",
            "Example 253:  \u001b[32m<夜 晚 拍 摄 效 果:Negative(confidence:0.993, ref:Negative)>\u001b[0m 不 怎 么 好 \n",
            "Example 254:  本 机 \u001b[32m<内 存:Positive(confidence:0.997, ref:Positive)>\u001b[0m 比 较 大 \n",
            "Example 255:  \u001b[32m<传 输 速 度:Positive(confidence:0.998, ref:Positive)>\u001b[0m 还 可 以 \n",
            "Example 256:  \u001b[32m<使 用:Positive(confidence:0.998, ref:Positive)>\u001b[0m 非 常 人 性 化 \n",
            "Example 257:  \u001b[32m<快 捷 键 设 计:Positive(confidence:0.999, ref:Positive)>\u001b[0m 的 很 方 便 \n",
            "Example 258:  \u001b[32m<磨 沙 的 外 壳 不 易 留 下 指 纹:Positive(confidence:0.989, ref:Positive)>\u001b[0m  \n",
            "Example 259:  \u001b[32m<日 历 日 程 表 功 能:Positive(confidence:0.999, ref:Positive)>\u001b[0m 不 错 \n",
            "Example 260:  比 红 外 方 便 且 \u001b[32m<速 度:Positive(confidence:0.998, ref:Positive)>\u001b[0m 快 \n",
            "Example 261:  网 上 有 不 少 朋 友 反 映 \u001b[32m<滑 盖:Negative(confidence:0.992, ref:Negative)>\u001b[0m 容 易 松 动 \n",
            "Example 262:  三 星 的 手 机 编 辑 软 件 \u001b[32m<传 输 速 度:Negative(confidence:0.997, ref:Negative)>\u001b[0m 太 慢 \n",
            "Example 263:  现 在 市 面 上 的 \u001b[32m<配 件:Negative(confidence:0.985, ref:Negative)>\u001b[0m 很 少 \n",
            "Example 264:  \u001b[32m<通 话 音 质:Positive(confidence:0.998, ref:Positive)>\u001b[0m 较 好 \n",
            "Example 265:  \u001b[32m<音 量:Positive(confidence:0.998, ref:Positive)>\u001b[0m 大 \n",
            "Example 266:  \u001b[32m<来 电 铃 声 音 量:Positive(confidence:0.999, ref:Positive)>\u001b[0m 也 够 大 \n",
            "Example 267:  \u001b[32m<手 写 识 别 灵 敏 度:Positive(confidence:0.998, ref:Positive)>\u001b[0m 高 \n",
            "Example 268:  \u001b[32m<录 音 灵 敏 度:Positive(confidence:0.998, ref:Positive)>\u001b[0m 高 \n",
            "Example 269:  \u001b[32m<音 质:Positive(confidence:0.998, ref:Positive)>\u001b[0m 清 晰 \n",
            "Example 270:  拍 的 \u001b[32m<照 片:Positive(confidence:0.998, ref:Positive)>\u001b[0m 很 不 错 \n",
            "Example 271:  \u001b[32m<设 计:Positive(confidence:0.998, ref:Positive)>\u001b[0m 细 节 人 性 化 \n",
            "Example 272:  \u001b[32m<备 忘 录 功 能:Positive(confidence:0.998, ref:Positive)>\u001b[0m 强 大 \n",
            "Example 273:  其 \u001b[32m<音 乐 播 放 能 力:Positive(confidence:0.996, ref:Positive)>\u001b[0m 自 是 不 容 忽 视 的 \n",
            "Example 274:  \u001b[32m<整 体 的 表 现:Negative(confidence:0.984, ref:Negative)>\u001b[0m 并 不 是 非 常 出 色 \n",
            "Example 275:  \u001b[32m<整 体 的 层 次 感:Positive(confidence:0.998, ref:Positive)>\u001b[0m 非 常 强 \n",
            "Example 276:  还 是 \u001b[32m<显 示 效 果:Positive(confidence:0.999, ref:Positive)>\u001b[0m 上 都 有 不 小 的 提 高 \n",
            "Example 277:  而 且 \u001b[32m<色 彩:Positive(confidence:0.999, ref:Positive)>\u001b[0m 也 要 比 更 加 艳 丽 \n",
            "Example 278:  还 好 的 \u001b[32m<成 像 效 果:Positive(confidence:0.995, ref:Positive)>\u001b[0m 比 较 清 晰 \n",
            "Example 279:  在 加 上 几 乎 为 的 快 门 时 滞 和 超 高 的 \u001b[32m<快 门 速 度:Positive(confidence:0.999, ref:Positive)>\u001b[0m  \n",
            "Example 280:  在 强 光 下 拍 摄 出 的 \u001b[32m<图 片:Negative(confidence:0.996, ref:Negative)>\u001b[0m 有 点 偏 色 \n",
            "Example 281:  \u001b[31m<长 度:Negative(confidence:0.987, ref:Positive)>\u001b[0m 和 厚 度 均 比 要 小 点 \n",
            "Example 282:  而 且 \u001b[32m<整 体 的 造 型:Positive(confidence:0.999, ref:Positive)>\u001b[0m 更 为 圆 滑 \n",
            "Example 283:  机 身 各 处 的 \u001b[32m<接 合 缝:Positive(confidence:0.999, ref:Positive)>\u001b[0m 均 匀 一 致 \n",
            "Example 284:  不 过 稍 感 遗 憾 的 是 各 按 键 之 间 的 \u001b[32m<缝 隙:Negative(confidence:0.996, ref:Negative)>\u001b[0m 有 些 大 \n",
            "Example 285:  的 \u001b[32m<按 键:Positive(confidence:0.992, ref:Positive)>\u001b[0m 比 较 柔 软 \n",
            "Example 286:  \u001b[32m<整 机 做 工:Positive(confidence:0.998, ref:Positive)>\u001b[0m 不 错 \n",
            "Example 287:  \u001b[32m<外 形 设 计:Positive(confidence:0.998, ref:Positive)>\u001b[0m 很 朴 实 \n",
            "Example 288:  左 侧 上 部 \u001b[32m<设 计:Positive(confidence:0.998, ref:Positive)>\u001b[0m 很 是 特 别 \n",
            "Example 289:  \u001b[32m<音 量:Positive(confidence:0.999, ref:Positive)>\u001b[0m 和 穿 透 力 都 非 常 不 错 \n",
            "Example 290:  各 频 段 的 \u001b[32m<音 色:Positive(confidence:0.999, ref:Positive)>\u001b[0m 表 现 也 十 分 出 色 \n",
            "Example 291:  \u001b[32m<音 域:Positive(confidence:0.998, ref:Positive)>\u001b[0m 宽 广 自 然 \n",
            "Example 292:  \u001b[32m<铃 声 的 效 果:Positive(confidence:0.999, ref:Positive)>\u001b[0m 令 人 感 到 满 意 \n",
            "Example 293:  耳 机 的 \u001b[32m<音 乐 效 果:Positive(confidence:0.999, ref:Positive)>\u001b[0m 表 现 也 很 不 错 \n",
            "Example 294:  它 的 \u001b[32m<屏 幕 显 示:Positive(confidence:0.999, ref:Positive)>\u001b[0m 也 是 极 其 清 晰 美 观 \n",
            "Example 295:  \u001b[32m<字 体:Positive(confidence:0.998, ref:Positive)>\u001b[0m 清 楚 \n",
            "Example 296:  \u001b[32m<按 键:Positive(confidence:0.998, ref:Positive)>\u001b[0m 也 是 很 舒 适 \n",
            "Example 297:  它 标 配 的 锂 离 子 \u001b[32m<电 池:Positive(confidence:0.999, ref:Positive)>\u001b[0m 很 好 用 \n",
            "Example 298:  \u001b[32m<续 航 能 力:Positive(confidence:0.998, ref:Positive)>\u001b[0m 的 表 现 相 当 令 人 满 意 \n",
            "Example 299:  它 还 具 备 了 强 大 的 \u001b[32m<上 网 功 能:Positive(confidence:0.999, ref:Positive)>\u001b[0m  \n",
            "Example 300:  的 \u001b[32m<屏 幕 分 辨 率:Negative(confidence:0.996, ref:Negative)>\u001b[0m 不 够 精 细 \n",
            "Example 301:  它 的 \u001b[32m<机 身:Negative(confidence:0.982, ref:Negative)>\u001b[0m 略 长 \n",
            "Example 302:  \u001b[32m<娱 乐 功 能:Negative(confidence:0.995, ref:Negative)>\u001b[0m 不 强 大 \n",
            "Example 303:  它 的 \u001b[32m<听 筒 设 计:Negative(confidence:0.971, ref:Negative)>\u001b[0m 较 小 \n",
            "Example 304:  \u001b[32m<声 音:Negative(confidence:0.992, ref:Negative)>\u001b[0m 不 是 很 响 亮 \n",
            "Example 305:  \u001b[32m<屏 幕:Negative(confidence:0.996, ref:Negative)>\u001b[0m 和 弦 摄 像 头 较 差 \n",
            "Example 306:  \u001b[32m<质 量:Positive(confidence:0.998, ref:Positive)>\u001b[0m 好 \n",
            "Example 307:  \u001b[32m<运 算:Positive(confidence:0.998, ref:Positive)>\u001b[0m 快 \n",
            "Example 308:  \u001b[32m<声 音:Positive(confidence:0.998, ref:Positive)>\u001b[0m 清 楚 而 且 大 \n",
            "Example 309:  \u001b[32m<声 音:Negative(confidence:0.982, ref:Negative)>\u001b[0m 小 有 回 音 \n",
            "Example 310:  \u001b[32m<屏 幕:Positive(confidence:0.998, ref:Positive)>\u001b[0m 好 \n",
            "Example 311:  \u001b[32m<和 弦:Positive(confidence:0.998, ref:Positive)>\u001b[0m 清 脆 \n",
            "Example 312:  \u001b[32m<铃 声 屏 幕:Positive(confidence:0.998, ref:Positive)>\u001b[0m 俱 佳 \n",
            "Example 313:  可 惜 \u001b[32m<性 价 比:Negative(confidence:0.993, ref:Negative)>\u001b[0m 差 \n",
            "Example 314:  \u001b[32m<听 筒 声 音:Negative(confidence:0.994, ref:Negative)>\u001b[0m 普 遍 小 了 点 中 国 人 多 \n",
            "Example 315:  \u001b[32m<性 价 比:Positive(confidence:0.999, ref:Positive)>\u001b[0m 在 所 有 洋 品 牌 中 来 说 是 最 好 的 \n",
            "Example 316:  \u001b[32m<外 型:Positive(confidence:0.997, ref:Positive)>\u001b[0m 时 尚 \n",
            "Example 317:  \u001b[32m<待 机 时 间:Positive(confidence:0.998, ref:Positive)>\u001b[0m 够 长 \n",
            "Example 318:  缺 点 是 \u001b[32m<做 工:Negative(confidence:0.994, ref:Negative)>\u001b[0m 差 了 点 \n",
            "Example 319:  \u001b[32m<听 筒 声 音:Positive(confidence:0.998, ref:Positive)>\u001b[0m 好 \n",
            "Example 320:  优 美 流 畅 的 \u001b[32m<线 条 设 计:Positive(confidence:0.999, ref:Positive)>\u001b[0m  \n",
            "Example 321:  圆 润 光 滑 的 \u001b[32m<边 角 工 艺:Positive(confidence:0.999, ref:Positive)>\u001b[0m  \n",
            "Example 322:  \u001b[32m<屏 幕 色 彩 层 次 感:Positive(confidence:0.977, ref:Positive)>\u001b[0m 较 强 \n",
            "Example 323:  同 时 \u001b[31m<颜 色:Negative(confidence:0.948, ref:Positive)>\u001b[0m 过 度 自 然 真 实 \n",
            "Example 324:  在 \u001b[32m<亮 度:Positive(confidence:0.999, ref:Positive)>\u001b[0m 对 比 度 等 方 面 的 指 数 都 很 出 色 \n",
            "Example 325:  \u001b[32m<设 计:Positive(confidence:0.998, ref:Positive)>\u001b[0m 新 颖 \n",
            "Example 326:  独 特 的 \u001b[32m<曲 线 型 设 计:Positive(confidence:0.998, ref:Positive)>\u001b[0m  \n",
            "Example 327:  同 时 具 有 丰 富 的 \u001b[32m<短 信 息 联 想 功 能:Positive(confidence:0.999, ref:Positive)>\u001b[0m  \n",
            "Example 328:  三 款 \u001b[32m<游 戏 的 可 玩 性:Positive(confidence:0.998, ref:Positive)>\u001b[0m 较 高 \n",
            "Example 329:  \u001b[32m<短 信 功 能:Positive(confidence:0.998, ref:Positive)>\u001b[0m 方 便 \n",
            "Example 330:  \u001b[32m<输 入 法:Positive(confidence:0.998, ref:Positive)>\u001b[0m 好 用 \n",
            "Example 331:  \u001b[32m<短 信 功 能:Positive(confidence:0.999, ref:Positive)>\u001b[0m 非 常 实 用 \n",
            "Example 332:  \u001b[32m<时 钟 功 能:Positive(confidence:0.998, ref:Positive)>\u001b[0m 很 好 用 \n",
            "Example 333:  但 \u001b[32m<拍 摄 效 果:Positive(confidence:0.998, ref:Positive)>\u001b[0m 清 晰 \n",
            "Example 334:  外 屏 色 彩 虹 \u001b[32m<来 电 显 示 灯:Positive(confidence:0.999, ref:Positive)>\u001b[0m 非 常 漂 亮 \n",
            "Example 335:  \u001b[32m<显 示 图 片:Positive(confidence:0.998, ref:Positive)>\u001b[0m 清 晰 \n",
            "Example 336:  \u001b[32m<色 彩:Positive(confidence:0.998, ref:Positive)>\u001b[0m 饱 满 \n",
            "Example 337:  \u001b[32m<和 弦 铃 声:Positive(confidence:0.999, ref:Positive)>\u001b[0m 的 表 现 浑 厚 有 力 \n",
            "Example 338:  \u001b[32m<穿 透 力:Positive(confidence:0.998, ref:Positive)>\u001b[0m 好 \n",
            "Example 339:  清 晰 的 \u001b[32m<通 话 音 质:Positive(confidence:0.998, ref:Positive)>\u001b[0m  \n",
            "Example 340:  响 亮 的 \u001b[32m<免 提 通 话:Positive(confidence:0.998, ref:Positive)>\u001b[0m  \n",
            "Example 341:  \u001b[32m<商 务 功 能:Positive(confidence:0.998, ref:Positive)>\u001b[0m 一 应 俱 全 \n",
            "Example 342:  而 且 还 具 备 \u001b[32m<蓝 牙:Positive(confidence:0.999, ref:Positive)>\u001b[0m 红 外 传 输 等 先 进 功 能 \n",
            "Example 343:  的 \u001b[32m<体 积:Positive(confidence:0.997, ref:Positive)>\u001b[0m 和 机 身 重 量 算 是 小 巧 类 了 \n",
            "Example 344:  \u001b[32m<按 键:Positive(confidence:0.998, ref:Positive)>\u001b[0m 宽 大 \n",
            "Example 345:  \u001b[32m<手 感:Positive(confidence:0.998, ref:Positive)>\u001b[0m 很 好 \n",
            "Example 346:  整 机 \u001b[32m<做 工:Positive(confidence:0.998, ref:Positive)>\u001b[0m 优 秀 \n",
            "Example 347:  那 的 \u001b[32m<短 信 功 能:Positive(confidence:0.999, ref:Positive)>\u001b[0m 就 更 加 人 性 化 了 \n",
            "Example 348:  如 果 上 市 \u001b[32m<价 格:Negative(confidence:0.973, ref:Negative)>\u001b[0m 便 宜 一 点 \n",
            "Example 349:  \u001b[32m<电 话 本:Negative(confidence:0.995, ref:Negative)>\u001b[0m 不 好 用 \n",
            "Example 350:  \u001b[32m<待 机 时 间:Negative(confidence:0.759, ref:Negative)>\u001b[0m 实 在 是 不 敢 恭 维 \n",
            "Example 351:  \u001b[32m<屏 幕 的 分 辨 率:Negative(confidence:0.995, ref:Negative)>\u001b[0m 很 低 \n",
            "Example 352:  有 \u001b[32m<铃 声:Negative(confidence:0.994, ref:Negative)>\u001b[0m 太 小 的 问 题 \n",
            "Example 353:  \u001b[32m<电 话 本:Negative(confidence:0.995, ref:Negative)>\u001b[0m 不 好 用 \n",
            "Example 354:  烦 人 的 \u001b[32m<短 信 住 逐 行 阅 读 方 式:Negative(confidence:0.671, ref:Negative)>\u001b[0m 菜 单 \n",
            "Example 355:  \u001b[32m<待 机 时 间:Negative(confidence:0.759, ref:Negative)>\u001b[0m 实 在 是 不 敢 恭 维 \n",
            "Example 356:  \u001b[32m<屏 幕 的 分 辨 率:Negative(confidence:0.995, ref:Negative)>\u001b[0m 很 低 \n",
            "Example 357:  有 \u001b[32m<铃 声:Negative(confidence:0.994, ref:Negative)>\u001b[0m 太 小 的 问 题 \n",
            "Example 358:  \u001b[32m<耳 机 质 量:Negative(confidence:0.993, ref:Negative)>\u001b[0m 不 好 \n",
            "Example 359:  但 \u001b[32m<价 格:Negative(confidence:0.994, ref:Negative)>\u001b[0m 偏 高 一 直 没 能 买 \n",
            "Example 360:  喜 欢 上 的 原 因 当 然 是 她 唯 美 的 \u001b[32m<外 表:Positive(confidence:0.999, ref:Positive)>\u001b[0m 和 恰 到 好 处 的 颜 色 搭 配 \n",
            "Example 361:  \u001b[32m<机 身 外 形 设 计:Positive(confidence:0.999, ref:Positive)>\u001b[0m 时 尚 前 卫 有 个 性 \n",
            "Example 362:  她 迷 幻 的 \u001b[32m<色 彩:Positive(confidence:0.996, ref:Positive)>\u001b[0m 打 动 了 无 数 人 的 心 \n",
            "Example 363:  \u001b[32m<功 能:Positive(confidence:0.998, ref:Positive)>\u001b[0m 自 然 比 一 般 相 机 要 多 许 多 \n",
            "Example 364:  \u001b[32m<开 机 处 设 计:Negative(confidence:0.996, ref:Negative)>\u001b[0m 真 的 很 失 败 \n",
            "Example 365:  所 以 在 好 看 的 亮 度 \u001b[32m<外 表:Positive(confidence:0.999, ref:Positive)>\u001b[0m 下 \n",
            "Example 366:  所 以 感 觉 \u001b[32m<按 键:Negative(confidence:0.996, ref:Negative)>\u001b[0m 排 列 得 太 过 密 集 了 \n",
            "Example 367:  第 一 次 用 它 的 \u001b[32m<键 盘:Negative(confidence:0.991, ref:Negative)>\u001b[0m 时 竟 然 觉 得 太 生 硬 了 \n",
            "Example 368:  \u001b[32m<导 航 键 的 面 积:Negative(confidence:0.993, ref:Negative)>\u001b[0m 设 计 的 也 很 小 \n",
            "Example 369:  \u001b[32m<闹 钟 功 能:Negative(confidence:0.996, ref:Negative)>\u001b[0m 设 计 不 具 备 人 性 化 \n",
            "Example 370:  目 前 市 场 \u001b[32m<价 格:Negative(confidence:0.992, ref:Negative)>\u001b[0m 还 是 比 较 高 \n",
            "Example 371:  \u001b[32m<来 点 闪:Positive(confidence:0.997, ref:Positive)>\u001b[0m 很 有 创 意 \n",
            "Example 372:  \u001b[32m<动 画 屏 保:Positive(confidence:0.998, ref:Positive)>\u001b[0m 还 可 以 \n",
            "Example 373:  发 短 信 同 时 可 以 加 上 本 机 附 带 的 \u001b[32m<图 标 动 画:Positive(confidence:0.998, ref:Positive)>\u001b[0m 和 铃 声 也 是 好 有 创 意 的 \n",
            "Example 374:  \u001b[32m<铃 声:Positive(confidence:0.998, ref:Positive)>\u001b[0m 很 细 腻 \n",
            "Example 375:  独 特 的 \u001b[32m<外 观 设 计:Positive(confidence:0.997, ref:Positive)>\u001b[0m 也 是 小 的 亮 点 之 处 \n",
            "Example 376:  夜 光 \u001b[32m<外 壳:Positive(confidence:0.993, ref:Positive)>\u001b[0m 也 是 小 的 优 点 之 一 \n",
            "Example 377:  \u001b[32m<速 度:Negative(confidence:0.969, ref:Negative)>\u001b[0m 及 慢 \n",
            "Example 378:  \u001b[32m<声 音:Negative(confidence:0.994, ref:Negative)>\u001b[0m 太 小 \n",
            "Example 379:  \u001b[31m<屏 幕:Positive(confidence:0.998, ref:Negative)>\u001b[0m 有 亮 点 \n",
            "Example 380:  \u001b[32m<听 筒 声 音:Negative(confidence:0.995, ref:Negative)>\u001b[0m 太 小 \n",
            "Example 381:  短 信 编 辑 时 的 \u001b[32m<按 键:Negative(confidence:0.997, ref:Negative)>\u001b[0m 真 的 不 好 使 \n",
            "Example 382:  \u001b[32m<信 号:Negative(confidence:0.993, ref:Negative)>\u001b[0m 不 怎 么 好 \n",
            "Example 383:  \u001b[32m<空 间:Negative(confidence:0.994, ref:Negative)>\u001b[0m 太 小 \n",
            "Example 384:  \u001b[32m<短 信 储 存 空 间:Negative(confidence:0.996, ref:Negative)>\u001b[0m 太 小 \n",
            "Example 385:  而 且 \u001b[32m<耳 机:Negative(confidence:0.989, ref:Negative)>\u001b[0m 太 硬 \n",
            "Example 386:  手 机 \u001b[32m<设 置 参 数:Negative(confidence:0.92, ref:Negative)>\u001b[0m 真 的 好 麻 烦 \n",
            "Example 387:  \u001b[32m<外 观:Negative(confidence:0.99, ref:Negative)>\u001b[0m 真 不 是 怎 么 很 好 看 \n",
            "Example 388:  都 说 飞 离 谱 的 手 机 的 \u001b[31m<电 池:Positive(confidence:0.999, ref:Negative)>\u001b[0m 很 耐 用 \n",
            "Example 389:  \u001b[32m<游 戏 方 面:Negative(confidence:0.994, ref:Negative)>\u001b[0m 太 烂 \n",
            "Example 390:  \u001b[32m<电 话 簿 查 询:Negative(confidence:0.995, ref:Negative)>\u001b[0m 起 来 太 麻 烦 了 \n",
            "Example 391:  \u001b[32m<整 机 线 条:Positive(confidence:0.998, ref:Positive)>\u001b[0m 流 畅 \n",
            "Example 392:  \u001b[31m<边 角:Negative(confidence:0.592, ref:Positive)>\u001b[0m 过 度 均 匀 而 且 圆 润 \n",
            "Example 393:  \u001b[32m<颜 色 搭 配:Positive(confidence:0.997, ref:Positive)>\u001b[0m 协 调 \n",
            "Example 394:  屏 幕 的 \u001b[32m<色 彩 表 现 力:Positive(confidence:0.999, ref:Positive)>\u001b[0m 色 彩 的 层 次 感 很 出 色 \n",
            "Example 395:  且 \u001b[32m<屏 幕 色 彩 的 过 度:Positive(confidence:0.999, ref:Positive)>\u001b[0m 还 原 度 以 及 屏 幕 的 亮 度 饱 和 度 也 都 是 非 常 的 出 色 \n",
            "Example 396:  \u001b[32m<操 作 方 法:Positive(confidence:0.998, ref:Positive)>\u001b[0m 简 单 便 捷 \n",
            "Example 397:  这 项 \u001b[32m<功 能:Positive(confidence:0.999, ref:Positive)>\u001b[0m 还 是 十 分 的 实 用 的 \n",
            "Example 398:  这 样 丰 富 的 \u001b[32m<电 话 簿 查 找 功 能:Positive(confidence:0.999, ref:Positive)>\u001b[0m  \n",
            "Example 399:  配 合 这 款 手 机 丰 富 的 \u001b[32m<短 信 息 输 入 联 想 功 能:Positive(confidence:0.999, ref:Positive)>\u001b[0m  \n",
            "Example 400:  \u001b[32m<铃 声 效 果:Positive(confidence:0.998, ref:Positive)>\u001b[0m 清 脆 动 听 \n",
            "Example 401:  \u001b[32m<游 戏 数 量:Negative(confidence:0.996, ref:Negative)>\u001b[0m 略 显 不 足 \n",
            "Example 402:  \u001b[32m<做 工:Positive(confidence:0.998, ref:Positive)>\u001b[0m 较 好 \n",
            "Example 403:  \u001b[32m<手 感:Positive(confidence:0.998, ref:Positive)>\u001b[0m 不 错 \n",
            "Example 404:  俱 备 较 高 的 万 像 素 \u001b[32m<摄 像 头:Positive(confidence:0.999, ref:Positive)>\u001b[0m  \n",
            "Example 405:  \u001b[32m<画 面 清 晰 度:Positive(confidence:0.999, ref:Positive)>\u001b[0m 比 较 细 腻 \n",
            "Example 406:  播 放 \u001b[32m<有 声 动 画:Positive(confidence:0.999, ref:Positive)>\u001b[0m 也 比 较 顺 畅 \n",
            "Example 407:  主 流 时 尚 的 \u001b[32m<蓝 牙:Positive(confidence:0.998, ref:Positive)>\u001b[0m  \n",
            "Example 408:  让 拥 有 更 加 广 泛 的 \u001b[32m<软 件 扩 展:Positive(confidence:0.999, ref:Positive)>\u001b[0m  \n",
            "Example 409:  \u001b[32m<边 角 按 键:Negative(confidence:0.995, ref:Negative)>\u001b[0m 显 小 \n",
            "Example 410:  \u001b[32m<扬 声 器:Negative(confidence:0.989, ref:Negative)>\u001b[0m 有 暇 疵 \n",
            "Example 411:  \u001b[32m<音 乐 效 果:Negative(confidence:0.996, ref:Negative)>\u001b[0m 有 失 真 现 象 \n",
            "Example 412:  \u001b[32m<锂 电 池 兼 容 性:Negative(confidence:0.996, ref:Negative)>\u001b[0m 不 够 强 \n",
            "Example 413:  \u001b[32m<效 果:Positive(confidence:0.998, ref:Positive)>\u001b[0m 不 错 \n",
            "Example 414:  \u001b[32m<使 用:Negative(confidence:0.99, ref:Negative)>\u001b[0m 不 方 便 \n",
            "Example 415:  整 部 机 上 \u001b[32m<按 键:Positive(confidence:0.998, ref:Positive)>\u001b[0m 排 列 整 齐 \n",
            "Example 416:  里 面 我 个 人 觉 得 比 较 实 用 的 功 能 是 \u001b[32m<相 框:Positive(confidence:0.998, ref:Positive)>\u001b[0m 和 快 捷 键 功 能 \n",
            "Example 417:  个 人 觉 得 \u001b[32m<收 音 功 能:Positive(confidence:0.998, ref:Positive)>\u001b[0m 是 最 实 用 的 \n",
            "Example 418:  但 我 觉 得 \u001b[32m<实 用 性:Negative(confidence:0.995, ref:Negative)>\u001b[0m 一 般 \n",
            "Example 419:  \u001b[32m<待 机 时 间:Negative(confidence:0.993, ref:Negative)>\u001b[0m 短 \n",
            "Example 420:  另 一 个 就 是 其 自 带 \u001b[32m<内 存:Negative(confidence:0.996, ref:Negative)>\u001b[0m 太 小 了 \n",
            "Example 421:  位 于 屏 幕 下 方 的 \u001b[32m<上 网 键:Negative(confidence:0.994, ref:Negative)>\u001b[0m 很 碍 手 \n",
            "Example 422:  硕 大 的 \u001b[32m<屏 幕:Positive(confidence:0.998, ref:Positive)>\u001b[0m  \n",
            "Example 423:  突 出 的 \u001b[32m<键 盘:Positive(confidence:0.99, ref:Positive)>\u001b[0m  \n",
            "Example 424:  夸 张 的 \u001b[31m<自 拍 镜:Negative(confidence:0.985, ref:Positive)>\u001b[0m  \n",
            "Example 425:  \u001b[32m<屏 幕:Positive(confidence:0.998, ref:Positive)>\u001b[0m 出 色 \n",
            "Example 426:  \u001b[32m<色 彩:Positive(confidence:0.998, ref:Positive)>\u001b[0m 鲜 艳 \n",
            "Example 427:  \u001b[32m<显 示 效 果:Positive(confidence:0.998, ref:Positive)>\u001b[0m 出 众 \n",
            "Example 428:  \u001b[32m<操 作:Positive(confidence:0.998, ref:Positive)>\u001b[0m 起 来 更 方 便 \n",
            "Example 429:  \u001b[32m<音 响:Positive(confidence:0.998, ref:Positive)>\u001b[0m 十 足 \n",
            "Example 430: 和 弦 <<铃 声:Positive(confidence:0.999)>:Positive(confidence:0.999)> 且 <<铃 声:Positive(confidence:0.999)>:Positive(confidence:0.999)> 雄 厚 有 力 \n",
            "Example 431:  对 \u001b[32m<音 色 的 还 原 能 力:Positive(confidence:0.998, ref:Positive)>\u001b[0m 较 好 \n",
            "Example 432:  \u001b[32m<扩 展 性:Positive(confidence:0.998, ref:Positive)>\u001b[0m 强 \n",
            "Example 433:  较 高 的 \u001b[32m<性 价 比:Positive(confidence:0.998, ref:Positive)>\u001b[0m 我 们 也 不 能 忽 视 \n",
            "Example 434:  \u001b[32m<屏 幕 分 辨 率:Negative(confidence:0.995, ref:Negative)>\u001b[0m 低 \n",
            "Example 435:  因 此 使 得 \u001b[32m<屏 幕 画 面:Negative(confidence:0.996, ref:Negative)>\u001b[0m 不 够 精 细 \n",
            "Example 436:  \u001b[32m<整 机 做 工:Negative(confidence:0.996, ref:Negative)>\u001b[0m 不 够 精 细 \n",
            "Example 437:  部 分 机 子 的 外 壳 之 间 的 \u001b[32m<连 接 处 缝 隙:Negative(confidence:0.997, ref:Negative)>\u001b[0m 过 大 \n",
            "Example 438: 具 体 表 现 在 接 电 话 一 方 听 到 说 话 方 周 围 <<噪 音:Negative(confidence:0.997)>:Negative(confidence:0.997)> 过 大 且 <<噪 音:Negative(confidence:0.997)>:Negative(confidence:0.997)> 和 通 话 声 音 在 一 个 层 面 上 \n",
            "Example 439:  \u001b[32m<画 面 色 彩:Positive(confidence:0.998, ref:Positive)>\u001b[0m 细 腻 \n",
            "Example 440:  \u001b[32m<短 信 息:Positive(confidence:0.999, ref:Positive)>\u001b[0m 和 彩 信 功 能 都 非 常 实 用 \n",
            "Example 441:  \u001b[32m<操 作:Positive(confidence:0.998, ref:Positive)>\u001b[0m 十 分 简 单 \n",
            "Example 442:  用 的 \u001b[32m<系 统:Positive(confidence:0.999, ref:Positive)>\u001b[0m 还 是 很 稳 定 的 \n",
            "Example 443:  不 过 \u001b[32m<软 件 兼 容 性:Negative(confidence:0.996, ref:Negative)>\u001b[0m 不 好 \n",
            "Example 444:  \u001b[32m<内 存:Negative(confidence:0.994, ref:Negative)>\u001b[0m 实 在 小 \n",
            "Example 445:  但 听 起 来 \u001b[32m<效 果:Negative(confidence:0.996, ref:Negative)>\u001b[0m 还 不 是 那 么 理 想 \n",
            "Example 446:  \u001b[32m<噪 点:Negative(confidence:0.988, ref:Negative)>\u001b[0m 多 \n",
            "Example 447:  再 就 是 \u001b[32m<拍 摄 存 储 间 隔 时 间:Negative(confidence:0.996, ref:Negative)>\u001b[0m 太 长 \n",
            "Example 448:  \u001b[32m<外 观 设 计:Positive(confidence:0.998, ref:Positive)>\u001b[0m 的 不 错 \n",
            "Example 449:  \u001b[32m<手 感:Positive(confidence:0.999, ref:Positive)>\u001b[0m 和 屏 幕 效 果 也 还 可 以 \n",
            "Example 450:  \u001b[32m<手 感:Positive(confidence:0.998, ref:Positive)>\u001b[0m 不 错 \n",
            "Example 451:  就 是 \u001b[32m<屏 幕:Negative(confidence:0.996, ref:Negative)>\u001b[0m 感 觉 有 点 暗 \n",
            "Example 452:  摄 像 头 照 出 来 的 \u001b[32m<像 片 效 果:Positive(confidence:0.999, ref:Positive)>\u001b[0m 也 还 可 以 \n",
            "Example 453:  通 话 键 和 关 机 键 的 \u001b[32m<设 计:Positive(confidence:0.999, ref:Positive)>\u001b[0m 新 颖 \n",
            "Example 454:  的 \u001b[32m<按 键 设 计:Positive(confidence:0.999, ref:Positive)>\u001b[0m 人 性 化 非 常 好 \n",
            "Example 455:  就 是 按 键 按 下 去 \u001b[32m<手 感:Negative(confidence:0.996, ref:Negative)>\u001b[0m 不 好 \n",
            "Example 456:  \u001b[32m<设 计:Positive(confidence:0.998, ref:Positive)>\u001b[0m 不 错 \n",
            "Example 457:  \u001b[32m<功 能:Positive(confidence:0.998, ref:Positive)>\u001b[0m 实 用 \n",
            "Example 458:  \u001b[32m<操 作 功 能:Positive(confidence:0.998, ref:Positive)>\u001b[0m 简 单 \n",
            "Example 459:  另 外 就 是 \u001b[32m<内 存:Negative(confidence:0.996, ref:Negative)>\u001b[0m 小 了 点 儿 \n",
            "Example 460:  \u001b[32m<尺 寸:Positive(confidence:0.998, ref:Positive)>\u001b[0m 非 常 合 适 \n",
            "Example 461:  \u001b[32m<滑 盖:Positive(confidence:0.998, ref:Positive)>\u001b[0m 也 很 灵 巧 \n",
            "Example 462:  寸 的 \u001b[32m<显 示 屏 幕:Positive(confidence:0.999, ref:Positive)>\u001b[0m 给 人 感 觉 相 当 的 大 气 \n",
            "Example 463:  \u001b[32m<后 盖:Positive(confidence:0.998, ref:Positive)>\u001b[0m 结 合 也 很 紧 密 \n",
            "Example 464:  这 款 机 子 从 外 观 上 讲 充 分 显 示 出 了 优 秀 精 致 的 \u001b[32m<做 工:Positive(confidence:0.999, ref:Positive)>\u001b[0m  \n",
            "Example 465:  此 机 \u001b[32m<操 作:Positive(confidence:0.998, ref:Positive)>\u001b[0m 很 轻 松 \n",
            "Example 466:  \u001b[32m<快 捷 键:Positive(confidence:0.998, ref:Positive)>\u001b[0m 的 搭 配 也 合 理 \n",
            "Example 467:  \u001b[32m<音 质 方 面:Negative(confidence:0.995, ref:Negative)>\u001b[0m 是 差 了 点 \n",
            "Example 468:  象 素 的 \u001b[32m<摄 象 头:Positive(confidence:0.999, ref:Positive)>\u001b[0m 更 是 一 个 非 常 理 想 的 配 置 \n",
            "Example 469:  \u001b[32m<屏 幕 分 辨:Positive(confidence:0.997, ref:Positive)>\u001b[0m 上 略 胜 一 筹 \n",
            "Example 470:  的 \u001b[32m<铃 声:Positive(confidence:0.974, ref:Positive)>\u001b[0m 个 人 觉 得 还 是 相 当 大 了 \n",
            "Example 471:  \u001b[32m<听 筒 声 音:Positive(confidence:0.993, ref:Positive)>\u001b[0m 也 比 较 大 \n",
            "Example 472:  \u001b[32m<电 话 薄 的 功 能:Negative(confidence:0.995, ref:Negative)>\u001b[0m 就 显 得 很 不 科 学 了 \n",
            "Example 473:  此 机 最 大 的 问 题 便 是 \u001b[32m<触 摸 键:Negative(confidence:0.981, ref:Negative)>\u001b[0m 太 灵 敏 了 \n",
            "Example 474:  \u001b[32m<拍 照 效 果:Positive(confidence:0.998, ref:Positive)>\u001b[0m 不 错 \n",
            "Example 475:  \u001b[32m<外 观:Positive(confidence:0.998, ref:Positive)>\u001b[0m 吸 引 人 \n",
            "Example 476:  \u001b[32m<同 步 效 果:Positive(confidence:0.998, ref:Positive)>\u001b[0m 相 当 不 错 \n",
            "Example 477:  立 体 声 耳 机 \u001b[32m<音 质:Positive(confidence:0.999, ref:Positive)>\u001b[0m 非 常 好 \n",
            "Example 478:  也 是 一 个 \u001b[32m<品 质:Positive(confidence:0.999, ref:Positive)>\u001b[0m 不 错 的 \n",
            "Example 479:  开 机 读 卡 \u001b[32m<速 度:Negative(confidence:0.995, ref:Negative)>\u001b[0m 比 较 慢 \n",
            "Example 480:  \u001b[32m<性 价 比:Positive(confidence:0.998, ref:Positive)>\u001b[0m 高 \n",
            "Example 481:  \u001b[32m<软 件:Positive(confidence:0.998, ref:Positive)>\u001b[0m 使 用 还 可 以 \n",
            "Example 482:  要 说 的 是 \u001b[32m<转 接 线 质 量:Negative(confidence:0.996, ref:Negative)>\u001b[0m 不 好 \n",
            "Example 483: 随 机 配 的 <<播 放 器:Positive(confidence:0.999)>:Positive(confidence:0.999)> 感 觉 比 里 的 <<播 放 器:Positive(confidence:0.999)>:Positive(confidence:0.999)> 好 一 些 \n",
            "Example 484:  感 觉 \u001b[32m<音 乐 目 录:Negative(confidence:0.996, ref:Negative)>\u001b[0m 有 点 乱 \n",
            "Example 485:  \u001b[32m<手 感:Positive(confidence:0.998, ref:Positive)>\u001b[0m 细 腻 \n",
            "Example 486:  \u001b[32m<做 工:Positive(confidence:0.998, ref:Positive)>\u001b[0m 出 色 \n",
            "Example 487:  \u001b[32m<按 键 手 感:Positive(confidence:0.998, ref:Positive)>\u001b[0m 很 好 \n",
            "Example 488:  传 承 了 三 星 经 典 \u001b[32m<滑 盖 设 计:Positive(confidence:0.999, ref:Positive)>\u001b[0m  \n",
            "Example 489:  她 万 色 的 高 清 晰 的 \u001b[32m<液 晶 屏:Positive(confidence:0.999, ref:Positive)>\u001b[0m  \n",
            "Example 490:  还 是 从 \u001b[32m<色 彩:Positive(confidence:0.998, ref:Positive)>\u001b[0m 上 都 让 人 怦 然 心 动 \n",
            "Example 491:  \u001b[32m<声 音:Positive(confidence:0.998, ref:Positive)>\u001b[0m 优 美 动 听 \n",
            "Example 492:  同 时 具 有 强 大 的 \u001b[32m<多 媒 体 功 能:Positive(confidence:0.999, ref:Positive)>\u001b[0m  \n",
            "Example 493:  电 话 本 更 是 具 有 条 的 大 容 量 \u001b[32m<存 储:Positive(confidence:0.999, ref:Positive)>\u001b[0m  \n",
            "Example 494:  但 实 际 使 用 中 \u001b[32m<按 键:Negative(confidence:0.996, ref:Negative)>\u001b[0m 偏 小 \n",
            "Example 495:  \u001b[32m<操 纵:Negative(confidence:0.99, ref:Negative)>\u001b[0m 不 方 便 \n",
            "Example 496:  \u001b[32m<整 机:Negative(confidence:0.993, ref:Negative)>\u001b[0m 也 偏 小 一 点 \n",
            "Example 497:  \u001b[32m<声 场:Negative(confidence:0.994, ref:Negative)>\u001b[0m 还 是 有 些 局 促 \n",
            "Example 498:  \u001b[32m<空 间 感:Negative(confidence:0.994, ref:Negative)>\u001b[0m 不 强 \n",
            "Example 499:  \u001b[32m<样 子:Positive(confidence:0.997, ref:Positive)>\u001b[0m 讨 人 喜 欢 \n",
            "Example 500:  也 就 是 说 \u001b[32m<红 外 线 的 操 作:Positive(confidence:0.999, ref:Positive)>\u001b[0m 简 单 易 用 \n",
            "Example 501:  \u001b[32m<来 电 防 火 墙 功 能:Positive(confidence:0.998, ref:Positive)>\u001b[0m 挺 强 \n",
            "Example 502:  \u001b[32m<待 机 时 间:Negative(confidence:0.993, ref:Negative)>\u001b[0m 短 \n",
            "Example 503:  \u001b[32m<铃 声:Negative(confidence:0.993, ref:Negative)>\u001b[0m 不 够 大 \n",
            "Example 504:  简 洁 的 流 线 型 \u001b[32m<设 计:Positive(confidence:0.999, ref:Positive)>\u001b[0m 银 翼 合 金 外 壳 质 感 配 以 可 度 旋 转 的 折 叠 式 前 盖 \n",
            "Example 505:  \u001b[32m<做 工:Positive(confidence:0.996, ref:Positive)>\u001b[0m 精 细 \n",
            "Example 506:  选 用 了 极 具 魅 力 的 蓝 色 \u001b[32m<键 盘 背 光 灯:Positive(confidence:0.998, ref:Positive)>\u001b[0m  \n",
            "Example 507:  \u001b[32m<光 线 强 度:Positive(confidence:0.988, ref:Positive)>\u001b[0m 也 较 大 \n",
            "Example 508:  这 款 手 机 的 \u001b[32m<转 轴 的 紧 密 性:Positive(confidence:0.999, ref:Positive)>\u001b[0m 表 现 出 色 \n",
            "Example 509:  整 体 的 \u001b[32m<连 贯 性 能:Positive(confidence:0.999, ref:Positive)>\u001b[0m 表 现 出 色 \n",
            "Example 510:  具 有 丰 富 的 \u001b[32m<中 文 输 入 联 想 功 能:Positive(confidence:0.999, ref:Positive)>\u001b[0m  \n",
            "Example 511:  这 样 的 配 置 使 得 在 \u001b[32m<铃 声 的 表 现 力 方 面:Positive(confidence:0.999, ref:Positive)>\u001b[0m 还 是 比 较 的 丰 富 多 彩 的 \n",
            "Example 512:  \u001b[32m<铃 声:Positive(confidence:0.998, ref:Positive)>\u001b[0m 响 亮 清 澈 的 \n",
            "Example 513:  \u001b[32m<音 色:Positive(confidence:0.998, ref:Positive)>\u001b[0m 纯 正 而 丰 富 \n",
            "Example 514:  手 机 预 置 的 \u001b[31m<游 戏 数 量:Negative(confidence:0.996, ref:Positive)>\u001b[0m 和 质 量 都 显 得 比 较 一 般 \n",
            "Example 515:  \u001b[31m<整 体 的 游 戏 娱 乐 性:Negative(confidence:0.994, ref:Positive)>\u001b[0m 并 不 是 很 强 \n",
            "Example 516:  \u001b[32m<游 戏 的 连 贯 性:Negative(confidence:0.996, ref:Negative)>\u001b[0m 也 表 现 一 般 \n",
            "Example 517:  \u001b[32m<整 体 的 操 控 性 能:Negative(confidence:0.996, ref:Negative)>\u001b[0m 表 现 平 平 \n",
            "Example 518:  的 \u001b[32m<价 位:Positive(confidence:0.996, ref:Positive)>\u001b[0m 是 比 较 合 理 的 \n",
            "Example 519:  而 且 \u001b[32m<音 质:Positive(confidence:0.998, ref:Positive)>\u001b[0m 也 是 可 以 的 \n",
            "Example 520:  \u001b[32m<来 电 铃 声:Positive(confidence:0.998, ref:Positive)>\u001b[0m 超 大 \n",
            "Example 521:  其 次 手 机 的 \u001b[32m<手 感:Positive(confidence:0.998, ref:Positive)>\u001b[0m 和 质 量 让 人 放 心 \n",
            "Example 522:  \u001b[31m<手 机:Negative(confidence:0.927, ref:Positive)>\u001b[0m 不 算 大 \n",
            "Example 523:  \u001b[32m<华 盖:Positive(confidence:0.999, ref:Positive)>\u001b[0m 也 很 设 计 的 也 很 好 \n",
            "Example 524:  \u001b[32m<功 能:Positive(confidence:0.998, ref:Positive)>\u001b[0m 很 强 大 \n",
            "Example 525:  \u001b[32m<容 量:Positive(confidence:0.998, ref:Positive)>\u001b[0m 超 大 \n",
            "Example 526:  再 此 \u001b[32m<铃 声 效 果:Positive(confidence:0.999, ref:Positive)>\u001b[0m 很 不 错 \n",
            "Example 527:  所 以 感 觉 \u001b[32m<音 质:Positive(confidence:0.999, ref:Positive)>\u001b[0m 很 不 错 \n",
            "Example 528:  而 且 \u001b[32m<铃 声:Positive(confidence:0.997, ref:Positive)>\u001b[0m 很 大 \n",
            "Example 529:  \u001b[32m<信 号:Positive(confidence:0.998, ref:Positive)>\u001b[0m 很 强 \n",
            "Example 530:  \u001b[32m<夜 间 拍 摄 效 果:Negative(confidence:0.994, ref:Negative)>\u001b[0m 不 好 \n",
            "Example 531:  \u001b[32m<按 键 的 声 音:Positive(confidence:0.559, ref:Positive)>\u001b[0m 大 \n",
            "Example 532:  凭 借 其 大 气 硬 朗 的 \u001b[32m<外 观 设 计:Positive(confidence:0.999, ref:Positive)>\u001b[0m  \n",
            "Example 533:  超 薄 苗 条 的 \u001b[32m<身 材:Positive(confidence:0.979, ref:Positive)>\u001b[0m  \n",
            "Example 534:  强 大 的 \u001b[32m<商 务 娱 乐 功 能:Positive(confidence:0.999, ref:Positive)>\u001b[0m  \n",
            "Example 535:  \u001b[32m<外 观:Positive(confidence:0.998, ref:Positive)>\u001b[0m 轻 盈 \n",
            "Example 536:  \u001b[32m<做 工:Positive(confidence:0.996, ref:Positive)>\u001b[0m 精 细 \n",
            "Example 537:  \u001b[32m<选 料:Positive(confidence:0.998, ref:Positive)>\u001b[0m 上 乘 \n",
            "Example 538:  该 机 采 用 了 一 块 英 寸 万 色 高 \u001b[32m<分 辨 率:Positive(confidence:0.999, ref:Positive)>\u001b[0m 屏 幕 \n",
            "Example 539:  \u001b[32m<色 彩:Positive(confidence:0.998, ref:Positive)>\u001b[0m 鲜 明 细 腻 \n",
            "Example 540:  \u001b[32m<层 次 感:Positive(confidence:0.998, ref:Positive)>\u001b[0m 不 错 \n",
            "Example 541:  \u001b[32m<显 示 效 果:Positive(confidence:0.998, ref:Positive)>\u001b[0m 十 分 明 显 \n",
            "Example 542:  强 大 的 \u001b[32m<商 务 功 能:Positive(confidence:0.998, ref:Positive)>\u001b[0m  \n",
            "Example 543:  强 大 的 \u001b[32m<娱 乐 休 闲 功 能:Positive(confidence:0.999, ref:Positive)>\u001b[0m  \n",
            "Example 544:  本 机 采 用 主 流 的 \u001b[32m<和 弦 铃 声:Positive(confidence:0.998, ref:Positive)>\u001b[0m  \n",
            "Example 545:  使 拍 照 时 \u001b[32m<手 机 持 握 感:Positive(confidence:0.998, ref:Positive)>\u001b[0m 很 强 \n",
            "Example 546:  \u001b[32m<按 键 手 感:Negative(confidence:0.994, ref:Negative)>\u001b[0m 差 \n",
            "Example 547:  \u001b[32m<按 键 灵 敏 度:Negative(confidence:0.995, ref:Negative)>\u001b[0m 差 \n",
            "Example 548:  手 机 的 \u001b[32m<音 质 中 频:Positive(confidence:0.999, ref:Positive)>\u001b[0m 表 现 还 可 以 \n",
            "Example 549:  \u001b[32m<低 频 和 高 频 部 分:Negative(confidence:0.997, ref:Negative)>\u001b[0m 表 现 就 稍 差 \n",
            "Example 550:  \u001b[32m<电 池 续 航 能 力:Negative(confidence:0.996, ref:Negative)>\u001b[0m 差 \n",
            "Example 551:  \u001b[32m<笔 尖:Negative(confidence:0.988, ref:Negative)>\u001b[0m 太 细 \n",
            "Example 552:  \u001b[32m<笔 尖 和 保 护 贴:Negative(confidence:0.996, ref:Negative)>\u001b[0m 之 间 有 点 涩 \n",
            "Example 553:  \u001b[32m<菜 单 反 应 速 度:Negative(confidence:0.996, ref:Negative)>\u001b[0m 不 如 预 想 的 快 \n",
            "Example 554:  \u001b[32m<拍 摄 效 果:Negative(confidence:0.988, ref:Negative)>\u001b[0m 果 然 是 差 \n",
            "Example 555:  \u001b[32m<彩 屏:Negative(confidence:0.995, ref:Negative)>\u001b[0m 稍 偏 暗 些 \n",
            "Example 556:  \u001b[32m<系 统 的 反 应 速 度:Negative(confidence:0.996, ref:Negative)>\u001b[0m 会 又 慢 一 点 \n",
            "Example 557:  \u001b[32m<手 写 笔:Positive(confidence:0.997, ref:Positive)>\u001b[0m 粗 细 适 中 \n",
            "Example 558:  \u001b[32m<手 感:Positive(confidence:0.998, ref:Positive)>\u001b[0m 不 错 \n",
            "Example 559:  但 是 \u001b[32m<书 写 时 手 感:Negative(confidence:0.996, ref:Negative)>\u001b[0m 既 涩 且 硬 \n",
            "Example 560:  \u001b[32m<操 作:Positive(confidence:0.998, ref:Positive)>\u001b[0m 巨 爽 \n",
            "Example 561:  \u001b[32m<摇 杆 操 作:Positive(confidence:0.998, ref:Positive)>\u001b[0m 灵 活 \n",
            "Example 562:  我 \u001b[32m<发 短 信 的 速 度:Positive(confidence:0.999, ref:Positive)>\u001b[0m 还 是 很 快 的 \n",
            "Example 563:  发 短 信 打 字 用 \u001b[32m<笔 划 速 度:Positive(confidence:0.999, ref:Positive)>\u001b[0m 比 三 星 还 要 快 \n",
            "Example 564:  \u001b[32m<听 筒 音 量:Negative(confidence:0.995, ref:Negative)>\u001b[0m 偏 小 \n",
            "Example 565:  \u001b[32m<菜 单 响 应 速 度:Negative(confidence:0.995, ref:Negative)>\u001b[0m 较 慢 \n",
            "Example 566:  \u001b[32m<信 号:Negative(confidence:0.994, ref:Negative)>\u001b[0m 不 好 \n",
            "Example 567:  \u001b[32m<抢 线 速 度:Negative(confidence:0.994, ref:Negative)>\u001b[0m 慢 \n",
            "Example 568:  \u001b[32m<夜 景 拍 摄 效 果:Negative(confidence:0.996, ref:Negative)>\u001b[0m 较 差 \n",
            "Example 569:  \u001b[32m<红 外 数 据 交 换 速 度:Negative(confidence:0.996, ref:Negative)>\u001b[0m 太 慢 \n",
            "Example 570:  \u001b[32m<声 音:Negative(confidence:0.986, ref:Negative)>\u001b[0m 确 实 小 \n",
            "Example 571:  \u001b[32m<铃 声:Negative(confidence:0.996, ref:Negative)>\u001b[0m 和 通 话 的 声 音 小 \n",
            "Example 572:  \u001b[32m<外 观:Positive(confidence:0.997, ref:Positive)>\u001b[0m 时 尚 \n",
            "Example 573:  \u001b[32m<质 量:Positive(confidence:0.988, ref:Positive)>\u001b[0m 过 硬 \n",
            "Example 574:  \u001b[32m<做 工:Positive(confidence:0.998, ref:Positive)>\u001b[0m 扎 实 \n",
            "Example 575:  \u001b[32m<机 壳 材 质:Positive(confidence:0.642, ref:Positive)>\u001b[0m 硬 朗 \n",
            "Example 576:  每 个 \u001b[32m<细 节:Positive(confidence:0.998, ref:Positive)>\u001b[0m 都 一 丝 不 苟 \n",
            "Example 577:  \u001b[32m<设 计:Positive(confidence:0.998, ref:Positive)>\u001b[0m 出 色 \n",
            "Example 578:  \u001b[32m<功 能:Positive(confidence:0.998, ref:Positive)>\u001b[0m 实 用 \n",
            "Example 579:  接 听 \u001b[32m<语 音:Positive(confidence:0.998, ref:Positive)>\u001b[0m 清 晰 稳 定 \n",
            "Example 580:  要 知 道 \u001b[32m<信 号:Positive(confidence:0.805, ref:Positive)>\u001b[0m 好 可 是 的 招 牌 \n",
            "Example 581:  \u001b[32m<待 机 时 间:Positive(confidence:0.998, ref:Positive)>\u001b[0m 不 错 \n",
            "Example 582:  \u001b[32m<内 存:Negative(confidence:0.994, ref:Negative)>\u001b[0m 太 小 \n",
            "Example 583:  下 载 的 铃 声 因 固 定 分 配 的 \u001b[32m<存 储 空 间:Negative(confidence:0.996, ref:Negative)>\u001b[0m 小 而 不 完 整 \n",
            "Example 584:  \u001b[32m<性 价 比:Positive(confidence:0.998, ref:Positive)>\u001b[0m 比 较 高 \n",
            "Example 585:  \u001b[32m<造 型:Positive(confidence:0.998, ref:Positive)>\u001b[0m 比 较 别 致 \n",
            "Example 586:  \u001b[32m<外 表 的 质 感:Positive(confidence:0.999, ref:Positive)>\u001b[0m 也 比 较 上 乘 \n",
            "Example 587:  白 色 的 \u001b[32m<屏 幕 尺 寸:Positive(confidence:0.989, ref:Positive)>\u001b[0m 大 小 适 中 \n",
            "Example 588:  \u001b[32m<屏 幕 保 护 设 置:Positive(confidence:0.999, ref:Positive)>\u001b[0m 简 单 适 用 美 观 \n",
            "Example 589:  \u001b[32m<声 音:Positive(confidence:0.998, ref:Positive)>\u001b[0m 清 晰 \n",
            "Example 590:  \u001b[32m<还 原 度:Positive(confidence:0.998, ref:Positive)>\u001b[0m 好 \n",
            "Example 591:  \u001b[32m<输 入 法:Positive(confidence:0.998, ref:Positive)>\u001b[0m 简 单 好 用 \n",
            "Example 592:  屏 幕 上 面 的 \u001b[32m<面 积:Negative(confidence:0.995, ref:Negative)>\u001b[0m 过 大 \n",
            "Example 593:  \u001b[32m<数 字 键 盘 设 计 外 形:Positive(confidence:0.998, ref:Positive)>\u001b[0m 别 致 \n",
            "Example 594:  但 \u001b[32m<操 作 性:Negative(confidence:0.995, ref:Negative)>\u001b[0m 较 差 \n",
            "Example 595:  手 机 \u001b[32m<反 应 速 度:Negative(confidence:0.995, ref:Negative)>\u001b[0m 慢 \n",
            "Example 596:  \u001b[32m<通 话 音 量:Negative(confidence:0.996, ref:Negative)>\u001b[0m 不 是 足 够 的 高 \n",
            "Example 597:  \u001b[32m<通 讯 录 容 量:Negative(confidence:0.996, ref:Negative)>\u001b[0m 不 够 大 \n",
            "Example 598:  \u001b[32m<手 机 震 动:Negative(confidence:0.995, ref:Negative)>\u001b[0m 不 够 强 \n",
            "Example 599:  就 是 \u001b[32m<身 材:Negative(confidence:0.572, ref:Negative)>\u001b[0m 要 比 诺 基 亚 憨 厚 的 多 \n",
            "Example 600:  \u001b[32m<机 壳 表 面:Positive(confidence:0.999, ref:Positive)>\u001b[0m 光 滑 细 腻 带 有 金 属 质 感 \n",
            "Example 601:  发 现 它 的 \u001b[32m<信 号:Positive(confidence:0.998, ref:Positive)>\u001b[0m 不 错 \n",
            "Example 602:  \u001b[32m<通 话:Positive(confidence:0.998, ref:Positive)>\u001b[0m 清 晰 明 亮 \n",
            "Example 603:  \u001b[32m<功 能:Positive(confidence:0.998, ref:Positive)>\u001b[0m 也 很 贴 心 \n",
            "Example 604:  在 千 元 左 右 的 手 机 中 摩 托 罗 拉 算 是 \u001b[32m<功 能:Positive(confidence:0.999, ref:Positive)>\u001b[0m 齐 全 的 低 价 位 手 机 \n",
            "Example 605:  小 的 可 怜 的 \u001b[32m<屏 幕:Negative(confidence:0.993, ref:Negative)>\u001b[0m  \n",
            "Example 606:  \u001b[32m<和 旋 铃 声:Negative(confidence:0.988, ref:Negative)>\u001b[0m 假 的 让 人 倒 胃 口 \n",
            "Example 607:  其 他 的 \u001b[32m<按 键:Negative(confidence:0.996, ref:Negative)>\u001b[0m 一 律 为 很 粗 糙 的 那 种 \n",
            "Example 608:  但 由 于 的 \u001b[31m<体 积:Negative(confidence:0.958, ref:Positive)>\u001b[0m 较 小 \n",
            "Example 609:  推 开 滑 盖 后 就 呈 现 出 硕 大 的 \u001b[32m<数 字 键 盘:Positive(confidence:0.999, ref:Positive)>\u001b[0m  \n",
            "Example 610:  的 \u001b[31m<实 际 表 现:Positive(confidence:0.857, ref:Negative)>\u001b[0m 只 能 算 是 中 规 中 矩 \n",
            "Example 611:  虽 然 \u001b[32m<屏 幕 的 细 腻 程 度:Negative(confidence:0.994, ref:Negative)>\u001b[0m 不 高 \n",
            "Example 612:  但 是 \u001b[32m<屏 幕 的 亮 度:Positive(confidence:0.999, ref:Positive)>\u001b[0m 还 是 不 错 的 \n",
            "Example 613:  相 信 可 以 在 一 定 程 度 上 祢 补 \u001b[31m<显 示 效 果:Positive(confidence:0.961, ref:Negative)>\u001b[0m 的 不 足 \n",
            "Example 614:  \u001b[32m<铃 声 穿 透 力:Negative(confidence:0.996, ref:Negative)>\u001b[0m 不 是 很 足 够 \n",
            "Example 615:  \u001b[32m<音 色:Positive(confidence:0.998, ref:Positive)>\u001b[0m 尚 算 清 晰 \n",
            "Example 616:  \u001b[32m<层 次 感:Positive(confidence:0.976, ref:Positive)>\u001b[0m 较 强 \n",
            "Example 617:  总 体 来 讲 的 \u001b[31m<声 音 效 果:Positive(confidence:0.994, ref:Negative)>\u001b[0m 算 是 中 规 中 矩 \n",
            "Example 618:  \u001b[32m<屏 幕:Negative(confidence:0.994, ref:Negative)>\u001b[0m 过 小 \n",
            "Example 619:  \u001b[32m<显 示 效 果:Negative(confidence:0.995, ref:Negative)>\u001b[0m 一 般 \n",
            "Example 620:  \u001b[32m<拍 照 效 果:Negative(confidence:0.985, ref:Negative)>\u001b[0m 不 甚 理 想 \n",
            "Example 621:  是 系 列 里 \u001b[32m<做 工:Positive(confidence:0.999, ref:Positive)>\u001b[0m 最 好 的 手 机 了 \n",
            "Example 622:  紧 凑 的 \u001b[32m<按 键 设 计:Positive(confidence:0.997, ref:Positive)>\u001b[0m  \n",
            "Example 623:  \u001b[32m<做 工:Positive(confidence:0.998, ref:Positive)>\u001b[0m 令 人 满 意 \n",
            "Example 624:  \u001b[32m<手 感:Positive(confidence:0.998, ref:Positive)>\u001b[0m 很 好 \n",
            "Example 625:  这 个 \u001b[32m<体 积:Positive(confidence:0.995, ref:Positive)>\u001b[0m 已 经 是 很 理 想 的 了 \n",
            "Example 626:  \u001b[32m<通 话 效 果:Positive(confidence:0.998, ref:Positive)>\u001b[0m 不 错 \n",
            "Example 627:  \u001b[32m<话 音:Positive(confidence:0.998, ref:Positive)>\u001b[0m 清 晰 饱 满 \n",
            "Example 628:  室 内 室 外 \u001b[32m<通 话:Positive(confidence:0.999, ref:Positive)>\u001b[0m 均 十 分 清 晰 \n",
            "Example 629:  \u001b[32m<色 彩 表 现 力:Positive(confidence:0.998, ref:Positive)>\u001b[0m 极 强 \n",
            "Example 630:  金 属 \u001b[32m<外 壳:Positive(confidence:0.998, ref:Positive)>\u001b[0m 当 然 很 值 得 一 提 啦 \n",
            "Example 631:  \u001b[32m<来 电 防 火 墙:Positive(confidence:0.999, ref:Positive)>\u001b[0m 非 常 好 用 \n",
            "Example 632:  听 看 小 电 影 \u001b[32m<音 质:Positive(confidence:0.998, ref:Positive)>\u001b[0m 音 量 还 可 以 啦 \n",
            "Example 633:  \u001b[31m<机 械 感:Negative(confidence:0.964, ref:Positive)>\u001b[0m 比 较 强 \n",
            "Example 634:  \u001b[32m<天 线 折 叠:Positive(confidence:0.996, ref:Positive)>\u001b[0m 是 个 创 意 \n",
            "Example 635:  机 身 可 使 用 \u001b[32m<内 存:Negative(confidence:0.996, ref:Negative)>\u001b[0m 太 少 了 \n",
            "Example 636:  \u001b[32m<手 写 笔:Negative(confidence:0.995, ref:Negative)>\u001b[0m 太 轻 太 短 \n",
            "Example 637:  \u001b[32m<整 体 外 观:Positive(confidence:0.998, ref:Positive)>\u001b[0m 显 得 比 较 柔 和 \n",
            "Example 638:  \u001b[32m<手 感:Positive(confidence:0.998, ref:Positive)>\u001b[0m 也 相 当 好 \n",
            "Example 639:  \u001b[32m<铃 声 种 类:Positive(confidence:0.998, ref:Positive)>\u001b[0m 丰 富 多 彩 \n",
            "Example 640:  \u001b[32m<音 色:Positive(confidence:0.998, ref:Positive)>\u001b[0m 纯 正 而 丰 富 \n",
            "Example 641:  这 个 \u001b[32m<功 能:Positive(confidence:0.999, ref:Positive)>\u001b[0m 还 是 十 分 的 方 便 实 用 的 \n",
            "Example 642:  所 以 \u001b[31m<整 体 色 彩:Negative(confidence:0.995, ref:Positive)>\u001b[0m 表 现 一 般 \n",
            "Example 643:  \u001b[32m<整 体 亮 度:Negative(confidence:0.996, ref:Negative)>\u001b[0m 稍 显 不 足 \n",
            "Example 644:  虽 然 这 两 款 \u001b[32m<游 戏 的 可 玩 性:Positive(confidence:0.998, ref:Positive)>\u001b[0m 尚 可 \n",
            "Example 645:  但 \u001b[32m<整 体 的 娱 乐 性:Negative(confidence:0.995, ref:Negative)>\u001b[0m 还 是 比 较 单 调 的 \n",
            "Example 646:  小 巧 玲 珑 的 \u001b[32m<机 身:Positive(confidence:0.998, ref:Positive)>\u001b[0m  \n",
            "Example 647:  \u001b[32m<做 工:Positive(confidence:0.998, ref:Positive)>\u001b[0m 出 色 \n",
            "Example 648:  \u001b[32m<缝 隙:Positive(confidence:0.995, ref:Positive)>\u001b[0m 小 \n",
            "Example 649:  \u001b[32m<机 身:Positive(confidence:0.998, ref:Positive)>\u001b[0m 契 合 严 密 \n",
            "Example 650:  \u001b[32m<烤 漆:Positive(confidence:0.998, ref:Positive)>\u001b[0m 处 理 精 致 \n",
            "Example 651:  \u001b[32m<软 件:Positive(confidence:0.998, ref:Positive)>\u001b[0m 人 性 化 \n",
            "Example 652:  \u001b[32m<菜 单:Positive(confidence:0.998, ref:Positive)>\u001b[0m 也 好 看 \n",
            "inference result saved in: /content/apc_inference.result.json\n",
            "Total samples:657\n",
            "Labeled samples:649\n",
            "Prediction Accuracy:96.45608628659475%\n"
          ]
        },
        {
          "output_type": "stream",
          "name": "stderr",
          "text": [
            "\n"
          ]
        }
      ]
    },
    {
      "cell_type": "markdown",
      "source": [
        "# Train a model (Fast-LCF) for Aspect-based sentiment classification \n",
        "## We dont run a training on Colab as it is too slow"
      ],
      "metadata": {
        "id": "92HnK48gVAUA"
      }
    },
    {
      "cell_type": "code",
      "source": [
        "from pyabsa.framework import Trainer\n",
        "from pyabsa.framework import APCConfigManager\n",
        "from pyabsa.framework import ABSADatasetList\n",
        "from pyabsa.framework import APCModelList\n",
        "\n",
        "apc_config_english = APCConfigManager.get_apc_config_english()\n",
        "apc_config_english.model = APCModelList.FAST_LCF_BERT\n",
        "apc_config_english.num_epoch = 1\n",
        "apc_config_english.evaluate_begin = 0\n",
        "apc_config_english.pretrained_bert = 'yangheng/deberta-v3-base-absa-v1.1'\n",
        "apc_config_english.similarity_threshold = 1\n",
        "apc_config_english.max_seq_len = 80\n",
        "apc_config_english.dropout = 0.5\n",
        "apc_config_english.seed = 2672\n",
        "apc_config_english.log_step = 50\n",
        "apc_config_english.l2reg = 1e-8\n",
        "apc_config_english.dynamic_truncate = True\n",
        "apc_config_english.srd_alignment = True\n",
        "\n",
        "Dataset = ABSADatasetList.Laptop14\n",
        "sent_classifier = Trainer(config=apc_config_english,\n",
        "               dataset=Dataset,\n",
        "               checkpoint_save_mode=0,\n",
        "               auto_device=True\n",
        "               ).load_trained_model()"
      ],
      "metadata": {
        "id": "ARQlooDZVrtV",
        "colab": {
          "base_uri": "https://localhost:8080/",
          "height": 1000,
          "referenced_widgets": [
            "f1f25e7276254bd7ab5316e09ae962f4",
            "a224d2aa531b4ce38c54ba3cba02ba3a",
            "6617cf4c5965443a8cb5be9b17e8933f",
            "63e37448eac54135ab81350fa3eab83a",
            "efcd5fce0e554ce0baf20cd0360b1a43",
            "e09ea85a04904d85821c3db7487555cc",
            "7c30e05e244c495e9c143c5f0310f226",
            "0b511f5e0097420e8d5abc689fb68cb3",
            "3f5b64f87a824b1fba8e7b69a8481e94",
            "0e18a0b9d58d4bf39af03bd85ef73c53",
            "5fd6af88c29d47b9afc39b96ea7a9b62",
            "36cf1006fd204677bfcb03c55f5c93af",
            "86b7d0a6969249f994ec09af8aabb237",
            "78aac717779e4a018a75b0ef0b816c7a",
            "f7ba5bd193c74b0db1b8f330fd010eab",
            "3f13f8e2b2b34ee291c03ff8baeda5a6",
            "ba7532c6a9f24a5eb08c0dd11a88e8e8",
            "be6ae2fa3a0d43e8b64bb4929e813b1f",
            "7d4591c6199b48cb8747475362483f64",
            "128cca771bd94fc28f340bb3663d9bc5",
            "92b86dca09474d618f03498a2584cf6f",
            "49d6e097a574481c8f76bd578b30a20c",
            "b1cc39224f2f4d62acf29f352d39e077",
            "526dca849b2748b58488a410863984cd",
            "7312be4804d646098f33382d1d529e3b",
            "6f427782fbf54956a62a3d53b2226c2d",
            "c986ebd6e3c4487c8cfd126768beb648",
            "13cbb0c6005442acab93099f8f40259d",
            "4de77fd7402443758ed71244b65f69e8",
            "37fb616d1eea4ca9b79656c90f2ed6ee",
            "2565991b822f4e01b2815ee1d2345c12",
            "9ff7a629c7b442429609c0ff541f400f",
            "4548f96425814d00bc6d02fe144e45ed",
            "dd25a898a03740129f65a271d835e722",
            "51e41e10164d48e3aead292129198e38",
            "34d41855cfe245e49f77f818af47d242",
            "82806d73eff8430a9a8b027819d1ef9a",
            "d5be2d6d2ad5465cafa54a8f594a3f3e",
            "97d65d3dc0894e25af8dd8820f3498ea",
            "384246ba720a4bb5af83fe4447557b94",
            "da6a002dad454a9a97948fa42c10a3cb",
            "29b24c74c0ab4bb5973cccb88177dc5e",
            "b9ff9afe95cc46ada29d7c6261f7e69b",
            "afaecdc8b82c46b5b93a13c783eecc0b"
          ]
        },
        "outputId": "33526c80-763d-4e3d-a655-1b87a639eb0e"
      },
      "execution_count": null,
      "outputs": [
        {
          "output_type": "display_data",
          "data": {
            "text/plain": [
              "Downloading config.json:   0%|          | 0.00/579 [00:00<?, ?B/s]"
            ],
            "application/vnd.jupyter.widget-view+json": {
              "version_major": 2,
              "version_minor": 0,
              "model_id": "f1f25e7276254bd7ab5316e09ae962f4"
            }
          },
          "metadata": {}
        },
        {
          "output_type": "stream",
          "name": "stdout",
          "text": [
            "Remote ABSADataset version: 2022.07.22 Local ABSADatasets version: None\n",
            "Unknown local version for ABSADatasets, please check the latest version of ABSADatasets at https://github.com/yangheng95/ABSADatasets\n",
            "Dataset is not a path, treat dataset as keywords to Load 113.Laptop14 from: 113.Laptop14 or Search https://github.com/yangheng95/ABSADatasets locally using findfile\n",
            "Clone ABSADatasets from https://github.com/yangheng95/ABSADatasets.git\n",
            "\u001b[32mYou can set load_aug=True in a trainer to augment your dataset (English only yet) and improve performance.\u001b[0m\n",
            "\u001b[32mPlease use a new folder to perform new text augmentation if the former augmentation exited unexpectedly\u001b[0m\n"
          ]
        },
        {
          "output_type": "display_data",
          "data": {
            "text/plain": [
              "Downloading tokenizer_config.json:   0%|          | 0.00/52.0 [00:00<?, ?B/s]"
            ],
            "application/vnd.jupyter.widget-view+json": {
              "version_major": 2,
              "version_minor": 0,
              "model_id": "36cf1006fd204677bfcb03c55f5c93af"
            }
          },
          "metadata": {}
        },
        {
          "output_type": "display_data",
          "data": {
            "text/plain": [
              "Downloading spm.model:   0%|          | 0.00/2.35M [00:00<?, ?B/s]"
            ],
            "application/vnd.jupyter.widget-view+json": {
              "version_major": 2,
              "version_minor": 0,
              "model_id": "b1cc39224f2f4d62acf29f352d39e077"
            }
          },
          "metadata": {}
        },
        {
          "output_type": "stream",
          "name": "stderr",
          "text": [
            "Special tokens have been added in the vocabulary, make sure the associated word embeddings are fine-tuned or trained.\n",
            "/usr/local/lib/python3.7/dist-packages/transformers/convert_slow_tokenizer.py:435: UserWarning: The sentencepiece tokenizer that you are converting to a fast tokenizer uses the byte fallback option which is not implemented in the fast tokenizers. In practice this means that the fast version of the tokenizer can produce unknown tokens whereas the sentencepiece version would have converted these unknown tokens into a sequence of byte tokens matching the original piece of text.\n",
            "  \"The sentencepiece tokenizer that you are converting to a fast tokenizer uses the byte fallback option\"\n",
            "Special tokens have been added in the vocabulary, make sure the associated word embeddings are fine-tuned or trained.\n"
          ]
        },
        {
          "output_type": "display_data",
          "data": {
            "text/plain": [
              "Downloading pytorch_model.bin:   0%|          | 0.00/354M [00:00<?, ?B/s]"
            ],
            "application/vnd.jupyter.widget-view+json": {
              "version_major": 2,
              "version_minor": 0,
              "model_id": "dd25a898a03740129f65a271d835e722"
            }
          },
          "metadata": {}
        },
        {
          "output_type": "stream",
          "name": "stderr",
          "text": [
            "Some weights of the model checkpoint at yangheng/deberta-v3-base-absa-v1.1 were not used when initializing DebertaV2Model: ['mask_predictions.LayerNorm.bias', 'lm_predictions.lm_head.LayerNorm.bias', 'mask_predictions.dense.weight', 'lm_predictions.lm_head.bias', 'lm_predictions.lm_head.dense.bias', 'mask_predictions.dense.bias', 'mask_predictions.classifier.bias', 'mask_predictions.LayerNorm.weight', 'lm_predictions.lm_head.LayerNorm.weight', 'mask_predictions.classifier.weight', 'lm_predictions.lm_head.dense.weight']\n",
            "- This IS expected if you are initializing DebertaV2Model from the checkpoint of a model trained on another task or with another architecture (e.g. initializing a BertForSequenceClassification model from a BertForPreTraining model).\n",
            "- This IS NOT expected if you are initializing DebertaV2Model from the checkpoint of a model that you expect to be exactly identical (initializing a BertForSequenceClassification model from a BertForSequenceClassification model).\n"
          ]
        },
        {
          "output_type": "stream",
          "name": "stdout",
          "text": [
            "loading: integrated_datasets/apc_datasets/110.SemEval/113.laptop14/Laptops_Train.xml.seg\n"
          ]
        },
        {
          "output_type": "stream",
          "name": "stderr",
          "text": [
            "100%|██████████| 2328/2328 [00:02<00:00, 1152.50it/s, preparing dataloader...]\n"
          ]
        },
        {
          "output_type": "stream",
          "name": "stdout",
          "text": [
            "Dataset Label Details: {'Positive': 994, 'Neutral': 464, 'Negative': 870, 'Sum': 2328}\n",
            "loading: integrated_datasets/apc_datasets/110.SemEval/113.laptop14/Laptops_Test_Gold.xml.seg\n"
          ]
        },
        {
          "output_type": "stream",
          "name": "stderr",
          "text": [
            "100%|██████████| 638/638 [00:00<00:00, 1198.72it/s, preparing dataloader...]\n"
          ]
        },
        {
          "output_type": "stream",
          "name": "stdout",
          "text": [
            "Dataset Label Details: {'Positive': 341, 'Neutral': 169, 'Negative': 128, 'Sum': 638}\n",
            "\u001b[31mCaching dataset... please remove cached dataset if any problem happens.\u001b[0m\n",
            "2022-09-11 13:27:34,876 INFO: cuda memory allocated:1893217280\n"
          ]
        },
        {
          "output_type": "stream",
          "name": "stderr",
          "text": [
            "INFO:fast_lcf_bert:cuda memory allocated:1893217280\n"
          ]
        },
        {
          "output_type": "stream",
          "name": "stdout",
          "text": [
            "2022-09-11 13:27:34,879 INFO: ABSADatasetsVersion:None\t-->\tCalling Count:0\n"
          ]
        },
        {
          "output_type": "stream",
          "name": "stderr",
          "text": [
            "INFO:fast_lcf_bert:ABSADatasetsVersion:None\t-->\tCalling Count:0\n"
          ]
        },
        {
          "output_type": "stream",
          "name": "stdout",
          "text": [
            "2022-09-11 13:27:34,884 INFO: MV:<metric_visualizer.metric_visualizer.MetricVisualizer object at 0x7fea680f5a50>\t-->\tCalling Count:0\n"
          ]
        },
        {
          "output_type": "stream",
          "name": "stderr",
          "text": [
            "INFO:fast_lcf_bert:MV:<metric_visualizer.metric_visualizer.MetricVisualizer object at 0x7fea680f5a50>\t-->\tCalling Count:0\n"
          ]
        },
        {
          "output_type": "stream",
          "name": "stdout",
          "text": [
            "2022-09-11 13:27:34,894 INFO: PyABSAVersion:1.16.16\t-->\tCalling Count:0\n"
          ]
        },
        {
          "output_type": "stream",
          "name": "stderr",
          "text": [
            "INFO:fast_lcf_bert:PyABSAVersion:1.16.16\t-->\tCalling Count:0\n"
          ]
        },
        {
          "output_type": "stream",
          "name": "stdout",
          "text": [
            "2022-09-11 13:27:34,902 INFO: SRD:3\t-->\tCalling Count:2966\n"
          ]
        },
        {
          "output_type": "stream",
          "name": "stderr",
          "text": [
            "INFO:fast_lcf_bert:SRD:3\t-->\tCalling Count:2966\n"
          ]
        },
        {
          "output_type": "stream",
          "name": "stdout",
          "text": [
            "2022-09-11 13:27:34,907 INFO: TorchVersion:1.12.1+cu113+cuda11.3\t-->\tCalling Count:0\n"
          ]
        },
        {
          "output_type": "stream",
          "name": "stderr",
          "text": [
            "INFO:fast_lcf_bert:TorchVersion:1.12.1+cu113+cuda11.3\t-->\tCalling Count:0\n"
          ]
        },
        {
          "output_type": "stream",
          "name": "stdout",
          "text": [
            "2022-09-11 13:27:34,911 INFO: TransformersVersion:4.21.3\t-->\tCalling Count:0\n"
          ]
        },
        {
          "output_type": "stream",
          "name": "stderr",
          "text": [
            "INFO:fast_lcf_bert:TransformersVersion:4.21.3\t-->\tCalling Count:0\n"
          ]
        },
        {
          "output_type": "stream",
          "name": "stdout",
          "text": [
            "2022-09-11 13:27:34,913 INFO: auto_device:True\t-->\tCalling Count:1\n"
          ]
        },
        {
          "output_type": "stream",
          "name": "stderr",
          "text": [
            "INFO:fast_lcf_bert:auto_device:True\t-->\tCalling Count:1\n"
          ]
        },
        {
          "output_type": "stream",
          "name": "stdout",
          "text": [
            "2022-09-11 13:27:34,916 INFO: batch_size:16\t-->\tCalling Count:2\n"
          ]
        },
        {
          "output_type": "stream",
          "name": "stderr",
          "text": [
            "INFO:fast_lcf_bert:batch_size:16\t-->\tCalling Count:2\n"
          ]
        },
        {
          "output_type": "stream",
          "name": "stdout",
          "text": [
            "2022-09-11 13:27:34,922 INFO: cache_dataset:True\t-->\tCalling Count:1\n"
          ]
        },
        {
          "output_type": "stream",
          "name": "stderr",
          "text": [
            "INFO:fast_lcf_bert:cache_dataset:True\t-->\tCalling Count:1\n"
          ]
        },
        {
          "output_type": "stream",
          "name": "stdout",
          "text": [
            "2022-09-11 13:27:34,924 INFO: cross_validate_fold:-1\t-->\tCalling Count:1\n"
          ]
        },
        {
          "output_type": "stream",
          "name": "stderr",
          "text": [
            "INFO:fast_lcf_bert:cross_validate_fold:-1\t-->\tCalling Count:1\n"
          ]
        },
        {
          "output_type": "stream",
          "name": "stdout",
          "text": [
            "2022-09-11 13:27:34,933 INFO: dataset_file:{'train': ['integrated_datasets/apc_datasets/110.SemEval/113.laptop14/Laptops_Train.xml.seg'], 'test': ['integrated_datasets/apc_datasets/110.SemEval/113.laptop14/Laptops_Test_Gold.xml.seg'], 'valid': []}\t-->\tCalling Count:4\n"
          ]
        },
        {
          "output_type": "stream",
          "name": "stderr",
          "text": [
            "INFO:fast_lcf_bert:dataset_file:{'train': ['integrated_datasets/apc_datasets/110.SemEval/113.laptop14/Laptops_Train.xml.seg'], 'test': ['integrated_datasets/apc_datasets/110.SemEval/113.laptop14/Laptops_Test_Gold.xml.seg'], 'valid': []}\t-->\tCalling Count:4\n"
          ]
        },
        {
          "output_type": "stream",
          "name": "stdout",
          "text": [
            "2022-09-11 13:27:34,938 INFO: dataset_name:Laptop14\t-->\tCalling Count:3\n"
          ]
        },
        {
          "output_type": "stream",
          "name": "stderr",
          "text": [
            "INFO:fast_lcf_bert:dataset_name:Laptop14\t-->\tCalling Count:3\n"
          ]
        },
        {
          "output_type": "stream",
          "name": "stdout",
          "text": [
            "2022-09-11 13:27:34,947 INFO: dca_layer:3\t-->\tCalling Count:0\n"
          ]
        },
        {
          "output_type": "stream",
          "name": "stderr",
          "text": [
            "INFO:fast_lcf_bert:dca_layer:3\t-->\tCalling Count:0\n"
          ]
        },
        {
          "output_type": "stream",
          "name": "stdout",
          "text": [
            "2022-09-11 13:27:34,949 INFO: dca_p:1\t-->\tCalling Count:0\n"
          ]
        },
        {
          "output_type": "stream",
          "name": "stderr",
          "text": [
            "INFO:fast_lcf_bert:dca_p:1\t-->\tCalling Count:0\n"
          ]
        },
        {
          "output_type": "stream",
          "name": "stdout",
          "text": [
            "2022-09-11 13:27:34,952 INFO: deep_ensemble:False\t-->\tCalling Count:0\n"
          ]
        },
        {
          "output_type": "stream",
          "name": "stderr",
          "text": [
            "INFO:fast_lcf_bert:deep_ensemble:False\t-->\tCalling Count:0\n"
          ]
        },
        {
          "output_type": "stream",
          "name": "stdout",
          "text": [
            "2022-09-11 13:27:34,956 INFO: device:cuda:0\t-->\tCalling Count:6\n"
          ]
        },
        {
          "output_type": "stream",
          "name": "stderr",
          "text": [
            "INFO:fast_lcf_bert:device:cuda:0\t-->\tCalling Count:6\n"
          ]
        },
        {
          "output_type": "stream",
          "name": "stdout",
          "text": [
            "2022-09-11 13:27:34,958 INFO: device_name:Tesla T4\t-->\tCalling Count:0\n"
          ]
        },
        {
          "output_type": "stream",
          "name": "stderr",
          "text": [
            "INFO:fast_lcf_bert:device_name:Tesla T4\t-->\tCalling Count:0\n"
          ]
        },
        {
          "output_type": "stream",
          "name": "stdout",
          "text": [
            "2022-09-11 13:27:34,961 INFO: dlcf_a:2\t-->\tCalling Count:0\n"
          ]
        },
        {
          "output_type": "stream",
          "name": "stderr",
          "text": [
            "INFO:fast_lcf_bert:dlcf_a:2\t-->\tCalling Count:0\n"
          ]
        },
        {
          "output_type": "stream",
          "name": "stdout",
          "text": [
            "2022-09-11 13:27:34,964 INFO: dropout:0.5\t-->\tCalling Count:1\n"
          ]
        },
        {
          "output_type": "stream",
          "name": "stderr",
          "text": [
            "INFO:fast_lcf_bert:dropout:0.5\t-->\tCalling Count:1\n"
          ]
        },
        {
          "output_type": "stream",
          "name": "stdout",
          "text": [
            "2022-09-11 13:27:34,968 INFO: dynamic_truncate:True\t-->\tCalling Count:5932\n"
          ]
        },
        {
          "output_type": "stream",
          "name": "stderr",
          "text": [
            "INFO:fast_lcf_bert:dynamic_truncate:True\t-->\tCalling Count:5932\n"
          ]
        },
        {
          "output_type": "stream",
          "name": "stdout",
          "text": [
            "2022-09-11 13:27:34,971 INFO: embed_dim:768\t-->\tCalling Count:3\n"
          ]
        },
        {
          "output_type": "stream",
          "name": "stderr",
          "text": [
            "INFO:fast_lcf_bert:embed_dim:768\t-->\tCalling Count:3\n"
          ]
        },
        {
          "output_type": "stream",
          "name": "stdout",
          "text": [
            "2022-09-11 13:27:34,974 INFO: eta:-1\t-->\tCalling Count:0\n"
          ]
        },
        {
          "output_type": "stream",
          "name": "stderr",
          "text": [
            "INFO:fast_lcf_bert:eta:-1\t-->\tCalling Count:0\n"
          ]
        },
        {
          "output_type": "stream",
          "name": "stdout",
          "text": [
            "2022-09-11 13:27:34,977 INFO: eta_lr:0.01\t-->\tCalling Count:0\n"
          ]
        },
        {
          "output_type": "stream",
          "name": "stderr",
          "text": [
            "INFO:fast_lcf_bert:eta_lr:0.01\t-->\tCalling Count:0\n"
          ]
        },
        {
          "output_type": "stream",
          "name": "stdout",
          "text": [
            "2022-09-11 13:27:34,980 INFO: evaluate_begin:0\t-->\tCalling Count:0\n"
          ]
        },
        {
          "output_type": "stream",
          "name": "stderr",
          "text": [
            "INFO:fast_lcf_bert:evaluate_begin:0\t-->\tCalling Count:0\n"
          ]
        },
        {
          "output_type": "stream",
          "name": "stdout",
          "text": [
            "2022-09-11 13:27:34,983 INFO: hidden_dim:768\t-->\tCalling Count:0\n"
          ]
        },
        {
          "output_type": "stream",
          "name": "stderr",
          "text": [
            "INFO:fast_lcf_bert:hidden_dim:768\t-->\tCalling Count:0\n"
          ]
        },
        {
          "output_type": "stream",
          "name": "stdout",
          "text": [
            "2022-09-11 13:27:34,986 INFO: index_to_label:{0: 'Negative', 1: 'Neutral', 2: 'Positive'}\t-->\tCalling Count:2\n"
          ]
        },
        {
          "output_type": "stream",
          "name": "stderr",
          "text": [
            "INFO:fast_lcf_bert:index_to_label:{0: 'Negative', 1: 'Neutral', 2: 'Positive'}\t-->\tCalling Count:2\n"
          ]
        },
        {
          "output_type": "stream",
          "name": "stdout",
          "text": [
            "2022-09-11 13:27:34,989 INFO: initializer:xavier_uniform_\t-->\tCalling Count:1\n"
          ]
        },
        {
          "output_type": "stream",
          "name": "stderr",
          "text": [
            "INFO:fast_lcf_bert:initializer:xavier_uniform_\t-->\tCalling Count:1\n"
          ]
        },
        {
          "output_type": "stream",
          "name": "stdout",
          "text": [
            "2022-09-11 13:27:34,992 INFO: inputs_cols:['lcf_vec', 'text_bert_indices', 'text_raw_bert_indices']\t-->\tCalling Count:44495\n"
          ]
        },
        {
          "output_type": "stream",
          "name": "stderr",
          "text": [
            "INFO:fast_lcf_bert:inputs_cols:['lcf_vec', 'text_bert_indices', 'text_raw_bert_indices']\t-->\tCalling Count:44495\n"
          ]
        },
        {
          "output_type": "stream",
          "name": "stdout",
          "text": [
            "2022-09-11 13:27:34,994 INFO: l2reg:1e-08\t-->\tCalling Count:1\n"
          ]
        },
        {
          "output_type": "stream",
          "name": "stderr",
          "text": [
            "INFO:fast_lcf_bert:l2reg:1e-08\t-->\tCalling Count:1\n"
          ]
        },
        {
          "output_type": "stream",
          "name": "stdout",
          "text": [
            "2022-09-11 13:27:34,997 INFO: label_to_index:{'Negative': 0, 'Neutral': 1, 'Positive': 2}\t-->\tCalling Count:0\n"
          ]
        },
        {
          "output_type": "stream",
          "name": "stderr",
          "text": [
            "INFO:fast_lcf_bert:label_to_index:{'Negative': 0, 'Neutral': 1, 'Positive': 2}\t-->\tCalling Count:0\n"
          ]
        },
        {
          "output_type": "stream",
          "name": "stdout",
          "text": [
            "2022-09-11 13:27:35,000 INFO: lcf:cdw\t-->\tCalling Count:0\n"
          ]
        },
        {
          "output_type": "stream",
          "name": "stderr",
          "text": [
            "INFO:fast_lcf_bert:lcf:cdw\t-->\tCalling Count:0\n"
          ]
        },
        {
          "output_type": "stream",
          "name": "stdout",
          "text": [
            "2022-09-11 13:27:35,003 INFO: learning_rate:2e-05\t-->\tCalling Count:1\n"
          ]
        },
        {
          "output_type": "stream",
          "name": "stderr",
          "text": [
            "INFO:fast_lcf_bert:learning_rate:2e-05\t-->\tCalling Count:1\n"
          ]
        },
        {
          "output_type": "stream",
          "name": "stdout",
          "text": [
            "2022-09-11 13:27:35,006 INFO: log_step:50\t-->\tCalling Count:0\n"
          ]
        },
        {
          "output_type": "stream",
          "name": "stderr",
          "text": [
            "INFO:fast_lcf_bert:log_step:50\t-->\tCalling Count:0\n"
          ]
        },
        {
          "output_type": "stream",
          "name": "stdout",
          "text": [
            "2022-09-11 13:27:35,009 INFO: lsa:False\t-->\tCalling Count:0\n"
          ]
        },
        {
          "output_type": "stream",
          "name": "stderr",
          "text": [
            "INFO:fast_lcf_bert:lsa:False\t-->\tCalling Count:0\n"
          ]
        },
        {
          "output_type": "stream",
          "name": "stdout",
          "text": [
            "2022-09-11 13:27:35,012 INFO: max_seq_len:80\t-->\tCalling Count:23728\n"
          ]
        },
        {
          "output_type": "stream",
          "name": "stderr",
          "text": [
            "INFO:fast_lcf_bert:max_seq_len:80\t-->\tCalling Count:23728\n"
          ]
        },
        {
          "output_type": "stream",
          "name": "stdout",
          "text": [
            "2022-09-11 13:27:35,015 INFO: model:<class 'pyabsa.core.apc.models.fast_lcf_bert.FAST_LCF_BERT'>\t-->\tCalling Count:6\n"
          ]
        },
        {
          "output_type": "stream",
          "name": "stderr",
          "text": [
            "INFO:fast_lcf_bert:model:<class 'pyabsa.core.apc.models.fast_lcf_bert.FAST_LCF_BERT'>\t-->\tCalling Count:6\n"
          ]
        },
        {
          "output_type": "stream",
          "name": "stdout",
          "text": [
            "2022-09-11 13:27:35,017 INFO: model_name:fast_lcf_bert\t-->\tCalling Count:5934\n"
          ]
        },
        {
          "output_type": "stream",
          "name": "stderr",
          "text": [
            "INFO:fast_lcf_bert:model_name:fast_lcf_bert\t-->\tCalling Count:5934\n"
          ]
        },
        {
          "output_type": "stream",
          "name": "stdout",
          "text": [
            "2022-09-11 13:27:35,020 INFO: model_path_to_save:None\t-->\tCalling Count:0\n"
          ]
        },
        {
          "output_type": "stream",
          "name": "stderr",
          "text": [
            "INFO:fast_lcf_bert:model_path_to_save:None\t-->\tCalling Count:0\n"
          ]
        },
        {
          "output_type": "stream",
          "name": "stdout",
          "text": [
            "2022-09-11 13:27:35,023 INFO: num_epoch:1\t-->\tCalling Count:0\n"
          ]
        },
        {
          "output_type": "stream",
          "name": "stderr",
          "text": [
            "INFO:fast_lcf_bert:num_epoch:1\t-->\tCalling Count:0\n"
          ]
        },
        {
          "output_type": "stream",
          "name": "stdout",
          "text": [
            "2022-09-11 13:27:35,026 INFO: optimizer:adamw\t-->\tCalling Count:1\n"
          ]
        },
        {
          "output_type": "stream",
          "name": "stderr",
          "text": [
            "INFO:fast_lcf_bert:optimizer:adamw\t-->\tCalling Count:1\n"
          ]
        },
        {
          "output_type": "stream",
          "name": "stdout",
          "text": [
            "2022-09-11 13:27:35,029 INFO: patience:99999\t-->\tCalling Count:0\n"
          ]
        },
        {
          "output_type": "stream",
          "name": "stderr",
          "text": [
            "INFO:fast_lcf_bert:patience:99999\t-->\tCalling Count:0\n"
          ]
        },
        {
          "output_type": "stream",
          "name": "stdout",
          "text": [
            "2022-09-11 13:27:35,032 INFO: output_dim:3\t-->\tCalling Count:3\n"
          ]
        },
        {
          "output_type": "stream",
          "name": "stderr",
          "text": [
            "INFO:fast_lcf_bert:output_dim:3\t-->\tCalling Count:3\n"
          ]
        },
        {
          "output_type": "stream",
          "name": "stdout",
          "text": [
            "2022-09-11 13:27:35,034 INFO: pretrained_bert:yangheng/deberta-v3-base-absa-v1.1\t-->\tCalling Count:4\n"
          ]
        },
        {
          "output_type": "stream",
          "name": "stderr",
          "text": [
            "INFO:fast_lcf_bert:pretrained_bert:yangheng/deberta-v3-base-absa-v1.1\t-->\tCalling Count:4\n"
          ]
        },
        {
          "output_type": "stream",
          "name": "stdout",
          "text": [
            "2022-09-11 13:27:35,037 INFO: save_mode:0\t-->\tCalling Count:0\n"
          ]
        },
        {
          "output_type": "stream",
          "name": "stderr",
          "text": [
            "INFO:fast_lcf_bert:save_mode:0\t-->\tCalling Count:0\n"
          ]
        },
        {
          "output_type": "stream",
          "name": "stdout",
          "text": [
            "2022-09-11 13:27:35,040 INFO: seed:2672\t-->\tCalling Count:7\n"
          ]
        },
        {
          "output_type": "stream",
          "name": "stderr",
          "text": [
            "INFO:fast_lcf_bert:seed:2672\t-->\tCalling Count:7\n"
          ]
        },
        {
          "output_type": "stream",
          "name": "stdout",
          "text": [
            "2022-09-11 13:27:35,043 INFO: sigma:0.3\t-->\tCalling Count:0\n"
          ]
        },
        {
          "output_type": "stream",
          "name": "stderr",
          "text": [
            "INFO:fast_lcf_bert:sigma:0.3\t-->\tCalling Count:0\n"
          ]
        },
        {
          "output_type": "stream",
          "name": "stdout",
          "text": [
            "2022-09-11 13:27:35,046 INFO: similarity_threshold:1\t-->\tCalling Count:2\n"
          ]
        },
        {
          "output_type": "stream",
          "name": "stderr",
          "text": [
            "INFO:fast_lcf_bert:similarity_threshold:1\t-->\tCalling Count:2\n"
          ]
        },
        {
          "output_type": "stream",
          "name": "stdout",
          "text": [
            "2022-09-11 13:27:35,048 INFO: spacy_model:en_core_web_sm\t-->\tCalling Count:3\n"
          ]
        },
        {
          "output_type": "stream",
          "name": "stderr",
          "text": [
            "INFO:fast_lcf_bert:spacy_model:en_core_web_sm\t-->\tCalling Count:3\n"
          ]
        },
        {
          "output_type": "stream",
          "name": "stdout",
          "text": [
            "2022-09-11 13:27:35,051 INFO: srd_alignment:True\t-->\tCalling Count:0\n"
          ]
        },
        {
          "output_type": "stream",
          "name": "stderr",
          "text": [
            "INFO:fast_lcf_bert:srd_alignment:True\t-->\tCalling Count:0\n"
          ]
        },
        {
          "output_type": "stream",
          "name": "stdout",
          "text": [
            "2022-09-11 13:27:35,053 INFO: use_amp:False\t-->\tCalling Count:1\n"
          ]
        },
        {
          "output_type": "stream",
          "name": "stderr",
          "text": [
            "INFO:fast_lcf_bert:use_amp:False\t-->\tCalling Count:1\n"
          ]
        },
        {
          "output_type": "stream",
          "name": "stdout",
          "text": [
            "2022-09-11 13:27:35,056 INFO: use_bert_spc:True\t-->\tCalling Count:0\n"
          ]
        },
        {
          "output_type": "stream",
          "name": "stderr",
          "text": [
            "INFO:fast_lcf_bert:use_bert_spc:True\t-->\tCalling Count:0\n"
          ]
        },
        {
          "output_type": "stream",
          "name": "stdout",
          "text": [
            "2022-09-11 13:27:35,058 INFO: use_syntax_based_SRD:False\t-->\tCalling Count:0\n"
          ]
        },
        {
          "output_type": "stream",
          "name": "stderr",
          "text": [
            "INFO:fast_lcf_bert:use_syntax_based_SRD:False\t-->\tCalling Count:0\n"
          ]
        },
        {
          "output_type": "stream",
          "name": "stdout",
          "text": [
            "2022-09-11 13:27:35,061 INFO: warmup_step:-1\t-->\tCalling Count:0\n"
          ]
        },
        {
          "output_type": "stream",
          "name": "stderr",
          "text": [
            "INFO:fast_lcf_bert:warmup_step:-1\t-->\tCalling Count:0\n"
          ]
        },
        {
          "output_type": "stream",
          "name": "stdout",
          "text": [
            "2022-09-11 13:27:35,064 INFO: window:lr\t-->\tCalling Count:0\n"
          ]
        },
        {
          "output_type": "stream",
          "name": "stderr",
          "text": [
            "INFO:fast_lcf_bert:window:lr\t-->\tCalling Count:0\n"
          ]
        },
        {
          "output_type": "stream",
          "name": "stdout",
          "text": [
            "2022-09-11 13:27:35,075 INFO: ***** Running training for Aspect Polarity Classification *****\n"
          ]
        },
        {
          "output_type": "stream",
          "name": "stderr",
          "text": [
            "INFO:fast_lcf_bert:***** Running training for Aspect Polarity Classification *****\n"
          ]
        },
        {
          "output_type": "stream",
          "name": "stdout",
          "text": [
            "2022-09-11 13:27:35,079 INFO: Training set examples = 2328\n"
          ]
        },
        {
          "output_type": "stream",
          "name": "stderr",
          "text": [
            "INFO:fast_lcf_bert:Training set examples = 2328\n"
          ]
        },
        {
          "output_type": "stream",
          "name": "stdout",
          "text": [
            "2022-09-11 13:27:35,083 INFO: Test set examples = 638\n"
          ]
        },
        {
          "output_type": "stream",
          "name": "stderr",
          "text": [
            "INFO:fast_lcf_bert:Test set examples = 638\n"
          ]
        },
        {
          "output_type": "stream",
          "name": "stdout",
          "text": [
            "2022-09-11 13:27:35,085 INFO: Total params = 189148431, Trainable params = 189148431, Non-trainable params = 0\n"
          ]
        },
        {
          "output_type": "stream",
          "name": "stderr",
          "text": [
            "INFO:fast_lcf_bert:Total params = 189148431, Trainable params = 189148431, Non-trainable params = 0\n"
          ]
        },
        {
          "output_type": "stream",
          "name": "stdout",
          "text": [
            "2022-09-11 13:27:35,088 INFO: Batch size = 16\n"
          ]
        },
        {
          "output_type": "stream",
          "name": "stderr",
          "text": [
            "INFO:fast_lcf_bert:Batch size = 16\n"
          ]
        },
        {
          "output_type": "stream",
          "name": "stdout",
          "text": [
            "2022-09-11 13:27:35,091 INFO: Num steps = 9\n"
          ]
        },
        {
          "output_type": "stream",
          "name": "stderr",
          "text": [
            "INFO:fast_lcf_bert:Num steps = 9\n",
            "  0%|          | 0/146 [00:00<?, ?it/s, Epoch:0]/usr/local/lib/python3.7/dist-packages/transformers/models/deberta_v2/modeling_deberta_v2.py:542: DeprecationWarning: `np.int` is a deprecated alias for the builtin `int`. To silence this warning, use `int` by itself. Doing this will not modify any behavior and is safe. When replacing `np.int`, you may wish to use e.g. `np.int64` or `np.int32` to specify the precision. If you wish to review your current use, check the release note link for additional information.\n",
            "Deprecated in NumPy 1.20; for more details and guidance: https://numpy.org/devdocs/release/1.20.0-notes.html#deprecations\n",
            "  bucket_pos = np.where(abs_pos <= mid, relative_pos, log_pos * sign).astype(np.int)\n",
            " 34%|███▍      | 50/146 [00:16<02:11,  1.37s/it, Epoch:0 | Loss:0.6308 | Acc:58.62(max:58.62) | F1:37.19(max:37.19)]/usr/local/lib/python3.7/dist-packages/transformers/models/deberta_v2/modeling_deberta_v2.py:542: DeprecationWarning: `np.int` is a deprecated alias for the builtin `int`. To silence this warning, use `int` by itself. Doing this will not modify any behavior and is safe. When replacing `np.int`, you may wish to use e.g. `np.int64` or `np.int32` to specify the precision. If you wish to review your current use, check the release note link for additional information.\n",
            "Deprecated in NumPy 1.20; for more details and guidance: https://numpy.org/devdocs/release/1.20.0-notes.html#deprecations\n",
            "  bucket_pos = np.where(abs_pos <= mid, relative_pos, log_pos * sign).astype(np.int)\n",
            " 68%|██████▊   | 100/146 [00:30<01:04,  1.40s/it, Epoch:0 | Loss:0.8980 | Acc:74.29(max:74.29) | F1:65.78(max:65.78)]/usr/local/lib/python3.7/dist-packages/transformers/models/deberta_v2/modeling_deberta_v2.py:542: DeprecationWarning: `np.int` is a deprecated alias for the builtin `int`. To silence this warning, use `int` by itself. Doing this will not modify any behavior and is safe. When replacing `np.int`, you may wish to use e.g. `np.int64` or `np.int32` to specify the precision. If you wish to review your current use, check the release note link for additional information.\n",
            "Deprecated in NumPy 1.20; for more details and guidance: https://numpy.org/devdocs/release/1.20.0-notes.html#deprecations\n",
            "  bucket_pos = np.where(abs_pos <= mid, relative_pos, log_pos * sign).astype(np.int)\n",
            "100%|██████████| 146/146 [00:38<00:00,  3.78it/s, Epoch:0 | Loss:0.8980 | Acc:74.29(max:74.29) | F1:65.78(max:65.78)]"
          ]
        },
        {
          "output_type": "stream",
          "name": "stdout",
          "text": [
            "2022-09-11 13:28:13,713 INFO:  ------------------------------------- Metric Visualizer ------------------------------------- \n",
            "╒════════════════════════════╤════════════════════════╤════════════════════════════╤═════════════════════════════════════════════════════════════════════════╕\n",
            "│ Metric                     │ Model & Dataset        │ Values (First 10 values)   │ Summary                                                                 │\n",
            "╞════════════════════════════╪════════════════════════╪════════════════════════════╪═════════════════════════════════════════════════════════════════════════╡\n",
            "│ Max-Test-Acc w/o Valid Set │ FAST_LCF_BERT-Laptop14 │ [74.29]                    │ ['Avg:74.29, Median: 74.29, IQR: 0.0, STD:0.0, Max: 74.29, Min: 74.29'] │\n",
            "├────────────────────────────┼────────────────────────┼────────────────────────────┼─────────────────────────────────────────────────────────────────────────┤\n",
            "│ Max-Test-F1 w/o Valid Set  │ FAST_LCF_BERT-Laptop14 │ [65.78]                    │ ['Avg:65.78, Median: 65.78, IQR: 0.0, STD:0.0, Max: 65.78, Min: 65.78'] │\n",
            "╘════════════════════════════╧════════════════════════╧════════════════════════════╧═════════════════════════════════════════════════════════════════════════╛\n",
            " -------------------- https://github.com/yangheng95/metric_visualizer --------------------\n",
            "\n"
          ]
        },
        {
          "output_type": "stream",
          "name": "stderr",
          "text": [
            "\n",
            "INFO:fast_lcf_bert: ------------------------------------- Metric Visualizer ------------------------------------- \n",
            "╒════════════════════════════╤════════════════════════╤════════════════════════════╤═════════════════════════════════════════════════════════════════════════╕\n",
            "│ Metric                     │ Model & Dataset        │ Values (First 10 values)   │ Summary                                                                 │\n",
            "╞════════════════════════════╪════════════════════════╪════════════════════════════╪═════════════════════════════════════════════════════════════════════════╡\n",
            "│ Max-Test-Acc w/o Valid Set │ FAST_LCF_BERT-Laptop14 │ [74.29]                    │ ['Avg:74.29, Median: 74.29, IQR: 0.0, STD:0.0, Max: 74.29, Min: 74.29'] │\n",
            "├────────────────────────────┼────────────────────────┼────────────────────────────┼─────────────────────────────────────────────────────────────────────────┤\n",
            "│ Max-Test-F1 w/o Valid Set  │ FAST_LCF_BERT-Laptop14 │ [65.78]                    │ ['Avg:65.78, Median: 65.78, IQR: 0.0, STD:0.0, Max: 65.78, Min: 65.78'] │\n",
            "╘════════════════════════════╧════════════════════════╧════════════════════════════╧═════════════════════════════════════════════════════════════════════════╛\n",
            " -------------------- https://github.com/yangheng95/metric_visualizer --------------------\n",
            "\n"
          ]
        },
        {
          "output_type": "stream",
          "name": "stdout",
          "text": [
            "Training finished, we hope you can share your checkpoint with community, please see: https://github.com/yangheng95/PyABSA/blob/release/demos/documents/share-checkpoint.md\n",
            "ABSADatasetsVersion:None\t-->\tCalling Count:0\n",
            "MV:<metric_visualizer.metric_visualizer.MetricVisualizer object at 0x7fea680f5a50>\t-->\tCalling Count:3\n",
            "PyABSAVersion:1.16.16\t-->\tCalling Count:0\n",
            "SRD:3\t-->\tCalling Count:2966\n",
            "TorchVersion:1.12.1+cu113+cuda11.3\t-->\tCalling Count:0\n",
            "TransformersVersion:4.21.3\t-->\tCalling Count:0\n",
            "auto_device:True\t-->\tCalling Count:147\n",
            "batch_size:16\t-->\tCalling Count:5\n",
            "cache_dataset:True\t-->\tCalling Count:1\n",
            "cross_validate_fold:-1\t-->\tCalling Count:2\n",
            "dataset_file:{'train': ['integrated_datasets/apc_datasets/110.SemEval/113.laptop14/Laptops_Train.xml.seg'], 'test': ['integrated_datasets/apc_datasets/110.SemEval/113.laptop14/Laptops_Test_Gold.xml.seg'], 'valid': []}\t-->\tCalling Count:6\n",
            "dataset_name:Laptop14\t-->\tCalling Count:4\n",
            "dca_layer:3\t-->\tCalling Count:0\n",
            "dca_p:1\t-->\tCalling Count:0\n",
            "deep_ensemble:False\t-->\tCalling Count:0\n",
            "device:cuda:0\t-->\tCalling Count:910\n",
            "device_name:Tesla T4\t-->\tCalling Count:0\n",
            "dlcf_a:2\t-->\tCalling Count:0\n",
            "dropout:0.5\t-->\tCalling Count:1\n",
            "dynamic_truncate:True\t-->\tCalling Count:5932\n",
            "embed_dim:768\t-->\tCalling Count:3\n",
            "ensemble_mode:cat\t-->\tCalling Count:0\n",
            "eta:-1\t-->\tCalling Count:0\n",
            "eta_lr:0.01\t-->\tCalling Count:0\n",
            "evaluate_begin:0\t-->\tCalling Count:3\n",
            "hidden_dim:768\t-->\tCalling Count:0\n",
            "index_to_label:{0: 'Negative', 1: 'Neutral', 2: 'Positive'}\t-->\tCalling Count:2\n",
            "initializer:xavier_uniform_\t-->\tCalling Count:1\n",
            "inputs_cols:['lcf_vec', 'text_bert_indices', 'text_raw_bert_indices']\t-->\tCalling Count:44721\n",
            "l2reg:1e-08\t-->\tCalling Count:1\n",
            "label_to_index:{'Negative': 0, 'Neutral': 1, 'Positive': 2}\t-->\tCalling Count:0\n",
            "lcf:cdw\t-->\tCalling Count:0\n",
            "learning_rate:2e-05\t-->\tCalling Count:1\n",
            "log_step:50\t-->\tCalling Count:147\n",
            "loss:0.6761760711669922\t-->\tCalling Count:0\n",
            "lsa:False\t-->\tCalling Count:0\n",
            "max_seq_len:80\t-->\tCalling Count:24180\n",
            "max_test_metrics:{'max_apc_test_acc': 0, 'max_apc_test_f1': 0}\t-->\tCalling Count:0\n",
            "metrics_of_this_checkpoint:{'acc': 0.7429467084639498, 'f1': 0.6578470560445789}\t-->\tCalling Count:4\n",
            "model:<class 'pyabsa.core.apc.models.fast_lcf_bert.FAST_LCF_BERT'>\t-->\tCalling Count:6\n",
            "model_name:fast_lcf_bert\t-->\tCalling Count:5935\n",
            "model_path_to_save:None\t-->\tCalling Count:3\n",
            "num_epoch:1\t-->\tCalling Count:2\n",
            "optimizer:adamw\t-->\tCalling Count:1\n",
            "patience:99999\t-->\tCalling Count:5\n",
            "output_dim:3\t-->\tCalling Count:5\n",
            "pretrained_bert:yangheng/deberta-v3-base-absa-v1.1\t-->\tCalling Count:4\n",
            "save_mode:0\t-->\tCalling Count:0\n",
            "seed:2672\t-->\tCalling Count:7\n",
            "sigma:0.3\t-->\tCalling Count:0\n",
            "similarity_threshold:1\t-->\tCalling Count:2\n",
            "spacy_model:en_core_web_sm\t-->\tCalling Count:3\n",
            "srd_alignment:True\t-->\tCalling Count:0\n",
            "use_amp:False\t-->\tCalling Count:1\n",
            "use_bert_spc:True\t-->\tCalling Count:226\n",
            "use_syntax_based_SRD:False\t-->\tCalling Count:0\n",
            "warmup_step:-1\t-->\tCalling Count:147\n",
            "window:lr\t-->\tCalling Count:0\n",
            "Load sentiment classifier from training\n"
          ]
        },
        {
          "output_type": "stream",
          "name": "stderr",
          "text": [
            "/usr/local/lib/python3.7/dist-packages/pyabsa/functional/trainer/trainer.py:171: ResourceWarning: unclosed file <_io.TextIOWrapper name='/content/logs/fast_lcf_bert_20220911 131704/training.log' mode='a' encoding='utf8'>\n",
            "  self.logger.removeHandler(self.logger.handlers[0])\n",
            "ResourceWarning: Enable tracemalloc to get the object allocation traceback\n"
          ]
        }
      ]
    },
    {
      "cell_type": "markdown",
      "source": [
        "# Train on your own dataset from a checkpoint"
      ],
      "metadata": {
        "id": "d075em2TWHHW"
      }
    },
    {
      "cell_type": "code",
      "source": [
        "apc_config_english = APCConfigManager.get_apc_config_english()\n",
        "apc_config_english.model = APCModelList.FAST_LSA_T\n",
        "apc_config_english.evaluate_begin = 2\n",
        "apc_config_english.similarity_threshold = 1\n",
        "apc_config_english.max_seq_len = 80\n",
        "apc_config_english.dropout = 0.5\n",
        "apc_config_english.log_step = -1\n",
        "apc_config_english.l2reg = 0.0001\n",
        "apc_config_english.dynamic_truncate = True\n",
        "apc_config_english.srd_alignment = True\n",
        "\n",
        "checkpoint_path = APCCheckpointManager.get_checkpoint('english')\n",
        "SemEval = ABSADatasetList.SemEval\n",
        "\n",
        "sent_classifier = Trainer(config=apc_config_english,\n",
        "                          dataset=SemEval,\n",
        "                          from_checkpoint=checkpoint_path,\n",
        "                          checkpoint_save_mode=1,\n",
        "                          auto_device=True\n",
        "                          ).load_trained_model()\n"
      ],
      "metadata": {
        "id": "JIZYKTxBWPBy",
        "colab": {
          "base_uri": "https://localhost:8080/"
        },
        "outputId": "a3fb85e7-0b1d-45c5-cb2c-b33237cf590e"
      },
      "execution_count": null,
      "outputs": [
        {
          "output_type": "stream",
          "name": "stdout",
          "text": [
            "********** \u001b[32mAvailable APC model checkpoints for Version:1.16.16 (this version)\u001b[0m **********\n",
            "----------------------------------------------------------------------------------------------------\n",
            "Checkpoint Name: english\n",
            "id: https://drive.google.com/file/d/1JIFhaAdoCeZI5CQqfOix3pnrYa6_Mf9S/view?usp=sharing\n",
            "Training Model: FAST-LSA-S\n",
            "Training Dataset: English\n",
            "Language: English\n",
            "Description: Trained on RTX3090\n",
            "Available Version: 1.6.3+\n",
            "Checkpoint File: fast_lsa_s_acc_84.9_f1_82.11.zip\n",
            "Author: H, Yang (yangheng@m.scnu.edu.cn)\n",
            "----------------------------------------------------------------------------------------------------\n",
            "----------------------------------------------------------------------------------------------------\n",
            "Checkpoint Name: chinese\n",
            "id: https://drive.google.com/file/d/1B0RHazOCm2eOWLWExQkeapHr9d3OiZl7/view?usp=sharing\n",
            "Training Model: FAST-LCF-MDeBERTa\n",
            "Training Dataset: Chinese\n",
            "Language: Chinese\n",
            "Description: Trained on RTX3090\n",
            "Available Version: 1.8.2+\n",
            "Checkpoint File: fast_lcf_bert_Chinese_acc_97.11_f1_96.54.zip\n",
            "Author: H, Yang (yangheng@m.scnu.edu.cn)\n",
            "----------------------------------------------------------------------------------------------------\n",
            "----------------------------------------------------------------------------------------------------\n",
            "Checkpoint Name: multilingual\n",
            "id: https://drive.google.com/file/d/15ls1hcGvk27UnfMsXZtk780h7tTBbNws/view?usp=sharing\n",
            "Training Model: FAST-LCF-Deberta\n",
            "Training Dataset: Multilingual\n",
            "Language: Multilingual\n",
            "Description: Trained on RTX3090\n",
            "Available Version: 1.8.2+\n",
            "Checkpoint File: fast_lcf_bert_Multilingual_acc_94.72_f1_90.07.zip\n",
            "Author: H, Yang (yangheng@m.scnu.edu.cn)\n",
            "----------------------------------------------------------------------------------------------------\n",
            "----------------------------------------------------------------------------------------------------\n",
            "Checkpoint Name: multilingual2\n",
            "id: https://drive.google.com/file/d/1YCYKpEnff-DBUHd-8vWmgsnng5ZT_2cs/view?usp=sharing\n",
            "Training Model: FAST-LCF-Deberta\n",
            "Training Dataset: Multilingual\n",
            "Language: Multilingual\n",
            "Description: Trained on RTX3090\n",
            "Available Version: 1.10.5+\n",
            "Checkpoint File: fast_lsa_t_v2_Multilingual_acc_88.44_f1_82.66.zip\n",
            "Author: H, Yang (yangheng@m.scnu.edu.cn)\n",
            "----------------------------------------------------------------------------------------------------\n",
            "----------------------------------------------------------------------------------------------------\n",
            "Checkpoint Name: HELP-WANTED\n",
            "id: \n",
            "Description: You can help us by sharing checkpoints (e.g. models trained on you own datasets) with community.\n",
            "Checkpoint File: PLEASE NOTE THAT THIS IS NOT A REAL CHECKPOINT!\n",
            "Available Version: \n",
            "----------------------------------------------------------------------------------------------------\n",
            "\u001b[33mThere may be some checkpoints available for early versions of PyABSA, see APC\u001b[0m\n",
            "\u001b[32mDownloading checkpoint:english ...\u001b[0m\n",
            "\u001b[31mNotice: The pretrained model are used for testing, it is recommended to train the model on your own custom datasets\u001b[0m\n",
            "Checkpoint already downloaded, skip...\n",
            "Remote ABSADataset version: 2022.07.22 Local ABSADatasets version: 2022.07.22\n",
            "Dataset is not a path, treat dataset as keywords to Load 113.Laptop14 from: 113.Laptop14 or Search https://github.com/yangheng95/ABSADatasets locally using findfile\n",
            "\u001b[32mYou can set load_aug=True in a trainer to augment your dataset (English only yet) and improve performance.\u001b[0m\n",
            "\u001b[32mPlease use a new folder to perform new text augmentation if the former augmentation exited unexpectedly\u001b[0m\n",
            "Dataset is not a path, treat dataset as keywords to Load 114.Restaurant14 from: 114.Restaurant14 or Search https://github.com/yangheng95/ABSADatasets locally using findfile\n",
            "\u001b[32mYou can set load_aug=True in a trainer to augment your dataset (English only yet) and improve performance.\u001b[0m\n",
            "\u001b[32mPlease use a new folder to perform new text augmentation if the former augmentation exited unexpectedly\u001b[0m\n",
            "Dataset is not a path, treat dataset as keywords to Load 116.Restaurant16 from: 116.Restaurant16 or Search https://github.com/yangheng95/ABSADatasets locally using findfile\n",
            "\u001b[32mYou can set load_aug=True in a trainer to augment your dataset (English only yet) and improve performance.\u001b[0m\n",
            "\u001b[32mPlease use a new folder to perform new text augmentation if the former augmentation exited unexpectedly\u001b[0m\n",
            "\u001b[33mPlease DO NOT mix datasets with different sentiment labels for training & inference !\u001b[0m\n"
          ]
        },
        {
          "output_type": "stream",
          "name": "stderr",
          "text": [
            "Special tokens have been added in the vocabulary, make sure the associated word embeddings are fine-tuned or trained.\n",
            "/usr/local/lib/python3.7/dist-packages/transformers/convert_slow_tokenizer.py:435: UserWarning: The sentencepiece tokenizer that you are converting to a fast tokenizer uses the byte fallback option which is not implemented in the fast tokenizers. In practice this means that the fast version of the tokenizer can produce unknown tokens whereas the sentencepiece version would have converted these unknown tokens into a sequence of byte tokens matching the original piece of text.\n",
            "  \"The sentencepiece tokenizer that you are converting to a fast tokenizer uses the byte fallback option\"\n",
            "Special tokens have been added in the vocabulary, make sure the associated word embeddings are fine-tuned or trained.\n",
            "Some weights of the model checkpoint at yangheng/deberta-v3-base-absa-v1.1 were not used when initializing DebertaV2Model: ['mask_predictions.LayerNorm.bias', 'lm_predictions.lm_head.LayerNorm.bias', 'mask_predictions.dense.weight', 'lm_predictions.lm_head.bias', 'lm_predictions.lm_head.dense.bias', 'mask_predictions.dense.bias', 'mask_predictions.classifier.bias', 'mask_predictions.LayerNorm.weight', 'lm_predictions.lm_head.LayerNorm.weight', 'mask_predictions.classifier.weight', 'lm_predictions.lm_head.dense.weight']\n",
            "- This IS expected if you are initializing DebertaV2Model from the checkpoint of a model trained on another task or with another architecture (e.g. initializing a BertForSequenceClassification model from a BertForPreTraining model).\n",
            "- This IS NOT expected if you are initializing DebertaV2Model from the checkpoint of a model that you expect to be exactly identical (initializing a BertForSequenceClassification model from a BertForSequenceClassification model).\n"
          ]
        },
        {
          "output_type": "stream",
          "name": "stdout",
          "text": [
            "loading: integrated_datasets/apc_datasets/110.SemEval/113.laptop14/Laptops_Train.xml.seg\n",
            "loading: integrated_datasets/apc_datasets/110.SemEval/114.restaurant14/Restaurants_Train.xml.seg\n",
            "loading: integrated_datasets/apc_datasets/110.SemEval/116.restaurant16/restaurant_train.raw\n"
          ]
        },
        {
          "output_type": "stream",
          "name": "stderr",
          "text": [
            " 42%|████▏     | 3217/7682 [00:02<00:03, 1269.86it/s, preparing dataloader...]"
          ]
        },
        {
          "output_type": "stream",
          "name": "stdout",
          "text": [
            "\u001b[33mAspectTooLongWarning -> <aspect: fried mini buns with the condensed milk and the assorted fruits on beancurd> is too long, <text: The waitress remembers me and is very friendly , she knows what my regular is and that 's the fried mini buns with the condensed milk and the assorted fruits on beancurd .>, <polarity: Positive>\u001b[0m\n"
          ]
        },
        {
          "output_type": "stream",
          "name": "stderr",
          "text": [
            " 55%|█████▌    | 4233/7682 [00:03<00:02, 1234.69it/s, preparing dataloader...]"
          ]
        },
        {
          "output_type": "stream",
          "name": "stdout",
          "text": [
            "\u001b[33mAspectTooLongWarning -> <aspect: salad with perfectly marinated cucumbers and tomatoes with lots of shrimp and basil> is too long, <text: I ate clams oreganta and spectacular salad with perfectly marinated cucumbers and tomatoes with lots of shrimp and basil .>, <polarity: Positive>\u001b[0m\n"
          ]
        },
        {
          "output_type": "stream",
          "name": "stderr",
          "text": [
            " 58%|█████▊    | 4492/7682 [00:03<00:02, 1263.64it/s, preparing dataloader...]"
          ]
        },
        {
          "output_type": "stream",
          "name": "stdout",
          "text": [
            "\u001b[33mAspectTooLongWarning -> <aspect: godmother pizza (a sort of traditional flat pizza with an olive oil-brushed crust and less tomato sauce than usual)> is too long, <text: But they 've done a really nice job of offering all the typical pizzeria faves plus some terrific specials like the godmother pizza (a sort of traditional flat pizza with an olive oil-brushed crust and less tomato sauce than usual) .>, <polarity: Positive>\u001b[0m\n"
          ]
        },
        {
          "output_type": "stream",
          "name": "stderr",
          "text": [
            " 75%|███████▍  | 5757/7682 [00:04<00:01, 1264.00it/s, preparing dataloader...]"
          ]
        },
        {
          "output_type": "stream",
          "name": "stdout",
          "text": [
            "\u001b[33mAspectTooLongWarning -> <aspect: egg noodles in the beef broth with shrimp dumplings and slices of bbq roast pork> is too long, <text: I fell in love with the egg noodles in the beef broth with shrimp dumplings and slices of bbq roast pork .>, <polarity: Positive>\u001b[0m\n"
          ]
        },
        {
          "output_type": "stream",
          "name": "stderr",
          "text": [
            " 94%|█████████▍| 7228/7682 [00:05<00:00, 1296.84it/s, preparing dataloader...]"
          ]
        },
        {
          "output_type": "stream",
          "name": "stdout",
          "text": [
            "\u001b[33mAspectTooLongWarning -> <aspect: egg noodles in the beef broth with shrimp dumplings and slices of bbq roast pork> is too long, <text: i fell in love with the egg noodles in the beef broth with shrimp dumplings and slices of bbq roast pork .>, <polarity: Positive>\u001b[0m\n"
          ]
        },
        {
          "output_type": "stream",
          "name": "stderr",
          "text": [
            " 97%|█████████▋| 7489/7682 [00:06<00:00, 1294.05it/s, preparing dataloader...]"
          ]
        },
        {
          "output_type": "stream",
          "name": "stdout",
          "text": [
            "\u001b[33mAspectTooLongWarning -> <aspect: cocktail with citrus vodka and lemon and lime juice and mint leaves> is too long, <text: the have a great cocktail with citrus vodka and lemon and lime juice and mint leaves that is to die for !>, <polarity: Positive>\u001b[0m\n"
          ]
        },
        {
          "output_type": "stream",
          "name": "stderr",
          "text": [
            "100%|██████████| 7682/7682 [00:06<00:00, 1238.16it/s, preparing dataloader...]\n"
          ]
        },
        {
          "output_type": "stream",
          "name": "stdout",
          "text": [
            "Dataset Label Details: {'Positive': 4392, 'Neutral': 1170, 'Negative': 2114, 'Sum': 7676}\n",
            "loading: integrated_datasets/apc_datasets/110.SemEval/113.laptop14/Laptops_Test_Gold.xml.seg\n",
            "loading: integrated_datasets/apc_datasets/110.SemEval/114.restaurant14/Restaurants_Test_Gold.xml.seg\n",
            "loading: integrated_datasets/apc_datasets/110.SemEval/116.restaurant16/restaurant_test.raw\n"
          ]
        },
        {
          "output_type": "stream",
          "name": "stderr",
          "text": [
            "100%|██████████| 2373/2373 [00:01<00:00, 1261.25it/s, preparing dataloader...]"
          ]
        },
        {
          "output_type": "stream",
          "name": "stdout",
          "text": [
            "\u001b[33mAspectTooLongWarning -> <aspect: appetizer of oysters , lobster , crab ( small size )> is too long, <text: the appetizer of oysters , lobster , crab ( small size ) made a perfect entre for my wife .>, <polarity: Positive>\u001b[0m\n"
          ]
        },
        {
          "output_type": "stream",
          "name": "stderr",
          "text": [
            "\n"
          ]
        },
        {
          "output_type": "stream",
          "name": "stdout",
          "text": [
            "Dataset Label Details: {'Positive': 1536, 'Neutral': 395, 'Negative': 441, 'Sum': 2372}\n",
            "\u001b[31mCaching dataset... please remove cached dataset if any problem happens.\u001b[0m\n",
            "2022-09-11 13:50:41,840 INFO: cuda memory allocated:5755809280\n"
          ]
        },
        {
          "output_type": "stream",
          "name": "stderr",
          "text": [
            "INFO:fast_lsa_t:cuda memory allocated:5755809280\n"
          ]
        },
        {
          "output_type": "stream",
          "name": "stdout",
          "text": [
            "2022-09-11 13:50:41,847 INFO: ABSADatasetsVersion:2022.07.22\t-->\tCalling Count:0\n"
          ]
        },
        {
          "output_type": "stream",
          "name": "stderr",
          "text": [
            "INFO:fast_lsa_t:ABSADatasetsVersion:2022.07.22\t-->\tCalling Count:0\n"
          ]
        },
        {
          "output_type": "stream",
          "name": "stdout",
          "text": [
            "2022-09-11 13:50:41,854 INFO: MV:<metric_visualizer.metric_visualizer.MetricVisualizer object at 0x7fea36f6bd50>\t-->\tCalling Count:0\n"
          ]
        },
        {
          "output_type": "stream",
          "name": "stderr",
          "text": [
            "INFO:fast_lsa_t:MV:<metric_visualizer.metric_visualizer.MetricVisualizer object at 0x7fea36f6bd50>\t-->\tCalling Count:0\n"
          ]
        },
        {
          "output_type": "stream",
          "name": "stdout",
          "text": [
            "2022-09-11 13:50:41,857 INFO: PyABSAVersion:1.16.16\t-->\tCalling Count:0\n"
          ]
        },
        {
          "output_type": "stream",
          "name": "stderr",
          "text": [
            "INFO:fast_lsa_t:PyABSAVersion:1.16.16\t-->\tCalling Count:0\n"
          ]
        },
        {
          "output_type": "stream",
          "name": "stdout",
          "text": [
            "2022-09-11 13:50:41,868 INFO: SRD:3\t-->\tCalling Count:10055\n"
          ]
        },
        {
          "output_type": "stream",
          "name": "stderr",
          "text": [
            "INFO:fast_lsa_t:SRD:3\t-->\tCalling Count:10055\n"
          ]
        },
        {
          "output_type": "stream",
          "name": "stdout",
          "text": [
            "2022-09-11 13:50:41,870 INFO: TorchVersion:1.12.1+cu113+cuda11.3\t-->\tCalling Count:0\n"
          ]
        },
        {
          "output_type": "stream",
          "name": "stderr",
          "text": [
            "INFO:fast_lsa_t:TorchVersion:1.12.1+cu113+cuda11.3\t-->\tCalling Count:0\n"
          ]
        },
        {
          "output_type": "stream",
          "name": "stdout",
          "text": [
            "2022-09-11 13:50:41,876 INFO: TransformersVersion:4.21.3\t-->\tCalling Count:0\n"
          ]
        },
        {
          "output_type": "stream",
          "name": "stderr",
          "text": [
            "INFO:fast_lsa_t:TransformersVersion:4.21.3\t-->\tCalling Count:0\n"
          ]
        },
        {
          "output_type": "stream",
          "name": "stdout",
          "text": [
            "2022-09-11 13:50:41,879 INFO: auto_device:True\t-->\tCalling Count:1\n"
          ]
        },
        {
          "output_type": "stream",
          "name": "stderr",
          "text": [
            "INFO:fast_lsa_t:auto_device:True\t-->\tCalling Count:1\n"
          ]
        },
        {
          "output_type": "stream",
          "name": "stdout",
          "text": [
            "2022-09-11 13:50:41,887 INFO: batch_size:16\t-->\tCalling Count:2\n"
          ]
        },
        {
          "output_type": "stream",
          "name": "stderr",
          "text": [
            "INFO:fast_lsa_t:batch_size:16\t-->\tCalling Count:2\n"
          ]
        },
        {
          "output_type": "stream",
          "name": "stdout",
          "text": [
            "2022-09-11 13:50:41,889 INFO: cache_dataset:True\t-->\tCalling Count:1\n"
          ]
        },
        {
          "output_type": "stream",
          "name": "stderr",
          "text": [
            "INFO:fast_lsa_t:cache_dataset:True\t-->\tCalling Count:1\n"
          ]
        },
        {
          "output_type": "stream",
          "name": "stdout",
          "text": [
            "2022-09-11 13:50:41,893 INFO: cross_validate_fold:-1\t-->\tCalling Count:1\n"
          ]
        },
        {
          "output_type": "stream",
          "name": "stderr",
          "text": [
            "INFO:fast_lsa_t:cross_validate_fold:-1\t-->\tCalling Count:1\n"
          ]
        },
        {
          "output_type": "stream",
          "name": "stdout",
          "text": [
            "2022-09-11 13:50:41,896 INFO: dataset_file:{'train': ['integrated_datasets/apc_datasets/110.SemEval/113.laptop14/Laptops_Train.xml.seg', 'integrated_datasets/apc_datasets/110.SemEval/114.restaurant14/Restaurants_Train.xml.seg', 'integrated_datasets/apc_datasets/110.SemEval/116.restaurant16/restaurant_train.raw'], 'test': ['integrated_datasets/apc_datasets/110.SemEval/113.laptop14/Laptops_Test_Gold.xml.seg', 'integrated_datasets/apc_datasets/110.SemEval/114.restaurant14/Restaurants_Test_Gold.xml.seg', 'integrated_datasets/apc_datasets/110.SemEval/116.restaurant16/restaurant_test.raw'], 'valid': []}\t-->\tCalling Count:4\n"
          ]
        },
        {
          "output_type": "stream",
          "name": "stderr",
          "text": [
            "INFO:fast_lsa_t:dataset_file:{'train': ['integrated_datasets/apc_datasets/110.SemEval/113.laptop14/Laptops_Train.xml.seg', 'integrated_datasets/apc_datasets/110.SemEval/114.restaurant14/Restaurants_Train.xml.seg', 'integrated_datasets/apc_datasets/110.SemEval/116.restaurant16/restaurant_train.raw'], 'test': ['integrated_datasets/apc_datasets/110.SemEval/113.laptop14/Laptops_Test_Gold.xml.seg', 'integrated_datasets/apc_datasets/110.SemEval/114.restaurant14/Restaurants_Test_Gold.xml.seg', 'integrated_datasets/apc_datasets/110.SemEval/116.restaurant16/restaurant_test.raw'], 'valid': []}\t-->\tCalling Count:4\n"
          ]
        },
        {
          "output_type": "stream",
          "name": "stdout",
          "text": [
            "2022-09-11 13:50:41,899 INFO: dataset_name:SemEval\t-->\tCalling Count:3\n"
          ]
        },
        {
          "output_type": "stream",
          "name": "stderr",
          "text": [
            "INFO:fast_lsa_t:dataset_name:SemEval\t-->\tCalling Count:3\n"
          ]
        },
        {
          "output_type": "stream",
          "name": "stdout",
          "text": [
            "2022-09-11 13:50:41,901 INFO: dca_layer:3\t-->\tCalling Count:0\n"
          ]
        },
        {
          "output_type": "stream",
          "name": "stderr",
          "text": [
            "INFO:fast_lsa_t:dca_layer:3\t-->\tCalling Count:0\n"
          ]
        },
        {
          "output_type": "stream",
          "name": "stdout",
          "text": [
            "2022-09-11 13:50:41,904 INFO: dca_p:1\t-->\tCalling Count:0\n"
          ]
        },
        {
          "output_type": "stream",
          "name": "stderr",
          "text": [
            "INFO:fast_lsa_t:dca_p:1\t-->\tCalling Count:0\n"
          ]
        },
        {
          "output_type": "stream",
          "name": "stdout",
          "text": [
            "2022-09-11 13:50:41,906 INFO: deep_ensemble:False\t-->\tCalling Count:0\n"
          ]
        },
        {
          "output_type": "stream",
          "name": "stderr",
          "text": [
            "INFO:fast_lsa_t:deep_ensemble:False\t-->\tCalling Count:0\n"
          ]
        },
        {
          "output_type": "stream",
          "name": "stdout",
          "text": [
            "2022-09-11 13:50:41,908 INFO: device:cuda:0\t-->\tCalling Count:6\n"
          ]
        },
        {
          "output_type": "stream",
          "name": "stderr",
          "text": [
            "INFO:fast_lsa_t:device:cuda:0\t-->\tCalling Count:6\n"
          ]
        },
        {
          "output_type": "stream",
          "name": "stdout",
          "text": [
            "2022-09-11 13:50:41,911 INFO: device_name:Tesla T4\t-->\tCalling Count:0\n"
          ]
        },
        {
          "output_type": "stream",
          "name": "stderr",
          "text": [
            "INFO:fast_lsa_t:device_name:Tesla T4\t-->\tCalling Count:0\n"
          ]
        },
        {
          "output_type": "stream",
          "name": "stdout",
          "text": [
            "2022-09-11 13:50:41,913 INFO: dlcf_a:2\t-->\tCalling Count:0\n"
          ]
        },
        {
          "output_type": "stream",
          "name": "stderr",
          "text": [
            "INFO:fast_lsa_t:dlcf_a:2\t-->\tCalling Count:0\n"
          ]
        },
        {
          "output_type": "stream",
          "name": "stdout",
          "text": [
            "2022-09-11 13:50:41,915 INFO: dropout:0.5\t-->\tCalling Count:1\n"
          ]
        },
        {
          "output_type": "stream",
          "name": "stderr",
          "text": [
            "INFO:fast_lsa_t:dropout:0.5\t-->\tCalling Count:1\n"
          ]
        },
        {
          "output_type": "stream",
          "name": "stdout",
          "text": [
            "2022-09-11 13:50:41,918 INFO: dynamic_truncate:True\t-->\tCalling Count:20110\n"
          ]
        },
        {
          "output_type": "stream",
          "name": "stderr",
          "text": [
            "INFO:fast_lsa_t:dynamic_truncate:True\t-->\tCalling Count:20110\n"
          ]
        },
        {
          "output_type": "stream",
          "name": "stdout",
          "text": [
            "2022-09-11 13:50:41,920 INFO: embed_dim:768\t-->\tCalling Count:7\n"
          ]
        },
        {
          "output_type": "stream",
          "name": "stderr",
          "text": [
            "INFO:fast_lsa_t:embed_dim:768\t-->\tCalling Count:7\n"
          ]
        },
        {
          "output_type": "stream",
          "name": "stdout",
          "text": [
            "2022-09-11 13:50:41,922 INFO: eta:-1\t-->\tCalling Count:0\n"
          ]
        },
        {
          "output_type": "stream",
          "name": "stderr",
          "text": [
            "INFO:fast_lsa_t:eta:-1\t-->\tCalling Count:0\n"
          ]
        },
        {
          "output_type": "stream",
          "name": "stdout",
          "text": [
            "2022-09-11 13:50:41,925 INFO: eta_lr:0.01\t-->\tCalling Count:0\n"
          ]
        },
        {
          "output_type": "stream",
          "name": "stderr",
          "text": [
            "INFO:fast_lsa_t:eta_lr:0.01\t-->\tCalling Count:0\n"
          ]
        },
        {
          "output_type": "stream",
          "name": "stdout",
          "text": [
            "2022-09-11 13:50:41,927 INFO: evaluate_begin:2\t-->\tCalling Count:0\n"
          ]
        },
        {
          "output_type": "stream",
          "name": "stderr",
          "text": [
            "INFO:fast_lsa_t:evaluate_begin:2\t-->\tCalling Count:0\n"
          ]
        },
        {
          "output_type": "stream",
          "name": "stdout",
          "text": [
            "2022-09-11 13:50:41,930 INFO: hidden_dim:768\t-->\tCalling Count:0\n"
          ]
        },
        {
          "output_type": "stream",
          "name": "stderr",
          "text": [
            "INFO:fast_lsa_t:hidden_dim:768\t-->\tCalling Count:0\n"
          ]
        },
        {
          "output_type": "stream",
          "name": "stdout",
          "text": [
            "2022-09-11 13:50:41,932 INFO: index_to_label:{0: 'Negative', 1: 'Neutral', 2: 'Positive'}\t-->\tCalling Count:2\n"
          ]
        },
        {
          "output_type": "stream",
          "name": "stderr",
          "text": [
            "INFO:fast_lsa_t:index_to_label:{0: 'Negative', 1: 'Neutral', 2: 'Positive'}\t-->\tCalling Count:2\n"
          ]
        },
        {
          "output_type": "stream",
          "name": "stdout",
          "text": [
            "2022-09-11 13:50:41,934 INFO: initializer:xavier_uniform_\t-->\tCalling Count:1\n"
          ]
        },
        {
          "output_type": "stream",
          "name": "stderr",
          "text": [
            "INFO:fast_lsa_t:initializer:xavier_uniform_\t-->\tCalling Count:1\n"
          ]
        },
        {
          "output_type": "stream",
          "name": "stdout",
          "text": [
            "2022-09-11 13:50:41,936 INFO: inputs_cols:['lcf_vec', 'left_lcf_vec', 'right_lcf_vec', 'spc_mask_vec', 'text_bert_indices']\t-->\tCalling Count:150732\n"
          ]
        },
        {
          "output_type": "stream",
          "name": "stderr",
          "text": [
            "INFO:fast_lsa_t:inputs_cols:['lcf_vec', 'left_lcf_vec', 'right_lcf_vec', 'spc_mask_vec', 'text_bert_indices']\t-->\tCalling Count:150732\n"
          ]
        },
        {
          "output_type": "stream",
          "name": "stdout",
          "text": [
            "2022-09-11 13:50:41,939 INFO: l2reg:0.0001\t-->\tCalling Count:1\n"
          ]
        },
        {
          "output_type": "stream",
          "name": "stderr",
          "text": [
            "INFO:fast_lsa_t:l2reg:0.0001\t-->\tCalling Count:1\n"
          ]
        },
        {
          "output_type": "stream",
          "name": "stdout",
          "text": [
            "2022-09-11 13:50:41,941 INFO: label_to_index:{'Negative': 0, 'Neutral': 1, 'Positive': 2}\t-->\tCalling Count:0\n"
          ]
        },
        {
          "output_type": "stream",
          "name": "stderr",
          "text": [
            "INFO:fast_lsa_t:label_to_index:{'Negative': 0, 'Neutral': 1, 'Positive': 2}\t-->\tCalling Count:0\n"
          ]
        },
        {
          "output_type": "stream",
          "name": "stdout",
          "text": [
            "2022-09-11 13:50:41,943 INFO: lcf:cdw\t-->\tCalling Count:0\n"
          ]
        },
        {
          "output_type": "stream",
          "name": "stderr",
          "text": [
            "INFO:fast_lsa_t:lcf:cdw\t-->\tCalling Count:0\n"
          ]
        },
        {
          "output_type": "stream",
          "name": "stdout",
          "text": [
            "2022-09-11 13:50:41,946 INFO: learning_rate:2e-05\t-->\tCalling Count:1\n"
          ]
        },
        {
          "output_type": "stream",
          "name": "stderr",
          "text": [
            "INFO:fast_lsa_t:learning_rate:2e-05\t-->\tCalling Count:1\n"
          ]
        },
        {
          "output_type": "stream",
          "name": "stdout",
          "text": [
            "2022-09-11 13:50:41,948 INFO: log_step:-1\t-->\tCalling Count:0\n"
          ]
        },
        {
          "output_type": "stream",
          "name": "stderr",
          "text": [
            "INFO:fast_lsa_t:log_step:-1\t-->\tCalling Count:0\n"
          ]
        },
        {
          "output_type": "stream",
          "name": "stdout",
          "text": [
            "2022-09-11 13:50:41,950 INFO: lsa:False\t-->\tCalling Count:0\n"
          ]
        },
        {
          "output_type": "stream",
          "name": "stderr",
          "text": [
            "INFO:fast_lsa_t:lsa:False\t-->\tCalling Count:0\n"
          ]
        },
        {
          "output_type": "stream",
          "name": "stdout",
          "text": [
            "2022-09-11 13:50:41,953 INFO: max_seq_len:80\t-->\tCalling Count:90481\n"
          ]
        },
        {
          "output_type": "stream",
          "name": "stderr",
          "text": [
            "INFO:fast_lsa_t:max_seq_len:80\t-->\tCalling Count:90481\n"
          ]
        },
        {
          "output_type": "stream",
          "name": "stdout",
          "text": [
            "2022-09-11 13:50:41,955 INFO: model:<class 'pyabsa.core.apc.models.fast_lsa_t.FAST_LSA_T'>\t-->\tCalling Count:6\n"
          ]
        },
        {
          "output_type": "stream",
          "name": "stderr",
          "text": [
            "INFO:fast_lsa_t:model:<class 'pyabsa.core.apc.models.fast_lsa_t.FAST_LSA_T'>\t-->\tCalling Count:6\n"
          ]
        },
        {
          "output_type": "stream",
          "name": "stdout",
          "text": [
            "2022-09-11 13:50:41,957 INFO: model_name:fast_lsa_t\t-->\tCalling Count:20098\n"
          ]
        },
        {
          "output_type": "stream",
          "name": "stderr",
          "text": [
            "INFO:fast_lsa_t:model_name:fast_lsa_t\t-->\tCalling Count:20098\n"
          ]
        },
        {
          "output_type": "stream",
          "name": "stdout",
          "text": [
            "2022-09-11 13:50:41,959 INFO: model_path_to_save:checkpoints\t-->\tCalling Count:0\n"
          ]
        },
        {
          "output_type": "stream",
          "name": "stderr",
          "text": [
            "INFO:fast_lsa_t:model_path_to_save:checkpoints\t-->\tCalling Count:0\n"
          ]
        },
        {
          "output_type": "stream",
          "name": "stdout",
          "text": [
            "2022-09-11 13:50:41,967 INFO: num_epoch:10\t-->\tCalling Count:0\n"
          ]
        },
        {
          "output_type": "stream",
          "name": "stderr",
          "text": [
            "INFO:fast_lsa_t:num_epoch:10\t-->\tCalling Count:0\n"
          ]
        },
        {
          "output_type": "stream",
          "name": "stdout",
          "text": [
            "2022-09-11 13:50:41,969 INFO: optimizer:adamw\t-->\tCalling Count:1\n"
          ]
        },
        {
          "output_type": "stream",
          "name": "stderr",
          "text": [
            "INFO:fast_lsa_t:optimizer:adamw\t-->\tCalling Count:1\n"
          ]
        },
        {
          "output_type": "stream",
          "name": "stdout",
          "text": [
            "2022-09-11 13:50:41,973 INFO: patience:99999\t-->\tCalling Count:0\n"
          ]
        },
        {
          "output_type": "stream",
          "name": "stderr",
          "text": [
            "INFO:fast_lsa_t:patience:99999\t-->\tCalling Count:0\n"
          ]
        },
        {
          "output_type": "stream",
          "name": "stdout",
          "text": [
            "2022-09-11 13:50:41,975 INFO: output_dim:3\t-->\tCalling Count:3\n"
          ]
        },
        {
          "output_type": "stream",
          "name": "stderr",
          "text": [
            "INFO:fast_lsa_t:output_dim:3\t-->\tCalling Count:3\n"
          ]
        },
        {
          "output_type": "stream",
          "name": "stdout",
          "text": [
            "2022-09-11 13:50:41,977 INFO: pretrained_bert:yangheng/deberta-v3-base-absa-v1.1\t-->\tCalling Count:4\n"
          ]
        },
        {
          "output_type": "stream",
          "name": "stderr",
          "text": [
            "INFO:fast_lsa_t:pretrained_bert:yangheng/deberta-v3-base-absa-v1.1\t-->\tCalling Count:4\n"
          ]
        },
        {
          "output_type": "stream",
          "name": "stdout",
          "text": [
            "2022-09-11 13:50:41,982 INFO: save_mode:1\t-->\tCalling Count:0\n"
          ]
        },
        {
          "output_type": "stream",
          "name": "stderr",
          "text": [
            "INFO:fast_lsa_t:save_mode:1\t-->\tCalling Count:0\n"
          ]
        },
        {
          "output_type": "stream",
          "name": "stdout",
          "text": [
            "2022-09-11 13:50:41,984 INFO: seed:52\t-->\tCalling Count:7\n"
          ]
        },
        {
          "output_type": "stream",
          "name": "stderr",
          "text": [
            "INFO:fast_lsa_t:seed:52\t-->\tCalling Count:7\n"
          ]
        },
        {
          "output_type": "stream",
          "name": "stdout",
          "text": [
            "2022-09-11 13:50:41,986 INFO: sigma:0.3\t-->\tCalling Count:0\n"
          ]
        },
        {
          "output_type": "stream",
          "name": "stderr",
          "text": [
            "INFO:fast_lsa_t:sigma:0.3\t-->\tCalling Count:0\n"
          ]
        },
        {
          "output_type": "stream",
          "name": "stdout",
          "text": [
            "2022-09-11 13:50:41,988 INFO: similarity_threshold:1\t-->\tCalling Count:2\n"
          ]
        },
        {
          "output_type": "stream",
          "name": "stderr",
          "text": [
            "INFO:fast_lsa_t:similarity_threshold:1\t-->\tCalling Count:2\n"
          ]
        },
        {
          "output_type": "stream",
          "name": "stdout",
          "text": [
            "2022-09-11 13:50:41,990 INFO: spacy_model:en_core_web_sm\t-->\tCalling Count:3\n"
          ]
        },
        {
          "output_type": "stream",
          "name": "stderr",
          "text": [
            "INFO:fast_lsa_t:spacy_model:en_core_web_sm\t-->\tCalling Count:3\n"
          ]
        },
        {
          "output_type": "stream",
          "name": "stdout",
          "text": [
            "2022-09-11 13:50:41,993 INFO: srd_alignment:True\t-->\tCalling Count:0\n"
          ]
        },
        {
          "output_type": "stream",
          "name": "stderr",
          "text": [
            "INFO:fast_lsa_t:srd_alignment:True\t-->\tCalling Count:0\n"
          ]
        },
        {
          "output_type": "stream",
          "name": "stdout",
          "text": [
            "2022-09-11 13:50:41,998 INFO: use_amp:False\t-->\tCalling Count:1\n"
          ]
        },
        {
          "output_type": "stream",
          "name": "stderr",
          "text": [
            "INFO:fast_lsa_t:use_amp:False\t-->\tCalling Count:1\n"
          ]
        },
        {
          "output_type": "stream",
          "name": "stdout",
          "text": [
            "2022-09-11 13:50:42,000 INFO: use_bert_spc:True\t-->\tCalling Count:0\n"
          ]
        },
        {
          "output_type": "stream",
          "name": "stderr",
          "text": [
            "INFO:fast_lsa_t:use_bert_spc:True\t-->\tCalling Count:0\n"
          ]
        },
        {
          "output_type": "stream",
          "name": "stdout",
          "text": [
            "2022-09-11 13:50:42,002 INFO: use_syntax_based_SRD:False\t-->\tCalling Count:0\n"
          ]
        },
        {
          "output_type": "stream",
          "name": "stderr",
          "text": [
            "INFO:fast_lsa_t:use_syntax_based_SRD:False\t-->\tCalling Count:0\n"
          ]
        },
        {
          "output_type": "stream",
          "name": "stdout",
          "text": [
            "2022-09-11 13:50:42,005 INFO: warmup_step:-1\t-->\tCalling Count:0\n"
          ]
        },
        {
          "output_type": "stream",
          "name": "stderr",
          "text": [
            "INFO:fast_lsa_t:warmup_step:-1\t-->\tCalling Count:0\n"
          ]
        },
        {
          "output_type": "stream",
          "name": "stdout",
          "text": [
            "2022-09-11 13:50:42,007 INFO: window:lr\t-->\tCalling Count:0\n"
          ]
        },
        {
          "output_type": "stream",
          "name": "stderr",
          "text": [
            "INFO:fast_lsa_t:window:lr\t-->\tCalling Count:0\n"
          ]
        },
        {
          "output_type": "stream",
          "name": "stdout",
          "text": [
            "2022-09-11 13:50:42,019 INFO: ***** Running training for Aspect Polarity Classification *****\n"
          ]
        },
        {
          "output_type": "stream",
          "name": "stderr",
          "text": [
            "INFO:fast_lsa_t:***** Running training for Aspect Polarity Classification *****\n"
          ]
        },
        {
          "output_type": "stream",
          "name": "stdout",
          "text": [
            "2022-09-11 13:50:42,022 INFO: Training set examples = 7676\n"
          ]
        },
        {
          "output_type": "stream",
          "name": "stderr",
          "text": [
            "INFO:fast_lsa_t:Training set examples = 7676\n"
          ]
        },
        {
          "output_type": "stream",
          "name": "stdout",
          "text": [
            "2022-09-11 13:50:42,025 INFO: Test set examples = 2372\n"
          ]
        },
        {
          "output_type": "stream",
          "name": "stderr",
          "text": [
            "INFO:fast_lsa_t:Test set examples = 2372\n"
          ]
        },
        {
          "output_type": "stream",
          "name": "stdout",
          "text": [
            "2022-09-11 13:50:42,028 INFO: Total params = 197414415, Trainable params = 197414415, Non-trainable params = 0\n"
          ]
        },
        {
          "output_type": "stream",
          "name": "stderr",
          "text": [
            "INFO:fast_lsa_t:Total params = 197414415, Trainable params = 197414415, Non-trainable params = 0\n"
          ]
        },
        {
          "output_type": "stream",
          "name": "stdout",
          "text": [
            "2022-09-11 13:50:42,030 INFO: Batch size = 16\n"
          ]
        },
        {
          "output_type": "stream",
          "name": "stderr",
          "text": [
            "INFO:fast_lsa_t:Batch size = 16\n"
          ]
        },
        {
          "output_type": "stream",
          "name": "stdout",
          "text": [
            "2022-09-11 13:50:42,032 INFO: Num steps = 300\n"
          ]
        },
        {
          "output_type": "stream",
          "name": "stderr",
          "text": [
            "INFO:fast_lsa_t:Num steps = 300\n",
            "100%|██████████| 480/480 [01:33<00:00,  5.11it/s, Epoch:0 | Loss: 0.19441731 | No evaluation until epoch:2]\n",
            "100%|██████████| 480/480 [01:33<00:00,  5.12it/s, Epoch:1 | Loss: 0.31944656 | No evaluation until epoch:2]\n",
            "100%|██████████| 480/480 [01:53<00:00,  4.22it/s, Epoch:2 | Loss:0.0823 | Acc:85.92(max:85.92) | F1:77.85(max:77.85)]\n",
            "  0%|          | 0/480 [00:00<?, ?it/s, Epoch:3]/usr/local/lib/python3.7/dist-packages/transformers/models/deberta_v2/modeling_deberta_v2.py:542: DeprecationWarning: `np.int` is a deprecated alias for the builtin `int`. To silence this warning, use `int` by itself. Doing this will not modify any behavior and is safe. When replacing `np.int`, you may wish to use e.g. `np.int64` or `np.int32` to specify the precision. If you wish to review your current use, check the release note link for additional information.\n",
            "Deprecated in NumPy 1.20; for more details and guidance: https://numpy.org/devdocs/release/1.20.0-notes.html#deprecations\n",
            "  bucket_pos = np.where(abs_pos <= mid, relative_pos, log_pos * sign).astype(np.int)\n",
            "100%|██████████| 480/480 [01:53<00:00,  4.22it/s, Epoch:3 | Loss:0.0522 | Acc:86.59(max:86.59) | F1:80.09(max:80.09)]\n",
            "  0%|          | 0/480 [00:00<?, ?it/s, Epoch:4]/usr/local/lib/python3.7/dist-packages/transformers/models/deberta_v2/modeling_deberta_v2.py:542: DeprecationWarning: `np.int` is a deprecated alias for the builtin `int`. To silence this warning, use `int` by itself. Doing this will not modify any behavior and is safe. When replacing `np.int`, you may wish to use e.g. `np.int64` or `np.int32` to specify the precision. If you wish to review your current use, check the release note link for additional information.\n",
            "Deprecated in NumPy 1.20; for more details and guidance: https://numpy.org/devdocs/release/1.20.0-notes.html#deprecations\n",
            "  bucket_pos = np.where(abs_pos <= mid, relative_pos, log_pos * sign).astype(np.int)\n",
            "100%|██████████| 480/480 [01:50<00:00,  4.35it/s, Epoch:4 | Loss:0.4684 | Acc:85.79(max:86.59) | F1:77.35(max:80.09)]\n",
            "  0%|          | 0/480 [00:00<?, ?it/s, Epoch:5]/usr/local/lib/python3.7/dist-packages/transformers/models/deberta_v2/modeling_deberta_v2.py:542: DeprecationWarning: `np.int` is a deprecated alias for the builtin `int`. To silence this warning, use `int` by itself. Doing this will not modify any behavior and is safe. When replacing `np.int`, you may wish to use e.g. `np.int64` or `np.int32` to specify the precision. If you wish to review your current use, check the release note link for additional information.\n",
            "Deprecated in NumPy 1.20; for more details and guidance: https://numpy.org/devdocs/release/1.20.0-notes.html#deprecations\n",
            "  bucket_pos = np.where(abs_pos <= mid, relative_pos, log_pos * sign).astype(np.int)\n",
            "100%|██████████| 480/480 [01:50<00:00,  4.35it/s, Epoch:5 | Loss:0.0137 | Acc:85.75(max:86.59) | F1:77.24(max:80.09)]\n",
            "  0%|          | 0/480 [00:00<?, ?it/s, Epoch:6]/usr/local/lib/python3.7/dist-packages/transformers/models/deberta_v2/modeling_deberta_v2.py:542: DeprecationWarning: `np.int` is a deprecated alias for the builtin `int`. To silence this warning, use `int` by itself. Doing this will not modify any behavior and is safe. When replacing `np.int`, you may wish to use e.g. `np.int64` or `np.int32` to specify the precision. If you wish to review your current use, check the release note link for additional information.\n",
            "Deprecated in NumPy 1.20; for more details and guidance: https://numpy.org/devdocs/release/1.20.0-notes.html#deprecations\n",
            "  bucket_pos = np.where(abs_pos <= mid, relative_pos, log_pos * sign).astype(np.int)\n",
            "100%|██████████| 480/480 [01:53<00:00,  4.23it/s, Epoch:6 | Loss:0.0122 | Acc:87.02(max:87.02) | F1:79.89(max:80.09)]\n",
            "  0%|          | 0/480 [00:00<?, ?it/s, Epoch:7]/usr/local/lib/python3.7/dist-packages/transformers/models/deberta_v2/modeling_deberta_v2.py:542: DeprecationWarning: `np.int` is a deprecated alias for the builtin `int`. To silence this warning, use `int` by itself. Doing this will not modify any behavior and is safe. When replacing `np.int`, you may wish to use e.g. `np.int64` or `np.int32` to specify the precision. If you wish to review your current use, check the release note link for additional information.\n",
            "Deprecated in NumPy 1.20; for more details and guidance: https://numpy.org/devdocs/release/1.20.0-notes.html#deprecations\n",
            "  bucket_pos = np.where(abs_pos <= mid, relative_pos, log_pos * sign).astype(np.int)\n",
            "100%|██████████| 480/480 [01:50<00:00,  4.34it/s, Epoch:7 | Loss:0.1602 | Acc:86.72(max:87.02) | F1:79.20(max:80.09)]\n",
            "  0%|          | 0/480 [00:00<?, ?it/s, Epoch:8]/usr/local/lib/python3.7/dist-packages/transformers/models/deberta_v2/modeling_deberta_v2.py:542: DeprecationWarning: `np.int` is a deprecated alias for the builtin `int`. To silence this warning, use `int` by itself. Doing this will not modify any behavior and is safe. When replacing `np.int`, you may wish to use e.g. `np.int64` or `np.int32` to specify the precision. If you wish to review your current use, check the release note link for additional information.\n",
            "Deprecated in NumPy 1.20; for more details and guidance: https://numpy.org/devdocs/release/1.20.0-notes.html#deprecations\n",
            "  bucket_pos = np.where(abs_pos <= mid, relative_pos, log_pos * sign).astype(np.int)\n",
            "100%|██████████| 480/480 [01:50<00:00,  4.35it/s, Epoch:8 | Loss:0.0178 | Acc:86.85(max:87.02) | F1:79.29(max:80.09)]\n",
            "  0%|          | 0/480 [00:00<?, ?it/s, Epoch:9]/usr/local/lib/python3.7/dist-packages/transformers/models/deberta_v2/modeling_deberta_v2.py:542: DeprecationWarning: `np.int` is a deprecated alias for the builtin `int`. To silence this warning, use `int` by itself. Doing this will not modify any behavior and is safe. When replacing `np.int`, you may wish to use e.g. `np.int64` or `np.int32` to specify the precision. If you wish to review your current use, check the release note link for additional information.\n",
            "Deprecated in NumPy 1.20; for more details and guidance: https://numpy.org/devdocs/release/1.20.0-notes.html#deprecations\n",
            "  bucket_pos = np.where(abs_pos <= mid, relative_pos, log_pos * sign).astype(np.int)\n",
            "100%|██████████| 480/480 [01:50<00:00,  4.35it/s, Epoch:9 | Loss:0.0085 | Acc:86.76(max:87.02) | F1:79.66(max:80.09)]"
          ]
        },
        {
          "output_type": "stream",
          "name": "stdout",
          "text": [
            "2022-09-11 14:08:42,479 INFO:  ------------------------------------- Metric Visualizer ------------------------------------- \n",
            "╒════════════════════════════╤════════════════════╤════════════════════════════╤═════════════════════════════════════════════════════════════════════════╕\n",
            "│ Metric                     │ Model & Dataset    │ Values (First 10 values)   │ Summary                                                                 │\n",
            "╞════════════════════════════╪════════════════════╪════════════════════════════╪═════════════════════════════════════════════════════════════════════════╡\n",
            "│ Max-Test-Acc w/o Valid Set │ FAST_LSA_T-SemEval │ [87.02]                    │ ['Avg:87.02, Median: 87.02, IQR: 0.0, STD:0.0, Max: 87.02, Min: 87.02'] │\n",
            "├────────────────────────────┼────────────────────┼────────────────────────────┼─────────────────────────────────────────────────────────────────────────┤\n",
            "│ Max-Test-F1 w/o Valid Set  │ FAST_LSA_T-SemEval │ [80.09]                    │ ['Avg:80.09, Median: 80.09, IQR: 0.0, STD:0.0, Max: 80.09, Min: 80.09'] │\n",
            "╘════════════════════════════╧════════════════════╧════════════════════════════╧═════════════════════════════════════════════════════════════════════════╛\n",
            " -------------------- https://github.com/yangheng95/metric_visualizer --------------------\n",
            "\n"
          ]
        },
        {
          "output_type": "stream",
          "name": "stderr",
          "text": [
            "\n",
            "INFO:fast_lsa_t: ------------------------------------- Metric Visualizer ------------------------------------- \n",
            "╒════════════════════════════╤════════════════════╤════════════════════════════╤═════════════════════════════════════════════════════════════════════════╕\n",
            "│ Metric                     │ Model & Dataset    │ Values (First 10 values)   │ Summary                                                                 │\n",
            "╞════════════════════════════╪════════════════════╪════════════════════════════╪═════════════════════════════════════════════════════════════════════════╡\n",
            "│ Max-Test-Acc w/o Valid Set │ FAST_LSA_T-SemEval │ [87.02]                    │ ['Avg:87.02, Median: 87.02, IQR: 0.0, STD:0.0, Max: 87.02, Min: 87.02'] │\n",
            "├────────────────────────────┼────────────────────┼────────────────────────────┼─────────────────────────────────────────────────────────────────────────┤\n",
            "│ Max-Test-F1 w/o Valid Set  │ FAST_LSA_T-SemEval │ [80.09]                    │ ['Avg:80.09, Median: 80.09, IQR: 0.0, STD:0.0, Max: 80.09, Min: 80.09'] │\n",
            "╘════════════════════════════╧════════════════════╧════════════════════════════╧═════════════════════════════════════════════════════════════════════════╛\n",
            " -------------------- https://github.com/yangheng95/metric_visualizer --------------------\n",
            "\n"
          ]
        },
        {
          "output_type": "stream",
          "name": "stdout",
          "text": [
            "Training finished, we hope you can share your checkpoint with community, please see: https://github.com/yangheng95/PyABSA/blob/release/demos/documents/share-checkpoint.md\n",
            "ABSADatasetsVersion:2022.07.22\t-->\tCalling Count:0\n",
            "MV:<metric_visualizer.metric_visualizer.MetricVisualizer object at 0x7fea36f6bd50>\t-->\tCalling Count:3\n",
            "PyABSAVersion:1.16.16\t-->\tCalling Count:0\n",
            "SRD:3\t-->\tCalling Count:10055\n",
            "TorchVersion:1.12.1+cu113+cuda11.3\t-->\tCalling Count:0\n",
            "TransformersVersion:4.21.3\t-->\tCalling Count:0\n",
            "auto_device:True\t-->\tCalling Count:4801\n",
            "batch_size:16\t-->\tCalling Count:5\n",
            "cache_dataset:True\t-->\tCalling Count:1\n",
            "cross_validate_fold:-1\t-->\tCalling Count:2\n",
            "dataset_file:{'train': ['integrated_datasets/apc_datasets/110.SemEval/113.laptop14/Laptops_Train.xml.seg', 'integrated_datasets/apc_datasets/110.SemEval/114.restaurant14/Restaurants_Train.xml.seg', 'integrated_datasets/apc_datasets/110.SemEval/116.restaurant16/restaurant_train.raw'], 'test': ['integrated_datasets/apc_datasets/110.SemEval/113.laptop14/Laptops_Test_Gold.xml.seg', 'integrated_datasets/apc_datasets/110.SemEval/114.restaurant14/Restaurants_Test_Gold.xml.seg', 'integrated_datasets/apc_datasets/110.SemEval/116.restaurant16/restaurant_test.raw'], 'valid': []}\t-->\tCalling Count:14\n",
            "dataset_name:SemEval\t-->\tCalling Count:7\n",
            "dca_layer:3\t-->\tCalling Count:0\n",
            "dca_p:1\t-->\tCalling Count:0\n",
            "deep_ensemble:False\t-->\tCalling Count:0\n",
            "device:cuda:0\t-->\tCalling Count:35961\n",
            "device_name:Tesla T4\t-->\tCalling Count:0\n",
            "dlcf_a:2\t-->\tCalling Count:0\n",
            "dropout:0.5\t-->\tCalling Count:1\n",
            "dynamic_truncate:True\t-->\tCalling Count:20110\n",
            "embed_dim:768\t-->\tCalling Count:7\n",
            "ensemble_mode:cat\t-->\tCalling Count:0\n",
            "eta:-1\t-->\tCalling Count:0\n",
            "eta_lr:0.01\t-->\tCalling Count:0\n",
            "evaluate_begin:2\t-->\tCalling Count:15\n",
            "hidden_dim:768\t-->\tCalling Count:0\n",
            "index_to_label:{0: 'Negative', 1: 'Neutral', 2: 'Positive'}\t-->\tCalling Count:2\n",
            "initializer:xavier_uniform_\t-->\tCalling Count:1\n",
            "inputs_cols:['lcf_vec', 'left_lcf_vec', 'right_lcf_vec', 'spc_mask_vec', 'text_bert_indices']\t-->\tCalling Count:156724\n",
            "l2reg:0.0001\t-->\tCalling Count:1\n",
            "label_to_index:{'Negative': 0, 'Neutral': 1, 'Positive': 2}\t-->\tCalling Count:0\n",
            "lcf:cdw\t-->\tCalling Count:0\n",
            "learning_rate:2e-05\t-->\tCalling Count:1\n",
            "log_step:480\t-->\tCalling Count:4802\n",
            "loss:0.023100676573812963\t-->\tCalling Count:0\n",
            "lsa:False\t-->\tCalling Count:0\n",
            "max_seq_len:80\t-->\tCalling Count:114449\n",
            "max_test_metrics:{'max_apc_test_acc': 0.8701517706576728, 'max_apc_test_f1': 0.800870653214096}\t-->\tCalling Count:11\n",
            "metrics_of_this_checkpoint:{'acc': 0.8676222596964587, 'f1': 0.7966265592871326}\t-->\tCalling Count:16\n",
            "model:<class 'pyabsa.core.apc.models.fast_lsa_t.FAST_LSA_T'>\t-->\tCalling Count:6\n",
            "model_name:fast_lsa_t\t-->\tCalling Count:20114\n",
            "model_path_to_save:checkpoints\t-->\tCalling Count:10\n",
            "num_epoch:10\t-->\tCalling Count:2\n",
            "optimizer:adamw\t-->\tCalling Count:1\n",
            "patience:99999\t-->\tCalling Count:6\n",
            "output_dim:3\t-->\tCalling Count:11\n",
            "pretrained_bert:yangheng/deberta-v3-base-absa-v1.1\t-->\tCalling Count:4\n",
            "save_mode:1\t-->\tCalling Count:8\n",
            "seed:52\t-->\tCalling Count:7\n",
            "sigma:0.3\t-->\tCalling Count:0\n",
            "similarity_threshold:1\t-->\tCalling Count:2\n",
            "spacy_model:en_core_web_sm\t-->\tCalling Count:3\n",
            "srd_alignment:True\t-->\tCalling Count:0\n",
            "use_amp:False\t-->\tCalling Count:1\n",
            "use_bert_spc:True\t-->\tCalling Count:0\n",
            "use_syntax_based_SRD:False\t-->\tCalling Count:0\n",
            "warmup_step:-1\t-->\tCalling Count:4801\n",
            "window:lr\t-->\tCalling Count:5992\n"
          ]
        },
        {
          "output_type": "stream",
          "name": "stderr",
          "text": [
            "/usr/local/lib/python3.7/dist-packages/pyabsa/functional/trainer/trainer.py:171: ResourceWarning: unclosed file <_io.TextIOWrapper name='/content/logs/fast_lsa_t_20220911 131704/training.log' mode='a' encoding='utf8'>\n",
            "  self.logger.removeHandler(self.logger.handlers[0])\n",
            "ResourceWarning: Enable tracemalloc to get the object allocation traceback\n"
          ]
        },
        {
          "output_type": "stream",
          "name": "stdout",
          "text": [
            "Load sentiment classifier from checkpoints/fast_lsa_t_SemEval_acc_87.02_f1_79.89/\n",
            "config: checkpoints/fast_lsa_t_SemEval_acc_87.02_f1_79.89/fast_lsa_t.config\n",
            "state_dict: checkpoints/fast_lsa_t_SemEval_acc_87.02_f1_79.89/fast_lsa_t.state_dict\n",
            "model: None\n",
            "tokenizer: checkpoints/fast_lsa_t_SemEval_acc_87.02_f1_79.89/fast_lsa_t.tokenizer\n"
          ]
        },
        {
          "output_type": "stream",
          "name": "stderr",
          "text": [
            "Special tokens have been added in the vocabulary, make sure the associated word embeddings are fine-tuned or trained.\n",
            "/usr/local/lib/python3.7/dist-packages/transformers/convert_slow_tokenizer.py:435: UserWarning: The sentencepiece tokenizer that you are converting to a fast tokenizer uses the byte fallback option which is not implemented in the fast tokenizers. In practice this means that the fast version of the tokenizer can produce unknown tokens whereas the sentencepiece version would have converted these unknown tokens into a sequence of byte tokens matching the original piece of text.\n",
            "  \"The sentencepiece tokenizer that you are converting to a fast tokenizer uses the byte fallback option\"\n",
            "Special tokens have been added in the vocabulary, make sure the associated word embeddings are fine-tuned or trained.\n",
            "Some weights of the model checkpoint at yangheng/deberta-v3-base-absa-v1.1 were not used when initializing DebertaV2Model: ['mask_predictions.LayerNorm.bias', 'lm_predictions.lm_head.LayerNorm.bias', 'mask_predictions.dense.weight', 'lm_predictions.lm_head.bias', 'lm_predictions.lm_head.dense.bias', 'mask_predictions.dense.bias', 'mask_predictions.classifier.bias', 'mask_predictions.LayerNorm.weight', 'lm_predictions.lm_head.LayerNorm.weight', 'mask_predictions.classifier.weight', 'lm_predictions.lm_head.dense.weight']\n",
            "- This IS expected if you are initializing DebertaV2Model from the checkpoint of a model trained on another task or with another architecture (e.g. initializing a BertForSequenceClassification model from a BertForPreTraining model).\n",
            "- This IS NOT expected if you are initializing DebertaV2Model from the checkpoint of a model that you expect to be exactly identical (initializing a BertForSequenceClassification model from a BertForSequenceClassification model).\n"
          ]
        },
        {
          "output_type": "stream",
          "name": "stdout",
          "text": [
            "\u001b[31mCaching dataset... please remove cached dataset if any problem happens.\u001b[0m\n"
          ]
        },
        {
          "output_type": "stream",
          "name": "stderr",
          "text": [
            "Special tokens have been added in the vocabulary, make sure the associated word embeddings are fine-tuned or trained.\n",
            "Special tokens have been added in the vocabulary, make sure the associated word embeddings are fine-tuned or trained.\n"
          ]
        },
        {
          "output_type": "stream",
          "name": "stdout",
          "text": [
            "Config used in Training:\n",
            "ABSADatasetsVersion:2022.07.22\t-->\tCalling Count:0\n",
            "MV:<metric_visualizer.metric_visualizer.MetricVisualizer object at 0x7fea38b9b2d0>\t-->\tCalling Count:0\n",
            "PyABSAVersion:1.16.16\t-->\tCalling Count:0\n",
            "SRD:3\t-->\tCalling Count:10055\n",
            "TorchVersion:1.12.1+cu113+cuda11.3\t-->\tCalling Count:0\n",
            "TransformersVersion:4.21.3\t-->\tCalling Count:0\n",
            "auto_device:True\t-->\tCalling Count:3361\n",
            "batch_size:16\t-->\tCalling Count:5\n",
            "cache_dataset:True\t-->\tCalling Count:2\n",
            "cross_validate_fold:-1\t-->\tCalling Count:2\n",
            "dataset_file:{'train': ['integrated_datasets/apc_datasets/110.SemEval/113.laptop14/Laptops_Train.xml.seg', 'integrated_datasets/apc_datasets/110.SemEval/114.restaurant14/Restaurants_Train.xml.seg', 'integrated_datasets/apc_datasets/110.SemEval/116.restaurant16/restaurant_train.raw'], 'test': ['integrated_datasets/apc_datasets/110.SemEval/113.laptop14/Laptops_Test_Gold.xml.seg', 'integrated_datasets/apc_datasets/110.SemEval/114.restaurant14/Restaurants_Test_Gold.xml.seg', 'integrated_datasets/apc_datasets/110.SemEval/116.restaurant16/restaurant_test.raw'], 'valid': []}\t-->\tCalling Count:11\n",
            "dataset_name:SemEval\t-->\tCalling Count:8\n",
            "dca_layer:3\t-->\tCalling Count:0\n",
            "dca_p:1\t-->\tCalling Count:0\n",
            "deep_ensemble:False\t-->\tCalling Count:0\n",
            "device:cuda:0\t-->\tCalling Count:24638\n",
            "device_name:Tesla T4\t-->\tCalling Count:0\n",
            "dlcf_a:2\t-->\tCalling Count:0\n",
            "dropout:0.5\t-->\tCalling Count:2\n",
            "dynamic_truncate:True\t-->\tCalling Count:20110\n",
            "embed_dim:768\t-->\tCalling Count:14\n",
            "ensemble_mode:cat\t-->\tCalling Count:0\n",
            "eta:-1\t-->\tCalling Count:0\n",
            "eta_lr:0.01\t-->\tCalling Count:0\n",
            "evaluate_begin:2\t-->\tCalling Count:12\n",
            "hidden_dim:768\t-->\tCalling Count:0\n",
            "index_to_label:{0: 'Negative', 1: 'Neutral', 2: 'Positive'}\t-->\tCalling Count:2\n",
            "initializer:xavier_uniform_\t-->\tCalling Count:1\n",
            "inputs_cols:['lcf_vec', 'left_lcf_vec', 'right_lcf_vec', 'spc_mask_vec', 'text_bert_indices']\t-->\tCalling Count:154840\n",
            "l2reg:0.0001\t-->\tCalling Count:1\n",
            "label_to_index:{'Negative': 0, 'Neutral': 1, 'Positive': 2}\t-->\tCalling Count:0\n",
            "lcf:cdw\t-->\tCalling Count:0\n",
            "learning_rate:2e-05\t-->\tCalling Count:1\n",
            "log_step:480\t-->\tCalling Count:3362\n",
            "lsa:False\t-->\tCalling Count:0\n",
            "max_seq_len:80\t-->\tCalling Count:106901\n",
            "max_test_metrics:{'max_apc_test_acc': 0.8701517706576728, 'max_apc_test_f1': 0.800870653214096}\t-->\tCalling Count:11\n",
            "metrics_of_this_checkpoint:{'acc': 0.8701517706576728, 'f1': 0.7988640492102467}\t-->\tCalling Count:10\n",
            "model:<class 'pyabsa.core.apc.models.fast_lsa_t.FAST_LSA_T'>\t-->\tCalling Count:9\n",
            "model_name:fast_lsa_t\t-->\tCalling Count:20113\n",
            "model_path_to_save:checkpoints\t-->\tCalling Count:10\n",
            "num_epoch:10\t-->\tCalling Count:2\n",
            "optimizer:adamw\t-->\tCalling Count:1\n",
            "patience:99999\t-->\tCalling Count:6\n",
            "output_dim:3\t-->\tCalling Count:11\n",
            "pretrained_bert:yangheng/deberta-v3-base-absa-v1.1\t-->\tCalling Count:9\n",
            "save_mode:1\t-->\tCalling Count:7\n",
            "seed:52\t-->\tCalling Count:7\n",
            "sigma:0.3\t-->\tCalling Count:0\n",
            "similarity_threshold:1\t-->\tCalling Count:2\n",
            "spacy_model:en_core_web_sm\t-->\tCalling Count:3\n",
            "srd_alignment:True\t-->\tCalling Count:0\n",
            "use_amp:False\t-->\tCalling Count:1\n",
            "use_bert_spc:True\t-->\tCalling Count:0\n",
            "use_syntax_based_SRD:False\t-->\tCalling Count:0\n",
            "warmup_step:-1\t-->\tCalling Count:3361\n",
            "window:lr\t-->\tCalling Count:4105\n"
          ]
        }
      ]
    },
    {
      "cell_type": "markdown",
      "source": [
        "# We provide GloVe models and BERT-Baseline models, you can use them with some modification"
      ],
      "metadata": {
        "id": "7PqXtri1WVGb"
      }
    },
    {
      "cell_type": "markdown",
      "source": [
        "## GloVe model training"
      ],
      "metadata": {
        "id": "-iDucpDIWgLD"
      }
    },
    {
      "cell_type": "code",
      "source": [
        "from pyabsa import APCTrainer, APCConfigManager, GloVeAPCModelList, ABSADatasetList\n",
        "\n",
        "# Put glove embedding under current path first if you dont want to download GloVe embedding\n",
        "apc_config_english = APCConfigManager.get_apc_config_glove()\n",
        "apc_config_english.model = GloVeAPCModelList.TNet_LF\n",
        "apc_config_english.num_epoch = 20\n",
        "apc_config_english.log_step = -1\n",
        "apc_config_english.cross_validate_fold = -1  # disable cross_validate, enable in {5, 10}\n",
        "\n",
        "Dataset = ABSADatasetList.SemEval\n",
        "sent_classifier = APCTrainer(config=apc_config_english,  # set config=None will use the apc_config as well\n",
        "                dataset=Dataset,  # train set and test set will be automatically detected\n",
        "                checkpoint_save_mode=1,  # set model_path_to_save=None to avoid save model\n",
        "                auto_device=True  # automatic choose CUDA or CPU\n",
        "                )\n"
      ],
      "metadata": {
        "id": "FWMullSRWfTW",
        "colab": {
          "base_uri": "https://localhost:8080/"
        },
        "outputId": "89a8b7b8-d5fd-42c3-995e-bf42dd18ab3a"
      },
      "execution_count": null,
      "outputs": [
        {
          "output_type": "stream",
          "name": "stdout",
          "text": [
            "Remote ABSADataset version: 2022.07.22 Local ABSADatasets version: 2022.07.22\n",
            "Dataset is not a path, treat dataset as keywords to Load 113.Laptop14 from: 113.Laptop14 or Search https://github.com/yangheng95/ABSADatasets locally using findfile\n",
            "\u001b[32mYou can set load_aug=True in a trainer to augment your dataset (English only yet) and improve performance.\u001b[0m\n",
            "\u001b[32mPlease use a new folder to perform new text augmentation if the former augmentation exited unexpectedly\u001b[0m\n",
            "Dataset is not a path, treat dataset as keywords to Load 114.Restaurant14 from: 114.Restaurant14 or Search https://github.com/yangheng95/ABSADatasets locally using findfile\n",
            "\u001b[32mYou can set load_aug=True in a trainer to augment your dataset (English only yet) and improve performance.\u001b[0m\n",
            "\u001b[32mPlease use a new folder to perform new text augmentation if the former augmentation exited unexpectedly\u001b[0m\n",
            "Dataset is not a path, treat dataset as keywords to Load 116.Restaurant16 from: 116.Restaurant16 or Search https://github.com/yangheng95/ABSADatasets locally using findfile\n",
            "\u001b[32mYou can set load_aug=True in a trainer to augment your dataset (English only yet) and improve performance.\u001b[0m\n",
            "\u001b[32mPlease use a new folder to perform new text augmentation if the former augmentation exited unexpectedly\u001b[0m\n",
            "\u001b[33mPlease DO NOT mix datasets with different sentiment labels for training & inference !\u001b[0m\n",
            "Loading tokenizer on run/SemEval/SemEval_tokenizer.dat\n",
            "\u001b[32mLoading cached embedding_matrix from run/SemEval/300_SemEval_embedding_matrix.dat (Please remove all cached files if there is any problem!)\u001b[0m\n"
          ]
        },
        {
          "output_type": "stream",
          "name": "stderr",
          "text": [
            "/usr/local/lib/python3.7/dist-packages/pyabsa/core/apc/classic/__glove__/dataset_utils/data_utils_for_training.py:29: ResourceWarning: unclosed file <_io.BufferedReader name='run/SemEval/SemEval_tokenizer.dat'>\n",
            "  tokenizer = pickle.load(open(tokenizer_path, 'rb'))\n",
            "ResourceWarning: Enable tracemalloc to get the object allocation traceback\n",
            "/usr/local/lib/python3.7/dist-packages/pyabsa/utils/pyabsa_utils.py:224: ResourceWarning: unclosed file <_io.BufferedReader name='run/SemEval/300_SemEval_embedding_matrix.dat'>\n",
            "  embedding_matrix = pickle.load(open(embed_matrix_path, 'rb'))\n",
            "ResourceWarning: Enable tracemalloc to get the object allocation traceback\n"
          ]
        },
        {
          "output_type": "stream",
          "name": "stdout",
          "text": [
            "loading: integrated_datasets/apc_datasets/110.SemEval/113.laptop14/Laptops_Train.xml.seg\n",
            "loading: integrated_datasets/apc_datasets/110.SemEval/114.restaurant14/Restaurants_Train.xml.seg\n",
            "loading: integrated_datasets/apc_datasets/110.SemEval/116.restaurant16/restaurant_train.raw\n"
          ]
        },
        {
          "output_type": "stream",
          "name": "stderr",
          "text": [
            " 43%|████▎     | 3300/7682 [00:01<00:02, 2011.89it/s, preparing dataloader...]"
          ]
        },
        {
          "output_type": "stream",
          "name": "stdout",
          "text": [
            "\u001b[33mAspectTooLongWarning -> <aspect: fried mini buns with the condensed milk and the assorted fruits on beancurd> is too long, <text: the waitress remembers me and is very friendly , she knows what my regular is and that 's the fried mini buns with the condensed milk and the assorted fruits on beancurd .>, <polarity: Positive>\u001b[0m\n"
          ]
        },
        {
          "output_type": "stream",
          "name": "stderr",
          "text": [
            " 56%|█████▌    | 4288/7682 [00:01<00:01, 1888.96it/s, preparing dataloader...]"
          ]
        },
        {
          "output_type": "stream",
          "name": "stdout",
          "text": [
            "\u001b[33mAspectTooLongWarning -> <aspect: salad with perfectly marinated cucumbers and tomatoes with lots of shrimp and basil> is too long, <text: i ate clams oreganta and spectacular salad with perfectly marinated cucumbers and tomatoes with lots of shrimp and basil .>, <polarity: Positive>\u001b[0m\n",
            "\u001b[33mAspectTooLongWarning -> <aspect: godmother pizza (a sort of traditional flat pizza with an olive oil-brushed crust and less tomato sauce than usual)> is too long, <text: but they 've done a really nice job of offering all the typical pizzeria faves plus some terrific specials like the godmother pizza (a sort of traditional flat pizza with an olive oil-brushed crust and less tomato sauce than usual) .>, <polarity: Positive>\u001b[0m\n"
          ]
        },
        {
          "output_type": "stream",
          "name": "stderr",
          "text": [
            " 76%|███████▌  | 5812/7682 [00:02<00:01, 1857.16it/s, preparing dataloader...]"
          ]
        },
        {
          "output_type": "stream",
          "name": "stdout",
          "text": [
            "\u001b[33mAspectTooLongWarning -> <aspect: egg noodles in the beef broth with shrimp dumplings and slices of bbq roast pork> is too long, <text: i fell in love with the egg noodles in the beef broth with shrimp dumplings and slices of bbq roast pork .>, <polarity: Positive>\u001b[0m\n"
          ]
        },
        {
          "output_type": "stream",
          "name": "stderr",
          "text": [
            " 95%|█████████▌| 7332/7682 [00:03<00:00, 1785.69it/s, preparing dataloader...]"
          ]
        },
        {
          "output_type": "stream",
          "name": "stdout",
          "text": [
            "\u001b[33mAspectTooLongWarning -> <aspect: egg noodles in the beef broth with shrimp dumplings and slices of bbq roast pork> is too long, <text: i fell in love with the egg noodles in the beef broth with shrimp dumplings and slices of bbq roast pork .>, <polarity: Positive>\u001b[0m\n",
            "\u001b[33mAspectTooLongWarning -> <aspect: cocktail with citrus vodka and lemon and lime juice and mint leaves> is too long, <text: the have a great cocktail with citrus vodka and lemon and lime juice and mint leaves that is to die for !>, <polarity: Positive>\u001b[0m\n"
          ]
        },
        {
          "output_type": "stream",
          "name": "stderr",
          "text": [
            "100%|██████████| 7682/7682 [00:03<00:00, 2065.72it/s, preparing dataloader...]\n"
          ]
        },
        {
          "output_type": "stream",
          "name": "stdout",
          "text": [
            "Dataset Label Details: {'Positive': 4392, 'Neutral': 1170, 'Negative': 2114, 'Sum': 7676}\n"
          ]
        },
        {
          "output_type": "stream",
          "name": "stderr",
          "text": [
            "/usr/local/lib/python3.7/dist-packages/pyabsa/core/apc/models/ensembler.py:132: ResourceWarning: unclosed file <_io.BufferedReader name='/content/run/SemEval/dependency_cache/train_set_100x100.graph'>\n",
            "  self.train_set = GloVeABSADataset(self.opt.dataset_file['train'], self.tokenizer, self.opt) if not self.train_set else self.train_set\n",
            "ResourceWarning: Enable tracemalloc to get the object allocation traceback\n"
          ]
        },
        {
          "output_type": "stream",
          "name": "stdout",
          "text": [
            "loading: integrated_datasets/apc_datasets/110.SemEval/113.laptop14/Laptops_Test_Gold.xml.seg\n",
            "loading: integrated_datasets/apc_datasets/110.SemEval/114.restaurant14/Restaurants_Test_Gold.xml.seg\n",
            "loading: integrated_datasets/apc_datasets/110.SemEval/116.restaurant16/restaurant_test.raw\n"
          ]
        },
        {
          "output_type": "stream",
          "name": "stderr",
          "text": [
            "100%|██████████| 2373/2373 [00:00<00:00, 3183.12it/s, preparing dataloader...]\n"
          ]
        },
        {
          "output_type": "stream",
          "name": "stdout",
          "text": [
            "\u001b[33mAspectTooLongWarning -> <aspect: appetizer of oysters , lobster , crab ( small size )> is too long, <text: the appetizer of oysters , lobster , crab ( small size ) made a perfect entre for my wife .>, <polarity: Positive>\u001b[0m\n",
            "Dataset Label Details: {'Positive': 1536, 'Neutral': 395, 'Negative': 441, 'Sum': 2372}\n"
          ]
        },
        {
          "output_type": "stream",
          "name": "stderr",
          "text": [
            "/usr/local/lib/python3.7/dist-packages/pyabsa/core/apc/models/ensembler.py:134: ResourceWarning: unclosed file <_io.BufferedReader name='/content/run/SemEval/dependency_cache/test_set_100x100.graph'>\n",
            "  self.test_set = GloVeABSADataset(self.opt.dataset_file['test'], self.tokenizer, self.opt) if not self.test_set else self.test_set\n",
            "ResourceWarning: Enable tracemalloc to get the object allocation traceback\n"
          ]
        },
        {
          "output_type": "stream",
          "name": "stdout",
          "text": [
            "\u001b[31mCaching dataset... please remove cached dataset if any problem happens.\u001b[0m\n",
            "2022-09-11 14:21:23,110 INFO: cuda memory allocated:826245632\n"
          ]
        },
        {
          "output_type": "stream",
          "name": "stderr",
          "text": [
            "INFO:tnet_lf:cuda memory allocated:826245632\n"
          ]
        },
        {
          "output_type": "stream",
          "name": "stdout",
          "text": [
            "2022-09-11 14:21:23,114 INFO: ABSADatasetsVersion:2022.07.22\t-->\tCalling Count:0\n"
          ]
        },
        {
          "output_type": "stream",
          "name": "stderr",
          "text": [
            "INFO:tnet_lf:ABSADatasetsVersion:2022.07.22\t-->\tCalling Count:0\n"
          ]
        },
        {
          "output_type": "stream",
          "name": "stdout",
          "text": [
            "2022-09-11 14:21:23,123 INFO: MV:<metric_visualizer.metric_visualizer.MetricVisualizer object at 0x7fea699b3790>\t-->\tCalling Count:0\n"
          ]
        },
        {
          "output_type": "stream",
          "name": "stderr",
          "text": [
            "INFO:tnet_lf:MV:<metric_visualizer.metric_visualizer.MetricVisualizer object at 0x7fea699b3790>\t-->\tCalling Count:0\n"
          ]
        },
        {
          "output_type": "stream",
          "name": "stdout",
          "text": [
            "2022-09-11 14:21:23,130 INFO: PyABSAVersion:1.16.16\t-->\tCalling Count:0\n"
          ]
        },
        {
          "output_type": "stream",
          "name": "stderr",
          "text": [
            "INFO:tnet_lf:PyABSAVersion:1.16.16\t-->\tCalling Count:0\n"
          ]
        },
        {
          "output_type": "stream",
          "name": "stdout",
          "text": [
            "2022-09-11 14:21:23,132 INFO: SRD:3\t-->\tCalling Count:0\n"
          ]
        },
        {
          "output_type": "stream",
          "name": "stderr",
          "text": [
            "INFO:tnet_lf:SRD:3\t-->\tCalling Count:0\n"
          ]
        },
        {
          "output_type": "stream",
          "name": "stdout",
          "text": [
            "2022-09-11 14:21:23,135 INFO: TorchVersion:1.12.1+cu113+cuda11.3\t-->\tCalling Count:0\n"
          ]
        },
        {
          "output_type": "stream",
          "name": "stderr",
          "text": [
            "INFO:tnet_lf:TorchVersion:1.12.1+cu113+cuda11.3\t-->\tCalling Count:0\n"
          ]
        },
        {
          "output_type": "stream",
          "name": "stdout",
          "text": [
            "2022-09-11 14:21:23,137 INFO: TransformersVersion:4.21.3\t-->\tCalling Count:0\n"
          ]
        },
        {
          "output_type": "stream",
          "name": "stderr",
          "text": [
            "INFO:tnet_lf:TransformersVersion:4.21.3\t-->\tCalling Count:0\n"
          ]
        },
        {
          "output_type": "stream",
          "name": "stdout",
          "text": [
            "2022-09-11 14:21:23,140 INFO: auto_device:True\t-->\tCalling Count:1\n"
          ]
        },
        {
          "output_type": "stream",
          "name": "stderr",
          "text": [
            "INFO:tnet_lf:auto_device:True\t-->\tCalling Count:1\n"
          ]
        },
        {
          "output_type": "stream",
          "name": "stdout",
          "text": [
            "2022-09-11 14:21:23,142 INFO: batch_size:64\t-->\tCalling Count:2\n"
          ]
        },
        {
          "output_type": "stream",
          "name": "stderr",
          "text": [
            "INFO:tnet_lf:batch_size:64\t-->\tCalling Count:2\n"
          ]
        },
        {
          "output_type": "stream",
          "name": "stdout",
          "text": [
            "2022-09-11 14:21:23,145 INFO: cache_dataset:True\t-->\tCalling Count:1\n"
          ]
        },
        {
          "output_type": "stream",
          "name": "stderr",
          "text": [
            "INFO:tnet_lf:cache_dataset:True\t-->\tCalling Count:1\n"
          ]
        },
        {
          "output_type": "stream",
          "name": "stdout",
          "text": [
            "2022-09-11 14:21:23,147 INFO: cross_validate_fold:-1\t-->\tCalling Count:1\n"
          ]
        },
        {
          "output_type": "stream",
          "name": "stderr",
          "text": [
            "INFO:tnet_lf:cross_validate_fold:-1\t-->\tCalling Count:1\n"
          ]
        },
        {
          "output_type": "stream",
          "name": "stdout",
          "text": [
            "2022-09-11 14:21:23,149 INFO: dataset_file:{'train': ['integrated_datasets/apc_datasets/110.SemEval/113.laptop14/Laptops_Train.xml.seg', 'integrated_datasets/apc_datasets/110.SemEval/114.restaurant14/Restaurants_Train.xml.seg', 'integrated_datasets/apc_datasets/110.SemEval/116.restaurant16/restaurant_train.raw'], 'test': ['integrated_datasets/apc_datasets/110.SemEval/113.laptop14/Laptops_Test_Gold.xml.seg', 'integrated_datasets/apc_datasets/110.SemEval/114.restaurant14/Restaurants_Test_Gold.xml.seg', 'integrated_datasets/apc_datasets/110.SemEval/116.restaurant16/restaurant_test.raw'], 'valid': []}\t-->\tCalling Count:5\n"
          ]
        },
        {
          "output_type": "stream",
          "name": "stderr",
          "text": [
            "INFO:tnet_lf:dataset_file:{'train': ['integrated_datasets/apc_datasets/110.SemEval/113.laptop14/Laptops_Train.xml.seg', 'integrated_datasets/apc_datasets/110.SemEval/114.restaurant14/Restaurants_Train.xml.seg', 'integrated_datasets/apc_datasets/110.SemEval/116.restaurant16/restaurant_train.raw'], 'test': ['integrated_datasets/apc_datasets/110.SemEval/113.laptop14/Laptops_Test_Gold.xml.seg', 'integrated_datasets/apc_datasets/110.SemEval/114.restaurant14/Restaurants_Test_Gold.xml.seg', 'integrated_datasets/apc_datasets/110.SemEval/116.restaurant16/restaurant_test.raw'], 'valid': []}\t-->\tCalling Count:5\n"
          ]
        },
        {
          "output_type": "stream",
          "name": "stdout",
          "text": [
            "2022-09-11 14:21:23,152 INFO: dataset_name:SemEval\t-->\tCalling Count:9\n"
          ]
        },
        {
          "output_type": "stream",
          "name": "stderr",
          "text": [
            "INFO:tnet_lf:dataset_name:SemEval\t-->\tCalling Count:9\n"
          ]
        },
        {
          "output_type": "stream",
          "name": "stdout",
          "text": [
            "2022-09-11 14:21:23,155 INFO: dca_layer:3\t-->\tCalling Count:0\n"
          ]
        },
        {
          "output_type": "stream",
          "name": "stderr",
          "text": [
            "INFO:tnet_lf:dca_layer:3\t-->\tCalling Count:0\n"
          ]
        },
        {
          "output_type": "stream",
          "name": "stdout",
          "text": [
            "2022-09-11 14:21:23,157 INFO: dca_p:1\t-->\tCalling Count:0\n"
          ]
        },
        {
          "output_type": "stream",
          "name": "stderr",
          "text": [
            "INFO:tnet_lf:dca_p:1\t-->\tCalling Count:0\n"
          ]
        },
        {
          "output_type": "stream",
          "name": "stdout",
          "text": [
            "2022-09-11 14:21:23,159 INFO: deep_ensemble:False\t-->\tCalling Count:1\n"
          ]
        },
        {
          "output_type": "stream",
          "name": "stderr",
          "text": [
            "INFO:tnet_lf:deep_ensemble:False\t-->\tCalling Count:1\n"
          ]
        },
        {
          "output_type": "stream",
          "name": "stdout",
          "text": [
            "2022-09-11 14:21:23,162 INFO: device:cuda:0\t-->\tCalling Count:6\n"
          ]
        },
        {
          "output_type": "stream",
          "name": "stderr",
          "text": [
            "INFO:tnet_lf:device:cuda:0\t-->\tCalling Count:6\n"
          ]
        },
        {
          "output_type": "stream",
          "name": "stdout",
          "text": [
            "2022-09-11 14:21:23,164 INFO: device_name:Tesla T4\t-->\tCalling Count:0\n"
          ]
        },
        {
          "output_type": "stream",
          "name": "stderr",
          "text": [
            "INFO:tnet_lf:device_name:Tesla T4\t-->\tCalling Count:0\n"
          ]
        },
        {
          "output_type": "stream",
          "name": "stdout",
          "text": [
            "2022-09-11 14:21:23,167 INFO: dlcf_a:2\t-->\tCalling Count:0\n"
          ]
        },
        {
          "output_type": "stream",
          "name": "stderr",
          "text": [
            "INFO:tnet_lf:dlcf_a:2\t-->\tCalling Count:0\n"
          ]
        },
        {
          "output_type": "stream",
          "name": "stdout",
          "text": [
            "2022-09-11 14:21:23,169 INFO: dropout:0.1\t-->\tCalling Count:0\n"
          ]
        },
        {
          "output_type": "stream",
          "name": "stderr",
          "text": [
            "INFO:tnet_lf:dropout:0.1\t-->\tCalling Count:0\n"
          ]
        },
        {
          "output_type": "stream",
          "name": "stdout",
          "text": [
            "2022-09-11 14:21:23,172 INFO: dynamic_truncate:True\t-->\tCalling Count:0\n"
          ]
        },
        {
          "output_type": "stream",
          "name": "stderr",
          "text": [
            "INFO:tnet_lf:dynamic_truncate:True\t-->\tCalling Count:0\n"
          ]
        },
        {
          "output_type": "stream",
          "name": "stdout",
          "text": [
            "2022-09-11 14:21:23,174 INFO: embed_dim:300\t-->\tCalling Count:5\n"
          ]
        },
        {
          "output_type": "stream",
          "name": "stderr",
          "text": [
            "INFO:tnet_lf:embed_dim:300\t-->\tCalling Count:5\n"
          ]
        },
        {
          "output_type": "stream",
          "name": "stdout",
          "text": [
            "2022-09-11 14:21:23,177 INFO: eta:-1\t-->\tCalling Count:0\n"
          ]
        },
        {
          "output_type": "stream",
          "name": "stderr",
          "text": [
            "INFO:tnet_lf:eta:-1\t-->\tCalling Count:0\n"
          ]
        },
        {
          "output_type": "stream",
          "name": "stdout",
          "text": [
            "2022-09-11 14:21:23,179 INFO: eta_lr:0.01\t-->\tCalling Count:0\n"
          ]
        },
        {
          "output_type": "stream",
          "name": "stderr",
          "text": [
            "INFO:tnet_lf:eta_lr:0.01\t-->\tCalling Count:0\n"
          ]
        },
        {
          "output_type": "stream",
          "name": "stdout",
          "text": [
            "2022-09-11 14:21:23,182 INFO: evaluate_begin:0\t-->\tCalling Count:0\n"
          ]
        },
        {
          "output_type": "stream",
          "name": "stderr",
          "text": [
            "INFO:tnet_lf:evaluate_begin:0\t-->\tCalling Count:0\n"
          ]
        },
        {
          "output_type": "stream",
          "name": "stdout",
          "text": [
            "2022-09-11 14:21:23,185 INFO: hidden_dim:300\t-->\tCalling Count:3\n"
          ]
        },
        {
          "output_type": "stream",
          "name": "stderr",
          "text": [
            "INFO:tnet_lf:hidden_dim:300\t-->\tCalling Count:3\n"
          ]
        },
        {
          "output_type": "stream",
          "name": "stdout",
          "text": [
            "2022-09-11 14:21:23,187 INFO: hops:3\t-->\tCalling Count:0\n"
          ]
        },
        {
          "output_type": "stream",
          "name": "stderr",
          "text": [
            "INFO:tnet_lf:hops:3\t-->\tCalling Count:0\n"
          ]
        },
        {
          "output_type": "stream",
          "name": "stdout",
          "text": [
            "2022-09-11 14:21:23,190 INFO: index_to_label:{0: 'Negative', 1: 'Neutral', 2: 'Positive'}\t-->\tCalling Count:2\n"
          ]
        },
        {
          "output_type": "stream",
          "name": "stderr",
          "text": [
            "INFO:tnet_lf:index_to_label:{0: 'Negative', 1: 'Neutral', 2: 'Positive'}\t-->\tCalling Count:2\n"
          ]
        },
        {
          "output_type": "stream",
          "name": "stdout",
          "text": [
            "2022-09-11 14:21:23,192 INFO: initializer:xavier_uniform_\t-->\tCalling Count:1\n"
          ]
        },
        {
          "output_type": "stream",
          "name": "stderr",
          "text": [
            "INFO:tnet_lf:initializer:xavier_uniform_\t-->\tCalling Count:1\n"
          ]
        },
        {
          "output_type": "stream",
          "name": "stdout",
          "text": [
            "2022-09-11 14:21:23,195 INFO: inputs_cols:['aspect_boundary', 'aspect_indices', 'left_aspect_boundary', 'left_aspect_indices', 'right_aspect_boundary', 'right_aspect_indices', 'text_indices']\t-->\tCalling Count:90437\n"
          ]
        },
        {
          "output_type": "stream",
          "name": "stderr",
          "text": [
            "INFO:tnet_lf:inputs_cols:['aspect_boundary', 'aspect_indices', 'left_aspect_boundary', 'left_aspect_indices', 'right_aspect_boundary', 'right_aspect_indices', 'text_indices']\t-->\tCalling Count:90437\n"
          ]
        },
        {
          "output_type": "stream",
          "name": "stdout",
          "text": [
            "2022-09-11 14:21:23,198 INFO: l2reg:0.001\t-->\tCalling Count:1\n"
          ]
        },
        {
          "output_type": "stream",
          "name": "stderr",
          "text": [
            "INFO:tnet_lf:l2reg:0.001\t-->\tCalling Count:1\n"
          ]
        },
        {
          "output_type": "stream",
          "name": "stdout",
          "text": [
            "2022-09-11 14:21:23,201 INFO: label_to_index:{'Negative': 0, 'Neutral': 1, 'Positive': 2}\t-->\tCalling Count:0\n"
          ]
        },
        {
          "output_type": "stream",
          "name": "stderr",
          "text": [
            "INFO:tnet_lf:label_to_index:{'Negative': 0, 'Neutral': 1, 'Positive': 2}\t-->\tCalling Count:0\n"
          ]
        },
        {
          "output_type": "stream",
          "name": "stdout",
          "text": [
            "2022-09-11 14:21:23,203 INFO: lcf:cdw\t-->\tCalling Count:0\n"
          ]
        },
        {
          "output_type": "stream",
          "name": "stderr",
          "text": [
            "INFO:tnet_lf:lcf:cdw\t-->\tCalling Count:0\n"
          ]
        },
        {
          "output_type": "stream",
          "name": "stdout",
          "text": [
            "2022-09-11 14:21:23,206 INFO: learning_rate:0.001\t-->\tCalling Count:1\n"
          ]
        },
        {
          "output_type": "stream",
          "name": "stderr",
          "text": [
            "INFO:tnet_lf:learning_rate:0.001\t-->\tCalling Count:1\n"
          ]
        },
        {
          "output_type": "stream",
          "name": "stdout",
          "text": [
            "2022-09-11 14:21:23,208 INFO: log_step:-1\t-->\tCalling Count:0\n"
          ]
        },
        {
          "output_type": "stream",
          "name": "stderr",
          "text": [
            "INFO:tnet_lf:log_step:-1\t-->\tCalling Count:0\n"
          ]
        },
        {
          "output_type": "stream",
          "name": "stdout",
          "text": [
            "2022-09-11 14:21:23,211 INFO: lsa:False\t-->\tCalling Count:3\n"
          ]
        },
        {
          "output_type": "stream",
          "name": "stderr",
          "text": [
            "INFO:tnet_lf:lsa:False\t-->\tCalling Count:3\n"
          ]
        },
        {
          "output_type": "stream",
          "name": "stdout",
          "text": [
            "2022-09-11 14:21:23,214 INFO: max_seq_len:100\t-->\tCalling Count:50244\n"
          ]
        },
        {
          "output_type": "stream",
          "name": "stderr",
          "text": [
            "INFO:tnet_lf:max_seq_len:100\t-->\tCalling Count:50244\n"
          ]
        },
        {
          "output_type": "stream",
          "name": "stdout",
          "text": [
            "2022-09-11 14:21:23,216 INFO: model:<class 'pyabsa.core.apc.classic.__glove__.models.tnet_lf.TNet_LF'>\t-->\tCalling Count:6\n"
          ]
        },
        {
          "output_type": "stream",
          "name": "stderr",
          "text": [
            "INFO:tnet_lf:model:<class 'pyabsa.core.apc.classic.__glove__.models.tnet_lf.TNet_LF'>\t-->\tCalling Count:6\n"
          ]
        },
        {
          "output_type": "stream",
          "name": "stdout",
          "text": [
            "2022-09-11 14:21:23,219 INFO: model_name:tnet_lf\t-->\tCalling Count:2\n"
          ]
        },
        {
          "output_type": "stream",
          "name": "stderr",
          "text": [
            "INFO:tnet_lf:model_name:tnet_lf\t-->\tCalling Count:2\n"
          ]
        },
        {
          "output_type": "stream",
          "name": "stdout",
          "text": [
            "2022-09-11 14:21:23,221 INFO: model_path_to_save:checkpoints\t-->\tCalling Count:0\n"
          ]
        },
        {
          "output_type": "stream",
          "name": "stderr",
          "text": [
            "INFO:tnet_lf:model_path_to_save:checkpoints\t-->\tCalling Count:0\n"
          ]
        },
        {
          "output_type": "stream",
          "name": "stdout",
          "text": [
            "2022-09-11 14:21:23,224 INFO: num_epoch:20\t-->\tCalling Count:0\n"
          ]
        },
        {
          "output_type": "stream",
          "name": "stderr",
          "text": [
            "INFO:tnet_lf:num_epoch:20\t-->\tCalling Count:0\n"
          ]
        },
        {
          "output_type": "stream",
          "name": "stdout",
          "text": [
            "2022-09-11 14:21:23,226 INFO: optimizer:adamw\t-->\tCalling Count:1\n"
          ]
        },
        {
          "output_type": "stream",
          "name": "stderr",
          "text": [
            "INFO:tnet_lf:optimizer:adamw\t-->\tCalling Count:1\n"
          ]
        },
        {
          "output_type": "stream",
          "name": "stdout",
          "text": [
            "2022-09-11 14:21:23,229 INFO: patience:20\t-->\tCalling Count:0\n"
          ]
        },
        {
          "output_type": "stream",
          "name": "stderr",
          "text": [
            "INFO:tnet_lf:patience:20\t-->\tCalling Count:0\n"
          ]
        },
        {
          "output_type": "stream",
          "name": "stdout",
          "text": [
            "2022-09-11 14:21:23,231 INFO: output_dim:3\t-->\tCalling Count:4\n"
          ]
        },
        {
          "output_type": "stream",
          "name": "stderr",
          "text": [
            "INFO:tnet_lf:output_dim:3\t-->\tCalling Count:4\n"
          ]
        },
        {
          "output_type": "stream",
          "name": "stdout",
          "text": [
            "2022-09-11 14:21:23,234 INFO: pretrained_bert:yangheng/deberta-v3-base-absa-v1.1\t-->\tCalling Count:0\n"
          ]
        },
        {
          "output_type": "stream",
          "name": "stderr",
          "text": [
            "INFO:tnet_lf:pretrained_bert:yangheng/deberta-v3-base-absa-v1.1\t-->\tCalling Count:0\n"
          ]
        },
        {
          "output_type": "stream",
          "name": "stdout",
          "text": [
            "2022-09-11 14:21:23,236 INFO: save_mode:1\t-->\tCalling Count:0\n"
          ]
        },
        {
          "output_type": "stream",
          "name": "stderr",
          "text": [
            "INFO:tnet_lf:save_mode:1\t-->\tCalling Count:0\n"
          ]
        },
        {
          "output_type": "stream",
          "name": "stdout",
          "text": [
            "2022-09-11 14:21:23,239 INFO: seed:52\t-->\tCalling Count:7\n"
          ]
        },
        {
          "output_type": "stream",
          "name": "stderr",
          "text": [
            "INFO:tnet_lf:seed:52\t-->\tCalling Count:7\n"
          ]
        },
        {
          "output_type": "stream",
          "name": "stdout",
          "text": [
            "2022-09-11 14:21:23,241 INFO: sigma:0.3\t-->\tCalling Count:0\n"
          ]
        },
        {
          "output_type": "stream",
          "name": "stderr",
          "text": [
            "INFO:tnet_lf:sigma:0.3\t-->\tCalling Count:0\n"
          ]
        },
        {
          "output_type": "stream",
          "name": "stdout",
          "text": [
            "2022-09-11 14:21:23,243 INFO: similarity_threshold:1\t-->\tCalling Count:2\n"
          ]
        },
        {
          "output_type": "stream",
          "name": "stderr",
          "text": [
            "INFO:tnet_lf:similarity_threshold:1\t-->\tCalling Count:2\n"
          ]
        },
        {
          "output_type": "stream",
          "name": "stdout",
          "text": [
            "2022-09-11 14:21:23,246 INFO: spacy_model:en_core_web_sm\t-->\tCalling Count:3\n"
          ]
        },
        {
          "output_type": "stream",
          "name": "stderr",
          "text": [
            "INFO:tnet_lf:spacy_model:en_core_web_sm\t-->\tCalling Count:3\n"
          ]
        },
        {
          "output_type": "stream",
          "name": "stdout",
          "text": [
            "2022-09-11 14:21:23,248 INFO: srd_alignment:True\t-->\tCalling Count:0\n"
          ]
        },
        {
          "output_type": "stream",
          "name": "stderr",
          "text": [
            "INFO:tnet_lf:srd_alignment:True\t-->\tCalling Count:0\n"
          ]
        },
        {
          "output_type": "stream",
          "name": "stdout",
          "text": [
            "2022-09-11 14:21:23,251 INFO: use_amp:False\t-->\tCalling Count:1\n"
          ]
        },
        {
          "output_type": "stream",
          "name": "stderr",
          "text": [
            "INFO:tnet_lf:use_amp:False\t-->\tCalling Count:1\n"
          ]
        },
        {
          "output_type": "stream",
          "name": "stdout",
          "text": [
            "2022-09-11 14:21:23,253 INFO: use_bert_spc:True\t-->\tCalling Count:0\n"
          ]
        },
        {
          "output_type": "stream",
          "name": "stderr",
          "text": [
            "INFO:tnet_lf:use_bert_spc:True\t-->\tCalling Count:0\n"
          ]
        },
        {
          "output_type": "stream",
          "name": "stdout",
          "text": [
            "2022-09-11 14:21:23,256 INFO: use_syntax_based_SRD:False\t-->\tCalling Count:0\n"
          ]
        },
        {
          "output_type": "stream",
          "name": "stderr",
          "text": [
            "INFO:tnet_lf:use_syntax_based_SRD:False\t-->\tCalling Count:0\n"
          ]
        },
        {
          "output_type": "stream",
          "name": "stdout",
          "text": [
            "2022-09-11 14:21:23,258 INFO: warmup_step:-1\t-->\tCalling Count:0\n"
          ]
        },
        {
          "output_type": "stream",
          "name": "stderr",
          "text": [
            "INFO:tnet_lf:warmup_step:-1\t-->\tCalling Count:0\n"
          ]
        },
        {
          "output_type": "stream",
          "name": "stdout",
          "text": [
            "2022-09-11 14:21:23,261 INFO: window:lr\t-->\tCalling Count:0\n"
          ]
        },
        {
          "output_type": "stream",
          "name": "stderr",
          "text": [
            "INFO:tnet_lf:window:lr\t-->\tCalling Count:0\n"
          ]
        },
        {
          "output_type": "stream",
          "name": "stdout",
          "text": [
            "2022-09-11 14:21:23,264 INFO: ***** Running training for Aspect Polarity Classification *****\n"
          ]
        },
        {
          "output_type": "stream",
          "name": "stderr",
          "text": [
            "INFO:tnet_lf:***** Running training for Aspect Polarity Classification *****\n"
          ]
        },
        {
          "output_type": "stream",
          "name": "stdout",
          "text": [
            "2022-09-11 14:21:23,268 INFO: Training set examples = 7676\n"
          ]
        },
        {
          "output_type": "stream",
          "name": "stderr",
          "text": [
            "INFO:tnet_lf:Training set examples = 7676\n"
          ]
        },
        {
          "output_type": "stream",
          "name": "stdout",
          "text": [
            "2022-09-11 14:21:23,272 INFO: Test set examples = 2372\n"
          ]
        },
        {
          "output_type": "stream",
          "name": "stderr",
          "text": [
            "INFO:tnet_lf:Test set examples = 2372\n"
          ]
        },
        {
          "output_type": "stream",
          "name": "stdout",
          "text": [
            "2022-09-11 14:21:23,274 INFO: Total params = 5972168, Trainable params = 3700568, Non-trainable params = 2271600\n"
          ]
        },
        {
          "output_type": "stream",
          "name": "stderr",
          "text": [
            "INFO:tnet_lf:Total params = 5972168, Trainable params = 3700568, Non-trainable params = 2271600\n"
          ]
        },
        {
          "output_type": "stream",
          "name": "stdout",
          "text": [
            "2022-09-11 14:21:23,276 INFO: Batch size = 64\n"
          ]
        },
        {
          "output_type": "stream",
          "name": "stderr",
          "text": [
            "INFO:tnet_lf:Batch size = 64\n"
          ]
        },
        {
          "output_type": "stream",
          "name": "stdout",
          "text": [
            "2022-09-11 14:21:23,279 INFO: Num steps = 20\n"
          ]
        },
        {
          "output_type": "stream",
          "name": "stderr",
          "text": [
            "INFO:tnet_lf:Num steps = 20\n",
            "100%|██████████| 120/120 [00:05<00:00, 20.99it/s, Epoch:0 | Loss:0.5266 | Acc:78.20(max:78.20) | F1:63.72(max:63.72)]\n",
            "100%|██████████| 120/120 [00:05<00:00, 21.65it/s, Epoch:1 | Loss:0.3924 | Acc:78.33(max:78.33) | F1:62.98(max:63.72)]\n",
            "100%|██████████| 120/120 [00:05<00:00, 22.36it/s, Epoch:2 | Loss:0.5312 | Acc:78.75(max:78.75) | F1:68.05(max:68.05)]\n",
            "100%|██████████| 120/120 [00:05<00:00, 21.70it/s, Epoch:3 | Loss:0.6601 | Acc:79.01(max:79.01) | F1:68.69(max:68.69)]\n",
            "100%|██████████| 120/120 [00:05<00:00, 21.85it/s, Epoch:4 | Loss:0.1925 | Acc:78.41(max:79.01) | F1:64.65(max:68.69)]\n",
            "100%|██████████| 120/120 [00:05<00:00, 21.63it/s, Epoch:5 | Loss:0.3767 | Acc:78.92(max:79.01) | F1:67.35(max:68.69)]\n",
            "100%|██████████| 120/120 [00:05<00:00, 21.55it/s, Epoch:6 | Loss:0.1258 | Acc:79.22(max:79.22) | F1:68.13(max:68.69)]\n",
            "100%|██████████| 120/120 [00:05<00:00, 21.93it/s, Epoch:7 | Loss:0.1222 | Acc:76.14(max:79.22) | F1:62.58(max:68.69)]\n",
            "100%|██████████| 120/120 [00:05<00:00, 22.04it/s, Epoch:8 | Loss:0.1889 | Acc:77.61(max:79.22) | F1:66.93(max:68.69)]\n",
            "100%|██████████| 120/120 [00:05<00:00, 22.44it/s, Epoch:9 | Loss:0.0933 | Acc:77.07(max:79.22) | F1:67.37(max:68.69)]\n",
            "100%|██████████| 120/120 [00:05<00:00, 22.26it/s, Epoch:10 | Loss:0.0325 | Acc:77.78(max:79.22) | F1:65.57(max:68.69)]\n",
            "100%|██████████| 120/120 [00:05<00:00, 22.31it/s, Epoch:11 | Loss:0.0229 | Acc:77.11(max:79.22) | F1:65.76(max:68.69)]\n",
            "100%|██████████| 120/120 [00:05<00:00, 22.03it/s, Epoch:12 | Loss:0.0478 | Acc:76.26(max:79.22) | F1:65.53(max:68.69)]\n",
            "100%|██████████| 120/120 [00:05<00:00, 22.32it/s, Epoch:13 | Loss:0.1007 | Acc:77.66(max:79.22) | F1:65.99(max:68.69)]\n",
            "100%|██████████| 120/120 [00:05<00:00, 22.24it/s, Epoch:14 | Loss:0.0186 | Acc:75.67(max:79.22) | F1:65.35(max:68.69)]\n",
            "100%|██████████| 120/120 [00:05<00:00, 22.51it/s, Epoch:15 | Loss:0.0078 | Acc:76.81(max:79.22) | F1:65.30(max:68.69)]\n",
            "100%|██████████| 120/120 [00:05<00:00, 22.51it/s, Epoch:16 | Loss:0.0088 | Acc:76.81(max:79.22) | F1:65.68(max:68.69)]\n",
            "100%|██████████| 120/120 [00:05<00:00, 22.63it/s, Epoch:17 | Loss:0.1869 | Acc:76.22(max:79.22) | F1:64.30(max:68.69)]\n",
            "100%|██████████| 120/120 [00:05<00:00, 22.48it/s, Epoch:18 | Loss:0.1787 | Acc:76.98(max:79.22) | F1:66.26(max:68.69)]\n",
            "100%|██████████| 120/120 [00:05<00:00, 22.23it/s, Epoch:19 | Loss:0.0018 | Acc:77.82(max:79.22) | F1:66.57(max:68.69)]"
          ]
        },
        {
          "output_type": "stream",
          "name": "stdout",
          "text": [
            "2022-09-11 14:23:12,189 INFO:  ------------------------------------- Metric Visualizer ------------------------------------- \n",
            "╒════════════════════════════╤═══════════════════╤════════════════════════════╤═════════════════════════════════════════════════════════════════════════╕\n",
            "│ Metric                     │ Model & Dataset   │ Values (First 10 values)   │ Summary                                                                 │\n",
            "╞════════════════════════════╪═══════════════════╪════════════════════════════╪═════════════════════════════════════════════════════════════════════════╡\n",
            "│ Max-Test-Acc w/o Valid Set │ TNet_LF-SemEval   │ [79.22]                    │ ['Avg:79.22, Median: 79.22, IQR: 0.0, STD:0.0, Max: 79.22, Min: 79.22'] │\n",
            "├────────────────────────────┼───────────────────┼────────────────────────────┼─────────────────────────────────────────────────────────────────────────┤\n",
            "│ Max-Test-F1 w/o Valid Set  │ TNet_LF-SemEval   │ [68.69]                    │ ['Avg:68.69, Median: 68.69, IQR: 0.0, STD:0.0, Max: 68.69, Min: 68.69'] │\n",
            "╘════════════════════════════╧═══════════════════╧════════════════════════════╧═════════════════════════════════════════════════════════════════════════╛\n",
            " -------------------- https://github.com/yangheng95/metric_visualizer --------------------\n",
            "\n"
          ]
        },
        {
          "output_type": "stream",
          "name": "stderr",
          "text": [
            "\n",
            "INFO:tnet_lf: ------------------------------------- Metric Visualizer ------------------------------------- \n",
            "╒════════════════════════════╤═══════════════════╤════════════════════════════╤═════════════════════════════════════════════════════════════════════════╕\n",
            "│ Metric                     │ Model & Dataset   │ Values (First 10 values)   │ Summary                                                                 │\n",
            "╞════════════════════════════╪═══════════════════╪════════════════════════════╪═════════════════════════════════════════════════════════════════════════╡\n",
            "│ Max-Test-Acc w/o Valid Set │ TNet_LF-SemEval   │ [79.22]                    │ ['Avg:79.22, Median: 79.22, IQR: 0.0, STD:0.0, Max: 79.22, Min: 79.22'] │\n",
            "├────────────────────────────┼───────────────────┼────────────────────────────┼─────────────────────────────────────────────────────────────────────────┤\n",
            "│ Max-Test-F1 w/o Valid Set  │ TNet_LF-SemEval   │ [68.69]                    │ ['Avg:68.69, Median: 68.69, IQR: 0.0, STD:0.0, Max: 68.69, Min: 68.69'] │\n",
            "╘════════════════════════════╧═══════════════════╧════════════════════════════╧═════════════════════════════════════════════════════════════════════════╛\n",
            " -------------------- https://github.com/yangheng95/metric_visualizer --------------------\n",
            "\n"
          ]
        },
        {
          "output_type": "stream",
          "name": "stdout",
          "text": [
            "Training finished, we hope you can share your checkpoint with community, please see: https://github.com/yangheng95/PyABSA/blob/release/demos/documents/share-checkpoint.md\n",
            "ABSADatasetsVersion:2022.07.22\t-->\tCalling Count:0\n",
            "MV:<metric_visualizer.metric_visualizer.MetricVisualizer object at 0x7fea699b3790>\t-->\tCalling Count:3\n",
            "PyABSAVersion:1.16.16\t-->\tCalling Count:0\n",
            "SRD:3\t-->\tCalling Count:0\n",
            "TorchVersion:1.12.1+cu113+cuda11.3\t-->\tCalling Count:0\n",
            "TransformersVersion:4.21.3\t-->\tCalling Count:0\n",
            "auto_device:True\t-->\tCalling Count:2401\n",
            "batch_size:64\t-->\tCalling Count:5\n",
            "cache_dataset:True\t-->\tCalling Count:1\n",
            "cross_validate_fold:-1\t-->\tCalling Count:2\n",
            "dataset_file:{'train': ['integrated_datasets/apc_datasets/110.SemEval/113.laptop14/Laptops_Train.xml.seg', 'integrated_datasets/apc_datasets/110.SemEval/114.restaurant14/Restaurants_Train.xml.seg', 'integrated_datasets/apc_datasets/110.SemEval/116.restaurant16/restaurant_train.raw'], 'test': ['integrated_datasets/apc_datasets/110.SemEval/113.laptop14/Laptops_Test_Gold.xml.seg', 'integrated_datasets/apc_datasets/110.SemEval/114.restaurant14/Restaurants_Test_Gold.xml.seg', 'integrated_datasets/apc_datasets/110.SemEval/116.restaurant16/restaurant_test.raw'], 'valid': []}\t-->\tCalling Count:25\n",
            "dataset_name:SemEval\t-->\tCalling Count:15\n",
            "dca_layer:3\t-->\tCalling Count:0\n",
            "dca_p:1\t-->\tCalling Count:0\n",
            "deep_ensemble:False\t-->\tCalling Count:1\n",
            "device:cuda:0\t-->\tCalling Count:31611\n",
            "device_name:Tesla T4\t-->\tCalling Count:0\n",
            "dlcf_a:2\t-->\tCalling Count:0\n",
            "dropout:0.1\t-->\tCalling Count:0\n",
            "dynamic_truncate:True\t-->\tCalling Count:0\n",
            "embed_dim:300\t-->\tCalling Count:5\n",
            "ensemble_mode:cat\t-->\tCalling Count:0\n",
            "eta:-1\t-->\tCalling Count:0\n",
            "eta_lr:0.01\t-->\tCalling Count:0\n",
            "evaluate_begin:0\t-->\tCalling Count:21\n",
            "hidden_dim:300\t-->\tCalling Count:3\n",
            "hops:3\t-->\tCalling Count:0\n",
            "index_to_label:{0: 'Negative', 1: 'Neutral', 2: 'Positive'}\t-->\tCalling Count:2\n",
            "initializer:xavier_uniform_\t-->\tCalling Count:1\n",
            "inputs_cols:['aspect_boundary', 'aspect_indices', 'left_aspect_boundary', 'left_aspect_indices', 'right_aspect_boundary', 'right_aspect_indices', 'text_indices']\t-->\tCalling Count:93597\n",
            "l2reg:0.001\t-->\tCalling Count:1\n",
            "label_to_index:{'Negative': 0, 'Neutral': 1, 'Positive': 2}\t-->\tCalling Count:0\n",
            "lcf:cdw\t-->\tCalling Count:0\n",
            "learning_rate:0.001\t-->\tCalling Count:1\n",
            "log_step:120\t-->\tCalling Count:2402\n",
            "loss:0.021283854404464363\t-->\tCalling Count:0\n",
            "lsa:False\t-->\tCalling Count:3163\n",
            "max_seq_len:100\t-->\tCalling Count:50244\n",
            "max_test_metrics:{'max_apc_test_acc': 0.7921585160202361, 'max_apc_test_f1': 0.6869387234325198}\t-->\tCalling Count:18\n",
            "metrics_of_this_checkpoint:{'acc': 0.7782462057335582, 'f1': 0.6657064708961414}\t-->\tCalling Count:40\n",
            "model:<class 'pyabsa.core.apc.classic.__glove__.models.tnet_lf.TNet_LF'>\t-->\tCalling Count:6\n",
            "model_name:tnet_lf\t-->\tCalling Count:28\n",
            "model_path_to_save:checkpoints\t-->\tCalling Count:16\n",
            "num_epoch:20\t-->\tCalling Count:2\n",
            "optimizer:adamw\t-->\tCalling Count:1\n",
            "patience:20\t-->\tCalling Count:9\n",
            "output_dim:3\t-->\tCalling Count:24\n",
            "pretrained_bert:yangheng/deberta-v3-base-absa-v1.1\t-->\tCalling Count:0\n",
            "save_mode:1\t-->\tCalling Count:10\n",
            "seed:52\t-->\tCalling Count:7\n",
            "sigma:0.3\t-->\tCalling Count:0\n",
            "similarity_threshold:1\t-->\tCalling Count:2\n",
            "spacy_model:en_core_web_sm\t-->\tCalling Count:3\n",
            "srd_alignment:True\t-->\tCalling Count:0\n",
            "use_amp:False\t-->\tCalling Count:1\n",
            "use_bert_spc:True\t-->\tCalling Count:0\n",
            "use_syntax_based_SRD:False\t-->\tCalling Count:0\n",
            "warmup_step:-1\t-->\tCalling Count:2401\n",
            "window:lr\t-->\tCalling Count:0\n"
          ]
        },
        {
          "output_type": "stream",
          "name": "stderr",
          "text": [
            "/usr/local/lib/python3.7/dist-packages/pyabsa/functional/trainer/trainer.py:171: ResourceWarning: unclosed file <_io.TextIOWrapper name='/content/logs/tnet_lf_20220911 131704/training.log' mode='a' encoding='utf8'>\n",
            "  self.logger.removeHandler(self.logger.handlers[0])\n",
            "ResourceWarning: Enable tracemalloc to get the object allocation traceback\n"
          ]
        },
        {
          "output_type": "stream",
          "name": "stdout",
          "text": [
            "Load sentiment classifier from checkpoints/tnet_lf_SemEval_acc_79.22_f1_68.13/\n",
            "config: checkpoints/tnet_lf_SemEval_acc_79.22_f1_68.13/tnet_lf.config\n",
            "state_dict: checkpoints/tnet_lf_SemEval_acc_79.22_f1_68.13/tnet_lf.state_dict\n",
            "model: None\n",
            "tokenizer: checkpoints/tnet_lf_SemEval_acc_79.22_f1_68.13/tnet_lf.tokenizer\n",
            "Loading tokenizer on run/SemEval/SemEval_tokenizer.dat\n",
            "\u001b[32mLoading cached embedding_matrix from run/SemEval/300_SemEval_embedding_matrix.dat (Please remove all cached files if there is any problem!)\u001b[0m\n",
            "\u001b[31mCaching dataset... please remove cached dataset if any problem happens.\u001b[0m\n",
            "Loading tokenizer on run/SemEval/SemEval_tokenizer.dat\n",
            "Config used in Training:\n",
            "ABSADatasetsVersion:2022.07.22\t-->\tCalling Count:0\n",
            "MV:<metric_visualizer.metric_visualizer.MetricVisualizer object at 0x7fea37171a10>\t-->\tCalling Count:0\n",
            "PyABSAVersion:1.16.16\t-->\tCalling Count:0\n",
            "SRD:3\t-->\tCalling Count:0\n",
            "TorchVersion:1.12.1+cu113+cuda11.3\t-->\tCalling Count:0\n",
            "TransformersVersion:4.21.3\t-->\tCalling Count:0\n",
            "auto_device:True\t-->\tCalling Count:841\n",
            "batch_size:64\t-->\tCalling Count:5\n",
            "cache_dataset:True\t-->\tCalling Count:2\n",
            "cross_validate_fold:-1\t-->\tCalling Count:2\n",
            "dataset_file:{'train': ['integrated_datasets/apc_datasets/110.SemEval/113.laptop14/Laptops_Train.xml.seg', 'integrated_datasets/apc_datasets/110.SemEval/114.restaurant14/Restaurants_Train.xml.seg', 'integrated_datasets/apc_datasets/110.SemEval/116.restaurant16/restaurant_train.raw'], 'test': ['integrated_datasets/apc_datasets/110.SemEval/113.laptop14/Laptops_Test_Gold.xml.seg', 'integrated_datasets/apc_datasets/110.SemEval/114.restaurant14/Restaurants_Test_Gold.xml.seg', 'integrated_datasets/apc_datasets/110.SemEval/116.restaurant16/restaurant_test.raw'], 'valid': []}\t-->\tCalling Count:14\n",
            "dataset_name:SemEval\t-->\tCalling Count:22\n",
            "dca_layer:3\t-->\tCalling Count:0\n",
            "dca_p:1\t-->\tCalling Count:0\n",
            "deep_ensemble:False\t-->\tCalling Count:2\n",
            "device:cuda:0\t-->\tCalling Count:11070\n",
            "device_name:Tesla T4\t-->\tCalling Count:0\n",
            "dlcf_a:2\t-->\tCalling Count:0\n",
            "dropout:0.1\t-->\tCalling Count:0\n",
            "dynamic_truncate:True\t-->\tCalling Count:0\n",
            "embed_dim:300\t-->\tCalling Count:10\n",
            "ensemble_mode:cat\t-->\tCalling Count:0\n",
            "eta:-1\t-->\tCalling Count:0\n",
            "eta_lr:0.01\t-->\tCalling Count:0\n",
            "evaluate_begin:0\t-->\tCalling Count:8\n",
            "hidden_dim:300\t-->\tCalling Count:6\n",
            "hops:3\t-->\tCalling Count:0\n",
            "index_to_label:{0: 'Negative', 1: 'Neutral', 2: 'Positive'}\t-->\tCalling Count:2\n",
            "initializer:xavier_uniform_\t-->\tCalling Count:1\n",
            "inputs_cols:['aspect_boundary', 'aspect_indices', 'left_aspect_boundary', 'left_aspect_indices', 'right_aspect_boundary', 'right_aspect_indices', 'text_indices']\t-->\tCalling Count:91546\n",
            "l2reg:0.001\t-->\tCalling Count:1\n",
            "label_to_index:{'Negative': 0, 'Neutral': 1, 'Positive': 2}\t-->\tCalling Count:0\n",
            "lcf:cdw\t-->\tCalling Count:0\n",
            "learning_rate:0.001\t-->\tCalling Count:1\n",
            "log_step:120\t-->\tCalling Count:842\n",
            "lsa:False\t-->\tCalling Count:1112\n",
            "max_seq_len:100\t-->\tCalling Count:50247\n",
            "max_test_metrics:{'max_apc_test_acc': 0.7921585160202361, 'max_apc_test_f1': 0.6869387234325198}\t-->\tCalling Count:18\n",
            "metrics_of_this_checkpoint:{'acc': 0.7921585160202361, 'f1': 0.6813436633035517}\t-->\tCalling Count:14\n",
            "model:<class 'pyabsa.core.apc.classic.__glove__.models.tnet_lf.TNet_LF'>\t-->\tCalling Count:10\n",
            "model_name:tnet_lf\t-->\tCalling Count:27\n",
            "model_path_to_save:checkpoints\t-->\tCalling Count:16\n",
            "num_epoch:20\t-->\tCalling Count:2\n",
            "optimizer:adamw\t-->\tCalling Count:1\n",
            "patience:20\t-->\tCalling Count:9\n",
            "output_dim:3\t-->\tCalling Count:15\n",
            "pretrained_bert:yangheng/deberta-v3-base-absa-v1.1\t-->\tCalling Count:0\n",
            "save_mode:1\t-->\tCalling Count:9\n",
            "seed:52\t-->\tCalling Count:7\n",
            "sigma:0.3\t-->\tCalling Count:0\n",
            "similarity_threshold:1\t-->\tCalling Count:2\n",
            "spacy_model:en_core_web_sm\t-->\tCalling Count:3\n",
            "srd_alignment:True\t-->\tCalling Count:0\n",
            "use_amp:False\t-->\tCalling Count:1\n",
            "use_bert_spc:True\t-->\tCalling Count:0\n",
            "use_syntax_based_SRD:False\t-->\tCalling Count:0\n",
            "warmup_step:-1\t-->\tCalling Count:841\n",
            "window:lr\t-->\tCalling Count:0\n"
          ]
        },
        {
          "output_type": "stream",
          "name": "stderr",
          "text": [
            "/usr/local/lib/python3.7/dist-packages/pyabsa/core/apc/classic/__glove__/dataset_utils/data_utils_for_training.py:29: ResourceWarning: unclosed file <_io.BufferedReader name='run/SemEval/SemEval_tokenizer.dat'>\n",
            "  tokenizer = pickle.load(open(tokenizer_path, 'rb'))\n",
            "ResourceWarning: Enable tracemalloc to get the object allocation traceback\n",
            "/usr/local/lib/python3.7/dist-packages/pyabsa/utils/pyabsa_utils.py:224: ResourceWarning: unclosed file <_io.BufferedReader name='run/SemEval/300_SemEval_embedding_matrix.dat'>\n",
            "  embedding_matrix = pickle.load(open(embed_matrix_path, 'rb'))\n",
            "ResourceWarning: Enable tracemalloc to get the object allocation traceback\n"
          ]
        }
      ]
    },
    {
      "cell_type": "markdown",
      "source": [
        "## BERT baseline model training"
      ],
      "metadata": {
        "id": "_FM7iiKxWxZ_"
      }
    },
    {
      "cell_type": "code",
      "source": [
        "\n",
        "\n",
        "from pyabsa import APCTrainer, APCConfigManager, BERTBaselineAPCModelList, ABSADatasetList\n",
        "\n",
        "apc_config_english = APCConfigManager.get_apc_config_bert_baseline()\n",
        "apc_config_english.model = BERTBaselineAPCModelList.ASGCN_BERT\n",
        "apc_config_english.num_epoch = 10\n",
        "apc_config_english.evaluate_begin = 2\n",
        "apc_config_english.max_seq_len = 100\n",
        "apc_config_english.dropout = 0.5\n",
        "apc_config_english.log_step = 5\n",
        "apc_config_english.l2reg = 0.0005\n",
        "apc_config_english.seed = 1\n",
        "apc_config_english.use_syntax_based_SRD = True\n",
        "apc_config_english.similarity_threshold = 1\n",
        "apc_config_english.cross_validate_fold = -1  # disable cross_validate\n",
        "\n",
        "laptop14 = ABSADatasetList.Laptop14\n",
        "sent_classifier = APCTrainer(config=apc_config_english,\n",
        "                 dataset=laptop14,  # train set and test set will be automatically detected\n",
        "                 checkpoint_save_mode=1,  # None to avoid save model\n",
        "                 auto_device=True  # automatic choose CUDA or CPU\n",
        "                 ).train()"
      ],
      "metadata": {
        "id": "ePjUGvZfW0Rl"
      },
      "execution_count": null,
      "outputs": []
    },
    {
      "cell_type": "markdown",
      "source": [
        "# Deplyment Example"
      ],
      "metadata": {
        "id": "iPExa17gbJ_S"
      }
    },
    {
      "cell_type": "code",
      "source": [],
      "metadata": {
        "id": "mWnSDYsSbMYj"
      },
      "execution_count": null,
      "outputs": []
    }
  ]
}